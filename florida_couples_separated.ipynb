{
 "cells": [
  {
   "cell_type": "code",
   "execution_count": 127,
   "metadata": {},
   "outputs": [],
   "source": [
    "import pandas as pd\n",
    "import random\n",
    "import numpy as np\n",
    "import time\n",
    "import math\n",
    "import sys\n",
    "import matplotlib.patches as mpatches\n",
    "import matplotlib.pyplot as plt\n",
    "import seaborn as sns\n",
    "import xgboost as xgb\n",
    "import datatable as dt\n",
    "\n",
    "from xgboost import plot_tree\n",
    "from os import walk\n",
    "from os import listdir\n",
    "from os.path import isfile, join\n",
    "from scipy.spatial.distance import euclidean, pdist, squareform\n",
    "from scipy.stats import skew\n",
    "from scipy.special import expit as sigmoid\n",
    "from scipy.cluster.hierarchy import fclusterdata\n",
    "from pandas.plotting import autocorrelation_plot\n",
    "from sklearn.model_selection import train_test_split\n",
    "from sklearn.linear_model import LogisticRegression\n",
    "from sklearn.linear_model import LinearRegression\n",
    "from sklearn.ensemble import RandomForestClassifier\n",
    "from sklearn import tree\n",
    "from sklearn.metrics import precision_recall_fscore_support\n",
    "from sklearn import preprocessing\n",
    "from sklearn.metrics import confusion_matrix\n",
    "from sklearn.metrics import roc_auc_score\n",
    "from sklearn.utils import resample\n",
    "from imblearn.over_sampling import SMOTE, ADASYN\n",
    "from imblearn.under_sampling import ClusterCentroids\n",
    "from imblearn.under_sampling import RandomUnderSampler\n",
    "from sklearn.preprocessing import LabelEncoder\n",
    "from sklearn.metrics import pairwise_distances\n",
    "from sklearn.cluster import AgglomerativeClustering\n",
    "from sklearn.manifold import TSNE\n",
    "from sklearn.metrics import mean_absolute_error\n",
    "from sklearn.metrics import mean_squared_error"
   ]
  },
  {
   "cell_type": "code",
   "execution_count": 202,
   "metadata": {},
   "outputs": [],
   "source": [
    "DATA_PATH = ''\n",
    "#HISTORY_PATH = \"Voter_History_{0}\"\n",
    "PREPROCESSED_PATH = \"preprocessed/{0}/florida_processed_{0}.csv\"\n",
    "COUPLES_PATH=\"couples/{0}/couples_{0}.csv\"\n",
    "#COUPLES_PATH=\"couples/{0}/couples_FLA_{0}.csv\""
   ]
  },
  {
   "cell_type": "code",
   "execution_count": 203,
   "metadata": {},
   "outputs": [
    {
     "name": "stderr",
     "output_type": "stream",
     "text": [
      "usage: ipykernel_launcher.py [-h] [--old OLD_DATE] [--new NEW_DATE]\n",
      "ipykernel_launcher.py: error: unrecognized arguments: -f /home/rahullachh/.local/share/jupyter/runtime/kernel-e00808f8-be07-4534-bb04-288c132e4ea8.json\n"
     ]
    },
    {
     "ename": "SystemExit",
     "evalue": "2",
     "output_type": "error",
     "traceback": [
      "An exception has occurred, use %tb to see the full traceback.\n",
      "\u001b[0;31mSystemExit\u001b[0m\u001b[0;31m:\u001b[0m 2\n"
     ]
    }
   ],
   "source": [
    "import argparse\n",
    "\n",
    "parser = argparse.ArgumentParser()\n",
    "\n",
    "parser.add_argument('--old', dest='old_date', action='store', type=str, help='old date value')\n",
    "parser.add_argument('--new', dest='new_date', action='store', type=str, help='new date value')\n",
    "\n",
    "args = parser.parse_args()"
   ]
  },
  {
   "cell_type": "code",
   "execution_count": 204,
   "metadata": {},
   "outputs": [],
   "source": [
    "#preprocessed_date = args.new_date\n",
    "preprocessed_date = str(20190910)"
   ]
  },
  {
   "cell_type": "code",
   "execution_count": 205,
   "metadata": {},
   "outputs": [],
   "source": [
    "#couples_date = args.old_date\n",
    "couples_date = str(20180313)"
   ]
  },
  {
   "cell_type": "code",
   "execution_count": 206,
   "metadata": {},
   "outputs": [],
   "source": [
    "image_file_prefix = couples_date + \"_\" + preprocessed_date\n",
    "stat_file_prefix =  couples_date + \"_\" + preprocessed_date\n",
    "\n",
    "import os\n",
    "if not os.path.exists(\"plots/\" + image_file_prefix):\n",
    "    os.makedirs(\"plots/\" + image_file_prefix)\n",
    "\n",
    "if not os.path.exists(\"stats/\" + stat_file_prefix):\n",
    "    os.makedirs(\"stats/\" + stat_file_prefix)\n",
    "    \n",
    "stat_file_path = \"stats/\" + stat_file_prefix + \"/\""
   ]
  },
  {
   "cell_type": "code",
   "execution_count": 207,
   "metadata": {},
   "outputs": [
    {
     "name": "stderr",
     "output_type": "stream",
     "text": [
      "/home/rahullachh/anaconda3/lib/python3.7/site-packages/IPython/core/interactiveshell.py:3058: DtypeWarning: Columns (13) have mixed types. Specify dtype option on import or set low_memory=False.\n",
      "  interactivity=interactivity, compiler=compiler, result=result)\n"
     ]
    }
   ],
   "source": [
    "global_df = pd.read_csv(PREPROCESSED_PATH.format(preprocessed_date) , sep='\\t')"
   ]
  },
  {
   "cell_type": "code",
   "execution_count": 208,
   "metadata": {},
   "outputs": [],
   "source": [
    "#global_df.residence_zipcode_5.unique().shape\n",
    "zip_df = pd.read_csv(\"us-zipcode.csv\" , sep=';')"
   ]
  },
  {
   "cell_type": "code",
   "execution_count": 209,
   "metadata": {},
   "outputs": [],
   "source": [
    "#zip_df.head()"
   ]
  },
  {
   "cell_type": "code",
   "execution_count": 210,
   "metadata": {},
   "outputs": [
    {
     "data": {
      "text/html": [
       "<div>\n",
       "<style scoped>\n",
       "    .dataframe tbody tr th:only-of-type {\n",
       "        vertical-align: middle;\n",
       "    }\n",
       "\n",
       "    .dataframe tbody tr th {\n",
       "        vertical-align: top;\n",
       "    }\n",
       "\n",
       "    .dataframe thead th {\n",
       "        text-align: right;\n",
       "    }\n",
       "</style>\n",
       "<table border=\"1\" class=\"dataframe\">\n",
       "  <thead>\n",
       "    <tr style=\"text-align: right;\">\n",
       "      <th></th>\n",
       "      <th>county_code</th>\n",
       "      <th>voter_id</th>\n",
       "      <th>last_name</th>\n",
       "      <th>first_name</th>\n",
       "      <th>residence_addr_line_1</th>\n",
       "      <th>residence_addr_line_2</th>\n",
       "      <th>residence_city</th>\n",
       "      <th>residence_zipcode</th>\n",
       "      <th>gender</th>\n",
       "      <th>race</th>\n",
       "      <th>birth_date</th>\n",
       "      <th>registration_date</th>\n",
       "      <th>party_affiliation</th>\n",
       "      <th>precinct</th>\n",
       "      <th>voter_status</th>\n",
       "      <th>age</th>\n",
       "      <th>residence_zipcode_5</th>\n",
       "      <th>residence_zipcode_4</th>\n",
       "      <th>uniq_addr</th>\n",
       "    </tr>\n",
       "  </thead>\n",
       "  <tbody>\n",
       "    <tr>\n",
       "      <td>0</td>\n",
       "      <td>ALA</td>\n",
       "      <td>100419592</td>\n",
       "      <td>martin</td>\n",
       "      <td>william</td>\n",
       "      <td>3814  nw 266th st</td>\n",
       "      <td>NaN</td>\n",
       "      <td>newberry</td>\n",
       "      <td>32669</td>\n",
       "      <td>M</td>\n",
       "      <td>5</td>\n",
       "      <td>03/03/1972</td>\n",
       "      <td>03/19/1990</td>\n",
       "      <td>REP</td>\n",
       "      <td>6</td>\n",
       "      <td>ACT</td>\n",
       "      <td>47</td>\n",
       "      <td>32669</td>\n",
       "      <td>NaN</td>\n",
       "      <td>3814  nw 266th st  newberry 32669</td>\n",
       "    </tr>\n",
       "    <tr>\n",
       "      <td>1</td>\n",
       "      <td>ALA</td>\n",
       "      <td>102146497</td>\n",
       "      <td>whitney</td>\n",
       "      <td>clinton</td>\n",
       "      <td>14116  se 202nd ter</td>\n",
       "      <td>NaN</td>\n",
       "      <td>hawthorne</td>\n",
       "      <td>32640</td>\n",
       "      <td>M</td>\n",
       "      <td>5</td>\n",
       "      <td>06/25/1981</td>\n",
       "      <td>03/08/2001</td>\n",
       "      <td>NPA</td>\n",
       "      <td>8</td>\n",
       "      <td>ACT</td>\n",
       "      <td>38</td>\n",
       "      <td>32640</td>\n",
       "      <td>NaN</td>\n",
       "      <td>14116  se 202nd ter  hawthorne 32640</td>\n",
       "    </tr>\n",
       "    <tr>\n",
       "      <td>2</td>\n",
       "      <td>ALA</td>\n",
       "      <td>102183223</td>\n",
       "      <td>mulaiya</td>\n",
       "      <td>doodnauth</td>\n",
       "      <td>2296  nw 147th st</td>\n",
       "      <td>NaN</td>\n",
       "      <td>newberry</td>\n",
       "      <td>32669</td>\n",
       "      <td>M</td>\n",
       "      <td>2</td>\n",
       "      <td>06/01/1941</td>\n",
       "      <td>11/01/2001</td>\n",
       "      <td>DEM</td>\n",
       "      <td>49</td>\n",
       "      <td>ACT</td>\n",
       "      <td>78</td>\n",
       "      <td>32669</td>\n",
       "      <td>NaN</td>\n",
       "      <td>2296  nw 147th st  newberry 32669</td>\n",
       "    </tr>\n",
       "    <tr>\n",
       "      <td>3</td>\n",
       "      <td>ALA</td>\n",
       "      <td>102097818</td>\n",
       "      <td>thalmann</td>\n",
       "      <td>michael</td>\n",
       "      <td>28524  n county road 1491</td>\n",
       "      <td>NaN</td>\n",
       "      <td>alachua</td>\n",
       "      <td>32615</td>\n",
       "      <td>M</td>\n",
       "      <td>5</td>\n",
       "      <td>11/26/1971</td>\n",
       "      <td>09/18/2000</td>\n",
       "      <td>REP</td>\n",
       "      <td>53</td>\n",
       "      <td>ACT</td>\n",
       "      <td>47</td>\n",
       "      <td>32615</td>\n",
       "      <td>NaN</td>\n",
       "      <td>28524  n county road 1491  alachua 32615</td>\n",
       "    </tr>\n",
       "    <tr>\n",
       "      <td>4</td>\n",
       "      <td>ALA</td>\n",
       "      <td>102078033</td>\n",
       "      <td>wack</td>\n",
       "      <td>angela</td>\n",
       "      <td>1214  nw 89th ter</td>\n",
       "      <td>NaN</td>\n",
       "      <td>gainesville</td>\n",
       "      <td>32606</td>\n",
       "      <td>F</td>\n",
       "      <td>5</td>\n",
       "      <td>05/04/1978</td>\n",
       "      <td>07/03/2000</td>\n",
       "      <td>DEM</td>\n",
       "      <td>56</td>\n",
       "      <td>ACT</td>\n",
       "      <td>41</td>\n",
       "      <td>32606</td>\n",
       "      <td>NaN</td>\n",
       "      <td>1214  nw 89th ter  gainesville 32606</td>\n",
       "    </tr>\n",
       "  </tbody>\n",
       "</table>\n",
       "</div>"
      ],
      "text/plain": [
       "  county_code   voter_id last_name first_name      residence_addr_line_1  \\\n",
       "0         ALA  100419592    martin    william          3814  nw 266th st   \n",
       "1         ALA  102146497   whitney    clinton        14116  se 202nd ter   \n",
       "2         ALA  102183223   mulaiya  doodnauth          2296  nw 147th st   \n",
       "3         ALA  102097818  thalmann    michael  28524  n county road 1491   \n",
       "4         ALA  102078033      wack     angela          1214  nw 89th ter   \n",
       "\n",
       "  residence_addr_line_2 residence_city  residence_zipcode gender  race  \\\n",
       "0                   NaN       newberry              32669      M     5   \n",
       "1                   NaN      hawthorne              32640      M     5   \n",
       "2                   NaN       newberry              32669      M     2   \n",
       "3                   NaN        alachua              32615      M     5   \n",
       "4                   NaN    gainesville              32606      F     5   \n",
       "\n",
       "   birth_date registration_date party_affiliation precinct voter_status  age  \\\n",
       "0  03/03/1972        03/19/1990               REP        6          ACT   47   \n",
       "1  06/25/1981        03/08/2001               NPA        8          ACT   38   \n",
       "2  06/01/1941        11/01/2001               DEM       49          ACT   78   \n",
       "3  11/26/1971        09/18/2000               REP       53          ACT   47   \n",
       "4  05/04/1978        07/03/2000               DEM       56          ACT   41   \n",
       "\n",
       "   residence_zipcode_5  residence_zipcode_4  \\\n",
       "0                32669                  NaN   \n",
       "1                32640                  NaN   \n",
       "2                32669                  NaN   \n",
       "3                32615                  NaN   \n",
       "4                32606                  NaN   \n",
       "\n",
       "                                  uniq_addr  \n",
       "0         3814  nw 266th st  newberry 32669  \n",
       "1      14116  se 202nd ter  hawthorne 32640  \n",
       "2         2296  nw 147th st  newberry 32669  \n",
       "3  28524  n county road 1491  alachua 32615  \n",
       "4      1214  nw 89th ter  gainesville 32606  "
      ]
     },
     "execution_count": 210,
     "metadata": {},
     "output_type": "execute_result"
    }
   ],
   "source": [
    "global_df.head()"
   ]
  },
  {
   "cell_type": "code",
   "execution_count": 211,
   "metadata": {},
   "outputs": [],
   "source": [
    "#zip_df_ = zip_df[['Zip','Latitude','Longitude','geopoint']]\n",
    "#global_df = pd.merge(global_df, zip_df_, left_on=[\"residence_zipcode\"], right_on=[\"Zip\"])"
   ]
  },
  {
   "cell_type": "code",
   "execution_count": 212,
   "metadata": {},
   "outputs": [],
   "source": [
    "req_cols = ['last_name', 'race', 'first_name']\n",
    "global_df = global_df.dropna(subset=req_cols)"
   ]
  },
  {
   "cell_type": "code",
   "execution_count": 213,
   "metadata": {},
   "outputs": [
    {
     "data": {
      "text/plain": [
       "county_code                     0\n",
       "voter_id                        0\n",
       "last_name                       0\n",
       "first_name                      0\n",
       "residence_addr_line_1           0\n",
       "residence_addr_line_2    11496956\n",
       "residence_city                  0\n",
       "residence_zipcode               0\n",
       "gender                          0\n",
       "race                            0\n",
       "birth_date                      0\n",
       "registration_date               0\n",
       "party_affiliation               0\n",
       "precinct                        0\n",
       "voter_status                    0\n",
       "age                             0\n",
       "residence_zipcode_5             0\n",
       "residence_zipcode_4      12037566\n",
       "uniq_addr                       0\n",
       "dtype: int64"
      ]
     },
     "execution_count": 213,
     "metadata": {},
     "output_type": "execute_result"
    }
   ],
   "source": [
    "global_df.isnull().sum()"
   ]
  },
  {
   "cell_type": "code",
   "execution_count": 214,
   "metadata": {},
   "outputs": [
    {
     "data": {
      "text/plain": [
       "(14125318, 19)"
      ]
     },
     "execution_count": 214,
     "metadata": {},
     "output_type": "execute_result"
    }
   ],
   "source": [
    "global_df.shape"
   ]
  },
  {
   "cell_type": "code",
   "execution_count": 215,
   "metadata": {},
   "outputs": [],
   "source": [
    "# import pandas as pd\n",
    "# import glob\n",
    "\n",
    "# path = 'couples/20170307' # use your path\n",
    "# all_files = glob.glob(path + \"/*.csv\")\n",
    "\n",
    "# all_files.remove('couples/20170307/couples_POL_20170307.csv')\n",
    "# li = []\n",
    "\n",
    "# print(all_files)\n",
    "\n",
    "# for filename in all_files:\n",
    "#     print('Starting' + filename)\n",
    "#     df = pd.read_csv(filename, sep = '\\t' )\n",
    "#     li.append(df)"
   ]
  },
  {
   "cell_type": "code",
   "execution_count": 216,
   "metadata": {},
   "outputs": [],
   "source": [
    "# couples_df = pd.concat(li, axis=0, ignore_index=True)"
   ]
  },
  {
   "cell_type": "code",
   "execution_count": 217,
   "metadata": {},
   "outputs": [],
   "source": [
    "# couples_df.head()"
   ]
  },
  {
   "cell_type": "code",
   "execution_count": 218,
   "metadata": {},
   "outputs": [
    {
     "name": "stderr",
     "output_type": "stream",
     "text": [
      "/home/rahullachh/anaconda3/lib/python3.7/site-packages/IPython/core/interactiveshell.py:3058: DtypeWarning: Columns (13,32) have mixed types. Specify dtype option on import or set low_memory=False.\n",
      "  interactivity=interactivity, compiler=compiler, result=result)\n"
     ]
    }
   ],
   "source": [
    "couples_df = pd.read_csv(COUPLES_PATH.format(couples_date) , sep='\\t')"
   ]
  },
  {
   "cell_type": "code",
   "execution_count": 219,
   "metadata": {},
   "outputs": [
    {
     "data": {
      "text/html": [
       "<div>\n",
       "<style scoped>\n",
       "    .dataframe tbody tr th:only-of-type {\n",
       "        vertical-align: middle;\n",
       "    }\n",
       "\n",
       "    .dataframe tbody tr th {\n",
       "        vertical-align: top;\n",
       "    }\n",
       "\n",
       "    .dataframe thead th {\n",
       "        text-align: right;\n",
       "    }\n",
       "</style>\n",
       "<table border=\"1\" class=\"dataframe\">\n",
       "  <thead>\n",
       "    <tr style=\"text-align: right;\">\n",
       "      <th></th>\n",
       "      <th>county_code_L</th>\n",
       "      <th>voter_id_L</th>\n",
       "      <th>last_name_L</th>\n",
       "      <th>first_name_L</th>\n",
       "      <th>residence_addr_line_1_L</th>\n",
       "      <th>residence_addr_line_2_L</th>\n",
       "      <th>residence_city_L</th>\n",
       "      <th>residence_zipcode_L</th>\n",
       "      <th>gender_L</th>\n",
       "      <th>race_L</th>\n",
       "      <th>...</th>\n",
       "      <th>race_R</th>\n",
       "      <th>birth_date_R</th>\n",
       "      <th>registration_date_R</th>\n",
       "      <th>party_affiliation_R</th>\n",
       "      <th>precinct_R</th>\n",
       "      <th>voter_status_R</th>\n",
       "      <th>age_R</th>\n",
       "      <th>residence_zipcode_5_R</th>\n",
       "      <th>residence_zipcode_4_R</th>\n",
       "      <th>age_diff</th>\n",
       "    </tr>\n",
       "  </thead>\n",
       "  <tbody>\n",
       "    <tr>\n",
       "      <td>0</td>\n",
       "      <td>ALA</td>\n",
       "      <td>100401816</td>\n",
       "      <td>andrews</td>\n",
       "      <td>barbara</td>\n",
       "      <td>1440  se 24th pl</td>\n",
       "      <td>NaN</td>\n",
       "      <td>gainesville</td>\n",
       "      <td>326418708</td>\n",
       "      <td>F</td>\n",
       "      <td>3</td>\n",
       "      <td>...</td>\n",
       "      <td>3</td>\n",
       "      <td>07/28/1951</td>\n",
       "      <td>07/03/1982</td>\n",
       "      <td>DEM</td>\n",
       "      <td>28</td>\n",
       "      <td>ACT</td>\n",
       "      <td>66</td>\n",
       "      <td>32641</td>\n",
       "      <td>8708.0</td>\n",
       "      <td>0</td>\n",
       "    </tr>\n",
       "    <tr>\n",
       "      <td>1</td>\n",
       "      <td>ALA</td>\n",
       "      <td>100487261</td>\n",
       "      <td>degennaro</td>\n",
       "      <td>george</td>\n",
       "      <td>27   office pct</td>\n",
       "      <td>NaN</td>\n",
       "      <td>gainesville</td>\n",
       "      <td>32601</td>\n",
       "      <td>M</td>\n",
       "      <td>5</td>\n",
       "      <td>...</td>\n",
       "      <td>5</td>\n",
       "      <td>10/15/1977</td>\n",
       "      <td>09/13/2000</td>\n",
       "      <td>DEM</td>\n",
       "      <td>27</td>\n",
       "      <td>ACT</td>\n",
       "      <td>40</td>\n",
       "      <td>32601</td>\n",
       "      <td>NaN</td>\n",
       "      <td>0</td>\n",
       "    </tr>\n",
       "    <tr>\n",
       "      <td>2</td>\n",
       "      <td>ALA</td>\n",
       "      <td>100387876</td>\n",
       "      <td>frentzen</td>\n",
       "      <td>barbara</td>\n",
       "      <td>6812  nw 85th ter</td>\n",
       "      <td>NaN</td>\n",
       "      <td>gainesville</td>\n",
       "      <td>326532966</td>\n",
       "      <td>F</td>\n",
       "      <td>5</td>\n",
       "      <td>...</td>\n",
       "      <td>5</td>\n",
       "      <td>08/19/1945</td>\n",
       "      <td>10/19/1973</td>\n",
       "      <td>DEM</td>\n",
       "      <td>45</td>\n",
       "      <td>ACT</td>\n",
       "      <td>72</td>\n",
       "      <td>32653</td>\n",
       "      <td>2966.0</td>\n",
       "      <td>0</td>\n",
       "    </tr>\n",
       "    <tr>\n",
       "      <td>3</td>\n",
       "      <td>ALA</td>\n",
       "      <td>100393784</td>\n",
       "      <td>pring</td>\n",
       "      <td>bette</td>\n",
       "      <td>5519  sw 97th ter</td>\n",
       "      <td>NaN</td>\n",
       "      <td>gainesville</td>\n",
       "      <td>326084351</td>\n",
       "      <td>F</td>\n",
       "      <td>5</td>\n",
       "      <td>...</td>\n",
       "      <td>5</td>\n",
       "      <td>06/06/1942</td>\n",
       "      <td>07/22/1972</td>\n",
       "      <td>DEM</td>\n",
       "      <td>29</td>\n",
       "      <td>ACT</td>\n",
       "      <td>75</td>\n",
       "      <td>32608</td>\n",
       "      <td>4351.0</td>\n",
       "      <td>0</td>\n",
       "    </tr>\n",
       "    <tr>\n",
       "      <td>4</td>\n",
       "      <td>ALA</td>\n",
       "      <td>100394149</td>\n",
       "      <td>gaither</td>\n",
       "      <td>lourie</td>\n",
       "      <td>915  ne 25th ter</td>\n",
       "      <td>NaN</td>\n",
       "      <td>gainesville</td>\n",
       "      <td>32641</td>\n",
       "      <td>F</td>\n",
       "      <td>3</td>\n",
       "      <td>...</td>\n",
       "      <td>3</td>\n",
       "      <td>07/06/1939</td>\n",
       "      <td>08/25/1984</td>\n",
       "      <td>DEM</td>\n",
       "      <td>13</td>\n",
       "      <td>ACT</td>\n",
       "      <td>78</td>\n",
       "      <td>32641</td>\n",
       "      <td>NaN</td>\n",
       "      <td>0</td>\n",
       "    </tr>\n",
       "  </tbody>\n",
       "</table>\n",
       "<p>5 rows × 38 columns</p>\n",
       "</div>"
      ],
      "text/plain": [
       "  county_code_L  voter_id_L last_name_L first_name_L residence_addr_line_1_L  \\\n",
       "0           ALA   100401816     andrews      barbara        1440  se 24th pl   \n",
       "1           ALA   100487261   degennaro       george         27   office pct   \n",
       "2           ALA   100387876    frentzen      barbara       6812  nw 85th ter   \n",
       "3           ALA   100393784       pring        bette       5519  sw 97th ter   \n",
       "4           ALA   100394149     gaither       lourie        915  ne 25th ter   \n",
       "\n",
       "  residence_addr_line_2_L residence_city_L  residence_zipcode_L gender_L  \\\n",
       "0                     NaN      gainesville            326418708        F   \n",
       "1                     NaN      gainesville                32601        M   \n",
       "2                     NaN      gainesville            326532966        F   \n",
       "3                     NaN      gainesville            326084351        F   \n",
       "4                     NaN      gainesville                32641        F   \n",
       "\n",
       "   race_L  ... race_R birth_date_R registration_date_R party_affiliation_R  \\\n",
       "0       3  ...      3   07/28/1951          07/03/1982                 DEM   \n",
       "1       5  ...      5   10/15/1977          09/13/2000                 DEM   \n",
       "2       5  ...      5   08/19/1945          10/19/1973                 DEM   \n",
       "3       5  ...      5   06/06/1942          07/22/1972                 DEM   \n",
       "4       3  ...      3   07/06/1939          08/25/1984                 DEM   \n",
       "\n",
       "  precinct_R  voter_status_R  age_R  residence_zipcode_5_R  \\\n",
       "0         28             ACT     66                  32641   \n",
       "1         27             ACT     40                  32601   \n",
       "2         45             ACT     72                  32653   \n",
       "3         29             ACT     75                  32608   \n",
       "4         13             ACT     78                  32641   \n",
       "\n",
       "  residence_zipcode_4_R age_diff  \n",
       "0                8708.0        0  \n",
       "1                   NaN        0  \n",
       "2                2966.0        0  \n",
       "3                4351.0        0  \n",
       "4                   NaN        0  \n",
       "\n",
       "[5 rows x 38 columns]"
      ]
     },
     "execution_count": 219,
     "metadata": {},
     "output_type": "execute_result"
    }
   ],
   "source": [
    "couples_df.head()"
   ]
  },
  {
   "cell_type": "code",
   "execution_count": 220,
   "metadata": {},
   "outputs": [
    {
     "data": {
      "text/html": [
       "<div>\n",
       "<style scoped>\n",
       "    .dataframe tbody tr th:only-of-type {\n",
       "        vertical-align: middle;\n",
       "    }\n",
       "\n",
       "    .dataframe tbody tr th {\n",
       "        vertical-align: top;\n",
       "    }\n",
       "\n",
       "    .dataframe thead th {\n",
       "        text-align: right;\n",
       "    }\n",
       "</style>\n",
       "<table border=\"1\" class=\"dataframe\">\n",
       "  <thead>\n",
       "    <tr style=\"text-align: right;\">\n",
       "      <th></th>\n",
       "      <th>uniq_addr</th>\n",
       "    </tr>\n",
       "  </thead>\n",
       "  <tbody>\n",
       "    <tr>\n",
       "      <td>0</td>\n",
       "      <td>1440  se 24th pl  gainesville 32641</td>\n",
       "    </tr>\n",
       "    <tr>\n",
       "      <td>1</td>\n",
       "      <td>27   office pct  gainesville 32601</td>\n",
       "    </tr>\n",
       "    <tr>\n",
       "      <td>2</td>\n",
       "      <td>6812  nw 85th ter  gainesville 32653</td>\n",
       "    </tr>\n",
       "    <tr>\n",
       "      <td>3</td>\n",
       "      <td>5519  sw 97th ter  gainesville 32608</td>\n",
       "    </tr>\n",
       "    <tr>\n",
       "      <td>4</td>\n",
       "      <td>915  ne 25th ter  gainesville 32641</td>\n",
       "    </tr>\n",
       "  </tbody>\n",
       "</table>\n",
       "</div>"
      ],
      "text/plain": [
       "                              uniq_addr\n",
       "0   1440  se 24th pl  gainesville 32641\n",
       "1    27   office pct  gainesville 32601\n",
       "2  6812  nw 85th ter  gainesville 32653\n",
       "3  5519  sw 97th ter  gainesville 32608\n",
       "4   915  ne 25th ter  gainesville 32641"
      ]
     },
     "execution_count": 220,
     "metadata": {},
     "output_type": "execute_result"
    }
   ],
   "source": [
    "couples_df[[\"uniq_addr\"]].head()"
   ]
  },
  {
   "cell_type": "code",
   "execution_count": 221,
   "metadata": {},
   "outputs": [],
   "source": [
    "#addr_df = global_df[[\"voter_id\",\"uniq_addr\",\"Latitude\",\"Longitude\"]]\n",
    "addr_df = global_df[[\"voter_id\",\"uniq_addr\"]]"
   ]
  },
  {
   "cell_type": "markdown",
   "metadata": {},
   "source": [
    "## Collecting Addresses of voters"
   ]
  },
  {
   "cell_type": "code",
   "execution_count": 222,
   "metadata": {},
   "outputs": [],
   "source": [
    "couples_df_found = pd.merge(couples_df, addr_df, left_on=[\"voter_id_L\"], right_on=[\"voter_id\"], suffixes=[\"\",\"_L\"])"
   ]
  },
  {
   "cell_type": "code",
   "execution_count": 223,
   "metadata": {},
   "outputs": [],
   "source": [
    "del couples_df_found['voter_id']"
   ]
  },
  {
   "cell_type": "code",
   "execution_count": 224,
   "metadata": {},
   "outputs": [],
   "source": [
    "couples_df_found = pd.merge(couples_df_found, addr_df, left_on=[\"voter_id_R\"], right_on=[\"voter_id\"], suffixes=[\"\",\"_R\"])"
   ]
  },
  {
   "cell_type": "markdown",
   "metadata": {},
   "source": [
    "Merging Lat Long"
   ]
  },
  {
   "cell_type": "code",
   "execution_count": 225,
   "metadata": {},
   "outputs": [
    {
     "data": {
      "text/plain": [
       "Index(['county_code_L', 'voter_id_L', 'last_name_L', 'first_name_L',\n",
       "       'residence_addr_line_1_L', 'residence_addr_line_2_L',\n",
       "       'residence_city_L', 'residence_zipcode_L', 'gender_L', 'race_L',\n",
       "       'birth_date_L', 'registration_date_L', 'party_affiliation_L',\n",
       "       'precinct_L', 'voter_status_L', 'age_L', 'residence_zipcode_5_L',\n",
       "       'residence_zipcode_4_L', 'uniq_addr', 'county_code_R', 'voter_id_R',\n",
       "       'last_name_R', 'first_name_R', 'residence_addr_line_1_R',\n",
       "       'residence_addr_line_2_R', 'residence_city_R', 'residence_zipcode_R',\n",
       "       'gender_R', 'race_R', 'birth_date_R', 'registration_date_R',\n",
       "       'party_affiliation_R', 'precinct_R', 'voter_status_R', 'age_R',\n",
       "       'residence_zipcode_5_R', 'residence_zipcode_4_R', 'age_diff',\n",
       "       'uniq_addr_L', 'voter_id', 'uniq_addr_R'],\n",
       "      dtype='object')"
      ]
     },
     "execution_count": 225,
     "metadata": {},
     "output_type": "execute_result"
    }
   ],
   "source": [
    "couples_df_found.columns"
   ]
  },
  {
   "cell_type": "markdown",
   "metadata": {},
   "source": [
    "### Removing extra column generated of voter id"
   ]
  },
  {
   "cell_type": "code",
   "execution_count": 226,
   "metadata": {},
   "outputs": [],
   "source": [
    "del couples_df_found['voter_id']"
   ]
  },
  {
   "cell_type": "code",
   "execution_count": 227,
   "metadata": {},
   "outputs": [
    {
     "data": {
      "text/html": [
       "<div>\n",
       "<style scoped>\n",
       "    .dataframe tbody tr th:only-of-type {\n",
       "        vertical-align: middle;\n",
       "    }\n",
       "\n",
       "    .dataframe tbody tr th {\n",
       "        vertical-align: top;\n",
       "    }\n",
       "\n",
       "    .dataframe thead th {\n",
       "        text-align: right;\n",
       "    }\n",
       "</style>\n",
       "<table border=\"1\" class=\"dataframe\">\n",
       "  <thead>\n",
       "    <tr style=\"text-align: right;\">\n",
       "      <th></th>\n",
       "      <th>voter_id_L</th>\n",
       "      <th>voter_id_R</th>\n",
       "      <th>uniq_addr_L</th>\n",
       "      <th>uniq_addr_R</th>\n",
       "    </tr>\n",
       "  </thead>\n",
       "  <tbody>\n",
       "    <tr>\n",
       "      <td>0</td>\n",
       "      <td>100401816</td>\n",
       "      <td>100402057</td>\n",
       "      <td>1440  se 24th pl  gainesville 32641</td>\n",
       "      <td>1440  se 24th pl  gainesville 32641</td>\n",
       "    </tr>\n",
       "    <tr>\n",
       "      <td>1</td>\n",
       "      <td>100487261</td>\n",
       "      <td>100505560</td>\n",
       "      <td>27   office pct  gainesville 32601</td>\n",
       "      <td>27   office pct  gainesville 32601</td>\n",
       "    </tr>\n",
       "    <tr>\n",
       "      <td>2</td>\n",
       "      <td>100387876</td>\n",
       "      <td>100387877</td>\n",
       "      <td>6812  nw 85th ter  gainesville 32653</td>\n",
       "      <td>6812  nw 85th ter  gainesville 32653</td>\n",
       "    </tr>\n",
       "    <tr>\n",
       "      <td>3</td>\n",
       "      <td>100393784</td>\n",
       "      <td>100393785</td>\n",
       "      <td>5519  sw 97th ter  gainesville 32608</td>\n",
       "      <td>5519  sw 97th ter  gainesville 32608</td>\n",
       "    </tr>\n",
       "    <tr>\n",
       "      <td>4</td>\n",
       "      <td>108652074</td>\n",
       "      <td>120124706</td>\n",
       "      <td>1114  nw 13th ave  gainesville 32601</td>\n",
       "      <td>1114  nw 13th ave  gainesville 32601</td>\n",
       "    </tr>\n",
       "  </tbody>\n",
       "</table>\n",
       "</div>"
      ],
      "text/plain": [
       "   voter_id_L  voter_id_R                           uniq_addr_L  \\\n",
       "0   100401816   100402057   1440  se 24th pl  gainesville 32641   \n",
       "1   100487261   100505560    27   office pct  gainesville 32601   \n",
       "2   100387876   100387877  6812  nw 85th ter  gainesville 32653   \n",
       "3   100393784   100393785  5519  sw 97th ter  gainesville 32608   \n",
       "4   108652074   120124706  1114  nw 13th ave  gainesville 32601   \n",
       "\n",
       "                            uniq_addr_R  \n",
       "0   1440  se 24th pl  gainesville 32641  \n",
       "1    27   office pct  gainesville 32601  \n",
       "2  6812  nw 85th ter  gainesville 32653  \n",
       "3  5519  sw 97th ter  gainesville 32608  \n",
       "4  1114  nw 13th ave  gainesville 32601  "
      ]
     },
     "execution_count": 227,
     "metadata": {},
     "output_type": "execute_result"
    }
   ],
   "source": [
    "couples_df_found[[\"voter_id_L\",\"voter_id_R\", \"uniq_addr_L\",\"uniq_addr_R\"]].head()"
   ]
  },
  {
   "cell_type": "code",
   "execution_count": 228,
   "metadata": {},
   "outputs": [],
   "source": [
    "couples_df_found['separated'] = couples_df_found.apply(lambda x : x.uniq_addr_L != x.uniq_addr_R, axis=1)"
   ]
  },
  {
   "cell_type": "markdown",
   "metadata": {},
   "source": [
    "## Separation percentage"
   ]
  },
  {
   "cell_type": "code",
   "execution_count": 229,
   "metadata": {},
   "outputs": [
    {
     "data": {
      "text/plain": [
       "False    2670325\n",
       "True      278064\n",
       "Name: separated, dtype: int64"
      ]
     },
     "execution_count": 229,
     "metadata": {},
     "output_type": "execute_result"
    }
   ],
   "source": [
    "couples_df_found['separated'].value_counts()"
   ]
  },
  {
   "cell_type": "code",
   "execution_count": 230,
   "metadata": {},
   "outputs": [
    {
     "data": {
      "text/plain": [
       "False    0.90569\n",
       "True     0.09431\n",
       "Name: separated, dtype: float64"
      ]
     },
     "execution_count": 230,
     "metadata": {},
     "output_type": "execute_result"
    }
   ],
   "source": [
    "couples_df_found['separated'].value_counts()/couples_df_found['separated'].shape"
   ]
  },
  {
   "cell_type": "code",
   "execution_count": 231,
   "metadata": {},
   "outputs": [
    {
     "data": {
      "text/plain": [
       "(7455943,)"
      ]
     },
     "execution_count": 231,
     "metadata": {},
     "output_type": "execute_result"
    }
   ],
   "source": [
    "global_df['uniq_addr'].unique().shape"
   ]
  },
  {
   "cell_type": "code",
   "execution_count": 232,
   "metadata": {},
   "outputs": [
    {
     "data": {
      "text/html": [
       "<div>\n",
       "<style scoped>\n",
       "    .dataframe tbody tr th:only-of-type {\n",
       "        vertical-align: middle;\n",
       "    }\n",
       "\n",
       "    .dataframe tbody tr th {\n",
       "        vertical-align: top;\n",
       "    }\n",
       "\n",
       "    .dataframe thead th {\n",
       "        text-align: right;\n",
       "    }\n",
       "</style>\n",
       "<table border=\"1\" class=\"dataframe\">\n",
       "  <thead>\n",
       "    <tr style=\"text-align: right;\">\n",
       "      <th></th>\n",
       "      <th>county_code_L</th>\n",
       "      <th>voter_id_L</th>\n",
       "      <th>last_name_L</th>\n",
       "      <th>first_name_L</th>\n",
       "      <th>residence_addr_line_1_L</th>\n",
       "      <th>residence_addr_line_2_L</th>\n",
       "      <th>residence_city_L</th>\n",
       "      <th>residence_zipcode_L</th>\n",
       "      <th>gender_L</th>\n",
       "      <th>race_L</th>\n",
       "      <th>...</th>\n",
       "      <th>party_affiliation_R</th>\n",
       "      <th>precinct_R</th>\n",
       "      <th>voter_status_R</th>\n",
       "      <th>age_R</th>\n",
       "      <th>residence_zipcode_5_R</th>\n",
       "      <th>residence_zipcode_4_R</th>\n",
       "      <th>age_diff</th>\n",
       "      <th>uniq_addr_L</th>\n",
       "      <th>uniq_addr_R</th>\n",
       "      <th>separated</th>\n",
       "    </tr>\n",
       "  </thead>\n",
       "  <tbody>\n",
       "    <tr>\n",
       "      <td>0</td>\n",
       "      <td>ALA</td>\n",
       "      <td>100401816</td>\n",
       "      <td>andrews</td>\n",
       "      <td>barbara</td>\n",
       "      <td>1440  se 24th pl</td>\n",
       "      <td>NaN</td>\n",
       "      <td>gainesville</td>\n",
       "      <td>326418708</td>\n",
       "      <td>F</td>\n",
       "      <td>3</td>\n",
       "      <td>...</td>\n",
       "      <td>DEM</td>\n",
       "      <td>28</td>\n",
       "      <td>ACT</td>\n",
       "      <td>66</td>\n",
       "      <td>32641</td>\n",
       "      <td>8708.0</td>\n",
       "      <td>0</td>\n",
       "      <td>1440  se 24th pl  gainesville 32641</td>\n",
       "      <td>1440  se 24th pl  gainesville 32641</td>\n",
       "      <td>False</td>\n",
       "    </tr>\n",
       "    <tr>\n",
       "      <td>1</td>\n",
       "      <td>ALA</td>\n",
       "      <td>100487261</td>\n",
       "      <td>degennaro</td>\n",
       "      <td>george</td>\n",
       "      <td>27   office pct</td>\n",
       "      <td>NaN</td>\n",
       "      <td>gainesville</td>\n",
       "      <td>32601</td>\n",
       "      <td>M</td>\n",
       "      <td>5</td>\n",
       "      <td>...</td>\n",
       "      <td>DEM</td>\n",
       "      <td>27</td>\n",
       "      <td>ACT</td>\n",
       "      <td>40</td>\n",
       "      <td>32601</td>\n",
       "      <td>NaN</td>\n",
       "      <td>0</td>\n",
       "      <td>27   office pct  gainesville 32601</td>\n",
       "      <td>27   office pct  gainesville 32601</td>\n",
       "      <td>False</td>\n",
       "    </tr>\n",
       "    <tr>\n",
       "      <td>2</td>\n",
       "      <td>ALA</td>\n",
       "      <td>100387876</td>\n",
       "      <td>frentzen</td>\n",
       "      <td>barbara</td>\n",
       "      <td>6812  nw 85th ter</td>\n",
       "      <td>NaN</td>\n",
       "      <td>gainesville</td>\n",
       "      <td>326532966</td>\n",
       "      <td>F</td>\n",
       "      <td>5</td>\n",
       "      <td>...</td>\n",
       "      <td>DEM</td>\n",
       "      <td>45</td>\n",
       "      <td>ACT</td>\n",
       "      <td>72</td>\n",
       "      <td>32653</td>\n",
       "      <td>2966.0</td>\n",
       "      <td>0</td>\n",
       "      <td>6812  nw 85th ter  gainesville 32653</td>\n",
       "      <td>6812  nw 85th ter  gainesville 32653</td>\n",
       "      <td>False</td>\n",
       "    </tr>\n",
       "    <tr>\n",
       "      <td>3</td>\n",
       "      <td>ALA</td>\n",
       "      <td>100393784</td>\n",
       "      <td>pring</td>\n",
       "      <td>bette</td>\n",
       "      <td>5519  sw 97th ter</td>\n",
       "      <td>NaN</td>\n",
       "      <td>gainesville</td>\n",
       "      <td>326084351</td>\n",
       "      <td>F</td>\n",
       "      <td>5</td>\n",
       "      <td>...</td>\n",
       "      <td>DEM</td>\n",
       "      <td>29</td>\n",
       "      <td>ACT</td>\n",
       "      <td>75</td>\n",
       "      <td>32608</td>\n",
       "      <td>4351.0</td>\n",
       "      <td>0</td>\n",
       "      <td>5519  sw 97th ter  gainesville 32608</td>\n",
       "      <td>5519  sw 97th ter  gainesville 32608</td>\n",
       "      <td>False</td>\n",
       "    </tr>\n",
       "    <tr>\n",
       "      <td>4</td>\n",
       "      <td>ALA</td>\n",
       "      <td>108652074</td>\n",
       "      <td>neeld</td>\n",
       "      <td>dennis</td>\n",
       "      <td>1114  nw 13th ave</td>\n",
       "      <td>NaN</td>\n",
       "      <td>gainesville</td>\n",
       "      <td>32601</td>\n",
       "      <td>M</td>\n",
       "      <td>5</td>\n",
       "      <td>...</td>\n",
       "      <td>NPA</td>\n",
       "      <td>7</td>\n",
       "      <td>INA</td>\n",
       "      <td>33</td>\n",
       "      <td>32601</td>\n",
       "      <td>NaN</td>\n",
       "      <td>0</td>\n",
       "      <td>1114  nw 13th ave  gainesville 32601</td>\n",
       "      <td>1114  nw 13th ave  gainesville 32601</td>\n",
       "      <td>False</td>\n",
       "    </tr>\n",
       "  </tbody>\n",
       "</table>\n",
       "<p>5 rows × 41 columns</p>\n",
       "</div>"
      ],
      "text/plain": [
       "  county_code_L  voter_id_L last_name_L first_name_L residence_addr_line_1_L  \\\n",
       "0           ALA   100401816     andrews      barbara        1440  se 24th pl   \n",
       "1           ALA   100487261   degennaro       george         27   office pct   \n",
       "2           ALA   100387876    frentzen      barbara       6812  nw 85th ter   \n",
       "3           ALA   100393784       pring        bette       5519  sw 97th ter   \n",
       "4           ALA   108652074       neeld       dennis       1114  nw 13th ave   \n",
       "\n",
       "  residence_addr_line_2_L residence_city_L  residence_zipcode_L gender_L  \\\n",
       "0                     NaN      gainesville            326418708        F   \n",
       "1                     NaN      gainesville                32601        M   \n",
       "2                     NaN      gainesville            326532966        F   \n",
       "3                     NaN      gainesville            326084351        F   \n",
       "4                     NaN      gainesville                32601        M   \n",
       "\n",
       "   race_L  ... party_affiliation_R precinct_R voter_status_R age_R  \\\n",
       "0       3  ...                 DEM         28            ACT    66   \n",
       "1       5  ...                 DEM         27            ACT    40   \n",
       "2       5  ...                 DEM         45            ACT    72   \n",
       "3       5  ...                 DEM         29            ACT    75   \n",
       "4       5  ...                 NPA          7            INA    33   \n",
       "\n",
       "  residence_zipcode_5_R  residence_zipcode_4_R  age_diff  \\\n",
       "0                 32641                 8708.0         0   \n",
       "1                 32601                    NaN         0   \n",
       "2                 32653                 2966.0         0   \n",
       "3                 32608                 4351.0         0   \n",
       "4                 32601                    NaN         0   \n",
       "\n",
       "                            uniq_addr_L                           uniq_addr_R  \\\n",
       "0   1440  se 24th pl  gainesville 32641   1440  se 24th pl  gainesville 32641   \n",
       "1    27   office pct  gainesville 32601    27   office pct  gainesville 32601   \n",
       "2  6812  nw 85th ter  gainesville 32653  6812  nw 85th ter  gainesville 32653   \n",
       "3  5519  sw 97th ter  gainesville 32608  5519  sw 97th ter  gainesville 32608   \n",
       "4  1114  nw 13th ave  gainesville 32601  1114  nw 13th ave  gainesville 32601   \n",
       "\n",
       "  separated  \n",
       "0     False  \n",
       "1     False  \n",
       "2     False  \n",
       "3     False  \n",
       "4     False  \n",
       "\n",
       "[5 rows x 41 columns]"
      ]
     },
     "execution_count": 232,
     "metadata": {},
     "output_type": "execute_result"
    }
   ],
   "source": [
    "couples_df_found.head()"
   ]
  },
  {
   "cell_type": "markdown",
   "metadata": {},
   "source": [
    "## Logging total separation percentage in file"
   ]
  },
  {
   "cell_type": "code",
   "execution_count": 233,
   "metadata": {},
   "outputs": [],
   "source": [
    "total_separated_couples = couples_df_found[couples_df_found[\"separated\"] == True].shape[0]\n",
    "with open(stat_file_path + \"total_separation_percentage.csv\", \"w\") as f:\n",
    "    f.write(\"\\t\".join([\"separated_count\", \"total_count\", \"percentage\"]) + \"\\n\")\n",
    "    f.write(\"\\t\".join([str(total_separated_couples), str(couples_df_found.shape[0]), str(100.0 * total_separated_couples/couples_df_found.shape[0])]))"
   ]
  },
  {
   "cell_type": "markdown",
   "metadata": {},
   "source": [
    "## Convert race categorical "
   ]
  },
  {
   "cell_type": "code",
   "execution_count": 234,
   "metadata": {},
   "outputs": [],
   "source": [
    "race_codes = {\n",
    "    1: \"American Indian/Alaskan Native\",\n",
    "    2: \"Asian/Pacific Islander\",\n",
    "    3: \"Black/Not Hispanic\",\n",
    "    4: \"Hispanic\",\n",
    "    5: \"White\",\n",
    "    6: \"Other\",\n",
    "    7: \"Mutli-racial\",\n",
    "    9: \"Unknown\"\n",
    "}"
   ]
  },
  {
   "cell_type": "markdown",
   "metadata": {},
   "source": [
    "## Converting race codes to corresponding race-descriptions"
   ]
  },
  {
   "cell_type": "code",
   "execution_count": 235,
   "metadata": {},
   "outputs": [],
   "source": [
    "def race_code_lambda(row, subscript):\n",
    "    if pd.isnull(row[\"race_\" + subscript]):\n",
    "        return None\n",
    "    code = int(row[\"race_\" + subscript])\n",
    "    return race_codes[code]"
   ]
  },
  {
   "cell_type": "markdown",
   "metadata": {},
   "source": [
    "## Creating descriptive race columns is a time consuming process"
   ]
  },
  {
   "cell_type": "code",
   "execution_count": 236,
   "metadata": {},
   "outputs": [],
   "source": [
    "couples_df_found[\"race_desc_L\"] = couples_df_found.apply(lambda x: race_code_lambda(x, \"L\"), axis=1)\n",
    "couples_df_found[\"race_desc_R\"] = couples_df_found.apply(lambda x: race_code_lambda(x, \"R\"), axis=1)"
   ]
  },
  {
   "cell_type": "code",
   "execution_count": 237,
   "metadata": {},
   "outputs": [],
   "source": [
    "global_df[\"race_desc\"] = global_df[\"race\"].apply(lambda x: race_codes[x])"
   ]
  },
  {
   "cell_type": "markdown",
   "metadata": {},
   "source": [
    "## Feature wise separation percentage"
   ]
  },
  {
   "cell_type": "code",
   "execution_count": 238,
   "metadata": {},
   "outputs": [],
   "source": [
    "cols = [\"party_affiliation\", \"gender\", \"race_desc\"]\n",
    "unique_dic = {}\n",
    "for c in cols:\n",
    "    unique_dic[c] = set(global_df[c].unique())"
   ]
  },
  {
   "cell_type": "markdown",
   "metadata": {},
   "source": [
    "## Demographic Percentages"
   ]
  },
  {
   "cell_type": "code",
   "execution_count": 239,
   "metadata": {},
   "outputs": [],
   "source": [
    "party_affiliation_counts = {}\n",
    "race_counts = {}\n",
    "\n",
    "party_affiliation_percentages = {}\n",
    "race_percentages = {}\n",
    "\n",
    "total = global_df.shape[0]\n",
    "for cat_value in unique_dic[\"party_affiliation\"]:\n",
    "    party_affiliation_counts[cat_value] = global_df[global_df[\"party_affiliation\"] == cat_value].shape[0]\n",
    "    party_affiliation_percentages[cat_value] = 100.0 * global_df[global_df[\"party_affiliation\"] == cat_value].shape[0]/total\n",
    "\n",
    "for cat_value in unique_dic[\"race_desc\"]:\n",
    "    race_counts[str(cat_value)] = global_df[global_df[\"race_desc\"] == cat_value].shape[0]\n",
    "    race_percentages[str(cat_value)] =  100.0 * global_df[global_df[\"race_desc\"] == cat_value].shape[0]/total"
   ]
  },
  {
   "cell_type": "markdown",
   "metadata": {},
   "source": [
    "## Thresholding Demographics\n",
    "For Race we stick to 5% </br>\n",
    "For Party affiliation we stick to 5%"
   ]
  },
  {
   "cell_type": "code",
   "execution_count": 240,
   "metadata": {},
   "outputs": [],
   "source": [
    "race_percent_threshold = 5.0\n",
    "race_other_groups = []\n",
    "for cat_value in race_percentages:\n",
    "    if race_percentages[cat_value] <= race_percent_threshold:\n",
    "        race_other_groups.append(cat_value)"
   ]
  },
  {
   "cell_type": "code",
   "execution_count": 241,
   "metadata": {},
   "outputs": [],
   "source": [
    "party_percent_threshold = 5.0\n",
    "party_other_groups = []\n",
    "for cat_value in party_affiliation_percentages:\n",
    "    if party_affiliation_percentages[cat_value] <= party_percent_threshold:\n",
    "        party_other_groups.append(cat_value)"
   ]
  },
  {
   "cell_type": "markdown",
   "metadata": {},
   "source": [
    "# TODO"
   ]
  },
  {
   "cell_type": "code",
   "execution_count": 242,
   "metadata": {},
   "outputs": [],
   "source": [
    "# TODO: Implement others mapping into global and couples dataframe\n",
    "# def create_others_df()"
   ]
  },
  {
   "cell_type": "code",
   "execution_count": 243,
   "metadata": {},
   "outputs": [
    {
     "data": {
      "text/plain": [
       "(14125318, 20)"
      ]
     },
     "execution_count": 243,
     "metadata": {},
     "output_type": "execute_result"
    }
   ],
   "source": [
    "global_df.shape"
   ]
  },
  {
   "cell_type": "code",
   "execution_count": 244,
   "metadata": {},
   "outputs": [
    {
     "name": "stdout",
     "output_type": "stream",
     "text": [
      "{'party_affiliation': {'NPA', 'GRE', 'CPF', 'IND', 'LPF', 'PSL', 'ECO', 'REF', 'DEM', 'REP'}, 'gender': {'F', 'M', 'U'}, 'race_desc': {'White', 'Hispanic', 'Mutli-racial', 'Unknown', 'Asian/Pacific Islander', 'American Indian/Alaskan Native', 'Other', 'Black/Not Hispanic'}}\n"
     ]
    }
   ],
   "source": [
    "print(str(unique_dic))"
   ]
  },
  {
   "cell_type": "markdown",
   "metadata": {},
   "source": [
    "## Generate Pair-wise stats by feature\n",
    "Current focus is only on gender/race/political-affiliation"
   ]
  },
  {
   "cell_type": "code",
   "execution_count": 245,
   "metadata": {},
   "outputs": [],
   "source": [
    "import time\n",
    "from itertools import combinations \n",
    "\n",
    "def generate_category_based_on_pair_values(first_val, second_val):\n",
    "    return \"({0}, {1})\".format(str(first_val), str(second_val))\n",
    "\n",
    "def generate_pair_stats_by_feature(global_df, couples_df_found, feature, stats={}, others=[]):\n",
    "    print(\"Collecting uniques by feature: \" + feature)\n",
    "    unique_vals = list(global_df[feature].unique())\n",
    "    cat_combinations = list(combinations(list(unique_vals), 2))\n",
    "    \n",
    "    stats[feature] = {}\n",
    "    print(\"Processing : \" + feature + \" : Total comb: \" + str(len(cat_combinations)))\n",
    "    i = 0\n",
    "    start_time = time.time()\n",
    "    stats[feature][\"Other Categories\"] = {'count': 0, 'total': 0}\n",
    "    for comb in cat_combinations:\n",
    "        first_val = comb[0]\n",
    "        second_val = comb[1]\n",
    "        \n",
    "        left_right = couples_df_found[(couples_df_found[feature + \"_L\"] == first_val) & (couples_df_found[feature + \"_R\"] == second_val)]\n",
    "        right_left = couples_df_found[(couples_df_found[feature + \"_L\"] == second_val) & (couples_df_found[feature + \"_R\"] == first_val)]\n",
    "        \n",
    "        count = left_right[left_right[\"separated\"] == True].shape[0]\n",
    "        count += right_left[right_left[\"separated\"] == True].shape[0]\n",
    "        \n",
    "        stat = {}\n",
    "        stat[\"count\"] = count\n",
    "        \n",
    "        if count == 0:\n",
    "            continue\n",
    "        \n",
    "        if first_val in others or second_val in others:\n",
    "            stats[feature][\"Other Categories\"][\"count\"] += count\n",
    "            stats[feature][\"Other Categories\"][\"total\"] += left_right.shape[0] + right_left.shape[0]\n",
    "            continue\n",
    "        \n",
    "        stat[\"total\"] = left_right.shape[0] + right_left.shape[0]\n",
    "        stat[\"percent\"] = count * 100.0/(left_right.shape[0] + right_left.shape[0])\n",
    "        \n",
    "        category = generate_category_based_on_pair_values(first_val, second_val)\n",
    "        stats[feature][category] = stat\n",
    "        \n",
    "        i += 1\n",
    "        \n",
    "    print(\"Total value combinations process: \" + str(i) + \" Total time (secs): \" + str(time.time() - start_time))\n",
    "    \n",
    "    print(\"Processing symmetric combinations: \" + feature + \" : Total comb: \" + str(len(unique_vals)))\n",
    "    for val in unique_vals:\n",
    "        subset = couples_df_found[(couples_df_found[feature + \"_L\"] == val) & (couples_df_found[feature + \"_R\"] == val)]\n",
    "        \n",
    "        count = subset[subset[\"separated\"] == True].shape[0]\n",
    "        \n",
    "        if val in others:\n",
    "            stats[feature][\"Other Categories\"][\"count\"] += count\n",
    "            stats[feature][\"Other Categories\"][\"total\"] += subset.shape[0]\n",
    "            continue\n",
    "        \n",
    "        stat = {}\n",
    "        stat[\"count\"] = count\n",
    "        \n",
    "        if count == 0:\n",
    "            continue\n",
    "        \n",
    "        stat[\"total\"] = subset.shape[0]\n",
    "        stat[\"percent\"] = count * 100.0/(subset.shape[0])\n",
    "        \n",
    "        category = generate_category_based_on_pair_values(val, val)\n",
    "        stats[feature][category] = stat\n",
    "        \n",
    "    if len(others) > 0 and stats[feature][\"Other Categories\"][\"count\"] > 0:\n",
    "        stats[feature][\"Other Categories\"][\"percent\"] = 100.0 * stats[feature][\"Other Categories\"][\"count\"]/stats[feature][\"Other Categories\"][\"total\"]\n",
    "    else:\n",
    "        del stats[feature][\"Other Categories\"]\n",
    "    \n",
    "    print(\"Done with processing feature: \" + feature)\n",
    "    \n",
    "    return stats"
   ]
  },
  {
   "cell_type": "code",
   "execution_count": 246,
   "metadata": {},
   "outputs": [
    {
     "data": {
      "text/plain": [
       "'stats/20180313_20190910/'"
      ]
     },
     "execution_count": 246,
     "metadata": {},
     "output_type": "execute_result"
    }
   ],
   "source": [
    "stat_file_path"
   ]
  },
  {
   "cell_type": "code",
   "execution_count": 247,
   "metadata": {},
   "outputs": [],
   "source": [
    "def plot_pairwise_stat_by_feature(feature, stats, total_couples=1):\n",
    "    feature_stats = stats[feature]\n",
    "    \n",
    "    figures, axes = plt.subplots(nrows=1, ncols=2, figsize=(20,10))\n",
    "    \n",
    "    percent_stats = []\n",
    "    pair_combinations = []\n",
    "    totals = []\n",
    "    \n",
    "    for pair_comb in feature_stats:\n",
    "        percent_stats.append(feature_stats[pair_comb][\"percent\"])\n",
    "        totals.append(feature_stats[pair_comb][\"total\"])\n",
    "        pair_combinations.append(pair_comb)\n",
    "\n",
    "    plot_df = pd.DataFrame({\"percent\": percent_stats, \"category_combination\": pair_combinations, \"totals\": totals})\n",
    "    plot_df[\"category_combination_percentage\"] = 100.0*plot_df[\"totals\"]/total_couples\n",
    "    \n",
    "    sns.barplot(x=\"percent\", y=\"category_combination\", data=plot_df, ax=axes[0], palette=sns.color_palette(\"Set2\"))\n",
    "    \n",
    "    axes[0].set(xlabel=\"Separation percentage\")\n",
    "    \n",
    "    #     sns.barplot(x=\"category_combination_percentage\", y=\"category_combination\", palette=sns.color_palette(\"Set2\"), data=plot_df, ax=axes[1])\n",
    "\n",
    "    #   Pie chart\n",
    "    labels = pair_combinations\n",
    "    sizes = plot_df[\"category_combination_percentage\"].tolist()\n",
    "    axes[1].pie(sizes, labels=labels, autopct='%1.1f%%', colors=['teal', 'salmon', 'silver', 'lightblue', 'orchid', 'pink', 'lightgreen', 'wheat'])\n",
    "    axes[1].axis('equal')\n",
    "    axes[1].set(xlabel=\"Category percentage out of total couples\")\n",
    "    \n",
    "    \n",
    "    axes[0].spines['right'].set_visible(False)\n",
    "    axes[0].spines['top'].set_visible(False)\n",
    "    axes[1].spines['right'].set_visible(False)\n",
    "    axes[1].spines['top'].set_visible(False)\n",
    "    \n",
    "    #     axes[0].set_title(feature)\n",
    "    #     axes[1].set_title(feature + \" wise couple proportion\")\n",
    "\n",
    "    #     Writing stats into file\n",
    "    stat_file_name = feature + \"_totalCouples-\" + str(total_couples) + \".csv\"\n",
    "    plot_df.to_csv(stat_file_path + stat_file_name, sep=\"\\t\")\n",
    "        \n",
    "    plt.savefig(\"plots/\" + image_file_prefix + \"/\" + image_file_prefix +  \"_pairwise_stat_\" + feature)\n",
    "    plt.tight_layout()"
   ]
  },
  {
   "cell_type": "code",
   "execution_count": 248,
   "metadata": {},
   "outputs": [
    {
     "name": "stdout",
     "output_type": "stream",
     "text": [
      "Collecting uniques by feature: race_desc\n",
      "Processing : race_desc : Total comb: 28\n",
      "Total value combinations process: 3 Total time (secs): 31.3663969039917\n",
      "Processing symmetric combinations: race_desc : Total comb: 8\n",
      "Done with processing feature: race_desc\n"
     ]
    }
   ],
   "source": [
    "stats = generate_pair_stats_by_feature(global_df, couples_df_found, \"race_desc\", others=race_other_groups)"
   ]
  },
  {
   "cell_type": "code",
   "execution_count": 249,
   "metadata": {},
   "outputs": [
    {
     "data": {
      "image/png": "[encoded data removed]",
      "text/plain": [
       "<Figure size 1440x720 with 2 Axes>"
      ]
     },
     "metadata": {
      "needs_background": "light"
     },
     "output_type": "display_data"
    }
   ],
   "source": [
    "plot_pairwise_stat_by_feature(\"race_desc\", stats, total_couples=couples_df_found.shape[0])"
   ]
  },
  {
   "cell_type": "code",
   "execution_count": 250,
   "metadata": {},
   "outputs": [
    {
     "name": "stdout",
     "output_type": "stream",
     "text": [
      "Collecting uniques by feature: party_affiliation\n",
      "Processing : party_affiliation : Total comb: 45\n",
      "Total value combinations process: 3 Total time (secs): 35.141794204711914\n",
      "Processing symmetric combinations: party_affiliation : Total comb: 10\n",
      "Done with processing feature: party_affiliation\n"
     ]
    }
   ],
   "source": [
    "stats = generate_pair_stats_by_feature(global_df, couples_df_found, \"party_affiliation\", others=party_other_groups)"
   ]
  },
  {
   "cell_type": "code",
   "execution_count": 251,
   "metadata": {},
   "outputs": [
    {
     "data": {
      "image/png": "[encoded data removed]",
      "text/plain": [
       "<Figure size 1440x720 with 2 Axes>"
      ]
     },
     "metadata": {
      "needs_background": "light"
     },
     "output_type": "display_data"
    }
   ],
   "source": [
    "plot_pairwise_stat_by_feature(\"party_affiliation\", stats, total_couples=couples_df_found.shape[0])"
   ]
  },
  {
   "cell_type": "code",
   "execution_count": 252,
   "metadata": {},
   "outputs": [
    {
     "name": "stdout",
     "output_type": "stream",
     "text": [
      "Collecting uniques by feature: gender\n",
      "Processing : gender : Total comb: 3\n",
      "Total value combinations process: 3 Total time (secs): 5.4475390911102295\n",
      "Processing symmetric combinations: gender : Total comb: 3\n",
      "Done with processing feature: gender\n"
     ]
    }
   ],
   "source": [
    "stats = generate_pair_stats_by_feature(global_df, couples_df_found, \"gender\", others=party_other_groups)"
   ]
  },
  {
   "cell_type": "code",
   "execution_count": 253,
   "metadata": {},
   "outputs": [
    {
     "data": {
      "image/png": "[encoded data removed]",
      "text/plain": [
       "<Figure size 1440x720 with 2 Axes>"
      ]
     },
     "metadata": {
      "needs_background": "light"
     },
     "output_type": "display_data"
    }
   ],
   "source": [
    "plot_pairwise_stat_by_feature(\"gender\", stats, total_couples=couples_df_found.shape[0])"
   ]
  },
  {
   "cell_type": "code",
   "execution_count": 254,
   "metadata": {},
   "outputs": [
    {
     "data": {
      "text/plain": [
       "{'race_desc': {'Other Categories': {'count': 31498,\n",
       "   'total': 278711,\n",
       "   'percent': 11.301312111829098},\n",
       "  '(White, Black/Not Hispanic)': {'count': 14185,\n",
       "   'total': 54852,\n",
       "   'percent': 25.86049733829213},\n",
       "  '(White, Hispanic)': {'count': 24740,\n",
       "   'total': 170804,\n",
       "   'percent': 14.48443830355261},\n",
       "  '(Black/Not Hispanic, Hispanic)': {'count': 7537,\n",
       "   'total': 26715,\n",
       "   'percent': 28.2126146359723},\n",
       "  '(White, White)': {'count': 130686,\n",
       "   'total': 1881836,\n",
       "   'percent': 6.944600911025191},\n",
       "  '(Black/Not Hispanic, Black/Not Hispanic)': {'count': 33434,\n",
       "   'total': 241099,\n",
       "   'percent': 13.867332506563693},\n",
       "  '(Hispanic, Hispanic)': {'count': 35984,\n",
       "   'total': 294372,\n",
       "   'percent': 12.22398869457693}},\n",
       " 'party_affiliation': {'Other Categories': {'count': 3891,\n",
       "   'total': 26401,\n",
       "   'percent': 14.738078103102156},\n",
       "  '(REP, NPA)': {'count': 40082,\n",
       "   'total': 328750,\n",
       "   'percent': 12.192243346007604},\n",
       "  '(REP, DEM)': {'count': 34741,\n",
       "   'total': 288938,\n",
       "   'percent': 12.023686742484546},\n",
       "  '(NPA, DEM)': {'count': 56715,\n",
       "   'total': 361787,\n",
       "   'percent': 15.676351002108976},\n",
       "  '(REP, REP)': {'count': 44206,\n",
       "   'total': 889748,\n",
       "   'percent': 4.968373067430329},\n",
       "  '(NPA, NPA)': {'count': 34978,\n",
       "   'total': 377832,\n",
       "   'percent': 9.257553621715472},\n",
       "  '(DEM, DEM)': {'count': 63409,\n",
       "   'total': 674625,\n",
       "   'percent': 9.399147674634056}},\n",
       " 'gender': {'(M, F)': {'count': 172565,\n",
       "   'total': 2508879,\n",
       "   'percent': 6.878171486149791},\n",
       "  '(M, U)': {'count': 5174, 'total': 40031, 'percent': 12.924983138067997},\n",
       "  '(F, U)': {'count': 6848, 'total': 48637, 'percent': 14.079815778111314},\n",
       "  '(M, M)': {'count': 35002, 'total': 144725, 'percent': 24.18517878735533},\n",
       "  '(F, F)': {'count': 57988, 'total': 199099, 'percent': 29.125209066846143},\n",
       "  '(U, U)': {'count': 487, 'total': 7018, 'percent': 6.939298945568538}}}"
      ]
     },
     "execution_count": 254,
     "metadata": {},
     "output_type": "execute_result"
    }
   ],
   "source": [
    "stats"
   ]
  },
  {
   "cell_type": "markdown",
   "metadata": {},
   "source": [
    "## Raw code of combination stats (Obsolete)"
   ]
  },
  {
   "cell_type": "code",
   "execution_count": 255,
   "metadata": {},
   "outputs": [],
   "source": [
    "# sns.barplot(x=\"percent_round\", y=\"category\", data=race_df)"
   ]
  },
  {
   "cell_type": "code",
   "execution_count": 256,
   "metadata": {},
   "outputs": [
    {
     "data": {
      "text/plain": [
       "array([ 0,  1,  2,  3,  4,  5,  6,  7,  8,  9, 10, 11, 12, 13, 14, 15])"
      ]
     },
     "execution_count": 256,
     "metadata": {},
     "output_type": "execute_result"
    }
   ],
   "source": [
    "couples_df_found.age_diff.unique()"
   ]
  },
  {
   "cell_type": "code",
   "execution_count": 257,
   "metadata": {},
   "outputs": [],
   "source": [
    "age_diff_total_counts = couples_df_found.groupby([\"age_diff\"])[\"age_diff\"].agg([\"count\"]).reset_index()"
   ]
  },
  {
   "cell_type": "code",
   "execution_count": 258,
   "metadata": {},
   "outputs": [
    {
     "data": {
      "text/html": [
       "<div>\n",
       "<style scoped>\n",
       "    .dataframe tbody tr th:only-of-type {\n",
       "        vertical-align: middle;\n",
       "    }\n",
       "\n",
       "    .dataframe tbody tr th {\n",
       "        vertical-align: top;\n",
       "    }\n",
       "\n",
       "    .dataframe thead th {\n",
       "        text-align: right;\n",
       "    }\n",
       "</style>\n",
       "<table border=\"1\" class=\"dataframe\">\n",
       "  <thead>\n",
       "    <tr style=\"text-align: right;\">\n",
       "      <th></th>\n",
       "      <th>age_diff</th>\n",
       "      <th>count</th>\n",
       "    </tr>\n",
       "  </thead>\n",
       "  <tbody>\n",
       "    <tr>\n",
       "      <td>0</td>\n",
       "      <td>0</td>\n",
       "      <td>355840</td>\n",
       "    </tr>\n",
       "    <tr>\n",
       "      <td>1</td>\n",
       "      <td>1</td>\n",
       "      <td>586068</td>\n",
       "    </tr>\n",
       "    <tr>\n",
       "      <td>2</td>\n",
       "      <td>2</td>\n",
       "      <td>461033</td>\n",
       "    </tr>\n",
       "    <tr>\n",
       "      <td>3</td>\n",
       "      <td>3</td>\n",
       "      <td>347221</td>\n",
       "    </tr>\n",
       "    <tr>\n",
       "      <td>4</td>\n",
       "      <td>4</td>\n",
       "      <td>264635</td>\n",
       "    </tr>\n",
       "  </tbody>\n",
       "</table>\n",
       "</div>"
      ],
      "text/plain": [
       "   age_diff   count\n",
       "0         0  355840\n",
       "1         1  586068\n",
       "2         2  461033\n",
       "3         3  347221\n",
       "4         4  264635"
      ]
     },
     "execution_count": 258,
     "metadata": {},
     "output_type": "execute_result"
    }
   ],
   "source": [
    "age_diff_total_counts.head()"
   ]
  },
  {
   "cell_type": "code",
   "execution_count": 259,
   "metadata": {},
   "outputs": [
    {
     "data": {
      "image/png": "[encoded data removed]",
      "text/plain": [
       "<Figure size 432x288 with 1 Axes>"
      ]
     },
     "metadata": {
      "needs_background": "light"
     },
     "output_type": "display_data"
    }
   ],
   "source": [
    "#plt.clear()\n",
    "plt.close()\n",
    "ax = sns.barplot(x=\"age_diff\", y=\"count\", data=age_diff_total_counts)\n",
    "ax.set(xlabel='age difference between couples', ylabel='couples count')\n",
    "plt.savefig(\"plots/\" + image_file_prefix + \"/\" + image_file_prefix + \"_age_diff_aggregation\")"
   ]
  },
  {
   "cell_type": "code",
   "execution_count": 260,
   "metadata": {},
   "outputs": [],
   "source": [
    "age_diff_separation_stats = couples_df_found[couples_df_found[\"separated\"]==True].groupby([\"age_diff\"])[\"age_diff\"].agg([\"count\"]).reset_index()"
   ]
  },
  {
   "cell_type": "code",
   "execution_count": 261,
   "metadata": {},
   "outputs": [],
   "source": [
    "age_diff_separation_stats = pd.merge(age_diff_total_counts, age_diff_separation_stats, on=[\"age_diff\"], suffixes=(\"_total\", \"_separated\"))"
   ]
  },
  {
   "cell_type": "code",
   "execution_count": 262,
   "metadata": {},
   "outputs": [],
   "source": [
    "age_diff_separation_stats[\"percent\"] = 100.0 * age_diff_separation_stats[\"count_separated\"]/age_diff_separation_stats[\"count_total\"]"
   ]
  },
  {
   "cell_type": "code",
   "execution_count": 263,
   "metadata": {},
   "outputs": [
    {
     "data": {
      "text/html": [
       "<div>\n",
       "<style scoped>\n",
       "    .dataframe tbody tr th:only-of-type {\n",
       "        vertical-align: middle;\n",
       "    }\n",
       "\n",
       "    .dataframe tbody tr th {\n",
       "        vertical-align: top;\n",
       "    }\n",
       "\n",
       "    .dataframe thead th {\n",
       "        text-align: right;\n",
       "    }\n",
       "</style>\n",
       "<table border=\"1\" class=\"dataframe\">\n",
       "  <thead>\n",
       "    <tr style=\"text-align: right;\">\n",
       "      <th></th>\n",
       "      <th>age_diff</th>\n",
       "      <th>count_total</th>\n",
       "      <th>count_separated</th>\n",
       "      <th>percent</th>\n",
       "    </tr>\n",
       "  </thead>\n",
       "  <tbody>\n",
       "    <tr>\n",
       "      <td>0</td>\n",
       "      <td>0</td>\n",
       "      <td>355840</td>\n",
       "      <td>30754</td>\n",
       "      <td>8.642648</td>\n",
       "    </tr>\n",
       "    <tr>\n",
       "      <td>1</td>\n",
       "      <td>1</td>\n",
       "      <td>586068</td>\n",
       "      <td>49899</td>\n",
       "      <td>8.514200</td>\n",
       "    </tr>\n",
       "    <tr>\n",
       "      <td>2</td>\n",
       "      <td>2</td>\n",
       "      <td>461033</td>\n",
       "      <td>40286</td>\n",
       "      <td>8.738203</td>\n",
       "    </tr>\n",
       "    <tr>\n",
       "      <td>3</td>\n",
       "      <td>3</td>\n",
       "      <td>347221</td>\n",
       "      <td>29851</td>\n",
       "      <td>8.597118</td>\n",
       "    </tr>\n",
       "    <tr>\n",
       "      <td>4</td>\n",
       "      <td>4</td>\n",
       "      <td>264635</td>\n",
       "      <td>23324</td>\n",
       "      <td>8.813649</td>\n",
       "    </tr>\n",
       "    <tr>\n",
       "      <td>5</td>\n",
       "      <td>5</td>\n",
       "      <td>203481</td>\n",
       "      <td>18760</td>\n",
       "      <td>9.219534</td>\n",
       "    </tr>\n",
       "    <tr>\n",
       "      <td>6</td>\n",
       "      <td>6</td>\n",
       "      <td>159434</td>\n",
       "      <td>15586</td>\n",
       "      <td>9.775832</td>\n",
       "    </tr>\n",
       "    <tr>\n",
       "      <td>7</td>\n",
       "      <td>7</td>\n",
       "      <td>126283</td>\n",
       "      <td>12830</td>\n",
       "      <td>10.159721</td>\n",
       "    </tr>\n",
       "    <tr>\n",
       "      <td>8</td>\n",
       "      <td>8</td>\n",
       "      <td>100822</td>\n",
       "      <td>10844</td>\n",
       "      <td>10.755589</td>\n",
       "    </tr>\n",
       "    <tr>\n",
       "      <td>9</td>\n",
       "      <td>9</td>\n",
       "      <td>81945</td>\n",
       "      <td>9391</td>\n",
       "      <td>11.460126</td>\n",
       "    </tr>\n",
       "    <tr>\n",
       "      <td>10</td>\n",
       "      <td>10</td>\n",
       "      <td>67221</td>\n",
       "      <td>8247</td>\n",
       "      <td>12.268488</td>\n",
       "    </tr>\n",
       "    <tr>\n",
       "      <td>11</td>\n",
       "      <td>11</td>\n",
       "      <td>54883</td>\n",
       "      <td>7124</td>\n",
       "      <td>12.980340</td>\n",
       "    </tr>\n",
       "    <tr>\n",
       "      <td>12</td>\n",
       "      <td>12</td>\n",
       "      <td>44547</td>\n",
       "      <td>6187</td>\n",
       "      <td>13.888702</td>\n",
       "    </tr>\n",
       "    <tr>\n",
       "      <td>13</td>\n",
       "      <td>13</td>\n",
       "      <td>36866</td>\n",
       "      <td>5413</td>\n",
       "      <td>14.682906</td>\n",
       "    </tr>\n",
       "    <tr>\n",
       "      <td>14</td>\n",
       "      <td>14</td>\n",
       "      <td>31308</td>\n",
       "      <td>4982</td>\n",
       "      <td>15.912866</td>\n",
       "    </tr>\n",
       "    <tr>\n",
       "      <td>15</td>\n",
       "      <td>15</td>\n",
       "      <td>26802</td>\n",
       "      <td>4586</td>\n",
       "      <td>17.110663</td>\n",
       "    </tr>\n",
       "  </tbody>\n",
       "</table>\n",
       "</div>"
      ],
      "text/plain": [
       "    age_diff  count_total  count_separated    percent\n",
       "0          0       355840            30754   8.642648\n",
       "1          1       586068            49899   8.514200\n",
       "2          2       461033            40286   8.738203\n",
       "3          3       347221            29851   8.597118\n",
       "4          4       264635            23324   8.813649\n",
       "5          5       203481            18760   9.219534\n",
       "6          6       159434            15586   9.775832\n",
       "7          7       126283            12830  10.159721\n",
       "8          8       100822            10844  10.755589\n",
       "9          9        81945             9391  11.460126\n",
       "10        10        67221             8247  12.268488\n",
       "11        11        54883             7124  12.980340\n",
       "12        12        44547             6187  13.888702\n",
       "13        13        36866             5413  14.682906\n",
       "14        14        31308             4982  15.912866\n",
       "15        15        26802             4586  17.110663"
      ]
     },
     "execution_count": 263,
     "metadata": {},
     "output_type": "execute_result"
    }
   ],
   "source": [
    "age_diff_separation_stats"
   ]
  },
  {
   "cell_type": "code",
   "execution_count": 264,
   "metadata": {},
   "outputs": [],
   "source": [
    "age_diff_separation_stats.to_csv(stat_file_path + \"age_diff_separation_stats.csv\", sep='\\t', header=[\"age_diff\", \"counts_of_that_age_diff\", \"separated_count\", \"separated_percentage\"])"
   ]
  },
  {
   "cell_type": "code",
   "execution_count": 265,
   "metadata": {},
   "outputs": [
    {
     "data": {
      "image/png": "[encoded data removed]",
      "text/plain": [
       "<Figure size 432x288 with 1 Axes>"
      ]
     },
     "metadata": {
      "needs_background": "light"
     },
     "output_type": "display_data"
    }
   ],
   "source": [
    "ax = sns.barplot(x=\"age_diff\", y=\"percent\", data=age_diff_separation_stats, )\n",
    "ax.set(xlabel='age difference between couples', ylabel='couples separation percent')\n",
    "plt.savefig(\"plots/\" + image_file_prefix + \"/\" + image_file_prefix + \"_age_diff_separation_percentages\")"
   ]
  },
  {
   "cell_type": "code",
   "execution_count": 266,
   "metadata": {},
   "outputs": [
    {
     "data": {
      "text/plain": [
       "county_code_L               object\n",
       "voter_id_L                   int64\n",
       "last_name_L                 object\n",
       "first_name_L                object\n",
       "residence_addr_line_1_L     object\n",
       "residence_addr_line_2_L     object\n",
       "residence_city_L            object\n",
       "residence_zipcode_L          int64\n",
       "gender_L                    object\n",
       "race_L                       int64\n",
       "birth_date_L                object\n",
       "registration_date_L         object\n",
       "party_affiliation_L         object\n",
       "precinct_L                  object\n",
       "voter_status_L              object\n",
       "age_L                        int64\n",
       "residence_zipcode_5_L        int64\n",
       "residence_zipcode_4_L      float64\n",
       "uniq_addr                   object\n",
       "county_code_R               object\n",
       "voter_id_R                   int64\n",
       "last_name_R                 object\n",
       "first_name_R                object\n",
       "residence_addr_line_1_R     object\n",
       "residence_addr_line_2_R     object\n",
       "residence_city_R            object\n",
       "residence_zipcode_R          int64\n",
       "gender_R                    object\n",
       "race_R                       int64\n",
       "birth_date_R                object\n",
       "registration_date_R         object\n",
       "party_affiliation_R         object\n",
       "precinct_R                  object\n",
       "voter_status_R              object\n",
       "age_R                        int64\n",
       "residence_zipcode_5_R        int64\n",
       "residence_zipcode_4_R      float64\n",
       "age_diff                     int64\n",
       "uniq_addr_L                 object\n",
       "uniq_addr_R                 object\n",
       "separated                     bool\n",
       "race_desc_L                 object\n",
       "race_desc_R                 object\n",
       "dtype: object"
      ]
     },
     "execution_count": 266,
     "metadata": {},
     "output_type": "execute_result"
    }
   ],
   "source": [
    "couples_df_found.dtypes"
   ]
  },
  {
   "cell_type": "code",
   "execution_count": 268,
   "metadata": {},
   "outputs": [
    {
     "name": "stdout",
     "output_type": "stream",
     "text": [
      "Correlation of Age Diff Vs separation rate: 0.9559325357743431 \n",
      "P_value: 7.699727459389078e-09\n"
     ]
    }
   ],
   "source": [
    "import scipy.stats as stats\n",
    "pearson_corr, corr_pvalue = stats.pearsonr(age_diff_separation_stats['age_diff'], age_diff_separation_stats['percent'])\n",
    "print('Correlation of Age Diff Vs separation rate: {} \\nP_value: {}'.format(pearson_corr, corr_pvalue))"
   ]
  },
  {
   "cell_type": "code",
   "execution_count": null,
   "metadata": {},
   "outputs": [],
   "source": [
    "couples_df_found.dtypes"
   ]
  },
  {
   "cell_type": "code",
   "execution_count": null,
   "metadata": {},
   "outputs": [],
   "source": [
    "couples_df_found.shape"
   ]
  },
  {
   "cell_type": "code",
   "execution_count": null,
   "metadata": {},
   "outputs": [],
   "source": [
    "gender_numeric_mapping = {\"M\" : 0, \"F\": 1, \"U\": 2}"
   ]
  },
  {
   "cell_type": "code",
   "execution_count": null,
   "metadata": {},
   "outputs": [],
   "source": [
    "couples_df_found['gender_L_N'] = couples_df_found[\"gender_L\"].apply(lambda x: gender_numeric_mapping[x])\n",
    "couples_df_found['gender_R_N'] = couples_df_found[\"gender_R\"].apply(lambda x: gender_numeric_mapping[x])"
   ]
  },
  {
   "cell_type": "code",
   "execution_count": null,
   "metadata": {},
   "outputs": [],
   "source": [
    "couples_df_found[[\"gender_L_N\", \"gender_L\", \"gender_R_N\", \"gender_R\"]].head()"
   ]
  },
  {
   "cell_type": "code",
   "execution_count": null,
   "metadata": {},
   "outputs": [],
   "source": [
    "#features = ['race_L', 'race_R', 'separated']\n",
    "#features = ['Latitude', 'Latitude_R','Longitude','Longitude_R', 'separated']\n",
    "# features = ['Latitude', 'Latitude_R','Longitude','Longitude_R', 'separated']\n",
    "features = ['gender_L_N', 'gender_R_N', 'separated']\n"
   ]
  },
  {
   "cell_type": "code",
   "execution_count": null,
   "metadata": {},
   "outputs": [],
   "source": [
    "df = couples_df_found[couples_df_found['county_code_L']=='BRO'][features]"
   ]
  },
  {
   "cell_type": "code",
   "execution_count": null,
   "metadata": {},
   "outputs": [],
   "source": [
    "df['sep']=np.where(df[\"separated\"] == True , 1, 0) "
   ]
  },
  {
   "cell_type": "code",
   "execution_count": null,
   "metadata": {},
   "outputs": [],
   "source": [
    "del df['separated']"
   ]
  },
  {
   "cell_type": "code",
   "execution_count": null,
   "metadata": {},
   "outputs": [],
   "source": [
    "df.describe()"
   ]
  },
  {
   "cell_type": "code",
   "execution_count": null,
   "metadata": {},
   "outputs": [],
   "source": [
    "tsne = TSNE(n_components=2)\n",
    "tsne_results = tsne.fit_transform(df)\n",
    "df['tsne-X'] = tsne_results[:,0]\n",
    "df['tsne-Y'] = tsne_results[:,1]"
   ]
  },
  {
   "cell_type": "code",
   "execution_count": null,
   "metadata": {},
   "outputs": [],
   "source": [
    "plt.figure(figsize=(16,10))\n",
    "sns.scatterplot(\n",
    "    x=\"tsne-X\", y=\"tsne-Y\",\n",
    "    hue=\"sep\",\n",
    "    palette=sns.color_palette(\"hls\", 2),\n",
    "    data=df,\n",
    "    legend=\"full\",\n",
    "    alpha=0.3\n",
    ")\n",
    "plt.savefig('plots/florida_2014-19_BRO_gender_tsne')"
   ]
  },
  {
   "cell_type": "code",
   "execution_count": null,
   "metadata": {},
   "outputs": [],
   "source": [
    "# cf_polarized_all = np.where(((couples_df_found[\"party_affiliation_L\"] == \"DEM\") & (couples_df_found[\"party_affiliation_R\"] == \"DEM\"))\n",
    "#                             | ((couples_df_found[\"party_affiliation_L\"] == \"REP\") & (couples_df_found[\"party_affiliation_R\"] == \"REP\"))\n",
    "#                             | ((couples_df_found[\"party_affiliation_L\"] == \"NPA\") & (couples_df_found[\"party_affiliation_R\"] == \"NPA\"))\n",
    "#                         , 0, 1) "
   ]
  },
  {
   "cell_type": "code",
   "execution_count": null,
   "metadata": {},
   "outputs": [],
   "source": [
    "#pearson_corr, corr_pvalue = stats.pearsonr(cf_polarized_all, cf_separated)\n",
    "#print('Correlation of Polarized couples Vs their separation rate: {} \\nP_value: {}'.format(pearson_corr, corr_pvalue))"
   ]
  },
  {
   "cell_type": "code",
   "execution_count": null,
   "metadata": {},
   "outputs": [],
   "source": [
    "#couples_df_stat = pd.read_csv(\"stats/20160307_20180313/party_affiliation_totalCouples-2709111.csv\" , sep='\\t')"
   ]
  },
  {
   "cell_type": "code",
   "execution_count": null,
   "metadata": {},
   "outputs": [],
   "source": [
    "#couples_df_stat.columns = [\"no\", \"separation_percent\",\"cat_comb\",\"total\",\"cat_comb_percent\"]"
   ]
  },
  {
   "cell_type": "code",
   "execution_count": null,
   "metadata": {},
   "outputs": [],
   "source": [
    "#couples_df_stat[\"no\"]"
   ]
  },
  {
   "cell_type": "code",
   "execution_count": null,
   "metadata": {},
   "outputs": [],
   "source": [
    "from sklearn.metrics import jaccard_score"
   ]
  },
  {
   "cell_type": "code",
   "execution_count": null,
   "metadata": {},
   "outputs": [],
   "source": [
    "#couples_df_n = pd.merge(couples_df, fla_lat, left_on=\"uniq_addr\", right_on = \"uniq_addr_2\",)"
   ]
  },
  {
   "cell_type": "code",
   "execution_count": null,
   "metadata": {},
   "outputs": [],
   "source": [
    "#couples_df_n.isnull().sum()"
   ]
  },
  {
   "cell_type": "code",
   "execution_count": null,
   "metadata": {},
   "outputs": [],
   "source": [
    "jaccard_similarity(tokenized_row_L, tokenized_row_R)"
   ]
  },
  {
   "cell_type": "code",
   "execution_count": null,
   "metadata": {},
   "outputs": [],
   "source": [
    "def jaccard_similarity(query, document):\n",
    "    intersection = set(query).intersection(set(document))\n",
    "    union = set(query).union(set(document))\n",
    "    return len(intersection)/len(union)"
   ]
  },
  {
   "cell_type": "code",
   "execution_count": null,
   "metadata": {},
   "outputs": [],
   "source": [
    "tokenized_row_L = [d.split() for d in couples_df_found['uniq_addr_L']]\n",
    "tokenized_row_R = [d.split() for d in couples_df_found['uniq_addr_R']]\n"
   ]
  },
  {
   "cell_type": "code",
   "execution_count": null,
   "metadata": {},
   "outputs": [],
   "source": [
    "from scipy.stats import chi2_contingency\n",
    "#print(chi2_contingency(pd.crosstab(cf_polarized_all, cf_separated)))\n",
    "\n",
    "def cramers_corrected_stat(confusion_matrix):\n",
    "    \"\"\" calculate Cramers V statistic for categorial-categorial association.\n",
    "        uses correction from Bergsma and Wicher, \n",
    "        Journal of the Korean Statistical Society 42 (2013): 323-328\n",
    "    \"\"\"\n",
    "    chi2 = chi2_contingency(confusion_matrix)[0]\n",
    "    n = confusion_matrix.sum()\n",
    "    phi2 = chi2/n\n",
    "    r,k = confusion_matrix.shape\n",
    "    phi2corr = max(0, phi2 - ((k-1)*(r-1))/(n-1))\n",
    "    rcorr = r - ((r-1)**2)/(n-1)\n",
    "    kcorr = k - ((k-1)**2)/(n-1)\n",
    "    return np.sqrt(phi2corr / min( (kcorr-1), (rcorr-1)))\n",
    "\n",
    "#cramers_corrected_stat(pd.crosstab(cf_polarized_all, cf_separated))"
   ]
  },
  {
   "cell_type": "code",
   "execution_count": null,
   "metadata": {},
   "outputs": [],
   "source": []
  },
  {
   "cell_type": "code",
   "execution_count": null,
   "metadata": {},
   "outputs": [],
   "source": []
  },
  {
   "cell_type": "code",
   "execution_count": null,
   "metadata": {},
   "outputs": [],
   "source": []
  }
 ],
 "metadata": {
  "kernelspec": {
   "display_name": "Python 3",
   "language": "python",
   "name": "python3"
  },
  "language_info": {
   "codemirror_mode": {
    "name": "ipython",
    "version": 3
   },
   "file_extension": ".py",
   "mimetype": "text/x-python",
   "name": "python",
   "nbconvert_exporter": "python",
   "pygments_lexer": "ipython3",
   "version": "3.7.4"
  }
 },
 "nbformat": 4,
 "nbformat_minor": 4
}
