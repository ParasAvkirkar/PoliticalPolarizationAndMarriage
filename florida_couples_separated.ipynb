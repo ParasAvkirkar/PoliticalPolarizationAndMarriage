{
 "cells": [
  {
   "cell_type": "code",
   "execution_count": 1,
   "metadata": {},
   "outputs": [],
   "source": [
    "import pandas as pd\n",
    "import random\n",
    "import numpy as np\n",
    "import time\n",
    "import math\n",
    "import sys\n",
    "import matplotlib.patches as mpatches\n",
    "import matplotlib.pyplot as plt\n",
    "import seaborn as sns\n",
    "import xgboost as xgb\n",
    "import datatable as dt\n",
    "\n",
    "from xgboost import plot_tree\n",
    "from os import walk\n",
    "from os import listdir\n",
    "from os.path import isfile, join\n",
    "from scipy.spatial.distance import euclidean, pdist, squareform\n",
    "from scipy.stats import skew\n",
    "from scipy.special import expit as sigmoid\n",
    "from scipy.cluster.hierarchy import fclusterdata\n",
    "from pandas.plotting import autocorrelation_plot\n",
    "from sklearn.model_selection import train_test_split\n",
    "from sklearn.linear_model import LogisticRegression\n",
    "from sklearn.linear_model import LinearRegression\n",
    "from sklearn.ensemble import RandomForestClassifier\n",
    "from sklearn import tree\n",
    "from sklearn.metrics import precision_recall_fscore_support\n",
    "from sklearn import preprocessing\n",
    "from sklearn.metrics import confusion_matrix\n",
    "from sklearn.metrics import roc_auc_score\n",
    "from sklearn.utils import resample\n",
    "from imblearn.over_sampling import SMOTE, ADASYN\n",
    "from imblearn.under_sampling import ClusterCentroids\n",
    "from imblearn.under_sampling import RandomUnderSampler\n",
    "from sklearn.preprocessing import LabelEncoder\n",
    "from sklearn.metrics import pairwise_distances\n",
    "from sklearn.cluster import AgglomerativeClustering\n",
    "from sklearn.manifold import TSNE\n",
    "from sklearn.metrics import mean_absolute_error\n",
    "from sklearn.metrics import mean_squared_error"
   ]
  },
  {
   "cell_type": "code",
   "execution_count": 2,
   "metadata": {},
   "outputs": [],
   "source": [
    "DATA_PATH = ''\n",
    "#HISTORY_PATH = \"Voter_History_{0}\"\n",
    "PREPROCESSED_PATH = \"preprocessed/{0}/florida_processed_{0}.csv\"\n",
    "COUPLES_PATH=\"couples/{0}/couples_{0}.csv\""
   ]
  },
  {
   "cell_type": "code",
   "execution_count": 6,
   "metadata": {},
   "outputs": [],
   "source": [
    "preprocessed_date = '20160307'"
   ]
  },
  {
   "cell_type": "code",
   "execution_count": 7,
   "metadata": {},
   "outputs": [],
   "source": [
    "couples_date = '20140319'"
   ]
  },
  {
   "cell_type": "code",
   "execution_count": null,
   "metadata": {},
   "outputs": [],
   "source": []
  },
  {
   "cell_type": "code",
   "execution_count": 8,
   "metadata": {},
   "outputs": [
    {
     "name": "stderr",
     "output_type": "stream",
     "text": [
      "/home/rahullachh/anaconda3/lib/python3.7/site-packages/IPython/core/interactiveshell.py:3058: DtypeWarning: Columns (14) have mixed types. Specify dtype option on import or set low_memory=False.\n",
      "  interactivity=interactivity, compiler=compiler, result=result)\n"
     ]
    }
   ],
   "source": [
    "global_df = pd.read_csv(PREPROCESSED_PATH.format(preprocessed_date) , sep='\\t')"
   ]
  },
  {
   "cell_type": "code",
   "execution_count": 9,
   "metadata": {},
   "outputs": [],
   "source": [
    "# global_df.isnull().sum()"
   ]
  },
  {
   "cell_type": "code",
   "execution_count": 10,
   "metadata": {},
   "outputs": [
    {
     "data": {
      "text/html": [
       "<div>\n",
       "<style scoped>\n",
       "    .dataframe tbody tr th:only-of-type {\n",
       "        vertical-align: middle;\n",
       "    }\n",
       "\n",
       "    .dataframe tbody tr th {\n",
       "        vertical-align: top;\n",
       "    }\n",
       "\n",
       "    .dataframe thead th {\n",
       "        text-align: right;\n",
       "    }\n",
       "</style>\n",
       "<table border=\"1\" class=\"dataframe\">\n",
       "  <thead>\n",
       "    <tr style=\"text-align: right;\">\n",
       "      <th></th>\n",
       "      <th>county_code</th>\n",
       "      <th>voter_id</th>\n",
       "      <th>last_name</th>\n",
       "      <th>first_name</th>\n",
       "      <th>requested_public_records_exemption</th>\n",
       "      <th>residence_addr_line_1</th>\n",
       "      <th>residence_addr_line_2</th>\n",
       "      <th>residence_city</th>\n",
       "      <th>residence_zipcode</th>\n",
       "      <th>gender</th>\n",
       "      <th>race</th>\n",
       "      <th>birth_date</th>\n",
       "      <th>registration_date</th>\n",
       "      <th>party_affiliation</th>\n",
       "      <th>precinct</th>\n",
       "      <th>voter_status</th>\n",
       "      <th>age</th>\n",
       "      <th>residence_zipcode_5</th>\n",
       "      <th>residence_zipcode_4</th>\n",
       "      <th>uniq_addr</th>\n",
       "    </tr>\n",
       "  </thead>\n",
       "  <tbody>\n",
       "    <tr>\n",
       "      <td>0</td>\n",
       "      <td>ALA</td>\n",
       "      <td>100003724</td>\n",
       "      <td>dungan</td>\n",
       "      <td>christine</td>\n",
       "      <td>N</td>\n",
       "      <td>6323  nw 37th ter</td>\n",
       "      <td>NaN</td>\n",
       "      <td>gainesville</td>\n",
       "      <td>32653</td>\n",
       "      <td>F</td>\n",
       "      <td>5</td>\n",
       "      <td>03/01/1945</td>\n",
       "      <td>03/16/1973</td>\n",
       "      <td>DEM</td>\n",
       "      <td>45</td>\n",
       "      <td>ACT</td>\n",
       "      <td>71</td>\n",
       "      <td>32653</td>\n",
       "      <td>NaN</td>\n",
       "      <td>6323  nw 37th ter  gainesville 32653</td>\n",
       "    </tr>\n",
       "    <tr>\n",
       "      <td>1</td>\n",
       "      <td>ALA</td>\n",
       "      <td>100003725</td>\n",
       "      <td>dungan</td>\n",
       "      <td>richard</td>\n",
       "      <td>N</td>\n",
       "      <td>6326  nw 37th ter</td>\n",
       "      <td>NaN</td>\n",
       "      <td>gainesville</td>\n",
       "      <td>32653</td>\n",
       "      <td>M</td>\n",
       "      <td>5</td>\n",
       "      <td>09/09/1932</td>\n",
       "      <td>10/04/1960</td>\n",
       "      <td>DEM</td>\n",
       "      <td>45</td>\n",
       "      <td>ACT</td>\n",
       "      <td>83</td>\n",
       "      <td>32653</td>\n",
       "      <td>NaN</td>\n",
       "      <td>6326  nw 37th ter  gainesville 32653</td>\n",
       "    </tr>\n",
       "    <tr>\n",
       "      <td>2</td>\n",
       "      <td>ALA</td>\n",
       "      <td>100005820</td>\n",
       "      <td>haskins</td>\n",
       "      <td>terry</td>\n",
       "      <td>N</td>\n",
       "      <td>7948  nw 49th way</td>\n",
       "      <td>NaN</td>\n",
       "      <td>gainesville</td>\n",
       "      <td>32653</td>\n",
       "      <td>M</td>\n",
       "      <td>5</td>\n",
       "      <td>06/19/1946</td>\n",
       "      <td>06/25/1968</td>\n",
       "      <td>DEM</td>\n",
       "      <td>45</td>\n",
       "      <td>ACT</td>\n",
       "      <td>69</td>\n",
       "      <td>32653</td>\n",
       "      <td>NaN</td>\n",
       "      <td>7948  nw 49th way  gainesville 32653</td>\n",
       "    </tr>\n",
       "    <tr>\n",
       "      <td>3</td>\n",
       "      <td>ALA</td>\n",
       "      <td>100009183</td>\n",
       "      <td>matthews</td>\n",
       "      <td>janet</td>\n",
       "      <td>N</td>\n",
       "      <td>2712  sw 5th pl</td>\n",
       "      <td>NaN</td>\n",
       "      <td>gainesville</td>\n",
       "      <td>32607</td>\n",
       "      <td>F</td>\n",
       "      <td>5</td>\n",
       "      <td>09/28/1939</td>\n",
       "      <td>08/07/1970</td>\n",
       "      <td>DEM</td>\n",
       "      <td>26</td>\n",
       "      <td>ACT</td>\n",
       "      <td>76</td>\n",
       "      <td>32607</td>\n",
       "      <td>NaN</td>\n",
       "      <td>2712  sw 5th pl  gainesville 32607</td>\n",
       "    </tr>\n",
       "    <tr>\n",
       "      <td>4</td>\n",
       "      <td>ALA</td>\n",
       "      <td>100010140</td>\n",
       "      <td>niederlitz</td>\n",
       "      <td>mary</td>\n",
       "      <td>N</td>\n",
       "      <td>1732  nw 7th ave</td>\n",
       "      <td>NaN</td>\n",
       "      <td>gainesville</td>\n",
       "      <td>32603</td>\n",
       "      <td>F</td>\n",
       "      <td>5</td>\n",
       "      <td>03/01/1923</td>\n",
       "      <td>02/09/1972</td>\n",
       "      <td>DEM</td>\n",
       "      <td>5</td>\n",
       "      <td>INA</td>\n",
       "      <td>93</td>\n",
       "      <td>32603</td>\n",
       "      <td>NaN</td>\n",
       "      <td>1732  nw 7th ave  gainesville 32603</td>\n",
       "    </tr>\n",
       "  </tbody>\n",
       "</table>\n",
       "</div>"
      ],
      "text/plain": [
       "  county_code   voter_id   last_name first_name  \\\n",
       "0         ALA  100003724      dungan  christine   \n",
       "1         ALA  100003725      dungan    richard   \n",
       "2         ALA  100005820     haskins      terry   \n",
       "3         ALA  100009183    matthews      janet   \n",
       "4         ALA  100010140  niederlitz       mary   \n",
       "\n",
       "  requested_public_records_exemption residence_addr_line_1  \\\n",
       "0                                  N     6323  nw 37th ter   \n",
       "1                                  N     6326  nw 37th ter   \n",
       "2                                  N     7948  nw 49th way   \n",
       "3                                  N       2712  sw 5th pl   \n",
       "4                                  N      1732  nw 7th ave   \n",
       "\n",
       "  residence_addr_line_2 residence_city  residence_zipcode gender  race  \\\n",
       "0                   NaN    gainesville              32653      F     5   \n",
       "1                   NaN    gainesville              32653      M     5   \n",
       "2                   NaN    gainesville              32653      M     5   \n",
       "3                   NaN    gainesville              32607      F     5   \n",
       "4                   NaN    gainesville              32603      F     5   \n",
       "\n",
       "   birth_date registration_date party_affiliation precinct voter_status  age  \\\n",
       "0  03/01/1945        03/16/1973               DEM       45          ACT   71   \n",
       "1  09/09/1932        10/04/1960               DEM       45          ACT   83   \n",
       "2  06/19/1946        06/25/1968               DEM       45          ACT   69   \n",
       "3  09/28/1939        08/07/1970               DEM       26          ACT   76   \n",
       "4  03/01/1923        02/09/1972               DEM        5          INA   93   \n",
       "\n",
       "   residence_zipcode_5  residence_zipcode_4  \\\n",
       "0                32653                  NaN   \n",
       "1                32653                  NaN   \n",
       "2                32653                  NaN   \n",
       "3                32607                  NaN   \n",
       "4                32603                  NaN   \n",
       "\n",
       "                              uniq_addr  \n",
       "0  6323  nw 37th ter  gainesville 32653  \n",
       "1  6326  nw 37th ter  gainesville 32653  \n",
       "2  7948  nw 49th way  gainesville 32653  \n",
       "3    2712  sw 5th pl  gainesville 32607  \n",
       "4   1732  nw 7th ave  gainesville 32603  "
      ]
     },
     "execution_count": 10,
     "metadata": {},
     "output_type": "execute_result"
    }
   ],
   "source": [
    "global_df.head()"
   ]
  },
  {
   "cell_type": "code",
   "execution_count": 11,
   "metadata": {},
   "outputs": [],
   "source": [
    "req_cols = ['last_name', 'race', 'first_name']\n",
    "global_df = global_df.dropna(subset=req_cols)"
   ]
  },
  {
   "cell_type": "code",
   "execution_count": 12,
   "metadata": {},
   "outputs": [
    {
     "data": {
      "text/plain": [
       "county_code                                  0\n",
       "voter_id                                     0\n",
       "last_name                                    0\n",
       "first_name                                   0\n",
       "requested_public_records_exemption           0\n",
       "residence_addr_line_1                        0\n",
       "residence_addr_line_2                 10795885\n",
       "residence_city                               0\n",
       "residence_zipcode                            0\n",
       "gender                                       0\n",
       "race                                         0\n",
       "birth_date                                   0\n",
       "registration_date                            0\n",
       "party_affiliation                            0\n",
       "precinct                                     0\n",
       "voter_status                                 0\n",
       "age                                          0\n",
       "residence_zipcode_5                          0\n",
       "residence_zipcode_4                   11208251\n",
       "uniq_addr                                    0\n",
       "dtype: int64"
      ]
     },
     "execution_count": 12,
     "metadata": {},
     "output_type": "execute_result"
    }
   ],
   "source": [
    "global_df.isnull().sum()"
   ]
  },
  {
   "cell_type": "code",
   "execution_count": 13,
   "metadata": {},
   "outputs": [
    {
     "data": {
      "text/plain": [
       "(13254464, 20)"
      ]
     },
     "execution_count": 13,
     "metadata": {},
     "output_type": "execute_result"
    }
   ],
   "source": [
    "global_df.shape"
   ]
  },
  {
   "cell_type": "code",
   "execution_count": 14,
   "metadata": {},
   "outputs": [
    {
     "name": "stderr",
     "output_type": "stream",
     "text": [
      "/home/rahullachh/anaconda3/lib/python3.7/site-packages/IPython/core/interactiveshell.py:3058: DtypeWarning: Columns (13,32) have mixed types. Specify dtype option on import or set low_memory=False.\n",
      "  interactivity=interactivity, compiler=compiler, result=result)\n"
     ]
    }
   ],
   "source": [
    "couples_df = pd.read_csv(COUPLES_PATH.format(couples_date) , sep='\\t')"
   ]
  },
  {
   "cell_type": "code",
   "execution_count": 21,
   "metadata": {},
   "outputs": [
    {
     "data": {
      "text/html": [
       "<div>\n",
       "<style scoped>\n",
       "    .dataframe tbody tr th:only-of-type {\n",
       "        vertical-align: middle;\n",
       "    }\n",
       "\n",
       "    .dataframe tbody tr th {\n",
       "        vertical-align: top;\n",
       "    }\n",
       "\n",
       "    .dataframe thead th {\n",
       "        text-align: right;\n",
       "    }\n",
       "</style>\n",
       "<table border=\"1\" class=\"dataframe\">\n",
       "  <thead>\n",
       "    <tr style=\"text-align: right;\">\n",
       "      <th></th>\n",
       "      <th>uniq_addr</th>\n",
       "    </tr>\n",
       "  </thead>\n",
       "  <tbody>\n",
       "    <tr>\n",
       "      <td>0</td>\n",
       "      <td>1   clay county  grn cv spgs 32043</td>\n",
       "    </tr>\n",
       "    <tr>\n",
       "      <td>1</td>\n",
       "      <td>4923   adra ct  fleming island 32003</td>\n",
       "    </tr>\n",
       "    <tr>\n",
       "      <td>2</td>\n",
       "      <td>2332   birdwood dr  orange park 32073</td>\n",
       "    </tr>\n",
       "    <tr>\n",
       "      <td>3</td>\n",
       "      <td>3016   alpaca ave  middleburg 32068</td>\n",
       "    </tr>\n",
       "    <tr>\n",
       "      <td>4</td>\n",
       "      <td>6653   immokalee rd  keystone heights 32656</td>\n",
       "    </tr>\n",
       "  </tbody>\n",
       "</table>\n",
       "</div>"
      ],
      "text/plain": [
       "                                     uniq_addr\n",
       "0           1   clay county  grn cv spgs 32043\n",
       "1         4923   adra ct  fleming island 32003\n",
       "2        2332   birdwood dr  orange park 32073\n",
       "3          3016   alpaca ave  middleburg 32068\n",
       "4  6653   immokalee rd  keystone heights 32656"
      ]
     },
     "execution_count": 21,
     "metadata": {},
     "output_type": "execute_result"
    }
   ],
   "source": [
    "couples_df[[\"uniq_addr\"]].head()"
   ]
  },
  {
   "cell_type": "markdown",
   "metadata": {},
   "source": [
    "## Collecting Addresses of voters"
   ]
  },
  {
   "cell_type": "code",
   "execution_count": 17,
   "metadata": {},
   "outputs": [],
   "source": [
    "addr_df=global_df[['uniq_addr','voter_id']] "
   ]
  },
  {
   "cell_type": "code",
   "execution_count": 19,
   "metadata": {},
   "outputs": [],
   "source": [
    "couples_df_found = pd.merge(couples_df, addr_df, left_on=[\"voter_id_L\"], right_on=[\"voter_id\"], suffixes=[\"\",\"_L\"])"
   ]
  },
  {
   "cell_type": "markdown",
   "metadata": {},
   "source": [
    "### Removing extra column generated of voter id"
   ]
  },
  {
   "cell_type": "code",
   "execution_count": 22,
   "metadata": {},
   "outputs": [],
   "source": [
    "del couples_df_found['voter_id']"
   ]
  },
  {
   "cell_type": "code",
   "execution_count": 23,
   "metadata": {},
   "outputs": [],
   "source": [
    "couples_df_found = pd.merge(couples_df_found, addr_df, left_on=[\"voter_id_R\"], right_on=[\"voter_id\"], suffixes=[\"\",\"_R\"])"
   ]
  },
  {
   "cell_type": "markdown",
   "metadata": {},
   "source": [
    "### Removing extra column generated of voter id"
   ]
  },
  {
   "cell_type": "code",
   "execution_count": 28,
   "metadata": {},
   "outputs": [],
   "source": [
    "del couples_df_found['voter_id']"
   ]
  },
  {
   "cell_type": "code",
   "execution_count": 29,
   "metadata": {},
   "outputs": [
    {
     "data": {
      "text/html": [
       "<div>\n",
       "<style scoped>\n",
       "    .dataframe tbody tr th:only-of-type {\n",
       "        vertical-align: middle;\n",
       "    }\n",
       "\n",
       "    .dataframe tbody tr th {\n",
       "        vertical-align: top;\n",
       "    }\n",
       "\n",
       "    .dataframe thead th {\n",
       "        text-align: right;\n",
       "    }\n",
       "</style>\n",
       "<table border=\"1\" class=\"dataframe\">\n",
       "  <thead>\n",
       "    <tr style=\"text-align: right;\">\n",
       "      <th></th>\n",
       "      <th>voter_id_L</th>\n",
       "      <th>voter_id_R</th>\n",
       "      <th>uniq_addr_L</th>\n",
       "      <th>uniq_addr_R</th>\n",
       "    </tr>\n",
       "  </thead>\n",
       "  <tbody>\n",
       "    <tr>\n",
       "      <td>0</td>\n",
       "      <td>111224731</td>\n",
       "      <td>114194885</td>\n",
       "      <td>1   clay county  grn cv spgs 32043</td>\n",
       "      <td>1   clay county  grn cv spgs 32043</td>\n",
       "    </tr>\n",
       "    <tr>\n",
       "      <td>1</td>\n",
       "      <td>102846326</td>\n",
       "      <td>102848834</td>\n",
       "      <td>4923   adra ct  fleming island 32003</td>\n",
       "      <td>4923   adra ct  fleming island 32003</td>\n",
       "    </tr>\n",
       "    <tr>\n",
       "      <td>2</td>\n",
       "      <td>102846332</td>\n",
       "      <td>102848464</td>\n",
       "      <td>2332   birdwood dr  orange park 32073</td>\n",
       "      <td>2332   birdwood dr  orange park 32073</td>\n",
       "    </tr>\n",
       "    <tr>\n",
       "      <td>3</td>\n",
       "      <td>102846804</td>\n",
       "      <td>102933269</td>\n",
       "      <td>3016   alpaca ave  middleburg 32068</td>\n",
       "      <td>3016   alpaca ave  middleburg 32068</td>\n",
       "    </tr>\n",
       "    <tr>\n",
       "      <td>4</td>\n",
       "      <td>102840283</td>\n",
       "      <td>102841076</td>\n",
       "      <td>6653   immokalee rd  keystone heights 32656</td>\n",
       "      <td>6653   immokalee rd  keystone heights 32656</td>\n",
       "    </tr>\n",
       "  </tbody>\n",
       "</table>\n",
       "</div>"
      ],
      "text/plain": [
       "   voter_id_L  voter_id_R                                  uniq_addr_L  \\\n",
       "0   111224731   114194885           1   clay county  grn cv spgs 32043   \n",
       "1   102846326   102848834         4923   adra ct  fleming island 32003   \n",
       "2   102846332   102848464        2332   birdwood dr  orange park 32073   \n",
       "3   102846804   102933269          3016   alpaca ave  middleburg 32068   \n",
       "4   102840283   102841076  6653   immokalee rd  keystone heights 32656   \n",
       "\n",
       "                                   uniq_addr_R  \n",
       "0           1   clay county  grn cv spgs 32043  \n",
       "1         4923   adra ct  fleming island 32003  \n",
       "2        2332   birdwood dr  orange park 32073  \n",
       "3          3016   alpaca ave  middleburg 32068  \n",
       "4  6653   immokalee rd  keystone heights 32656  "
      ]
     },
     "execution_count": 29,
     "metadata": {},
     "output_type": "execute_result"
    }
   ],
   "source": [
    "couples_df_found[[\"voter_id_L\",\"voter_id_R\", \"uniq_addr_L\",\"uniq_addr_R\"]].head()"
   ]
  },
  {
   "cell_type": "code",
   "execution_count": 30,
   "metadata": {},
   "outputs": [],
   "source": [
    "couples_df_found['separated'] = couples_df_found.apply(lambda x : x.uniq_addr_L != x.uniq_addr_R, axis=1)"
   ]
  },
  {
   "cell_type": "markdown",
   "metadata": {},
   "source": [
    "## Separation percentage"
   ]
  },
  {
   "cell_type": "code",
   "execution_count": 108,
   "metadata": {},
   "outputs": [
    {
     "data": {
      "text/plain": [
       "False    2408184\n",
       "True      277206\n",
       "Name: separated, dtype: int64"
      ]
     },
     "execution_count": 108,
     "metadata": {},
     "output_type": "execute_result"
    }
   ],
   "source": [
    "couples_df_found['separated'].value_counts()"
   ]
  },
  {
   "cell_type": "code",
   "execution_count": 31,
   "metadata": {},
   "outputs": [
    {
     "data": {
      "text/plain": [
       "False    0.896773\n",
       "True     0.103227\n",
       "Name: separated, dtype: float64"
      ]
     },
     "execution_count": 31,
     "metadata": {},
     "output_type": "execute_result"
    }
   ],
   "source": [
    "couples_df_found['separated'].value_counts()/couples_df_found['separated'].shape"
   ]
  },
  {
   "cell_type": "code",
   "execution_count": 109,
   "metadata": {},
   "outputs": [],
   "source": [
    "# couples_df_found.isnull().sum()"
   ]
  },
  {
   "cell_type": "code",
   "execution_count": 110,
   "metadata": {},
   "outputs": [
    {
     "data": {
      "text/html": [
       "<div>\n",
       "<style scoped>\n",
       "    .dataframe tbody tr th:only-of-type {\n",
       "        vertical-align: middle;\n",
       "    }\n",
       "\n",
       "    .dataframe tbody tr th {\n",
       "        vertical-align: top;\n",
       "    }\n",
       "\n",
       "    .dataframe thead th {\n",
       "        text-align: right;\n",
       "    }\n",
       "</style>\n",
       "<table border=\"1\" class=\"dataframe\">\n",
       "  <thead>\n",
       "    <tr style=\"text-align: right;\">\n",
       "      <th></th>\n",
       "      <th>county_code_L</th>\n",
       "      <th>voter_id_L</th>\n",
       "      <th>last_name_L</th>\n",
       "      <th>first_name_L</th>\n",
       "      <th>residence_addr_line_1_L</th>\n",
       "      <th>residence_addr_line_2_L</th>\n",
       "      <th>residence_city_L</th>\n",
       "      <th>residence_zipcode_L</th>\n",
       "      <th>gender_L</th>\n",
       "      <th>race_L</th>\n",
       "      <th>...</th>\n",
       "      <th>party_affiliation_R</th>\n",
       "      <th>precinct_R</th>\n",
       "      <th>voter_status_R</th>\n",
       "      <th>age_R</th>\n",
       "      <th>residence_zipcode_5_R</th>\n",
       "      <th>residence_zipcode_4_R</th>\n",
       "      <th>age_diff</th>\n",
       "      <th>uniq_addr_L</th>\n",
       "      <th>uniq_addr_R</th>\n",
       "      <th>separated</th>\n",
       "    </tr>\n",
       "  </thead>\n",
       "  <tbody>\n",
       "    <tr>\n",
       "      <td>0</td>\n",
       "      <td>CLA</td>\n",
       "      <td>111224731</td>\n",
       "      <td>clegg</td>\n",
       "      <td>bonnie</td>\n",
       "      <td>1   clay county</td>\n",
       "      <td>NaN</td>\n",
       "      <td>grn cv spgs</td>\n",
       "      <td>32043</td>\n",
       "      <td>F</td>\n",
       "      <td>5.0</td>\n",
       "      <td>...</td>\n",
       "      <td>REP</td>\n",
       "      <td>606</td>\n",
       "      <td>ACT</td>\n",
       "      <td>62</td>\n",
       "      <td>32043</td>\n",
       "      <td>NaN</td>\n",
       "      <td>0</td>\n",
       "      <td>1   clay county  grn cv spgs 32043</td>\n",
       "      <td>1   clay county  grn cv spgs 32043</td>\n",
       "      <td>False</td>\n",
       "    </tr>\n",
       "    <tr>\n",
       "      <td>1</td>\n",
       "      <td>CLA</td>\n",
       "      <td>102846326</td>\n",
       "      <td>champion</td>\n",
       "      <td>elizabeth</td>\n",
       "      <td>4923   adra ct</td>\n",
       "      <td>NaN</td>\n",
       "      <td>fleming island</td>\n",
       "      <td>320037873</td>\n",
       "      <td>F</td>\n",
       "      <td>5.0</td>\n",
       "      <td>...</td>\n",
       "      <td>REP</td>\n",
       "      <td>414</td>\n",
       "      <td>ACT</td>\n",
       "      <td>57</td>\n",
       "      <td>32003</td>\n",
       "      <td>7873.0</td>\n",
       "      <td>0</td>\n",
       "      <td>4923   adra ct  fleming island 32003</td>\n",
       "      <td>4923   adra ct  fleming island 32003</td>\n",
       "      <td>False</td>\n",
       "    </tr>\n",
       "    <tr>\n",
       "      <td>2</td>\n",
       "      <td>CLA</td>\n",
       "      <td>102846332</td>\n",
       "      <td>rund</td>\n",
       "      <td>matthew</td>\n",
       "      <td>2332   birdwood dr</td>\n",
       "      <td>NaN</td>\n",
       "      <td>orange park</td>\n",
       "      <td>320735324</td>\n",
       "      <td>M</td>\n",
       "      <td>5.0</td>\n",
       "      <td>...</td>\n",
       "      <td>REP</td>\n",
       "      <td>210</td>\n",
       "      <td>ACT</td>\n",
       "      <td>80</td>\n",
       "      <td>32073</td>\n",
       "      <td>5324.0</td>\n",
       "      <td>0</td>\n",
       "      <td>2332   birdwood dr  orange park 32073</td>\n",
       "      <td>2332   birdwood dr  orange park 32073</td>\n",
       "      <td>False</td>\n",
       "    </tr>\n",
       "    <tr>\n",
       "      <td>3</td>\n",
       "      <td>CLA</td>\n",
       "      <td>102846804</td>\n",
       "      <td>de gidio</td>\n",
       "      <td>valrae</td>\n",
       "      <td>3016   alpaca ave</td>\n",
       "      <td>NaN</td>\n",
       "      <td>middleburg</td>\n",
       "      <td>320686413</td>\n",
       "      <td>F</td>\n",
       "      <td>5.0</td>\n",
       "      <td>...</td>\n",
       "      <td>REP</td>\n",
       "      <td>508</td>\n",
       "      <td>ACT</td>\n",
       "      <td>71</td>\n",
       "      <td>32068</td>\n",
       "      <td>6413.0</td>\n",
       "      <td>0</td>\n",
       "      <td>3016   alpaca ave  middleburg 32068</td>\n",
       "      <td>3016   alpaca ave  middleburg 32068</td>\n",
       "      <td>False</td>\n",
       "    </tr>\n",
       "    <tr>\n",
       "      <td>4</td>\n",
       "      <td>CLA</td>\n",
       "      <td>102840283</td>\n",
       "      <td>pike</td>\n",
       "      <td>anna</td>\n",
       "      <td>6653   immokalee rd</td>\n",
       "      <td>NaN</td>\n",
       "      <td>keystone heights</td>\n",
       "      <td>326568990</td>\n",
       "      <td>F</td>\n",
       "      <td>5.0</td>\n",
       "      <td>...</td>\n",
       "      <td>REP</td>\n",
       "      <td>702</td>\n",
       "      <td>ACT</td>\n",
       "      <td>73</td>\n",
       "      <td>32656</td>\n",
       "      <td>8990.0</td>\n",
       "      <td>0</td>\n",
       "      <td>6653   immokalee rd  keystone heights 32656</td>\n",
       "      <td>6653   immokalee rd  keystone heights 32656</td>\n",
       "      <td>False</td>\n",
       "    </tr>\n",
       "  </tbody>\n",
       "</table>\n",
       "<p>5 rows × 41 columns</p>\n",
       "</div>"
      ],
      "text/plain": [
       "  county_code_L  voter_id_L last_name_L first_name_L residence_addr_line_1_L  \\\n",
       "0           CLA   111224731       clegg       bonnie         1   clay county   \n",
       "1           CLA   102846326    champion    elizabeth          4923   adra ct   \n",
       "2           CLA   102846332        rund      matthew      2332   birdwood dr   \n",
       "3           CLA   102846804    de gidio       valrae       3016   alpaca ave   \n",
       "4           CLA   102840283        pike         anna     6653   immokalee rd   \n",
       "\n",
       "  residence_addr_line_2_L  residence_city_L  residence_zipcode_L gender_L  \\\n",
       "0                     NaN       grn cv spgs                32043        F   \n",
       "1                     NaN    fleming island            320037873        F   \n",
       "2                     NaN       orange park            320735324        M   \n",
       "3                     NaN        middleburg            320686413        F   \n",
       "4                     NaN  keystone heights            326568990        F   \n",
       "\n",
       "   race_L  ... party_affiliation_R precinct_R voter_status_R age_R  \\\n",
       "0     5.0  ...                 REP        606            ACT    62   \n",
       "1     5.0  ...                 REP        414            ACT    57   \n",
       "2     5.0  ...                 REP        210            ACT    80   \n",
       "3     5.0  ...                 REP        508            ACT    71   \n",
       "4     5.0  ...                 REP        702            ACT    73   \n",
       "\n",
       "  residence_zipcode_5_R  residence_zipcode_4_R  age_diff  \\\n",
       "0                 32043                    NaN         0   \n",
       "1                 32003                 7873.0         0   \n",
       "2                 32073                 5324.0         0   \n",
       "3                 32068                 6413.0         0   \n",
       "4                 32656                 8990.0         0   \n",
       "\n",
       "                                   uniq_addr_L  \\\n",
       "0           1   clay county  grn cv spgs 32043   \n",
       "1         4923   adra ct  fleming island 32003   \n",
       "2        2332   birdwood dr  orange park 32073   \n",
       "3          3016   alpaca ave  middleburg 32068   \n",
       "4  6653   immokalee rd  keystone heights 32656   \n",
       "\n",
       "                                   uniq_addr_R separated  \n",
       "0           1   clay county  grn cv spgs 32043     False  \n",
       "1         4923   adra ct  fleming island 32003     False  \n",
       "2        2332   birdwood dr  orange park 32073     False  \n",
       "3          3016   alpaca ave  middleburg 32068     False  \n",
       "4  6653   immokalee rd  keystone heights 32656     False  \n",
       "\n",
       "[5 rows x 41 columns]"
      ]
     },
     "execution_count": 110,
     "metadata": {},
     "output_type": "execute_result"
    }
   ],
   "source": [
    "couples_df_found.head()"
   ]
  },
  {
   "cell_type": "markdown",
   "metadata": {},
   "source": [
    "## Convert race categorical "
   ]
  },
  {
   "cell_type": "code",
   "execution_count": 126,
   "metadata": {},
   "outputs": [],
   "source": [
    "race_codes = {\n",
    "    1: \"American Indian/Alaskan Native\",\n",
    "    2: \"Asian/Pacific Islander\",\n",
    "    3: \"Black/Not Hispanic\",\n",
    "    4: \"Hispanic\",\n",
    "    5: \"White\",\n",
    "    6: \"Other\",\n",
    "    7: \"Mutli-racial\",\n",
    "    9: \"Unknown\"\n",
    "}"
   ]
  },
  {
   "cell_type": "markdown",
   "metadata": {},
   "source": [
    "## Converting race codes to corresponding race-descriptions"
   ]
  },
  {
   "cell_type": "code",
   "execution_count": 208,
   "metadata": {},
   "outputs": [],
   "source": [
    "def race_code_lambda(row, subscript):\n",
    "    if pd.isnull(row[\"race_\" + subscript]):\n",
    "        return None\n",
    "    code = int(row[\"race_\" + subscript])\n",
    "    return race_codes[code]"
   ]
  },
  {
   "cell_type": "code",
   "execution_count": 209,
   "metadata": {},
   "outputs": [],
   "source": [
    "couples_df_found[\"race_desc_L\"] = couples_df_found.apply(lambda x: race_code_lambda(x, \"L\"), axis=1)\n",
    "couples_df_found[\"race_desc_R\"] = couples_df_found.apply(lambda x: race_code_lambda(x, \"R\"), axis=1)"
   ]
  },
  {
   "cell_type": "markdown",
   "metadata": {},
   "source": [
    "## Feature wise separation percentage"
   ]
  },
  {
   "cell_type": "code",
   "execution_count": 132,
   "metadata": {},
   "outputs": [],
   "source": [
    "cols = [\"party_affiliation\", \"gender\", \"race_desc\"]\n",
    "unique_dic = {}\n",
    "for c in cols:\n",
    "    unique_dic[c] = set(global_df[c].unique())"
   ]
  },
  {
   "cell_type": "markdown",
   "metadata": {},
   "source": [
    "## Demographic Percentages"
   ]
  },
  {
   "cell_type": "code",
   "execution_count": 140,
   "metadata": {},
   "outputs": [],
   "source": [
    "party_affiliation_counts = {}\n",
    "race_counts = {}\n",
    "\n",
    "party_affiliation_percentages = {}\n",
    "race_percentages = {}\n",
    "\n",
    "total = global_df.shape[0]\n",
    "for cat_value in unique_dic[\"party_affiliation\"]:\n",
    "    party_affiliation_counts[cat_value] = global_df[global_df[\"party_affiliation\"] == cat_value].shape[0]\n",
    "    party_affiliation_percentages[cat_value] = 100.0 * global_df[global_df[\"party_affiliation\"] == cat_value].shape[0]/total\n",
    "\n",
    "for cat_value in unique_dic[\"race_desc\"]:\n",
    "    race_counts[str(cat_value)] = global_df[global_df[\"race_desc\"] == cat_value].shape[0]\n",
    "    race_percentages[str(cat_value)] =  100.0 * global_df[global_df[\"race_desc\"] == cat_value].shape[0]/total"
   ]
  },
  {
   "cell_type": "code",
   "execution_count": 147,
   "metadata": {},
   "outputs": [
    {
     "data": {
      "text/plain": [
       "{'Black/Not Hispanic': 13.572717840570544,\n",
       " 'White': 65.08963319829455,\n",
       " 'American Indian/Alaskan Native': 0.322419676872637,\n",
       " 'Mutli-racial': 0.5590871120854076,\n",
       " 'Unknown': 2.07270546738065,\n",
       " 'Hispanic': 15.109551016170855,\n",
       " 'Asian/Pacific Islander': 1.772685790990869,\n",
       " 'Other': 1.5011998976344876}"
      ]
     },
     "execution_count": 147,
     "metadata": {},
     "output_type": "execute_result"
    }
   ],
   "source": [
    "race_percentages"
   ]
  },
  {
   "cell_type": "markdown",
   "metadata": {},
   "source": [
    "## Thresholding Demographics\n",
    "For Race we stick to 5% </br>\n",
    "For Party affiliation we stick to 5%"
   ]
  },
  {
   "cell_type": "code",
   "execution_count": 148,
   "metadata": {},
   "outputs": [],
   "source": [
    "race_percent_threshold = 5.0\n",
    "race_other_groups = []\n",
    "for cat_value in race_percentages:\n",
    "    if race_percentages[cat_value] <= race_percent_threshold:\n",
    "        race_other_groups.append(cat_value)"
   ]
  },
  {
   "cell_type": "code",
   "execution_count": 150,
   "metadata": {},
   "outputs": [],
   "source": [
    "party_percent_threshold = 5.0\n",
    "party_other_groups = []\n",
    "for cat_value in party_affiliation_percentages:\n",
    "    if party_affiliation_percentages[cat_value] <= party_percent_threshold:\n",
    "        party_other_groups.append(cat_value)"
   ]
  },
  {
   "cell_type": "markdown",
   "metadata": {},
   "source": [
    "# TODO"
   ]
  },
  {
   "cell_type": "code",
   "execution_count": 222,
   "metadata": {},
   "outputs": [],
   "source": [
    "# TODO: Implement others mapping into global and couples dataframe\n",
    "# def create_others_df()"
   ]
  },
  {
   "cell_type": "code",
   "execution_count": 223,
   "metadata": {},
   "outputs": [
    {
     "data": {
      "text/plain": [
       "(13254464, 21)"
      ]
     },
     "execution_count": 223,
     "metadata": {},
     "output_type": "execute_result"
    }
   ],
   "source": [
    "global_df.shape"
   ]
  },
  {
   "cell_type": "code",
   "execution_count": 157,
   "metadata": {},
   "outputs": [
    {
     "name": "stdout",
     "output_type": "stream",
     "text": [
      "{'party_affiliation': {'NPA', 'DEM', 'ECO', 'CPF', 'AIP', 'PSL', 'IDP', 'GRE', 'INT', 'LPF', 'REF', 'REP'}, 'gender': {'U', 'F', 'M'}, 'race_desc': {'Black/Not Hispanic', 'White', 'American Indian/Alaskan Native', 'Mutli-racial', 'Unknown', 'Hispanic', 'Asian/Pacific Islander', 'Other'}}\n"
     ]
    }
   ],
   "source": [
    "print(str(unique_dic))"
   ]
  },
  {
   "cell_type": "markdown",
   "metadata": {},
   "source": [
    "## Generate Pair-wise stats by feature\n",
    "Current focus is only on gender/race/political-affiliation"
   ]
  },
  {
   "cell_type": "code",
   "execution_count": 247,
   "metadata": {},
   "outputs": [],
   "source": [
    "import time\n",
    "\n",
    "def generate_pair_stats_by_feature(global_df, couples_df_found, feature, stats={}, others=[]):\n",
    "    print(\"Collecting uniques by feature: \" + feature)\n",
    "    unique_vals = list(global_df[feature].unique())\n",
    "    cat_combinations = list(combinations(list(unique_vals), 2))\n",
    "    \n",
    "    stats[feature] = {}\n",
    "    print(\"Processing : \" + feature + \" : Total comb: \" + str(len(cat_combinations)))\n",
    "    i = 0\n",
    "    start_time = time.time()\n",
    "    stats[feature][\"others\"] = {'count': 0, 'total': 0}\n",
    "    for comb in cat_combinations:\n",
    "        first_val = comb[0]\n",
    "        second_val = comb[1]\n",
    "        \n",
    "        left_right = couples_df_found[(couples_df_found[feature + \"_L\"] == first_val) & (couples_df_found[feature + \"_R\"] == second_val)]\n",
    "        right_left = couples_df_found[(couples_df_found[feature + \"_L\"] == second_val) & (couples_df_found[feature + \"_R\"] == first_val)]\n",
    "        \n",
    "        count = left_right[left_right[\"separated\"] == True].shape[0]\n",
    "        count += right_left[right_left[\"separated\"] == True].shape[0]\n",
    "        \n",
    "        stat = {}\n",
    "        stat[\"count\"] = count\n",
    "        \n",
    "        if count == 0:\n",
    "            continue\n",
    "        \n",
    "        if first_val in others or second_val in others:\n",
    "            stats[feature][\"others\"][\"count\"] += count\n",
    "            stats[feature][\"others\"][\"total\"] += left_right.shape[0] + right_left.shape[0]\n",
    "            continue\n",
    "        \n",
    "        stat[\"total\"] = left_right.shape[0] + right_left.shape[0]\n",
    "        stat[\"percent\"] = count * 100.0/(left_right.shape[0] + right_left.shape[0])\n",
    "        \n",
    "        stats[feature][str(first_val) + \"_\" + str(second_val)] = stat\n",
    "        \n",
    "        i += 1\n",
    "        \n",
    "    print(\"Total value combinations process: \" + str(i) + \" Total time (secs): \" + str(time.time() - start_time))\n",
    "    \n",
    "    print(\"Processing symmetric combinations: \" + feature + \" : Total comb: \" + str(len(unique_vals)))\n",
    "    for val in unique_vals:\n",
    "        subset = couples_df_found[(couples_df_found[feature + \"_L\"] == val) & (couples_df_found[feature + \"_R\"] == val)]\n",
    "        \n",
    "        count = subset[subset[\"separated\"] == True].shape[0]\n",
    "        \n",
    "        if val in others:\n",
    "            stats[feature][\"others\"][\"count\"] += count\n",
    "            stats[feature][\"others\"][\"total\"] += subset.shape[0]\n",
    "            continue\n",
    "        \n",
    "        stat[\"count\"] = count\n",
    "        \n",
    "        if count == 0:\n",
    "            continue\n",
    "        \n",
    "        stat[\"total\"] = subset.shape[0]\n",
    "        stat[\"percent\"] = count * 100.0/(subset.shape[0])\n",
    "        \n",
    "        stats[feature][str(val) + \"_\" + str(val)] = stat\n",
    "        \n",
    "    if len(others) > 0 and stats[feature][\"others\"][\"count\"] > 0:\n",
    "        stats[feature][\"others\"][\"percent\"] = 100.0 * stats[feature][\"others\"][\"count\"]/stats[feature][\"others\"][\"total\"]\n",
    "    else:\n",
    "        del stats[feature][\"others\"]\n",
    "    \n",
    "    print(\"Done with processing feature: \" + feature)\n",
    "    \n",
    "    return stats"
   ]
  },
  {
   "cell_type": "code",
   "execution_count": 230,
   "metadata": {},
   "outputs": [],
   "source": [
    "def plot_pairwise_stat_by_feature(feature, stats):\n",
    "    feature_stats = stats[feature]\n",
    "    \n",
    "    figures, axes = plt.subplots(nrows=1, ncols=1, figsize=(10,10))\n",
    "    \n",
    "    percent_stats = []\n",
    "    pair_combinations = []\n",
    "    \n",
    "    for pair_comb in feature_stats:\n",
    "        percent_stats.append(feature_stats[pair_comb][\"percent\"])\n",
    "        pair_combinations.append(pair_comb)\n",
    "\n",
    "    plot_df = pd.DataFrame({\"percent\": percent_stats, \"category_combination\": pair_combinations})\n",
    "    \n",
    "    sns.barplot(x=\"percent\", y=\"category_combination\", data=plot_df, ax=axes)\n",
    "    axes.set_title(feature)\n",
    "\n",
    "    plt.tight_layout()"
   ]
  },
  {
   "cell_type": "code",
   "execution_count": 234,
   "metadata": {},
   "outputs": [
    {
     "name": "stdout",
     "output_type": "stream",
     "text": [
      "Collecting uniques by feature: party_affiliation\n",
      "Processing : party_affiliation : Total comb: 66\n",
      "Total value combinations process: 3 Total time (secs): 42.629788637161255\n",
      "Processing symmetric combinations: party_affiliation : Total comb: 12\n",
      "Done with processing feature: party_affiliation\n"
     ]
    }
   ],
   "source": [
    "stats = generate_pair_stats_by_feature(global_df, couples_df_found, \"party_affiliation\", others=party_other_groups)"
   ]
  },
  {
   "cell_type": "code",
   "execution_count": 240,
   "metadata": {},
   "outputs": [
    {
     "data": {
      "text/plain": [
       "{'party_affiliation': {'others': {'count': 16862,\n",
       "   'total': 139059,\n",
       "   'percent': 12.125788334447968},\n",
       "  'DEM_REP': {'count': 38081, 'total': 291666, 'percent': 13.056372700280457},\n",
       "  'DEM_NPA': {'count': 47232, 'total': 278974, 'percent': 16.930610021005542},\n",
       "  'REP_NPA': {'count': 33912, 'total': 246367, 'percent': 13.76483051707412},\n",
       "  'DEM_DEM': {'count': 25159, 'total': 253116, 'percent': 9.93971143665355},\n",
       "  'REP_REP': {'count': 25159, 'total': 253116, 'percent': 9.93971143665355},\n",
       "  'NPA_NPA': {'count': 25159, 'total': 253116, 'percent': 9.93971143665355}}}"
      ]
     },
     "execution_count": 240,
     "metadata": {},
     "output_type": "execute_result"
    }
   ],
   "source": [
    "stats"
   ]
  },
  {
   "cell_type": "code",
   "execution_count": 248,
   "metadata": {},
   "outputs": [
    {
     "name": "stdout",
     "output_type": "stream",
     "text": [
      "Collecting uniques by feature: gender\n",
      "Processing : gender : Total comb: 3\n",
      "Total value combinations process: 3 Total time (secs): 4.127054452896118\n",
      "Processing symmetric combinations: gender : Total comb: 3\n",
      "Done with processing feature: gender\n"
     ]
    }
   ],
   "source": [
    "stats = generate_pair_stats_by_feature(global_df, couples_df_found, \"gender\")"
   ]
  },
  {
   "cell_type": "code",
   "execution_count": 251,
   "metadata": {},
   "outputs": [
    {
     "data": {
      "text/plain": [
       "{'gender': {'F_M': {'count': 178906,\n",
       "   'total': 2314381,\n",
       "   'percent': 7.730187899053786},\n",
       "  'F_U': {'count': 4805, 'total': 32091, 'percent': 14.973045402137672},\n",
       "  'M_U': {'count': 288, 'total': 4085, 'percent': 7.050183598531212},\n",
       "  'F_F': {'count': 288, 'total': 4085, 'percent': 7.050183598531212},\n",
       "  'M_M': {'count': 288, 'total': 4085, 'percent': 7.050183598531212},\n",
       "  'U_U': {'count': 288, 'total': 4085, 'percent': 7.050183598531212}}}"
      ]
     },
     "execution_count": 251,
     "metadata": {},
     "output_type": "execute_result"
    }
   ],
   "source": [
    "stats"
   ]
  },
  {
   "cell_type": "code",
   "execution_count": 250,
   "metadata": {},
   "outputs": [
    {
     "data": {
      "image/png": "[encoded data removed]",
      "text/plain": [
       "<Figure size 720x720 with 1 Axes>"
      ]
     },
     "metadata": {
      "needs_background": "light"
     },
     "output_type": "display_data"
    }
   ],
   "source": [
    "plot_pairwise_stat_by_feature(\"gender\", stats)"
   ]
  },
  {
   "cell_type": "code",
   "execution_count": 246,
   "metadata": {},
   "outputs": [
    {
     "data": {
      "text/plain": [
       "{'race_desc': {'others': {'count': 28111,\n",
       "   'total': 232037,\n",
       "   'percent': 12.114878230627012},\n",
       "  'White_Black/Not Hispanic': {'count': 13183,\n",
       "   'total': 47200,\n",
       "   'percent': 27.930084745762713},\n",
       "  'White_Hispanic': {'count': 23351,\n",
       "   'total': 142904,\n",
       "   'percent': 16.34034036835918},\n",
       "  'Black/Not Hispanic_Hispanic': {'count': 6239,\n",
       "   'total': 21416,\n",
       "   'percent': 29.132424355621964},\n",
       "  'White_White': {'count': 29525,\n",
       "   'total': 234533,\n",
       "   'percent': 12.588846772096037},\n",
       "  'Black/Not Hispanic_Black/Not Hispanic': {'count': 29525,\n",
       "   'total': 234533,\n",
       "   'percent': 12.588846772096037},\n",
       "  'Hispanic_Hispanic': {'count': 29525,\n",
       "   'total': 234533,\n",
       "   'percent': 12.588846772096037}},\n",
       " 'gender': {'others': {'count': 0, 'total': 0},\n",
       "  'F_M': {'count': 178906, 'total': 2314381, 'percent': 7.730187899053786},\n",
       "  'F_U': {'count': 4805, 'total': 32091, 'percent': 14.973045402137672},\n",
       "  'M_U': {'count': 288, 'total': 4085, 'percent': 7.050183598531212},\n",
       "  'F_F': {'count': 288, 'total': 4085, 'percent': 7.050183598531212},\n",
       "  'M_M': {'count': 288, 'total': 4085, 'percent': 7.050183598531212},\n",
       "  'U_U': {'count': 288, 'total': 4085, 'percent': 7.050183598531212}}}"
      ]
     },
     "execution_count": 246,
     "metadata": {},
     "output_type": "execute_result"
    }
   ],
   "source": [
    "stats"
   ]
  },
  {
   "cell_type": "code",
   "execution_count": 242,
   "metadata": {},
   "outputs": [
    {
     "name": "stdout",
     "output_type": "stream",
     "text": [
      "Collecting uniques by feature: race_desc\n",
      "Processing : race_desc : Total comb: 28\n",
      "Total value combinations process: 3 Total time (secs): 18.13307523727417\n",
      "Processing symmetric combinations: race_desc : Total comb: 8\n",
      "Done with processing feature: race_desc\n"
     ]
    }
   ],
   "source": [
    "stats = generate_pair_stats_by_feature(global_df, couples_df_found, \"race_desc\", others=race_other_groups)"
   ]
  },
  {
   "cell_type": "code",
   "execution_count": 243,
   "metadata": {},
   "outputs": [
    {
     "data": {
      "image/png": "[encoded data removed]",
      "text/plain": [
       "<Figure size 720x720 with 1 Axes>"
      ]
     },
     "metadata": {
      "needs_background": "light"
     },
     "output_type": "display_data"
    }
   ],
   "source": [
    "plot_pairwise_stat_by_feature(\"race_desc\", stats)"
   ]
  },
  {
   "cell_type": "code",
   "execution_count": 235,
   "metadata": {},
   "outputs": [
    {
     "data": {
      "image/png": "[encoded data removed]",
      "text/plain": [
       "<Figure size 720x720 with 1 Axes>"
      ]
     },
     "metadata": {
      "needs_background": "light"
     },
     "output_type": "display_data"
    }
   ],
   "source": [
    "plot_pairwise_stat_by_feature(\"party_affiliation\", stats)"
   ]
  },
  {
   "cell_type": "code",
   "execution_count": 37,
   "metadata": {},
   "outputs": [
    {
     "name": "stdout",
     "output_type": "stream",
     "text": [
      "Processing : party_affiliation : Total comb: 66\n",
      "Done with comb: 66\n",
      "Processing symmetric combinations: party_affiliation : Total comb: 12\n",
      "Done with processing column: party_affiliation\n",
      "Processing : gender : Total comb: 3\n",
      "Done with comb: 3\n",
      "Processing symmetric combinations: gender : Total comb: 3\n",
      "Done with processing column: gender\n",
      "Processing : race : Total comb: 28\n",
      "Done with comb: 28\n",
      "Processing symmetric combinations: race : Total comb: 8\n",
      "Done with processing column: race\n"
     ]
    }
   ],
   "source": [
    "from itertools import combinations\n",
    "total_separated = couples_df_found[couples_df_found[\"separated\"] == True].shape[0]\n",
    "stats = {}\n",
    "for c in cols:\n",
    "    cat_combinations = list(combinations(list(unique_dic[c]), 2))\n",
    "    stats[c] = {}\n",
    "    print(\"Processing : \" + c + \" : Total comb: \" + str(len(cat_combinations)))\n",
    "    i = 0\n",
    "    for comb in cat_combinations:\n",
    "        first_val = comb[0]\n",
    "        second_val = comb[1]\n",
    "        \n",
    "        left_right = couples_df_found[(couples_df_found[c + \"_L\"] == first_val) & (couples_df_found[c + \"_R\"] == second_val)]\n",
    "        right_left = couples_df_found[(couples_df_found[c + \"_L\"] == second_val) & (couples_df_found[c + \"_R\"] == first_val)]\n",
    "        count = left_right[left_right[\"separated\"] == True].shape[0]\n",
    "        count += right_left[right_left[\"separated\"] == True].shape[0]\n",
    "        stats[c][str(first_val) + \"_\" + str(second_val)] = count\n",
    "        stats[c][str(first_val) + \"_\" + str(second_val) + \"_\" + \"total\"] = left_right.shape[0] + right_left.shape[0]\n",
    "        i += 1\n",
    "        \n",
    "    print(\"Done with comb: \" + str(i))\n",
    "    \n",
    "    print(\"Processing symmetric combinations: \" + c + \" : Total comb: \" + str(len(unique_dic[c])))\n",
    "    unique_vals = unique_dic[c]\n",
    "    for val in unique_vals:\n",
    "        subset = couples_df_found[(couples_df_found[c + \"_L\"] == val) & (couples_df_found[c + \"_R\"] == val)]\n",
    "        count = subset[subset[\"separated\"] == True].shape[0]\n",
    "        stats[c][str(val) + \"_\" + str(val)] = count\n",
    "        stats[c][str(val) + \"_\" + str(val) + \"_\" + \"total\"] = subset.shape[0]\n",
    "    \n",
    "    print(\"Done with processing column: \" + c)"
   ]
  },
  {
   "cell_type": "code",
   "execution_count": 54,
   "metadata": {},
   "outputs": [],
   "source": [
    "race_codes = {\n",
    "    1.0: \"American Indian/Alaskan Native\",\n",
    "    2.0: \"Asian/Pacific Islander\",\n",
    "    3.0: \"Black/Not Hispanic\",\n",
    "    4.0: \"Hispanic\",\n",
    "    5.0: \"White\",\n",
    "    6.0: \"Other\",\n",
    "    7.0: \"Mutli-racial\",\n",
    "    9.0: \"Unknown\"\n",
    "}"
   ]
  },
  {
   "cell_type": "code",
   "execution_count": null,
   "metadata": {},
   "outputs": [],
   "source": []
  },
  {
   "cell_type": "code",
   "execution_count": 92,
   "metadata": {},
   "outputs": [
    {
     "data": {
      "image/png": "[encoded data removed]",
      "text/plain": [
       "<Figure size 1440x2160 with 2 Axes>"
      ]
     },
     "metadata": {
      "needs_background": "light"
     },
     "output_type": "display_data"
    }
   ],
   "source": [
    "figures, axes = plt.subplots(nrows=2, ncols=1, figsize=(20,30))\n",
    "race_df = None\n",
    "index = 0\n",
    "for col in stats:\n",
    "    col_stats = stats[col]\n",
    "    percent_stats = {}\n",
    "    for c in col_stats:\n",
    "        if \"total\" in c:\n",
    "            continue\n",
    "        \n",
    "        total = col_stats[c + \"_\" + \"total\"]\n",
    "        if total == 0:\n",
    "            continue\n",
    "            \n",
    "        p = col_stats[c] * 100.0/total\n",
    "        if p < 5.0:\n",
    "            continue\n",
    "        percent_stats[c] = p\n",
    "    \n",
    "    plot_df = pd.DataFrame({\"percent\": list(percent_stats.values()), \"category\": list(percent_stats.keys()) })\n",
    "\n",
    "    plot_df[\"percent_str\"] = plot_df[\"percent\"].apply(str)\n",
    "    \n",
    "#     sns.barplot(x=\"category\", y=\"percent\", data=plot_df, ax=axes[index])\n",
    "    \n",
    "#     sns.barplot(x=\"percent_str\", y=\"category\", data=plot_df, ax=axes[index])\n",
    "    if col == \"race\":\n",
    "        race_df = plot_df\n",
    "#         sns.barplot(x=\"category\", y=\"percent\", data=plot_df, ax=axes[index])\n",
    "    else:\n",
    "        sns.barplot(x=\"percent\", y=\"category\", data=plot_df, ax=axes[index])\n",
    "        axes[index].set_title(col)\n",
    "        \n",
    "\n",
    "    index += 1\n",
    "\n",
    "plt.tight_layout()"
   ]
  },
  {
   "cell_type": "code",
   "execution_count": 93,
   "metadata": {},
   "outputs": [
    {
     "data": {
      "text/plain": [
       "(35, 3)"
      ]
     },
     "execution_count": 93,
     "metadata": {},
     "output_type": "execute_result"
    }
   ],
   "source": [
    "race_df.shape"
   ]
  },
  {
   "cell_type": "code",
   "execution_count": 95,
   "metadata": {},
   "outputs": [],
   "source": [
    "def splitDataFrameIntoSmaller(df, chunkSize = 10000): \n",
    "    listOfDf = list()\n",
    "    numberChunks = len(df) // chunkSize + 1\n",
    "    for i in range(numberChunks):\n",
    "        listOfDf.append(df[i*chunkSize:(i+1)*chunkSize])\n",
    "    return listOfDf"
   ]
  },
  {
   "cell_type": "code",
   "execution_count": 96,
   "metadata": {},
   "outputs": [
    {
     "data": {
      "text/plain": [
       "[     percent category         percent_str\n",
       " 0   6.299213      1_2   6.299212598425197\n",
       " 1  19.972640      1_3  19.972640218878247\n",
       " 2  17.706013      1_4  17.706013363028955\n",
       " 3  11.481141      1_5  11.481140754369825\n",
       " 4  10.306407      1_6   10.30640668523677,\n",
       "      percent category         percent_str\n",
       " 5  22.641509      1_7  22.641509433962263\n",
       " 6  13.712375      1_9    13.7123745819398\n",
       " 7  19.082196      2_3  19.082195759512054\n",
       " 8  18.245529      2_4  18.245529241179312\n",
       " 9  11.757546      2_5  11.757546251217137,\n",
       "       percent category         percent_str\n",
       " 10   6.460980      2_6   6.460980036297641\n",
       " 11  11.696429      2_7  11.696428571428571\n",
       " 12   9.093971      2_9   9.093971034018187\n",
       " 13  29.132424      3_4  29.132424355621964\n",
       " 14  27.930085      3_5  27.930084745762713,\n",
       "       percent category         percent_str\n",
       " 15  14.555857      3_6  14.555857253685026\n",
       " 16  25.028769      3_7  25.028768699654776\n",
       " 17  16.845926      3_9  16.845926324280722\n",
       " 18  16.340340      4_5   16.34034036835918\n",
       " 19  14.600771      4_6  14.600770559319782,\n",
       "       percent category         percent_str\n",
       " 20  26.404927      4_7   26.40492686682063\n",
       " 21  15.663628      4_9  15.663628418029717\n",
       " 22  10.752631      5_6  10.752630877847343\n",
       " 23  22.323372      5_7   22.32337225410647\n",
       " 24  13.505688      5_9  13.505688298774603,\n",
       "       percent category         percent_str\n",
       " 25  18.072289      6_7  18.072289156626507\n",
       " 26  11.333333      6_9  11.333333333333334\n",
       " 27  20.396601      7_9   20.39660056657224\n",
       " 28   5.666156      1_1   5.666156202143951\n",
       " 29   5.368391      2_2   5.368391108221238,\n",
       "       percent category         percent_str\n",
       " 30  14.359039      3_3   14.35903872619117\n",
       " 31  12.588847      4_4  12.588846772096037\n",
       " 32   8.113006      5_5    8.11300566160517\n",
       " 33   9.561129      7_7   9.561128526645769\n",
       " 34   6.741255      9_9   6.741254779776235,\n",
       " Empty DataFrame\n",
       " Columns: [percent, category, percent_str]\n",
       " Index: []]"
      ]
     },
     "execution_count": 96,
     "metadata": {},
     "output_type": "execute_result"
    }
   ],
   "source": [
    "splitDataFrameIntoSmaller(race_df, 5)"
   ]
  },
  {
   "cell_type": "code",
   "execution_count": 89,
   "metadata": {},
   "outputs": [],
   "source": [
    "race_df[\"percent_str\"] = race_df[\"percent\"].apply(str)\n",
    "race_df[\"percent_round\"] = race_df[\"percent\"].round(2)"
   ]
  },
  {
   "cell_type": "code",
   "execution_count": 112,
   "metadata": {},
   "outputs": [],
   "source": [
    "# sns.barplot(x=\"percent_round\", y=\"category\", data=race_df)"
   ]
  },
  {
   "cell_type": "code",
   "execution_count": null,
   "metadata": {},
   "outputs": [],
   "source": []
  },
  {
   "cell_type": "code",
   "execution_count": null,
   "metadata": {},
   "outputs": [],
   "source": []
  },
  {
   "cell_type": "code",
   "execution_count": null,
   "metadata": {},
   "outputs": [],
   "source": []
  },
  {
   "cell_type": "code",
   "execution_count": null,
   "metadata": {},
   "outputs": [],
   "source": []
  }
 ],
 "metadata": {
  "kernelspec": {
   "display_name": "Python 3",
   "language": "python",
   "name": "python3"
  },
  "language_info": {
   "codemirror_mode": {
    "name": "ipython",
    "version": 3
   },
   "file_extension": ".py",
   "mimetype": "text/x-python",
   "name": "python",
   "nbconvert_exporter": "python",
   "pygments_lexer": "ipython3",
   "version": "3.7.4"
  }
 },
 "nbformat": 4,
 "nbformat_minor": 4
}
