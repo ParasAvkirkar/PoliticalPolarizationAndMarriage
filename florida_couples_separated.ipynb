{
 "cells": [
  {
   "cell_type": "code",
   "execution_count": 3,
   "metadata": {},
   "outputs": [],
   "source": [
    "import pandas as pd\n",
    "import random\n",
    "import numpy as np\n",
    "import time\n",
    "import math\n",
    "import sys\n",
    "import matplotlib.patches as mpatches\n",
    "import matplotlib.pyplot as plt\n",
    "import seaborn as sns\n",
    "import xgboost as xgb\n",
    "import datatable as dt\n",
    "\n",
    "from xgboost import plot_tree\n",
    "from os import walk\n",
    "from os import listdir\n",
    "from os.path import isfile, join\n",
    "from scipy.spatial.distance import euclidean, pdist, squareform\n",
    "from scipy.stats import skew\n",
    "from scipy.special import expit as sigmoid\n",
    "from scipy.cluster.hierarchy import fclusterdata\n",
    "from pandas.plotting import autocorrelation_plot\n",
    "from sklearn.model_selection import train_test_split\n",
    "from sklearn.linear_model import LogisticRegression\n",
    "from sklearn.linear_model import LinearRegression\n",
    "from sklearn.ensemble import RandomForestClassifier\n",
    "from sklearn import tree\n",
    "from sklearn.metrics import precision_recall_fscore_support\n",
    "from sklearn import preprocessing\n",
    "from sklearn.metrics import confusion_matrix\n",
    "from sklearn.metrics import roc_auc_score\n",
    "from sklearn.utils import resample\n",
    "from imblearn.over_sampling import SMOTE, ADASYN\n",
    "from imblearn.under_sampling import ClusterCentroids\n",
    "from imblearn.under_sampling import RandomUnderSampler\n",
    "from sklearn.preprocessing import LabelEncoder\n",
    "from sklearn.metrics import pairwise_distances\n",
    "from sklearn.cluster import AgglomerativeClustering\n",
    "from sklearn.manifold import TSNE\n",
    "from sklearn.metrics import mean_absolute_error\n",
    "from sklearn.metrics import mean_squared_error"
   ]
  },
  {
   "cell_type": "code",
   "execution_count": 4,
   "metadata": {},
   "outputs": [],
   "source": [
    "DATA_PATH = ''\n",
    "#HISTORY_PATH = \"Voter_History_{0}\"\n",
    "PREPROCESSED_PATH = \"preprocessed/{0}/florida_processed_{0}.csv\"\n",
    "COUPLES_PATH=\"couples/{0}/couples_{0}.csv\""
   ]
  },
  {
   "cell_type": "code",
   "execution_count": 5,
   "metadata": {},
   "outputs": [],
   "source": [
    "preprocessed_date = '20150323'"
   ]
  },
  {
   "cell_type": "code",
   "execution_count": 6,
   "metadata": {},
   "outputs": [],
   "source": [
    "couples_date = '20140319'"
   ]
  },
  {
   "cell_type": "code",
   "execution_count": null,
   "metadata": {},
   "outputs": [],
   "source": []
  },
  {
   "cell_type": "code",
   "execution_count": 7,
   "metadata": {},
   "outputs": [
    {
     "name": "stderr",
     "output_type": "stream",
     "text": [
      "/home/rahullachh/anaconda3/lib/python3.7/site-packages/IPython/core/interactiveshell.py:3058: DtypeWarning: Columns (13) have mixed types. Specify dtype option on import or set low_memory=False.\n",
      "  interactivity=interactivity, compiler=compiler, result=result)\n"
     ]
    }
   ],
   "source": [
    "global_df = pd.read_csv(PREPROCESSED_PATH.format(preprocessed_date) , sep='\\t')"
   ]
  },
  {
   "cell_type": "code",
   "execution_count": 8,
   "metadata": {},
   "outputs": [
    {
     "data": {
      "text/plain": [
       "county_code                     0\n",
       "voter_id                        0\n",
       "last_name                     136\n",
       "first_name                    455\n",
       "residence_addr_line_1           0\n",
       "residence_addr_line_2    10499701\n",
       "residence_city                  0\n",
       "residence_zipcode               0\n",
       "gender                          0\n",
       "race                          207\n",
       "birth_date                      0\n",
       "registration_date               0\n",
       "party_affiliation               0\n",
       "precinct                        0\n",
       "voter_status                    0\n",
       "age                             0\n",
       "residence_zipcode_5             0\n",
       "residence_zipcode_4      11745698\n",
       "uniq_addr                       0\n",
       "dtype: int64"
      ]
     },
     "execution_count": 8,
     "metadata": {},
     "output_type": "execute_result"
    }
   ],
   "source": [
    "global_df.isnull().sum()"
   ]
  },
  {
   "cell_type": "code",
   "execution_count": 9,
   "metadata": {},
   "outputs": [
    {
     "data": {
      "text/html": [
       "<div>\n",
       "<style scoped>\n",
       "    .dataframe tbody tr th:only-of-type {\n",
       "        vertical-align: middle;\n",
       "    }\n",
       "\n",
       "    .dataframe tbody tr th {\n",
       "        vertical-align: top;\n",
       "    }\n",
       "\n",
       "    .dataframe thead th {\n",
       "        text-align: right;\n",
       "    }\n",
       "</style>\n",
       "<table border=\"1\" class=\"dataframe\">\n",
       "  <thead>\n",
       "    <tr style=\"text-align: right;\">\n",
       "      <th></th>\n",
       "      <th>county_code</th>\n",
       "      <th>voter_id</th>\n",
       "      <th>last_name</th>\n",
       "      <th>first_name</th>\n",
       "      <th>residence_addr_line_1</th>\n",
       "      <th>residence_addr_line_2</th>\n",
       "      <th>residence_city</th>\n",
       "      <th>residence_zipcode</th>\n",
       "      <th>gender</th>\n",
       "      <th>race</th>\n",
       "      <th>birth_date</th>\n",
       "      <th>registration_date</th>\n",
       "      <th>party_affiliation</th>\n",
       "      <th>precinct</th>\n",
       "      <th>voter_status</th>\n",
       "      <th>age</th>\n",
       "      <th>residence_zipcode_5</th>\n",
       "      <th>residence_zipcode_4</th>\n",
       "      <th>uniq_addr</th>\n",
       "    </tr>\n",
       "  </thead>\n",
       "  <tbody>\n",
       "    <tr>\n",
       "      <td>0</td>\n",
       "      <td>ALA</td>\n",
       "      <td>100384084</td>\n",
       "      <td>beard</td>\n",
       "      <td>janet</td>\n",
       "      <td>4018  nw 18th pl</td>\n",
       "      <td>NaN</td>\n",
       "      <td>gainesville</td>\n",
       "      <td>326053525</td>\n",
       "      <td>F</td>\n",
       "      <td>5.0</td>\n",
       "      <td>10/12/1952</td>\n",
       "      <td>06/15/1976</td>\n",
       "      <td>DEM</td>\n",
       "      <td>24</td>\n",
       "      <td>ACT</td>\n",
       "      <td>62</td>\n",
       "      <td>32605</td>\n",
       "      <td>3525.0</td>\n",
       "      <td>4018  nw 18th pl  gainesville 32605</td>\n",
       "    </tr>\n",
       "    <tr>\n",
       "      <td>1</td>\n",
       "      <td>ALA</td>\n",
       "      <td>100384085</td>\n",
       "      <td>beardsley</td>\n",
       "      <td>gene</td>\n",
       "      <td>4416  nw 93rd ave</td>\n",
       "      <td>NaN</td>\n",
       "      <td>gainesville</td>\n",
       "      <td>32653</td>\n",
       "      <td>F</td>\n",
       "      <td>5.0</td>\n",
       "      <td>08/14/1933</td>\n",
       "      <td>10/05/1967</td>\n",
       "      <td>DEM</td>\n",
       "      <td>45</td>\n",
       "      <td>ACT</td>\n",
       "      <td>81</td>\n",
       "      <td>32653</td>\n",
       "      <td>NaN</td>\n",
       "      <td>4416  nw 93rd ave  gainesville 32653</td>\n",
       "    </tr>\n",
       "    <tr>\n",
       "      <td>2</td>\n",
       "      <td>ALA</td>\n",
       "      <td>100384086</td>\n",
       "      <td>beardsley</td>\n",
       "      <td>richard</td>\n",
       "      <td>4416  nw 93rd ave</td>\n",
       "      <td>NaN</td>\n",
       "      <td>gainesville</td>\n",
       "      <td>32653</td>\n",
       "      <td>M</td>\n",
       "      <td>5.0</td>\n",
       "      <td>11/07/1933</td>\n",
       "      <td>10/05/1967</td>\n",
       "      <td>GRE</td>\n",
       "      <td>45</td>\n",
       "      <td>ACT</td>\n",
       "      <td>81</td>\n",
       "      <td>32653</td>\n",
       "      <td>NaN</td>\n",
       "      <td>4416  nw 93rd ave  gainesville 32653</td>\n",
       "    </tr>\n",
       "    <tr>\n",
       "      <td>3</td>\n",
       "      <td>ALA</td>\n",
       "      <td>100384090</td>\n",
       "      <td>beauchamp</td>\n",
       "      <td>gayla</td>\n",
       "      <td>4633  nw 35th rd</td>\n",
       "      <td>NaN</td>\n",
       "      <td>gainesville</td>\n",
       "      <td>32606</td>\n",
       "      <td>F</td>\n",
       "      <td>5.0</td>\n",
       "      <td>09/11/1942</td>\n",
       "      <td>02/25/1978</td>\n",
       "      <td>REP</td>\n",
       "      <td>22</td>\n",
       "      <td>ACT</td>\n",
       "      <td>72</td>\n",
       "      <td>32606</td>\n",
       "      <td>NaN</td>\n",
       "      <td>4633  nw 35th rd  gainesville 32606</td>\n",
       "    </tr>\n",
       "    <tr>\n",
       "      <td>4</td>\n",
       "      <td>ALA</td>\n",
       "      <td>100384092</td>\n",
       "      <td>beazlie</td>\n",
       "      <td>annetta</td>\n",
       "      <td>4237  nw 13th st</td>\n",
       "      <td>NaN</td>\n",
       "      <td>gainesville</td>\n",
       "      <td>32609</td>\n",
       "      <td>F</td>\n",
       "      <td>5.0</td>\n",
       "      <td>05/18/1929</td>\n",
       "      <td>08/09/1958</td>\n",
       "      <td>DEM</td>\n",
       "      <td>55</td>\n",
       "      <td>ACT</td>\n",
       "      <td>85</td>\n",
       "      <td>32609</td>\n",
       "      <td>NaN</td>\n",
       "      <td>4237  nw 13th st  gainesville 32609</td>\n",
       "    </tr>\n",
       "  </tbody>\n",
       "</table>\n",
       "</div>"
      ],
      "text/plain": [
       "  county_code   voter_id  last_name first_name residence_addr_line_1  \\\n",
       "0         ALA  100384084      beard      janet      4018  nw 18th pl   \n",
       "1         ALA  100384085  beardsley       gene     4416  nw 93rd ave   \n",
       "2         ALA  100384086  beardsley    richard     4416  nw 93rd ave   \n",
       "3         ALA  100384090  beauchamp      gayla      4633  nw 35th rd   \n",
       "4         ALA  100384092    beazlie    annetta      4237  nw 13th st   \n",
       "\n",
       "  residence_addr_line_2 residence_city  residence_zipcode gender  race  \\\n",
       "0                   NaN    gainesville          326053525      F   5.0   \n",
       "1                   NaN    gainesville              32653      F   5.0   \n",
       "2                   NaN    gainesville              32653      M   5.0   \n",
       "3                   NaN    gainesville              32606      F   5.0   \n",
       "4                   NaN    gainesville              32609      F   5.0   \n",
       "\n",
       "   birth_date registration_date party_affiliation precinct voter_status  age  \\\n",
       "0  10/12/1952        06/15/1976               DEM       24          ACT   62   \n",
       "1  08/14/1933        10/05/1967               DEM       45          ACT   81   \n",
       "2  11/07/1933        10/05/1967               GRE       45          ACT   81   \n",
       "3  09/11/1942        02/25/1978               REP       22          ACT   72   \n",
       "4  05/18/1929        08/09/1958               DEM       55          ACT   85   \n",
       "\n",
       "   residence_zipcode_5  residence_zipcode_4  \\\n",
       "0                32605               3525.0   \n",
       "1                32653                  NaN   \n",
       "2                32653                  NaN   \n",
       "3                32606                  NaN   \n",
       "4                32609                  NaN   \n",
       "\n",
       "                              uniq_addr  \n",
       "0   4018  nw 18th pl  gainesville 32605  \n",
       "1  4416  nw 93rd ave  gainesville 32653  \n",
       "2  4416  nw 93rd ave  gainesville 32653  \n",
       "3   4633  nw 35th rd  gainesville 32606  \n",
       "4   4237  nw 13th st  gainesville 32609  "
      ]
     },
     "execution_count": 9,
     "metadata": {},
     "output_type": "execute_result"
    }
   ],
   "source": [
    "global_df.head()\n"
   ]
  },
  {
   "cell_type": "code",
   "execution_count": 10,
   "metadata": {},
   "outputs": [],
   "source": [
    "req_cols = ['last_name', 'race', 'first_name']\n",
    "global_df = global_df.dropna(subset=req_cols)"
   ]
  },
  {
   "cell_type": "code",
   "execution_count": 11,
   "metadata": {},
   "outputs": [
    {
     "data": {
      "text/plain": [
       "county_code                     0\n",
       "voter_id                        0\n",
       "last_name                       0\n",
       "first_name                      0\n",
       "residence_addr_line_1           0\n",
       "residence_addr_line_2    10499044\n",
       "residence_city                  0\n",
       "residence_zipcode               0\n",
       "gender                          0\n",
       "race                            0\n",
       "birth_date                      0\n",
       "registration_date               0\n",
       "party_affiliation               0\n",
       "precinct                        0\n",
       "voter_status                    0\n",
       "age                             0\n",
       "residence_zipcode_5             0\n",
       "residence_zipcode_4      11744955\n",
       "uniq_addr                       0\n",
       "dtype: int64"
      ]
     },
     "execution_count": 11,
     "metadata": {},
     "output_type": "execute_result"
    }
   ],
   "source": [
    "global_df.isnull().sum()"
   ]
  },
  {
   "cell_type": "code",
   "execution_count": 12,
   "metadata": {},
   "outputs": [
    {
     "data": {
      "text/plain": [
       "(12858935, 19)"
      ]
     },
     "execution_count": 12,
     "metadata": {},
     "output_type": "execute_result"
    }
   ],
   "source": [
    "global_df.shape"
   ]
  },
  {
   "cell_type": "code",
   "execution_count": 13,
   "metadata": {},
   "outputs": [
    {
     "data": {
      "text/plain": [
       "array(['ALA', 'BAK', 'BAY', 'BRA', 'BRE', 'BRO', 'CAL', 'CHA', 'CIT',\n",
       "       'CLA', 'CLL', 'CLM', 'DAD', 'DES', 'DIX', 'DUV', 'ESC', 'FLA',\n",
       "       'FRA', 'GAD', 'GIL', 'GLA', 'GUL', 'HAM', 'HAR', 'HEN', 'HER',\n",
       "       'HIG', 'HIL', 'HOL', 'IND', 'JAC', 'JEF', 'LAF', 'LAK', 'LEE',\n",
       "       'LEO', 'LEV', 'LIB', 'MAD', 'MAN', 'MON', 'MRN', 'MRT', 'NAS',\n",
       "       'OKA', 'OKE', 'ORA', 'OSC', 'PAL', 'PAS', 'PIN', 'POL', 'PUT',\n",
       "       'SAN', 'SAR', 'SEM', 'STJ', 'STL', 'SUM', 'SUW', 'TAY', 'UNI',\n",
       "       'VOL', 'WAK', 'WAL', 'WAS'], dtype=object)"
      ]
     },
     "execution_count": 13,
     "metadata": {},
     "output_type": "execute_result"
    }
   ],
   "source": [
    "global_df.county_code.unique()"
   ]
  },
  {
   "cell_type": "code",
   "execution_count": 14,
   "metadata": {},
   "outputs": [
    {
     "name": "stderr",
     "output_type": "stream",
     "text": [
      "/home/rahullachh/anaconda3/lib/python3.7/site-packages/IPython/core/interactiveshell.py:3058: DtypeWarning: Columns (13,32) have mixed types. Specify dtype option on import or set low_memory=False.\n",
      "  interactivity=interactivity, compiler=compiler, result=result)\n"
     ]
    }
   ],
   "source": [
    "couples_df = pd.read_csv(COUPLES_PATH.format(couples_date) , sep='\\t')"
   ]
  },
  {
   "cell_type": "code",
   "execution_count": 15,
   "metadata": {},
   "outputs": [
    {
     "data": {
      "text/html": [
       "<div>\n",
       "<style scoped>\n",
       "    .dataframe tbody tr th:only-of-type {\n",
       "        vertical-align: middle;\n",
       "    }\n",
       "\n",
       "    .dataframe tbody tr th {\n",
       "        vertical-align: top;\n",
       "    }\n",
       "\n",
       "    .dataframe thead th {\n",
       "        text-align: right;\n",
       "    }\n",
       "</style>\n",
       "<table border=\"1\" class=\"dataframe\">\n",
       "  <thead>\n",
       "    <tr style=\"text-align: right;\">\n",
       "      <th></th>\n",
       "      <th>county_code_L</th>\n",
       "      <th>voter_id_L</th>\n",
       "      <th>last_name_L</th>\n",
       "      <th>first_name_L</th>\n",
       "      <th>residence_addr_line_1_L</th>\n",
       "      <th>residence_addr_line_2_L</th>\n",
       "      <th>residence_city_L</th>\n",
       "      <th>residence_zipcode_L</th>\n",
       "      <th>gender_L</th>\n",
       "      <th>race_L</th>\n",
       "      <th>...</th>\n",
       "      <th>race_R</th>\n",
       "      <th>birth_date_R</th>\n",
       "      <th>registration_date_R</th>\n",
       "      <th>party_affiliation_R</th>\n",
       "      <th>precinct_R</th>\n",
       "      <th>voter_status_R</th>\n",
       "      <th>age_R</th>\n",
       "      <th>residence_zipcode_5_R</th>\n",
       "      <th>residence_zipcode_4_R</th>\n",
       "      <th>age_diff</th>\n",
       "    </tr>\n",
       "  </thead>\n",
       "  <tbody>\n",
       "    <tr>\n",
       "      <td>0</td>\n",
       "      <td>CLA</td>\n",
       "      <td>111224731</td>\n",
       "      <td>clegg</td>\n",
       "      <td>bonnie</td>\n",
       "      <td>1   clay county</td>\n",
       "      <td>NaN</td>\n",
       "      <td>grn cv spgs</td>\n",
       "      <td>32043</td>\n",
       "      <td>F</td>\n",
       "      <td>5.0</td>\n",
       "      <td>...</td>\n",
       "      <td>5.0</td>\n",
       "      <td>04/24/1951</td>\n",
       "      <td>03/29/2006</td>\n",
       "      <td>REP</td>\n",
       "      <td>606</td>\n",
       "      <td>ACT</td>\n",
       "      <td>62</td>\n",
       "      <td>32043</td>\n",
       "      <td>NaN</td>\n",
       "      <td>0</td>\n",
       "    </tr>\n",
       "    <tr>\n",
       "      <td>1</td>\n",
       "      <td>CLA</td>\n",
       "      <td>102846326</td>\n",
       "      <td>champion</td>\n",
       "      <td>elizabeth</td>\n",
       "      <td>4923   adra ct</td>\n",
       "      <td>NaN</td>\n",
       "      <td>fleming island</td>\n",
       "      <td>320037873</td>\n",
       "      <td>F</td>\n",
       "      <td>5.0</td>\n",
       "      <td>...</td>\n",
       "      <td>5.0</td>\n",
       "      <td>08/08/1956</td>\n",
       "      <td>02/06/1988</td>\n",
       "      <td>REP</td>\n",
       "      <td>414</td>\n",
       "      <td>ACT</td>\n",
       "      <td>57</td>\n",
       "      <td>32003</td>\n",
       "      <td>7873.0</td>\n",
       "      <td>0</td>\n",
       "    </tr>\n",
       "    <tr>\n",
       "      <td>2</td>\n",
       "      <td>CLA</td>\n",
       "      <td>102846332</td>\n",
       "      <td>rund</td>\n",
       "      <td>matthew</td>\n",
       "      <td>2332   birdwood dr</td>\n",
       "      <td>NaN</td>\n",
       "      <td>orange park</td>\n",
       "      <td>320735324</td>\n",
       "      <td>M</td>\n",
       "      <td>5.0</td>\n",
       "      <td>...</td>\n",
       "      <td>5.0</td>\n",
       "      <td>01/29/1934</td>\n",
       "      <td>02/04/1988</td>\n",
       "      <td>REP</td>\n",
       "      <td>210</td>\n",
       "      <td>ACT</td>\n",
       "      <td>80</td>\n",
       "      <td>32073</td>\n",
       "      <td>5324.0</td>\n",
       "      <td>0</td>\n",
       "    </tr>\n",
       "    <tr>\n",
       "      <td>3</td>\n",
       "      <td>CLA</td>\n",
       "      <td>102846804</td>\n",
       "      <td>de gidio</td>\n",
       "      <td>valrae</td>\n",
       "      <td>3016   alpaca ave</td>\n",
       "      <td>NaN</td>\n",
       "      <td>middleburg</td>\n",
       "      <td>320686413</td>\n",
       "      <td>F</td>\n",
       "      <td>5.0</td>\n",
       "      <td>...</td>\n",
       "      <td>5.0</td>\n",
       "      <td>08/12/1942</td>\n",
       "      <td>06/07/1999</td>\n",
       "      <td>REP</td>\n",
       "      <td>508</td>\n",
       "      <td>ACT</td>\n",
       "      <td>71</td>\n",
       "      <td>32068</td>\n",
       "      <td>6413.0</td>\n",
       "      <td>0</td>\n",
       "    </tr>\n",
       "    <tr>\n",
       "      <td>4</td>\n",
       "      <td>CLA</td>\n",
       "      <td>102840283</td>\n",
       "      <td>pike</td>\n",
       "      <td>anna</td>\n",
       "      <td>6653   immokalee rd</td>\n",
       "      <td>NaN</td>\n",
       "      <td>keystone heights</td>\n",
       "      <td>326568990</td>\n",
       "      <td>F</td>\n",
       "      <td>5.0</td>\n",
       "      <td>...</td>\n",
       "      <td>5.0</td>\n",
       "      <td>08/07/1940</td>\n",
       "      <td>03/16/1984</td>\n",
       "      <td>REP</td>\n",
       "      <td>702</td>\n",
       "      <td>ACT</td>\n",
       "      <td>73</td>\n",
       "      <td>32656</td>\n",
       "      <td>8990.0</td>\n",
       "      <td>0</td>\n",
       "    </tr>\n",
       "  </tbody>\n",
       "</table>\n",
       "<p>5 rows × 38 columns</p>\n",
       "</div>"
      ],
      "text/plain": [
       "  county_code_L  voter_id_L last_name_L first_name_L residence_addr_line_1_L  \\\n",
       "0           CLA   111224731       clegg       bonnie         1   clay county   \n",
       "1           CLA   102846326    champion    elizabeth          4923   adra ct   \n",
       "2           CLA   102846332        rund      matthew      2332   birdwood dr   \n",
       "3           CLA   102846804    de gidio       valrae       3016   alpaca ave   \n",
       "4           CLA   102840283        pike         anna     6653   immokalee rd   \n",
       "\n",
       "  residence_addr_line_2_L  residence_city_L  residence_zipcode_L gender_L  \\\n",
       "0                     NaN       grn cv spgs                32043        F   \n",
       "1                     NaN    fleming island            320037873        F   \n",
       "2                     NaN       orange park            320735324        M   \n",
       "3                     NaN        middleburg            320686413        F   \n",
       "4                     NaN  keystone heights            326568990        F   \n",
       "\n",
       "   race_L  ... race_R birth_date_R registration_date_R party_affiliation_R  \\\n",
       "0     5.0  ...    5.0   04/24/1951          03/29/2006                 REP   \n",
       "1     5.0  ...    5.0   08/08/1956          02/06/1988                 REP   \n",
       "2     5.0  ...    5.0   01/29/1934          02/04/1988                 REP   \n",
       "3     5.0  ...    5.0   08/12/1942          06/07/1999                 REP   \n",
       "4     5.0  ...    5.0   08/07/1940          03/16/1984                 REP   \n",
       "\n",
       "  precinct_R  voter_status_R  age_R  residence_zipcode_5_R  \\\n",
       "0        606             ACT     62                  32043   \n",
       "1        414             ACT     57                  32003   \n",
       "2        210             ACT     80                  32073   \n",
       "3        508             ACT     71                  32068   \n",
       "4        702             ACT     73                  32656   \n",
       "\n",
       "  residence_zipcode_4_R age_diff  \n",
       "0                   NaN        0  \n",
       "1                7873.0        0  \n",
       "2                5324.0        0  \n",
       "3                6413.0        0  \n",
       "4                8990.0        0  \n",
       "\n",
       "[5 rows x 38 columns]"
      ]
     },
     "execution_count": 15,
     "metadata": {},
     "output_type": "execute_result"
    }
   ],
   "source": [
    "couples_df.head()"
   ]
  },
  {
   "cell_type": "code",
   "execution_count": 16,
   "metadata": {},
   "outputs": [],
   "source": [
    "addr_df=global_df[['uniq_addr','voter_id']] "
   ]
  },
  {
   "cell_type": "code",
   "execution_count": 17,
   "metadata": {},
   "outputs": [],
   "source": [
    "couples_df_found = pd.merge(couples_df, addr_df, left_on=[\"voter_id_L\"], right_on=[\"voter_id\"], suffixes=[\"\",\"_L\"])"
   ]
  },
  {
   "cell_type": "code",
   "execution_count": 18,
   "metadata": {},
   "outputs": [],
   "source": [
    "del couples_df_found['voter_id']"
   ]
  },
  {
   "cell_type": "code",
   "execution_count": 19,
   "metadata": {},
   "outputs": [],
   "source": [
    "couples_df_found = pd.merge(couples_df_found, addr_df, left_on=[\"voter_id_R\"], right_on=[\"voter_id\"], suffixes=[\"\",\"_R\"])"
   ]
  },
  {
   "cell_type": "code",
   "execution_count": 20,
   "metadata": {},
   "outputs": [],
   "source": [
    "del couples_df_found['voter_id']"
   ]
  },
  {
   "cell_type": "code",
   "execution_count": 21,
   "metadata": {},
   "outputs": [
    {
     "data": {
      "text/html": [
       "<div>\n",
       "<style scoped>\n",
       "    .dataframe tbody tr th:only-of-type {\n",
       "        vertical-align: middle;\n",
       "    }\n",
       "\n",
       "    .dataframe tbody tr th {\n",
       "        vertical-align: top;\n",
       "    }\n",
       "\n",
       "    .dataframe thead th {\n",
       "        text-align: right;\n",
       "    }\n",
       "</style>\n",
       "<table border=\"1\" class=\"dataframe\">\n",
       "  <thead>\n",
       "    <tr style=\"text-align: right;\">\n",
       "      <th></th>\n",
       "      <th>voter_id_L</th>\n",
       "      <th>voter_id_R</th>\n",
       "      <th>uniq_addr_L</th>\n",
       "      <th>uniq_addr_R</th>\n",
       "    </tr>\n",
       "  </thead>\n",
       "  <tbody>\n",
       "    <tr>\n",
       "      <td>0</td>\n",
       "      <td>111224731</td>\n",
       "      <td>114194885</td>\n",
       "      <td>1   clay county  grn cv spgs 32043</td>\n",
       "      <td>1   clay county  grn cv spgs 32043</td>\n",
       "    </tr>\n",
       "    <tr>\n",
       "      <td>1</td>\n",
       "      <td>102846326</td>\n",
       "      <td>102848834</td>\n",
       "      <td>4923   adra ct  fleming island 32003</td>\n",
       "      <td>4923   adra ct  fleming island 32003</td>\n",
       "    </tr>\n",
       "    <tr>\n",
       "      <td>2</td>\n",
       "      <td>102846332</td>\n",
       "      <td>102848464</td>\n",
       "      <td>2332   birdwood dr  orange park 32073</td>\n",
       "      <td>2332   birdwood dr  orange park 32073</td>\n",
       "    </tr>\n",
       "    <tr>\n",
       "      <td>3</td>\n",
       "      <td>102846804</td>\n",
       "      <td>102933269</td>\n",
       "      <td>3016   alpaca ave  middleburg 32068</td>\n",
       "      <td>3016   alpaca ave  middleburg 32068</td>\n",
       "    </tr>\n",
       "    <tr>\n",
       "      <td>4</td>\n",
       "      <td>102840283</td>\n",
       "      <td>102841076</td>\n",
       "      <td>6653   immokalee rd  keystone heights 32656</td>\n",
       "      <td>6653   immokalee rd  keystone heights 32656</td>\n",
       "    </tr>\n",
       "  </tbody>\n",
       "</table>\n",
       "</div>"
      ],
      "text/plain": [
       "   voter_id_L  voter_id_R                                  uniq_addr_L  \\\n",
       "0   111224731   114194885           1   clay county  grn cv spgs 32043   \n",
       "1   102846326   102848834         4923   adra ct  fleming island 32003   \n",
       "2   102846332   102848464        2332   birdwood dr  orange park 32073   \n",
       "3   102846804   102933269          3016   alpaca ave  middleburg 32068   \n",
       "4   102840283   102841076  6653   immokalee rd  keystone heights 32656   \n",
       "\n",
       "                                   uniq_addr_R  \n",
       "0           1   clay county  grn cv spgs 32043  \n",
       "1         4923   adra ct  fleming island 32003  \n",
       "2        2332   birdwood dr  orange park 32073  \n",
       "3          3016   alpaca ave  middleburg 32068  \n",
       "4  6653   immokalee rd  keystone heights 32656  "
      ]
     },
     "execution_count": 21,
     "metadata": {},
     "output_type": "execute_result"
    }
   ],
   "source": [
    "couples_df_found[[\"voter_id_L\",\"voter_id_R\", \"uniq_addr_L\",\"uniq_addr_R\"]].head()"
   ]
  },
  {
   "cell_type": "code",
   "execution_count": 22,
   "metadata": {},
   "outputs": [
    {
     "data": {
      "text/plain": [
       "False"
      ]
     },
     "execution_count": 22,
     "metadata": {},
     "output_type": "execute_result"
    }
   ],
   "source": [
    "couples_df_found['uniq_addr_L'].equals(couples_df_found['uniq_addr_R'])"
   ]
  },
  {
   "cell_type": "code",
   "execution_count": 23,
   "metadata": {},
   "outputs": [
    {
     "name": "stdout",
     "output_type": "stream",
     "text": [
      "0    False\n",
      "dtype: bool\n"
     ]
    }
   ],
   "source": [
    "c=couples_df_found.loc[couples_df_found.voter_id_L==111224731]\n",
    "print(c.uniq_addr_L!=c.uniq_addr_R)"
   ]
  },
  {
   "cell_type": "code",
   "execution_count": 24,
   "metadata": {},
   "outputs": [],
   "source": [
    "couples_df_found['separated'] = couples_df_found.apply(lambda x : x.uniq_addr_L != x.uniq_addr_R, axis=1)"
   ]
  },
  {
   "cell_type": "code",
   "execution_count": 25,
   "metadata": {},
   "outputs": [
    {
     "data": {
      "text/plain": [
       "False    2604139\n",
       "True      179480\n",
       "Name: separated, dtype: int64"
      ]
     },
     "execution_count": 25,
     "metadata": {},
     "output_type": "execute_result"
    }
   ],
   "source": [
    "couples_df_found['separated'].value_counts()"
   ]
  },
  {
   "cell_type": "code",
   "execution_count": 26,
   "metadata": {},
   "outputs": [
    {
     "data": {
      "text/plain": [
       "county_code_L                    0\n",
       "voter_id_L                       0\n",
       "last_name_L                      0\n",
       "first_name_L                     0\n",
       "residence_addr_line_1_L          0\n",
       "residence_addr_line_2_L    2507331\n",
       "residence_city_L                 0\n",
       "residence_zipcode_L              0\n",
       "gender_L                         0\n",
       "race_L                           9\n",
       "birth_date_L                     0\n",
       "registration_date_L              0\n",
       "party_affiliation_L              0\n",
       "precinct_L                       0\n",
       "voter_status_L                   0\n",
       "age_L                            0\n",
       "residence_zipcode_5_L            0\n",
       "residence_zipcode_4_L      2504686\n",
       "uniq_addr                        0\n",
       "county_code_R                    0\n",
       "voter_id_R                       0\n",
       "last_name_R                      1\n",
       "first_name_R                     1\n",
       "residence_addr_line_1_R          0\n",
       "residence_addr_line_2_R    2507329\n",
       "residence_city_R                 0\n",
       "residence_zipcode_R              0\n",
       "gender_R                         0\n",
       "race_R                          16\n",
       "birth_date_R                     0\n",
       "registration_date_R              0\n",
       "party_affiliation_R              0\n",
       "precinct_R                       0\n",
       "voter_status_R                   0\n",
       "age_R                            0\n",
       "residence_zipcode_5_R            0\n",
       "residence_zipcode_4_R      2548166\n",
       "age_diff                         0\n",
       "uniq_addr_L                      0\n",
       "uniq_addr_R                      0\n",
       "separated                        0\n",
       "dtype: int64"
      ]
     },
     "execution_count": 26,
     "metadata": {},
     "output_type": "execute_result"
    }
   ],
   "source": [
    "couples_df_found.isnull().sum()"
   ]
  },
  {
   "cell_type": "code",
   "execution_count": 27,
   "metadata": {},
   "outputs": [
    {
     "data": {
      "text/html": [
       "<div>\n",
       "<style scoped>\n",
       "    .dataframe tbody tr th:only-of-type {\n",
       "        vertical-align: middle;\n",
       "    }\n",
       "\n",
       "    .dataframe tbody tr th {\n",
       "        vertical-align: top;\n",
       "    }\n",
       "\n",
       "    .dataframe thead th {\n",
       "        text-align: right;\n",
       "    }\n",
       "</style>\n",
       "<table border=\"1\" class=\"dataframe\">\n",
       "  <thead>\n",
       "    <tr style=\"text-align: right;\">\n",
       "      <th></th>\n",
       "      <th>county_code_L</th>\n",
       "      <th>voter_id_L</th>\n",
       "      <th>last_name_L</th>\n",
       "      <th>first_name_L</th>\n",
       "      <th>residence_addr_line_1_L</th>\n",
       "      <th>residence_addr_line_2_L</th>\n",
       "      <th>residence_city_L</th>\n",
       "      <th>residence_zipcode_L</th>\n",
       "      <th>gender_L</th>\n",
       "      <th>race_L</th>\n",
       "      <th>...</th>\n",
       "      <th>party_affiliation_R</th>\n",
       "      <th>precinct_R</th>\n",
       "      <th>voter_status_R</th>\n",
       "      <th>age_R</th>\n",
       "      <th>residence_zipcode_5_R</th>\n",
       "      <th>residence_zipcode_4_R</th>\n",
       "      <th>age_diff</th>\n",
       "      <th>uniq_addr_L</th>\n",
       "      <th>uniq_addr_R</th>\n",
       "      <th>separated</th>\n",
       "    </tr>\n",
       "  </thead>\n",
       "  <tbody>\n",
       "    <tr>\n",
       "      <td>0</td>\n",
       "      <td>CLA</td>\n",
       "      <td>111224731</td>\n",
       "      <td>clegg</td>\n",
       "      <td>bonnie</td>\n",
       "      <td>1   clay county</td>\n",
       "      <td>NaN</td>\n",
       "      <td>grn cv spgs</td>\n",
       "      <td>32043</td>\n",
       "      <td>F</td>\n",
       "      <td>5.0</td>\n",
       "      <td>...</td>\n",
       "      <td>REP</td>\n",
       "      <td>606</td>\n",
       "      <td>ACT</td>\n",
       "      <td>62</td>\n",
       "      <td>32043</td>\n",
       "      <td>NaN</td>\n",
       "      <td>0</td>\n",
       "      <td>1   clay county  grn cv spgs 32043</td>\n",
       "      <td>1   clay county  grn cv spgs 32043</td>\n",
       "      <td>False</td>\n",
       "    </tr>\n",
       "    <tr>\n",
       "      <td>1</td>\n",
       "      <td>CLA</td>\n",
       "      <td>102846326</td>\n",
       "      <td>champion</td>\n",
       "      <td>elizabeth</td>\n",
       "      <td>4923   adra ct</td>\n",
       "      <td>NaN</td>\n",
       "      <td>fleming island</td>\n",
       "      <td>320037873</td>\n",
       "      <td>F</td>\n",
       "      <td>5.0</td>\n",
       "      <td>...</td>\n",
       "      <td>REP</td>\n",
       "      <td>414</td>\n",
       "      <td>ACT</td>\n",
       "      <td>57</td>\n",
       "      <td>32003</td>\n",
       "      <td>7873.0</td>\n",
       "      <td>0</td>\n",
       "      <td>4923   adra ct  fleming island 32003</td>\n",
       "      <td>4923   adra ct  fleming island 32003</td>\n",
       "      <td>False</td>\n",
       "    </tr>\n",
       "    <tr>\n",
       "      <td>2</td>\n",
       "      <td>CLA</td>\n",
       "      <td>102846332</td>\n",
       "      <td>rund</td>\n",
       "      <td>matthew</td>\n",
       "      <td>2332   birdwood dr</td>\n",
       "      <td>NaN</td>\n",
       "      <td>orange park</td>\n",
       "      <td>320735324</td>\n",
       "      <td>M</td>\n",
       "      <td>5.0</td>\n",
       "      <td>...</td>\n",
       "      <td>REP</td>\n",
       "      <td>210</td>\n",
       "      <td>ACT</td>\n",
       "      <td>80</td>\n",
       "      <td>32073</td>\n",
       "      <td>5324.0</td>\n",
       "      <td>0</td>\n",
       "      <td>2332   birdwood dr  orange park 32073</td>\n",
       "      <td>2332   birdwood dr  orange park 32073</td>\n",
       "      <td>False</td>\n",
       "    </tr>\n",
       "    <tr>\n",
       "      <td>3</td>\n",
       "      <td>CLA</td>\n",
       "      <td>102846804</td>\n",
       "      <td>de gidio</td>\n",
       "      <td>valrae</td>\n",
       "      <td>3016   alpaca ave</td>\n",
       "      <td>NaN</td>\n",
       "      <td>middleburg</td>\n",
       "      <td>320686413</td>\n",
       "      <td>F</td>\n",
       "      <td>5.0</td>\n",
       "      <td>...</td>\n",
       "      <td>REP</td>\n",
       "      <td>508</td>\n",
       "      <td>ACT</td>\n",
       "      <td>71</td>\n",
       "      <td>32068</td>\n",
       "      <td>6413.0</td>\n",
       "      <td>0</td>\n",
       "      <td>3016   alpaca ave  middleburg 32068</td>\n",
       "      <td>3016   alpaca ave  middleburg 32068</td>\n",
       "      <td>False</td>\n",
       "    </tr>\n",
       "    <tr>\n",
       "      <td>4</td>\n",
       "      <td>CLA</td>\n",
       "      <td>102840283</td>\n",
       "      <td>pike</td>\n",
       "      <td>anna</td>\n",
       "      <td>6653   immokalee rd</td>\n",
       "      <td>NaN</td>\n",
       "      <td>keystone heights</td>\n",
       "      <td>326568990</td>\n",
       "      <td>F</td>\n",
       "      <td>5.0</td>\n",
       "      <td>...</td>\n",
       "      <td>REP</td>\n",
       "      <td>702</td>\n",
       "      <td>ACT</td>\n",
       "      <td>73</td>\n",
       "      <td>32656</td>\n",
       "      <td>8990.0</td>\n",
       "      <td>0</td>\n",
       "      <td>6653   immokalee rd  keystone heights 32656</td>\n",
       "      <td>6653   immokalee rd  keystone heights 32656</td>\n",
       "      <td>False</td>\n",
       "    </tr>\n",
       "  </tbody>\n",
       "</table>\n",
       "<p>5 rows × 41 columns</p>\n",
       "</div>"
      ],
      "text/plain": [
       "  county_code_L  voter_id_L last_name_L first_name_L residence_addr_line_1_L  \\\n",
       "0           CLA   111224731       clegg       bonnie         1   clay county   \n",
       "1           CLA   102846326    champion    elizabeth          4923   adra ct   \n",
       "2           CLA   102846332        rund      matthew      2332   birdwood dr   \n",
       "3           CLA   102846804    de gidio       valrae       3016   alpaca ave   \n",
       "4           CLA   102840283        pike         anna     6653   immokalee rd   \n",
       "\n",
       "  residence_addr_line_2_L  residence_city_L  residence_zipcode_L gender_L  \\\n",
       "0                     NaN       grn cv spgs                32043        F   \n",
       "1                     NaN    fleming island            320037873        F   \n",
       "2                     NaN       orange park            320735324        M   \n",
       "3                     NaN        middleburg            320686413        F   \n",
       "4                     NaN  keystone heights            326568990        F   \n",
       "\n",
       "   race_L  ... party_affiliation_R precinct_R voter_status_R age_R  \\\n",
       "0     5.0  ...                 REP        606            ACT    62   \n",
       "1     5.0  ...                 REP        414            ACT    57   \n",
       "2     5.0  ...                 REP        210            ACT    80   \n",
       "3     5.0  ...                 REP        508            ACT    71   \n",
       "4     5.0  ...                 REP        702            ACT    73   \n",
       "\n",
       "  residence_zipcode_5_R  residence_zipcode_4_R  age_diff  \\\n",
       "0                 32043                    NaN         0   \n",
       "1                 32003                 7873.0         0   \n",
       "2                 32073                 5324.0         0   \n",
       "3                 32068                 6413.0         0   \n",
       "4                 32656                 8990.0         0   \n",
       "\n",
       "                                   uniq_addr_L  \\\n",
       "0           1   clay county  grn cv spgs 32043   \n",
       "1         4923   adra ct  fleming island 32003   \n",
       "2        2332   birdwood dr  orange park 32073   \n",
       "3          3016   alpaca ave  middleburg 32068   \n",
       "4  6653   immokalee rd  keystone heights 32656   \n",
       "\n",
       "                                   uniq_addr_R separated  \n",
       "0           1   clay county  grn cv spgs 32043     False  \n",
       "1         4923   adra ct  fleming island 32003     False  \n",
       "2        2332   birdwood dr  orange park 32073     False  \n",
       "3          3016   alpaca ave  middleburg 32068     False  \n",
       "4  6653   immokalee rd  keystone heights 32656     False  \n",
       "\n",
       "[5 rows x 41 columns]"
      ]
     },
     "execution_count": 27,
     "metadata": {},
     "output_type": "execute_result"
    }
   ],
   "source": [
    "couples_df_found.head()"
   ]
  },
  {
   "cell_type": "code",
   "execution_count": 30,
   "metadata": {},
   "outputs": [
    {
     "data": {
      "text/plain": [
       "array(['DEM', 'GRE', 'REP', 'NPA', 'REF', 'INT', 'IDP', 'LPF', 'ECO',\n",
       "       'TPF', 'PSL', 'AIP', 'FSW', 'CPF', 'JPF', 'PFP'], dtype=object)"
      ]
     },
     "execution_count": 30,
     "metadata": {},
     "output_type": "execute_result"
    }
   ],
   "source": [
    "global_df[\"party_affiliation\"].unique()"
   ]
  },
  {
   "cell_type": "code",
   "execution_count": 34,
   "metadata": {},
   "outputs": [],
   "source": [
    "cols = [\"party_affiliation\", \"gender\", \"race\"]\n",
    "unique_dic = {}\n",
    "for c in cols:\n",
    "    unique_dic[c] = set(global_df[c].unique())"
   ]
  },
  {
   "cell_type": "code",
   "execution_count": null,
   "metadata": {},
   "outputs": [],
   "source": [
    "unique_dic"
   ]
  },
  {
   "cell_type": "code",
   "execution_count": 47,
   "metadata": {},
   "outputs": [
    {
     "name": "stdout",
     "output_type": "stream",
     "text": [
      "Processing : party_affiliation : Total comb: 120\n",
      "Done with comb: 1\n",
      "Done with comb: 2\n",
      "Done with comb: 3\n",
      "Done with comb: 4\n",
      "Done with comb: 5\n",
      "Done with comb: 6\n",
      "Done with comb: 7\n",
      "Done with comb: 8\n",
      "Done with comb: 9\n",
      "Done with comb: 10\n",
      "Done with comb: 11\n",
      "Done with comb: 12\n",
      "Done with comb: 13\n",
      "Done with comb: 14\n",
      "Done with comb: 15\n",
      "Done with comb: 16\n",
      "Done with comb: 17\n",
      "Done with comb: 18\n",
      "Done with comb: 19\n",
      "Done with comb: 20\n",
      "Done with comb: 21\n",
      "Done with comb: 22\n",
      "Done with comb: 23\n",
      "Done with comb: 24\n",
      "Done with comb: 25\n",
      "Done with comb: 26\n",
      "Done with comb: 27\n",
      "Done with comb: 28\n",
      "Done with comb: 29\n",
      "Done with comb: 30\n",
      "Done with comb: 31\n",
      "Done with comb: 32\n",
      "Done with comb: 33\n",
      "Done with comb: 34\n",
      "Done with comb: 35\n",
      "Done with comb: 36\n",
      "Done with comb: 37\n",
      "Done with comb: 38\n",
      "Done with comb: 39\n",
      "Done with comb: 40\n",
      "Done with comb: 41\n",
      "Done with comb: 42\n",
      "Done with comb: 43\n",
      "Done with comb: 44\n",
      "Done with comb: 45\n",
      "Done with comb: 46\n",
      "Done with comb: 47\n",
      "Done with comb: 48\n",
      "Done with comb: 49\n",
      "Done with comb: 50\n",
      "Done with comb: 51\n",
      "Done with comb: 52\n",
      "Done with comb: 53\n",
      "Done with comb: 54\n",
      "Done with comb: 55\n",
      "Done with comb: 56\n",
      "Done with comb: 57\n",
      "Done with comb: 58\n",
      "Done with comb: 59\n",
      "Done with comb: 60\n",
      "Done with comb: 61\n",
      "Done with comb: 62\n",
      "Done with comb: 63\n",
      "Done with comb: 64\n",
      "Done with comb: 65\n",
      "Done with comb: 66\n",
      "Done with comb: 67\n",
      "Done with comb: 68\n",
      "Done with comb: 69\n",
      "Done with comb: 70\n",
      "Done with comb: 71\n",
      "Done with comb: 72\n",
      "Done with comb: 73\n",
      "Done with comb: 74\n",
      "Done with comb: 75\n",
      "Done with comb: 76\n",
      "Done with comb: 77\n",
      "Done with comb: 78\n",
      "Done with comb: 79\n",
      "Done with comb: 80\n",
      "Done with comb: 81\n",
      "Done with comb: 82\n",
      "Done with comb: 83\n",
      "Done with comb: 84\n",
      "Done with comb: 85\n",
      "Done with comb: 86\n",
      "Done with comb: 87\n",
      "Done with comb: 88\n",
      "Done with comb: 89\n",
      "Done with comb: 90\n",
      "Done with comb: 91\n",
      "Done with comb: 92\n",
      "Done with comb: 93\n",
      "Done with comb: 94\n",
      "Done with comb: 95\n",
      "Done with comb: 96\n",
      "Done with comb: 97\n",
      "Done with comb: 98\n",
      "Done with comb: 99\n",
      "Done with comb: 100\n",
      "Done with comb: 101\n",
      "Done with comb: 102\n",
      "Done with comb: 103\n",
      "Done with comb: 104\n",
      "Done with comb: 105\n",
      "Done with comb: 106\n",
      "Done with comb: 107\n",
      "Done with comb: 108\n",
      "Done with comb: 109\n",
      "Done with comb: 110\n",
      "Done with comb: 111\n",
      "Done with comb: 112\n",
      "Done with comb: 113\n",
      "Done with comb: 114\n",
      "Done with comb: 115\n",
      "Done with comb: 116\n",
      "Done with comb: 117\n",
      "Done with comb: 118\n",
      "Done with comb: 119\n",
      "Done with comb: 120\n",
      "Done with processing column: party_affiliation\n",
      "Processing : gender : Total comb: 3\n",
      "Done with comb: 1\n",
      "Done with comb: 2\n",
      "Done with comb: 3\n",
      "Done with processing column: gender\n",
      "Processing : race : Total comb: 28\n"
     ]
    },
    {
     "ename": "UFuncTypeError",
     "evalue": "ufunc 'add' did not contain a loop with signature matching types (dtype('<U32'), dtype('<U32')) -> dtype('<U32')",
     "output_type": "error",
     "traceback": [
      "\u001b[0;31m---------------------------------------------------------------------------\u001b[0m",
      "\u001b[0;31mUFuncTypeError\u001b[0m                            Traceback (most recent call last)",
      "\u001b[0;32m<ipython-input-47-b071b7233def>\u001b[0m in \u001b[0;36m<module>\u001b[0;34m\u001b[0m\n\u001b[1;32m     15\u001b[0m         \u001b[0mcount\u001b[0m \u001b[0;34m=\u001b[0m \u001b[0mleft_right\u001b[0m\u001b[0;34m[\u001b[0m\u001b[0mleft_right\u001b[0m\u001b[0;34m[\u001b[0m\u001b[0;34m\"separated\"\u001b[0m\u001b[0;34m]\u001b[0m \u001b[0;34m==\u001b[0m \u001b[0;32mTrue\u001b[0m\u001b[0;34m]\u001b[0m\u001b[0;34m.\u001b[0m\u001b[0mshape\u001b[0m\u001b[0;34m[\u001b[0m\u001b[0;36m0\u001b[0m\u001b[0;34m]\u001b[0m\u001b[0;34m\u001b[0m\u001b[0;34m\u001b[0m\u001b[0m\n\u001b[1;32m     16\u001b[0m         \u001b[0mcount\u001b[0m \u001b[0;34m+=\u001b[0m \u001b[0mright_left\u001b[0m\u001b[0;34m[\u001b[0m\u001b[0mright_left\u001b[0m\u001b[0;34m[\u001b[0m\u001b[0;34m\"separated\"\u001b[0m\u001b[0;34m]\u001b[0m \u001b[0;34m==\u001b[0m \u001b[0;32mTrue\u001b[0m\u001b[0;34m]\u001b[0m\u001b[0;34m.\u001b[0m\u001b[0mshape\u001b[0m\u001b[0;34m[\u001b[0m\u001b[0;36m0\u001b[0m\u001b[0;34m]\u001b[0m\u001b[0;34m\u001b[0m\u001b[0;34m\u001b[0m\u001b[0m\n\u001b[0;32m---> 17\u001b[0;31m         \u001b[0mstats\u001b[0m\u001b[0;34m[\u001b[0m\u001b[0mc\u001b[0m\u001b[0;34m]\u001b[0m\u001b[0;34m[\u001b[0m\u001b[0mfirst_val\u001b[0m \u001b[0;34m+\u001b[0m \u001b[0;34m\"_\"\u001b[0m \u001b[0;34m+\u001b[0m \u001b[0msecond_val\u001b[0m\u001b[0;34m]\u001b[0m \u001b[0;34m=\u001b[0m \u001b[0mcount\u001b[0m\u001b[0;34m\u001b[0m\u001b[0;34m\u001b[0m\u001b[0m\n\u001b[0m\u001b[1;32m     18\u001b[0m         \u001b[0mi\u001b[0m \u001b[0;34m+=\u001b[0m \u001b[0;36m1\u001b[0m\u001b[0;34m\u001b[0m\u001b[0;34m\u001b[0m\u001b[0m\n\u001b[1;32m     19\u001b[0m         \u001b[0mprint\u001b[0m\u001b[0;34m(\u001b[0m\u001b[0;34m\"Done with comb: \"\u001b[0m \u001b[0;34m+\u001b[0m \u001b[0mstr\u001b[0m\u001b[0;34m(\u001b[0m\u001b[0mi\u001b[0m\u001b[0;34m)\u001b[0m\u001b[0;34m)\u001b[0m\u001b[0;34m\u001b[0m\u001b[0;34m\u001b[0m\u001b[0m\n",
      "\u001b[0;31mUFuncTypeError\u001b[0m: ufunc 'add' did not contain a loop with signature matching types (dtype('<U32'), dtype('<U32')) -> dtype('<U32')"
     ]
    }
   ],
   "source": [
    "from itertools import combinations\n",
    "total_separated = couples_df_found[couples_df_found[\"separated\"] == True].shape[0]\n",
    "stats = {}\n",
    "for c in cols:\n",
    "    cat_combinations = list(combinations(list(unique_dic[c]), 2))\n",
    "    stats[c] = {}\n",
    "    print(\"Processing : \" + c + \" : Total comb: \" + str(len(cat_combinations)))\n",
    "    i = 0\n",
    "    for comb in cat_combinations:\n",
    "        first_val = comb[0]\n",
    "        second_val = comb[1]\n",
    "        \n",
    "        left_right = couples_df_found[(couples_df_found[c + \"_L\"] == first_val) & (couples_df_found[c + \"_R\"] == second_val)]\n",
    "        right_left = couples_df_found[(couples_df_found[c + \"_L\"] == second_val) & (couples_df_found[c + \"_R\"] == first_val)]\n",
    "        count = left_right[left_right[\"separated\"] == True].shape[0]\n",
    "        count += right_left[right_left[\"separated\"] == True].shape[0]\n",
    "        stats[c][first_val + \"_\" + second_val] = count\n",
    "        i += 1\n",
    "        print(\"Done with comb: \" + str(i))\n",
    "    print(\"Done with processing column: \" + c)\n",
    "        "
   ]
  },
  {
   "cell_type": "code",
   "execution_count": 48,
   "metadata": {},
   "outputs": [
    {
     "data": {
      "text/plain": [
       "{'party_affiliation': {'PSL_REF': 0,\n",
       "  'PSL_AIP': 0,\n",
       "  'PSL_ECO': 0,\n",
       "  'PSL_CPF': 0,\n",
       "  'PSL_TPF': 0,\n",
       "  'PSL_LPF': 0,\n",
       "  'PSL_PFP': 0,\n",
       "  'PSL_INT': 0,\n",
       "  'PSL_GRE': 0,\n",
       "  'PSL_JPF': 0,\n",
       "  'PSL_FSW': 0,\n",
       "  'PSL_REP': 0,\n",
       "  'PSL_NPA': 1,\n",
       "  'PSL_DEM': 1,\n",
       "  'PSL_IDP': 0,\n",
       "  'REF_AIP': 0,\n",
       "  'REF_ECO': 0,\n",
       "  'REF_CPF': 0,\n",
       "  'REF_TPF': 0,\n",
       "  'REF_LPF': 0,\n",
       "  'REF_PFP': 0,\n",
       "  'REF_INT': 0,\n",
       "  'REF_GRE': 0,\n",
       "  'REF_JPF': 0,\n",
       "  'REF_FSW': 0,\n",
       "  'REF_REP': 25,\n",
       "  'REF_NPA': 20,\n",
       "  'REF_DEM': 16,\n",
       "  'REF_IDP': 0,\n",
       "  'AIP_ECO': 0,\n",
       "  'AIP_CPF': 0,\n",
       "  'AIP_TPF': 0,\n",
       "  'AIP_LPF': 1,\n",
       "  'AIP_PFP': 0,\n",
       "  'AIP_INT': 1,\n",
       "  'AIP_GRE': 0,\n",
       "  'AIP_JPF': 0,\n",
       "  'AIP_FSW': 0,\n",
       "  'AIP_REP': 7,\n",
       "  'AIP_NPA': 3,\n",
       "  'AIP_DEM': 5,\n",
       "  'AIP_IDP': 0,\n",
       "  'ECO_CPF': 0,\n",
       "  'ECO_TPF': 0,\n",
       "  'ECO_LPF': 0,\n",
       "  'ECO_PFP': 0,\n",
       "  'ECO_INT': 0,\n",
       "  'ECO_GRE': 0,\n",
       "  'ECO_JPF': 0,\n",
       "  'ECO_FSW': 0,\n",
       "  'ECO_REP': 2,\n",
       "  'ECO_NPA': 2,\n",
       "  'ECO_DEM': 7,\n",
       "  'ECO_IDP': 0,\n",
       "  'CPF_TPF': 0,\n",
       "  'CPF_LPF': 0,\n",
       "  'CPF_PFP': 0,\n",
       "  'CPF_INT': 1,\n",
       "  'CPF_GRE': 0,\n",
       "  'CPF_JPF': 0,\n",
       "  'CPF_FSW': 0,\n",
       "  'CPF_REP': 15,\n",
       "  'CPF_NPA': 10,\n",
       "  'CPF_DEM': 10,\n",
       "  'CPF_IDP': 0,\n",
       "  'TPF_LPF': 0,\n",
       "  'TPF_PFP': 0,\n",
       "  'TPF_INT': 0,\n",
       "  'TPF_GRE': 0,\n",
       "  'TPF_JPF': 0,\n",
       "  'TPF_FSW': 0,\n",
       "  'TPF_REP': 13,\n",
       "  'TPF_NPA': 6,\n",
       "  'TPF_DEM': 3,\n",
       "  'TPF_IDP': 0,\n",
       "  'LPF_PFP': 0,\n",
       "  'LPF_INT': 28,\n",
       "  'LPF_GRE': 1,\n",
       "  'LPF_JPF': 0,\n",
       "  'LPF_FSW': 0,\n",
       "  'LPF_REP': 284,\n",
       "  'LPF_NPA': 267,\n",
       "  'LPF_DEM': 291,\n",
       "  'LPF_IDP': 7,\n",
       "  'PFP_INT': 0,\n",
       "  'PFP_GRE': 0,\n",
       "  'PFP_JPF': 0,\n",
       "  'PFP_FSW': 0,\n",
       "  'PFP_REP': 2,\n",
       "  'PFP_NPA': 1,\n",
       "  'PFP_DEM': 2,\n",
       "  'PFP_IDP': 0,\n",
       "  'INT_GRE': 7,\n",
       "  'INT_JPF': 0,\n",
       "  'INT_FSW': 0,\n",
       "  'INT_REP': 2392,\n",
       "  'INT_NPA': 2412,\n",
       "  'INT_DEM': 2747,\n",
       "  'INT_IDP': 98,\n",
       "  'GRE_JPF': 0,\n",
       "  'GRE_FSW': 0,\n",
       "  'GRE_REP': 51,\n",
       "  'GRE_NPA': 70,\n",
       "  'GRE_DEM': 112,\n",
       "  'GRE_IDP': 1,\n",
       "  'JPF_FSW': 0,\n",
       "  'JPF_REP': 0,\n",
       "  'JPF_NPA': 0,\n",
       "  'JPF_DEM': 2,\n",
       "  'JPF_IDP': 0,\n",
       "  'FSW_REP': 0,\n",
       "  'FSW_NPA': 0,\n",
       "  'FSW_DEM': 2,\n",
       "  'FSW_IDP': 0,\n",
       "  'REP_NPA': 22003,\n",
       "  'REP_DEM': 24950,\n",
       "  'REP_IDP': 519,\n",
       "  'NPA_DEM': 30224,\n",
       "  'NPA_IDP': 575,\n",
       "  'DEM_IDP': 651},\n",
       " 'gender': {'U_F': 3070, 'U_M': 2392, 'F_M': 115011},\n",
       " 'race': {}}"
      ]
     },
     "execution_count": 48,
     "metadata": {},
     "output_type": "execute_result"
    }
   ],
   "source": [
    "stats"
   ]
  },
  {
   "cell_type": "code",
   "execution_count": 90,
   "metadata": {},
   "outputs": [
    {
     "data": {
      "text/plain": [
       "<matplotlib.axes._subplots.AxesSubplot at 0x7f2ec3bf2cd0>"
      ]
     },
     "execution_count": 90,
     "metadata": {},
     "output_type": "execute_result"
    },
    {
     "data": {
      "image/png": "[encoded data removed]",
      "text/plain": [
       "<Figure size 432x288 with 1 Axes>"
      ]
     },
     "metadata": {
      "needs_background": "light"
     },
     "output_type": "display_data"
    }
   ],
   "source": [
    "figs, axes = plt.subplots(nrows=1, ncols=1)\n",
    "sns.barplot(data=couples_df_found.groupby(['party_affiliation_L'])['separated'].agg(['count']).reset_index())"
   ]
  },
  {
   "cell_type": "code",
   "execution_count": 67,
   "metadata": {},
   "outputs": [],
   "source": []
  },
  {
   "cell_type": "code",
   "execution_count": 27,
   "metadata": {},
   "outputs": [],
   "source": []
  },
  {
   "cell_type": "code",
   "execution_count": null,
   "metadata": {},
   "outputs": [],
   "source": []
  },
  {
   "cell_type": "code",
   "execution_count": 28,
   "metadata": {},
   "outputs": [],
   "source": []
  },
  {
   "cell_type": "code",
   "execution_count": 29,
   "metadata": {},
   "outputs": [],
   "source": []
  },
  {
   "cell_type": "code",
   "execution_count": 30,
   "metadata": {},
   "outputs": [
    {
     "data": {
      "text/plain": [
       "0          421  nw 150th st  miami 33168\n",
       "1        11041  sw 124th st  miami 33176\n",
       "2    11047  nw 3rd ter  sweetwater 33172\n",
       "3         15605  sw 57th ln  miami 33193\n",
       "4        10951  sw 161st pl  miami 33196\n",
       "Name: uniq_addr, dtype: object"
      ]
     },
     "execution_count": 30,
     "metadata": {},
     "output_type": "execute_result"
    }
   ],
   "source": [
    "]"
   ]
  },
  {
   "cell_type": "code",
   "execution_count": 31,
   "metadata": {},
   "outputs": [],
   "source": []
  },
  {
   "cell_type": "code",
   "execution_count": 32,
   "metadata": {},
   "outputs": [
    {
     "data": {
      "text/plain": [
       "(1367975,)"
      ]
     },
     "execution_count": 32,
     "metadata": {},
     "output_type": "execute_result"
    }
   ],
   "source": [
    "global_df['voter_id'].unique().shape"
   ]
  },
  {
   "cell_type": "code",
   "execution_count": 33,
   "metadata": {},
   "outputs": [],
   "source": []
  },
  {
   "cell_type": "code",
   "execution_count": 34,
   "metadata": {},
   "outputs": [],
   "source": []
  },
  {
   "cell_type": "code",
   "execution_count": 35,
   "metadata": {},
   "outputs": [],
   "source": [
    "merge = pd.merge(global_df, global_df_copy, on=[\"uniq_addr\"], suffixes=[\"_L\", \"_R\"])"
   ]
  },
  {
   "cell_type": "code",
   "execution_count": 36,
   "metadata": {},
   "outputs": [],
   "source": [
    "merge = merge[merge[\"voter_id_L\"] != merge[\"voter_id_R\"]]"
   ]
  },
  {
   "cell_type": "code",
   "execution_count": 37,
   "metadata": {},
   "outputs": [
    {
     "data": {
      "text/plain": [
       "(16698628, 39)"
      ]
     },
     "execution_count": 37,
     "metadata": {},
     "output_type": "execute_result"
    }
   ],
   "source": [
    "merge.shape"
   ]
  },
  {
   "cell_type": "code",
   "execution_count": 38,
   "metadata": {},
   "outputs": [],
   "source": [
    "filtered = merge[merge[\"voter_id_L\"] < merge[\"voter_id_R\"]]"
   ]
  },
  {
   "cell_type": "code",
   "execution_count": 39,
   "metadata": {},
   "outputs": [
    {
     "data": {
      "text/plain": [
       "(8349314, 39)"
      ]
     },
     "execution_count": 39,
     "metadata": {},
     "output_type": "execute_result"
    }
   ],
   "source": [
    "filtered.shape"
   ]
  },
  {
   "cell_type": "code",
   "execution_count": 54,
   "metadata": {},
   "outputs": [],
   "source": [
    "def modified_couple_heuristic(row):\n",
    "    male_age_threshold = 27\n",
    "    female_age_threshold = 25\n",
    "    unknown_age_threshold = 26\n",
    "    age_diff_threshold = 15\n",
    "    \n",
    "    age_diff = abs(row['age_L'] - row['age_R'])\n",
    "    \n",
    "    is_age_threshold_L = False\n",
    "    if row[\"gender_L\"] == \"M\" and row[\"age_L\"] >= male_age_threshold: \n",
    "        is_age_threshold_L = True\n",
    "    elif row[\"gender_L\"] == \"F\" and row[\"age_L\"] >= female_age_threshold:\n",
    "        is_age_threshold_L = True\n",
    "    elif row[\"gender_L\"] == \"U\" and row[\"age_L\"] >= unknown_age_threshold:\n",
    "        is_age_threshold_L = True\n",
    "\n",
    "    \n",
    "        \n",
    "    is_age_threshold_R = False\n",
    "    if row[\"gender_R\"] == \"M\" and row[\"age_R\"] >= male_age_threshold: \n",
    "        is_age_threshold_R = True\n",
    "    elif row[\"gender_R\"] == \"F\" and row[\"age_R\"] >= female_age_threshold:\n",
    "        is_age_threshold_R = True\n",
    "    elif row[\"gender_R\"] == \"U\" and row[\"age_R\"] >= unknown_age_threshold:\n",
    "        is_age_threshold_R = True\n",
    "    \n",
    "    return is_age_threshold_L and is_age_threshold_R and age_diff <= age_diff_threshold\n",
    "        "
   ]
  },
  {
   "cell_type": "code",
   "execution_count": 55,
   "metadata": {},
   "outputs": [],
   "source": [
    "couples = filtered[filtered.apply(modified_couple_heuristic, axis=1)]"
   ]
  },
  {
   "cell_type": "code",
   "execution_count": 56,
   "metadata": {},
   "outputs": [
    {
     "data": {
      "text/plain": [
       "(3851206, 39)"
      ]
     },
     "execution_count": 56,
     "metadata": {},
     "output_type": "execute_result"
    }
   ],
   "source": [
    "couples.shape"
   ]
  },
  {
   "cell_type": "markdown",
   "metadata": {},
   "source": [
    "#### https://datascience.stackexchange.com/questions/26308/after-grouping-to-minimum-value-in-pandas-how-to-display-the-matching-row-resul\n",
    "#### https://jamesrledoux.com/code/drop_duplicates"
   ]
  },
  {
   "cell_type": "code",
   "execution_count": 76,
   "metadata": {},
   "outputs": [
    {
     "name": "stderr",
     "output_type": "stream",
     "text": [
      "/home/rahullachh/anaconda3/lib/python3.7/site-packages/ipykernel_launcher.py:1: SettingWithCopyWarning: \n",
      "A value is trying to be set on a copy of a slice from a DataFrame.\n",
      "Try using .loc[row_indexer,col_indexer] = value instead\n",
      "\n",
      "See the caveats in the documentation: http://pandas.pydata.org/pandas-docs/stable/user_guide/indexing.html#returning-a-view-versus-a-copy\n",
      "  \"\"\"Entry point for launching an IPython kernel.\n"
     ]
    }
   ],
   "source": [
    "couples[\"age_diff\"] = couples.apply(lambda row: abs(row[\"age_L\"] - row[\"age_R\"]), axis=1)"
   ]
  },
  {
   "cell_type": "code",
   "execution_count": 78,
   "metadata": {},
   "outputs": [],
   "source": [
    "sorted_couples = couples.sort_values(by=\"age_diff\")"
   ]
  },
  {
   "cell_type": "code",
   "execution_count": 82,
   "metadata": {},
   "outputs": [],
   "source": [
    "single_house_couples = sorted_couples.drop_duplicates(subset=\"uniq_addr\", keep=\"first\")"
   ]
  },
  {
   "cell_type": "code",
   "execution_count": 85,
   "metadata": {},
   "outputs": [],
   "source": [
    "single_house_couples.to_csv(\"dad_20190813_couples.csv\", sep=\"\\t\")"
   ]
  },
  {
   "cell_type": "code",
   "execution_count": 86,
   "metadata": {},
   "outputs": [
    {
     "data": {
      "text/plain": [
       "494614416"
      ]
     },
     "execution_count": 86,
     "metadata": {},
     "output_type": "execute_result"
    }
   ],
   "source": [
    "import sys\n",
    "sys.getsizeof(single_house_couples)"
   ]
  },
  {
   "cell_type": "code",
   "execution_count": 60,
   "metadata": {},
   "outputs": [],
   "source": [
    "agg_couples = couples.groupby([\"uniq_addr\"]).agg([\"count\"]).reset_index()"
   ]
  },
  {
   "cell_type": "code",
   "execution_count": 68,
   "metadata": {},
   "outputs": [
    {
     "data": {
      "text/plain": [
       "(268199, 39)"
      ]
     },
     "execution_count": 68,
     "metadata": {},
     "output_type": "execute_result"
    }
   ],
   "source": [
    "agg_couples.shape"
   ]
  },
  {
   "cell_type": "code",
   "execution_count": 63,
   "metadata": {},
   "outputs": [],
   "source": [
    "agg_couples.columns = [' '.join(col).strip() for col in agg_couples.columns.values]"
   ]
  },
  {
   "cell_type": "code",
   "execution_count": 67,
   "metadata": {},
   "outputs": [
    {
     "data": {
      "text/plain": [
       "(70130, 39)"
      ]
     },
     "execution_count": 67,
     "metadata": {},
     "output_type": "execute_result"
    }
   ],
   "source": [
    "agg_couples[agg_couples[\"county_code_L count\"] > 1].shape"
   ]
  },
  {
   "cell_type": "code",
   "execution_count": 69,
   "metadata": {},
   "outputs": [],
   "source": [
    "consider_address = agg_couples[agg_couples[\"county_code_L count\"] == 1]"
   ]
  },
  {
   "cell_type": "code",
   "execution_count": 73,
   "metadata": {},
   "outputs": [],
   "source": [
    "a = pd.merge(couples, consider_address[\"uniq_addr\"], on=[\"uniq_addr\"])"
   ]
  },
  {
   "cell_type": "code",
   "execution_count": 74,
   "metadata": {},
   "outputs": [
    {
     "data": {
      "text/plain": [
       "Index(['county_code_L', 'voter_id_L', 'last_name_L', 'first_name_L',\n",
       "       'residence_addr_line_1_L', 'residence_addr_line_2_L',\n",
       "       'residence_city_L', 'residence_zipcode_L', 'gender_L', 'race_L',\n",
       "       'birth_date_L', 'registration_date_L', 'party_affiliation_L',\n",
       "       'precinct_L', 'voter_status_L', 'age_L', 'residence_zipcode_5_L',\n",
       "       'residence_zipcode_4_L', 'uniq_addr', 'first_L', 'county_code_R',\n",
       "       'voter_id_R', 'last_name_R', 'first_name_R', 'residence_addr_line_1_R',\n",
       "       'residence_addr_line_2_R', 'residence_city_R', 'residence_zipcode_R',\n",
       "       'gender_R', 'race_R', 'birth_date_R', 'registration_date_R',\n",
       "       'party_affiliation_R', 'precinct_R', 'voter_status_R', 'age_R',\n",
       "       'residence_zipcode_5_R', 'residence_zipcode_4_R', 'first_R'],\n",
       "      dtype='object')"
      ]
     },
     "execution_count": 74,
     "metadata": {},
     "output_type": "execute_result"
    }
   ],
   "source": [
    "a.columns"
   ]
  },
  {
   "cell_type": "code",
   "execution_count": 206,
   "metadata": {},
   "outputs": [
    {
     "data": {
      "text/html": [
       "<div>\n",
       "<style scoped>\n",
       "    .dataframe tbody tr th:only-of-type {\n",
       "        vertical-align: middle;\n",
       "    }\n",
       "\n",
       "    .dataframe tbody tr th {\n",
       "        vertical-align: top;\n",
       "    }\n",
       "\n",
       "    .dataframe thead th {\n",
       "        text-align: right;\n",
       "    }\n",
       "</style>\n",
       "<table border=\"1\" class=\"dataframe\">\n",
       "  <thead>\n",
       "    <tr style=\"text-align: right;\">\n",
       "      <th></th>\n",
       "      <th>last_name_L</th>\n",
       "      <th>last_name_R</th>\n",
       "    </tr>\n",
       "  </thead>\n",
       "  <tbody>\n",
       "    <tr>\n",
       "      <td>2</td>\n",
       "      <td>pitambersingh</td>\n",
       "      <td>brummitt</td>\n",
       "    </tr>\n",
       "  </tbody>\n",
       "</table>\n",
       "</div>"
      ],
      "text/plain": [
       "     last_name_L last_name_R\n",
       "2  pitambersingh    brummitt"
      ]
     },
     "execution_count": 206,
     "metadata": {},
     "output_type": "execute_result"
    }
   ],
   "source": [
    "merge[merge[\"voter_id_R\"] == 100012467][[\"last_name_L\", \"last_name_R\"]]"
   ]
  },
  {
   "cell_type": "code",
   "execution_count": 205,
   "metadata": {},
   "outputs": [
    {
     "data": {
      "text/html": [
       "<div>\n",
       "<style scoped>\n",
       "    .dataframe tbody tr th:only-of-type {\n",
       "        vertical-align: middle;\n",
       "    }\n",
       "\n",
       "    .dataframe tbody tr th {\n",
       "        vertical-align: top;\n",
       "    }\n",
       "\n",
       "    .dataframe thead th {\n",
       "        text-align: right;\n",
       "    }\n",
       "</style>\n",
       "<table border=\"1\" class=\"dataframe\">\n",
       "  <thead>\n",
       "    <tr style=\"text-align: right;\">\n",
       "      <th></th>\n",
       "      <th>last_name_L</th>\n",
       "      <th>last_name_R</th>\n",
       "    </tr>\n",
       "  </thead>\n",
       "  <tbody>\n",
       "    <tr>\n",
       "      <td>1</td>\n",
       "      <td>brummitt</td>\n",
       "      <td>pitambersingh</td>\n",
       "    </tr>\n",
       "  </tbody>\n",
       "</table>\n",
       "</div>"
      ],
      "text/plain": [
       "  last_name_L    last_name_R\n",
       "1    brummitt  pitambersingh"
      ]
     },
     "execution_count": 205,
     "metadata": {},
     "output_type": "execute_result"
    }
   ],
   "source": [
    "merge[merge[\"voter_id_L\"] == 100012467][[\"last_name_L\", \"last_name_R\"]]"
   ]
  },
  {
   "cell_type": "code",
   "execution_count": 192,
   "metadata": {},
   "outputs": [],
   "source": [
    "global_df['new_uniq'] = global_df['uniq_addr'].astype('str') "
   ]
  },
  {
   "cell_type": "code",
   "execution_count": 193,
   "metadata": {},
   "outputs": [
    {
     "data": {
      "text/plain": [
       "county_code               object\n",
       "voter_id                   int64\n",
       "last_name                 object\n",
       "first_name                object\n",
       "residence_addr_line_1     object\n",
       "residence_addr_line_2     object\n",
       "residence_city            object\n",
       "residence_zipcode         object\n",
       "gender                    object\n",
       "race                       int64\n",
       "birth_date                object\n",
       "registration_date         object\n",
       "party_affiliation         object\n",
       "precinct                 float64\n",
       "voter_status              object\n",
       "age                        int64\n",
       "residence_zipcode_5        int64\n",
       "residence_zipcode_4       object\n",
       "uniq_addr                 object\n",
       "member_count               int64\n",
       "first                      int64\n",
       "new_uniq                  object\n",
       "dtype: object"
      ]
     },
     "execution_count": 193,
     "metadata": {},
     "output_type": "execute_result"
    }
   ],
   "source": [
    "global_df.dtypes"
   ]
  },
  {
   "cell_type": "code",
   "execution_count": null,
   "metadata": {},
   "outputs": [],
   "source": []
  },
  {
   "cell_type": "code",
   "execution_count": null,
   "metadata": {},
   "outputs": [],
   "source": []
  },
  {
   "cell_type": "code",
   "execution_count": 184,
   "metadata": {},
   "outputs": [
    {
     "data": {
      "text/html": [
       "<div>\n",
       "<style scoped>\n",
       "    .dataframe tbody tr th:only-of-type {\n",
       "        vertical-align: middle;\n",
       "    }\n",
       "\n",
       "    .dataframe tbody tr th {\n",
       "        vertical-align: top;\n",
       "    }\n",
       "\n",
       "    .dataframe thead th {\n",
       "        text-align: right;\n",
       "    }\n",
       "</style>\n",
       "<table border=\"1\" class=\"dataframe\">\n",
       "  <thead>\n",
       "    <tr style=\"text-align: right;\">\n",
       "      <th></th>\n",
       "      <th>uniq_addr</th>\n",
       "      <th>first_name_L</th>\n",
       "      <th>first_name_R</th>\n",
       "      <th>last_name_L</th>\n",
       "      <th>last_name_R</th>\n",
       "      <th>voter_id_L</th>\n",
       "      <th>voter_id_R</th>\n",
       "      <th>first_L</th>\n",
       "      <th>first_R</th>\n",
       "    </tr>\n",
       "  </thead>\n",
       "  <tbody>\n",
       "    <tr>\n",
       "      <td>1</td>\n",
       "      <td>421  nw 150th st  miami 33168</td>\n",
       "      <td>marilyn</td>\n",
       "      <td>marilyn</td>\n",
       "      <td>brummitt</td>\n",
       "      <td>pitambersingh</td>\n",
       "      <td>100012467</td>\n",
       "      <td>110228300</td>\n",
       "      <td>1</td>\n",
       "      <td>0</td>\n",
       "    </tr>\n",
       "    <tr>\n",
       "      <td>2</td>\n",
       "      <td>421  nw 150th st  miami 33168</td>\n",
       "      <td>marilyn</td>\n",
       "      <td>marilyn</td>\n",
       "      <td>pitambersingh</td>\n",
       "      <td>brummitt</td>\n",
       "      <td>110228300</td>\n",
       "      <td>100012467</td>\n",
       "      <td>1</td>\n",
       "      <td>0</td>\n",
       "    </tr>\n",
       "    <tr>\n",
       "      <td>5</td>\n",
       "      <td>11041  sw 124th st  miami 33176</td>\n",
       "      <td>erna</td>\n",
       "      <td>joseph</td>\n",
       "      <td>westervelt</td>\n",
       "      <td>schmidt</td>\n",
       "      <td>100014823</td>\n",
       "      <td>108920322</td>\n",
       "      <td>1</td>\n",
       "      <td>0</td>\n",
       "    </tr>\n",
       "    <tr>\n",
       "      <td>6</td>\n",
       "      <td>11041  sw 124th st  miami 33176</td>\n",
       "      <td>erna</td>\n",
       "      <td>aimee</td>\n",
       "      <td>westervelt</td>\n",
       "      <td>schmidt</td>\n",
       "      <td>100014823</td>\n",
       "      <td>109817781</td>\n",
       "      <td>1</td>\n",
       "      <td>0</td>\n",
       "    </tr>\n",
       "    <tr>\n",
       "      <td>7</td>\n",
       "      <td>11041  sw 124th st  miami 33176</td>\n",
       "      <td>erna</td>\n",
       "      <td>mary</td>\n",
       "      <td>westervelt</td>\n",
       "      <td>schmidt</td>\n",
       "      <td>100014823</td>\n",
       "      <td>109896942</td>\n",
       "      <td>1</td>\n",
       "      <td>0</td>\n",
       "    </tr>\n",
       "  </tbody>\n",
       "</table>\n",
       "</div>"
      ],
      "text/plain": [
       "                         uniq_addr first_name_L first_name_R    last_name_L  \\\n",
       "1    421  nw 150th st  miami 33168      marilyn      marilyn       brummitt   \n",
       "2    421  nw 150th st  miami 33168      marilyn      marilyn  pitambersingh   \n",
       "5  11041  sw 124th st  miami 33176         erna       joseph     westervelt   \n",
       "6  11041  sw 124th st  miami 33176         erna        aimee     westervelt   \n",
       "7  11041  sw 124th st  miami 33176         erna         mary     westervelt   \n",
       "\n",
       "     last_name_R  voter_id_L  voter_id_R  first_L  first_R  \n",
       "1  pitambersingh   100012467   110228300        1        0  \n",
       "2       brummitt   110228300   100012467        1        0  \n",
       "5        schmidt   100014823   108920322        1        0  \n",
       "6        schmidt   100014823   109817781        1        0  \n",
       "7        schmidt   100014823   109896942        1        0  "
      ]
     },
     "execution_count": 184,
     "metadata": {},
     "output_type": "execute_result"
    }
   ],
   "source": [
    "merge[[\"uniq_addr\", \"first_name_L\", \"first_name_R\", \"last_name_L\", \"last_name_R\", \"voter_id_L\", \"voter_id_R\", \"first_L\", \"first_R\"]].head()"
   ]
  },
  {
   "cell_type": "code",
   "execution_count": 181,
   "metadata": {},
   "outputs": [],
   "source": [
    "filtered = merge[(merge[\"first_L\"] == 1) & (merge[\"first_R\"] == 0)]"
   ]
  },
  {
   "cell_type": "code",
   "execution_count": 182,
   "metadata": {},
   "outputs": [
    {
     "data": {
      "text/plain": [
       "(16698628, 41)"
      ]
     },
     "execution_count": 182,
     "metadata": {},
     "output_type": "execute_result"
    }
   ],
   "source": [
    "merge.shape"
   ]
  },
  {
   "cell_type": "code",
   "execution_count": 183,
   "metadata": {},
   "outputs": [
    {
     "data": {
      "text/plain": [
       "(16698628, 41)"
      ]
     },
     "execution_count": 183,
     "metadata": {},
     "output_type": "execute_result"
    }
   ],
   "source": [
    "filtered.shape"
   ]
  },
  {
   "cell_type": "code",
   "execution_count": 156,
   "metadata": {},
   "outputs": [
    {
     "data": {
      "text/plain": [
       "(18066603, 41)"
      ]
     },
     "execution_count": 156,
     "metadata": {},
     "output_type": "execute_result"
    }
   ],
   "source": [
    "merge = merge[merge[\"\"]]"
   ]
  },
  {
   "cell_type": "code",
   "execution_count": null,
   "metadata": {},
   "outputs": [],
   "source": []
  },
  {
   "cell_type": "code",
   "execution_count": null,
   "metadata": {},
   "outputs": [],
   "source": []
  },
  {
   "cell_type": "code",
   "execution_count": null,
   "metadata": {},
   "outputs": [],
   "source": []
  },
  {
   "cell_type": "code",
   "execution_count": null,
   "metadata": {},
   "outputs": [],
   "source": []
  },
  {
   "cell_type": "code",
   "execution_count": 111,
   "metadata": {},
   "outputs": [],
   "source": [
    "global_df = pd.merge(global_df, global_df2, on=['uniq_addr'], how='inner')"
   ]
  },
  {
   "cell_type": "code",
   "execution_count": 145,
   "metadata": {},
   "outputs": [],
   "source": []
  },
  {
   "cell_type": "code",
   "execution_count": 146,
   "metadata": {},
   "outputs": [
    {
     "ename": "KeyboardInterrupt",
     "evalue": "",
     "output_type": "error",
     "traceback": [
      "\u001b[0;31m---------------------------------------------------------------------------\u001b[0m",
      "\u001b[0;31mKeyboardInterrupt\u001b[0m                         Traceback (most recent call last)",
      "\u001b[0;32m<ipython-input-146-05eaa25b4fb4>\u001b[0m in \u001b[0;36m<module>\u001b[0;34m\u001b[0m\n\u001b[0;32m----> 1\u001b[0;31m \u001b[0md\u001b[0m \u001b[0;34m=\u001b[0m \u001b[0mglobal_df\u001b[0m\u001b[0;34m.\u001b[0m\u001b[0mgroupby\u001b[0m\u001b[0;34m(\u001b[0m\u001b[0;34m[\u001b[0m\u001b[0;34m'uniq_addr'\u001b[0m\u001b[0;34m]\u001b[0m\u001b[0;34m)\u001b[0m\u001b[0;34m.\u001b[0m\u001b[0magg\u001b[0m\u001b[0;34m(\u001b[0m\u001b[0;34m[\u001b[0m\u001b[0magg_find_couples\u001b[0m\u001b[0;34m]\u001b[0m\u001b[0;34m)\u001b[0m\u001b[0;34m\u001b[0m\u001b[0;34m\u001b[0m\u001b[0m\n\u001b[0m",
      "\u001b[0;32m~/anaconda3/lib/python3.7/site-packages/pandas/core/groupby/generic.py\u001b[0m in \u001b[0;36maggregate\u001b[0;34m(self, arg, *args, **kwargs)\u001b[0m\n\u001b[1;32m   1453\u001b[0m     \u001b[0;34m@\u001b[0m\u001b[0mAppender\u001b[0m\u001b[0;34m(\u001b[0m\u001b[0m_shared_docs\u001b[0m\u001b[0;34m[\u001b[0m\u001b[0;34m\"aggregate\"\u001b[0m\u001b[0;34m]\u001b[0m\u001b[0;34m)\u001b[0m\u001b[0;34m\u001b[0m\u001b[0;34m\u001b[0m\u001b[0m\n\u001b[1;32m   1454\u001b[0m     \u001b[0;32mdef\u001b[0m \u001b[0maggregate\u001b[0m\u001b[0;34m(\u001b[0m\u001b[0mself\u001b[0m\u001b[0;34m,\u001b[0m \u001b[0marg\u001b[0m\u001b[0;34m=\u001b[0m\u001b[0;32mNone\u001b[0m\u001b[0;34m,\u001b[0m \u001b[0;34m*\u001b[0m\u001b[0margs\u001b[0m\u001b[0;34m,\u001b[0m \u001b[0;34m**\u001b[0m\u001b[0mkwargs\u001b[0m\u001b[0;34m)\u001b[0m\u001b[0;34m:\u001b[0m\u001b[0;34m\u001b[0m\u001b[0;34m\u001b[0m\u001b[0m\n\u001b[0;32m-> 1455\u001b[0;31m         \u001b[0;32mreturn\u001b[0m \u001b[0msuper\u001b[0m\u001b[0;34m(\u001b[0m\u001b[0;34m)\u001b[0m\u001b[0;34m.\u001b[0m\u001b[0maggregate\u001b[0m\u001b[0;34m(\u001b[0m\u001b[0marg\u001b[0m\u001b[0;34m,\u001b[0m \u001b[0;34m*\u001b[0m\u001b[0margs\u001b[0m\u001b[0;34m,\u001b[0m \u001b[0;34m**\u001b[0m\u001b[0mkwargs\u001b[0m\u001b[0;34m)\u001b[0m\u001b[0;34m\u001b[0m\u001b[0;34m\u001b[0m\u001b[0m\n\u001b[0m\u001b[1;32m   1456\u001b[0m \u001b[0;34m\u001b[0m\u001b[0m\n\u001b[1;32m   1457\u001b[0m     \u001b[0magg\u001b[0m \u001b[0;34m=\u001b[0m \u001b[0maggregate\u001b[0m\u001b[0;34m\u001b[0m\u001b[0;34m\u001b[0m\u001b[0m\n",
      "\u001b[0;32m~/anaconda3/lib/python3.7/site-packages/pandas/core/groupby/generic.py\u001b[0m in \u001b[0;36maggregate\u001b[0;34m(self, func, *args, **kwargs)\u001b[0m\n\u001b[1;32m    227\u001b[0m         \u001b[0mfunc\u001b[0m \u001b[0;34m=\u001b[0m \u001b[0m_maybe_mangle_lambdas\u001b[0m\u001b[0;34m(\u001b[0m\u001b[0mfunc\u001b[0m\u001b[0;34m)\u001b[0m\u001b[0;34m\u001b[0m\u001b[0;34m\u001b[0m\u001b[0m\n\u001b[1;32m    228\u001b[0m \u001b[0;34m\u001b[0m\u001b[0m\n\u001b[0;32m--> 229\u001b[0;31m         \u001b[0mresult\u001b[0m\u001b[0;34m,\u001b[0m \u001b[0mhow\u001b[0m \u001b[0;34m=\u001b[0m \u001b[0mself\u001b[0m\u001b[0;34m.\u001b[0m\u001b[0m_aggregate\u001b[0m\u001b[0;34m(\u001b[0m\u001b[0mfunc\u001b[0m\u001b[0;34m,\u001b[0m \u001b[0m_level\u001b[0m\u001b[0;34m=\u001b[0m\u001b[0m_level\u001b[0m\u001b[0;34m,\u001b[0m \u001b[0;34m*\u001b[0m\u001b[0margs\u001b[0m\u001b[0;34m,\u001b[0m \u001b[0;34m**\u001b[0m\u001b[0mkwargs\u001b[0m\u001b[0;34m)\u001b[0m\u001b[0;34m\u001b[0m\u001b[0;34m\u001b[0m\u001b[0m\n\u001b[0m\u001b[1;32m    230\u001b[0m         \u001b[0;32mif\u001b[0m \u001b[0mhow\u001b[0m \u001b[0;32mis\u001b[0m \u001b[0;32mNone\u001b[0m\u001b[0;34m:\u001b[0m\u001b[0;34m\u001b[0m\u001b[0;34m\u001b[0m\u001b[0m\n\u001b[1;32m    231\u001b[0m             \u001b[0;32mreturn\u001b[0m \u001b[0mresult\u001b[0m\u001b[0;34m\u001b[0m\u001b[0;34m\u001b[0m\u001b[0m\n",
      "\u001b[0;32m~/anaconda3/lib/python3.7/site-packages/pandas/core/base.py\u001b[0m in \u001b[0;36m_aggregate\u001b[0;34m(self, arg, *args, **kwargs)\u001b[0m\n\u001b[1;32m    562\u001b[0m         \u001b[0;32melif\u001b[0m \u001b[0mis_list_like\u001b[0m\u001b[0;34m(\u001b[0m\u001b[0marg\u001b[0m\u001b[0;34m)\u001b[0m\u001b[0;34m:\u001b[0m\u001b[0;34m\u001b[0m\u001b[0;34m\u001b[0m\u001b[0m\n\u001b[1;32m    563\u001b[0m             \u001b[0;31m# we require a list, but not an 'str'\u001b[0m\u001b[0;34m\u001b[0m\u001b[0;34m\u001b[0m\u001b[0;34m\u001b[0m\u001b[0m\n\u001b[0;32m--> 564\u001b[0;31m             \u001b[0;32mreturn\u001b[0m \u001b[0mself\u001b[0m\u001b[0;34m.\u001b[0m\u001b[0m_aggregate_multiple_funcs\u001b[0m\u001b[0;34m(\u001b[0m\u001b[0marg\u001b[0m\u001b[0;34m,\u001b[0m \u001b[0m_level\u001b[0m\u001b[0;34m=\u001b[0m\u001b[0m_level\u001b[0m\u001b[0;34m,\u001b[0m \u001b[0m_axis\u001b[0m\u001b[0;34m=\u001b[0m\u001b[0m_axis\u001b[0m\u001b[0;34m)\u001b[0m\u001b[0;34m,\u001b[0m \u001b[0;32mNone\u001b[0m\u001b[0;34m\u001b[0m\u001b[0;34m\u001b[0m\u001b[0m\n\u001b[0m\u001b[1;32m    565\u001b[0m         \u001b[0;32melse\u001b[0m\u001b[0;34m:\u001b[0m\u001b[0;34m\u001b[0m\u001b[0;34m\u001b[0m\u001b[0m\n\u001b[1;32m    566\u001b[0m             \u001b[0mresult\u001b[0m \u001b[0;34m=\u001b[0m \u001b[0;32mNone\u001b[0m\u001b[0;34m\u001b[0m\u001b[0;34m\u001b[0m\u001b[0m\n",
      "\u001b[0;32m~/anaconda3/lib/python3.7/site-packages/pandas/core/base.py\u001b[0m in \u001b[0;36m_aggregate_multiple_funcs\u001b[0;34m(self, arg, _level, _axis)\u001b[0m\n\u001b[1;32m    607\u001b[0m                 \u001b[0;32mtry\u001b[0m\u001b[0;34m:\u001b[0m\u001b[0;34m\u001b[0m\u001b[0;34m\u001b[0m\u001b[0m\n\u001b[1;32m    608\u001b[0m                     \u001b[0mcolg\u001b[0m \u001b[0;34m=\u001b[0m \u001b[0mself\u001b[0m\u001b[0;34m.\u001b[0m\u001b[0m_gotitem\u001b[0m\u001b[0;34m(\u001b[0m\u001b[0mcol\u001b[0m\u001b[0;34m,\u001b[0m \u001b[0mndim\u001b[0m\u001b[0;34m=\u001b[0m\u001b[0;36m1\u001b[0m\u001b[0;34m,\u001b[0m \u001b[0msubset\u001b[0m\u001b[0;34m=\u001b[0m\u001b[0mobj\u001b[0m\u001b[0;34m.\u001b[0m\u001b[0miloc\u001b[0m\u001b[0;34m[\u001b[0m\u001b[0;34m:\u001b[0m\u001b[0;34m,\u001b[0m \u001b[0mindex\u001b[0m\u001b[0;34m]\u001b[0m\u001b[0;34m)\u001b[0m\u001b[0;34m\u001b[0m\u001b[0;34m\u001b[0m\u001b[0m\n\u001b[0;32m--> 609\u001b[0;31m                     \u001b[0mresults\u001b[0m\u001b[0;34m.\u001b[0m\u001b[0mappend\u001b[0m\u001b[0;34m(\u001b[0m\u001b[0mcolg\u001b[0m\u001b[0;34m.\u001b[0m\u001b[0maggregate\u001b[0m\u001b[0;34m(\u001b[0m\u001b[0marg\u001b[0m\u001b[0;34m)\u001b[0m\u001b[0;34m)\u001b[0m\u001b[0;34m\u001b[0m\u001b[0;34m\u001b[0m\u001b[0m\n\u001b[0m\u001b[1;32m    610\u001b[0m                     \u001b[0mkeys\u001b[0m\u001b[0;34m.\u001b[0m\u001b[0mappend\u001b[0m\u001b[0;34m(\u001b[0m\u001b[0mcol\u001b[0m\u001b[0;34m)\u001b[0m\u001b[0;34m\u001b[0m\u001b[0;34m\u001b[0m\u001b[0m\n\u001b[1;32m    611\u001b[0m                 \u001b[0;32mexcept\u001b[0m \u001b[0;34m(\u001b[0m\u001b[0mTypeError\u001b[0m\u001b[0;34m,\u001b[0m \u001b[0mDataError\u001b[0m\u001b[0;34m)\u001b[0m\u001b[0;34m:\u001b[0m\u001b[0;34m\u001b[0m\u001b[0;34m\u001b[0m\u001b[0m\n",
      "\u001b[0;32m~/anaconda3/lib/python3.7/site-packages/pandas/core/groupby/generic.py\u001b[0m in \u001b[0;36maggregate\u001b[0;34m(self, func_or_funcs, *args, **kwargs)\u001b[0m\n\u001b[1;32m    849\u001b[0m             \u001b[0;31m# but not the class list / tuple itself.\u001b[0m\u001b[0;34m\u001b[0m\u001b[0;34m\u001b[0m\u001b[0;34m\u001b[0m\u001b[0m\n\u001b[1;32m    850\u001b[0m             \u001b[0mfunc_or_funcs\u001b[0m \u001b[0;34m=\u001b[0m \u001b[0m_maybe_mangle_lambdas\u001b[0m\u001b[0;34m(\u001b[0m\u001b[0mfunc_or_funcs\u001b[0m\u001b[0;34m)\u001b[0m\u001b[0;34m\u001b[0m\u001b[0;34m\u001b[0m\u001b[0m\n\u001b[0;32m--> 851\u001b[0;31m             \u001b[0mret\u001b[0m \u001b[0;34m=\u001b[0m \u001b[0mself\u001b[0m\u001b[0;34m.\u001b[0m\u001b[0m_aggregate_multiple_funcs\u001b[0m\u001b[0;34m(\u001b[0m\u001b[0mfunc_or_funcs\u001b[0m\u001b[0;34m,\u001b[0m \u001b[0;34m(\u001b[0m\u001b[0m_level\u001b[0m \u001b[0;32mor\u001b[0m \u001b[0;36m0\u001b[0m\u001b[0;34m)\u001b[0m \u001b[0;34m+\u001b[0m \u001b[0;36m1\u001b[0m\u001b[0;34m)\u001b[0m\u001b[0;34m\u001b[0m\u001b[0;34m\u001b[0m\u001b[0m\n\u001b[0m\u001b[1;32m    852\u001b[0m             \u001b[0;32mif\u001b[0m \u001b[0mrelabeling\u001b[0m\u001b[0;34m:\u001b[0m\u001b[0;34m\u001b[0m\u001b[0;34m\u001b[0m\u001b[0m\n\u001b[1;32m    853\u001b[0m                 \u001b[0mret\u001b[0m\u001b[0;34m.\u001b[0m\u001b[0mcolumns\u001b[0m \u001b[0;34m=\u001b[0m \u001b[0mcolumns\u001b[0m\u001b[0;34m\u001b[0m\u001b[0;34m\u001b[0m\u001b[0m\n",
      "\u001b[0;32m~/anaconda3/lib/python3.7/site-packages/pandas/core/groupby/generic.py\u001b[0m in \u001b[0;36m_aggregate_multiple_funcs\u001b[0;34m(self, arg, _level)\u001b[0m\n\u001b[1;32m    928\u001b[0m                 \u001b[0mobj\u001b[0m\u001b[0;34m.\u001b[0m\u001b[0m_reset_cache\u001b[0m\u001b[0;34m(\u001b[0m\u001b[0;34m)\u001b[0m\u001b[0;34m\u001b[0m\u001b[0;34m\u001b[0m\u001b[0m\n\u001b[1;32m    929\u001b[0m                 \u001b[0mobj\u001b[0m\u001b[0;34m.\u001b[0m\u001b[0m_selection\u001b[0m \u001b[0;34m=\u001b[0m \u001b[0mname\u001b[0m\u001b[0;34m\u001b[0m\u001b[0;34m\u001b[0m\u001b[0m\n\u001b[0;32m--> 930\u001b[0;31m             \u001b[0mresults\u001b[0m\u001b[0;34m[\u001b[0m\u001b[0mname\u001b[0m\u001b[0;34m]\u001b[0m \u001b[0;34m=\u001b[0m \u001b[0mobj\u001b[0m\u001b[0;34m.\u001b[0m\u001b[0maggregate\u001b[0m\u001b[0;34m(\u001b[0m\u001b[0mfunc\u001b[0m\u001b[0;34m)\u001b[0m\u001b[0;34m\u001b[0m\u001b[0;34m\u001b[0m\u001b[0m\n\u001b[0m\u001b[1;32m    931\u001b[0m \u001b[0;34m\u001b[0m\u001b[0m\n\u001b[1;32m    932\u001b[0m         \u001b[0;32mif\u001b[0m \u001b[0many\u001b[0m\u001b[0;34m(\u001b[0m\u001b[0misinstance\u001b[0m\u001b[0;34m(\u001b[0m\u001b[0mx\u001b[0m\u001b[0;34m,\u001b[0m \u001b[0mDataFrame\u001b[0m\u001b[0;34m)\u001b[0m \u001b[0;32mfor\u001b[0m \u001b[0mx\u001b[0m \u001b[0;32min\u001b[0m \u001b[0mresults\u001b[0m\u001b[0;34m.\u001b[0m\u001b[0mvalues\u001b[0m\u001b[0;34m(\u001b[0m\u001b[0;34m)\u001b[0m\u001b[0;34m)\u001b[0m\u001b[0;34m:\u001b[0m\u001b[0;34m\u001b[0m\u001b[0;34m\u001b[0m\u001b[0m\n",
      "\u001b[0;32m~/anaconda3/lib/python3.7/site-packages/pandas/core/groupby/generic.py\u001b[0m in \u001b[0;36maggregate\u001b[0;34m(self, func_or_funcs, *args, **kwargs)\u001b[0m\n\u001b[1;32m    861\u001b[0m \u001b[0;34m\u001b[0m\u001b[0m\n\u001b[1;32m    862\u001b[0m             \u001b[0;32mtry\u001b[0m\u001b[0;34m:\u001b[0m\u001b[0;34m\u001b[0m\u001b[0;34m\u001b[0m\u001b[0m\n\u001b[0;32m--> 863\u001b[0;31m                 \u001b[0;32mreturn\u001b[0m \u001b[0mself\u001b[0m\u001b[0;34m.\u001b[0m\u001b[0m_python_agg_general\u001b[0m\u001b[0;34m(\u001b[0m\u001b[0mfunc_or_funcs\u001b[0m\u001b[0;34m,\u001b[0m \u001b[0;34m*\u001b[0m\u001b[0margs\u001b[0m\u001b[0;34m,\u001b[0m \u001b[0;34m**\u001b[0m\u001b[0mkwargs\u001b[0m\u001b[0;34m)\u001b[0m\u001b[0;34m\u001b[0m\u001b[0;34m\u001b[0m\u001b[0m\n\u001b[0m\u001b[1;32m    864\u001b[0m             \u001b[0;32mexcept\u001b[0m \u001b[0mException\u001b[0m\u001b[0;34m:\u001b[0m\u001b[0;34m\u001b[0m\u001b[0;34m\u001b[0m\u001b[0m\n\u001b[1;32m    865\u001b[0m                 \u001b[0mresult\u001b[0m \u001b[0;34m=\u001b[0m \u001b[0mself\u001b[0m\u001b[0;34m.\u001b[0m\u001b[0m_aggregate_named\u001b[0m\u001b[0;34m(\u001b[0m\u001b[0mfunc_or_funcs\u001b[0m\u001b[0;34m,\u001b[0m \u001b[0;34m*\u001b[0m\u001b[0margs\u001b[0m\u001b[0;34m,\u001b[0m \u001b[0;34m**\u001b[0m\u001b[0mkwargs\u001b[0m\u001b[0;34m)\u001b[0m\u001b[0;34m\u001b[0m\u001b[0;34m\u001b[0m\u001b[0m\n",
      "\u001b[0;32m~/anaconda3/lib/python3.7/site-packages/pandas/core/groupby/groupby.py\u001b[0m in \u001b[0;36m_python_agg_general\u001b[0;34m(self, func, *args, **kwargs)\u001b[0m\n\u001b[1;32m    898\u001b[0m         \u001b[0;32mfor\u001b[0m \u001b[0mname\u001b[0m\u001b[0;34m,\u001b[0m \u001b[0mobj\u001b[0m \u001b[0;32min\u001b[0m \u001b[0mself\u001b[0m\u001b[0;34m.\u001b[0m\u001b[0m_iterate_slices\u001b[0m\u001b[0;34m(\u001b[0m\u001b[0;34m)\u001b[0m\u001b[0;34m:\u001b[0m\u001b[0;34m\u001b[0m\u001b[0;34m\u001b[0m\u001b[0m\n\u001b[1;32m    899\u001b[0m             \u001b[0;32mtry\u001b[0m\u001b[0;34m:\u001b[0m\u001b[0;34m\u001b[0m\u001b[0;34m\u001b[0m\u001b[0m\n\u001b[0;32m--> 900\u001b[0;31m                 \u001b[0mresult\u001b[0m\u001b[0;34m,\u001b[0m \u001b[0mcounts\u001b[0m \u001b[0;34m=\u001b[0m \u001b[0mself\u001b[0m\u001b[0;34m.\u001b[0m\u001b[0mgrouper\u001b[0m\u001b[0;34m.\u001b[0m\u001b[0magg_series\u001b[0m\u001b[0;34m(\u001b[0m\u001b[0mobj\u001b[0m\u001b[0;34m,\u001b[0m \u001b[0mf\u001b[0m\u001b[0;34m)\u001b[0m\u001b[0;34m\u001b[0m\u001b[0;34m\u001b[0m\u001b[0m\n\u001b[0m\u001b[1;32m    901\u001b[0m                 \u001b[0moutput\u001b[0m\u001b[0;34m[\u001b[0m\u001b[0mname\u001b[0m\u001b[0;34m]\u001b[0m \u001b[0;34m=\u001b[0m \u001b[0mself\u001b[0m\u001b[0;34m.\u001b[0m\u001b[0m_try_cast\u001b[0m\u001b[0;34m(\u001b[0m\u001b[0mresult\u001b[0m\u001b[0;34m,\u001b[0m \u001b[0mobj\u001b[0m\u001b[0;34m,\u001b[0m \u001b[0mnumeric_only\u001b[0m\u001b[0;34m=\u001b[0m\u001b[0;32mTrue\u001b[0m\u001b[0;34m)\u001b[0m\u001b[0;34m\u001b[0m\u001b[0;34m\u001b[0m\u001b[0m\n\u001b[1;32m    902\u001b[0m             \u001b[0;32mexcept\u001b[0m \u001b[0mTypeError\u001b[0m\u001b[0;34m:\u001b[0m\u001b[0;34m\u001b[0m\u001b[0;34m\u001b[0m\u001b[0m\n",
      "\u001b[0;32m~/anaconda3/lib/python3.7/site-packages/pandas/core/groupby/ops.py\u001b[0m in \u001b[0;36magg_series\u001b[0;34m(self, obj, func)\u001b[0m\n\u001b[1;32m    661\u001b[0m     \u001b[0;32mdef\u001b[0m \u001b[0magg_series\u001b[0m\u001b[0;34m(\u001b[0m\u001b[0mself\u001b[0m\u001b[0;34m,\u001b[0m \u001b[0mobj\u001b[0m\u001b[0;34m,\u001b[0m \u001b[0mfunc\u001b[0m\u001b[0;34m)\u001b[0m\u001b[0;34m:\u001b[0m\u001b[0;34m\u001b[0m\u001b[0;34m\u001b[0m\u001b[0m\n\u001b[1;32m    662\u001b[0m         \u001b[0;32mtry\u001b[0m\u001b[0;34m:\u001b[0m\u001b[0;34m\u001b[0m\u001b[0;34m\u001b[0m\u001b[0m\n\u001b[0;32m--> 663\u001b[0;31m             \u001b[0;32mreturn\u001b[0m \u001b[0mself\u001b[0m\u001b[0;34m.\u001b[0m\u001b[0m_aggregate_series_fast\u001b[0m\u001b[0;34m(\u001b[0m\u001b[0mobj\u001b[0m\u001b[0;34m,\u001b[0m \u001b[0mfunc\u001b[0m\u001b[0;34m)\u001b[0m\u001b[0;34m\u001b[0m\u001b[0;34m\u001b[0m\u001b[0m\n\u001b[0m\u001b[1;32m    664\u001b[0m         \u001b[0;32mexcept\u001b[0m \u001b[0mException\u001b[0m\u001b[0;34m:\u001b[0m\u001b[0;34m\u001b[0m\u001b[0;34m\u001b[0m\u001b[0m\n\u001b[1;32m    665\u001b[0m             \u001b[0;32mreturn\u001b[0m \u001b[0mself\u001b[0m\u001b[0;34m.\u001b[0m\u001b[0m_aggregate_series_pure_python\u001b[0m\u001b[0;34m(\u001b[0m\u001b[0mobj\u001b[0m\u001b[0;34m,\u001b[0m \u001b[0mfunc\u001b[0m\u001b[0;34m)\u001b[0m\u001b[0;34m\u001b[0m\u001b[0;34m\u001b[0m\u001b[0m\n",
      "\u001b[0;32m~/anaconda3/lib/python3.7/site-packages/pandas/core/groupby/ops.py\u001b[0m in \u001b[0;36m_aggregate_series_fast\u001b[0;34m(self, obj, func)\u001b[0m\n\u001b[1;32m    679\u001b[0m         \u001b[0mgroup_index\u001b[0m \u001b[0;34m=\u001b[0m \u001b[0malgorithms\u001b[0m\u001b[0;34m.\u001b[0m\u001b[0mtake_nd\u001b[0m\u001b[0;34m(\u001b[0m\u001b[0mgroup_index\u001b[0m\u001b[0;34m,\u001b[0m \u001b[0mindexer\u001b[0m\u001b[0;34m,\u001b[0m \u001b[0mallow_fill\u001b[0m\u001b[0;34m=\u001b[0m\u001b[0;32mFalse\u001b[0m\u001b[0;34m)\u001b[0m\u001b[0;34m\u001b[0m\u001b[0;34m\u001b[0m\u001b[0m\n\u001b[1;32m    680\u001b[0m         \u001b[0mgrouper\u001b[0m \u001b[0;34m=\u001b[0m \u001b[0mreduction\u001b[0m\u001b[0;34m.\u001b[0m\u001b[0mSeriesGrouper\u001b[0m\u001b[0;34m(\u001b[0m\u001b[0mobj\u001b[0m\u001b[0;34m,\u001b[0m \u001b[0mfunc\u001b[0m\u001b[0;34m,\u001b[0m \u001b[0mgroup_index\u001b[0m\u001b[0;34m,\u001b[0m \u001b[0mngroups\u001b[0m\u001b[0;34m,\u001b[0m \u001b[0mdummy\u001b[0m\u001b[0;34m)\u001b[0m\u001b[0;34m\u001b[0m\u001b[0;34m\u001b[0m\u001b[0m\n\u001b[0;32m--> 681\u001b[0;31m         \u001b[0mresult\u001b[0m\u001b[0;34m,\u001b[0m \u001b[0mcounts\u001b[0m \u001b[0;34m=\u001b[0m \u001b[0mgrouper\u001b[0m\u001b[0;34m.\u001b[0m\u001b[0mget_result\u001b[0m\u001b[0;34m(\u001b[0m\u001b[0;34m)\u001b[0m\u001b[0;34m\u001b[0m\u001b[0;34m\u001b[0m\u001b[0m\n\u001b[0m\u001b[1;32m    682\u001b[0m         \u001b[0;32mreturn\u001b[0m \u001b[0mresult\u001b[0m\u001b[0;34m,\u001b[0m \u001b[0mcounts\u001b[0m\u001b[0;34m\u001b[0m\u001b[0;34m\u001b[0m\u001b[0m\n\u001b[1;32m    683\u001b[0m \u001b[0;34m\u001b[0m\u001b[0m\n",
      "\u001b[0;32mpandas/_libs/reduction.pyx\u001b[0m in \u001b[0;36mpandas._libs.reduction.SeriesGrouper.get_result\u001b[0;34m()\u001b[0m\n",
      "\u001b[0;32mpandas/_libs/reduction.pyx\u001b[0m in \u001b[0;36mpandas._libs.reduction.SeriesGrouper.get_result\u001b[0;34m()\u001b[0m\n",
      "\u001b[0;32m~/anaconda3/lib/python3.7/site-packages/pandas/core/groupby/groupby.py\u001b[0m in \u001b[0;36m<lambda>\u001b[0;34m(x)\u001b[0m\n\u001b[1;32m    892\u001b[0m     \u001b[0;32mdef\u001b[0m \u001b[0m_python_agg_general\u001b[0m\u001b[0;34m(\u001b[0m\u001b[0mself\u001b[0m\u001b[0;34m,\u001b[0m \u001b[0mfunc\u001b[0m\u001b[0;34m,\u001b[0m \u001b[0;34m*\u001b[0m\u001b[0margs\u001b[0m\u001b[0;34m,\u001b[0m \u001b[0;34m**\u001b[0m\u001b[0mkwargs\u001b[0m\u001b[0;34m)\u001b[0m\u001b[0;34m:\u001b[0m\u001b[0;34m\u001b[0m\u001b[0;34m\u001b[0m\u001b[0m\n\u001b[1;32m    893\u001b[0m         \u001b[0mfunc\u001b[0m \u001b[0;34m=\u001b[0m \u001b[0mself\u001b[0m\u001b[0;34m.\u001b[0m\u001b[0m_is_builtin_func\u001b[0m\u001b[0;34m(\u001b[0m\u001b[0mfunc\u001b[0m\u001b[0;34m)\u001b[0m\u001b[0;34m\u001b[0m\u001b[0;34m\u001b[0m\u001b[0m\n\u001b[0;32m--> 894\u001b[0;31m         \u001b[0mf\u001b[0m \u001b[0;34m=\u001b[0m \u001b[0;32mlambda\u001b[0m \u001b[0mx\u001b[0m\u001b[0;34m:\u001b[0m \u001b[0mfunc\u001b[0m\u001b[0;34m(\u001b[0m\u001b[0mx\u001b[0m\u001b[0;34m,\u001b[0m \u001b[0;34m*\u001b[0m\u001b[0margs\u001b[0m\u001b[0;34m,\u001b[0m \u001b[0;34m**\u001b[0m\u001b[0mkwargs\u001b[0m\u001b[0;34m)\u001b[0m\u001b[0;34m\u001b[0m\u001b[0;34m\u001b[0m\u001b[0m\n\u001b[0m\u001b[1;32m    895\u001b[0m \u001b[0;34m\u001b[0m\u001b[0m\n\u001b[1;32m    896\u001b[0m         \u001b[0;31m# iterate through \"columns\" ex exclusions to populate output dict\u001b[0m\u001b[0;34m\u001b[0m\u001b[0;34m\u001b[0m\u001b[0;34m\u001b[0m\u001b[0m\n",
      "\u001b[0;32m<ipython-input-145-3a8e1ab9517d>\u001b[0m in \u001b[0;36magg_find_couples\u001b[0;34m(series)\u001b[0m\n\u001b[1;32m      1\u001b[0m \u001b[0;32mdef\u001b[0m \u001b[0magg_find_couples\u001b[0m\u001b[0;34m(\u001b[0m\u001b[0mseries\u001b[0m\u001b[0;34m)\u001b[0m\u001b[0;34m:\u001b[0m\u001b[0;34m\u001b[0m\u001b[0;34m\u001b[0m\u001b[0m\n\u001b[0;32m----> 2\u001b[0;31m         \u001b[0mcouples_list\u001b[0m \u001b[0;34m=\u001b[0m \u001b[0mseries\u001b[0m\u001b[0;34m.\u001b[0m\u001b[0mtolist\u001b[0m\u001b[0;34m(\u001b[0m\u001b[0;34m)\u001b[0m\u001b[0;34m\u001b[0m\u001b[0;34m\u001b[0m\u001b[0m\n\u001b[0m\u001b[1;32m      3\u001b[0m         \u001b[0;32mif\u001b[0m \u001b[0mlen\u001b[0m\u001b[0;34m(\u001b[0m\u001b[0mcouples_list\u001b[0m\u001b[0;34m)\u001b[0m \u001b[0;34m==\u001b[0m \u001b[0;36m2\u001b[0m\u001b[0;34m:\u001b[0m\u001b[0;34m\u001b[0m\u001b[0;34m\u001b[0m\u001b[0m\n\u001b[1;32m      4\u001b[0m             \u001b[0;32mreturn\u001b[0m \u001b[0mset\u001b[0m\u001b[0;34m(\u001b[0m\u001b[0mcouples_list\u001b[0m\u001b[0;34m)\u001b[0m\u001b[0;34m\u001b[0m\u001b[0;34m\u001b[0m\u001b[0m\n\u001b[1;32m      5\u001b[0m         \u001b[0;32mreturn\u001b[0m \u001b[0;32mNone\u001b[0m\u001b[0;34m\u001b[0m\u001b[0;34m\u001b[0m\u001b[0m\n",
      "\u001b[0;32m~/anaconda3/lib/python3.7/site-packages/pandas/core/base.py\u001b[0m in \u001b[0;36mtolist\u001b[0;34m(self)\u001b[0m\n\u001b[1;32m   1174\u001b[0m         \u001b[0mnumpy\u001b[0m\u001b[0;34m.\u001b[0m\u001b[0mndarray\u001b[0m\u001b[0;34m.\u001b[0m\u001b[0mtolist\u001b[0m\u001b[0;34m\u001b[0m\u001b[0;34m\u001b[0m\u001b[0m\n\u001b[1;32m   1175\u001b[0m         \"\"\"\n\u001b[0;32m-> 1176\u001b[0;31m         \u001b[0;32mif\u001b[0m \u001b[0mis_datetimelike\u001b[0m\u001b[0;34m(\u001b[0m\u001b[0mself\u001b[0m\u001b[0;34m.\u001b[0m\u001b[0m_values\u001b[0m\u001b[0;34m)\u001b[0m\u001b[0;34m:\u001b[0m\u001b[0;34m\u001b[0m\u001b[0;34m\u001b[0m\u001b[0m\n\u001b[0m\u001b[1;32m   1177\u001b[0m             \u001b[0;32mreturn\u001b[0m \u001b[0;34m[\u001b[0m\u001b[0mcom\u001b[0m\u001b[0;34m.\u001b[0m\u001b[0mmaybe_box_datetimelike\u001b[0m\u001b[0;34m(\u001b[0m\u001b[0mx\u001b[0m\u001b[0;34m)\u001b[0m \u001b[0;32mfor\u001b[0m \u001b[0mx\u001b[0m \u001b[0;32min\u001b[0m \u001b[0mself\u001b[0m\u001b[0;34m.\u001b[0m\u001b[0m_values\u001b[0m\u001b[0;34m]\u001b[0m\u001b[0;34m\u001b[0m\u001b[0;34m\u001b[0m\u001b[0m\n\u001b[1;32m   1178\u001b[0m         \u001b[0;32melif\u001b[0m \u001b[0mis_extension_array_dtype\u001b[0m\u001b[0;34m(\u001b[0m\u001b[0mself\u001b[0m\u001b[0;34m.\u001b[0m\u001b[0m_values\u001b[0m\u001b[0;34m)\u001b[0m\u001b[0;34m:\u001b[0m\u001b[0;34m\u001b[0m\u001b[0;34m\u001b[0m\u001b[0m\n",
      "\u001b[0;32m~/anaconda3/lib/python3.7/site-packages/pandas/core/dtypes/common.py\u001b[0m in \u001b[0;36mis_datetimelike\u001b[0;34m(arr)\u001b[0m\n\u001b[1;32m    853\u001b[0m \u001b[0;34m\u001b[0m\u001b[0m\n\u001b[1;32m    854\u001b[0m     return (\n\u001b[0;32m--> 855\u001b[0;31m         \u001b[0mis_datetime64_dtype\u001b[0m\u001b[0;34m(\u001b[0m\u001b[0marr\u001b[0m\u001b[0;34m)\u001b[0m\u001b[0;34m\u001b[0m\u001b[0;34m\u001b[0m\u001b[0m\n\u001b[0m\u001b[1;32m    856\u001b[0m         \u001b[0;32mor\u001b[0m \u001b[0mis_datetime64tz_dtype\u001b[0m\u001b[0;34m(\u001b[0m\u001b[0marr\u001b[0m\u001b[0;34m)\u001b[0m\u001b[0;34m\u001b[0m\u001b[0;34m\u001b[0m\u001b[0m\n\u001b[1;32m    857\u001b[0m         \u001b[0;32mor\u001b[0m \u001b[0mis_timedelta64_dtype\u001b[0m\u001b[0;34m(\u001b[0m\u001b[0marr\u001b[0m\u001b[0;34m)\u001b[0m\u001b[0;34m\u001b[0m\u001b[0;34m\u001b[0m\u001b[0m\n",
      "\u001b[0;32m~/anaconda3/lib/python3.7/site-packages/pandas/core/dtypes/common.py\u001b[0m in \u001b[0;36mis_datetime64_dtype\u001b[0;34m(arr_or_dtype)\u001b[0m\n\u001b[1;32m    534\u001b[0m     \"\"\"\n\u001b[1;32m    535\u001b[0m \u001b[0;34m\u001b[0m\u001b[0m\n\u001b[0;32m--> 536\u001b[0;31m     \u001b[0;32mreturn\u001b[0m \u001b[0m_is_dtype_type\u001b[0m\u001b[0;34m(\u001b[0m\u001b[0marr_or_dtype\u001b[0m\u001b[0;34m,\u001b[0m \u001b[0mclasses\u001b[0m\u001b[0;34m(\u001b[0m\u001b[0mnp\u001b[0m\u001b[0;34m.\u001b[0m\u001b[0mdatetime64\u001b[0m\u001b[0;34m)\u001b[0m\u001b[0;34m)\u001b[0m\u001b[0;34m\u001b[0m\u001b[0;34m\u001b[0m\u001b[0m\n\u001b[0m\u001b[1;32m    537\u001b[0m \u001b[0;34m\u001b[0m\u001b[0m\n\u001b[1;32m    538\u001b[0m \u001b[0;34m\u001b[0m\u001b[0m\n",
      "\u001b[0;32m~/anaconda3/lib/python3.7/site-packages/pandas/core/dtypes/common.py\u001b[0m in \u001b[0;36mclasses\u001b[0;34m(*klasses)\u001b[0m\n\u001b[1;32m    209\u001b[0m \u001b[0;32mdef\u001b[0m \u001b[0mclasses\u001b[0m\u001b[0;34m(\u001b[0m\u001b[0;34m*\u001b[0m\u001b[0mklasses\u001b[0m\u001b[0;34m)\u001b[0m\u001b[0;34m:\u001b[0m\u001b[0;34m\u001b[0m\u001b[0;34m\u001b[0m\u001b[0m\n\u001b[1;32m    210\u001b[0m     \u001b[0;34m\"\"\" evaluate if the tipo is a subclass of the klasses \"\"\"\u001b[0m\u001b[0;34m\u001b[0m\u001b[0;34m\u001b[0m\u001b[0m\n\u001b[0;32m--> 211\u001b[0;31m     \u001b[0;32mreturn\u001b[0m \u001b[0;32mlambda\u001b[0m \u001b[0mtipo\u001b[0m\u001b[0;34m:\u001b[0m \u001b[0missubclass\u001b[0m\u001b[0;34m(\u001b[0m\u001b[0mtipo\u001b[0m\u001b[0;34m,\u001b[0m \u001b[0mklasses\u001b[0m\u001b[0;34m)\u001b[0m\u001b[0;34m\u001b[0m\u001b[0;34m\u001b[0m\u001b[0m\n\u001b[0m\u001b[1;32m    212\u001b[0m \u001b[0;34m\u001b[0m\u001b[0m\n\u001b[1;32m    213\u001b[0m \u001b[0;34m\u001b[0m\u001b[0m\n",
      "\u001b[0;31mKeyboardInterrupt\u001b[0m: "
     ]
    }
   ],
   "source": []
  },
  {
   "cell_type": "code",
   "execution_count": 112,
   "metadata": {},
   "outputs": [],
   "source": [
    "global_df = pd.merge(global_df, aggregated_df, on=['uniq_addr', 'last_name'], how='inner')"
   ]
  },
  {
   "cell_type": "code",
   "execution_count": null,
   "metadata": {},
   "outputs": [],
   "source": []
  },
  {
   "cell_type": "code",
   "execution_count": 136,
   "metadata": {},
   "outputs": [
    {
     "data": {
      "text/html": [
       "<div>\n",
       "<style scoped>\n",
       "    .dataframe tbody tr th:only-of-type {\n",
       "        vertical-align: middle;\n",
       "    }\n",
       "\n",
       "    .dataframe tbody tr th {\n",
       "        vertical-align: top;\n",
       "    }\n",
       "\n",
       "    .dataframe thead th {\n",
       "        text-align: right;\n",
       "    }\n",
       "</style>\n",
       "<table border=\"1\" class=\"dataframe\">\n",
       "  <thead>\n",
       "    <tr style=\"text-align: right;\">\n",
       "      <th></th>\n",
       "      <th>uniq_addr</th>\n",
       "      <th>last_name</th>\n",
       "      <th>county_code count</th>\n",
       "      <th>voter_id count</th>\n",
       "      <th>first_name count</th>\n",
       "      <th>residence_addr_line_1 count</th>\n",
       "      <th>residence_addr_line_2 count</th>\n",
       "      <th>residence_city count</th>\n",
       "      <th>residence_zipcode count</th>\n",
       "      <th>gender count</th>\n",
       "      <th>race count</th>\n",
       "      <th>birth_date count</th>\n",
       "      <th>registration_date count</th>\n",
       "      <th>party_affiliation count</th>\n",
       "      <th>precinct count</th>\n",
       "      <th>voter_status count</th>\n",
       "      <th>age count</th>\n",
       "      <th>residence_zipcode_5 count</th>\n",
       "      <th>residence_zipcode_4 count</th>\n",
       "      <th>member_count count</th>\n",
       "    </tr>\n",
       "  </thead>\n",
       "  <tbody>\n",
       "    <tr>\n",
       "      <td>0</td>\n",
       "      <td>1   adams ky  islandia 33035</td>\n",
       "      <td>stephens</td>\n",
       "      <td>1</td>\n",
       "      <td>1</td>\n",
       "      <td>1</td>\n",
       "      <td>1</td>\n",
       "      <td>1</td>\n",
       "      <td>1</td>\n",
       "      <td>1</td>\n",
       "      <td>1</td>\n",
       "      <td>1</td>\n",
       "      <td>1</td>\n",
       "      <td>1</td>\n",
       "      <td>1</td>\n",
       "      <td>1</td>\n",
       "      <td>1</td>\n",
       "      <td>1</td>\n",
       "      <td>1</td>\n",
       "      <td>1</td>\n",
       "      <td>1</td>\n",
       "    </tr>\n",
       "    <tr>\n",
       "      <td>1</td>\n",
       "      <td>1   alhambra cir  coral gables 33134</td>\n",
       "      <td>calvillo</td>\n",
       "      <td>1</td>\n",
       "      <td>1</td>\n",
       "      <td>1</td>\n",
       "      <td>1</td>\n",
       "      <td>1</td>\n",
       "      <td>1</td>\n",
       "      <td>1</td>\n",
       "      <td>1</td>\n",
       "      <td>1</td>\n",
       "      <td>1</td>\n",
       "      <td>1</td>\n",
       "      <td>1</td>\n",
       "      <td>1</td>\n",
       "      <td>1</td>\n",
       "      <td>1</td>\n",
       "      <td>1</td>\n",
       "      <td>1</td>\n",
       "      <td>1</td>\n",
       "    </tr>\n",
       "    <tr>\n",
       "      <td>2</td>\n",
       "      <td>1   alhambra cir 205 coral gables 33134</td>\n",
       "      <td>yngerto</td>\n",
       "      <td>1</td>\n",
       "      <td>1</td>\n",
       "      <td>1</td>\n",
       "      <td>1</td>\n",
       "      <td>1</td>\n",
       "      <td>1</td>\n",
       "      <td>1</td>\n",
       "      <td>1</td>\n",
       "      <td>1</td>\n",
       "      <td>1</td>\n",
       "      <td>1</td>\n",
       "      <td>1</td>\n",
       "      <td>1</td>\n",
       "      <td>1</td>\n",
       "      <td>1</td>\n",
       "      <td>1</td>\n",
       "      <td>1</td>\n",
       "      <td>1</td>\n",
       "    </tr>\n",
       "    <tr>\n",
       "      <td>3</td>\n",
       "      <td>1   alhambra cir 302 coral gables 33134</td>\n",
       "      <td>menendez palacios</td>\n",
       "      <td>1</td>\n",
       "      <td>1</td>\n",
       "      <td>1</td>\n",
       "      <td>1</td>\n",
       "      <td>1</td>\n",
       "      <td>1</td>\n",
       "      <td>1</td>\n",
       "      <td>1</td>\n",
       "      <td>1</td>\n",
       "      <td>1</td>\n",
       "      <td>1</td>\n",
       "      <td>1</td>\n",
       "      <td>1</td>\n",
       "      <td>1</td>\n",
       "      <td>1</td>\n",
       "      <td>1</td>\n",
       "      <td>1</td>\n",
       "      <td>1</td>\n",
       "    </tr>\n",
       "    <tr>\n",
       "      <td>4</td>\n",
       "      <td>1   alhambra cir 303 coral gables 33134</td>\n",
       "      <td>morales</td>\n",
       "      <td>1</td>\n",
       "      <td>1</td>\n",
       "      <td>1</td>\n",
       "      <td>1</td>\n",
       "      <td>1</td>\n",
       "      <td>1</td>\n",
       "      <td>1</td>\n",
       "      <td>1</td>\n",
       "      <td>1</td>\n",
       "      <td>1</td>\n",
       "      <td>1</td>\n",
       "      <td>1</td>\n",
       "      <td>1</td>\n",
       "      <td>1</td>\n",
       "      <td>1</td>\n",
       "      <td>1</td>\n",
       "      <td>1</td>\n",
       "      <td>1</td>\n",
       "    </tr>\n",
       "  </tbody>\n",
       "</table>\n",
       "</div>"
      ],
      "text/plain": [
       "                                 uniq_addr          last_name  \\\n",
       "0             1   adams ky  islandia 33035           stephens   \n",
       "1     1   alhambra cir  coral gables 33134           calvillo   \n",
       "2  1   alhambra cir 205 coral gables 33134            yngerto   \n",
       "3  1   alhambra cir 302 coral gables 33134  menendez palacios   \n",
       "4  1   alhambra cir 303 coral gables 33134            morales   \n",
       "\n",
       "   county_code count  voter_id count  first_name count  \\\n",
       "0                  1               1                 1   \n",
       "1                  1               1                 1   \n",
       "2                  1               1                 1   \n",
       "3                  1               1                 1   \n",
       "4                  1               1                 1   \n",
       "\n",
       "   residence_addr_line_1 count  residence_addr_line_2 count  \\\n",
       "0                            1                            1   \n",
       "1                            1                            1   \n",
       "2                            1                            1   \n",
       "3                            1                            1   \n",
       "4                            1                            1   \n",
       "\n",
       "   residence_city count  residence_zipcode count  gender count  race count  \\\n",
       "0                     1                        1             1           1   \n",
       "1                     1                        1             1           1   \n",
       "2                     1                        1             1           1   \n",
       "3                     1                        1             1           1   \n",
       "4                     1                        1             1           1   \n",
       "\n",
       "   birth_date count  registration_date count  party_affiliation count  \\\n",
       "0                 1                        1                        1   \n",
       "1                 1                        1                        1   \n",
       "2                 1                        1                        1   \n",
       "3                 1                        1                        1   \n",
       "4                 1                        1                        1   \n",
       "\n",
       "   precinct count  voter_status count  age count  residence_zipcode_5 count  \\\n",
       "0               1                   1          1                          1   \n",
       "1               1                   1          1                          1   \n",
       "2               1                   1          1                          1   \n",
       "3               1                   1          1                          1   \n",
       "4               1                   1          1                          1   \n",
       "\n",
       "   residence_zipcode_4 count  member_count count  \n",
       "0                          1                   1  \n",
       "1                          1                   1  \n",
       "2                          1                   1  \n",
       "3                          1                   1  \n",
       "4                          1                   1  "
      ]
     },
     "execution_count": 136,
     "metadata": {},
     "output_type": "execute_result"
    }
   ],
   "source": [
    "aggregated_df.head()"
   ]
  },
  {
   "cell_type": "code",
   "execution_count": 62,
   "metadata": {},
   "outputs": [
    {
     "ename": "KeyError",
     "evalue": "'county_code count'",
     "output_type": "error",
     "traceback": [
      "\u001b[0;31m---------------------------------------------------------------------------\u001b[0m",
      "\u001b[0;31mKeyError\u001b[0m                                  Traceback (most recent call last)",
      "\u001b[0;32m~/anaconda3/lib/python3.7/site-packages/pandas/core/indexes/base.py\u001b[0m in \u001b[0;36mget_loc\u001b[0;34m(self, key, method, tolerance)\u001b[0m\n\u001b[1;32m   2896\u001b[0m             \u001b[0;32mtry\u001b[0m\u001b[0;34m:\u001b[0m\u001b[0;34m\u001b[0m\u001b[0;34m\u001b[0m\u001b[0m\n\u001b[0;32m-> 2897\u001b[0;31m                 \u001b[0;32mreturn\u001b[0m \u001b[0mself\u001b[0m\u001b[0;34m.\u001b[0m\u001b[0m_engine\u001b[0m\u001b[0;34m.\u001b[0m\u001b[0mget_loc\u001b[0m\u001b[0;34m(\u001b[0m\u001b[0mkey\u001b[0m\u001b[0;34m)\u001b[0m\u001b[0;34m\u001b[0m\u001b[0;34m\u001b[0m\u001b[0m\n\u001b[0m\u001b[1;32m   2898\u001b[0m             \u001b[0;32mexcept\u001b[0m \u001b[0mKeyError\u001b[0m\u001b[0;34m:\u001b[0m\u001b[0;34m\u001b[0m\u001b[0;34m\u001b[0m\u001b[0m\n",
      "\u001b[0;32mpandas/_libs/index.pyx\u001b[0m in \u001b[0;36mpandas._libs.index.IndexEngine.get_loc\u001b[0;34m()\u001b[0m\n",
      "\u001b[0;32mpandas/_libs/index.pyx\u001b[0m in \u001b[0;36mpandas._libs.index.IndexEngine.get_loc\u001b[0;34m()\u001b[0m\n",
      "\u001b[0;32mpandas/_libs/hashtable_class_helper.pxi\u001b[0m in \u001b[0;36mpandas._libs.hashtable.PyObjectHashTable.get_item\u001b[0;34m()\u001b[0m\n",
      "\u001b[0;32mpandas/_libs/hashtable_class_helper.pxi\u001b[0m in \u001b[0;36mpandas._libs.hashtable.PyObjectHashTable.get_item\u001b[0;34m()\u001b[0m\n",
      "\u001b[0;31mKeyError\u001b[0m: 'county_code count'",
      "\nDuring handling of the above exception, another exception occurred:\n",
      "\u001b[0;31mKeyError\u001b[0m                                  Traceback (most recent call last)",
      "\u001b[0;32m<ipython-input-62-5eac4391af66>\u001b[0m in \u001b[0;36m<module>\u001b[0;34m\u001b[0m\n\u001b[0;32m----> 1\u001b[0;31m \u001b[0maggregated_df\u001b[0m\u001b[0;34m[\u001b[0m\u001b[0maggregated_df\u001b[0m\u001b[0;34m[\u001b[0m\u001b[0;34m\"county_code count\"\u001b[0m\u001b[0;34m]\u001b[0m \u001b[0;34m>\u001b[0m \u001b[0;36m1\u001b[0m\u001b[0;34m]\u001b[0m\u001b[0;34m.\u001b[0m\u001b[0mhead\u001b[0m\u001b[0;34m(\u001b[0m\u001b[0;34m)\u001b[0m\u001b[0;34m\u001b[0m\u001b[0;34m\u001b[0m\u001b[0m\n\u001b[0m",
      "\u001b[0;32m~/anaconda3/lib/python3.7/site-packages/pandas/core/frame.py\u001b[0m in \u001b[0;36m__getitem__\u001b[0;34m(self, key)\u001b[0m\n\u001b[1;32m   2978\u001b[0m             \u001b[0;32mif\u001b[0m \u001b[0mself\u001b[0m\u001b[0;34m.\u001b[0m\u001b[0mcolumns\u001b[0m\u001b[0;34m.\u001b[0m\u001b[0mnlevels\u001b[0m \u001b[0;34m>\u001b[0m \u001b[0;36m1\u001b[0m\u001b[0;34m:\u001b[0m\u001b[0;34m\u001b[0m\u001b[0;34m\u001b[0m\u001b[0m\n\u001b[1;32m   2979\u001b[0m                 \u001b[0;32mreturn\u001b[0m \u001b[0mself\u001b[0m\u001b[0;34m.\u001b[0m\u001b[0m_getitem_multilevel\u001b[0m\u001b[0;34m(\u001b[0m\u001b[0mkey\u001b[0m\u001b[0;34m)\u001b[0m\u001b[0;34m\u001b[0m\u001b[0;34m\u001b[0m\u001b[0m\n\u001b[0;32m-> 2980\u001b[0;31m             \u001b[0mindexer\u001b[0m \u001b[0;34m=\u001b[0m \u001b[0mself\u001b[0m\u001b[0;34m.\u001b[0m\u001b[0mcolumns\u001b[0m\u001b[0;34m.\u001b[0m\u001b[0mget_loc\u001b[0m\u001b[0;34m(\u001b[0m\u001b[0mkey\u001b[0m\u001b[0;34m)\u001b[0m\u001b[0;34m\u001b[0m\u001b[0;34m\u001b[0m\u001b[0m\n\u001b[0m\u001b[1;32m   2981\u001b[0m             \u001b[0;32mif\u001b[0m \u001b[0mis_integer\u001b[0m\u001b[0;34m(\u001b[0m\u001b[0mindexer\u001b[0m\u001b[0;34m)\u001b[0m\u001b[0;34m:\u001b[0m\u001b[0;34m\u001b[0m\u001b[0;34m\u001b[0m\u001b[0m\n\u001b[1;32m   2982\u001b[0m                 \u001b[0mindexer\u001b[0m \u001b[0;34m=\u001b[0m \u001b[0;34m[\u001b[0m\u001b[0mindexer\u001b[0m\u001b[0;34m]\u001b[0m\u001b[0;34m\u001b[0m\u001b[0;34m\u001b[0m\u001b[0m\n",
      "\u001b[0;32m~/anaconda3/lib/python3.7/site-packages/pandas/core/indexes/base.py\u001b[0m in \u001b[0;36mget_loc\u001b[0;34m(self, key, method, tolerance)\u001b[0m\n\u001b[1;32m   2897\u001b[0m                 \u001b[0;32mreturn\u001b[0m \u001b[0mself\u001b[0m\u001b[0;34m.\u001b[0m\u001b[0m_engine\u001b[0m\u001b[0;34m.\u001b[0m\u001b[0mget_loc\u001b[0m\u001b[0;34m(\u001b[0m\u001b[0mkey\u001b[0m\u001b[0;34m)\u001b[0m\u001b[0;34m\u001b[0m\u001b[0;34m\u001b[0m\u001b[0m\n\u001b[1;32m   2898\u001b[0m             \u001b[0;32mexcept\u001b[0m \u001b[0mKeyError\u001b[0m\u001b[0;34m:\u001b[0m\u001b[0;34m\u001b[0m\u001b[0;34m\u001b[0m\u001b[0m\n\u001b[0;32m-> 2899\u001b[0;31m                 \u001b[0;32mreturn\u001b[0m \u001b[0mself\u001b[0m\u001b[0;34m.\u001b[0m\u001b[0m_engine\u001b[0m\u001b[0;34m.\u001b[0m\u001b[0mget_loc\u001b[0m\u001b[0;34m(\u001b[0m\u001b[0mself\u001b[0m\u001b[0;34m.\u001b[0m\u001b[0m_maybe_cast_indexer\u001b[0m\u001b[0;34m(\u001b[0m\u001b[0mkey\u001b[0m\u001b[0;34m)\u001b[0m\u001b[0;34m)\u001b[0m\u001b[0;34m\u001b[0m\u001b[0;34m\u001b[0m\u001b[0m\n\u001b[0m\u001b[1;32m   2900\u001b[0m         \u001b[0mindexer\u001b[0m \u001b[0;34m=\u001b[0m \u001b[0mself\u001b[0m\u001b[0;34m.\u001b[0m\u001b[0mget_indexer\u001b[0m\u001b[0;34m(\u001b[0m\u001b[0;34m[\u001b[0m\u001b[0mkey\u001b[0m\u001b[0;34m]\u001b[0m\u001b[0;34m,\u001b[0m \u001b[0mmethod\u001b[0m\u001b[0;34m=\u001b[0m\u001b[0mmethod\u001b[0m\u001b[0;34m,\u001b[0m \u001b[0mtolerance\u001b[0m\u001b[0;34m=\u001b[0m\u001b[0mtolerance\u001b[0m\u001b[0;34m)\u001b[0m\u001b[0;34m\u001b[0m\u001b[0;34m\u001b[0m\u001b[0m\n\u001b[1;32m   2901\u001b[0m         \u001b[0;32mif\u001b[0m \u001b[0mindexer\u001b[0m\u001b[0;34m.\u001b[0m\u001b[0mndim\u001b[0m \u001b[0;34m>\u001b[0m \u001b[0;36m1\u001b[0m \u001b[0;32mor\u001b[0m \u001b[0mindexer\u001b[0m\u001b[0;34m.\u001b[0m\u001b[0msize\u001b[0m \u001b[0;34m>\u001b[0m \u001b[0;36m1\u001b[0m\u001b[0;34m:\u001b[0m\u001b[0;34m\u001b[0m\u001b[0;34m\u001b[0m\u001b[0m\n",
      "\u001b[0;32mpandas/_libs/index.pyx\u001b[0m in \u001b[0;36mpandas._libs.index.IndexEngine.get_loc\u001b[0;34m()\u001b[0m\n",
      "\u001b[0;32mpandas/_libs/index.pyx\u001b[0m in \u001b[0;36mpandas._libs.index.IndexEngine.get_loc\u001b[0;34m()\u001b[0m\n",
      "\u001b[0;32mpandas/_libs/hashtable_class_helper.pxi\u001b[0m in \u001b[0;36mpandas._libs.hashtable.PyObjectHashTable.get_item\u001b[0;34m()\u001b[0m\n",
      "\u001b[0;32mpandas/_libs/hashtable_class_helper.pxi\u001b[0m in \u001b[0;36mpandas._libs.hashtable.PyObjectHashTable.get_item\u001b[0;34m()\u001b[0m\n",
      "\u001b[0;31mKeyError\u001b[0m: 'county_code count'"
     ]
    }
   ],
   "source": [
    "aggregated_df[aggregated_df[] > 1].head()"
   ]
  },
  {
   "cell_type": "code",
   "execution_count": 114,
   "metadata": {},
   "outputs": [],
   "source": [
    "house_size_2 = global_df[global_df['member_count'] == 2]"
   ]
  },
  {
   "cell_type": "code",
   "execution_count": 115,
   "metadata": {},
   "outputs": [],
   "source": [
    "male_df = house_size_2[house_size_2['gender'] == 'M']"
   ]
  },
  {
   "cell_type": "code",
   "execution_count": 116,
   "metadata": {},
   "outputs": [],
   "source": [
    "female_df = house_size_2[house_size_2['gender'] == 'F']"
   ]
  },
  {
   "cell_type": "code",
   "execution_count": 117,
   "metadata": {},
   "outputs": [],
   "source": [
    "temp = pd.merge(male_df, female_df, on=['uniq_addr', 'last_name'], how='inner', suffixes=('_male', '_female'))"
   ]
  },
  {
   "cell_type": "code",
   "execution_count": 118,
   "metadata": {},
   "outputs": [],
   "source": [
    "lower_age_threshold = 30\n",
    "age_diff_threshold = 20"
   ]
  },
  {
   "cell_type": "code",
   "execution_count": 119,
   "metadata": {},
   "outputs": [],
   "source": [
    "def couple_heuristic(row):\n",
    "    age_diff = abs(row['age_male'] - row['age_female'])\n",
    "    if row['age_male'] >= lower_age_threshold and row['age_female'] >= lower_age_threshold and age_diff <= age_diff_threshold:\n",
    "        return True\n",
    "    return False\n",
    "        "
   ]
  },
  {
   "cell_type": "code",
   "execution_count": 120,
   "metadata": {},
   "outputs": [],
   "source": [
    "couples = temp[temp.apply(couple_heuristic, axis=1)]"
   ]
  },
  {
   "cell_type": "code",
   "execution_count": 121,
   "metadata": {},
   "outputs": [],
   "source": [
    "polarized_couples = couples[couples['party_affiliation_male'] != couples['party_affiliation_female']]"
   ]
  },
  {
   "cell_type": "code",
   "execution_count": 122,
   "metadata": {},
   "outputs": [],
   "source": [
    "couples.to_csv('all_couples_20190813.csv', sep='\\t')"
   ]
  },
  {
   "cell_type": "code",
   "execution_count": 123,
   "metadata": {},
   "outputs": [],
   "source": [
    "polarized_couples.to_csv('polarized_couples_20190813.csv', sep='\\t')"
   ]
  },
  {
   "cell_type": "code",
   "execution_count": 124,
   "metadata": {},
   "outputs": [
    {
     "data": {
      "text/plain": [
       "<matplotlib.axes._subplots.AxesSubplot at 0x7f805be6e290>"
      ]
     },
     "execution_count": 124,
     "metadata": {},
     "output_type": "execute_result"
    },
    {
     "data": {
      "image/png": "[encoded data removed]",
      "text/plain": [
       "<Figure size 432x288 with 1 Axes>"
      ]
     },
     "metadata": {
      "needs_background": "light"
     },
     "output_type": "display_data"
    }
   ],
   "source": [
    "polarized_couples['party_affiliation_male'].hist()"
   ]
  },
  {
   "cell_type": "code",
   "execution_count": 125,
   "metadata": {},
   "outputs": [
    {
     "data": {
      "text/plain": [
       "pandas.core.frame.DataFrame"
      ]
     },
     "execution_count": 125,
     "metadata": {},
     "output_type": "execute_result"
    }
   ],
   "source": [
    "type(polarized_couples)"
   ]
  },
  {
   "cell_type": "code",
   "execution_count": 126,
   "metadata": {},
   "outputs": [
    {
     "data": {
      "text/plain": [
       "<matplotlib.axes._subplots.AxesSubplot at 0x7f804f7fef90>"
      ]
     },
     "execution_count": 126,
     "metadata": {},
     "output_type": "execute_result"
    },
    {
     "data": {
      "image/png": "[encoded data removed]",
      "text/plain": [
       "<Figure size 432x288 with 1 Axes>"
      ]
     },
     "metadata": {
      "needs_background": "light"
     },
     "output_type": "display_data"
    }
   ],
   "source": [
    "figs, axes = plt.subplots(nrows=1, ncols=1)\n",
    "sns.barplot(x='party_affiliation_male', y='count', data=polarized_couples.groupby(['party_affiliation_male'])['first_name_male'].agg(['count']).reset_index())"
   ]
  },
  {
   "cell_type": "code",
   "execution_count": null,
   "metadata": {},
   "outputs": [],
   "source": []
  },
  {
   "cell_type": "code",
   "execution_count": 133,
   "metadata": {},
   "outputs": [
    {
     "data": {
      "text/plain": [
       "(1367975, 20)"
      ]
     },
     "execution_count": 133,
     "metadata": {},
     "output_type": "execute_result"
    }
   ],
   "source": [
    "global_df.shape"
   ]
  },
  {
   "cell_type": "code",
   "execution_count": 128,
   "metadata": {},
   "outputs": [
    {
     "data": {
      "text/html": [
       "<div>\n",
       "<style scoped>\n",
       "    .dataframe tbody tr th:only-of-type {\n",
       "        vertical-align: middle;\n",
       "    }\n",
       "\n",
       "    .dataframe tbody tr th {\n",
       "        vertical-align: top;\n",
       "    }\n",
       "\n",
       "    .dataframe thead th {\n",
       "        text-align: right;\n",
       "    }\n",
       "</style>\n",
       "<table border=\"1\" class=\"dataframe\">\n",
       "  <thead>\n",
       "    <tr style=\"text-align: right;\">\n",
       "      <th></th>\n",
       "      <th>county_code</th>\n",
       "      <th>voter_id</th>\n",
       "      <th>last_name</th>\n",
       "      <th>first_name</th>\n",
       "      <th>residence_addr_line_1</th>\n",
       "      <th>residence_addr_line_2</th>\n",
       "      <th>residence_city</th>\n",
       "      <th>residence_zipcode</th>\n",
       "      <th>gender</th>\n",
       "      <th>race</th>\n",
       "      <th>birth_date</th>\n",
       "      <th>registration_date</th>\n",
       "      <th>party_affiliation</th>\n",
       "      <th>precinct</th>\n",
       "      <th>voter_status</th>\n",
       "      <th>age</th>\n",
       "      <th>residence_zipcode_5</th>\n",
       "      <th>residence_zipcode_4</th>\n",
       "      <th>uniq_addr</th>\n",
       "      <th>member_count</th>\n",
       "    </tr>\n",
       "  </thead>\n",
       "  <tbody>\n",
       "    <tr>\n",
       "      <td>0</td>\n",
       "      <td>DAD</td>\n",
       "      <td>100012467</td>\n",
       "      <td>brummitt</td>\n",
       "      <td>marilyn</td>\n",
       "      <td>421  nw 150th st</td>\n",
       "      <td></td>\n",
       "      <td>miami</td>\n",
       "      <td>33168</td>\n",
       "      <td>F</td>\n",
       "      <td>5</td>\n",
       "      <td>04/12/1950</td>\n",
       "      <td>11/05/1975</td>\n",
       "      <td>REP</td>\n",
       "      <td>131.0</td>\n",
       "      <td>ACT</td>\n",
       "      <td>69</td>\n",
       "      <td>33168</td>\n",
       "      <td></td>\n",
       "      <td>421  nw 150th st  miami 33168</td>\n",
       "      <td>1</td>\n",
       "    </tr>\n",
       "    <tr>\n",
       "      <td>1</td>\n",
       "      <td>DAD</td>\n",
       "      <td>100014823</td>\n",
       "      <td>westervelt</td>\n",
       "      <td>erna</td>\n",
       "      <td>11041  sw 124th st</td>\n",
       "      <td></td>\n",
       "      <td>miami</td>\n",
       "      <td>33176</td>\n",
       "      <td>F</td>\n",
       "      <td>5</td>\n",
       "      <td>01/16/1923</td>\n",
       "      <td>02/10/1972</td>\n",
       "      <td>REP</td>\n",
       "      <td>756.0</td>\n",
       "      <td>ACT</td>\n",
       "      <td>96</td>\n",
       "      <td>33176</td>\n",
       "      <td></td>\n",
       "      <td>11041  sw 124th st  miami 33176</td>\n",
       "      <td>1</td>\n",
       "    </tr>\n",
       "    <tr>\n",
       "      <td>2</td>\n",
       "      <td>DAD</td>\n",
       "      <td>100021401</td>\n",
       "      <td>chang</td>\n",
       "      <td>zoila</td>\n",
       "      <td>11047  nw 3rd ter</td>\n",
       "      <td></td>\n",
       "      <td>sweetwater</td>\n",
       "      <td>33172</td>\n",
       "      <td>F</td>\n",
       "      <td>5</td>\n",
       "      <td>06/27/1946</td>\n",
       "      <td>01/21/1976</td>\n",
       "      <td>REP</td>\n",
       "      <td>410.0</td>\n",
       "      <td>ACT</td>\n",
       "      <td>73</td>\n",
       "      <td>33172</td>\n",
       "      <td></td>\n",
       "      <td>11047  nw 3rd ter  sweetwater 33172</td>\n",
       "      <td>1</td>\n",
       "    </tr>\n",
       "    <tr>\n",
       "      <td>3</td>\n",
       "      <td>DAD</td>\n",
       "      <td>100021484</td>\n",
       "      <td>harris</td>\n",
       "      <td>roberta</td>\n",
       "      <td>15605  sw 57th ln</td>\n",
       "      <td></td>\n",
       "      <td>miami</td>\n",
       "      <td>33193</td>\n",
       "      <td>F</td>\n",
       "      <td>5</td>\n",
       "      <td>05/22/1938</td>\n",
       "      <td>01/23/1976</td>\n",
       "      <td>REP</td>\n",
       "      <td>764.0</td>\n",
       "      <td>ACT</td>\n",
       "      <td>81</td>\n",
       "      <td>33193</td>\n",
       "      <td></td>\n",
       "      <td>15605  sw 57th ln  miami 33193</td>\n",
       "      <td>1</td>\n",
       "    </tr>\n",
       "    <tr>\n",
       "      <td>4</td>\n",
       "      <td>DAD</td>\n",
       "      <td>100024033</td>\n",
       "      <td>guillermety</td>\n",
       "      <td>carmen</td>\n",
       "      <td>10951  sw 161st pl</td>\n",
       "      <td></td>\n",
       "      <td>miami</td>\n",
       "      <td>33196</td>\n",
       "      <td>F</td>\n",
       "      <td>5</td>\n",
       "      <td>12/28/1916</td>\n",
       "      <td>08/02/1976</td>\n",
       "      <td>REP</td>\n",
       "      <td>766.0</td>\n",
       "      <td>ACT</td>\n",
       "      <td>102</td>\n",
       "      <td>33196</td>\n",
       "      <td></td>\n",
       "      <td>10951  sw 161st pl  miami 33196</td>\n",
       "      <td>2</td>\n",
       "    </tr>\n",
       "  </tbody>\n",
       "</table>\n",
       "</div>"
      ],
      "text/plain": [
       "  county_code   voter_id    last_name first_name residence_addr_line_1  \\\n",
       "0         DAD  100012467     brummitt    marilyn      421  nw 150th st   \n",
       "1         DAD  100014823   westervelt       erna    11041  sw 124th st   \n",
       "2         DAD  100021401        chang      zoila     11047  nw 3rd ter   \n",
       "3         DAD  100021484       harris    roberta     15605  sw 57th ln   \n",
       "4         DAD  100024033  guillermety     carmen    10951  sw 161st pl   \n",
       "\n",
       "  residence_addr_line_2 residence_city residence_zipcode gender  race  \\\n",
       "0                                miami             33168      F     5   \n",
       "1                                miami             33176      F     5   \n",
       "2                           sweetwater             33172      F     5   \n",
       "3                                miami             33193      F     5   \n",
       "4                                miami             33196      F     5   \n",
       "\n",
       "   birth_date registration_date party_affiliation  precinct voter_status  age  \\\n",
       "0  04/12/1950        11/05/1975               REP     131.0          ACT   69   \n",
       "1  01/16/1923        02/10/1972               REP     756.0          ACT   96   \n",
       "2  06/27/1946        01/21/1976               REP     410.0          ACT   73   \n",
       "3  05/22/1938        01/23/1976               REP     764.0          ACT   81   \n",
       "4  12/28/1916        08/02/1976               REP     766.0          ACT  102   \n",
       "\n",
       "   residence_zipcode_5 residence_zipcode_4  \\\n",
       "0                33168                       \n",
       "1                33176                       \n",
       "2                33172                       \n",
       "3                33193                       \n",
       "4                33196                       \n",
       "\n",
       "                             uniq_addr  member_count  \n",
       "0        421  nw 150th st  miami 33168             1  \n",
       "1      11041  sw 124th st  miami 33176             1  \n",
       "2  11047  nw 3rd ter  sweetwater 33172             1  \n",
       "3       15605  sw 57th ln  miami 33193             1  \n",
       "4      10951  sw 161st pl  miami 33196             2  "
      ]
     },
     "execution_count": 128,
     "metadata": {},
     "output_type": "execute_result"
    }
   ],
   "source": [
    "global_df.head()"
   ]
  },
  {
   "cell_type": "code",
   "execution_count": 129,
   "metadata": {},
   "outputs": [
    {
     "data": {
      "text/html": [
       "<div>\n",
       "<style scoped>\n",
       "    .dataframe tbody tr th:only-of-type {\n",
       "        vertical-align: middle;\n",
       "    }\n",
       "\n",
       "    .dataframe tbody tr th {\n",
       "        vertical-align: top;\n",
       "    }\n",
       "\n",
       "    .dataframe thead th {\n",
       "        text-align: right;\n",
       "    }\n",
       "</style>\n",
       "<table border=\"1\" class=\"dataframe\">\n",
       "  <thead>\n",
       "    <tr style=\"text-align: right;\">\n",
       "      <th></th>\n",
       "      <th>uniq_addr</th>\n",
       "      <th>last_name</th>\n",
       "      <th>member_count</th>\n",
       "    </tr>\n",
       "  </thead>\n",
       "  <tbody>\n",
       "    <tr>\n",
       "      <td>0</td>\n",
       "      <td>1   adams ky  islandia 33035</td>\n",
       "      <td>stephens</td>\n",
       "      <td>1</td>\n",
       "    </tr>\n",
       "    <tr>\n",
       "      <td>1</td>\n",
       "      <td>1   alhambra cir  coral gables 33134</td>\n",
       "      <td>calvillo</td>\n",
       "      <td>1</td>\n",
       "    </tr>\n",
       "    <tr>\n",
       "      <td>2</td>\n",
       "      <td>1   alhambra cir 205 coral gables 33134</td>\n",
       "      <td>yngerto</td>\n",
       "      <td>1</td>\n",
       "    </tr>\n",
       "    <tr>\n",
       "      <td>3</td>\n",
       "      <td>1   alhambra cir 302 coral gables 33134</td>\n",
       "      <td>menendez palacios</td>\n",
       "      <td>1</td>\n",
       "    </tr>\n",
       "    <tr>\n",
       "      <td>4</td>\n",
       "      <td>1   alhambra cir 303 coral gables 33134</td>\n",
       "      <td>morales</td>\n",
       "      <td>1</td>\n",
       "    </tr>\n",
       "  </tbody>\n",
       "</table>\n",
       "</div>"
      ],
      "text/plain": [
       "                                 uniq_addr          last_name  member_count\n",
       "0             1   adams ky  islandia 33035           stephens             1\n",
       "1     1   alhambra cir  coral gables 33134           calvillo             1\n",
       "2  1   alhambra cir 205 coral gables 33134            yngerto             1\n",
       "3  1   alhambra cir 302 coral gables 33134  menendez palacios             1\n",
       "4  1   alhambra cir 303 coral gables 33134            morales             1"
      ]
     },
     "execution_count": 129,
     "metadata": {},
     "output_type": "execute_result"
    }
   ],
   "source": [
    "aggregated_df.head()"
   ]
  },
  {
   "cell_type": "code",
   "execution_count": null,
   "metadata": {},
   "outputs": [],
   "source": []
  },
  {
   "cell_type": "code",
   "execution_count": null,
   "metadata": {},
   "outputs": [],
   "source": []
  },
  {
   "cell_type": "code",
   "execution_count": 130,
   "metadata": {},
   "outputs": [],
   "source": [
    "# global_df['uniq_addr'] = global_df[[]]"
   ]
  },
  {
   "cell_type": "code",
   "execution_count": 131,
   "metadata": {},
   "outputs": [],
   "source": [
    "last_name_counts = global_df.last_name.value_counts().to_dict()\n",
    "last_names = set([name for name in last_name_counts if last_name_counts[name] > 1])"
   ]
  },
  {
   "cell_type": "code",
   "execution_count": 132,
   "metadata": {},
   "outputs": [],
   "source": [
    "aggregated_df = global_df.groupby(['uniq_addr', 'last_name']).agg(['count']).reset_index()\n",
    "aggregated_df.columns = [' '.join(col).strip() for col in aggregated_df.columns.values]"
   ]
  },
  {
   "cell_type": "code",
   "execution_count": 154,
   "metadata": {
    "collapsed": true,
    "jupyter": {
     "outputs_hidden": true
    }
   },
   "outputs": [
    {
     "data": {
      "text/html": [
       "<div>\n",
       "<style scoped>\n",
       "    .dataframe tbody tr th:only-of-type {\n",
       "        vertical-align: middle;\n",
       "    }\n",
       "\n",
       "    .dataframe tbody tr th {\n",
       "        vertical-align: top;\n",
       "    }\n",
       "\n",
       "    .dataframe thead th {\n",
       "        text-align: right;\n",
       "    }\n",
       "</style>\n",
       "<table border=\"1\" class=\"dataframe\">\n",
       "  <thead>\n",
       "    <tr style=\"text-align: right;\">\n",
       "      <th></th>\n",
       "      <th>uniq_addr</th>\n",
       "      <th>last_name</th>\n",
       "      <th>county_code count</th>\n",
       "      <th>voter_id count</th>\n",
       "      <th>first_name count</th>\n",
       "      <th>middle_name count</th>\n",
       "      <th>residence_addr_line_1 count</th>\n",
       "      <th>residence_addr_line_2 count</th>\n",
       "      <th>residence_city count</th>\n",
       "      <th>residence_state count</th>\n",
       "      <th>...</th>\n",
       "      <th>race count</th>\n",
       "      <th>birth_date count</th>\n",
       "      <th>registration_date count</th>\n",
       "      <th>party_affiliation count</th>\n",
       "      <th>precinct count</th>\n",
       "      <th>voter_status count</th>\n",
       "      <th>email_address count</th>\n",
       "      <th>age count</th>\n",
       "      <th>residence_zipcode_5 count</th>\n",
       "      <th>residence_zipcode_4 count</th>\n",
       "    </tr>\n",
       "  </thead>\n",
       "  <tbody>\n",
       "    <tr>\n",
       "      <td>0</td>\n",
       "      <td>1   alhambra cir 201 coral gables 33134</td>\n",
       "      <td>gonzalez del campo</td>\n",
       "      <td>1</td>\n",
       "      <td>1</td>\n",
       "      <td>1</td>\n",
       "      <td>1</td>\n",
       "      <td>1</td>\n",
       "      <td>1</td>\n",
       "      <td>1</td>\n",
       "      <td>1</td>\n",
       "      <td>...</td>\n",
       "      <td>1</td>\n",
       "      <td>1</td>\n",
       "      <td>1</td>\n",
       "      <td>1</td>\n",
       "      <td>1</td>\n",
       "      <td>1</td>\n",
       "      <td>1</td>\n",
       "      <td>1</td>\n",
       "      <td>1</td>\n",
       "      <td>1</td>\n",
       "    </tr>\n",
       "    <tr>\n",
       "      <td>1</td>\n",
       "      <td>1   alhambra cir 303 coral gables 33134</td>\n",
       "      <td>morales</td>\n",
       "      <td>1</td>\n",
       "      <td>1</td>\n",
       "      <td>1</td>\n",
       "      <td>1</td>\n",
       "      <td>1</td>\n",
       "      <td>1</td>\n",
       "      <td>1</td>\n",
       "      <td>1</td>\n",
       "      <td>...</td>\n",
       "      <td>1</td>\n",
       "      <td>1</td>\n",
       "      <td>1</td>\n",
       "      <td>1</td>\n",
       "      <td>1</td>\n",
       "      <td>1</td>\n",
       "      <td>1</td>\n",
       "      <td>1</td>\n",
       "      <td>1</td>\n",
       "      <td>1</td>\n",
       "    </tr>\n",
       "    <tr>\n",
       "      <td>2</td>\n",
       "      <td>1   alhambra cir 306 coral gables 33134</td>\n",
       "      <td>hevia</td>\n",
       "      <td>1</td>\n",
       "      <td>1</td>\n",
       "      <td>1</td>\n",
       "      <td>1</td>\n",
       "      <td>1</td>\n",
       "      <td>1</td>\n",
       "      <td>1</td>\n",
       "      <td>1</td>\n",
       "      <td>...</td>\n",
       "      <td>1</td>\n",
       "      <td>1</td>\n",
       "      <td>1</td>\n",
       "      <td>1</td>\n",
       "      <td>1</td>\n",
       "      <td>1</td>\n",
       "      <td>1</td>\n",
       "      <td>1</td>\n",
       "      <td>1</td>\n",
       "      <td>1</td>\n",
       "    </tr>\n",
       "    <tr>\n",
       "      <td>3</td>\n",
       "      <td>1   alhambra cir 405 coral gables 33134</td>\n",
       "      <td>paul</td>\n",
       "      <td>1</td>\n",
       "      <td>1</td>\n",
       "      <td>1</td>\n",
       "      <td>1</td>\n",
       "      <td>1</td>\n",
       "      <td>1</td>\n",
       "      <td>1</td>\n",
       "      <td>1</td>\n",
       "      <td>...</td>\n",
       "      <td>1</td>\n",
       "      <td>1</td>\n",
       "      <td>1</td>\n",
       "      <td>1</td>\n",
       "      <td>1</td>\n",
       "      <td>1</td>\n",
       "      <td>1</td>\n",
       "      <td>1</td>\n",
       "      <td>1</td>\n",
       "      <td>1</td>\n",
       "    </tr>\n",
       "    <tr>\n",
       "      <td>4</td>\n",
       "      <td>1   alhambra cir 406 coral gables 33134</td>\n",
       "      <td>salup mosquera</td>\n",
       "      <td>1</td>\n",
       "      <td>1</td>\n",
       "      <td>1</td>\n",
       "      <td>1</td>\n",
       "      <td>1</td>\n",
       "      <td>1</td>\n",
       "      <td>1</td>\n",
       "      <td>1</td>\n",
       "      <td>...</td>\n",
       "      <td>1</td>\n",
       "      <td>1</td>\n",
       "      <td>1</td>\n",
       "      <td>1</td>\n",
       "      <td>1</td>\n",
       "      <td>1</td>\n",
       "      <td>1</td>\n",
       "      <td>1</td>\n",
       "      <td>1</td>\n",
       "      <td>1</td>\n",
       "    </tr>\n",
       "  </tbody>\n",
       "</table>\n",
       "<p>5 rows × 22 columns</p>\n",
       "</div>"
      ],
      "text/plain": [
       "                                 uniq_addr           last_name  \\\n",
       "0  1   alhambra cir 201 coral gables 33134  gonzalez del campo   \n",
       "1  1   alhambra cir 303 coral gables 33134             morales   \n",
       "2  1   alhambra cir 306 coral gables 33134               hevia   \n",
       "3  1   alhambra cir 405 coral gables 33134                paul   \n",
       "4  1   alhambra cir 406 coral gables 33134      salup mosquera   \n",
       "\n",
       "   county_code count  voter_id count  first_name count  middle_name count  \\\n",
       "0                  1               1                 1                  1   \n",
       "1                  1               1                 1                  1   \n",
       "2                  1               1                 1                  1   \n",
       "3                  1               1                 1                  1   \n",
       "4                  1               1                 1                  1   \n",
       "\n",
       "   residence_addr_line_1 count  residence_addr_line_2 count  \\\n",
       "0                            1                            1   \n",
       "1                            1                            1   \n",
       "2                            1                            1   \n",
       "3                            1                            1   \n",
       "4                            1                            1   \n",
       "\n",
       "   residence_city count  residence_state count  ...  race count  \\\n",
       "0                     1                      1  ...           1   \n",
       "1                     1                      1  ...           1   \n",
       "2                     1                      1  ...           1   \n",
       "3                     1                      1  ...           1   \n",
       "4                     1                      1  ...           1   \n",
       "\n",
       "   birth_date count  registration_date count  party_affiliation count  \\\n",
       "0                 1                        1                        1   \n",
       "1                 1                        1                        1   \n",
       "2                 1                        1                        1   \n",
       "3                 1                        1                        1   \n",
       "4                 1                        1                        1   \n",
       "\n",
       "   precinct count  voter_status count  email_address count  age count  \\\n",
       "0               1                   1                    1          1   \n",
       "1               1                   1                    1          1   \n",
       "2               1                   1                    1          1   \n",
       "3               1                   1                    1          1   \n",
       "4               1                   1                    1          1   \n",
       "\n",
       "   residence_zipcode_5 count  residence_zipcode_4 count  \n",
       "0                          1                          1  \n",
       "1                          1                          1  \n",
       "2                          1                          1  \n",
       "3                          1                          1  \n",
       "4                          1                          1  \n",
       "\n",
       "[5 rows x 22 columns]"
      ]
     },
     "execution_count": 154,
     "metadata": {},
     "output_type": "execute_result"
    }
   ],
   "source": [
    "aggregated_df.head()"
   ]
  },
  {
   "cell_type": "code",
   "execution_count": 155,
   "metadata": {},
   "outputs": [
    {
     "data": {
      "text/plain": [
       "(633397, 22)"
      ]
     },
     "execution_count": 155,
     "metadata": {},
     "output_type": "execute_result"
    }
   ],
   "source": [
    "aggregated_df[aggregated_df['first_name count'] == 1].shape"
   ]
  },
  {
   "cell_type": "code",
   "execution_count": 156,
   "metadata": {},
   "outputs": [
    {
     "data": {
      "text/plain": [
       "(941446, 22)"
      ]
     },
     "execution_count": 156,
     "metadata": {},
     "output_type": "execute_result"
    }
   ],
   "source": [
    "global_df.shape"
   ]
  },
  {
   "cell_type": "code",
   "execution_count": 88,
   "metadata": {},
   "outputs": [],
   "source": [
    "lower_age_threshold = 30\n",
    "upper_age_threshold = 50\n",
    "global_df = global_df[(global_df['age'] >= lower_age_threshold) & (global_df['age'] <= upper_age_threshold)]"
   ]
  },
  {
   "cell_type": "code",
   "execution_count": 89,
   "metadata": {},
   "outputs": [],
   "source": [
    "sibling_age_threshold = 30"
   ]
  },
  {
   "cell_type": "code",
   "execution_count": 90,
   "metadata": {},
   "outputs": [
    {
     "data": {
      "text/plain": [
       "(503667, 17)"
      ]
     },
     "execution_count": 90,
     "metadata": {},
     "output_type": "execute_result"
    }
   ],
   "source": [
    "global_df.shape"
   ]
  },
  {
   "cell_type": "code",
   "execution_count": 91,
   "metadata": {},
   "outputs": [],
   "source": [
    "temp = global_df.groupby(['last_name', 'residence_addr_line_1', 'residence_city', 'residence_zipcode']).agg(['count']).reset_index()"
   ]
  },
  {
   "cell_type": "code",
   "execution_count": 92,
   "metadata": {},
   "outputs": [],
   "source": [
    "temp.columns = [' '.join(col).strip() for col in temp.columns.values]"
   ]
  },
  {
   "cell_type": "code",
   "execution_count": 93,
   "metadata": {},
   "outputs": [
    {
     "data": {
      "text/plain": [
       "Index(['last_name', 'residence_addr_line_1', 'residence_city',\n",
       "       'residence_zipcode', 'county_code count', 'voter_id count',\n",
       "       'first_name count', 'residence_addr_line_2 count',\n",
       "       'residence_state count', 'gender count', 'race count',\n",
       "       'birth_date count', 'registration_date count',\n",
       "       'party_affiliation count', 'precinct count', 'voter_status count',\n",
       "       'age count'],\n",
       "      dtype='object')"
      ]
     },
     "execution_count": 93,
     "metadata": {},
     "output_type": "execute_result"
    }
   ],
   "source": [
    "temp.columns"
   ]
  },
  {
   "cell_type": "code",
   "execution_count": 94,
   "metadata": {},
   "outputs": [
    {
     "data": {
      "text/plain": [
       "(438946, 17)"
      ]
     },
     "execution_count": 94,
     "metadata": {},
     "output_type": "execute_result"
    }
   ],
   "source": [
    "temp[temp['first_name count'] == 1].shape"
   ]
  },
  {
   "cell_type": "code",
   "execution_count": 95,
   "metadata": {},
   "outputs": [
    {
     "data": {
      "text/plain": [
       "(470610, 17)"
      ]
     },
     "execution_count": 95,
     "metadata": {},
     "output_type": "execute_result"
    }
   ],
   "source": [
    "temp.shape"
   ]
  },
  {
   "cell_type": "code",
   "execution_count": 98,
   "metadata": {},
   "outputs": [
    {
     "data": {
      "text/plain": [
       "(0, 17)"
      ]
     },
     "execution_count": 98,
     "metadata": {},
     "output_type": "execute_result"
    }
   ],
   "source": [
    "global_df[global_df['residence_addr_line_1'] == ''].shape"
   ]
  },
  {
   "cell_type": "code",
   "execution_count": null,
   "metadata": {},
   "outputs": [],
   "source": []
  },
  {
   "cell_type": "code",
   "execution_count": null,
   "metadata": {},
   "outputs": [],
   "source": []
  },
  {
   "cell_type": "code",
   "execution_count": 179,
   "metadata": {},
   "outputs": [],
   "source": [
    "# c = pd.DataFrame({\"c\": global_df['residence_addr_line_1'].apply(lambda x: re.sub(\"[^0-9a-zA-Z\\s]+\", '', x))})"
   ]
  },
  {
   "cell_type": "code",
   "execution_count": 180,
   "metadata": {},
   "outputs": [],
   "source": []
  },
  {
   "cell_type": "code",
   "execution_count": 182,
   "metadata": {},
   "outputs": [],
   "source": []
  },
  {
   "cell_type": "code",
   "execution_count": 183,
   "metadata": {},
   "outputs": [],
   "source": []
  },
  {
   "cell_type": "code",
   "execution_count": 186,
   "metadata": {},
   "outputs": [
    {
     "data": {
      "text/plain": [
       "(89508, 2)"
      ]
     },
     "execution_count": 186,
     "metadata": {},
     "output_type": "execute_result"
    }
   ],
   "source": []
  },
  {
   "cell_type": "code",
   "execution_count": 185,
   "metadata": {},
   "outputs": [
    {
     "data": {
      "text/plain": [
       "(142846, 2)"
      ]
     },
     "execution_count": 185,
     "metadata": {},
     "output_type": "execute_result"
    }
   ],
   "source": []
  },
  {
   "cell_type": "code",
   "execution_count": null,
   "metadata": {},
   "outputs": [],
   "source": []
  },
  {
   "cell_type": "code",
   "execution_count": 160,
   "metadata": {},
   "outputs": [],
   "source": [
    "t1 = global_df['last_name'].value_counts()"
   ]
  },
  {
   "cell_type": "code",
   "execution_count": 164,
   "metadata": {},
   "outputs": [],
   "source": [
    "a = global_df.groupby(['last_name'])['last_name'].agg(['count']).reset_index()"
   ]
  },
  {
   "cell_type": "code",
   "execution_count": 168,
   "metadata": {},
   "outputs": [
    {
     "data": {
      "text/plain": [
       "(142846, 2)"
      ]
     },
     "execution_count": 168,
     "metadata": {},
     "output_type": "execute_result"
    }
   ],
   "source": [
    "a.shape"
   ]
  },
  {
   "cell_type": "code",
   "execution_count": 176,
   "metadata": {},
   "outputs": [
    {
     "data": {
      "text/plain": [
       "(53338, 2)"
      ]
     },
     "execution_count": 176,
     "metadata": {},
     "output_type": "execute_result"
    }
   ],
   "source": [
    "a[a['count'] > 1].shape"
   ]
  },
  {
   "cell_type": "code",
   "execution_count": 170,
   "metadata": {},
   "outputs": [],
   "source": [
    "b = global_df.groupby(['residence_addr_line_1'])['residence_addr_line_1'].agg(['count']).reset_index()"
   ]
  },
  {
   "cell_type": "code",
   "execution_count": 171,
   "metadata": {},
   "outputs": [
    {
     "data": {
      "text/html": [
       "<div>\n",
       "<style scoped>\n",
       "    .dataframe tbody tr th:only-of-type {\n",
       "        vertical-align: middle;\n",
       "    }\n",
       "\n",
       "    .dataframe tbody tr th {\n",
       "        vertical-align: top;\n",
       "    }\n",
       "\n",
       "    .dataframe thead th {\n",
       "        text-align: right;\n",
       "    }\n",
       "</style>\n",
       "<table border=\"1\" class=\"dataframe\">\n",
       "  <thead>\n",
       "    <tr style=\"text-align: right;\">\n",
       "      <th></th>\n",
       "      <th>residence_addr_line_1</th>\n",
       "      <th>count</th>\n",
       "    </tr>\n",
       "  </thead>\n",
       "  <tbody>\n",
       "    <tr>\n",
       "      <td>0</td>\n",
       "      <td>1   alhambra cir</td>\n",
       "      <td>31</td>\n",
       "    </tr>\n",
       "    <tr>\n",
       "      <td>1</td>\n",
       "      <td>1   andalusia ave</td>\n",
       "      <td>139</td>\n",
       "    </tr>\n",
       "    <tr>\n",
       "      <td>2</td>\n",
       "      <td>1   arvida pkwy</td>\n",
       "      <td>2</td>\n",
       "    </tr>\n",
       "    <tr>\n",
       "      <td>3</td>\n",
       "      <td>1   casuarina concourse</td>\n",
       "      <td>1</td>\n",
       "    </tr>\n",
       "    <tr>\n",
       "      <td>4</td>\n",
       "      <td>1   century ln</td>\n",
       "      <td>32</td>\n",
       "    </tr>\n",
       "  </tbody>\n",
       "</table>\n",
       "</div>"
      ],
      "text/plain": [
       "     residence_addr_line_1  count\n",
       "0         1   alhambra cir     31\n",
       "1        1   andalusia ave    139\n",
       "2          1   arvida pkwy      2\n",
       "3  1   casuarina concourse      1\n",
       "4           1   century ln     32"
      ]
     },
     "execution_count": 171,
     "metadata": {},
     "output_type": "execute_result"
    }
   ],
   "source": [
    "b.head()"
   ]
  },
  {
   "cell_type": "code",
   "execution_count": 172,
   "metadata": {},
   "outputs": [
    {
     "data": {
      "text/html": [
       "<div>\n",
       "<style scoped>\n",
       "    .dataframe tbody tr th:only-of-type {\n",
       "        vertical-align: middle;\n",
       "    }\n",
       "\n",
       "    .dataframe tbody tr th {\n",
       "        vertical-align: top;\n",
       "    }\n",
       "\n",
       "    .dataframe thead th {\n",
       "        text-align: right;\n",
       "    }\n",
       "</style>\n",
       "<table border=\"1\" class=\"dataframe\">\n",
       "  <thead>\n",
       "    <tr style=\"text-align: right;\">\n",
       "      <th></th>\n",
       "      <th>residence_addr_line_1</th>\n",
       "      <th>count</th>\n",
       "    </tr>\n",
       "  </thead>\n",
       "  <tbody>\n",
       "    <tr>\n",
       "      <td>204996</td>\n",
       "      <td>2700  nw 87th ave</td>\n",
       "      <td>2920</td>\n",
       "    </tr>\n",
       "    <tr>\n",
       "      <td>205042</td>\n",
       "      <td>2700 d nw 87th ave</td>\n",
       "      <td>1310</td>\n",
       "    </tr>\n",
       "    <tr>\n",
       "      <td>52301</td>\n",
       "      <td>1231   dickinson dr</td>\n",
       "      <td>454</td>\n",
       "    </tr>\n",
       "    <tr>\n",
       "      <td>164258</td>\n",
       "      <td>19800  sw 180th ave</td>\n",
       "      <td>440</td>\n",
       "    </tr>\n",
       "    <tr>\n",
       "      <td>155095</td>\n",
       "      <td>1900  n bayshore dr</td>\n",
       "      <td>424</td>\n",
       "    </tr>\n",
       "    <tr>\n",
       "      <td>...</td>\n",
       "      <td>...</td>\n",
       "      <td>...</td>\n",
       "    </tr>\n",
       "    <tr>\n",
       "      <td>176865</td>\n",
       "      <td>2111  ne 210th st</td>\n",
       "      <td>1</td>\n",
       "    </tr>\n",
       "    <tr>\n",
       "      <td>176868</td>\n",
       "      <td>2111  ne 212th st</td>\n",
       "      <td>1</td>\n",
       "    </tr>\n",
       "    <tr>\n",
       "      <td>176869</td>\n",
       "      <td>2111  ne 37th rd</td>\n",
       "      <td>1</td>\n",
       "    </tr>\n",
       "    <tr>\n",
       "      <td>176871</td>\n",
       "      <td>2111  ne 40th ave</td>\n",
       "      <td>1</td>\n",
       "    </tr>\n",
       "    <tr>\n",
       "      <td>376642</td>\n",
       "      <td>9999  sw 89th ct</td>\n",
       "      <td>1</td>\n",
       "    </tr>\n",
       "  </tbody>\n",
       "</table>\n",
       "<p>376643 rows × 2 columns</p>\n",
       "</div>"
      ],
      "text/plain": [
       "       residence_addr_line_1  count\n",
       "204996     2700  nw 87th ave   2920\n",
       "205042    2700 d nw 87th ave   1310\n",
       "52301    1231   dickinson dr    454\n",
       "164258   19800  sw 180th ave    440\n",
       "155095   1900  n bayshore dr    424\n",
       "...                      ...    ...\n",
       "176865     2111  ne 210th st      1\n",
       "176868     2111  ne 212th st      1\n",
       "176869      2111  ne 37th rd      1\n",
       "176871     2111  ne 40th ave      1\n",
       "376642      9999  sw 89th ct      1\n",
       "\n",
       "[376643 rows x 2 columns]"
      ]
     },
     "execution_count": 172,
     "metadata": {},
     "output_type": "execute_result"
    }
   ],
   "source": [
    "b.sort_values(by='count', ascending=False)"
   ]
  },
  {
   "cell_type": "code",
   "execution_count": 173,
   "metadata": {},
   "outputs": [
    {
     "data": {
      "text/plain": [
       "(169775, 2)"
      ]
     },
     "execution_count": 173,
     "metadata": {},
     "output_type": "execute_result"
    }
   ],
   "source": [
    "b[b['count'] == 1].shape"
   ]
  },
  {
   "cell_type": "code",
   "execution_count": 159,
   "metadata": {},
   "outputs": [
    {
     "data": {
      "text/plain": [
       "2700  nw 87th ave  doral 33172                 2919\n",
       "2700 d nw 87th ave  doral 33172                1306\n",
       "2700 c nw 87th ave  doral 33172                 420\n",
       "2700 f nw 87th ave  doral 33172                 412\n",
       "15800  nw 42nd ave  miami gardens 33054         300\n",
       "                                               ... \n",
       "701   swan ave  miami springs 33166               1\n",
       "1017  nw 132nd ave w  miami 33182                 1\n",
       "7929   west dr apt 1002 n bay village 33141       1\n",
       "13218  nw 4th ter  miami 33182                    1\n",
       "7730   camino real f108 miami 33143               1\n",
       "Name: uniq_addr, Length: 584212, dtype: int64"
      ]
     },
     "execution_count": 159,
     "metadata": {},
     "output_type": "execute_result"
    }
   ],
   "source": [
    "global_df['residence_addr_line_1'].value_counts()"
   ]
  },
  {
   "cell_type": "code",
   "execution_count": 174,
   "metadata": {},
   "outputs": [
    {
     "data": {
      "text/plain": [
       "(376643, 2)"
      ]
     },
     "execution_count": 174,
     "metadata": {},
     "output_type": "execute_result"
    }
   ],
   "source": [
    "b.shape"
   ]
  },
  {
   "cell_type": "code",
   "execution_count": null,
   "metadata": {},
   "outputs": [],
   "source": []
  }
 ],
 "metadata": {
  "kernelspec": {
   "display_name": "Python 3",
   "language": "python",
   "name": "python3"
  },
  "language_info": {
   "codemirror_mode": {
    "name": "ipython",
    "version": 3
   },
   "file_extension": ".py",
   "mimetype": "text/x-python",
   "name": "python",
   "nbconvert_exporter": "python",
   "pygments_lexer": "ipython3",
   "version": "3.7.4"
  }
 },
 "nbformat": 4,
 "nbformat_minor": 4
}
