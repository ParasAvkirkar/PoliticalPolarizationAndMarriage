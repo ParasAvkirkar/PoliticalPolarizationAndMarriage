{
 "cells": [
  {
   "cell_type": "code",
   "execution_count": 158,
   "metadata": {},
   "outputs": [],
   "source": [
    "import pandas as pd\n",
    "import random\n",
    "import numpy as np\n",
    "import time\n",
    "import math\n",
    "import sys\n",
    "import matplotlib.patches as mpatches\n",
    "import matplotlib.pyplot as plt\n",
    "import seaborn as sns\n",
    "import xgboost as xgb\n",
    "import datatable as dt\n",
    "\n",
    "from xgboost import plot_tree\n",
    "from os import walk\n",
    "from os import listdir\n",
    "from os.path import isfile, join\n",
    "from scipy.spatial.distance import euclidean, pdist, squareform\n",
    "from scipy.stats import skew\n",
    "from scipy.special import expit as sigmoid\n",
    "from scipy.cluster.hierarchy import fclusterdata\n",
    "from pandas.plotting import autocorrelation_plot\n",
    "from sklearn.model_selection import train_test_split\n",
    "from sklearn.linear_model import LogisticRegression\n",
    "from sklearn.linear_model import LinearRegression\n",
    "from sklearn.ensemble import RandomForestClassifier\n",
    "from sklearn import tree\n",
    "from sklearn.metrics import precision_recall_fscore_support\n",
    "from sklearn import preprocessing\n",
    "from sklearn.metrics import confusion_matrix\n",
    "from sklearn.metrics import roc_auc_score\n",
    "from sklearn.utils import resample\n",
    "from imblearn.over_sampling import SMOTE, ADASYN\n",
    "from imblearn.under_sampling import ClusterCentroids\n",
    "from imblearn.under_sampling import RandomUnderSampler\n",
    "from sklearn.preprocessing import LabelEncoder\n",
    "from sklearn.metrics import pairwise_distances\n",
    "from sklearn.cluster import AgglomerativeClustering\n",
    "from sklearn.manifold import TSNE\n",
    "from sklearn.metrics import mean_absolute_error\n",
    "from sklearn.metrics import mean_squared_error"
   ]
  },
  {
   "cell_type": "code",
   "execution_count": 159,
   "metadata": {},
   "outputs": [],
   "source": [
    "DATA_PATH = ''\n",
    "#HISTORY_PATH = \"Voter_History_{0}\"\n",
    "PREPROCESSED_PATH = \"preprocessed/{0}/florida_processed_{0}.csv\"\n",
    "COUPLES_PATH=\"couples/{0}/couples_{0}.csv\"\n",
    "#COUPLES_PATH=\"couples/{0}/couples_FLA_{0}.csv\""
   ]
  },
  {
   "cell_type": "code",
   "execution_count": 160,
   "metadata": {},
   "outputs": [
    {
     "name": "stderr",
     "output_type": "stream",
     "text": [
      "usage: ipykernel_launcher.py [-h] [--old OLD_DATE] [--new NEW_DATE]\n",
      "ipykernel_launcher.py: error: unrecognized arguments: -f /home/rahullachh/.local/share/jupyter/runtime/kernel-9717e402-a4a6-40ec-8da8-cefb52b7cb35.json\n"
     ]
    },
    {
     "ename": "SystemExit",
     "evalue": "2",
     "output_type": "error",
     "traceback": [
      "An exception has occurred, use %tb to see the full traceback.\n",
      "\u001b[0;31mSystemExit\u001b[0m\u001b[0;31m:\u001b[0m 2\n"
     ]
    }
   ],
   "source": [
    "import argparse\n",
    "\n",
    "parser = argparse.ArgumentParser()\n",
    "\n",
    "parser.add_argument('--old', dest='old_date', action='store', type=str, help='old date value')\n",
    "parser.add_argument('--new', dest='new_date', action='store', type=str, help='new date value')\n",
    "\n",
    "args = parser.parse_args()"
   ]
  },
  {
   "cell_type": "code",
   "execution_count": 161,
   "metadata": {},
   "outputs": [],
   "source": [
    "#preprocessed_date = args.new_date\n",
    "preprocessed_date = str(20190910)"
   ]
  },
  {
   "cell_type": "code",
   "execution_count": 162,
   "metadata": {},
   "outputs": [],
   "source": [
    "#couples_date = args.old_date\n",
    "couples_date = str(20140319)"
   ]
  },
  {
   "cell_type": "code",
   "execution_count": 163,
   "metadata": {},
   "outputs": [],
   "source": [
    "image_file_prefix = couples_date + \"_\" + preprocessed_date\n",
    "stat_file_prefix =  couples_date + \"_\" + preprocessed_date\n",
    "\n",
    "import os\n",
    "if not os.path.exists(\"plots/\" + image_file_prefix):\n",
    "    os.makedirs(\"plots/\" + image_file_prefix)\n",
    "\n",
    "if not os.path.exists(\"stats/\" + stat_file_prefix):\n",
    "    os.makedirs(\"stats/\" + stat_file_prefix)\n",
    "    \n",
    "stat_file_path = \"stats/\" + stat_file_prefix + \"/\""
   ]
  },
  {
   "cell_type": "code",
   "execution_count": 164,
   "metadata": {},
   "outputs": [],
   "source": [
    "global_df = pd.read_csv(PREPROCESSED_PATH.format(preprocessed_date) , sep='\\t')"
   ]
  },
  {
   "cell_type": "code",
   "execution_count": 174,
   "metadata": {},
   "outputs": [],
   "source": [
    "#global_df.residence_zipcode_5.unique().shape\n",
    "zip_df = pd.read_csv(\"us-zipcode.csv\" , sep=';')"
   ]
  },
  {
   "cell_type": "code",
   "execution_count": 175,
   "metadata": {},
   "outputs": [
    {
     "data": {
      "text/html": [
       "<div>\n",
       "<style scoped>\n",
       "    .dataframe tbody tr th:only-of-type {\n",
       "        vertical-align: middle;\n",
       "    }\n",
       "\n",
       "    .dataframe tbody tr th {\n",
       "        vertical-align: top;\n",
       "    }\n",
       "\n",
       "    .dataframe thead th {\n",
       "        text-align: right;\n",
       "    }\n",
       "</style>\n",
       "<table border=\"1\" class=\"dataframe\">\n",
       "  <thead>\n",
       "    <tr style=\"text-align: right;\">\n",
       "      <th></th>\n",
       "      <th>Zip</th>\n",
       "      <th>City</th>\n",
       "      <th>State</th>\n",
       "      <th>Latitude</th>\n",
       "      <th>Longitude</th>\n",
       "      <th>Timezone</th>\n",
       "      <th>Daylight savings time flag</th>\n",
       "      <th>geopoint</th>\n",
       "    </tr>\n",
       "  </thead>\n",
       "  <tbody>\n",
       "    <tr>\n",
       "      <td>0</td>\n",
       "      <td>33446</td>\n",
       "      <td>Delray Beach</td>\n",
       "      <td>FL</td>\n",
       "      <td>26.452473</td>\n",
       "      <td>-80.165090</td>\n",
       "      <td>-5</td>\n",
       "      <td>1</td>\n",
       "      <td>26.452473,-80.16509</td>\n",
       "    </tr>\n",
       "    <tr>\n",
       "      <td>1</td>\n",
       "      <td>32621</td>\n",
       "      <td>Bronson</td>\n",
       "      <td>FL</td>\n",
       "      <td>29.447069</td>\n",
       "      <td>-82.604520</td>\n",
       "      <td>-5</td>\n",
       "      <td>1</td>\n",
       "      <td>29.447069,-82.60452</td>\n",
       "    </tr>\n",
       "    <tr>\n",
       "      <td>2</td>\n",
       "      <td>34447</td>\n",
       "      <td>Homosassa Springs</td>\n",
       "      <td>FL</td>\n",
       "      <td>28.804911</td>\n",
       "      <td>-82.574264</td>\n",
       "      <td>-5</td>\n",
       "      <td>1</td>\n",
       "      <td>28.804911,-82.574264</td>\n",
       "    </tr>\n",
       "    <tr>\n",
       "      <td>3</td>\n",
       "      <td>34489</td>\n",
       "      <td>Silver Springs</td>\n",
       "      <td>FL</td>\n",
       "      <td>29.215153</td>\n",
       "      <td>-82.097163</td>\n",
       "      <td>-5</td>\n",
       "      <td>1</td>\n",
       "      <td>29.215153,-82.097163</td>\n",
       "    </tr>\n",
       "    <tr>\n",
       "      <td>4</td>\n",
       "      <td>32503</td>\n",
       "      <td>Pensacola</td>\n",
       "      <td>FL</td>\n",
       "      <td>30.447997</td>\n",
       "      <td>-87.207270</td>\n",
       "      <td>-6</td>\n",
       "      <td>1</td>\n",
       "      <td>30.447997,-87.20727</td>\n",
       "    </tr>\n",
       "  </tbody>\n",
       "</table>\n",
       "</div>"
      ],
      "text/plain": [
       "     Zip               City State   Latitude  Longitude  Timezone  \\\n",
       "0  33446       Delray Beach    FL  26.452473 -80.165090        -5   \n",
       "1  32621            Bronson    FL  29.447069 -82.604520        -5   \n",
       "2  34447  Homosassa Springs    FL  28.804911 -82.574264        -5   \n",
       "3  34489     Silver Springs    FL  29.215153 -82.097163        -5   \n",
       "4  32503          Pensacola    FL  30.447997 -87.207270        -6   \n",
       "\n",
       "   Daylight savings time flag              geopoint  \n",
       "0                           1   26.452473,-80.16509  \n",
       "1                           1   29.447069,-82.60452  \n",
       "2                           1  28.804911,-82.574264  \n",
       "3                           1  29.215153,-82.097163  \n",
       "4                           1   30.447997,-87.20727  "
      ]
     },
     "execution_count": 175,
     "metadata": {},
     "output_type": "execute_result"
    }
   ],
   "source": [
    "zip_df.head()"
   ]
  },
  {
   "cell_type": "code",
   "execution_count": 258,
   "metadata": {},
   "outputs": [
    {
     "data": {
      "text/html": [
       "<div>\n",
       "<style scoped>\n",
       "    .dataframe tbody tr th:only-of-type {\n",
       "        vertical-align: middle;\n",
       "    }\n",
       "\n",
       "    .dataframe tbody tr th {\n",
       "        vertical-align: top;\n",
       "    }\n",
       "\n",
       "    .dataframe thead th {\n",
       "        text-align: right;\n",
       "    }\n",
       "</style>\n",
       "<table border=\"1\" class=\"dataframe\">\n",
       "  <thead>\n",
       "    <tr style=\"text-align: right;\">\n",
       "      <th></th>\n",
       "      <th>county_code</th>\n",
       "      <th>voter_id</th>\n",
       "      <th>last_name</th>\n",
       "      <th>first_name</th>\n",
       "      <th>residence_addr_line_1</th>\n",
       "      <th>residence_addr_line_2</th>\n",
       "      <th>residence_city</th>\n",
       "      <th>residence_zipcode</th>\n",
       "      <th>gender</th>\n",
       "      <th>race</th>\n",
       "      <th>...</th>\n",
       "      <th>voter_status</th>\n",
       "      <th>age</th>\n",
       "      <th>residence_zipcode_5</th>\n",
       "      <th>residence_zipcode_4</th>\n",
       "      <th>uniq_addr</th>\n",
       "      <th>Zip</th>\n",
       "      <th>Latitude</th>\n",
       "      <th>Longitude</th>\n",
       "      <th>geopoint</th>\n",
       "      <th>race_desc</th>\n",
       "    </tr>\n",
       "  </thead>\n",
       "  <tbody>\n",
       "    <tr>\n",
       "      <td>0</td>\n",
       "      <td>ALA</td>\n",
       "      <td>100419592</td>\n",
       "      <td>martin</td>\n",
       "      <td>william</td>\n",
       "      <td>3814  nw 266th st</td>\n",
       "      <td>NaN</td>\n",
       "      <td>newberry</td>\n",
       "      <td>32669</td>\n",
       "      <td>M</td>\n",
       "      <td>5</td>\n",
       "      <td>...</td>\n",
       "      <td>ACT</td>\n",
       "      <td>47</td>\n",
       "      <td>32669</td>\n",
       "      <td>NaN</td>\n",
       "      <td>3814  nw 266th st  newberry 32669</td>\n",
       "      <td>32669</td>\n",
       "      <td>29.640613</td>\n",
       "      <td>-82.59446</td>\n",
       "      <td>29.640613,-82.59446</td>\n",
       "      <td>White</td>\n",
       "    </tr>\n",
       "    <tr>\n",
       "      <td>1</td>\n",
       "      <td>ALA</td>\n",
       "      <td>102183223</td>\n",
       "      <td>mulaiya</td>\n",
       "      <td>doodnauth</td>\n",
       "      <td>2296  nw 147th st</td>\n",
       "      <td>NaN</td>\n",
       "      <td>newberry</td>\n",
       "      <td>32669</td>\n",
       "      <td>M</td>\n",
       "      <td>2</td>\n",
       "      <td>...</td>\n",
       "      <td>ACT</td>\n",
       "      <td>78</td>\n",
       "      <td>32669</td>\n",
       "      <td>NaN</td>\n",
       "      <td>2296  nw 147th st  newberry 32669</td>\n",
       "      <td>32669</td>\n",
       "      <td>29.640613</td>\n",
       "      <td>-82.59446</td>\n",
       "      <td>29.640613,-82.59446</td>\n",
       "      <td>Asian/Pacific Islander</td>\n",
       "    </tr>\n",
       "    <tr>\n",
       "      <td>2</td>\n",
       "      <td>ALA</td>\n",
       "      <td>100518300</td>\n",
       "      <td>stowers</td>\n",
       "      <td>gary</td>\n",
       "      <td>25427  sw 16th ave</td>\n",
       "      <td>NaN</td>\n",
       "      <td>newberry</td>\n",
       "      <td>32669</td>\n",
       "      <td>M</td>\n",
       "      <td>5</td>\n",
       "      <td>...</td>\n",
       "      <td>ACT</td>\n",
       "      <td>70</td>\n",
       "      <td>32669</td>\n",
       "      <td>NaN</td>\n",
       "      <td>25427  sw 16th ave  newberry 32669</td>\n",
       "      <td>32669</td>\n",
       "      <td>29.640613</td>\n",
       "      <td>-82.59446</td>\n",
       "      <td>29.640613,-82.59446</td>\n",
       "      <td>White</td>\n",
       "    </tr>\n",
       "    <tr>\n",
       "      <td>3</td>\n",
       "      <td>ALA</td>\n",
       "      <td>100576200</td>\n",
       "      <td>carrasquillo</td>\n",
       "      <td>alberto</td>\n",
       "      <td>25746  nw 5th ave</td>\n",
       "      <td>NaN</td>\n",
       "      <td>newberry</td>\n",
       "      <td>32669</td>\n",
       "      <td>M</td>\n",
       "      <td>4</td>\n",
       "      <td>...</td>\n",
       "      <td>ACT</td>\n",
       "      <td>55</td>\n",
       "      <td>32669</td>\n",
       "      <td>NaN</td>\n",
       "      <td>25746  nw 5th ave  newberry 32669</td>\n",
       "      <td>32669</td>\n",
       "      <td>29.640613</td>\n",
       "      <td>-82.59446</td>\n",
       "      <td>29.640613,-82.59446</td>\n",
       "      <td>Hispanic</td>\n",
       "    </tr>\n",
       "    <tr>\n",
       "      <td>4</td>\n",
       "      <td>ALA</td>\n",
       "      <td>100443200</td>\n",
       "      <td>rezaei</td>\n",
       "      <td>saima</td>\n",
       "      <td>13616  sw 4th ln</td>\n",
       "      <td>NaN</td>\n",
       "      <td>newberry</td>\n",
       "      <td>32669</td>\n",
       "      <td>F</td>\n",
       "      <td>5</td>\n",
       "      <td>...</td>\n",
       "      <td>ACT</td>\n",
       "      <td>52</td>\n",
       "      <td>32669</td>\n",
       "      <td>NaN</td>\n",
       "      <td>13616  sw 4th ln  newberry 32669</td>\n",
       "      <td>32669</td>\n",
       "      <td>29.640613</td>\n",
       "      <td>-82.59446</td>\n",
       "      <td>29.640613,-82.59446</td>\n",
       "      <td>White</td>\n",
       "    </tr>\n",
       "  </tbody>\n",
       "</table>\n",
       "<p>5 rows × 24 columns</p>\n",
       "</div>"
      ],
      "text/plain": [
       "  county_code   voter_id     last_name first_name residence_addr_line_1  \\\n",
       "0         ALA  100419592        martin    william     3814  nw 266th st   \n",
       "1         ALA  102183223       mulaiya  doodnauth     2296  nw 147th st   \n",
       "2         ALA  100518300       stowers       gary    25427  sw 16th ave   \n",
       "3         ALA  100576200  carrasquillo    alberto     25746  nw 5th ave   \n",
       "4         ALA  100443200        rezaei      saima      13616  sw 4th ln   \n",
       "\n",
       "  residence_addr_line_2 residence_city  residence_zipcode gender  race  ...  \\\n",
       "0                   NaN       newberry              32669      M     5  ...   \n",
       "1                   NaN       newberry              32669      M     2  ...   \n",
       "2                   NaN       newberry              32669      M     5  ...   \n",
       "3                   NaN       newberry              32669      M     4  ...   \n",
       "4                   NaN       newberry              32669      F     5  ...   \n",
       "\n",
       "  voter_status age residence_zipcode_5 residence_zipcode_4  \\\n",
       "0          ACT  47               32669                 NaN   \n",
       "1          ACT  78               32669                 NaN   \n",
       "2          ACT  70               32669                 NaN   \n",
       "3          ACT  55               32669                 NaN   \n",
       "4          ACT  52               32669                 NaN   \n",
       "\n",
       "                            uniq_addr    Zip   Latitude  Longitude  \\\n",
       "0   3814  nw 266th st  newberry 32669  32669  29.640613  -82.59446   \n",
       "1   2296  nw 147th st  newberry 32669  32669  29.640613  -82.59446   \n",
       "2  25427  sw 16th ave  newberry 32669  32669  29.640613  -82.59446   \n",
       "3   25746  nw 5th ave  newberry 32669  32669  29.640613  -82.59446   \n",
       "4    13616  sw 4th ln  newberry 32669  32669  29.640613  -82.59446   \n",
       "\n",
       "              geopoint               race_desc  \n",
       "0  29.640613,-82.59446                   White  \n",
       "1  29.640613,-82.59446  Asian/Pacific Islander  \n",
       "2  29.640613,-82.59446                   White  \n",
       "3  29.640613,-82.59446                Hispanic  \n",
       "4  29.640613,-82.59446                   White  \n",
       "\n",
       "[5 rows x 24 columns]"
      ]
     },
     "execution_count": 258,
     "metadata": {},
     "output_type": "execute_result"
    }
   ],
   "source": [
    "global_df.head()"
   ]
  },
  {
   "cell_type": "code",
   "execution_count": null,
   "metadata": {},
   "outputs": [],
   "source": [
    "zip_df_ = zip_df[['Zip','Latitude','Longitude','geopoint']]\n",
    "global_df = pd.merge(global_df, zip_df_, left_on=[\"residence_zipcode\"], right_on=[\"Zip\"])"
   ]
  },
  {
   "cell_type": "code",
   "execution_count": 177,
   "metadata": {},
   "outputs": [],
   "source": [
    "req_cols = ['last_name', 'race', 'first_name']\n",
    "global_df = global_df.dropna(subset=req_cols)"
   ]
  },
  {
   "cell_type": "code",
   "execution_count": 178,
   "metadata": {},
   "outputs": [
    {
     "data": {
      "text/plain": [
       "county_code                     0\n",
       "voter_id                        0\n",
       "last_name                       0\n",
       "first_name                      0\n",
       "residence_addr_line_1           0\n",
       "residence_addr_line_2    11496956\n",
       "residence_city                  0\n",
       "residence_zipcode               0\n",
       "gender                          0\n",
       "race                            0\n",
       "birth_date                      0\n",
       "registration_date               0\n",
       "party_affiliation               0\n",
       "precinct                        0\n",
       "voter_status                    0\n",
       "age                             0\n",
       "residence_zipcode_5             0\n",
       "residence_zipcode_4      12037566\n",
       "uniq_addr                       0\n",
       "dtype: int64"
      ]
     },
     "execution_count": 178,
     "metadata": {},
     "output_type": "execute_result"
    }
   ],
   "source": [
    "global_df.isnull().sum()"
   ]
  },
  {
   "cell_type": "code",
   "execution_count": 179,
   "metadata": {},
   "outputs": [
    {
     "data": {
      "text/plain": [
       "(14125318, 19)"
      ]
     },
     "execution_count": 179,
     "metadata": {},
     "output_type": "execute_result"
    }
   ],
   "source": [
    "global_df.shape"
   ]
  },
  {
   "cell_type": "code",
   "execution_count": 194,
   "metadata": {},
   "outputs": [],
   "source": [
    "couples_df = pd.read_csv(COUPLES_PATH.format(couples_date) , sep='\\t')"
   ]
  },
  {
   "cell_type": "code",
   "execution_count": 195,
   "metadata": {},
   "outputs": [
    {
     "data": {
      "text/html": [
       "<div>\n",
       "<style scoped>\n",
       "    .dataframe tbody tr th:only-of-type {\n",
       "        vertical-align: middle;\n",
       "    }\n",
       "\n",
       "    .dataframe tbody tr th {\n",
       "        vertical-align: top;\n",
       "    }\n",
       "\n",
       "    .dataframe thead th {\n",
       "        text-align: right;\n",
       "    }\n",
       "</style>\n",
       "<table border=\"1\" class=\"dataframe\">\n",
       "  <thead>\n",
       "    <tr style=\"text-align: right;\">\n",
       "      <th></th>\n",
       "      <th>uniq_addr</th>\n",
       "    </tr>\n",
       "  </thead>\n",
       "  <tbody>\n",
       "    <tr>\n",
       "      <td>0</td>\n",
       "      <td>1   clay county  grn cv spgs 32043</td>\n",
       "    </tr>\n",
       "    <tr>\n",
       "      <td>1</td>\n",
       "      <td>4923   adra ct  fleming island 32003</td>\n",
       "    </tr>\n",
       "    <tr>\n",
       "      <td>2</td>\n",
       "      <td>2332   birdwood dr  orange park 32073</td>\n",
       "    </tr>\n",
       "    <tr>\n",
       "      <td>3</td>\n",
       "      <td>3016   alpaca ave  middleburg 32068</td>\n",
       "    </tr>\n",
       "    <tr>\n",
       "      <td>4</td>\n",
       "      <td>6653   immokalee rd  keystone heights 32656</td>\n",
       "    </tr>\n",
       "  </tbody>\n",
       "</table>\n",
       "</div>"
      ],
      "text/plain": [
       "                                     uniq_addr\n",
       "0           1   clay county  grn cv spgs 32043\n",
       "1         4923   adra ct  fleming island 32003\n",
       "2        2332   birdwood dr  orange park 32073\n",
       "3          3016   alpaca ave  middleburg 32068\n",
       "4  6653   immokalee rd  keystone heights 32656"
      ]
     },
     "execution_count": 195,
     "metadata": {},
     "output_type": "execute_result"
    }
   ],
   "source": [
    "couples_df[[\"uniq_addr\"]].head()"
   ]
  },
  {
   "cell_type": "code",
   "execution_count": 205,
   "metadata": {},
   "outputs": [],
   "source": [
    "addr_df = global_df[[\"voter_id\",\"uniq_addr\",\"Latitude\",\"Longitude\"]]"
   ]
  },
  {
   "cell_type": "markdown",
   "metadata": {},
   "source": [
    "## Collecting Addresses of voters"
   ]
  },
  {
   "cell_type": "code",
   "execution_count": 206,
   "metadata": {},
   "outputs": [],
   "source": [
    "couples_df_found = pd.merge(couples_df, addr_df, left_on=[\"voter_id_L\"], right_on=[\"voter_id\"], suffixes=[\"\",\"_L\"])"
   ]
  },
  {
   "cell_type": "code",
   "execution_count": 207,
   "metadata": {},
   "outputs": [],
   "source": [
    "del couples_df_found['voter_id']"
   ]
  },
  {
   "cell_type": "code",
   "execution_count": 208,
   "metadata": {},
   "outputs": [],
   "source": [
    "couples_df_found = pd.merge(couples_df_found, addr_df, left_on=[\"voter_id_R\"], right_on=[\"voter_id\"], suffixes=[\"\",\"_R\"])"
   ]
  },
  {
   "cell_type": "markdown",
   "metadata": {},
   "source": [
    "Merging Lat Long"
   ]
  },
  {
   "cell_type": "code",
   "execution_count": 260,
   "metadata": {},
   "outputs": [
    {
     "data": {
      "text/plain": [
       "Index(['county_code_L', 'voter_id_L', 'last_name_L', 'first_name_L',\n",
       "       'residence_addr_line_1_L', 'residence_addr_line_2_L',\n",
       "       'residence_city_L', 'residence_zipcode_L', 'gender_L', 'race_L',\n",
       "       'birth_date_L', 'registration_date_L', 'party_affiliation_L',\n",
       "       'precinct_L', 'voter_status_L', 'age_L', 'residence_zipcode_5_L',\n",
       "       'residence_zipcode_4_L', 'uniq_addr', 'county_code_R', 'voter_id_R',\n",
       "       'last_name_R', 'first_name_R', 'residence_addr_line_1_R',\n",
       "       'residence_addr_line_2_R', 'residence_city_R', 'residence_zipcode_R',\n",
       "       'gender_R', 'race_R', 'birth_date_R', 'registration_date_R',\n",
       "       'party_affiliation_R', 'precinct_R', 'voter_status_R', 'age_R',\n",
       "       'residence_zipcode_5_R', 'residence_zipcode_4_R', 'age_diff',\n",
       "       'uniq_addr_L', 'Latitude', 'Longitude', 'uniq_addr_R', 'Latitude_R',\n",
       "       'Longitude_R', 'separated', 'race_desc_L', 'race_desc_R'],\n",
       "      dtype='object')"
      ]
     },
     "execution_count": 260,
     "metadata": {},
     "output_type": "execute_result"
    }
   ],
   "source": [
    "couples_df_found.columns"
   ]
  },
  {
   "cell_type": "markdown",
   "metadata": {},
   "source": [
    "### Removing extra column generated of voter id"
   ]
  },
  {
   "cell_type": "code",
   "execution_count": 209,
   "metadata": {},
   "outputs": [],
   "source": [
    "del couples_df_found['voter_id']"
   ]
  },
  {
   "cell_type": "code",
   "execution_count": 210,
   "metadata": {},
   "outputs": [
    {
     "data": {
      "text/html": [
       "<div>\n",
       "<style scoped>\n",
       "    .dataframe tbody tr th:only-of-type {\n",
       "        vertical-align: middle;\n",
       "    }\n",
       "\n",
       "    .dataframe tbody tr th {\n",
       "        vertical-align: top;\n",
       "    }\n",
       "\n",
       "    .dataframe thead th {\n",
       "        text-align: right;\n",
       "    }\n",
       "</style>\n",
       "<table border=\"1\" class=\"dataframe\">\n",
       "  <thead>\n",
       "    <tr style=\"text-align: right;\">\n",
       "      <th></th>\n",
       "      <th>voter_id_L</th>\n",
       "      <th>voter_id_R</th>\n",
       "      <th>uniq_addr_L</th>\n",
       "      <th>uniq_addr_R</th>\n",
       "    </tr>\n",
       "  </thead>\n",
       "  <tbody>\n",
       "    <tr>\n",
       "      <td>0</td>\n",
       "      <td>102842993</td>\n",
       "      <td>102860174</td>\n",
       "      <td>554   oakmont dr  orange park 32073</td>\n",
       "      <td>554   oakmont dr  orange park 32073</td>\n",
       "    </tr>\n",
       "    <tr>\n",
       "      <td>1</td>\n",
       "      <td>102845812</td>\n",
       "      <td>102851128</td>\n",
       "      <td>2672   holly point rd w  orange park 32073</td>\n",
       "      <td>2672   holly point rd w  orange park 32073</td>\n",
       "    </tr>\n",
       "    <tr>\n",
       "      <td>2</td>\n",
       "      <td>102842958</td>\n",
       "      <td>102880507</td>\n",
       "      <td>962   sweetwood ct  orange park 32065</td>\n",
       "      <td>962   sweetwood ct  orange park 32065</td>\n",
       "    </tr>\n",
       "    <tr>\n",
       "      <td>3</td>\n",
       "      <td>102843200</td>\n",
       "      <td>102843421</td>\n",
       "      <td>3060   tower oaks dr  orange park 32065</td>\n",
       "      <td>3060   tower oaks dr  orange park 32065</td>\n",
       "    </tr>\n",
       "    <tr>\n",
       "      <td>4</td>\n",
       "      <td>102844398</td>\n",
       "      <td>102844399</td>\n",
       "      <td>1571   glen view st  middleburg 32068</td>\n",
       "      <td>1571   glen view st  middleburg 32068</td>\n",
       "    </tr>\n",
       "  </tbody>\n",
       "</table>\n",
       "</div>"
      ],
      "text/plain": [
       "   voter_id_L  voter_id_R                                 uniq_addr_L  \\\n",
       "0   102842993   102860174         554   oakmont dr  orange park 32073   \n",
       "1   102845812   102851128  2672   holly point rd w  orange park 32073   \n",
       "2   102842958   102880507       962   sweetwood ct  orange park 32065   \n",
       "3   102843200   102843421     3060   tower oaks dr  orange park 32065   \n",
       "4   102844398   102844399       1571   glen view st  middleburg 32068   \n",
       "\n",
       "                                  uniq_addr_R  \n",
       "0         554   oakmont dr  orange park 32073  \n",
       "1  2672   holly point rd w  orange park 32073  \n",
       "2       962   sweetwood ct  orange park 32065  \n",
       "3     3060   tower oaks dr  orange park 32065  \n",
       "4       1571   glen view st  middleburg 32068  "
      ]
     },
     "execution_count": 210,
     "metadata": {},
     "output_type": "execute_result"
    }
   ],
   "source": [
    "couples_df_found[[\"voter_id_L\",\"voter_id_R\", \"uniq_addr_L\",\"uniq_addr_R\"]].head()"
   ]
  },
  {
   "cell_type": "code",
   "execution_count": 211,
   "metadata": {},
   "outputs": [],
   "source": [
    "couples_df_found['separated'] = couples_df_found.apply(lambda x : x.uniq_addr_L != x.uniq_addr_R, axis=1)"
   ]
  },
  {
   "cell_type": "markdown",
   "metadata": {},
   "source": [
    "## Separation percentage"
   ]
  },
  {
   "cell_type": "code",
   "execution_count": 212,
   "metadata": {},
   "outputs": [
    {
     "data": {
      "text/plain": [
       "False    1416170\n",
       "True      271468\n",
       "Name: separated, dtype: int64"
      ]
     },
     "execution_count": 212,
     "metadata": {},
     "output_type": "execute_result"
    }
   ],
   "source": [
    "couples_df_found['separated'].value_counts()"
   ]
  },
  {
   "cell_type": "code",
   "execution_count": 213,
   "metadata": {},
   "outputs": [
    {
     "data": {
      "text/plain": [
       "False    0.839143\n",
       "True     0.160857\n",
       "Name: separated, dtype: float64"
      ]
     },
     "execution_count": 213,
     "metadata": {},
     "output_type": "execute_result"
    }
   ],
   "source": [
    "couples_df_found['separated'].value_counts()/couples_df_found['separated'].shape"
   ]
  },
  {
   "cell_type": "code",
   "execution_count": 143,
   "metadata": {},
   "outputs": [
    {
     "data": {
      "text/plain": [
       "(7455943,)"
      ]
     },
     "execution_count": 143,
     "metadata": {},
     "output_type": "execute_result"
    }
   ],
   "source": [
    "global_df['uniq_addr'].unique().shape"
   ]
  },
  {
   "cell_type": "code",
   "execution_count": 214,
   "metadata": {},
   "outputs": [
    {
     "data": {
      "text/html": [
       "<div>\n",
       "<style scoped>\n",
       "    .dataframe tbody tr th:only-of-type {\n",
       "        vertical-align: middle;\n",
       "    }\n",
       "\n",
       "    .dataframe tbody tr th {\n",
       "        vertical-align: top;\n",
       "    }\n",
       "\n",
       "    .dataframe thead th {\n",
       "        text-align: right;\n",
       "    }\n",
       "</style>\n",
       "<table border=\"1\" class=\"dataframe\">\n",
       "  <thead>\n",
       "    <tr style=\"text-align: right;\">\n",
       "      <th></th>\n",
       "      <th>county_code_L</th>\n",
       "      <th>voter_id_L</th>\n",
       "      <th>last_name_L</th>\n",
       "      <th>first_name_L</th>\n",
       "      <th>residence_addr_line_1_L</th>\n",
       "      <th>residence_addr_line_2_L</th>\n",
       "      <th>residence_city_L</th>\n",
       "      <th>residence_zipcode_L</th>\n",
       "      <th>gender_L</th>\n",
       "      <th>race_L</th>\n",
       "      <th>...</th>\n",
       "      <th>residence_zipcode_5_R</th>\n",
       "      <th>residence_zipcode_4_R</th>\n",
       "      <th>age_diff</th>\n",
       "      <th>uniq_addr_L</th>\n",
       "      <th>Latitude</th>\n",
       "      <th>Longitude</th>\n",
       "      <th>uniq_addr_R</th>\n",
       "      <th>Latitude_R</th>\n",
       "      <th>Longitude_R</th>\n",
       "      <th>separated</th>\n",
       "    </tr>\n",
       "  </thead>\n",
       "  <tbody>\n",
       "    <tr>\n",
       "      <td>0</td>\n",
       "      <td>CLA</td>\n",
       "      <td>102842993</td>\n",
       "      <td>motolenich</td>\n",
       "      <td>stephen</td>\n",
       "      <td>554   oakmont dr</td>\n",
       "      <td>NaN</td>\n",
       "      <td>orange park</td>\n",
       "      <td>32073</td>\n",
       "      <td>M</td>\n",
       "      <td>4.0</td>\n",
       "      <td>...</td>\n",
       "      <td>32073</td>\n",
       "      <td>NaN</td>\n",
       "      <td>0</td>\n",
       "      <td>554   oakmont dr  orange park 32073</td>\n",
       "      <td>30.160965</td>\n",
       "      <td>-81.72916</td>\n",
       "      <td>554   oakmont dr  orange park 32073</td>\n",
       "      <td>30.160965</td>\n",
       "      <td>-81.72916</td>\n",
       "      <td>False</td>\n",
       "    </tr>\n",
       "    <tr>\n",
       "      <td>1</td>\n",
       "      <td>CLA</td>\n",
       "      <td>102845812</td>\n",
       "      <td>young</td>\n",
       "      <td>kirk</td>\n",
       "      <td>2672   holly point rd w</td>\n",
       "      <td>NaN</td>\n",
       "      <td>orange park</td>\n",
       "      <td>32073</td>\n",
       "      <td>M</td>\n",
       "      <td>5.0</td>\n",
       "      <td>...</td>\n",
       "      <td>32073</td>\n",
       "      <td>NaN</td>\n",
       "      <td>0</td>\n",
       "      <td>2672   holly point rd w  orange park 32073</td>\n",
       "      <td>30.160965</td>\n",
       "      <td>-81.72916</td>\n",
       "      <td>2672   holly point rd w  orange park 32073</td>\n",
       "      <td>30.160965</td>\n",
       "      <td>-81.72916</td>\n",
       "      <td>False</td>\n",
       "    </tr>\n",
       "    <tr>\n",
       "      <td>2</td>\n",
       "      <td>CLA</td>\n",
       "      <td>102842958</td>\n",
       "      <td>wall</td>\n",
       "      <td>james</td>\n",
       "      <td>962   sweetwood ct</td>\n",
       "      <td>NaN</td>\n",
       "      <td>orange park</td>\n",
       "      <td>32065</td>\n",
       "      <td>M</td>\n",
       "      <td>5.0</td>\n",
       "      <td>...</td>\n",
       "      <td>32065</td>\n",
       "      <td>NaN</td>\n",
       "      <td>0</td>\n",
       "      <td>962   sweetwood ct  orange park 32065</td>\n",
       "      <td>30.133007</td>\n",
       "      <td>-81.77904</td>\n",
       "      <td>962   sweetwood ct  orange park 32065</td>\n",
       "      <td>30.133007</td>\n",
       "      <td>-81.77904</td>\n",
       "      <td>False</td>\n",
       "    </tr>\n",
       "    <tr>\n",
       "      <td>3</td>\n",
       "      <td>CLA</td>\n",
       "      <td>102843200</td>\n",
       "      <td>wilkening</td>\n",
       "      <td>harold</td>\n",
       "      <td>1828   lakedge dr</td>\n",
       "      <td>NaN</td>\n",
       "      <td>middleburg</td>\n",
       "      <td>320686620</td>\n",
       "      <td>M</td>\n",
       "      <td>5.0</td>\n",
       "      <td>...</td>\n",
       "      <td>32068</td>\n",
       "      <td>6620.0</td>\n",
       "      <td>0</td>\n",
       "      <td>3060   tower oaks dr  orange park 32065</td>\n",
       "      <td>30.133007</td>\n",
       "      <td>-81.77904</td>\n",
       "      <td>3060   tower oaks dr  orange park 32065</td>\n",
       "      <td>30.133007</td>\n",
       "      <td>-81.77904</td>\n",
       "      <td>False</td>\n",
       "    </tr>\n",
       "    <tr>\n",
       "      <td>4</td>\n",
       "      <td>CLA</td>\n",
       "      <td>102844398</td>\n",
       "      <td>pappas</td>\n",
       "      <td>attis</td>\n",
       "      <td>1571   glen view st</td>\n",
       "      <td>NaN</td>\n",
       "      <td>middleburg</td>\n",
       "      <td>32068</td>\n",
       "      <td>F</td>\n",
       "      <td>5.0</td>\n",
       "      <td>...</td>\n",
       "      <td>32068</td>\n",
       "      <td>NaN</td>\n",
       "      <td>0</td>\n",
       "      <td>1571   glen view st  middleburg 32068</td>\n",
       "      <td>30.074926</td>\n",
       "      <td>-81.87932</td>\n",
       "      <td>1571   glen view st  middleburg 32068</td>\n",
       "      <td>30.074926</td>\n",
       "      <td>-81.87932</td>\n",
       "      <td>False</td>\n",
       "    </tr>\n",
       "  </tbody>\n",
       "</table>\n",
       "<p>5 rows × 45 columns</p>\n",
       "</div>"
      ],
      "text/plain": [
       "  county_code_L  voter_id_L last_name_L first_name_L  residence_addr_line_1_L  \\\n",
       "0           CLA   102842993  motolenich      stephen         554   oakmont dr   \n",
       "1           CLA   102845812       young         kirk  2672   holly point rd w   \n",
       "2           CLA   102842958        wall        james       962   sweetwood ct   \n",
       "3           CLA   102843200   wilkening       harold        1828   lakedge dr   \n",
       "4           CLA   102844398      pappas        attis      1571   glen view st   \n",
       "\n",
       "  residence_addr_line_2_L residence_city_L  residence_zipcode_L gender_L  \\\n",
       "0                     NaN      orange park                32073        M   \n",
       "1                     NaN      orange park                32073        M   \n",
       "2                     NaN      orange park                32065        M   \n",
       "3                     NaN       middleburg            320686620        M   \n",
       "4                     NaN       middleburg                32068        F   \n",
       "\n",
       "   race_L  ... residence_zipcode_5_R residence_zipcode_4_R age_diff  \\\n",
       "0     4.0  ...                 32073                   NaN        0   \n",
       "1     5.0  ...                 32073                   NaN        0   \n",
       "2     5.0  ...                 32065                   NaN        0   \n",
       "3     5.0  ...                 32068                6620.0        0   \n",
       "4     5.0  ...                 32068                   NaN        0   \n",
       "\n",
       "                                  uniq_addr_L   Latitude  Longitude  \\\n",
       "0         554   oakmont dr  orange park 32073  30.160965  -81.72916   \n",
       "1  2672   holly point rd w  orange park 32073  30.160965  -81.72916   \n",
       "2       962   sweetwood ct  orange park 32065  30.133007  -81.77904   \n",
       "3     3060   tower oaks dr  orange park 32065  30.133007  -81.77904   \n",
       "4       1571   glen view st  middleburg 32068  30.074926  -81.87932   \n",
       "\n",
       "                                  uniq_addr_R  Latitude_R Longitude_R  \\\n",
       "0         554   oakmont dr  orange park 32073   30.160965   -81.72916   \n",
       "1  2672   holly point rd w  orange park 32073   30.160965   -81.72916   \n",
       "2       962   sweetwood ct  orange park 32065   30.133007   -81.77904   \n",
       "3     3060   tower oaks dr  orange park 32065   30.133007   -81.77904   \n",
       "4       1571   glen view st  middleburg 32068   30.074926   -81.87932   \n",
       "\n",
       "  separated  \n",
       "0     False  \n",
       "1     False  \n",
       "2     False  \n",
       "3     False  \n",
       "4     False  \n",
       "\n",
       "[5 rows x 45 columns]"
      ]
     },
     "execution_count": 214,
     "metadata": {},
     "output_type": "execute_result"
    }
   ],
   "source": [
    "couples_df_found.head()"
   ]
  },
  {
   "cell_type": "markdown",
   "metadata": {},
   "source": [
    "## Logging total separation percentage in file"
   ]
  },
  {
   "cell_type": "code",
   "execution_count": 261,
   "metadata": {},
   "outputs": [],
   "source": [
    "total_separated_couples = couples_df_found[couples_df_found[\"separated\"] == True].shape[0]\n",
    "with open(stat_file_path + \"total_separation_percentage.csv\", \"w\") as f:\n",
    "    f.write(\"\\t\".join([\"separated_count\", \"total_count\", \"percentage\"]) + \"\\n\")\n",
    "    f.write(\"\\t\".join([str(total_separated_couples), str(couples_df_found.shape[0]), str(100.0 * total_separated_couples/couples_df_found.shape[0])]))"
   ]
  },
  {
   "cell_type": "markdown",
   "metadata": {},
   "source": [
    "## Convert race categorical "
   ]
  },
  {
   "cell_type": "code",
   "execution_count": 262,
   "metadata": {},
   "outputs": [],
   "source": [
    "race_codes = {\n",
    "    1: \"American Indian/Alaskan Native\",\n",
    "    2: \"Asian/Pacific Islander\",\n",
    "    3: \"Black/Not Hispanic\",\n",
    "    4: \"Hispanic\",\n",
    "    5: \"White\",\n",
    "    6: \"Other\",\n",
    "    7: \"Mutli-racial\",\n",
    "    9: \"Unknown\"\n",
    "}"
   ]
  },
  {
   "cell_type": "markdown",
   "metadata": {},
   "source": [
    "## Converting race codes to corresponding race-descriptions"
   ]
  },
  {
   "cell_type": "code",
   "execution_count": 263,
   "metadata": {},
   "outputs": [],
   "source": [
    "def race_code_lambda(row, subscript):\n",
    "    if pd.isnull(row[\"race_\" + subscript]):\n",
    "        return None\n",
    "    code = int(row[\"race_\" + subscript])\n",
    "    return race_codes[code]"
   ]
  },
  {
   "cell_type": "markdown",
   "metadata": {},
   "source": [
    "## Creating descriptive race columns is a time consuming process"
   ]
  },
  {
   "cell_type": "code",
   "execution_count": 264,
   "metadata": {},
   "outputs": [],
   "source": [
    "couples_df_found[\"race_desc_L\"] = couples_df_found.apply(lambda x: race_code_lambda(x, \"L\"), axis=1)\n",
    "couples_df_found[\"race_desc_R\"] = couples_df_found.apply(lambda x: race_code_lambda(x, \"R\"), axis=1)"
   ]
  },
  {
   "cell_type": "code",
   "execution_count": 265,
   "metadata": {},
   "outputs": [],
   "source": [
    "global_df[\"race_desc\"] = global_df[\"race\"].apply(lambda x: race_codes[x])"
   ]
  },
  {
   "cell_type": "markdown",
   "metadata": {},
   "source": [
    "## Feature wise separation percentage"
   ]
  },
  {
   "cell_type": "code",
   "execution_count": 266,
   "metadata": {},
   "outputs": [],
   "source": [
    "cols = [\"party_affiliation\", \"gender\", \"race_desc\"]\n",
    "unique_dic = {}\n",
    "for c in cols:\n",
    "    unique_dic[c] = set(global_df[c].unique())"
   ]
  },
  {
   "cell_type": "markdown",
   "metadata": {},
   "source": [
    "## Demographic Percentages"
   ]
  },
  {
   "cell_type": "code",
   "execution_count": 267,
   "metadata": {},
   "outputs": [],
   "source": [
    "party_affiliation_counts = {}\n",
    "race_counts = {}\n",
    "\n",
    "party_affiliation_percentages = {}\n",
    "race_percentages = {}\n",
    "\n",
    "total = global_df.shape[0]\n",
    "for cat_value in unique_dic[\"party_affiliation\"]:\n",
    "    party_affiliation_counts[cat_value] = global_df[global_df[\"party_affiliation\"] == cat_value].shape[0]\n",
    "    party_affiliation_percentages[cat_value] = 100.0 * global_df[global_df[\"party_affiliation\"] == cat_value].shape[0]/total\n",
    "\n",
    "for cat_value in unique_dic[\"race_desc\"]:\n",
    "    race_counts[str(cat_value)] = global_df[global_df[\"race_desc\"] == cat_value].shape[0]\n",
    "    race_percentages[str(cat_value)] =  100.0 * global_df[global_df[\"race_desc\"] == cat_value].shape[0]/total"
   ]
  },
  {
   "cell_type": "markdown",
   "metadata": {},
   "source": [
    "## Thresholding Demographics\n",
    "For Race we stick to 5% </br>\n",
    "For Party affiliation we stick to 5%"
   ]
  },
  {
   "cell_type": "code",
   "execution_count": 268,
   "metadata": {},
   "outputs": [],
   "source": [
    "race_percent_threshold = 5.0\n",
    "race_other_groups = []\n",
    "for cat_value in race_percentages:\n",
    "    if race_percentages[cat_value] <= race_percent_threshold:\n",
    "        race_other_groups.append(cat_value)"
   ]
  },
  {
   "cell_type": "code",
   "execution_count": 269,
   "metadata": {},
   "outputs": [],
   "source": [
    "party_percent_threshold = 5.0\n",
    "party_other_groups = []\n",
    "for cat_value in party_affiliation_percentages:\n",
    "    if party_affiliation_percentages[cat_value] <= party_percent_threshold:\n",
    "        party_other_groups.append(cat_value)"
   ]
  },
  {
   "cell_type": "markdown",
   "metadata": {},
   "source": [
    "# TODO"
   ]
  },
  {
   "cell_type": "code",
   "execution_count": 270,
   "metadata": {},
   "outputs": [],
   "source": [
    "# TODO: Implement others mapping into global and couples dataframe\n",
    "# def create_others_df()"
   ]
  },
  {
   "cell_type": "code",
   "execution_count": 271,
   "metadata": {},
   "outputs": [
    {
     "data": {
      "text/plain": [
       "(11800473, 24)"
      ]
     },
     "execution_count": 271,
     "metadata": {},
     "output_type": "execute_result"
    }
   ],
   "source": [
    "global_df.shape"
   ]
  },
  {
   "cell_type": "code",
   "execution_count": 272,
   "metadata": {},
   "outputs": [
    {
     "name": "stdout",
     "output_type": "stream",
     "text": [
      "{'party_affiliation': {'CPF', 'DEM', 'REF', 'ECO', 'PSL', 'NPA', 'LPF', 'IND', 'REP', 'GRE'}, 'gender': {'M', 'F', 'U'}, 'race_desc': {'Black/Not Hispanic', 'Asian/Pacific Islander', 'Other', 'Unknown', 'American Indian/Alaskan Native', 'White', 'Hispanic', 'Mutli-racial'}}\n"
     ]
    }
   ],
   "source": [
    "print(str(unique_dic))"
   ]
  },
  {
   "cell_type": "markdown",
   "metadata": {},
   "source": [
    "## Generate Pair-wise stats by feature\n",
    "Current focus is only on gender/race/political-affiliation"
   ]
  },
  {
   "cell_type": "code",
   "execution_count": 273,
   "metadata": {},
   "outputs": [],
   "source": [
    "import time\n",
    "from itertools import combinations \n",
    "\n",
    "def generate_category_based_on_pair_values(first_val, second_val):\n",
    "    return \"({0}, {1})\".format(str(first_val), str(second_val))\n",
    "\n",
    "def generate_pair_stats_by_feature(global_df, couples_df_found, feature, stats={}, others=[]):\n",
    "    print(\"Collecting uniques by feature: \" + feature)\n",
    "    unique_vals = list(global_df[feature].unique())\n",
    "    cat_combinations = list(combinations(list(unique_vals), 2))\n",
    "    \n",
    "    stats[feature] = {}\n",
    "    print(\"Processing : \" + feature + \" : Total comb: \" + str(len(cat_combinations)))\n",
    "    i = 0\n",
    "    start_time = time.time()\n",
    "    stats[feature][\"Other Categories\"] = {'count': 0, 'total': 0}\n",
    "    for comb in cat_combinations:\n",
    "        first_val = comb[0]\n",
    "        second_val = comb[1]\n",
    "        \n",
    "        left_right = couples_df_found[(couples_df_found[feature + \"_L\"] == first_val) & (couples_df_found[feature + \"_R\"] == second_val)]\n",
    "        right_left = couples_df_found[(couples_df_found[feature + \"_L\"] == second_val) & (couples_df_found[feature + \"_R\"] == first_val)]\n",
    "        \n",
    "        count = left_right[left_right[\"separated\"] == True].shape[0]\n",
    "        count += right_left[right_left[\"separated\"] == True].shape[0]\n",
    "        \n",
    "        stat = {}\n",
    "        stat[\"count\"] = count\n",
    "        \n",
    "        if count == 0:\n",
    "            continue\n",
    "        \n",
    "        if first_val in others or second_val in others:\n",
    "            stats[feature][\"Other Categories\"][\"count\"] += count\n",
    "            stats[feature][\"Other Categories\"][\"total\"] += left_right.shape[0] + right_left.shape[0]\n",
    "            continue\n",
    "        \n",
    "        stat[\"total\"] = left_right.shape[0] + right_left.shape[0]\n",
    "        stat[\"percent\"] = count * 100.0/(left_right.shape[0] + right_left.shape[0])\n",
    "        \n",
    "        category = generate_category_based_on_pair_values(first_val, second_val)\n",
    "        stats[feature][category] = stat\n",
    "        \n",
    "        i += 1\n",
    "        \n",
    "    print(\"Total value combinations process: \" + str(i) + \" Total time (secs): \" + str(time.time() - start_time))\n",
    "    \n",
    "    print(\"Processing symmetric combinations: \" + feature + \" : Total comb: \" + str(len(unique_vals)))\n",
    "    for val in unique_vals:\n",
    "        subset = couples_df_found[(couples_df_found[feature + \"_L\"] == val) & (couples_df_found[feature + \"_R\"] == val)]\n",
    "        \n",
    "        count = subset[subset[\"separated\"] == True].shape[0]\n",
    "        \n",
    "        if val in others:\n",
    "            stats[feature][\"Other Categories\"][\"count\"] += count\n",
    "            stats[feature][\"Other Categories\"][\"total\"] += subset.shape[0]\n",
    "            continue\n",
    "        \n",
    "        stat = {}\n",
    "        stat[\"count\"] = count\n",
    "        \n",
    "        if count == 0:\n",
    "            continue\n",
    "        \n",
    "        stat[\"total\"] = subset.shape[0]\n",
    "        stat[\"percent\"] = count * 100.0/(subset.shape[0])\n",
    "        \n",
    "        category = generate_category_based_on_pair_values(val, val)\n",
    "        stats[feature][category] = stat\n",
    "        \n",
    "    if len(others) > 0 and stats[feature][\"Other Categories\"][\"count\"] > 0:\n",
    "        stats[feature][\"Other Categories\"][\"percent\"] = 100.0 * stats[feature][\"Other Categories\"][\"count\"]/stats[feature][\"Other Categories\"][\"total\"]\n",
    "    else:\n",
    "        del stats[feature][\"Other Categories\"]\n",
    "    \n",
    "    print(\"Done with processing feature: \" + feature)\n",
    "    \n",
    "    return stats"
   ]
  },
  {
   "cell_type": "code",
   "execution_count": 274,
   "metadata": {},
   "outputs": [
    {
     "data": {
      "text/plain": [
       "'stats/20140319_20190910/'"
      ]
     },
     "execution_count": 274,
     "metadata": {},
     "output_type": "execute_result"
    }
   ],
   "source": [
    "stat_file_path"
   ]
  },
  {
   "cell_type": "code",
   "execution_count": 275,
   "metadata": {},
   "outputs": [],
   "source": [
    "def plot_pairwise_stat_by_feature(feature, stats, total_couples=1):\n",
    "    feature_stats = stats[feature]\n",
    "    \n",
    "    figures, axes = plt.subplots(nrows=1, ncols=2, figsize=(20,10))\n",
    "    \n",
    "    percent_stats = []\n",
    "    pair_combinations = []\n",
    "    totals = []\n",
    "    \n",
    "    for pair_comb in feature_stats:\n",
    "        percent_stats.append(feature_stats[pair_comb][\"percent\"])\n",
    "        totals.append(feature_stats[pair_comb][\"total\"])\n",
    "        pair_combinations.append(pair_comb)\n",
    "\n",
    "    plot_df = pd.DataFrame({\"percent\": percent_stats, \"category_combination\": pair_combinations, \"totals\": totals})\n",
    "    plot_df[\"category_combination_percentage\"] = 100.0*plot_df[\"totals\"]/total_couples\n",
    "    \n",
    "    sns.barplot(x=\"percent\", y=\"category_combination\", data=plot_df, ax=axes[0], palette=sns.color_palette(\"Set2\"))\n",
    "    \n",
    "    axes[0].set(xlabel=\"Separation percentage\")\n",
    "    \n",
    "    #     sns.barplot(x=\"category_combination_percentage\", y=\"category_combination\", palette=sns.color_palette(\"Set2\"), data=plot_df, ax=axes[1])\n",
    "\n",
    "    #   Pie chart\n",
    "    labels = pair_combinations\n",
    "    sizes = plot_df[\"category_combination_percentage\"].tolist()\n",
    "    axes[1].pie(sizes, labels=labels, autopct='%1.1f%%', colors=['teal', 'salmon', 'silver', 'lightblue', 'orchid', 'pink', 'lightgreen', 'wheat'])\n",
    "    axes[1].axis('equal')\n",
    "    axes[1].set(xlabel=\"Category percentage out of total couples\")\n",
    "    \n",
    "    \n",
    "    axes[0].spines['right'].set_visible(False)\n",
    "    axes[0].spines['top'].set_visible(False)\n",
    "    axes[1].spines['right'].set_visible(False)\n",
    "    axes[1].spines['top'].set_visible(False)\n",
    "    \n",
    "    #     axes[0].set_title(feature)\n",
    "    #     axes[1].set_title(feature + \" wise couple proportion\")\n",
    "\n",
    "    #     Writing stats into file\n",
    "    stat_file_name = feature + \"_totalCouples-\" + str(total_couples) + \".csv\"\n",
    "    plot_df.to_csv(stat_file_path + stat_file_name, sep=\"\\t\")\n",
    "        \n",
    "    plt.savefig(\"plots/\" + image_file_prefix + \"/\" + image_file_prefix +  \"_pairwise_stat_\" + feature)\n",
    "    plt.tight_layout()"
   ]
  },
  {
   "cell_type": "code",
   "execution_count": 276,
   "metadata": {},
   "outputs": [
    {
     "name": "stdout",
     "output_type": "stream",
     "text": [
      "Collecting uniques by feature: race_desc\n",
      "Processing : race_desc : Total comb: 28\n",
      "Total value combinations process: 3 Total time (secs): 11.497788429260254\n",
      "Processing symmetric combinations: race_desc : Total comb: 8\n",
      "Done with processing feature: race_desc\n"
     ]
    }
   ],
   "source": [
    "stats = generate_pair_stats_by_feature(global_df, couples_df_found, \"race_desc\", others=race_other_groups)"
   ]
  },
  {
   "cell_type": "code",
   "execution_count": 277,
   "metadata": {},
   "outputs": [
    {
     "data": {
      "image/png": "[encoded data removed]",
      "text/plain": [
       "<Figure size 1440x720 with 2 Axes>"
      ]
     },
     "metadata": {
      "needs_background": "light"
     },
     "output_type": "display_data"
    }
   ],
   "source": [
    "plot_pairwise_stat_by_feature(\"race_desc\", stats, total_couples=couples_df_found.shape[0])"
   ]
  },
  {
   "cell_type": "code",
   "execution_count": 278,
   "metadata": {},
   "outputs": [
    {
     "name": "stdout",
     "output_type": "stream",
     "text": [
      "Collecting uniques by feature: party_affiliation\n",
      "Processing : party_affiliation : Total comb: 45\n",
      "Total value combinations process: 3 Total time (secs): 18.669708967208862\n",
      "Processing symmetric combinations: party_affiliation : Total comb: 10\n",
      "Done with processing feature: party_affiliation\n"
     ]
    }
   ],
   "source": [
    "stats = generate_pair_stats_by_feature(global_df, couples_df_found, \"party_affiliation\", others=party_other_groups)"
   ]
  },
  {
   "cell_type": "code",
   "execution_count": 279,
   "metadata": {},
   "outputs": [
    {
     "data": {
      "image/png": "[encoded data removed]",
      "text/plain": [
       "<Figure size 1440x720 with 2 Axes>"
      ]
     },
     "metadata": {
      "needs_background": "light"
     },
     "output_type": "display_data"
    }
   ],
   "source": [
    "plot_pairwise_stat_by_feature(\"party_affiliation\", stats, total_couples=couples_df_found.shape[0])"
   ]
  },
  {
   "cell_type": "code",
   "execution_count": 280,
   "metadata": {},
   "outputs": [
    {
     "name": "stdout",
     "output_type": "stream",
     "text": [
      "Collecting uniques by feature: gender\n",
      "Processing : gender : Total comb: 3\n",
      "Total value combinations process: 3 Total time (secs): 2.9653148651123047\n",
      "Processing symmetric combinations: gender : Total comb: 3\n",
      "Done with processing feature: gender\n"
     ]
    }
   ],
   "source": [
    "stats = generate_pair_stats_by_feature(global_df, couples_df_found, \"gender\", others=party_other_groups)"
   ]
  },
  {
   "cell_type": "code",
   "execution_count": 281,
   "metadata": {},
   "outputs": [
    {
     "data": {
      "image/png": "[encoded data removed]",
      "text/plain": [
       "<Figure size 1440x720 with 2 Axes>"
      ]
     },
     "metadata": {
      "needs_background": "light"
     },
     "output_type": "display_data"
    }
   ],
   "source": [
    "plot_pairwise_stat_by_feature(\"gender\", stats, total_couples=couples_df_found.shape[0])"
   ]
  },
  {
   "cell_type": "code",
   "execution_count": 282,
   "metadata": {},
   "outputs": [
    {
     "data": {
      "text/plain": [
       "{'race_desc': {'Other Categories': {'count': 27357,\n",
       "   'total': 141654,\n",
       "   'percent': 19.312550298614934},\n",
       "  '(White, Hispanic)': {'count': 21214,\n",
       "   'total': 86713,\n",
       "   'percent': 24.464613149124123},\n",
       "  '(White, Black/Not Hispanic)': {'count': 9696,\n",
       "   'total': 23051,\n",
       "   'percent': 42.0632510520151},\n",
       "  '(Hispanic, Black/Not Hispanic)': {'count': 4948,\n",
       "   'total': 10716,\n",
       "   'percent': 46.173945502053},\n",
       "  '(White, White)': {'count': 140534,\n",
       "   'total': 1130295,\n",
       "   'percent': 12.433391282806701},\n",
       "  '(Hispanic, Hispanic)': {'count': 35207,\n",
       "   'total': 161931,\n",
       "   'percent': 21.741976520863826},\n",
       "  '(Black/Not Hispanic, Black/Not Hispanic)': {'count': 32489,\n",
       "   'total': 133191,\n",
       "   'percent': 24.392789302580503}},\n",
       " 'party_affiliation': {'Other Categories': {'count': 1666,\n",
       "   'total': 6675,\n",
       "   'percent': 24.95880149812734},\n",
       "  '(REP, DEM)': {'count': 35299,\n",
       "   'total': 177054,\n",
       "   'percent': 19.93685542263942},\n",
       "  '(REP, NPA)': {'count': 31950,\n",
       "   'total': 151712,\n",
       "   'percent': 21.059639316599874},\n",
       "  '(DEM, NPA)': {'count': 43238,\n",
       "   'total': 162096,\n",
       "   'percent': 26.674316454446746},\n",
       "  '(REP, REP)': {'count': 49500,\n",
       "   'total': 530354,\n",
       "   'percent': 9.333388642303065},\n",
       "  '(DEM, DEM)': {'count': 67118,\n",
       "   'total': 405935,\n",
       "   'percent': 16.53417419044921},\n",
       "  '(NPA, NPA)': {'count': 25210,\n",
       "   'total': 160831,\n",
       "   'percent': 15.67483880595159}},\n",
       " 'gender': {'(M, F)': {'count': 184345,\n",
       "   'total': 1494313,\n",
       "   'percent': 12.336438216089936},\n",
       "  '(M, U)': {'count': 3914, 'total': 16814, 'percent': 23.27822053051029},\n",
       "  '(F, U)': {'count': 4765, 'total': 19370, 'percent': 24.599896747547753},\n",
       "  '(M, M)': {'count': 30985, 'total': 65982, 'percent': 46.95977690885393},\n",
       "  '(F, F)': {'count': 47151, 'total': 88488, 'percent': 53.28519121236778},\n",
       "  '(U, U)': {'count': 308, 'total': 2671, 'percent': 11.531261699737925}}}"
      ]
     },
     "execution_count": 282,
     "metadata": {},
     "output_type": "execute_result"
    }
   ],
   "source": [
    "stats"
   ]
  },
  {
   "cell_type": "markdown",
   "metadata": {},
   "source": [
    "## Raw code of combination stats (Obsolete)"
   ]
  },
  {
   "cell_type": "code",
   "execution_count": 283,
   "metadata": {},
   "outputs": [],
   "source": [
    "# sns.barplot(x=\"percent_round\", y=\"category\", data=race_df)"
   ]
  },
  {
   "cell_type": "code",
   "execution_count": 284,
   "metadata": {},
   "outputs": [
    {
     "data": {
      "text/plain": [
       "array([ 0,  1,  2,  3,  4,  5,  6,  7,  8,  9, 10, 11, 12, 13, 14, 15])"
      ]
     },
     "execution_count": 284,
     "metadata": {},
     "output_type": "execute_result"
    }
   ],
   "source": [
    "couples_df_found.age_diff.unique()"
   ]
  },
  {
   "cell_type": "code",
   "execution_count": 285,
   "metadata": {},
   "outputs": [],
   "source": [
    "age_diff_total_counts = couples_df_found.groupby([\"age_diff\"])[\"age_diff\"].agg([\"count\"]).reset_index()"
   ]
  },
  {
   "cell_type": "code",
   "execution_count": 286,
   "metadata": {},
   "outputs": [
    {
     "data": {
      "text/html": [
       "<div>\n",
       "<style scoped>\n",
       "    .dataframe tbody tr th:only-of-type {\n",
       "        vertical-align: middle;\n",
       "    }\n",
       "\n",
       "    .dataframe tbody tr th {\n",
       "        vertical-align: top;\n",
       "    }\n",
       "\n",
       "    .dataframe thead th {\n",
       "        text-align: right;\n",
       "    }\n",
       "</style>\n",
       "<table border=\"1\" class=\"dataframe\">\n",
       "  <thead>\n",
       "    <tr style=\"text-align: right;\">\n",
       "      <th></th>\n",
       "      <th>age_diff</th>\n",
       "      <th>count</th>\n",
       "    </tr>\n",
       "  </thead>\n",
       "  <tbody>\n",
       "    <tr>\n",
       "      <td>0</td>\n",
       "      <td>0</td>\n",
       "      <td>199486</td>\n",
       "    </tr>\n",
       "    <tr>\n",
       "      <td>1</td>\n",
       "      <td>1</td>\n",
       "      <td>334827</td>\n",
       "    </tr>\n",
       "    <tr>\n",
       "      <td>2</td>\n",
       "      <td>2</td>\n",
       "      <td>266914</td>\n",
       "    </tr>\n",
       "    <tr>\n",
       "      <td>3</td>\n",
       "      <td>3</td>\n",
       "      <td>203112</td>\n",
       "    </tr>\n",
       "    <tr>\n",
       "      <td>4</td>\n",
       "      <td>4</td>\n",
       "      <td>153817</td>\n",
       "    </tr>\n",
       "  </tbody>\n",
       "</table>\n",
       "</div>"
      ],
      "text/plain": [
       "   age_diff   count\n",
       "0         0  199486\n",
       "1         1  334827\n",
       "2         2  266914\n",
       "3         3  203112\n",
       "4         4  153817"
      ]
     },
     "execution_count": 286,
     "metadata": {},
     "output_type": "execute_result"
    }
   ],
   "source": [
    "age_diff_total_counts.head()"
   ]
  },
  {
   "cell_type": "code",
   "execution_count": 287,
   "metadata": {},
   "outputs": [
    {
     "data": {
      "image/png": "[encoded data removed]",
      "text/plain": [
       "<Figure size 432x288 with 1 Axes>"
      ]
     },
     "metadata": {
      "needs_background": "light"
     },
     "output_type": "display_data"
    }
   ],
   "source": [
    "#plt.clear()\n",
    "plt.close()\n",
    "ax = sns.barplot(x=\"age_diff\", y=\"count\", data=age_diff_total_counts)\n",
    "ax.set(xlabel='age difference between couples', ylabel='couples count')\n",
    "plt.savefig(\"plots/\" + image_file_prefix + \"/\" + image_file_prefix + \"_age_diff_aggregation\")"
   ]
  },
  {
   "cell_type": "code",
   "execution_count": 288,
   "metadata": {},
   "outputs": [],
   "source": [
    "age_diff_separation_stats = couples_df_found[couples_df_found[\"separated\"]==True].groupby([\"age_diff\"])[\"age_diff\"].agg([\"count\"]).reset_index()"
   ]
  },
  {
   "cell_type": "code",
   "execution_count": 289,
   "metadata": {},
   "outputs": [],
   "source": [
    "age_diff_separation_stats = pd.merge(age_diff_total_counts, age_diff_separation_stats, on=[\"age_diff\"], suffixes=(\"_total\", \"_separated\"))"
   ]
  },
  {
   "cell_type": "code",
   "execution_count": 290,
   "metadata": {},
   "outputs": [],
   "source": [
    "age_diff_separation_stats[\"percent\"] = 100.0 * age_diff_separation_stats[\"count_separated\"]/age_diff_separation_stats[\"count_total\"]"
   ]
  },
  {
   "cell_type": "code",
   "execution_count": 291,
   "metadata": {},
   "outputs": [
    {
     "data": {
      "text/html": [
       "<div>\n",
       "<style scoped>\n",
       "    .dataframe tbody tr th:only-of-type {\n",
       "        vertical-align: middle;\n",
       "    }\n",
       "\n",
       "    .dataframe tbody tr th {\n",
       "        vertical-align: top;\n",
       "    }\n",
       "\n",
       "    .dataframe thead th {\n",
       "        text-align: right;\n",
       "    }\n",
       "</style>\n",
       "<table border=\"1\" class=\"dataframe\">\n",
       "  <thead>\n",
       "    <tr style=\"text-align: right;\">\n",
       "      <th></th>\n",
       "      <th>age_diff</th>\n",
       "      <th>count_total</th>\n",
       "      <th>count_separated</th>\n",
       "      <th>percent</th>\n",
       "    </tr>\n",
       "  </thead>\n",
       "  <tbody>\n",
       "    <tr>\n",
       "      <td>0</td>\n",
       "      <td>0</td>\n",
       "      <td>199486</td>\n",
       "      <td>29224</td>\n",
       "      <td>14.649650</td>\n",
       "    </tr>\n",
       "    <tr>\n",
       "      <td>1</td>\n",
       "      <td>1</td>\n",
       "      <td>334827</td>\n",
       "      <td>48425</td>\n",
       "      <td>14.462693</td>\n",
       "    </tr>\n",
       "    <tr>\n",
       "      <td>2</td>\n",
       "      <td>2</td>\n",
       "      <td>266914</td>\n",
       "      <td>40337</td>\n",
       "      <td>15.112358</td>\n",
       "    </tr>\n",
       "    <tr>\n",
       "      <td>3</td>\n",
       "      <td>3</td>\n",
       "      <td>203112</td>\n",
       "      <td>30805</td>\n",
       "      <td>15.166509</td>\n",
       "    </tr>\n",
       "    <tr>\n",
       "      <td>4</td>\n",
       "      <td>4</td>\n",
       "      <td>153817</td>\n",
       "      <td>23223</td>\n",
       "      <td>15.097811</td>\n",
       "    </tr>\n",
       "    <tr>\n",
       "      <td>5</td>\n",
       "      <td>5</td>\n",
       "      <td>118025</td>\n",
       "      <td>18647</td>\n",
       "      <td>15.799195</td>\n",
       "    </tr>\n",
       "    <tr>\n",
       "      <td>6</td>\n",
       "      <td>6</td>\n",
       "      <td>92105</td>\n",
       "      <td>15205</td>\n",
       "      <td>16.508333</td>\n",
       "    </tr>\n",
       "    <tr>\n",
       "      <td>7</td>\n",
       "      <td>7</td>\n",
       "      <td>72543</td>\n",
       "      <td>12644</td>\n",
       "      <td>17.429662</td>\n",
       "    </tr>\n",
       "    <tr>\n",
       "      <td>8</td>\n",
       "      <td>8</td>\n",
       "      <td>57303</td>\n",
       "      <td>10717</td>\n",
       "      <td>18.702337</td>\n",
       "    </tr>\n",
       "    <tr>\n",
       "      <td>9</td>\n",
       "      <td>9</td>\n",
       "      <td>46183</td>\n",
       "      <td>8976</td>\n",
       "      <td>19.435723</td>\n",
       "    </tr>\n",
       "    <tr>\n",
       "      <td>10</td>\n",
       "      <td>10</td>\n",
       "      <td>37408</td>\n",
       "      <td>7595</td>\n",
       "      <td>20.303144</td>\n",
       "    </tr>\n",
       "    <tr>\n",
       "      <td>11</td>\n",
       "      <td>11</td>\n",
       "      <td>30391</td>\n",
       "      <td>6629</td>\n",
       "      <td>21.812379</td>\n",
       "    </tr>\n",
       "    <tr>\n",
       "      <td>12</td>\n",
       "      <td>12</td>\n",
       "      <td>24676</td>\n",
       "      <td>5736</td>\n",
       "      <td>23.245259</td>\n",
       "    </tr>\n",
       "    <tr>\n",
       "      <td>13</td>\n",
       "      <td>13</td>\n",
       "      <td>19866</td>\n",
       "      <td>4836</td>\n",
       "      <td>24.343099</td>\n",
       "    </tr>\n",
       "    <tr>\n",
       "      <td>14</td>\n",
       "      <td>14</td>\n",
       "      <td>16949</td>\n",
       "      <td>4563</td>\n",
       "      <td>26.921942</td>\n",
       "    </tr>\n",
       "    <tr>\n",
       "      <td>15</td>\n",
       "      <td>15</td>\n",
       "      <td>14033</td>\n",
       "      <td>3906</td>\n",
       "      <td>27.834390</td>\n",
       "    </tr>\n",
       "  </tbody>\n",
       "</table>\n",
       "</div>"
      ],
      "text/plain": [
       "    age_diff  count_total  count_separated    percent\n",
       "0          0       199486            29224  14.649650\n",
       "1          1       334827            48425  14.462693\n",
       "2          2       266914            40337  15.112358\n",
       "3          3       203112            30805  15.166509\n",
       "4          4       153817            23223  15.097811\n",
       "5          5       118025            18647  15.799195\n",
       "6          6        92105            15205  16.508333\n",
       "7          7        72543            12644  17.429662\n",
       "8          8        57303            10717  18.702337\n",
       "9          9        46183             8976  19.435723\n",
       "10        10        37408             7595  20.303144\n",
       "11        11        30391             6629  21.812379\n",
       "12        12        24676             5736  23.245259\n",
       "13        13        19866             4836  24.343099\n",
       "14        14        16949             4563  26.921942\n",
       "15        15        14033             3906  27.834390"
      ]
     },
     "execution_count": 291,
     "metadata": {},
     "output_type": "execute_result"
    }
   ],
   "source": [
    "age_diff_separation_stats"
   ]
  },
  {
   "cell_type": "code",
   "execution_count": 292,
   "metadata": {},
   "outputs": [],
   "source": [
    "age_diff_separation_stats.to_csv(stat_file_path + \"age_diff_separation_stats.csv\", sep='\\t', header=[\"age_diff\", \"counts_of_that_age_diff\", \"separated_count\", \"separated_percentage\"])"
   ]
  },
  {
   "cell_type": "code",
   "execution_count": 293,
   "metadata": {},
   "outputs": [
    {
     "data": {
      "image/png": "[encoded data removed]",
      "text/plain": [
       "<Figure size 432x288 with 1 Axes>"
      ]
     },
     "metadata": {
      "needs_background": "light"
     },
     "output_type": "display_data"
    }
   ],
   "source": [
    "ax = sns.barplot(x=\"age_diff\", y=\"percent\", data=age_diff_separation_stats, )\n",
    "ax.set(xlabel='age difference between couples', ylabel='couples separation percent')\n",
    "plt.savefig(\"plots/\" + image_file_prefix + \"/\" + image_file_prefix + \"_age_diff_separation_percentages\")"
   ]
  },
  {
   "cell_type": "code",
   "execution_count": 306,
   "metadata": {},
   "outputs": [
    {
     "data": {
      "text/plain": [
       "county_code_L               object\n",
       "voter_id_L                   int64\n",
       "last_name_L                 object\n",
       "first_name_L                object\n",
       "residence_addr_line_1_L     object\n",
       "residence_addr_line_2_L     object\n",
       "residence_city_L            object\n",
       "residence_zipcode_L          int64\n",
       "gender_L                    object\n",
       "race_L                     float64\n",
       "birth_date_L                object\n",
       "registration_date_L         object\n",
       "party_affiliation_L         object\n",
       "precinct_L                  object\n",
       "voter_status_L              object\n",
       "age_L                        int64\n",
       "residence_zipcode_5_L        int64\n",
       "residence_zipcode_4_L      float64\n",
       "uniq_addr                   object\n",
       "county_code_R               object\n",
       "voter_id_R                   int64\n",
       "last_name_R                 object\n",
       "first_name_R                object\n",
       "residence_addr_line_1_R     object\n",
       "residence_addr_line_2_R     object\n",
       "residence_city_R            object\n",
       "residence_zipcode_R          int64\n",
       "gender_R                    object\n",
       "race_R                     float64\n",
       "birth_date_R                object\n",
       "registration_date_R         object\n",
       "party_affiliation_R         object\n",
       "precinct_R                  object\n",
       "voter_status_R              object\n",
       "age_R                        int64\n",
       "residence_zipcode_5_R        int64\n",
       "residence_zipcode_4_R      float64\n",
       "age_diff                     int64\n",
       "uniq_addr_L                 object\n",
       "Latitude                   float64\n",
       "Longitude                  float64\n",
       "uniq_addr_R                 object\n",
       "Latitude_R                 float64\n",
       "Longitude_R                float64\n",
       "separated                     bool\n",
       "race_desc_L                 object\n",
       "race_desc_R                 object\n",
       "dtype: object"
      ]
     },
     "execution_count": 306,
     "metadata": {},
     "output_type": "execute_result"
    }
   ],
   "source": [
    "couples_df_found.dtypes"
   ]
  },
  {
   "cell_type": "code",
   "execution_count": 308,
   "metadata": {},
   "outputs": [],
   "source": [
    "df = couples_df_found[['Latitude', 'Latitude_R','Longitude','Longitude_R', 'race_L', 'race_R', 'separated']]"
   ]
  },
  {
   "cell_type": "code",
   "execution_count": 315,
   "metadata": {},
   "outputs": [
    {
     "data": {
      "text/plain": [
       "(1687551, 7)"
      ]
     },
     "execution_count": 315,
     "metadata": {},
     "output_type": "execute_result"
    }
   ],
   "source": [
    "#df.shape\n",
    "df = df.dropna()"
   ]
  },
  {
   "cell_type": "code",
   "execution_count": null,
   "metadata": {},
   "outputs": [],
   "source": [
    "\n",
    "tsne = TSNE(n_components=2)\n",
    "tsne_results = tsne.fit_transform(df)\n",
    "train_cluster['tsne-X'] = tsne_results[:,0]\n",
    "train_cluster['tsne-Y'] = tsne_results[:,1]"
   ]
  },
  {
   "cell_type": "code",
   "execution_count": null,
   "metadata": {},
   "outputs": [],
   "source": [
    "plt.figure(figsize=(16,10))\n",
    "sns.scatterplot(\n",
    "    x=\"tsne-X\", y=\"tsne-Y\",\n",
    "    hue=\"cluster\",\n",
    "    palette=sns.color_palette(\"hls\", 15),\n",
    "    data=train_cluster,\n",
    "    legend=\"full\",\n",
    "    alpha=0.3\n",
    ")"
   ]
  },
  {
   "cell_type": "code",
   "execution_count": 296,
   "metadata": {},
   "outputs": [],
   "source": [
    "# cf_polarized_all = np.where(((couples_df_found[\"party_affiliation_L\"] == \"DEM\") & (couples_df_found[\"party_affiliation_R\"] == \"DEM\"))\n",
    "#                             | ((couples_df_found[\"party_affiliation_L\"] == \"REP\") & (couples_df_found[\"party_affiliation_R\"] == \"REP\"))\n",
    "#                             | ((couples_df_found[\"party_affiliation_L\"] == \"NPA\") & (couples_df_found[\"party_affiliation_R\"] == \"NPA\"))\n",
    "#                         , 0, 1) "
   ]
  },
  {
   "cell_type": "code",
   "execution_count": 297,
   "metadata": {},
   "outputs": [],
   "source": [
    "#pearson_corr, corr_pvalue = stats.pearsonr(cf_polarized_all, cf_separated)\n",
    "#print('Correlation of Polarized couples Vs their separation rate: {} \\nP_value: {}'.format(pearson_corr, corr_pvalue))"
   ]
  },
  {
   "cell_type": "code",
   "execution_count": 298,
   "metadata": {},
   "outputs": [],
   "source": [
    "#couples_df_stat = pd.read_csv(\"stats/20160307_20180313/party_affiliation_totalCouples-2709111.csv\" , sep='\\t')"
   ]
  },
  {
   "cell_type": "code",
   "execution_count": 299,
   "metadata": {},
   "outputs": [],
   "source": [
    "#couples_df_stat.columns = [\"no\", \"separation_percent\",\"cat_comb\",\"total\",\"cat_comb_percent\"]"
   ]
  },
  {
   "cell_type": "code",
   "execution_count": 300,
   "metadata": {},
   "outputs": [],
   "source": [
    "#couples_df_stat[\"no\"]"
   ]
  },
  {
   "cell_type": "code",
   "execution_count": 301,
   "metadata": {},
   "outputs": [],
   "source": [
    "from sklearn.metrics import jaccard_score"
   ]
  },
  {
   "cell_type": "code",
   "execution_count": 302,
   "metadata": {},
   "outputs": [],
   "source": [
    "#couples_df_n = pd.merge(couples_df, fla_lat, left_on=\"uniq_addr\", right_on = \"uniq_addr_2\",)"
   ]
  },
  {
   "cell_type": "code",
   "execution_count": 118,
   "metadata": {},
   "outputs": [
    {
     "data": {
      "text/plain": [
       "county_code_L                    0\n",
       "voter_id_L                       0\n",
       "last_name_L                     32\n",
       "first_name_L                    99\n",
       "residence_addr_line_1_L          0\n",
       "residence_addr_line_2_L    2626663\n",
       "residence_city_L                 0\n",
       "residence_zipcode_L              0\n",
       "gender_L                         0\n",
       "race_L                          48\n",
       "birth_date_L                     0\n",
       "registration_date_L              0\n",
       "party_affiliation_L              0\n",
       "precinct_L                       0\n",
       "voter_status_L                   0\n",
       "age_L                            0\n",
       "residence_zipcode_5_L            0\n",
       "residence_zipcode_4_L      2637109\n",
       "uniq_addr                        0\n",
       "county_code_R                    0\n",
       "voter_id_R                       0\n",
       "last_name_R                     38\n",
       "first_name_R                   127\n",
       "residence_addr_line_1_R          0\n",
       "residence_addr_line_2_R    2626661\n",
       "residence_city_R                 0\n",
       "residence_zipcode_R              0\n",
       "gender_R                         0\n",
       "race_R                          64\n",
       "birth_date_R                     0\n",
       "registration_date_R              0\n",
       "party_affiliation_R              0\n",
       "precinct_R                       0\n",
       "voter_status_R                   0\n",
       "age_R                            0\n",
       "residence_zipcode_5_R            0\n",
       "residence_zipcode_4_R      2682134\n",
       "age_diff                         0\n",
       "uniq_addr_2                2928650\n",
       "lat                        2928650\n",
       "long                       2928650\n",
       "dtype: int64"
      ]
     },
     "execution_count": 118,
     "metadata": {},
     "output_type": "execute_result"
    }
   ],
   "source": [
    "#couples_df_n.isnull().sum()"
   ]
  },
  {
   "cell_type": "code",
   "execution_count": 157,
   "metadata": {},
   "outputs": [
    {
     "ename": "TypeError",
     "evalue": "unhashable type: 'list'",
     "output_type": "error",
     "traceback": [
      "\u001b[0;31m---------------------------------------------------------------------------\u001b[0m",
      "\u001b[0;31mTypeError\u001b[0m                                 Traceback (most recent call last)",
      "\u001b[0;32m<ipython-input-157-62e6273df484>\u001b[0m in \u001b[0;36m<module>\u001b[0;34m\u001b[0m\n\u001b[0;32m----> 1\u001b[0;31m \u001b[0mjaccard_similarity\u001b[0m\u001b[0;34m(\u001b[0m\u001b[0mtokenized_row_L\u001b[0m\u001b[0;34m,\u001b[0m \u001b[0mtokenized_row_R\u001b[0m\u001b[0;34m)\u001b[0m\u001b[0;34m\u001b[0m\u001b[0;34m\u001b[0m\u001b[0m\n\u001b[0m",
      "\u001b[0;32m<ipython-input-154-90a1ecb5a31b>\u001b[0m in \u001b[0;36mjaccard_similarity\u001b[0;34m(query, document)\u001b[0m\n\u001b[1;32m      1\u001b[0m \u001b[0;32mdef\u001b[0m \u001b[0mjaccard_similarity\u001b[0m\u001b[0;34m(\u001b[0m\u001b[0mquery\u001b[0m\u001b[0;34m,\u001b[0m \u001b[0mdocument\u001b[0m\u001b[0;34m)\u001b[0m\u001b[0;34m:\u001b[0m\u001b[0;34m\u001b[0m\u001b[0;34m\u001b[0m\u001b[0m\n\u001b[0;32m----> 2\u001b[0;31m     \u001b[0mintersection\u001b[0m \u001b[0;34m=\u001b[0m \u001b[0mset\u001b[0m\u001b[0;34m(\u001b[0m\u001b[0mquery\u001b[0m\u001b[0;34m)\u001b[0m\u001b[0;34m.\u001b[0m\u001b[0mintersection\u001b[0m\u001b[0;34m(\u001b[0m\u001b[0mset\u001b[0m\u001b[0;34m(\u001b[0m\u001b[0mdocument\u001b[0m\u001b[0;34m)\u001b[0m\u001b[0;34m)\u001b[0m\u001b[0;34m\u001b[0m\u001b[0;34m\u001b[0m\u001b[0m\n\u001b[0m\u001b[1;32m      3\u001b[0m     \u001b[0munion\u001b[0m \u001b[0;34m=\u001b[0m \u001b[0mset\u001b[0m\u001b[0;34m(\u001b[0m\u001b[0mquery\u001b[0m\u001b[0;34m)\u001b[0m\u001b[0;34m.\u001b[0m\u001b[0munion\u001b[0m\u001b[0;34m(\u001b[0m\u001b[0mset\u001b[0m\u001b[0;34m(\u001b[0m\u001b[0mdocument\u001b[0m\u001b[0;34m)\u001b[0m\u001b[0;34m)\u001b[0m\u001b[0;34m\u001b[0m\u001b[0;34m\u001b[0m\u001b[0m\n\u001b[1;32m      4\u001b[0m     \u001b[0;32mreturn\u001b[0m \u001b[0mlen\u001b[0m\u001b[0;34m(\u001b[0m\u001b[0mintersection\u001b[0m\u001b[0;34m)\u001b[0m\u001b[0;34m/\u001b[0m\u001b[0mlen\u001b[0m\u001b[0;34m(\u001b[0m\u001b[0munion\u001b[0m\u001b[0;34m)\u001b[0m\u001b[0;34m\u001b[0m\u001b[0;34m\u001b[0m\u001b[0m\n",
      "\u001b[0;31mTypeError\u001b[0m: unhashable type: 'list'"
     ]
    }
   ],
   "source": [
    "jaccard_similarity(tokenized_row_L, tokenized_row_R)"
   ]
  },
  {
   "cell_type": "code",
   "execution_count": 154,
   "metadata": {},
   "outputs": [],
   "source": [
    "def jaccard_similarity(query, document):\n",
    "    intersection = set(query).intersection(set(document))\n",
    "    union = set(query).union(set(document))\n",
    "    return len(intersection)/len(union)"
   ]
  },
  {
   "cell_type": "code",
   "execution_count": 156,
   "metadata": {},
   "outputs": [],
   "source": [
    "tokenized_row_L = [d.split() for d in couples_df_found['uniq_addr_L']]\n",
    "tokenized_row_R = [d.split() for d in couples_df_found['uniq_addr_R']]\n"
   ]
  },
  {
   "cell_type": "code",
   "execution_count": 74,
   "metadata": {},
   "outputs": [],
   "source": [
    "from scipy.stats import chi2_contingency\n",
    "#print(chi2_contingency(pd.crosstab(cf_polarized_all, cf_separated)))\n",
    "\n",
    "def cramers_corrected_stat(confusion_matrix):\n",
    "    \"\"\" calculate Cramers V statistic for categorial-categorial association.\n",
    "        uses correction from Bergsma and Wicher, \n",
    "        Journal of the Korean Statistical Society 42 (2013): 323-328\n",
    "    \"\"\"\n",
    "    chi2 = chi2_contingency(confusion_matrix)[0]\n",
    "    n = confusion_matrix.sum()\n",
    "    phi2 = chi2/n\n",
    "    r,k = confusion_matrix.shape\n",
    "    phi2corr = max(0, phi2 - ((k-1)*(r-1))/(n-1))\n",
    "    rcorr = r - ((r-1)**2)/(n-1)\n",
    "    kcorr = k - ((k-1)**2)/(n-1)\n",
    "    return np.sqrt(phi2corr / min( (kcorr-1), (rcorr-1)))\n",
    "\n",
    "#cramers_corrected_stat(pd.crosstab(cf_polarized_all, cf_separated))"
   ]
  },
  {
   "cell_type": "code",
   "execution_count": null,
   "metadata": {},
   "outputs": [],
   "source": []
  }
 ],
 "metadata": {
  "kernelspec": {
   "display_name": "Python 3",
   "language": "python",
   "name": "python3"
  },
  "language_info": {
   "codemirror_mode": {
    "name": "ipython",
    "version": 3
   },
   "file_extension": ".py",
   "mimetype": "text/x-python",
   "name": "python",
   "nbconvert_exporter": "python",
   "pygments_lexer": "ipython3",
   "version": "3.7.4"
  }
 },
 "nbformat": 4,
 "nbformat_minor": 4
}
