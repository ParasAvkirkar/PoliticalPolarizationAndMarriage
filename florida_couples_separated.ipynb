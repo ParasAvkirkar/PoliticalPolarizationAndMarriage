{
 "cells": [
  {
   "cell_type": "code",
   "execution_count": 1,
   "metadata": {},
   "outputs": [],
   "source": [
    "import pandas as pd\n",
    "import random\n",
    "import numpy as np\n",
    "import time\n",
    "import math\n",
    "import sys\n",
    "import matplotlib.patches as mpatches\n",
    "import matplotlib.pyplot as plt\n",
    "import seaborn as sns\n",
    "import xgboost as xgb\n",
    "import datatable as dt\n",
    "\n",
    "from xgboost import plot_tree\n",
    "from os import walk\n",
    "from os import listdir\n",
    "from os.path import isfile, join\n",
    "from scipy.spatial.distance import euclidean, pdist, squareform\n",
    "from scipy.stats import skew\n",
    "from scipy.special import expit as sigmoid\n",
    "from scipy.cluster.hierarchy import fclusterdata\n",
    "from pandas.plotting import autocorrelation_plot\n",
    "from sklearn.model_selection import train_test_split\n",
    "from sklearn.linear_model import LogisticRegression\n",
    "from sklearn.linear_model import LinearRegression\n",
    "from sklearn.ensemble import RandomForestClassifier\n",
    "from sklearn import tree\n",
    "from sklearn.metrics import precision_recall_fscore_support\n",
    "from sklearn import preprocessing\n",
    "from sklearn.metrics import confusion_matrix\n",
    "from sklearn.metrics import roc_auc_score\n",
    "from sklearn.utils import resample\n",
    "from imblearn.over_sampling import SMOTE, ADASYN\n",
    "from imblearn.under_sampling import ClusterCentroids\n",
    "from imblearn.under_sampling import RandomUnderSampler\n",
    "from sklearn.preprocessing import LabelEncoder\n",
    "from sklearn.metrics import pairwise_distances\n",
    "from sklearn.cluster import AgglomerativeClustering\n",
    "from sklearn.manifold import TSNE\n",
    "from sklearn.metrics import mean_absolute_error\n",
    "from sklearn.metrics import mean_squared_error"
   ]
  },
  {
   "cell_type": "code",
   "execution_count": 2,
   "metadata": {},
   "outputs": [],
   "source": [
    "DATA_PATH = ''\n",
    "#HISTORY_PATH = \"Voter_History_{0}\"\n",
    "PREPROCESSED_PATH = \"preprocessed/{0}/florida_processed_{0}.csv\"\n",
    "COUPLES_PATH=\"couples/{0}/couples_{0}.csv\""
   ]
  },
  {
   "cell_type": "code",
   "execution_count": 3,
   "metadata": {},
   "outputs": [],
   "source": [
    "preprocessed_date = '20160307'"
   ]
  },
  {
   "cell_type": "code",
   "execution_count": 4,
   "metadata": {},
   "outputs": [],
   "source": [
    "couples_date = '20140319'"
   ]
  },
  {
   "cell_type": "code",
   "execution_count": 116,
   "metadata": {},
   "outputs": [],
   "source": [
    "image_file_prefix = couples_date + \"_\" + preprocessed_date\n",
    "\n",
    "import os\n",
    "if not os.path.exists(\"plots/\" + image_file_prefix):\n",
    "    os.makedirs(\"plots/\" + image_file_prefix)\n"
   ]
  },
  {
   "cell_type": "code",
   "execution_count": 5,
   "metadata": {},
   "outputs": [
    {
     "name": "stderr",
     "output_type": "stream",
     "text": [
      "/home/rahullachh/anaconda3/lib/python3.7/site-packages/IPython/core/interactiveshell.py:3058: DtypeWarning: Columns (14) have mixed types. Specify dtype option on import or set low_memory=False.\n",
      "  interactivity=interactivity, compiler=compiler, result=result)\n"
     ]
    }
   ],
   "source": [
    "global_df = pd.read_csv(PREPROCESSED_PATH.format(preprocessed_date) , sep='\\t')"
   ]
  },
  {
   "cell_type": "code",
   "execution_count": 6,
   "metadata": {},
   "outputs": [],
   "source": [
    "# global_df.isnull().sum()"
   ]
  },
  {
   "cell_type": "code",
   "execution_count": 7,
   "metadata": {},
   "outputs": [
    {
     "data": {
      "text/html": [
       "<div>\n",
       "<style scoped>\n",
       "    .dataframe tbody tr th:only-of-type {\n",
       "        vertical-align: middle;\n",
       "    }\n",
       "\n",
       "    .dataframe tbody tr th {\n",
       "        vertical-align: top;\n",
       "    }\n",
       "\n",
       "    .dataframe thead th {\n",
       "        text-align: right;\n",
       "    }\n",
       "</style>\n",
       "<table border=\"1\" class=\"dataframe\">\n",
       "  <thead>\n",
       "    <tr style=\"text-align: right;\">\n",
       "      <th></th>\n",
       "      <th>county_code</th>\n",
       "      <th>voter_id</th>\n",
       "      <th>last_name</th>\n",
       "      <th>first_name</th>\n",
       "      <th>requested_public_records_exemption</th>\n",
       "      <th>residence_addr_line_1</th>\n",
       "      <th>residence_addr_line_2</th>\n",
       "      <th>residence_city</th>\n",
       "      <th>residence_zipcode</th>\n",
       "      <th>gender</th>\n",
       "      <th>race</th>\n",
       "      <th>birth_date</th>\n",
       "      <th>registration_date</th>\n",
       "      <th>party_affiliation</th>\n",
       "      <th>precinct</th>\n",
       "      <th>voter_status</th>\n",
       "      <th>age</th>\n",
       "      <th>residence_zipcode_5</th>\n",
       "      <th>residence_zipcode_4</th>\n",
       "      <th>uniq_addr</th>\n",
       "    </tr>\n",
       "  </thead>\n",
       "  <tbody>\n",
       "    <tr>\n",
       "      <td>0</td>\n",
       "      <td>ALA</td>\n",
       "      <td>100003724</td>\n",
       "      <td>dungan</td>\n",
       "      <td>christine</td>\n",
       "      <td>N</td>\n",
       "      <td>6323  nw 37th ter</td>\n",
       "      <td>NaN</td>\n",
       "      <td>gainesville</td>\n",
       "      <td>32653</td>\n",
       "      <td>F</td>\n",
       "      <td>5</td>\n",
       "      <td>03/01/1945</td>\n",
       "      <td>03/16/1973</td>\n",
       "      <td>DEM</td>\n",
       "      <td>45</td>\n",
       "      <td>ACT</td>\n",
       "      <td>71</td>\n",
       "      <td>32653</td>\n",
       "      <td>NaN</td>\n",
       "      <td>6323  nw 37th ter  gainesville 32653</td>\n",
       "    </tr>\n",
       "    <tr>\n",
       "      <td>1</td>\n",
       "      <td>ALA</td>\n",
       "      <td>100003725</td>\n",
       "      <td>dungan</td>\n",
       "      <td>richard</td>\n",
       "      <td>N</td>\n",
       "      <td>6326  nw 37th ter</td>\n",
       "      <td>NaN</td>\n",
       "      <td>gainesville</td>\n",
       "      <td>32653</td>\n",
       "      <td>M</td>\n",
       "      <td>5</td>\n",
       "      <td>09/09/1932</td>\n",
       "      <td>10/04/1960</td>\n",
       "      <td>DEM</td>\n",
       "      <td>45</td>\n",
       "      <td>ACT</td>\n",
       "      <td>83</td>\n",
       "      <td>32653</td>\n",
       "      <td>NaN</td>\n",
       "      <td>6326  nw 37th ter  gainesville 32653</td>\n",
       "    </tr>\n",
       "    <tr>\n",
       "      <td>2</td>\n",
       "      <td>ALA</td>\n",
       "      <td>100005820</td>\n",
       "      <td>haskins</td>\n",
       "      <td>terry</td>\n",
       "      <td>N</td>\n",
       "      <td>7948  nw 49th way</td>\n",
       "      <td>NaN</td>\n",
       "      <td>gainesville</td>\n",
       "      <td>32653</td>\n",
       "      <td>M</td>\n",
       "      <td>5</td>\n",
       "      <td>06/19/1946</td>\n",
       "      <td>06/25/1968</td>\n",
       "      <td>DEM</td>\n",
       "      <td>45</td>\n",
       "      <td>ACT</td>\n",
       "      <td>69</td>\n",
       "      <td>32653</td>\n",
       "      <td>NaN</td>\n",
       "      <td>7948  nw 49th way  gainesville 32653</td>\n",
       "    </tr>\n",
       "    <tr>\n",
       "      <td>3</td>\n",
       "      <td>ALA</td>\n",
       "      <td>100009183</td>\n",
       "      <td>matthews</td>\n",
       "      <td>janet</td>\n",
       "      <td>N</td>\n",
       "      <td>2712  sw 5th pl</td>\n",
       "      <td>NaN</td>\n",
       "      <td>gainesville</td>\n",
       "      <td>32607</td>\n",
       "      <td>F</td>\n",
       "      <td>5</td>\n",
       "      <td>09/28/1939</td>\n",
       "      <td>08/07/1970</td>\n",
       "      <td>DEM</td>\n",
       "      <td>26</td>\n",
       "      <td>ACT</td>\n",
       "      <td>76</td>\n",
       "      <td>32607</td>\n",
       "      <td>NaN</td>\n",
       "      <td>2712  sw 5th pl  gainesville 32607</td>\n",
       "    </tr>\n",
       "    <tr>\n",
       "      <td>4</td>\n",
       "      <td>ALA</td>\n",
       "      <td>100010140</td>\n",
       "      <td>niederlitz</td>\n",
       "      <td>mary</td>\n",
       "      <td>N</td>\n",
       "      <td>1732  nw 7th ave</td>\n",
       "      <td>NaN</td>\n",
       "      <td>gainesville</td>\n",
       "      <td>32603</td>\n",
       "      <td>F</td>\n",
       "      <td>5</td>\n",
       "      <td>03/01/1923</td>\n",
       "      <td>02/09/1972</td>\n",
       "      <td>DEM</td>\n",
       "      <td>5</td>\n",
       "      <td>INA</td>\n",
       "      <td>93</td>\n",
       "      <td>32603</td>\n",
       "      <td>NaN</td>\n",
       "      <td>1732  nw 7th ave  gainesville 32603</td>\n",
       "    </tr>\n",
       "  </tbody>\n",
       "</table>\n",
       "</div>"
      ],
      "text/plain": [
       "  county_code   voter_id   last_name first_name  \\\n",
       "0         ALA  100003724      dungan  christine   \n",
       "1         ALA  100003725      dungan    richard   \n",
       "2         ALA  100005820     haskins      terry   \n",
       "3         ALA  100009183    matthews      janet   \n",
       "4         ALA  100010140  niederlitz       mary   \n",
       "\n",
       "  requested_public_records_exemption residence_addr_line_1  \\\n",
       "0                                  N     6323  nw 37th ter   \n",
       "1                                  N     6326  nw 37th ter   \n",
       "2                                  N     7948  nw 49th way   \n",
       "3                                  N       2712  sw 5th pl   \n",
       "4                                  N      1732  nw 7th ave   \n",
       "\n",
       "  residence_addr_line_2 residence_city  residence_zipcode gender  race  \\\n",
       "0                   NaN    gainesville              32653      F     5   \n",
       "1                   NaN    gainesville              32653      M     5   \n",
       "2                   NaN    gainesville              32653      M     5   \n",
       "3                   NaN    gainesville              32607      F     5   \n",
       "4                   NaN    gainesville              32603      F     5   \n",
       "\n",
       "   birth_date registration_date party_affiliation precinct voter_status  age  \\\n",
       "0  03/01/1945        03/16/1973               DEM       45          ACT   71   \n",
       "1  09/09/1932        10/04/1960               DEM       45          ACT   83   \n",
       "2  06/19/1946        06/25/1968               DEM       45          ACT   69   \n",
       "3  09/28/1939        08/07/1970               DEM       26          ACT   76   \n",
       "4  03/01/1923        02/09/1972               DEM        5          INA   93   \n",
       "\n",
       "   residence_zipcode_5  residence_zipcode_4  \\\n",
       "0                32653                  NaN   \n",
       "1                32653                  NaN   \n",
       "2                32653                  NaN   \n",
       "3                32607                  NaN   \n",
       "4                32603                  NaN   \n",
       "\n",
       "                              uniq_addr  \n",
       "0  6323  nw 37th ter  gainesville 32653  \n",
       "1  6326  nw 37th ter  gainesville 32653  \n",
       "2  7948  nw 49th way  gainesville 32653  \n",
       "3    2712  sw 5th pl  gainesville 32607  \n",
       "4   1732  nw 7th ave  gainesville 32603  "
      ]
     },
     "execution_count": 7,
     "metadata": {},
     "output_type": "execute_result"
    }
   ],
   "source": [
    "global_df.head()"
   ]
  },
  {
   "cell_type": "code",
   "execution_count": 8,
   "metadata": {},
   "outputs": [],
   "source": [
    "req_cols = ['last_name', 'race', 'first_name']\n",
    "global_df = global_df.dropna(subset=req_cols)"
   ]
  },
  {
   "cell_type": "code",
   "execution_count": 9,
   "metadata": {},
   "outputs": [
    {
     "data": {
      "text/plain": [
       "county_code                                  0\n",
       "voter_id                                     0\n",
       "last_name                                    0\n",
       "first_name                                   0\n",
       "requested_public_records_exemption           0\n",
       "residence_addr_line_1                        0\n",
       "residence_addr_line_2                 10795885\n",
       "residence_city                               0\n",
       "residence_zipcode                            0\n",
       "gender                                       0\n",
       "race                                         0\n",
       "birth_date                                   0\n",
       "registration_date                            0\n",
       "party_affiliation                            0\n",
       "precinct                                     0\n",
       "voter_status                                 0\n",
       "age                                          0\n",
       "residence_zipcode_5                          0\n",
       "residence_zipcode_4                   11208251\n",
       "uniq_addr                                    0\n",
       "dtype: int64"
      ]
     },
     "execution_count": 9,
     "metadata": {},
     "output_type": "execute_result"
    }
   ],
   "source": [
    "global_df.isnull().sum()"
   ]
  },
  {
   "cell_type": "code",
   "execution_count": 10,
   "metadata": {},
   "outputs": [
    {
     "data": {
      "text/plain": [
       "(13254464, 20)"
      ]
     },
     "execution_count": 10,
     "metadata": {},
     "output_type": "execute_result"
    }
   ],
   "source": [
    "global_df.shape"
   ]
  },
  {
   "cell_type": "code",
   "execution_count": 11,
   "metadata": {},
   "outputs": [
    {
     "name": "stderr",
     "output_type": "stream",
     "text": [
      "/home/rahullachh/anaconda3/lib/python3.7/site-packages/IPython/core/interactiveshell.py:3058: DtypeWarning: Columns (13,32) have mixed types. Specify dtype option on import or set low_memory=False.\n",
      "  interactivity=interactivity, compiler=compiler, result=result)\n"
     ]
    }
   ],
   "source": [
    "couples_df = pd.read_csv(COUPLES_PATH.format(couples_date) , sep='\\t')"
   ]
  },
  {
   "cell_type": "code",
   "execution_count": 12,
   "metadata": {},
   "outputs": [
    {
     "data": {
      "text/html": [
       "<div>\n",
       "<style scoped>\n",
       "    .dataframe tbody tr th:only-of-type {\n",
       "        vertical-align: middle;\n",
       "    }\n",
       "\n",
       "    .dataframe tbody tr th {\n",
       "        vertical-align: top;\n",
       "    }\n",
       "\n",
       "    .dataframe thead th {\n",
       "        text-align: right;\n",
       "    }\n",
       "</style>\n",
       "<table border=\"1\" class=\"dataframe\">\n",
       "  <thead>\n",
       "    <tr style=\"text-align: right;\">\n",
       "      <th></th>\n",
       "      <th>uniq_addr</th>\n",
       "    </tr>\n",
       "  </thead>\n",
       "  <tbody>\n",
       "    <tr>\n",
       "      <td>0</td>\n",
       "      <td>1   clay county  grn cv spgs 32043</td>\n",
       "    </tr>\n",
       "    <tr>\n",
       "      <td>1</td>\n",
       "      <td>4923   adra ct  fleming island 32003</td>\n",
       "    </tr>\n",
       "    <tr>\n",
       "      <td>2</td>\n",
       "      <td>2332   birdwood dr  orange park 32073</td>\n",
       "    </tr>\n",
       "    <tr>\n",
       "      <td>3</td>\n",
       "      <td>3016   alpaca ave  middleburg 32068</td>\n",
       "    </tr>\n",
       "    <tr>\n",
       "      <td>4</td>\n",
       "      <td>6653   immokalee rd  keystone heights 32656</td>\n",
       "    </tr>\n",
       "  </tbody>\n",
       "</table>\n",
       "</div>"
      ],
      "text/plain": [
       "                                     uniq_addr\n",
       "0           1   clay county  grn cv spgs 32043\n",
       "1         4923   adra ct  fleming island 32003\n",
       "2        2332   birdwood dr  orange park 32073\n",
       "3          3016   alpaca ave  middleburg 32068\n",
       "4  6653   immokalee rd  keystone heights 32656"
      ]
     },
     "execution_count": 12,
     "metadata": {},
     "output_type": "execute_result"
    }
   ],
   "source": [
    "couples_df[[\"uniq_addr\"]].head()"
   ]
  },
  {
   "cell_type": "markdown",
   "metadata": {},
   "source": [
    "## Collecting Addresses of voters"
   ]
  },
  {
   "cell_type": "code",
   "execution_count": 13,
   "metadata": {},
   "outputs": [],
   "source": [
    "addr_df=global_df[['uniq_addr','voter_id']] "
   ]
  },
  {
   "cell_type": "code",
   "execution_count": 14,
   "metadata": {},
   "outputs": [],
   "source": [
    "couples_df_found = pd.merge(couples_df, addr_df, left_on=[\"voter_id_L\"], right_on=[\"voter_id\"], suffixes=[\"\",\"_L\"])"
   ]
  },
  {
   "cell_type": "markdown",
   "metadata": {},
   "source": [
    "### Removing extra column generated of voter id"
   ]
  },
  {
   "cell_type": "code",
   "execution_count": 15,
   "metadata": {},
   "outputs": [],
   "source": [
    "del couples_df_found['voter_id']"
   ]
  },
  {
   "cell_type": "code",
   "execution_count": 16,
   "metadata": {},
   "outputs": [],
   "source": [
    "couples_df_found = pd.merge(couples_df_found, addr_df, left_on=[\"voter_id_R\"], right_on=[\"voter_id\"], suffixes=[\"\",\"_R\"])"
   ]
  },
  {
   "cell_type": "markdown",
   "metadata": {},
   "source": [
    "### Removing extra column generated of voter id"
   ]
  },
  {
   "cell_type": "code",
   "execution_count": 17,
   "metadata": {},
   "outputs": [],
   "source": [
    "del couples_df_found['voter_id']"
   ]
  },
  {
   "cell_type": "code",
   "execution_count": 18,
   "metadata": {},
   "outputs": [
    {
     "data": {
      "text/html": [
       "<div>\n",
       "<style scoped>\n",
       "    .dataframe tbody tr th:only-of-type {\n",
       "        vertical-align: middle;\n",
       "    }\n",
       "\n",
       "    .dataframe tbody tr th {\n",
       "        vertical-align: top;\n",
       "    }\n",
       "\n",
       "    .dataframe thead th {\n",
       "        text-align: right;\n",
       "    }\n",
       "</style>\n",
       "<table border=\"1\" class=\"dataframe\">\n",
       "  <thead>\n",
       "    <tr style=\"text-align: right;\">\n",
       "      <th></th>\n",
       "      <th>voter_id_L</th>\n",
       "      <th>voter_id_R</th>\n",
       "      <th>uniq_addr_L</th>\n",
       "      <th>uniq_addr_R</th>\n",
       "    </tr>\n",
       "  </thead>\n",
       "  <tbody>\n",
       "    <tr>\n",
       "      <td>0</td>\n",
       "      <td>111224731</td>\n",
       "      <td>114194885</td>\n",
       "      <td>1   clay county  grn cv spgs 32043</td>\n",
       "      <td>1   clay county  grn cv spgs 32043</td>\n",
       "    </tr>\n",
       "    <tr>\n",
       "      <td>1</td>\n",
       "      <td>102846326</td>\n",
       "      <td>102848834</td>\n",
       "      <td>4923   adra ct  fleming island 32003</td>\n",
       "      <td>4923   adra ct  fleming island 32003</td>\n",
       "    </tr>\n",
       "    <tr>\n",
       "      <td>2</td>\n",
       "      <td>102846332</td>\n",
       "      <td>102848464</td>\n",
       "      <td>2332   birdwood dr  orange park 32073</td>\n",
       "      <td>2332   birdwood dr  orange park 32073</td>\n",
       "    </tr>\n",
       "    <tr>\n",
       "      <td>3</td>\n",
       "      <td>102846804</td>\n",
       "      <td>102933269</td>\n",
       "      <td>3016   alpaca ave  middleburg 32068</td>\n",
       "      <td>3016   alpaca ave  middleburg 32068</td>\n",
       "    </tr>\n",
       "    <tr>\n",
       "      <td>4</td>\n",
       "      <td>102840283</td>\n",
       "      <td>102841076</td>\n",
       "      <td>6653   immokalee rd  keystone heights 32656</td>\n",
       "      <td>6653   immokalee rd  keystone heights 32656</td>\n",
       "    </tr>\n",
       "  </tbody>\n",
       "</table>\n",
       "</div>"
      ],
      "text/plain": [
       "   voter_id_L  voter_id_R                                  uniq_addr_L  \\\n",
       "0   111224731   114194885           1   clay county  grn cv spgs 32043   \n",
       "1   102846326   102848834         4923   adra ct  fleming island 32003   \n",
       "2   102846332   102848464        2332   birdwood dr  orange park 32073   \n",
       "3   102846804   102933269          3016   alpaca ave  middleburg 32068   \n",
       "4   102840283   102841076  6653   immokalee rd  keystone heights 32656   \n",
       "\n",
       "                                   uniq_addr_R  \n",
       "0           1   clay county  grn cv spgs 32043  \n",
       "1         4923   adra ct  fleming island 32003  \n",
       "2        2332   birdwood dr  orange park 32073  \n",
       "3          3016   alpaca ave  middleburg 32068  \n",
       "4  6653   immokalee rd  keystone heights 32656  "
      ]
     },
     "execution_count": 18,
     "metadata": {},
     "output_type": "execute_result"
    }
   ],
   "source": [
    "couples_df_found[[\"voter_id_L\",\"voter_id_R\", \"uniq_addr_L\",\"uniq_addr_R\"]].head()"
   ]
  },
  {
   "cell_type": "code",
   "execution_count": 19,
   "metadata": {},
   "outputs": [],
   "source": [
    "couples_df_found['separated'] = couples_df_found.apply(lambda x : x.uniq_addr_L != x.uniq_addr_R, axis=1)"
   ]
  },
  {
   "cell_type": "markdown",
   "metadata": {},
   "source": [
    "## Separation percentage"
   ]
  },
  {
   "cell_type": "code",
   "execution_count": 20,
   "metadata": {},
   "outputs": [
    {
     "data": {
      "text/plain": [
       "False    2408184\n",
       "True      277206\n",
       "Name: separated, dtype: int64"
      ]
     },
     "execution_count": 20,
     "metadata": {},
     "output_type": "execute_result"
    }
   ],
   "source": [
    "couples_df_found['separated'].value_counts()"
   ]
  },
  {
   "cell_type": "code",
   "execution_count": 21,
   "metadata": {},
   "outputs": [
    {
     "data": {
      "text/plain": [
       "False    0.896773\n",
       "True     0.103227\n",
       "Name: separated, dtype: float64"
      ]
     },
     "execution_count": 21,
     "metadata": {},
     "output_type": "execute_result"
    }
   ],
   "source": [
    "couples_df_found['separated'].value_counts()/couples_df_found['separated'].shape"
   ]
  },
  {
   "cell_type": "code",
   "execution_count": 22,
   "metadata": {},
   "outputs": [],
   "source": [
    "# couples_df_found.isnull().sum()"
   ]
  },
  {
   "cell_type": "code",
   "execution_count": 23,
   "metadata": {},
   "outputs": [
    {
     "data": {
      "text/html": [
       "<div>\n",
       "<style scoped>\n",
       "    .dataframe tbody tr th:only-of-type {\n",
       "        vertical-align: middle;\n",
       "    }\n",
       "\n",
       "    .dataframe tbody tr th {\n",
       "        vertical-align: top;\n",
       "    }\n",
       "\n",
       "    .dataframe thead th {\n",
       "        text-align: right;\n",
       "    }\n",
       "</style>\n",
       "<table border=\"1\" class=\"dataframe\">\n",
       "  <thead>\n",
       "    <tr style=\"text-align: right;\">\n",
       "      <th></th>\n",
       "      <th>county_code_L</th>\n",
       "      <th>voter_id_L</th>\n",
       "      <th>last_name_L</th>\n",
       "      <th>first_name_L</th>\n",
       "      <th>residence_addr_line_1_L</th>\n",
       "      <th>residence_addr_line_2_L</th>\n",
       "      <th>residence_city_L</th>\n",
       "      <th>residence_zipcode_L</th>\n",
       "      <th>gender_L</th>\n",
       "      <th>race_L</th>\n",
       "      <th>...</th>\n",
       "      <th>party_affiliation_R</th>\n",
       "      <th>precinct_R</th>\n",
       "      <th>voter_status_R</th>\n",
       "      <th>age_R</th>\n",
       "      <th>residence_zipcode_5_R</th>\n",
       "      <th>residence_zipcode_4_R</th>\n",
       "      <th>age_diff</th>\n",
       "      <th>uniq_addr_L</th>\n",
       "      <th>uniq_addr_R</th>\n",
       "      <th>separated</th>\n",
       "    </tr>\n",
       "  </thead>\n",
       "  <tbody>\n",
       "    <tr>\n",
       "      <td>0</td>\n",
       "      <td>CLA</td>\n",
       "      <td>111224731</td>\n",
       "      <td>clegg</td>\n",
       "      <td>bonnie</td>\n",
       "      <td>1   clay county</td>\n",
       "      <td>NaN</td>\n",
       "      <td>grn cv spgs</td>\n",
       "      <td>32043</td>\n",
       "      <td>F</td>\n",
       "      <td>5.0</td>\n",
       "      <td>...</td>\n",
       "      <td>REP</td>\n",
       "      <td>606</td>\n",
       "      <td>ACT</td>\n",
       "      <td>62</td>\n",
       "      <td>32043</td>\n",
       "      <td>NaN</td>\n",
       "      <td>0</td>\n",
       "      <td>1   clay county  grn cv spgs 32043</td>\n",
       "      <td>1   clay county  grn cv spgs 32043</td>\n",
       "      <td>False</td>\n",
       "    </tr>\n",
       "    <tr>\n",
       "      <td>1</td>\n",
       "      <td>CLA</td>\n",
       "      <td>102846326</td>\n",
       "      <td>champion</td>\n",
       "      <td>elizabeth</td>\n",
       "      <td>4923   adra ct</td>\n",
       "      <td>NaN</td>\n",
       "      <td>fleming island</td>\n",
       "      <td>320037873</td>\n",
       "      <td>F</td>\n",
       "      <td>5.0</td>\n",
       "      <td>...</td>\n",
       "      <td>REP</td>\n",
       "      <td>414</td>\n",
       "      <td>ACT</td>\n",
       "      <td>57</td>\n",
       "      <td>32003</td>\n",
       "      <td>7873.0</td>\n",
       "      <td>0</td>\n",
       "      <td>4923   adra ct  fleming island 32003</td>\n",
       "      <td>4923   adra ct  fleming island 32003</td>\n",
       "      <td>False</td>\n",
       "    </tr>\n",
       "    <tr>\n",
       "      <td>2</td>\n",
       "      <td>CLA</td>\n",
       "      <td>102846332</td>\n",
       "      <td>rund</td>\n",
       "      <td>matthew</td>\n",
       "      <td>2332   birdwood dr</td>\n",
       "      <td>NaN</td>\n",
       "      <td>orange park</td>\n",
       "      <td>320735324</td>\n",
       "      <td>M</td>\n",
       "      <td>5.0</td>\n",
       "      <td>...</td>\n",
       "      <td>REP</td>\n",
       "      <td>210</td>\n",
       "      <td>ACT</td>\n",
       "      <td>80</td>\n",
       "      <td>32073</td>\n",
       "      <td>5324.0</td>\n",
       "      <td>0</td>\n",
       "      <td>2332   birdwood dr  orange park 32073</td>\n",
       "      <td>2332   birdwood dr  orange park 32073</td>\n",
       "      <td>False</td>\n",
       "    </tr>\n",
       "    <tr>\n",
       "      <td>3</td>\n",
       "      <td>CLA</td>\n",
       "      <td>102846804</td>\n",
       "      <td>de gidio</td>\n",
       "      <td>valrae</td>\n",
       "      <td>3016   alpaca ave</td>\n",
       "      <td>NaN</td>\n",
       "      <td>middleburg</td>\n",
       "      <td>320686413</td>\n",
       "      <td>F</td>\n",
       "      <td>5.0</td>\n",
       "      <td>...</td>\n",
       "      <td>REP</td>\n",
       "      <td>508</td>\n",
       "      <td>ACT</td>\n",
       "      <td>71</td>\n",
       "      <td>32068</td>\n",
       "      <td>6413.0</td>\n",
       "      <td>0</td>\n",
       "      <td>3016   alpaca ave  middleburg 32068</td>\n",
       "      <td>3016   alpaca ave  middleburg 32068</td>\n",
       "      <td>False</td>\n",
       "    </tr>\n",
       "    <tr>\n",
       "      <td>4</td>\n",
       "      <td>CLA</td>\n",
       "      <td>102840283</td>\n",
       "      <td>pike</td>\n",
       "      <td>anna</td>\n",
       "      <td>6653   immokalee rd</td>\n",
       "      <td>NaN</td>\n",
       "      <td>keystone heights</td>\n",
       "      <td>326568990</td>\n",
       "      <td>F</td>\n",
       "      <td>5.0</td>\n",
       "      <td>...</td>\n",
       "      <td>REP</td>\n",
       "      <td>702</td>\n",
       "      <td>ACT</td>\n",
       "      <td>73</td>\n",
       "      <td>32656</td>\n",
       "      <td>8990.0</td>\n",
       "      <td>0</td>\n",
       "      <td>6653   immokalee rd  keystone heights 32656</td>\n",
       "      <td>6653   immokalee rd  keystone heights 32656</td>\n",
       "      <td>False</td>\n",
       "    </tr>\n",
       "  </tbody>\n",
       "</table>\n",
       "<p>5 rows × 41 columns</p>\n",
       "</div>"
      ],
      "text/plain": [
       "  county_code_L  voter_id_L last_name_L first_name_L residence_addr_line_1_L  \\\n",
       "0           CLA   111224731       clegg       bonnie         1   clay county   \n",
       "1           CLA   102846326    champion    elizabeth          4923   adra ct   \n",
       "2           CLA   102846332        rund      matthew      2332   birdwood dr   \n",
       "3           CLA   102846804    de gidio       valrae       3016   alpaca ave   \n",
       "4           CLA   102840283        pike         anna     6653   immokalee rd   \n",
       "\n",
       "  residence_addr_line_2_L  residence_city_L  residence_zipcode_L gender_L  \\\n",
       "0                     NaN       grn cv spgs                32043        F   \n",
       "1                     NaN    fleming island            320037873        F   \n",
       "2                     NaN       orange park            320735324        M   \n",
       "3                     NaN        middleburg            320686413        F   \n",
       "4                     NaN  keystone heights            326568990        F   \n",
       "\n",
       "   race_L  ... party_affiliation_R precinct_R voter_status_R age_R  \\\n",
       "0     5.0  ...                 REP        606            ACT    62   \n",
       "1     5.0  ...                 REP        414            ACT    57   \n",
       "2     5.0  ...                 REP        210            ACT    80   \n",
       "3     5.0  ...                 REP        508            ACT    71   \n",
       "4     5.0  ...                 REP        702            ACT    73   \n",
       "\n",
       "  residence_zipcode_5_R  residence_zipcode_4_R  age_diff  \\\n",
       "0                 32043                    NaN         0   \n",
       "1                 32003                 7873.0         0   \n",
       "2                 32073                 5324.0         0   \n",
       "3                 32068                 6413.0         0   \n",
       "4                 32656                 8990.0         0   \n",
       "\n",
       "                                   uniq_addr_L  \\\n",
       "0           1   clay county  grn cv spgs 32043   \n",
       "1         4923   adra ct  fleming island 32003   \n",
       "2        2332   birdwood dr  orange park 32073   \n",
       "3          3016   alpaca ave  middleburg 32068   \n",
       "4  6653   immokalee rd  keystone heights 32656   \n",
       "\n",
       "                                   uniq_addr_R separated  \n",
       "0           1   clay county  grn cv spgs 32043     False  \n",
       "1         4923   adra ct  fleming island 32003     False  \n",
       "2        2332   birdwood dr  orange park 32073     False  \n",
       "3          3016   alpaca ave  middleburg 32068     False  \n",
       "4  6653   immokalee rd  keystone heights 32656     False  \n",
       "\n",
       "[5 rows x 41 columns]"
      ]
     },
     "execution_count": 23,
     "metadata": {},
     "output_type": "execute_result"
    }
   ],
   "source": [
    "couples_df_found.head()"
   ]
  },
  {
   "cell_type": "markdown",
   "metadata": {},
   "source": [
    "## Convert race categorical "
   ]
  },
  {
   "cell_type": "code",
   "execution_count": 24,
   "metadata": {},
   "outputs": [],
   "source": [
    "race_codes = {\n",
    "    1: \"American Indian/Alaskan Native\",\n",
    "    2: \"Asian/Pacific Islander\",\n",
    "    3: \"Black/Not Hispanic\",\n",
    "    4: \"Hispanic\",\n",
    "    5: \"White\",\n",
    "    6: \"Other\",\n",
    "    7: \"Mutli-racial\",\n",
    "    9: \"Unknown\"\n",
    "}"
   ]
  },
  {
   "cell_type": "markdown",
   "metadata": {},
   "source": [
    "## Converting race codes to corresponding race-descriptions"
   ]
  },
  {
   "cell_type": "code",
   "execution_count": 25,
   "metadata": {},
   "outputs": [],
   "source": [
    "def race_code_lambda(row, subscript):\n",
    "    if pd.isnull(row[\"race_\" + subscript]):\n",
    "        return None\n",
    "    code = int(row[\"race_\" + subscript])\n",
    "    return race_codes[code]"
   ]
  },
  {
   "cell_type": "markdown",
   "metadata": {},
   "source": [
    "## Creating descriptive race columns is a time consuming process"
   ]
  },
  {
   "cell_type": "code",
   "execution_count": 26,
   "metadata": {},
   "outputs": [],
   "source": [
    "couples_df_found[\"race_desc_L\"] = couples_df_found.apply(lambda x: race_code_lambda(x, \"L\"), axis=1)\n",
    "couples_df_found[\"race_desc_R\"] = couples_df_found.apply(lambda x: race_code_lambda(x, \"R\"), axis=1)"
   ]
  },
  {
   "cell_type": "code",
   "execution_count": 29,
   "metadata": {},
   "outputs": [],
   "source": [
    "global_df[\"race_desc\"] = global_df[\"race\"].apply(lambda x: race_codes[x])"
   ]
  },
  {
   "cell_type": "markdown",
   "metadata": {},
   "source": [
    "## Feature wise separation percentage"
   ]
  },
  {
   "cell_type": "code",
   "execution_count": 30,
   "metadata": {},
   "outputs": [],
   "source": [
    "cols = [\"party_affiliation\", \"gender\", \"race_desc\"]\n",
    "unique_dic = {}\n",
    "for c in cols:\n",
    "    unique_dic[c] = set(global_df[c].unique())"
   ]
  },
  {
   "cell_type": "markdown",
   "metadata": {},
   "source": [
    "## Demographic Percentages"
   ]
  },
  {
   "cell_type": "code",
   "execution_count": 32,
   "metadata": {},
   "outputs": [],
   "source": [
    "party_affiliation_counts = {}\n",
    "race_counts = {}\n",
    "\n",
    "party_affiliation_percentages = {}\n",
    "race_percentages = {}\n",
    "\n",
    "total = global_df.shape[0]\n",
    "for cat_value in unique_dic[\"party_affiliation\"]:\n",
    "    party_affiliation_counts[cat_value] = global_df[global_df[\"party_affiliation\"] == cat_value].shape[0]\n",
    "    party_affiliation_percentages[cat_value] = 100.0 * global_df[global_df[\"party_affiliation\"] == cat_value].shape[0]/total\n",
    "\n",
    "for cat_value in unique_dic[\"race_desc\"]:\n",
    "    race_counts[str(cat_value)] = global_df[global_df[\"race_desc\"] == cat_value].shape[0]\n",
    "    race_percentages[str(cat_value)] =  100.0 * global_df[global_df[\"race_desc\"] == cat_value].shape[0]/total"
   ]
  },
  {
   "cell_type": "markdown",
   "metadata": {},
   "source": [
    "## Thresholding Demographics\n",
    "For Race we stick to 5% </br>\n",
    "For Party affiliation we stick to 5%"
   ]
  },
  {
   "cell_type": "code",
   "execution_count": 35,
   "metadata": {},
   "outputs": [],
   "source": [
    "race_percent_threshold = 5.0\n",
    "race_other_groups = []\n",
    "for cat_value in race_percentages:\n",
    "    if race_percentages[cat_value] <= race_percent_threshold:\n",
    "        race_other_groups.append(cat_value)"
   ]
  },
  {
   "cell_type": "code",
   "execution_count": 36,
   "metadata": {},
   "outputs": [],
   "source": [
    "party_percent_threshold = 5.0\n",
    "party_other_groups = []\n",
    "for cat_value in party_affiliation_percentages:\n",
    "    if party_affiliation_percentages[cat_value] <= party_percent_threshold:\n",
    "        party_other_groups.append(cat_value)"
   ]
  },
  {
   "cell_type": "markdown",
   "metadata": {},
   "source": [
    "# TODO"
   ]
  },
  {
   "cell_type": "code",
   "execution_count": 39,
   "metadata": {},
   "outputs": [],
   "source": [
    "# TODO: Implement others mapping into global and couples dataframe\n",
    "# def create_others_df()"
   ]
  },
  {
   "cell_type": "code",
   "execution_count": 40,
   "metadata": {},
   "outputs": [
    {
     "data": {
      "text/plain": [
       "(13254464, 21)"
      ]
     },
     "execution_count": 40,
     "metadata": {},
     "output_type": "execute_result"
    }
   ],
   "source": [
    "global_df.shape"
   ]
  },
  {
   "cell_type": "code",
   "execution_count": 41,
   "metadata": {},
   "outputs": [
    {
     "name": "stdout",
     "output_type": "stream",
     "text": [
      "{'party_affiliation': {'LPF', 'GRE', 'REF', 'CPF', 'NPA', 'AIP', 'PSL', 'DEM', 'INT', 'IDP', 'ECO', 'REP'}, 'gender': {'F', 'M', 'U'}, 'race_desc': {'Hispanic', 'White', 'Black/Not Hispanic', 'Asian/Pacific Islander', 'Mutli-racial', 'American Indian/Alaskan Native', 'Other', 'Unknown'}}\n"
     ]
    }
   ],
   "source": [
    "print(str(unique_dic))"
   ]
  },
  {
   "cell_type": "markdown",
   "metadata": {},
   "source": [
    "## Generate Pair-wise stats by feature\n",
    "Current focus is only on gender/race/political-affiliation"
   ]
  },
  {
   "cell_type": "code",
   "execution_count": 46,
   "metadata": {},
   "outputs": [],
   "source": [
    "import time\n",
    "from itertools import combinations \n",
    "\n",
    "def generate_pair_stats_by_feature(global_df, couples_df_found, feature, stats={}, others=[]):\n",
    "    print(\"Collecting uniques by feature: \" + feature)\n",
    "    unique_vals = list(global_df[feature].unique())\n",
    "    cat_combinations = list(combinations(list(unique_vals), 2))\n",
    "    \n",
    "    stats[feature] = {}\n",
    "    print(\"Processing : \" + feature + \" : Total comb: \" + str(len(cat_combinations)))\n",
    "    i = 0\n",
    "    start_time = time.time()\n",
    "    stats[feature][\"others\"] = {'count': 0, 'total': 0}\n",
    "    for comb in cat_combinations:\n",
    "        first_val = comb[0]\n",
    "        second_val = comb[1]\n",
    "        \n",
    "        left_right = couples_df_found[(couples_df_found[feature + \"_L\"] == first_val) & (couples_df_found[feature + \"_R\"] == second_val)]\n",
    "        right_left = couples_df_found[(couples_df_found[feature + \"_L\"] == second_val) & (couples_df_found[feature + \"_R\"] == first_val)]\n",
    "        \n",
    "        count = left_right[left_right[\"separated\"] == True].shape[0]\n",
    "        count += right_left[right_left[\"separated\"] == True].shape[0]\n",
    "        \n",
    "        stat = {}\n",
    "        stat[\"count\"] = count\n",
    "        \n",
    "        if count == 0:\n",
    "            continue\n",
    "        \n",
    "        if first_val in others or second_val in others:\n",
    "            stats[feature][\"others\"][\"count\"] += count\n",
    "            stats[feature][\"others\"][\"total\"] += left_right.shape[0] + right_left.shape[0]\n",
    "            continue\n",
    "        \n",
    "        stat[\"total\"] = left_right.shape[0] + right_left.shape[0]\n",
    "        stat[\"percent\"] = count * 100.0/(left_right.shape[0] + right_left.shape[0])\n",
    "        \n",
    "        stats[feature][str(first_val) + \"_\" + str(second_val)] = stat\n",
    "        \n",
    "        i += 1\n",
    "        \n",
    "    print(\"Total value combinations process: \" + str(i) + \" Total time (secs): \" + str(time.time() - start_time))\n",
    "    \n",
    "    print(\"Processing symmetric combinations: \" + feature + \" : Total comb: \" + str(len(unique_vals)))\n",
    "    for val in unique_vals:\n",
    "        subset = couples_df_found[(couples_df_found[feature + \"_L\"] == val) & (couples_df_found[feature + \"_R\"] == val)]\n",
    "        \n",
    "        count = subset[subset[\"separated\"] == True].shape[0]\n",
    "        \n",
    "        if val in others:\n",
    "            stats[feature][\"others\"][\"count\"] += count\n",
    "            stats[feature][\"others\"][\"total\"] += subset.shape[0]\n",
    "            continue\n",
    "        \n",
    "        stat = {}\n",
    "        stat[\"count\"] = count\n",
    "        \n",
    "        if count == 0:\n",
    "            continue\n",
    "        \n",
    "        stat[\"total\"] = subset.shape[0]\n",
    "        stat[\"percent\"] = count * 100.0/(subset.shape[0])\n",
    "        \n",
    "        stats[feature][str(val) + \"_\" + str(val)] = stat\n",
    "        \n",
    "    if len(others) > 0 and stats[feature][\"others\"][\"count\"] > 0:\n",
    "        stats[feature][\"others\"][\"percent\"] = 100.0 * stats[feature][\"others\"][\"count\"]/stats[feature][\"others\"][\"total\"]\n",
    "    else:\n",
    "        del stats[feature][\"others\"]\n",
    "    \n",
    "    print(\"Done with processing feature: \" + feature)\n",
    "    \n",
    "    return stats"
   ]
  },
  {
   "cell_type": "code",
   "execution_count": 117,
   "metadata": {},
   "outputs": [],
   "source": [
    "def plot_pairwise_stat_by_feature(feature, stats, total_couples=1):\n",
    "    feature_stats = stats[feature]\n",
    "    \n",
    "    figures, axes = plt.subplots(nrows=1, ncols=2, figsize=(20,10))\n",
    "    \n",
    "    percent_stats = []\n",
    "    pair_combinations = []\n",
    "    totals = []\n",
    "    \n",
    "    for pair_comb in feature_stats:\n",
    "        percent_stats.append(feature_stats[pair_comb][\"percent\"])\n",
    "        totals.append(feature_stats[pair_comb][\"total\"])\n",
    "        pair_combinations.append(pair_comb)\n",
    "\n",
    "    plot_df = pd.DataFrame({\"percent\": percent_stats, \"category_combination\": pair_combinations, \"totals\": totals})\n",
    "    plot_df[\"category_combination_percentage\"] = 100.0*plot_df[\"totals\"]/total_couples\n",
    "    \n",
    "    sns.barplot(x=\"percent\", y=\"category_combination\", data=plot_df, ax=axes[0], palette=sns.color_palette(\"Set2\"))\n",
    "    sns.barplot(x=\"category_combination_percentage\", y=\"category_combination\", palette=sns.color_palette(\"Set2\"), data=plot_df, ax=axes[1])\n",
    "    axes[0].set_title(feature)\n",
    "    axes[1].set_title(feature + \" wise couple proportion\")\n",
    "    \n",
    "    plt.savefig(\"plots/\" + image_file_prefix + \"/\" + image_file_prefix +  \"_pairwise_stat_\" + feature)\n",
    "    plt.tight_layout()"
   ]
  },
  {
   "cell_type": "code",
   "execution_count": 118,
   "metadata": {},
   "outputs": [
    {
     "name": "stdout",
     "output_type": "stream",
     "text": [
      "Collecting uniques by feature: race_desc\n",
      "Processing : race_desc : Total comb: 28\n",
      "Total value combinations process: 3 Total time (secs): 19.07495379447937\n",
      "Processing symmetric combinations: race_desc : Total comb: 8\n",
      "Done with processing feature: race_desc\n"
     ]
    },
    {
     "data": {
      "image/png": "[encoded data removed]",
      "text/plain": [
       "<Figure size 1440x720 with 2 Axes>"
      ]
     },
     "metadata": {
      "needs_background": "light"
     },
     "output_type": "display_data"
    }
   ],
   "source": [
    "stats = generate_pair_stats_by_feature(global_df, couples_df_found, \"race_desc\", others=race_other_groups)\n",
    "plot_pairwise_stat_by_feature(\"race_desc\", stats, total_couples=couples_df_found.shape[0])"
   ]
  },
  {
   "cell_type": "code",
   "execution_count": 119,
   "metadata": {},
   "outputs": [
    {
     "name": "stdout",
     "output_type": "stream",
     "text": [
      "Collecting uniques by feature: party_affiliation\n",
      "Processing : party_affiliation : Total comb: 66\n",
      "Total value combinations process: 3 Total time (secs): 44.13680648803711\n",
      "Processing symmetric combinations: party_affiliation : Total comb: 12\n",
      "Done with processing feature: party_affiliation\n"
     ]
    },
    {
     "data": {
      "image/png": "[encoded data removed]",
      "text/plain": [
       "<Figure size 1440x720 with 2 Axes>"
      ]
     },
     "metadata": {
      "needs_background": "light"
     },
     "output_type": "display_data"
    }
   ],
   "source": [
    "stats = generate_pair_stats_by_feature(global_df, couples_df_found, \"party_affiliation\", others=party_other_groups)\n",
    "plot_pairwise_stat_by_feature(\"party_affiliation\", stats, total_couples=couples_df_found.shape[0])"
   ]
  },
  {
   "cell_type": "code",
   "execution_count": 120,
   "metadata": {},
   "outputs": [
    {
     "name": "stdout",
     "output_type": "stream",
     "text": [
      "Collecting uniques by feature: gender\n",
      "Processing : gender : Total comb: 3\n",
      "Total value combinations process: 3 Total time (secs): 5.435741186141968\n",
      "Processing symmetric combinations: gender : Total comb: 3\n",
      "Done with processing feature: gender\n"
     ]
    },
    {
     "data": {
      "image/png": "[encoded data removed]",
      "text/plain": [
       "<Figure size 1440x720 with 2 Axes>"
      ]
     },
     "metadata": {
      "needs_background": "light"
     },
     "output_type": "display_data"
    }
   ],
   "source": [
    "stats = generate_pair_stats_by_feature(global_df, couples_df_found, \"gender\", others=party_other_groups)\n",
    "plot_pairwise_stat_by_feature(\"gender\", stats, total_couples=couples_df_found.shape[0])"
   ]
  },
  {
   "cell_type": "code",
   "execution_count": 103,
   "metadata": {},
   "outputs": [
    {
     "data": {
      "text/plain": [
       "{'race_desc': {'others': {'count': 28111,\n",
       "   'total': 232037,\n",
       "   'percent': 12.114878230627012},\n",
       "  'White_Black/Not Hispanic': {'count': 13183,\n",
       "   'total': 47200,\n",
       "   'percent': 27.930084745762713},\n",
       "  'White_Hispanic': {'count': 23351,\n",
       "   'total': 142904,\n",
       "   'percent': 16.34034036835918},\n",
       "  'Black/Not Hispanic_Hispanic': {'count': 6239,\n",
       "   'total': 21416,\n",
       "   'percent': 29.132424355621964},\n",
       "  'White_White': {'count': 144746,\n",
       "   'total': 1784123,\n",
       "   'percent': 8.11300566160517},\n",
       "  'Black/Not Hispanic_Black/Not Hispanic': {'count': 32032,\n",
       "   'total': 223079,\n",
       "   'percent': 14.35903872619117},\n",
       "  'Hispanic_Hispanic': {'count': 29525,\n",
       "   'total': 234533,\n",
       "   'percent': 12.588846772096037}},\n",
       " 'party_affiliation': {'others': {'count': 16862,\n",
       "   'total': 139059,\n",
       "   'percent': 12.125788334447968},\n",
       "  'DEM_REP': {'count': 38081, 'total': 291666, 'percent': 13.056372700280457},\n",
       "  'DEM_NPA': {'count': 47232, 'total': 278974, 'percent': 16.930610021005542},\n",
       "  'REP_NPA': {'count': 33912, 'total': 246367, 'percent': 13.76483051707412},\n",
       "  'DEM_DEM': {'count': 66670, 'total': 659884, 'percent': 10.103290881427645},\n",
       "  'REP_REP': {'count': 46092, 'total': 797405, 'percent': 5.780249684915445},\n",
       "  'NPA_NPA': {'count': 25159, 'total': 253116, 'percent': 9.93971143665355}},\n",
       " 'gender': {'F_M': {'count': 178906,\n",
       "   'total': 2314381,\n",
       "   'percent': 7.730187899053786},\n",
       "  'F_U': {'count': 4805, 'total': 32091, 'percent': 14.973045402137672},\n",
       "  'M_U': {'count': 3753, 'total': 27452, 'percent': 13.671135072125892},\n",
       "  'F_F': {'count': 55163, 'total': 177430, 'percent': 31.090007326833117},\n",
       "  'M_M': {'count': 34291, 'total': 129951, 'percent': 26.387638417557387},\n",
       "  'U_U': {'count': 288, 'total': 4085, 'percent': 7.050183598531212}}}"
      ]
     },
     "execution_count": 103,
     "metadata": {},
     "output_type": "execute_result"
    }
   ],
   "source": [
    "stats"
   ]
  },
  {
   "cell_type": "markdown",
   "metadata": {},
   "source": [
    "## Raw code of combination stats (Obsolete)"
   ]
  },
  {
   "cell_type": "code",
   "execution_count": 37,
   "metadata": {},
   "outputs": [
    {
     "name": "stdout",
     "output_type": "stream",
     "text": [
      "Processing : party_affiliation : Total comb: 66\n",
      "Done with comb: 66\n",
      "Processing symmetric combinations: party_affiliation : Total comb: 12\n",
      "Done with processing column: party_affiliation\n",
      "Processing : gender : Total comb: 3\n",
      "Done with comb: 3\n",
      "Processing symmetric combinations: gender : Total comb: 3\n",
      "Done with processing column: gender\n",
      "Processing : race : Total comb: 28\n",
      "Done with comb: 28\n",
      "Processing symmetric combinations: race : Total comb: 8\n",
      "Done with processing column: race\n"
     ]
    }
   ],
   "source": [
    "from itertools import combinations\n",
    "total_separated = couples_df_found[couples_df_found[\"separated\"] == True].shape[0]\n",
    "stats = {}\n",
    "for c in cols:\n",
    "    cat_combinations = list(combinations(list(unique_dic[c]), 2))\n",
    "    stats[c] = {}\n",
    "    print(\"Processing : \" + c + \" : Total comb: \" + str(len(cat_combinations)))\n",
    "    i = 0\n",
    "    for comb in cat_combinations:\n",
    "        first_val = comb[0]\n",
    "        second_val = comb[1]\n",
    "        \n",
    "        left_right = couples_df_found[(couples_df_found[c + \"_L\"] == first_val) & (couples_df_found[c + \"_R\"] == second_val)]\n",
    "        right_left = couples_df_found[(couples_df_found[c + \"_L\"] == second_val) & (couples_df_found[c + \"_R\"] == first_val)]\n",
    "        count = left_right[left_right[\"separated\"] == True].shape[0]\n",
    "        count += right_left[right_left[\"separated\"] == True].shape[0]\n",
    "        stats[c][str(first_val) + \"_\" + str(second_val)] = count\n",
    "        stats[c][str(first_val) + \"_\" + str(second_val) + \"_\" + \"total\"] = left_right.shape[0] + right_left.shape[0]\n",
    "        i += 1\n",
    "        \n",
    "    print(\"Done with comb: \" + str(i))\n",
    "    \n",
    "    print(\"Processing symmetric combinations: \" + c + \" : Total comb: \" + str(len(unique_dic[c])))\n",
    "    unique_vals = unique_dic[c]\n",
    "    for val in unique_vals:\n",
    "        subset = couples_df_found[(couples_df_found[c + \"_L\"] == val) & (couples_df_found[c + \"_R\"] == val)]\n",
    "        count = subset[subset[\"separated\"] == True].shape[0]\n",
    "        stats[c][str(val) + \"_\" + str(val)] = count\n",
    "        stats[c][str(val) + \"_\" + str(val) + \"_\" + \"total\"] = subset.shape[0]\n",
    "    \n",
    "    print(\"Done with processing column: \" + c)"
   ]
  },
  {
   "cell_type": "markdown",
   "metadata": {},
   "source": [
    "## Raw code of plot (Obsolete)"
   ]
  },
  {
   "cell_type": "code",
   "execution_count": 92,
   "metadata": {
    "collapsed": true,
    "jupyter": {
     "outputs_hidden": true
    }
   },
   "outputs": [
    {
     "data": {
      "image/png": "[encoded data removed]",
      "text/plain": [
       "<Figure size 1440x2160 with 2 Axes>"
      ]
     },
     "metadata": {
      "needs_background": "light"
     },
     "output_type": "display_data"
    }
   ],
   "source": [
    "figures, axes = plt.subplots(nrows=2, ncols=1, figsize=(20,30))\n",
    "race_df = None\n",
    "index = 0\n",
    "for col in stats:\n",
    "    col_stats = stats[col]\n",
    "    percent_stats = {}\n",
    "    for c in col_stats:\n",
    "        if \"total\" in c:\n",
    "            continue\n",
    "        \n",
    "        total = col_stats[c + \"_\" + \"total\"]\n",
    "        if total == 0:\n",
    "            continue\n",
    "            \n",
    "        p = col_stats[c] * 100.0/total\n",
    "        if p < 5.0:\n",
    "            continue\n",
    "        percent_stats[c] = p\n",
    "    \n",
    "    plot_df = pd.DataFrame({\"percent\": list(percent_stats.values()), \"category\": list(percent_stats.keys()) })\n",
    "\n",
    "    plot_df[\"percent_str\"] = plot_df[\"percent\"].apply(str)\n",
    "    \n",
    "#     sns.barplot(x=\"category\", y=\"percent\", data=plot_df, ax=axes[index])\n",
    "    \n",
    "#     sns.barplot(x=\"percent_str\", y=\"category\", data=plot_df, ax=axes[index])\n",
    "    if col == \"race\":\n",
    "        race_df = plot_df\n",
    "#         sns.barplot(x=\"category\", y=\"percent\", data=plot_df, ax=axes[index])\n",
    "    else:\n",
    "        sns.barplot(x=\"percent\", y=\"category\", data=plot_df, ax=axes[index])\n",
    "        axes[index].set_title(col)\n",
    "        \n",
    "\n",
    "    index += 1\n",
    "\n",
    "plt.tight_layout()"
   ]
  },
  {
   "cell_type": "code",
   "execution_count": 54,
   "metadata": {},
   "outputs": [],
   "source": [
    "# sns.barplot(x=\"percent_round\", y=\"category\", data=race_df)"
   ]
  },
  {
   "cell_type": "code",
   "execution_count": 104,
   "metadata": {},
   "outputs": [],
   "source": [
    "age_diff_buckets = [ (i, i + 2) for i in range(0, 16, 3) ]"
   ]
  },
  {
   "cell_type": "code",
   "execution_count": 105,
   "metadata": {},
   "outputs": [
    {
     "data": {
      "text/plain": [
       "[(0, 2), (3, 5), (6, 8), (9, 11), (12, 14), (15, 17)]"
      ]
     },
     "execution_count": 105,
     "metadata": {},
     "output_type": "execute_result"
    }
   ],
   "source": [
    "age_diff_buckets"
   ]
  },
  {
   "cell_type": "code",
   "execution_count": 106,
   "metadata": {},
   "outputs": [
    {
     "data": {
      "text/plain": [
       "array([ 0,  1,  2,  3,  4,  5,  6,  7,  8,  9, 10, 11, 12, 13, 14, 15])"
      ]
     },
     "execution_count": 106,
     "metadata": {},
     "output_type": "execute_result"
    }
   ],
   "source": [
    "couples_df_found.age_diff.unique()"
   ]
  },
  {
   "cell_type": "code",
   "execution_count": 107,
   "metadata": {},
   "outputs": [],
   "source": [
    "age_diff_total_counts = couples_df_found.groupby([\"age_diff\"])[\"age_diff\"].agg([\"count\"]).reset_index()"
   ]
  },
  {
   "cell_type": "code",
   "execution_count": 108,
   "metadata": {},
   "outputs": [
    {
     "data": {
      "text/html": [
       "<div>\n",
       "<style scoped>\n",
       "    .dataframe tbody tr th:only-of-type {\n",
       "        vertical-align: middle;\n",
       "    }\n",
       "\n",
       "    .dataframe tbody tr th {\n",
       "        vertical-align: top;\n",
       "    }\n",
       "\n",
       "    .dataframe thead th {\n",
       "        text-align: right;\n",
       "    }\n",
       "</style>\n",
       "<table border=\"1\" class=\"dataframe\">\n",
       "  <thead>\n",
       "    <tr style=\"text-align: right;\">\n",
       "      <th></th>\n",
       "      <th>age_diff</th>\n",
       "      <th>count</th>\n",
       "    </tr>\n",
       "  </thead>\n",
       "  <tbody>\n",
       "    <tr>\n",
       "      <td>0</td>\n",
       "      <td>0</td>\n",
       "      <td>322522</td>\n",
       "    </tr>\n",
       "    <tr>\n",
       "      <td>1</td>\n",
       "      <td>1</td>\n",
       "      <td>524467</td>\n",
       "    </tr>\n",
       "    <tr>\n",
       "      <td>2</td>\n",
       "      <td>2</td>\n",
       "      <td>417607</td>\n",
       "    </tr>\n",
       "    <tr>\n",
       "      <td>3</td>\n",
       "      <td>3</td>\n",
       "      <td>318657</td>\n",
       "    </tr>\n",
       "    <tr>\n",
       "      <td>4</td>\n",
       "      <td>4</td>\n",
       "      <td>242547</td>\n",
       "    </tr>\n",
       "  </tbody>\n",
       "</table>\n",
       "</div>"
      ],
      "text/plain": [
       "   age_diff   count\n",
       "0         0  322522\n",
       "1         1  524467\n",
       "2         2  417607\n",
       "3         3  318657\n",
       "4         4  242547"
      ]
     },
     "execution_count": 108,
     "metadata": {},
     "output_type": "execute_result"
    }
   ],
   "source": [
    "age_diff_total_counts.head()"
   ]
  },
  {
   "cell_type": "code",
   "execution_count": 121,
   "metadata": {},
   "outputs": [
    {
     "data": {
      "image/png": "[encoded data removed]",
      "text/plain": [
       "<Figure size 432x288 with 1 Axes>"
      ]
     },
     "metadata": {
      "needs_background": "light"
     },
     "output_type": "display_data"
    }
   ],
   "source": [
    "sns.barplot(x=\"age_diff\", y=\"count\", data=age_diff_total_counts)\n",
    "plt.savefig(\"plots/\" + image_file_prefix + \"/\" + image_file_prefix + \"_age_diff_aggregation\")"
   ]
  },
  {
   "cell_type": "code",
   "execution_count": 72,
   "metadata": {},
   "outputs": [],
   "source": [
    "age_diff_separation_stats = couples_df_found[couples_df_found[\"separated\"]==True].groupby([\"age_diff\"])[\"age_diff\"].agg([\"count\"]).reset_index()"
   ]
  },
  {
   "cell_type": "code",
   "execution_count": 76,
   "metadata": {},
   "outputs": [],
   "source": [
    "age_diff_separation_stats = pd.merge(age_diff_total_counts, age_diff_separation_stats, on=[\"age_diff\"], suffixes=(\"_total\", \"_separated\"))"
   ]
  },
  {
   "cell_type": "code",
   "execution_count": 78,
   "metadata": {},
   "outputs": [],
   "source": [
    "age_diff_separation_stats[\"percent\"] = 100.0 * age_diff_separation_stats[\"count_separated\"]/age_diff_separation_stats[\"count_total\"]"
   ]
  },
  {
   "cell_type": "code",
   "execution_count": 79,
   "metadata": {},
   "outputs": [
    {
     "data": {
      "text/html": [
       "<div>\n",
       "<style scoped>\n",
       "    .dataframe tbody tr th:only-of-type {\n",
       "        vertical-align: middle;\n",
       "    }\n",
       "\n",
       "    .dataframe tbody tr th {\n",
       "        vertical-align: top;\n",
       "    }\n",
       "\n",
       "    .dataframe thead th {\n",
       "        text-align: right;\n",
       "    }\n",
       "</style>\n",
       "<table border=\"1\" class=\"dataframe\">\n",
       "  <thead>\n",
       "    <tr style=\"text-align: right;\">\n",
       "      <th></th>\n",
       "      <th>age_diff</th>\n",
       "      <th>count_total</th>\n",
       "      <th>count_separated</th>\n",
       "      <th>percent</th>\n",
       "    </tr>\n",
       "  </thead>\n",
       "  <tbody>\n",
       "    <tr>\n",
       "      <td>0</td>\n",
       "      <td>0</td>\n",
       "      <td>322522</td>\n",
       "      <td>30944</td>\n",
       "      <td>9.594384</td>\n",
       "    </tr>\n",
       "    <tr>\n",
       "      <td>1</td>\n",
       "      <td>1</td>\n",
       "      <td>524467</td>\n",
       "      <td>48480</td>\n",
       "      <td>9.243670</td>\n",
       "    </tr>\n",
       "    <tr>\n",
       "      <td>2</td>\n",
       "      <td>2</td>\n",
       "      <td>417607</td>\n",
       "      <td>39628</td>\n",
       "      <td>9.489305</td>\n",
       "    </tr>\n",
       "    <tr>\n",
       "      <td>3</td>\n",
       "      <td>3</td>\n",
       "      <td>318657</td>\n",
       "      <td>30263</td>\n",
       "      <td>9.497045</td>\n",
       "    </tr>\n",
       "    <tr>\n",
       "      <td>4</td>\n",
       "      <td>4</td>\n",
       "      <td>242547</td>\n",
       "      <td>23279</td>\n",
       "      <td>9.597727</td>\n",
       "    </tr>\n",
       "    <tr>\n",
       "      <td>5</td>\n",
       "      <td>5</td>\n",
       "      <td>187129</td>\n",
       "      <td>18866</td>\n",
       "      <td>10.081815</td>\n",
       "    </tr>\n",
       "    <tr>\n",
       "      <td>6</td>\n",
       "      <td>6</td>\n",
       "      <td>146838</td>\n",
       "      <td>15560</td>\n",
       "      <td>10.596712</td>\n",
       "    </tr>\n",
       "    <tr>\n",
       "      <td>7</td>\n",
       "      <td>7</td>\n",
       "      <td>115936</td>\n",
       "      <td>12971</td>\n",
       "      <td>11.188069</td>\n",
       "    </tr>\n",
       "    <tr>\n",
       "      <td>8</td>\n",
       "      <td>8</td>\n",
       "      <td>92698</td>\n",
       "      <td>11142</td>\n",
       "      <td>12.019677</td>\n",
       "    </tr>\n",
       "    <tr>\n",
       "      <td>9</td>\n",
       "      <td>9</td>\n",
       "      <td>75127</td>\n",
       "      <td>9383</td>\n",
       "      <td>12.489518</td>\n",
       "    </tr>\n",
       "    <tr>\n",
       "      <td>10</td>\n",
       "      <td>10</td>\n",
       "      <td>61568</td>\n",
       "      <td>8138</td>\n",
       "      <td>13.217905</td>\n",
       "    </tr>\n",
       "    <tr>\n",
       "      <td>11</td>\n",
       "      <td>11</td>\n",
       "      <td>50731</td>\n",
       "      <td>7190</td>\n",
       "      <td>14.172794</td>\n",
       "    </tr>\n",
       "    <tr>\n",
       "      <td>12</td>\n",
       "      <td>12</td>\n",
       "      <td>41209</td>\n",
       "      <td>6209</td>\n",
       "      <td>15.067097</td>\n",
       "    </tr>\n",
       "    <tr>\n",
       "      <td>13</td>\n",
       "      <td>13</td>\n",
       "      <td>33987</td>\n",
       "      <td>5447</td>\n",
       "      <td>16.026716</td>\n",
       "    </tr>\n",
       "    <tr>\n",
       "      <td>14</td>\n",
       "      <td>14</td>\n",
       "      <td>29463</td>\n",
       "      <td>5088</td>\n",
       "      <td>17.269117</td>\n",
       "    </tr>\n",
       "    <tr>\n",
       "      <td>15</td>\n",
       "      <td>15</td>\n",
       "      <td>24904</td>\n",
       "      <td>4618</td>\n",
       "      <td>18.543206</td>\n",
       "    </tr>\n",
       "  </tbody>\n",
       "</table>\n",
       "</div>"
      ],
      "text/plain": [
       "    age_diff  count_total  count_separated    percent\n",
       "0          0       322522            30944   9.594384\n",
       "1          1       524467            48480   9.243670\n",
       "2          2       417607            39628   9.489305\n",
       "3          3       318657            30263   9.497045\n",
       "4          4       242547            23279   9.597727\n",
       "5          5       187129            18866  10.081815\n",
       "6          6       146838            15560  10.596712\n",
       "7          7       115936            12971  11.188069\n",
       "8          8        92698            11142  12.019677\n",
       "9          9        75127             9383  12.489518\n",
       "10        10        61568             8138  13.217905\n",
       "11        11        50731             7190  14.172794\n",
       "12        12        41209             6209  15.067097\n",
       "13        13        33987             5447  16.026716\n",
       "14        14        29463             5088  17.269117\n",
       "15        15        24904             4618  18.543206"
      ]
     },
     "execution_count": 79,
     "metadata": {},
     "output_type": "execute_result"
    }
   ],
   "source": [
    "age_diff_separation_stats"
   ]
  },
  {
   "cell_type": "code",
   "execution_count": 122,
   "metadata": {},
   "outputs": [
    {
     "data": {
      "image/png": "[encoded data removed]",
      "text/plain": [
       "<Figure size 432x288 with 1 Axes>"
      ]
     },
     "metadata": {
      "needs_background": "light"
     },
     "output_type": "display_data"
    }
   ],
   "source": [
    "sns.barplot(x=\"age_diff\", y=\"percent\", data=age_diff_separation_stats)\n",
    "plt.savefig(\"plots/\" + image_file_prefix + \"/\" + image_file_prefix + \"_age_diff_separation_percentages\")"
   ]
  },
  {
   "cell_type": "code",
   "execution_count": null,
   "metadata": {},
   "outputs": [],
   "source": []
  },
  {
   "cell_type": "code",
   "execution_count": null,
   "metadata": {},
   "outputs": [],
   "source": []
  }
 ],
 "metadata": {
  "kernelspec": {
   "display_name": "Python 3",
   "language": "python",
   "name": "python3"
  },
  "language_info": {
   "codemirror_mode": {
    "name": "ipython",
    "version": 3
   },
   "file_extension": ".py",
   "mimetype": "text/x-python",
   "name": "python",
   "nbconvert_exporter": "python",
   "pygments_lexer": "ipython3",
   "version": "3.7.4"
  }
 },
 "nbformat": 4,
 "nbformat_minor": 4
}
