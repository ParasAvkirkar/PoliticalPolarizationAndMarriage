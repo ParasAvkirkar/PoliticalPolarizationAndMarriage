{
 "cells": [
  {
   "cell_type": "code",
   "execution_count": 2,
   "metadata": {
    "colab": {
     "base_uri": "https://localhost:8080/",
     "height": 71
    },
    "colab_type": "code",
    "id": "XSvosXFDSRLX",
    "outputId": "0b813c48-6141-4d5a-c8d5-78d0b0cd0bc7"
   },
   "outputs": [],
   "source": [
    "import pandas as pd\n",
    "import random\n",
    "import numpy as np\n",
    "import math\n",
    "import sys\n",
    "import matplotlib.patches as mpatches\n",
    "import matplotlib.pyplot as plt\n",
    "import seaborn as sns\n",
    "import graphviz\n",
    "import xgboost as xgb\n",
    "\n",
    "from xgboost import plot_tree\n",
    "from os import walk\n",
    "from os import listdir\n",
    "from os.path import isfile, join\n",
    "from scipy.spatial.distance import euclidean, pdist, squareform\n",
    "from scipy.stats import skew\n",
    "from scipy.special import expit as sigmoid\n",
    "from scipy.cluster.hierarchy import fclusterdata\n",
    "from pandas.plotting import autocorrelation_plot\n",
    "from sklearn.model_selection import train_test_split\n",
    "from sklearn.linear_model import LogisticRegression\n",
    "from sklearn.linear_model import LinearRegression\n",
    "from sklearn.ensemble import RandomForestClassifier\n",
    "from sklearn import tree\n",
    "from sklearn.metrics import precision_recall_fscore_support\n",
    "from sklearn import preprocessing\n",
    "from sklearn.metrics import confusion_matrix\n",
    "from sklearn.metrics import roc_auc_score\n",
    "from sklearn.utils import resample\n",
    "from imblearn.over_sampling import SMOTE, ADASYN\n",
    "from imblearn.under_sampling import ClusterCentroids\n",
    "from imblearn.under_sampling import RandomUnderSampler\n",
    "from sklearn.preprocessing import LabelEncoder\n",
    "from sklearn.metrics import pairwise_distances\n",
    "from sklearn.cluster import AgglomerativeClustering\n",
    "from sklearn.manifold import TSNE\n",
    "from sklearn.metrics import mean_absolute_error\n",
    "from sklearn.metrics import mean_squared_error"
   ]
  },
  {
   "cell_type": "code",
   "execution_count": 2,
   "metadata": {
    "colab": {
     "base_uri": "https://localhost:8080/",
     "height": 34
    },
    "colab_type": "code",
    "id": "RIXiUihdmtlr",
    "outputId": "84a29f48-2d1b-4b51-8007-05f164133a25"
   },
   "outputs": [
    {
     "name": "stdout",
     "output_type": "stream",
     "text": [
      "Drive already mounted at /content/drive; to attempt to forcibly remount, call drive.mount(\"/content/drive\", force_remount=True).\n"
     ]
    }
   ],
   "source": [
    "from google.colab import drive\n",
    "drive.mount('/content/drive')"
   ]
  },
  {
   "cell_type": "code",
   "execution_count": 3,
   "metadata": {
    "colab": {
     "base_uri": "https://localhost:8080/",
     "height": 119
    },
    "colab_type": "code",
    "id": "VQhWZggyS2zD",
    "outputId": "f46e24ff-60c1-4939-f131-a9172072c842"
   },
   "outputs": [
    {
     "name": "stdout",
     "output_type": "stream",
     "text": [
      "Requirement already satisfied: datatable in /usr/local/lib/python3.6/dist-packages (0.9.0)\n",
      "Requirement already satisfied: typesentry>=0.2.6 in /usr/local/lib/python3.6/dist-packages (from datatable) (0.2.7)\n",
      "Requirement already satisfied: blessed in /usr/local/lib/python3.6/dist-packages (from datatable) (1.16.1)\n",
      "Requirement already satisfied: colorama>=0.3 in /usr/local/lib/python3.6/dist-packages (from typesentry>=0.2.6->datatable) (0.4.1)\n",
      "Requirement already satisfied: six>=1.9.0 in /usr/local/lib/python3.6/dist-packages (from blessed->datatable) (1.12.0)\n",
      "Requirement already satisfied: wcwidth>=0.1.4 in /usr/local/lib/python3.6/dist-packages (from blessed->datatable) (0.1.7)\n"
     ]
    }
   ],
   "source": [
    "!pip install datatable"
   ]
  },
  {
   "cell_type": "code",
   "execution_count": 3,
   "metadata": {
    "colab": {},
    "colab_type": "code",
    "id": "Q6FoxlKYXlZT"
   },
   "outputs": [],
   "source": [
    "import datatable as dt"
   ]
  },
  {
   "cell_type": "code",
   "execution_count": 4,
   "metadata": {
    "colab": {},
    "colab_type": "code",
    "id": "NjntxSYcYpAA"
   },
   "outputs": [],
   "source": [
    "columns = ['last_name','first_name','middle_name','name_suffix','house_number','house_fractional_addr','residence_apartment','residence_pre_street_direction','residence_street_name','residence_post_street_direction','residence_city','residence_zip_code_5','residence_zip_code_4','mail_addr1','mail_addr2','mail_addr3','mail_addr4','dob','gender','political_party','other_party','county_code','election_district','legislative_district','town_city','ward','congressional_district','senate_district','assembly_district','last_date_voted','last_year_voted','last_county_voted','last_registered_address','last_registered_name','county_voter_registration_no','application_date','application_source','identification_required_flag','identification_verification_requirement_met_flag','voter_status_codes','status_reason_codes','inactive_voter_date','purge_voter_date','unique_nys_voter_id','voter_history']\n",
    "selective_columns = columns[0:7] + columns[8:9] + columns[10:12] + columns[17:22] + columns[29:35] + columns[40:41] + columns[44:45]\n",
    "# df = dt.fread('/content/drive/Shared drives/Political Polarization/data/AllNYSVoters_2012/AllNYSVoters.txt', columns=columns)"
   ]
  },
  {
   "cell_type": "code",
   "execution_count": 5,
   "metadata": {
    "colab": {},
    "colab_type": "code",
    "id": "m5FMheQ7DmU6"
   },
   "outputs": [],
   "source": [
    "registration_file_headers = [\n",
    "    'county_code',\n",
    "    'voter_id',\n",
    "    'last_name',\n",
    "    'suffix',\n",
    "    'first_name',\n",
    "    'middle_name',\n",
    "    'requested_public_records_exemption',\n",
    "    'residence_addr_line_1',\n",
    "    'residence_addr_line_2',\n",
    "    'residence_city',\n",
    "    'residence_state',\n",
    "    'residence_zipcode',\n",
    "    'mail_addr_line_1',\n",
    "    'mail_addr_line_2',\n",
    "    'mail_addr_line_3',\n",
    "    'mail_city',\n",
    "    'mail_state',\n",
    "    'mail_zipcode',\n",
    "    'mail_country',\n",
    "    'gender',\n",
    "    'race',\n",
    "    'birth_date',\n",
    "    'registration_date',\n",
    "    'party_affiliation',\n",
    "    'precinct',\n",
    "    'precinct_group',\n",
    "    'precinct_split',\n",
    "    'precinct_suffix',\n",
    "    'voter_status',\n",
    "    'congressional_district',\n",
    "    'house_district',\n",
    "    'senate_district',\n",
    "    'county_commission_district',\n",
    "    'school_board_district',\n",
    "    'daytime_area_code',\n",
    "    'daytime_phone_no',\n",
    "    'daytime_phone_extension',\n",
    "    'email_address'\n",
    "]\n",
    "selective_headers = [\n",
    "    'county_code',\n",
    "    'voter_id',\n",
    "    'last_name',\n",
    "    'first_name',\n",
    "    'middle_name',\n",
    "    'residence_addr_line_1',\n",
    "    'residence_addr_line_2',\n",
    "    'residence_city',\n",
    "    'residence_state',\n",
    "    'residence_zipcode',\n",
    "    'gender',\n",
    "    'race',\n",
    "    'birth_date',\n",
    "    'registration_date',\n",
    "    'party_affiliation',\n",
    "    'voter_status',\n",
    "    'email_address'\n",
    "]"
   ]
  },
  {
   "cell_type": "code",
   "execution_count": 8,
   "metadata": {
    "colab": {},
    "colab_type": "code",
    "id": "v6WZxwq1HGpS"
   },
   "outputs": [],
   "source": [
    "df = pd.read_csv('~/Windows/Documents/CSE519/project/data/Florida_201908/20190813_VoterDetail/BRO_20190813.txt', sep='\\t', header=0, \n",
    "                        names=registration_file_headers, usecols=selective_headers, encoding='ISO-8859-1')"
   ]
  },
  {
   "cell_type": "code",
   "execution_count": 9,
   "metadata": {
    "colab": {
     "base_uri": "https://localhost:8080/",
     "height": 34
    },
    "colab_type": "code",
    "id": "vrTsClw6VcMS",
    "outputId": "79a24497-0725-463b-b422-9b76a98bb1b5"
   },
   "outputs": [
    {
     "data": {
      "text/plain": [
       "(1259869, 17)"
      ]
     },
     "execution_count": 9,
     "metadata": {},
     "output_type": "execute_result"
    }
   ],
   "source": [
    "df.shape"
   ]
  },
  {
   "cell_type": "code",
   "execution_count": 10,
   "metadata": {
    "colab": {
     "base_uri": "https://localhost:8080/",
     "height": 306
    },
    "colab_type": "code",
    "id": "wSbpcfzWHcbN",
    "outputId": "c490471b-cb98-4ae1-892b-09366c3ac1b5"
   },
   "outputs": [
    {
     "data": {
      "text/plain": [
       "county_code                   0\n",
       "voter_id                      0\n",
       "last_name                     0\n",
       "first_name                    0\n",
       "middle_name              310047\n",
       "residence_addr_line_1         0\n",
       "residence_addr_line_2         0\n",
       "residence_city                3\n",
       "residence_state               0\n",
       "residence_zipcode             0\n",
       "gender                       41\n",
       "race                          0\n",
       "birth_date                 4678\n",
       "registration_date             0\n",
       "party_affiliation             0\n",
       "voter_status                  0\n",
       "email_address                 0\n",
       "dtype: int64"
      ]
     },
     "execution_count": 10,
     "metadata": {},
     "output_type": "execute_result"
    }
   ],
   "source": [
    "df.isna().sum()"
   ]
  },
  {
   "cell_type": "code",
   "execution_count": 11,
   "metadata": {
    "colab": {},
    "colab_type": "code",
    "id": "WeqxsKj4KAMs"
   },
   "outputs": [],
   "source": [
    "req_cols = ['residence_city', 'gender', 'birth_date']\n",
    "df = df.dropna(subset=req_cols)"
   ]
  },
  {
   "cell_type": "code",
   "execution_count": 12,
   "metadata": {
    "colab": {
     "base_uri": "https://localhost:8080/",
     "height": 306
    },
    "colab_type": "code",
    "id": "ZTZj1E2QKLdO",
    "outputId": "b639e558-2ae6-4fe2-d0cc-45bc3fe4082c"
   },
   "outputs": [
    {
     "data": {
      "text/plain": [
       "county_code                   0\n",
       "voter_id                      0\n",
       "last_name                     0\n",
       "first_name                    0\n",
       "middle_name              310026\n",
       "residence_addr_line_1         0\n",
       "residence_addr_line_2         0\n",
       "residence_city                0\n",
       "residence_state               0\n",
       "residence_zipcode             0\n",
       "gender                        0\n",
       "race                          0\n",
       "birth_date                    0\n",
       "registration_date             0\n",
       "party_affiliation             0\n",
       "voter_status                  0\n",
       "email_address                 0\n",
       "dtype: int64"
      ]
     },
     "execution_count": 12,
     "metadata": {},
     "output_type": "execute_result"
    }
   ],
   "source": [
    "df.isna().sum()"
   ]
  },
  {
   "cell_type": "code",
   "execution_count": 13,
   "metadata": {
    "colab": {
     "base_uri": "https://localhost:8080/",
     "height": 34
    },
    "colab_type": "code",
    "id": "uadTo-vMKQZA",
    "outputId": "783b24a3-b268-4801-f1dc-29cd9461dd68"
   },
   "outputs": [
    {
     "data": {
      "text/plain": [
       "(1255147, 17)"
      ]
     },
     "execution_count": 13,
     "metadata": {},
     "output_type": "execute_result"
    }
   ],
   "source": [
    "df.shape"
   ]
  },
  {
   "cell_type": "code",
   "execution_count": 14,
   "metadata": {
    "colab": {},
    "colab_type": "code",
    "id": "7IGGUI7OK_yc"
   },
   "outputs": [],
   "source": [
    "from datetime import datetime\n",
    "from datetime import date\n",
    "\n",
    "def calculate_age(born):\n",
    "  born = datetime.strptime(str(born), \"%m/%d/%Y\").date()\n",
    "  today = date.today()\n",
    "  return today.year - born.year - ((today.month, today.day) < (born.month, born.day))\n",
    "\n",
    "df['age'] = df['birth_date'].apply(calculate_age)"
   ]
  },
  {
   "cell_type": "code",
   "execution_count": 15,
   "metadata": {
    "colab": {
     "base_uri": "https://localhost:8080/",
     "height": 204
    },
    "colab_type": "code",
    "id": "wzaH212mLOPd",
    "outputId": "d19b5fd3-0fcb-4590-b01b-47e4341baa34"
   },
   "outputs": [
    {
     "data": {
      "text/html": [
       "<div>\n",
       "<style scoped>\n",
       "    .dataframe tbody tr th:only-of-type {\n",
       "        vertical-align: middle;\n",
       "    }\n",
       "\n",
       "    .dataframe tbody tr th {\n",
       "        vertical-align: top;\n",
       "    }\n",
       "\n",
       "    .dataframe thead th {\n",
       "        text-align: right;\n",
       "    }\n",
       "</style>\n",
       "<table border=\"1\" class=\"dataframe\">\n",
       "  <thead>\n",
       "    <tr style=\"text-align: right;\">\n",
       "      <th></th>\n",
       "      <th>age</th>\n",
       "      <th>birth_date</th>\n",
       "    </tr>\n",
       "  </thead>\n",
       "  <tbody>\n",
       "    <tr>\n",
       "      <td>0</td>\n",
       "      <td>68</td>\n",
       "      <td>11/07/1951</td>\n",
       "    </tr>\n",
       "    <tr>\n",
       "      <td>1</td>\n",
       "      <td>34</td>\n",
       "      <td>12/17/1984</td>\n",
       "    </tr>\n",
       "    <tr>\n",
       "      <td>2</td>\n",
       "      <td>44</td>\n",
       "      <td>10/22/1975</td>\n",
       "    </tr>\n",
       "    <tr>\n",
       "      <td>3</td>\n",
       "      <td>67</td>\n",
       "      <td>08/02/1952</td>\n",
       "    </tr>\n",
       "    <tr>\n",
       "      <td>4</td>\n",
       "      <td>48</td>\n",
       "      <td>05/31/1971</td>\n",
       "    </tr>\n",
       "  </tbody>\n",
       "</table>\n",
       "</div>"
      ],
      "text/plain": [
       "   age  birth_date\n",
       "0   68  11/07/1951\n",
       "1   34  12/17/1984\n",
       "2   44  10/22/1975\n",
       "3   67  08/02/1952\n",
       "4   48  05/31/1971"
      ]
     },
     "execution_count": 15,
     "metadata": {},
     "output_type": "execute_result"
    }
   ],
   "source": [
    "df.head()[['age', 'birth_date']]"
   ]
  },
  {
   "cell_type": "code",
   "execution_count": 16,
   "metadata": {
    "colab": {
     "base_uri": "https://localhost:8080/",
     "height": 224
    },
    "colab_type": "code",
    "id": "JQ_w01TsLVR4",
    "outputId": "30c345c5-df60-44a3-86d0-da04f2e84780"
   },
   "outputs": [
    {
     "data": {
      "text/html": [
       "<div>\n",
       "<style scoped>\n",
       "    .dataframe tbody tr th:only-of-type {\n",
       "        vertical-align: middle;\n",
       "    }\n",
       "\n",
       "    .dataframe tbody tr th {\n",
       "        vertical-align: top;\n",
       "    }\n",
       "\n",
       "    .dataframe thead th {\n",
       "        text-align: right;\n",
       "    }\n",
       "</style>\n",
       "<table border=\"1\" class=\"dataframe\">\n",
       "  <thead>\n",
       "    <tr style=\"text-align: right;\">\n",
       "      <th></th>\n",
       "      <th>county_code</th>\n",
       "      <th>voter_id</th>\n",
       "      <th>last_name</th>\n",
       "      <th>first_name</th>\n",
       "      <th>middle_name</th>\n",
       "      <th>residence_addr_line_1</th>\n",
       "      <th>residence_addr_line_2</th>\n",
       "      <th>residence_city</th>\n",
       "      <th>residence_state</th>\n",
       "      <th>residence_zipcode</th>\n",
       "      <th>gender</th>\n",
       "      <th>race</th>\n",
       "      <th>birth_date</th>\n",
       "      <th>registration_date</th>\n",
       "      <th>party_affiliation</th>\n",
       "      <th>voter_status</th>\n",
       "      <th>email_address</th>\n",
       "      <th>age</th>\n",
       "    </tr>\n",
       "  </thead>\n",
       "  <tbody>\n",
       "    <tr>\n",
       "      <td>0</td>\n",
       "      <td>BRO</td>\n",
       "      <td>101394357</td>\n",
       "      <td>Cruz</td>\n",
       "      <td>Stephen</td>\n",
       "      <td>Anthony</td>\n",
       "      <td>200  NW 43rd Ave</td>\n",
       "      <td></td>\n",
       "      <td>Coconut Creek</td>\n",
       "      <td></td>\n",
       "      <td>330661702</td>\n",
       "      <td>M</td>\n",
       "      <td>5</td>\n",
       "      <td>11/07/1951</td>\n",
       "      <td>04/18/1984</td>\n",
       "      <td>NPA</td>\n",
       "      <td>ACT</td>\n",
       "      <td></td>\n",
       "      <td>68</td>\n",
       "    </tr>\n",
       "    <tr>\n",
       "      <td>1</td>\n",
       "      <td>BRO</td>\n",
       "      <td>117596571</td>\n",
       "      <td>Hossain</td>\n",
       "      <td>Danielle</td>\n",
       "      <td>Ann</td>\n",
       "      <td>8040  NW 96Th Ter</td>\n",
       "      <td>APT 107</td>\n",
       "      <td>Tamarac</td>\n",
       "      <td></td>\n",
       "      <td>333211357</td>\n",
       "      <td>F</td>\n",
       "      <td>5</td>\n",
       "      <td>12/17/1984</td>\n",
       "      <td>10/11/2010</td>\n",
       "      <td>DEM</td>\n",
       "      <td>ACT</td>\n",
       "      <td></td>\n",
       "      <td>34</td>\n",
       "    </tr>\n",
       "    <tr>\n",
       "      <td>2</td>\n",
       "      <td>BRO</td>\n",
       "      <td>117702085</td>\n",
       "      <td>Ulysse</td>\n",
       "      <td>Marline</td>\n",
       "      <td>NaN</td>\n",
       "      <td>3000  SW 64Th Ter</td>\n",
       "      <td></td>\n",
       "      <td>Miramar</td>\n",
       "      <td></td>\n",
       "      <td>33023</td>\n",
       "      <td>F</td>\n",
       "      <td>3</td>\n",
       "      <td>10/22/1975</td>\n",
       "      <td>09/27/2010</td>\n",
       "      <td>DEM</td>\n",
       "      <td>ACT</td>\n",
       "      <td></td>\n",
       "      <td>44</td>\n",
       "    </tr>\n",
       "    <tr>\n",
       "      <td>3</td>\n",
       "      <td>BRO</td>\n",
       "      <td>101356402</td>\n",
       "      <td>Ward-Jones</td>\n",
       "      <td>Patricia</td>\n",
       "      <td>Ann</td>\n",
       "      <td>4921  NW 17th St</td>\n",
       "      <td></td>\n",
       "      <td>Lauderhill</td>\n",
       "      <td></td>\n",
       "      <td>33313</td>\n",
       "      <td>F</td>\n",
       "      <td>3</td>\n",
       "      <td>08/02/1952</td>\n",
       "      <td>03/27/1982</td>\n",
       "      <td>DEM</td>\n",
       "      <td>ACT</td>\n",
       "      <td></td>\n",
       "      <td>67</td>\n",
       "    </tr>\n",
       "    <tr>\n",
       "      <td>4</td>\n",
       "      <td>BRO</td>\n",
       "      <td>118484365</td>\n",
       "      <td>Drouncheck</td>\n",
       "      <td>Eric</td>\n",
       "      <td>NaN</td>\n",
       "      <td>712  SW 158th Ter</td>\n",
       "      <td></td>\n",
       "      <td>Pembroke Pines</td>\n",
       "      <td></td>\n",
       "      <td>330275000</td>\n",
       "      <td>M</td>\n",
       "      <td>5</td>\n",
       "      <td>05/31/1971</td>\n",
       "      <td>10/11/2010</td>\n",
       "      <td>REP</td>\n",
       "      <td>ACT</td>\n",
       "      <td></td>\n",
       "      <td>48</td>\n",
       "    </tr>\n",
       "  </tbody>\n",
       "</table>\n",
       "</div>"
      ],
      "text/plain": [
       "  county_code   voter_id   last_name first_name middle_name  \\\n",
       "0         BRO  101394357        Cruz    Stephen     Anthony   \n",
       "1         BRO  117596571     Hossain   Danielle         Ann   \n",
       "2         BRO  117702085      Ulysse    Marline         NaN   \n",
       "3         BRO  101356402  Ward-Jones   Patricia         Ann   \n",
       "4         BRO  118484365  Drouncheck       Eric         NaN   \n",
       "\n",
       "  residence_addr_line_1 residence_addr_line_2  residence_city residence_state  \\\n",
       "0     200  NW 43rd Ave                          Coconut Creek                   \n",
       "1    8040  NW 96Th Ter                APT 107         Tamarac                   \n",
       "2    3000  SW 64Th Ter                                Miramar                   \n",
       "3     4921  NW 17th St                             Lauderhill                   \n",
       "4    712  SW 158th Ter                         Pembroke Pines                   \n",
       "\n",
       "  residence_zipcode gender  race  birth_date registration_date  \\\n",
       "0         330661702      M     5  11/07/1951        04/18/1984   \n",
       "1         333211357      F     5  12/17/1984        10/11/2010   \n",
       "2             33023      F     3  10/22/1975        09/27/2010   \n",
       "3             33313      F     3  08/02/1952        03/27/1982   \n",
       "4         330275000      M     5  05/31/1971        10/11/2010   \n",
       "\n",
       "  party_affiliation voter_status email_address  age  \n",
       "0               NPA          ACT                 68  \n",
       "1               DEM          ACT                 34  \n",
       "2               DEM          ACT                 44  \n",
       "3               DEM          ACT                 67  \n",
       "4               REP          ACT                 48  "
      ]
     },
     "execution_count": 16,
     "metadata": {},
     "output_type": "execute_result"
    }
   ],
   "source": [
    "df.head()"
   ]
  },
  {
   "cell_type": "code",
   "execution_count": 17,
   "metadata": {
    "colab": {},
    "colab_type": "code",
    "id": "M57m3joHLsdn"
   },
   "outputs": [],
   "source": [
    "str_cols_lower = [\n",
    "    'last_name',\n",
    "    'first_name',\n",
    "    'middle_name',\n",
    "    'residence_addr_line_1',\n",
    "    'residence_addr_line_2',\n",
    "    'residence_city',\n",
    "    'residence_state',\n",
    "    'email_address'\n",
    "]\n",
    "str_cols_upper = [\n",
    "    'county_code',\n",
    "    'gender',\n",
    "    'party_affiliation',\n",
    "    'voter_status'\n",
    "]"
   ]
  },
  {
   "cell_type": "code",
   "execution_count": 18,
   "metadata": {
    "colab": {},
    "colab_type": "code",
    "id": "Cp8STf_9M0ov"
   },
   "outputs": [],
   "source": [
    "for col in str_cols_lower:\n",
    "  df[col] = df[col].apply(lambda x: str(x).strip().lower())\n",
    "for col in str_cols_upper:\n",
    "  df[col] = df[col].apply(lambda x: str(x).strip().upper())"
   ]
  },
  {
   "cell_type": "code",
   "execution_count": 19,
   "metadata": {
    "colab": {},
    "colab_type": "code",
    "id": "-JlUTb79S6P5"
   },
   "outputs": [],
   "source": [
    "df['residence_zipcode_5'] = df['residence_zipcode'].apply(lambda x: int(str(x)[:5]))"
   ]
  },
  {
   "cell_type": "code",
   "execution_count": 20,
   "metadata": {
    "colab": {},
    "colab_type": "code",
    "id": "KLKJLE3MVynC"
   },
   "outputs": [],
   "source": [
    "def generate_zipcode_4(zip):\n",
    "  zip = str(zip)\n",
    "  if len(zip) > 5:\n",
    "    return int(zip[-4:])\n",
    "  else:\n",
    "    return ''\n",
    "\n",
    "df['residence_zipcode_4'] = df['residence_zipcode'].apply(generate_zipcode_4)"
   ]
  },
  {
   "cell_type": "code",
   "execution_count": 21,
   "metadata": {
    "colab": {},
    "colab_type": "code",
    "id": "R2VnNfitfS95"
   },
   "outputs": [],
   "source": [
    "df['uniq_addr'] = df[['residence_addr_line_1', 'residence_addr_line_2', 'residence_city']].apply(lambda x: ' '.join(x), axis=1)"
   ]
  },
  {
   "cell_type": "code",
   "execution_count": 22,
   "metadata": {
    "colab": {
     "base_uri": "https://localhost:8080/",
     "height": 445
    },
    "colab_type": "code",
    "id": "TBW8Oah_TLIh",
    "outputId": "a292848b-4c35-42c2-d4fc-e2cb2ed55dcb"
   },
   "outputs": [
    {
     "data": {
      "text/html": [
       "<div>\n",
       "<style scoped>\n",
       "    .dataframe tbody tr th:only-of-type {\n",
       "        vertical-align: middle;\n",
       "    }\n",
       "\n",
       "    .dataframe tbody tr th {\n",
       "        vertical-align: top;\n",
       "    }\n",
       "\n",
       "    .dataframe thead th {\n",
       "        text-align: right;\n",
       "    }\n",
       "</style>\n",
       "<table border=\"1\" class=\"dataframe\">\n",
       "  <thead>\n",
       "    <tr style=\"text-align: right;\">\n",
       "      <th></th>\n",
       "      <th>county_code</th>\n",
       "      <th>voter_id</th>\n",
       "      <th>last_name</th>\n",
       "      <th>first_name</th>\n",
       "      <th>middle_name</th>\n",
       "      <th>residence_addr_line_1</th>\n",
       "      <th>residence_addr_line_2</th>\n",
       "      <th>residence_city</th>\n",
       "      <th>residence_state</th>\n",
       "      <th>residence_zipcode</th>\n",
       "      <th>...</th>\n",
       "      <th>race</th>\n",
       "      <th>birth_date</th>\n",
       "      <th>registration_date</th>\n",
       "      <th>party_affiliation</th>\n",
       "      <th>voter_status</th>\n",
       "      <th>email_address</th>\n",
       "      <th>age</th>\n",
       "      <th>residence_zipcode_5</th>\n",
       "      <th>residence_zipcode_4</th>\n",
       "      <th>uniq_addr</th>\n",
       "    </tr>\n",
       "  </thead>\n",
       "  <tbody>\n",
       "    <tr>\n",
       "      <td>0</td>\n",
       "      <td>BRO</td>\n",
       "      <td>101394357</td>\n",
       "      <td>cruz</td>\n",
       "      <td>stephen</td>\n",
       "      <td>anthony</td>\n",
       "      <td>200  nw 43rd ave</td>\n",
       "      <td></td>\n",
       "      <td>coconut creek</td>\n",
       "      <td></td>\n",
       "      <td>330661702</td>\n",
       "      <td>...</td>\n",
       "      <td>5</td>\n",
       "      <td>11/07/1951</td>\n",
       "      <td>04/18/1984</td>\n",
       "      <td>NPA</td>\n",
       "      <td>ACT</td>\n",
       "      <td></td>\n",
       "      <td>68</td>\n",
       "      <td>33066</td>\n",
       "      <td>1702</td>\n",
       "      <td>200  nw 43rd ave  coconut creek</td>\n",
       "    </tr>\n",
       "    <tr>\n",
       "      <td>1</td>\n",
       "      <td>BRO</td>\n",
       "      <td>117596571</td>\n",
       "      <td>hossain</td>\n",
       "      <td>danielle</td>\n",
       "      <td>ann</td>\n",
       "      <td>8040  nw 96th ter</td>\n",
       "      <td>apt 107</td>\n",
       "      <td>tamarac</td>\n",
       "      <td></td>\n",
       "      <td>333211357</td>\n",
       "      <td>...</td>\n",
       "      <td>5</td>\n",
       "      <td>12/17/1984</td>\n",
       "      <td>10/11/2010</td>\n",
       "      <td>DEM</td>\n",
       "      <td>ACT</td>\n",
       "      <td></td>\n",
       "      <td>34</td>\n",
       "      <td>33321</td>\n",
       "      <td>1357</td>\n",
       "      <td>8040  nw 96th ter apt 107 tamarac</td>\n",
       "    </tr>\n",
       "    <tr>\n",
       "      <td>2</td>\n",
       "      <td>BRO</td>\n",
       "      <td>117702085</td>\n",
       "      <td>ulysse</td>\n",
       "      <td>marline</td>\n",
       "      <td>nan</td>\n",
       "      <td>3000  sw 64th ter</td>\n",
       "      <td></td>\n",
       "      <td>miramar</td>\n",
       "      <td></td>\n",
       "      <td>33023</td>\n",
       "      <td>...</td>\n",
       "      <td>3</td>\n",
       "      <td>10/22/1975</td>\n",
       "      <td>09/27/2010</td>\n",
       "      <td>DEM</td>\n",
       "      <td>ACT</td>\n",
       "      <td></td>\n",
       "      <td>44</td>\n",
       "      <td>33023</td>\n",
       "      <td></td>\n",
       "      <td>3000  sw 64th ter  miramar</td>\n",
       "    </tr>\n",
       "    <tr>\n",
       "      <td>3</td>\n",
       "      <td>BRO</td>\n",
       "      <td>101356402</td>\n",
       "      <td>ward-jones</td>\n",
       "      <td>patricia</td>\n",
       "      <td>ann</td>\n",
       "      <td>4921  nw 17th st</td>\n",
       "      <td></td>\n",
       "      <td>lauderhill</td>\n",
       "      <td></td>\n",
       "      <td>33313</td>\n",
       "      <td>...</td>\n",
       "      <td>3</td>\n",
       "      <td>08/02/1952</td>\n",
       "      <td>03/27/1982</td>\n",
       "      <td>DEM</td>\n",
       "      <td>ACT</td>\n",
       "      <td></td>\n",
       "      <td>67</td>\n",
       "      <td>33313</td>\n",
       "      <td></td>\n",
       "      <td>4921  nw 17th st  lauderhill</td>\n",
       "    </tr>\n",
       "    <tr>\n",
       "      <td>4</td>\n",
       "      <td>BRO</td>\n",
       "      <td>118484365</td>\n",
       "      <td>drouncheck</td>\n",
       "      <td>eric</td>\n",
       "      <td>nan</td>\n",
       "      <td>712  sw 158th ter</td>\n",
       "      <td></td>\n",
       "      <td>pembroke pines</td>\n",
       "      <td></td>\n",
       "      <td>330275000</td>\n",
       "      <td>...</td>\n",
       "      <td>5</td>\n",
       "      <td>05/31/1971</td>\n",
       "      <td>10/11/2010</td>\n",
       "      <td>REP</td>\n",
       "      <td>ACT</td>\n",
       "      <td></td>\n",
       "      <td>48</td>\n",
       "      <td>33027</td>\n",
       "      <td>5000</td>\n",
       "      <td>712  sw 158th ter  pembroke pines</td>\n",
       "    </tr>\n",
       "  </tbody>\n",
       "</table>\n",
       "<p>5 rows × 21 columns</p>\n",
       "</div>"
      ],
      "text/plain": [
       "  county_code   voter_id   last_name first_name middle_name  \\\n",
       "0         BRO  101394357        cruz    stephen     anthony   \n",
       "1         BRO  117596571     hossain   danielle         ann   \n",
       "2         BRO  117702085      ulysse    marline         nan   \n",
       "3         BRO  101356402  ward-jones   patricia         ann   \n",
       "4         BRO  118484365  drouncheck       eric         nan   \n",
       "\n",
       "  residence_addr_line_1 residence_addr_line_2  residence_city residence_state  \\\n",
       "0      200  nw 43rd ave                         coconut creek                   \n",
       "1     8040  nw 96th ter               apt 107         tamarac                   \n",
       "2     3000  sw 64th ter                               miramar                   \n",
       "3      4921  nw 17th st                            lauderhill                   \n",
       "4     712  sw 158th ter                        pembroke pines                   \n",
       "\n",
       "  residence_zipcode  ... race  birth_date registration_date party_affiliation  \\\n",
       "0         330661702  ...    5  11/07/1951        04/18/1984               NPA   \n",
       "1         333211357  ...    5  12/17/1984        10/11/2010               DEM   \n",
       "2             33023  ...    3  10/22/1975        09/27/2010               DEM   \n",
       "3             33313  ...    3  08/02/1952        03/27/1982               DEM   \n",
       "4         330275000  ...    5  05/31/1971        10/11/2010               REP   \n",
       "\n",
       "  voter_status email_address age  residence_zipcode_5  residence_zipcode_4  \\\n",
       "0          ACT                68                33066                 1702   \n",
       "1          ACT                34                33321                 1357   \n",
       "2          ACT                44                33023                        \n",
       "3          ACT                67                33313                        \n",
       "4          ACT                48                33027                 5000   \n",
       "\n",
       "                           uniq_addr  \n",
       "0    200  nw 43rd ave  coconut creek  \n",
       "1  8040  nw 96th ter apt 107 tamarac  \n",
       "2         3000  sw 64th ter  miramar  \n",
       "3       4921  nw 17th st  lauderhill  \n",
       "4  712  sw 158th ter  pembroke pines  \n",
       "\n",
       "[5 rows x 21 columns]"
      ]
     },
     "execution_count": 22,
     "metadata": {},
     "output_type": "execute_result"
    }
   ],
   "source": [
    "df.head()"
   ]
  },
  {
   "cell_type": "code",
   "execution_count": null,
   "metadata": {
    "colab": {},
    "colab_type": "code",
    "id": "ScT8LX4KV1Sl"
   },
   "outputs": [],
   "source": [
    "last_name_counts = df.last_name.value_counts().to_dict()\n",
    "last_names = set([name for name in last_name_counts if last_name_counts[name] > 1])"
   ]
  },
  {
   "cell_type": "code",
   "execution_count": 36,
   "metadata": {
    "colab": {
     "base_uri": "https://localhost:8080/",
     "height": 34
    },
    "colab_type": "code",
    "id": "C-sz2j2cbmaZ",
    "outputId": "00d2b0be-20a8-44dc-99af-79b1444afeec"
   },
   "outputs": [],
   "source": [
    "gb = df.groupby(['uniq_addr', 'last_name'])"
   ]
  },
  {
   "cell_type": "code",
   "execution_count": 64,
   "metadata": {},
   "outputs": [
    {
     "data": {
      "text/plain": [
       "False    734576\n",
       "True     218614\n",
       "Name: first_name, dtype: int64"
      ]
     },
     "execution_count": 64,
     "metadata": {},
     "output_type": "execute_result"
    }
   ],
   "source": [
    "(gb['first_name'].count() > 1).value_counts()"
   ]
  },
  {
   "cell_type": "code",
   "execution_count": null,
   "metadata": {},
   "outputs": [],
   "source": []
  }
 ],
 "metadata": {
  "accelerator": "GPU",
  "colab": {
   "machine_shape": "hm",
   "name": "political-polarization.ipynb",
   "provenance": []
  },
  "kernelspec": {
   "display_name": "Python 3",
   "language": "python",
   "name": "python3"
  },
  "language_info": {
   "codemirror_mode": {
    "name": "ipython",
    "version": 3
   },
   "file_extension": ".py",
   "mimetype": "text/x-python",
   "name": "python",
   "nbconvert_exporter": "python",
   "pygments_lexer": "ipython3",
   "version": "3.7.4"
  }
 },
 "nbformat": 4,
 "nbformat_minor": 4
}
