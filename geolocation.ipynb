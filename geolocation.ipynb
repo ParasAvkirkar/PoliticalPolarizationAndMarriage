{
 "cells": [
  {
   "cell_type": "code",
   "execution_count": null,
   "metadata": {},
   "outputs": [],
   "source": [
    "import geopy\n",
    "import pandas as pd"
   ]
  },
  {
   "cell_type": "code",
   "execution_count": null,
   "metadata": {},
   "outputs": [],
   "source": [
    "couples_df = pd.read_csv('couples/20140319/couples_FLA_20140319.csv', sep='\\t')"
   ]
  },
  {
   "cell_type": "code",
   "execution_count": null,
   "metadata": {},
   "outputs": [],
   "source": [
    "couples_df.head()"
   ]
  },
  {
   "cell_type": "code",
   "execution_count": null,
   "metadata": {},
   "outputs": [],
   "source": [
    "couples_df['uniq_addr'] = couples_df[['residence_addr_line_1_L', 'residence_city_L']].apply(lambda x: ' '.join(x), axis=1)"
   ]
  },
  {
   "cell_type": "code",
   "execution_count": null,
   "metadata": {},
   "outputs": [],
   "source": [
    "addr_to_zip = {couples_df.uniq_addr[i]: couples_df.residence_zipcode_5_L[i] for i in range(len(couples_df))}"
   ]
  },
  {
   "cell_type": "code",
   "execution_count": 66,
   "metadata": {},
   "outputs": [],
   "source": [
    "uniq_addresses = couples_df['uniq_addr'].unique()"
   ]
  },
  {
   "cell_type": "code",
   "execution_count": 67,
   "metadata": {},
   "outputs": [
    {
     "data": {
      "text/plain": [
       "20009"
      ]
     },
     "execution_count": 67,
     "metadata": {},
     "output_type": "execute_result"
    }
   ],
   "source": [
    "len(uniq_addresses)"
   ]
  },
  {
   "cell_type": "code",
   "execution_count": 68,
   "metadata": {},
   "outputs": [
    {
     "data": {
      "text/plain": [
       "array(['609   yorkshire dr flagler beach', '123   cochise ct palm coast',\n",
       "       '18   san miguel ct palm coast', ...,\n",
       "       '128   parkview dr palm coast', '58   red mill dr palm coast',\n",
       "       '53   ocean oaks ln palm coast'], dtype=object)"
      ]
     },
     "execution_count": 68,
     "metadata": {},
     "output_type": "execute_result"
    }
   ],
   "source": [
    "uniq_addresses"
   ]
  },
  {
   "cell_type": "code",
   "execution_count": 63,
   "metadata": {},
   "outputs": [],
   "source": [
    "from geopy.geocoders import Nominatim\n",
    "geolocator = Nominatim(user_agent=\"pp\")\n",
    "from geopy.extra.rate_limiter import RateLimiter\n",
    "geocode = RateLimiter(geolocator.geocode, min_delay_seconds=1)\n",
    "location = geocode({ 'postalcode': '32164'})\n"
   ]
  },
  {
   "cell_type": "code",
   "execution_count": 64,
   "metadata": {},
   "outputs": [
    {
     "data": {
      "text/plain": [
       "Location(Palm Coast, Flagler County, Florida, 32164, United States of America, (29.4988703677898, -81.2246984147163, 0.0))"
      ]
     },
     "execution_count": 64,
     "metadata": {},
     "output_type": "execute_result"
    }
   ],
   "source": [
    "location"
   ]
  },
  {
   "cell_type": "code",
   "execution_count": null,
   "metadata": {},
   "outputs": [
    {
     "name": "stdout",
     "output_type": "stream",
     "text": [
      "Iteration: 0\n",
      "Iteration: 100\n"
     ]
    }
   ],
   "source": [
    "from geopy.geocoders import Nominatim\n",
    "from geopy.extra.rate_limiter import RateLimiter\n",
    "import tqdm\n",
    "geolocator = Nominatim(user_agent=\"pp\")\n",
    "geocode = RateLimiter(geolocator.geocode, min_delay_seconds=0.8)\n",
    "\n",
    "failed = []\n",
    "with open('geolocation.csv', 'w') as file:\n",
    "    for addr in tqdm.tqdm(uniq_addresses):\n",
    "#         if i % 100 == 0:\n",
    "#             print('Iteration: ' + str(i))\n",
    "        try:\n",
    "            location = geocode(addr)\n",
    "        except exception as e:\n",
    "            location = None\n",
    "        if location:\n",
    "            write_line = '\\t'.join([addr, str(location.address), str(location.latitude), str(location.longitude), str(location.altitude)]) + '\\n'\n",
    "            file.write(write_line)\n",
    "        else:\n",
    "            try:\n",
    "                location = geocode({'postalcode': addr_to_zip[addr]})\n",
    "            except Exception as e:\n",
    "                location = None\n",
    "            if location:\n",
    "                write_line = '\\t'.join([addr, str(location.address), str(location.latitude), str(location.longitude), str(location.altitude)]) + '\\n'\n",
    "                file.write(write_line)\n",
    "            else:\n",
    "                failed.append(addr)\n",
    "#                 print('Failed: ' + str(len(failed)))"
   ]
  },
  {
   "cell_type": "code",
   "execution_count": null,
   "metadata": {},
   "outputs": [],
   "source": []
  }
 ],
 "metadata": {
  "kernelspec": {
   "display_name": "Python 3",
   "language": "python",
   "name": "python3"
  },
  "language_info": {
   "codemirror_mode": {
    "name": "ipython",
    "version": 3
   },
   "file_extension": ".py",
   "mimetype": "text/x-python",
   "name": "python",
   "nbconvert_exporter": "python",
   "pygments_lexer": "ipython3",
   "version": "3.7.4"
  }
 },
 "nbformat": 4,
 "nbformat_minor": 4
}
