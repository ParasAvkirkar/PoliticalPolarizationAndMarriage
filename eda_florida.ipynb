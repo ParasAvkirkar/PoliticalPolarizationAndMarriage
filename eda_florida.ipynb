{
 "cells": [
  {
   "cell_type": "code",
   "execution_count": 1,
   "metadata": {},
   "outputs": [],
   "source": [
    "import pandas as pd\n",
    "import random\n",
    "import numpy as np\n",
    "import time\n",
    "import math\n",
    "import sys\n",
    "import matplotlib.patches as mpatches\n",
    "import matplotlib.pyplot as plt\n",
    "import seaborn as sns\n",
    "import xgboost as xgb\n",
    "import datatable as dt\n",
    "\n",
    "from xgboost import plot_tree\n",
    "from os import walk\n",
    "from os import listdir\n",
    "from os.path import isfile, join\n",
    "from scipy.spatial.distance import euclidean, pdist, squareform\n",
    "from scipy.stats import skew\n",
    "from scipy.special import expit as sigmoid\n",
    "from scipy.cluster.hierarchy import fclusterdata\n",
    "from pandas.plotting import autocorrelation_plot\n",
    "from sklearn.model_selection import train_test_split\n",
    "from sklearn.linear_model import LogisticRegression\n",
    "from sklearn.linear_model import LinearRegression\n",
    "from sklearn.ensemble import RandomForestClassifier\n",
    "from sklearn import tree\n",
    "from sklearn.metrics import precision_recall_fscore_support\n",
    "from sklearn import preprocessing\n",
    "from sklearn.metrics import confusion_matrix\n",
    "from sklearn.metrics import roc_auc_score\n",
    "from sklearn.utils import resample\n",
    "from imblearn.over_sampling import SMOTE, ADASYN\n",
    "from imblearn.under_sampling import ClusterCentroids\n",
    "from imblearn.under_sampling import RandomUnderSampler\n",
    "from sklearn.preprocessing import LabelEncoder\n",
    "from sklearn.metrics import pairwise_distances\n",
    "from sklearn.cluster import AgglomerativeClustering\n",
    "from sklearn.manifold import TSNE\n",
    "from sklearn.metrics import mean_absolute_error\n",
    "from sklearn.metrics import mean_squared_error"
   ]
  },
  {
   "cell_type": "code",
   "execution_count": null,
   "metadata": {},
   "outputs": [],
   "source": []
  },
  {
   "cell_type": "code",
   "execution_count": 2,
   "metadata": {},
   "outputs": [],
   "source": [
    "DATA_PATH = ''\n",
    "HISTORY_PATH = \"Voter_History_{0}\"\n",
    "REGISTRATION_PATH = \"{0}_VoterDetail\""
   ]
  },
  {
   "cell_type": "code",
   "execution_count": 3,
   "metadata": {},
   "outputs": [],
   "source": [
    "date = '20190813'"
   ]
  },
  {
   "cell_type": "code",
   "execution_count": 4,
   "metadata": {},
   "outputs": [],
   "source": [
    "def get_county_files():\n",
    "    registration_path = REGISTRATION_PATH.format(str(date))\n",
    "    county_files = []\n",
    "    for f in listdir(registration_path):\n",
    "        if isfile(registration_path + \"/\" + f):\n",
    "            county_files.append(registration_path + \"/\" + f)\n",
    "    return county_files"
   ]
  },
  {
   "cell_type": "code",
   "execution_count": 5,
   "metadata": {},
   "outputs": [],
   "source": [
    "county_files = get_county_files()"
   ]
  },
  {
   "cell_type": "code",
   "execution_count": 6,
   "metadata": {},
   "outputs": [],
   "source": [
    "largest_county = './DAD_20190813.txt'"
   ]
  },
  {
   "cell_type": "code",
   "execution_count": 7,
   "metadata": {},
   "outputs": [],
   "source": [
    "registration_file_headers = [\n",
    "    'county_code',\n",
    "    'voter_id',\n",
    "    'last_name',\n",
    "    'suffix',\n",
    "    'first_name',\n",
    "    'middle_name',\n",
    "    'requested_public_records_exemption',\n",
    "    'residence_addr_line_1',\n",
    "    'residence_addr_line_2',\n",
    "    'residence_city',\n",
    "    'residence_state',\n",
    "    'residence_zipcode',\n",
    "    'mail_addr_line_1',\n",
    "    'mail_addr_line_2',\n",
    "    'mail_addr_line_3',\n",
    "    'mail_city',\n",
    "    'mail_state',\n",
    "    'mail_zipcode',\n",
    "    'mail_country',\n",
    "    'gender',\n",
    "    'race',\n",
    "    'birth_date',\n",
    "    'registration_date',\n",
    "    'party_affiliation',\n",
    "    'precinct',\n",
    "    'precinct_group',\n",
    "    'precinct_split',\n",
    "    'precinct_suffix',\n",
    "    'voter_status',\n",
    "    'congressional_district',\n",
    "    'house_district',\n",
    "    'senate_district',\n",
    "    'county_commission_district',\n",
    "    'school_board_district',\n",
    "    'daytime_area_code',\n",
    "    'daytime_phone_no',\n",
    "    'daytime_phone_extension',\n",
    "    'email_address'\n",
    "]\n",
    "selective_headers = [\n",
    "    'first_name',\n",
    "    'middle_name',\n",
    "    'last_name',\n",
    "    'birth_date',\n",
    "    'county_code',\n",
    "    'residence_addr_line_1',\n",
    "    'residence_addr_line_2',\n",
    "    'residence_city',\n",
    "    'residence_state',\n",
    "    'residence_zipcode',\n",
    "    'gender',\n",
    "    'race',\n",
    "    'registration_date',\n",
    "    'precinct',\n",
    "    'voter_id',\n",
    "    'party_affiliation',\n",
    "    'voter_status',\n",
    "    'email_address'\n",
    "]"
   ]
  },
  {
   "cell_type": "code",
   "execution_count": 90,
   "metadata": {},
   "outputs": [],
   "source": [
    "global_df = pd.read_csv( REGISTRATION_PATH.format(str('20190813')) + \"/\" + largest_county, sep='\\t', names=registration_file_headers, usecols=selective_headers)"
   ]
  },
  {
   "cell_type": "code",
   "execution_count": 91,
   "metadata": {},
   "outputs": [
    {
     "data": {
      "text/plain": [
       "county_code                   0\n",
       "voter_id                      0\n",
       "last_name                     0\n",
       "first_name                    0\n",
       "middle_name              535060\n",
       "residence_addr_line_1         0\n",
       "residence_addr_line_2         0\n",
       "residence_city                0\n",
       "residence_state               0\n",
       "residence_zipcode             0\n",
       "gender                      139\n",
       "race                          0\n",
       "birth_date                 3435\n",
       "registration_date             0\n",
       "party_affiliation             0\n",
       "precinct                      1\n",
       "voter_status                  0\n",
       "email_address                 0\n",
       "dtype: int64"
      ]
     },
     "execution_count": 91,
     "metadata": {},
     "output_type": "execute_result"
    }
   ],
   "source": [
    "global_df.isnull().sum()"
   ]
  },
  {
   "cell_type": "code",
   "execution_count": 92,
   "metadata": {},
   "outputs": [],
   "source": [
    "global_df.dropna(inplace=True)"
   ]
  },
  {
   "cell_type": "code",
   "execution_count": 93,
   "metadata": {},
   "outputs": [
    {
     "data": {
      "text/plain": [
       "county_code              0\n",
       "voter_id                 0\n",
       "last_name                0\n",
       "first_name               0\n",
       "middle_name              0\n",
       "residence_addr_line_1    0\n",
       "residence_addr_line_2    0\n",
       "residence_city           0\n",
       "residence_state          0\n",
       "residence_zipcode        0\n",
       "gender                   0\n",
       "race                     0\n",
       "birth_date               0\n",
       "registration_date        0\n",
       "party_affiliation        0\n",
       "precinct                 0\n",
       "voter_status             0\n",
       "email_address            0\n",
       "dtype: int64"
      ]
     },
     "execution_count": 93,
     "metadata": {},
     "output_type": "execute_result"
    }
   ],
   "source": [
    "global_df.isnull().sum()"
   ]
  },
  {
   "cell_type": "code",
   "execution_count": 94,
   "metadata": {},
   "outputs": [],
   "source": [
    "from datetime import datetime\n",
    "from datetime import date\n",
    "\n",
    "def calculate_age(born):\n",
    "    born = datetime.strptime(str(born), \"%m/%d/%Y\").date()\n",
    "    today = datetime.strptime(\"08/13/2019\", \"%m/%d/%Y\").date()\n",
    "    return today.year - born.year - ((today.month, today.day) < (born.month, born.day))\n",
    "\n",
    "global_df['age'] = global_df['birth_date'].apply(calculate_age)"
   ]
  },
  {
   "cell_type": "code",
   "execution_count": 95,
   "metadata": {},
   "outputs": [
    {
     "data": {
      "text/html": [
       "<div>\n",
       "<style scoped>\n",
       "    .dataframe tbody tr th:only-of-type {\n",
       "        vertical-align: middle;\n",
       "    }\n",
       "\n",
       "    .dataframe tbody tr th {\n",
       "        vertical-align: top;\n",
       "    }\n",
       "\n",
       "    .dataframe thead th {\n",
       "        text-align: right;\n",
       "    }\n",
       "</style>\n",
       "<table border=\"1\" class=\"dataframe\">\n",
       "  <thead>\n",
       "    <tr style=\"text-align: right;\">\n",
       "      <th></th>\n",
       "      <th>county_code</th>\n",
       "      <th>voter_id</th>\n",
       "      <th>last_name</th>\n",
       "      <th>first_name</th>\n",
       "      <th>middle_name</th>\n",
       "      <th>residence_addr_line_1</th>\n",
       "      <th>residence_addr_line_2</th>\n",
       "      <th>residence_city</th>\n",
       "      <th>residence_state</th>\n",
       "      <th>residence_zipcode</th>\n",
       "      <th>gender</th>\n",
       "      <th>race</th>\n",
       "      <th>birth_date</th>\n",
       "      <th>registration_date</th>\n",
       "      <th>party_affiliation</th>\n",
       "      <th>precinct</th>\n",
       "      <th>voter_status</th>\n",
       "      <th>email_address</th>\n",
       "      <th>age</th>\n",
       "    </tr>\n",
       "  </thead>\n",
       "  <tbody>\n",
       "    <tr>\n",
       "      <td>0</td>\n",
       "      <td>DAD</td>\n",
       "      <td>120685459</td>\n",
       "      <td>Cedeno</td>\n",
       "      <td>Kristia</td>\n",
       "      <td>Lex Andree Palma</td>\n",
       "      <td>3245   Virginia ST</td>\n",
       "      <td>APT 38</td>\n",
       "      <td>Miami</td>\n",
       "      <td></td>\n",
       "      <td>33133</td>\n",
       "      <td>F</td>\n",
       "      <td>2</td>\n",
       "      <td>12/21/1988</td>\n",
       "      <td>01/24/2013</td>\n",
       "      <td>NPA</td>\n",
       "      <td>587</td>\n",
       "      <td>ACT</td>\n",
       "      <td></td>\n",
       "      <td>30</td>\n",
       "    </tr>\n",
       "    <tr>\n",
       "      <td>1</td>\n",
       "      <td>DAD</td>\n",
       "      <td>117588041</td>\n",
       "      <td>Cade</td>\n",
       "      <td>Anthony</td>\n",
       "      <td>Dywane</td>\n",
       "      <td>16931  SW 100Th PL</td>\n",
       "      <td></td>\n",
       "      <td>Miami</td>\n",
       "      <td></td>\n",
       "      <td>33157</td>\n",
       "      <td>M</td>\n",
       "      <td>3</td>\n",
       "      <td>11/29/1990</td>\n",
       "      <td>06/09/2009</td>\n",
       "      <td>REP</td>\n",
       "      <td>818</td>\n",
       "      <td>ACT</td>\n",
       "      <td></td>\n",
       "      <td>28</td>\n",
       "    </tr>\n",
       "    <tr>\n",
       "      <td>2</td>\n",
       "      <td>DAD</td>\n",
       "      <td>120684443</td>\n",
       "      <td>Felix  Estrada</td>\n",
       "      <td>Rafael</td>\n",
       "      <td>Enrique</td>\n",
       "      <td>257  E 4Th ST</td>\n",
       "      <td>APT 207</td>\n",
       "      <td>Hialeah</td>\n",
       "      <td></td>\n",
       "      <td>33010</td>\n",
       "      <td>M</td>\n",
       "      <td>4</td>\n",
       "      <td>11/10/1986</td>\n",
       "      <td>01/24/2013</td>\n",
       "      <td>NPA</td>\n",
       "      <td>340</td>\n",
       "      <td>ACT</td>\n",
       "      <td></td>\n",
       "      <td>32</td>\n",
       "    </tr>\n",
       "    <tr>\n",
       "      <td>3</td>\n",
       "      <td>DAD</td>\n",
       "      <td>109101127</td>\n",
       "      <td>Tadeo</td>\n",
       "      <td>Martha</td>\n",
       "      <td>Sarah</td>\n",
       "      <td>1145  SW 12Th St</td>\n",
       "      <td></td>\n",
       "      <td>Miami</td>\n",
       "      <td></td>\n",
       "      <td>33129</td>\n",
       "      <td>F</td>\n",
       "      <td>4</td>\n",
       "      <td>05/08/1940</td>\n",
       "      <td>10/28/1975</td>\n",
       "      <td>REP</td>\n",
       "      <td>567</td>\n",
       "      <td>ACT</td>\n",
       "      <td></td>\n",
       "      <td>79</td>\n",
       "    </tr>\n",
       "    <tr>\n",
       "      <td>4</td>\n",
       "      <td>DAD</td>\n",
       "      <td>109341804</td>\n",
       "      <td>Gonzalez</td>\n",
       "      <td>Jose</td>\n",
       "      <td>Santiago</td>\n",
       "      <td>27881  SW 139Th Ct</td>\n",
       "      <td></td>\n",
       "      <td>Homestead</td>\n",
       "      <td></td>\n",
       "      <td>33032</td>\n",
       "      <td>M</td>\n",
       "      <td>4</td>\n",
       "      <td>05/11/1971</td>\n",
       "      <td>05/10/1989</td>\n",
       "      <td>DEM</td>\n",
       "      <td>903</td>\n",
       "      <td>ACT</td>\n",
       "      <td></td>\n",
       "      <td>48</td>\n",
       "    </tr>\n",
       "  </tbody>\n",
       "</table>\n",
       "</div>"
      ],
      "text/plain": [
       "  county_code   voter_id       last_name first_name       middle_name  \\\n",
       "0         DAD  120685459          Cedeno    Kristia  Lex Andree Palma   \n",
       "1         DAD  117588041            Cade    Anthony            Dywane   \n",
       "2         DAD  120684443  Felix  Estrada     Rafael           Enrique   \n",
       "3         DAD  109101127           Tadeo     Martha             Sarah   \n",
       "4         DAD  109341804        Gonzalez       Jose          Santiago   \n",
       "\n",
       "  residence_addr_line_1 residence_addr_line_2 residence_city residence_state  \\\n",
       "0   3245   Virginia ST                 APT 38          Miami                   \n",
       "1   16931  SW 100Th PL                                 Miami                   \n",
       "2        257  E 4Th ST                APT 207        Hialeah                   \n",
       "3     1145  SW 12Th St                                 Miami                   \n",
       "4   27881  SW 139Th Ct                             Homestead                   \n",
       "\n",
       "  residence_zipcode gender  race  birth_date registration_date  \\\n",
       "0             33133      F     2  12/21/1988        01/24/2013   \n",
       "1             33157      M     3  11/29/1990        06/09/2009   \n",
       "2             33010      M     4  11/10/1986        01/24/2013   \n",
       "3             33129      F     4  05/08/1940        10/28/1975   \n",
       "4             33032      M     4  05/11/1971        05/10/1989   \n",
       "\n",
       "  party_affiliation precinct voter_status email_address  age  \n",
       "0               NPA      587          ACT                 30  \n",
       "1               REP      818          ACT                 28  \n",
       "2               NPA      340          ACT                 32  \n",
       "3               REP      567          ACT                 79  \n",
       "4               DEM      903          ACT                 48  "
      ]
     },
     "execution_count": 95,
     "metadata": {},
     "output_type": "execute_result"
    }
   ],
   "source": [
    "global_df.head()"
   ]
  },
  {
   "cell_type": "code",
   "execution_count": 96,
   "metadata": {},
   "outputs": [],
   "source": [
    "str_cols_lower = [\n",
    "    'last_name',\n",
    "    'first_name',\n",
    "    'middle_name',\n",
    "    'residence_addr_line_1',\n",
    "    'residence_addr_line_2',\n",
    "    'residence_city',\n",
    "    'residence_state',\n",
    "    'email_address'\n",
    "]\n",
    "str_cols_upper = [\n",
    "    'county_code',\n",
    "    'gender',\n",
    "    'party_affiliation',\n",
    "    'voter_status'\n",
    "]"
   ]
  },
  {
   "cell_type": "code",
   "execution_count": 97,
   "metadata": {},
   "outputs": [],
   "source": [
    "for col in str_cols_lower:\n",
    "    global_df[col] = global_df[col].apply(lambda x: str(x).strip().lower())\n",
    "for col in str_cols_upper:\n",
    "    global_df[col] = global_df[col].apply(lambda x: str(x).strip().upper())"
   ]
  },
  {
   "cell_type": "code",
   "execution_count": 98,
   "metadata": {},
   "outputs": [],
   "source": [
    "global_df['residence_zipcode_5'] = global_df['residence_zipcode'].apply(lambda x: int(str(x)[:5]))"
   ]
  },
  {
   "cell_type": "code",
   "execution_count": 99,
   "metadata": {},
   "outputs": [],
   "source": [
    "def generate_zipcode_4(zip):\n",
    "    zip = str(zip)\n",
    "    if len(zip) > 5:\n",
    "        return int(zip[-4:])\n",
    "    else:\n",
    "        return ''\n",
    "\n",
    "global_df['residence_zipcode_4'] = global_df['residence_zipcode'].apply(generate_zipcode_4)"
   ]
  },
  {
   "cell_type": "code",
   "execution_count": 100,
   "metadata": {},
   "outputs": [],
   "source": [
    "global_df['uniq_addr'] = global_df[['residence_addr_line_1', 'residence_addr_line_2', 'residence_city', 'residence_zipcode_5']].apply(lambda x: ' '.join([str(y) for y in x]), axis=1)"
   ]
  },
  {
   "cell_type": "code",
   "execution_count": 101,
   "metadata": {},
   "outputs": [],
   "source": [
    "import re\n",
    "global_df['uniq_addr'] = global_df['uniq_addr'].apply(lambda x: re.sub(\"[^0-9a-zA-Z\\s]+\", '', x))"
   ]
  },
  {
   "cell_type": "code",
   "execution_count": 102,
   "metadata": {},
   "outputs": [],
   "source": [
    "global_df['uniq_addr'] = global_df['uniq_addr'].apply(lambda x: x.strip())"
   ]
  },
  {
   "cell_type": "code",
   "execution_count": 103,
   "metadata": {},
   "outputs": [
    {
     "data": {
      "text/plain": [
       "0    3245   virginia st apt 38 miami 33133\n",
       "1          16931  sw 100th pl  miami 33157\n",
       "2      257  e 4th st apt 207 hialeah 33010\n",
       "3            1145  sw 12th st  miami 33129\n",
       "4      27881  sw 139th ct  homestead 33032\n",
       "Name: uniq_addr, dtype: object"
      ]
     },
     "execution_count": 103,
     "metadata": {},
     "output_type": "execute_result"
    }
   ],
   "source": [
    "global_df['uniq_addr'].head()"
   ]
  },
  {
   "cell_type": "code",
   "execution_count": 104,
   "metadata": {},
   "outputs": [],
   "source": [
    "aggregated_df = global_df.groupby(['uniq_addr', 'last_name'])['last_name'].agg(['count']).reset_index()\n",
    "# aggregated_df.columns = [' '.join(col).strip() for col in aggregated_df.columns.values]"
   ]
  },
  {
   "cell_type": "code",
   "execution_count": 105,
   "metadata": {},
   "outputs": [],
   "source": [
    "aggregated_df = aggregated_df.rename(columns={\"count\": \"member_count\"})"
   ]
  },
  {
   "cell_type": "code",
   "execution_count": 106,
   "metadata": {},
   "outputs": [],
   "source": [
    "global_df = pd.merge(global_df, aggregated_df, on=['uniq_addr', 'last_name'], how='inner')"
   ]
  },
  {
   "cell_type": "code",
   "execution_count": 107,
   "metadata": {},
   "outputs": [],
   "source": [
    "house_size_2 = global_df[global_df['member_count'] == 2]"
   ]
  },
  {
   "cell_type": "code",
   "execution_count": 108,
   "metadata": {},
   "outputs": [],
   "source": [
    "male_df = house_size_2[house_size_2['gender'] == 'M']"
   ]
  },
  {
   "cell_type": "code",
   "execution_count": 109,
   "metadata": {},
   "outputs": [],
   "source": [
    "female_df = house_size_2[house_size_2['gender'] == 'F']"
   ]
  },
  {
   "cell_type": "code",
   "execution_count": 110,
   "metadata": {},
   "outputs": [],
   "source": [
    "temp = pd.merge(male_df, female_df, on=['uniq_addr', 'last_name'], how='inner', suffixes=('_male', '_female'))"
   ]
  },
  {
   "cell_type": "code",
   "execution_count": 121,
   "metadata": {},
   "outputs": [],
   "source": [
    "lower_age_threshold = 30\n",
    "age_diff_threshold = 20"
   ]
  },
  {
   "cell_type": "code",
   "execution_count": 124,
   "metadata": {},
   "outputs": [],
   "source": [
    "def couple_heuristic(row):\n",
    "    age_diff = abs(row['age_male'] - row['age_female'])\n",
    "    if row['age_male'] >= lower_age_threshold and row['age_female'] >= lower_age_threshold and age_diff <= age_diff_threshold:\n",
    "        return True\n",
    "    return False\n",
    "        "
   ]
  },
  {
   "cell_type": "code",
   "execution_count": 129,
   "metadata": {},
   "outputs": [],
   "source": [
    "couples = temp[temp.apply(couple_heuristic, axis=1)]"
   ]
  },
  {
   "cell_type": "code",
   "execution_count": 146,
   "metadata": {},
   "outputs": [],
   "source": [
    "polarized_couples = couples[couples['party_affiliation_male'] != couples['party_affiliation_female']]"
   ]
  },
  {
   "cell_type": "code",
   "execution_count": 149,
   "metadata": {},
   "outputs": [],
   "source": [
    "couples.to_csv('all_couples_20190813.csv', sep='\\t')"
   ]
  },
  {
   "cell_type": "code",
   "execution_count": 150,
   "metadata": {},
   "outputs": [],
   "source": [
    "polarized_couples.to_csv('polarized_couples_20190813.csv', sep='\\t')"
   ]
  },
  {
   "cell_type": "code",
   "execution_count": 152,
   "metadata": {},
   "outputs": [
    {
     "data": {
      "text/plain": [
       "<matplotlib.axes._subplots.AxesSubplot at 0x7fd93d51cdd0>"
      ]
     },
     "execution_count": 152,
     "metadata": {},
     "output_type": "execute_result"
    },
    {
     "data": {
      "image/png": "[encoded data removed]",
      "text/plain": [
       "<Figure size 432x288 with 1 Axes>"
      ]
     },
     "metadata": {
      "needs_background": "light"
     },
     "output_type": "display_data"
    }
   ],
   "source": [
    "polarized_couples['party_affiliation_male'].hist()"
   ]
  },
  {
   "cell_type": "code",
   "execution_count": 157,
   "metadata": {},
   "outputs": [
    {
     "data": {
      "text/plain": [
       "pandas.core.frame.DataFrame"
      ]
     },
     "execution_count": 157,
     "metadata": {},
     "output_type": "execute_result"
    }
   ],
   "source": [
    "type(polarized_couples)"
   ]
  },
  {
   "cell_type": "code",
   "execution_count": 161,
   "metadata": {},
   "outputs": [
    {
     "data": {
      "text/plain": [
       "<matplotlib.axes._subplots.AxesSubplot at 0x7fd9ab275710>"
      ]
     },
     "execution_count": 161,
     "metadata": {},
     "output_type": "execute_result"
    },
    {
     "data": {
      "image/png": "[encoded data removed]",
      "text/plain": [
       "<Figure size 432x288 with 1 Axes>"
      ]
     },
     "metadata": {
      "needs_background": "light"
     },
     "output_type": "display_data"
    }
   ],
   "source": [
    "figs, axes = plt.subplots(nrows=1, ncols=1)\n",
    "sns.barplot(x='party_affiliation_male', y='count', data=polarized_couples.groupby(['party_affiliation_male'])['first_name_male'].agg(['count']).reset_index())"
   ]
  },
  {
   "cell_type": "code",
   "execution_count": null,
   "metadata": {},
   "outputs": [],
   "source": []
  },
  {
   "cell_type": "code",
   "execution_count": 114,
   "metadata": {},
   "outputs": [
    {
     "data": {
      "text/plain": [
       "(941446, 23)"
      ]
     },
     "execution_count": 114,
     "metadata": {},
     "output_type": "execute_result"
    }
   ],
   "source": [
    "global_df.shape"
   ]
  },
  {
   "cell_type": "code",
   "execution_count": 115,
   "metadata": {},
   "outputs": [
    {
     "data": {
      "text/html": [
       "<div>\n",
       "<style scoped>\n",
       "    .dataframe tbody tr th:only-of-type {\n",
       "        vertical-align: middle;\n",
       "    }\n",
       "\n",
       "    .dataframe tbody tr th {\n",
       "        vertical-align: top;\n",
       "    }\n",
       "\n",
       "    .dataframe thead th {\n",
       "        text-align: right;\n",
       "    }\n",
       "</style>\n",
       "<table border=\"1\" class=\"dataframe\">\n",
       "  <thead>\n",
       "    <tr style=\"text-align: right;\">\n",
       "      <th></th>\n",
       "      <th>county_code</th>\n",
       "      <th>voter_id</th>\n",
       "      <th>last_name</th>\n",
       "      <th>first_name</th>\n",
       "      <th>middle_name</th>\n",
       "      <th>residence_addr_line_1</th>\n",
       "      <th>residence_addr_line_2</th>\n",
       "      <th>residence_city</th>\n",
       "      <th>residence_state</th>\n",
       "      <th>residence_zipcode</th>\n",
       "      <th>...</th>\n",
       "      <th>registration_date</th>\n",
       "      <th>party_affiliation</th>\n",
       "      <th>precinct</th>\n",
       "      <th>voter_status</th>\n",
       "      <th>email_address</th>\n",
       "      <th>age</th>\n",
       "      <th>residence_zipcode_5</th>\n",
       "      <th>residence_zipcode_4</th>\n",
       "      <th>uniq_addr</th>\n",
       "      <th>member_count</th>\n",
       "    </tr>\n",
       "  </thead>\n",
       "  <tbody>\n",
       "    <tr>\n",
       "      <td>0</td>\n",
       "      <td>DAD</td>\n",
       "      <td>120685459</td>\n",
       "      <td>cedeno</td>\n",
       "      <td>kristia</td>\n",
       "      <td>lex andree palma</td>\n",
       "      <td>3245   virginia st</td>\n",
       "      <td>apt 38</td>\n",
       "      <td>miami</td>\n",
       "      <td></td>\n",
       "      <td>33133</td>\n",
       "      <td>...</td>\n",
       "      <td>01/24/2013</td>\n",
       "      <td>NPA</td>\n",
       "      <td>587</td>\n",
       "      <td>ACT</td>\n",
       "      <td></td>\n",
       "      <td>30</td>\n",
       "      <td>33133</td>\n",
       "      <td></td>\n",
       "      <td>3245   virginia st apt 38 miami 33133</td>\n",
       "      <td>1</td>\n",
       "    </tr>\n",
       "    <tr>\n",
       "      <td>1</td>\n",
       "      <td>DAD</td>\n",
       "      <td>117588041</td>\n",
       "      <td>cade</td>\n",
       "      <td>anthony</td>\n",
       "      <td>dywane</td>\n",
       "      <td>16931  sw 100th pl</td>\n",
       "      <td></td>\n",
       "      <td>miami</td>\n",
       "      <td></td>\n",
       "      <td>33157</td>\n",
       "      <td>...</td>\n",
       "      <td>06/09/2009</td>\n",
       "      <td>REP</td>\n",
       "      <td>818</td>\n",
       "      <td>ACT</td>\n",
       "      <td></td>\n",
       "      <td>28</td>\n",
       "      <td>33157</td>\n",
       "      <td></td>\n",
       "      <td>16931  sw 100th pl  miami 33157</td>\n",
       "      <td>1</td>\n",
       "    </tr>\n",
       "    <tr>\n",
       "      <td>2</td>\n",
       "      <td>DAD</td>\n",
       "      <td>120684443</td>\n",
       "      <td>felix  estrada</td>\n",
       "      <td>rafael</td>\n",
       "      <td>enrique</td>\n",
       "      <td>257  e 4th st</td>\n",
       "      <td>apt 207</td>\n",
       "      <td>hialeah</td>\n",
       "      <td></td>\n",
       "      <td>33010</td>\n",
       "      <td>...</td>\n",
       "      <td>01/24/2013</td>\n",
       "      <td>NPA</td>\n",
       "      <td>340</td>\n",
       "      <td>ACT</td>\n",
       "      <td></td>\n",
       "      <td>32</td>\n",
       "      <td>33010</td>\n",
       "      <td></td>\n",
       "      <td>257  e 4th st apt 207 hialeah 33010</td>\n",
       "      <td>1</td>\n",
       "    </tr>\n",
       "    <tr>\n",
       "      <td>3</td>\n",
       "      <td>DAD</td>\n",
       "      <td>109101127</td>\n",
       "      <td>tadeo</td>\n",
       "      <td>martha</td>\n",
       "      <td>sarah</td>\n",
       "      <td>1145  sw 12th st</td>\n",
       "      <td></td>\n",
       "      <td>miami</td>\n",
       "      <td></td>\n",
       "      <td>33129</td>\n",
       "      <td>...</td>\n",
       "      <td>10/28/1975</td>\n",
       "      <td>REP</td>\n",
       "      <td>567</td>\n",
       "      <td>ACT</td>\n",
       "      <td></td>\n",
       "      <td>79</td>\n",
       "      <td>33129</td>\n",
       "      <td></td>\n",
       "      <td>1145  sw 12th st  miami 33129</td>\n",
       "      <td>1</td>\n",
       "    </tr>\n",
       "    <tr>\n",
       "      <td>4</td>\n",
       "      <td>DAD</td>\n",
       "      <td>109341804</td>\n",
       "      <td>gonzalez</td>\n",
       "      <td>jose</td>\n",
       "      <td>santiago</td>\n",
       "      <td>27881  sw 139th ct</td>\n",
       "      <td></td>\n",
       "      <td>homestead</td>\n",
       "      <td></td>\n",
       "      <td>33032</td>\n",
       "      <td>...</td>\n",
       "      <td>05/10/1989</td>\n",
       "      <td>DEM</td>\n",
       "      <td>903</td>\n",
       "      <td>ACT</td>\n",
       "      <td></td>\n",
       "      <td>48</td>\n",
       "      <td>33032</td>\n",
       "      <td></td>\n",
       "      <td>27881  sw 139th ct  homestead 33032</td>\n",
       "      <td>1</td>\n",
       "    </tr>\n",
       "  </tbody>\n",
       "</table>\n",
       "<p>5 rows × 23 columns</p>\n",
       "</div>"
      ],
      "text/plain": [
       "  county_code   voter_id       last_name first_name       middle_name  \\\n",
       "0         DAD  120685459          cedeno    kristia  lex andree palma   \n",
       "1         DAD  117588041            cade    anthony            dywane   \n",
       "2         DAD  120684443  felix  estrada     rafael           enrique   \n",
       "3         DAD  109101127           tadeo     martha             sarah   \n",
       "4         DAD  109341804        gonzalez       jose          santiago   \n",
       "\n",
       "  residence_addr_line_1 residence_addr_line_2 residence_city residence_state  \\\n",
       "0    3245   virginia st                apt 38          miami                   \n",
       "1    16931  sw 100th pl                                miami                   \n",
       "2         257  e 4th st               apt 207        hialeah                   \n",
       "3      1145  sw 12th st                                miami                   \n",
       "4    27881  sw 139th ct                            homestead                   \n",
       "\n",
       "  residence_zipcode  ... registration_date  party_affiliation precinct  \\\n",
       "0             33133  ...        01/24/2013                NPA      587   \n",
       "1             33157  ...        06/09/2009                REP      818   \n",
       "2             33010  ...        01/24/2013                NPA      340   \n",
       "3             33129  ...        10/28/1975                REP      567   \n",
       "4             33032  ...        05/10/1989                DEM      903   \n",
       "\n",
       "  voter_status email_address age residence_zipcode_5 residence_zipcode_4  \\\n",
       "0          ACT                30               33133                       \n",
       "1          ACT                28               33157                       \n",
       "2          ACT                32               33010                       \n",
       "3          ACT                79               33129                       \n",
       "4          ACT                48               33032                       \n",
       "\n",
       "                               uniq_addr  member_count  \n",
       "0  3245   virginia st apt 38 miami 33133             1  \n",
       "1        16931  sw 100th pl  miami 33157             1  \n",
       "2    257  e 4th st apt 207 hialeah 33010             1  \n",
       "3          1145  sw 12th st  miami 33129             1  \n",
       "4    27881  sw 139th ct  homestead 33032             1  \n",
       "\n",
       "[5 rows x 23 columns]"
      ]
     },
     "execution_count": 115,
     "metadata": {},
     "output_type": "execute_result"
    }
   ],
   "source": [
    "global_df.head()"
   ]
  },
  {
   "cell_type": "code",
   "execution_count": 116,
   "metadata": {},
   "outputs": [
    {
     "data": {
      "text/html": [
       "<div>\n",
       "<style scoped>\n",
       "    .dataframe tbody tr th:only-of-type {\n",
       "        vertical-align: middle;\n",
       "    }\n",
       "\n",
       "    .dataframe tbody tr th {\n",
       "        vertical-align: top;\n",
       "    }\n",
       "\n",
       "    .dataframe thead th {\n",
       "        text-align: right;\n",
       "    }\n",
       "</style>\n",
       "<table border=\"1\" class=\"dataframe\">\n",
       "  <thead>\n",
       "    <tr style=\"text-align: right;\">\n",
       "      <th></th>\n",
       "      <th>uniq_addr</th>\n",
       "      <th>last_name</th>\n",
       "      <th>member_count</th>\n",
       "    </tr>\n",
       "  </thead>\n",
       "  <tbody>\n",
       "    <tr>\n",
       "      <td>0</td>\n",
       "      <td>1   alhambra cir 201 coral gables 33134</td>\n",
       "      <td>gonzalez del campo</td>\n",
       "      <td>1</td>\n",
       "    </tr>\n",
       "    <tr>\n",
       "      <td>1</td>\n",
       "      <td>1   alhambra cir 303 coral gables 33134</td>\n",
       "      <td>morales</td>\n",
       "      <td>1</td>\n",
       "    </tr>\n",
       "    <tr>\n",
       "      <td>2</td>\n",
       "      <td>1   alhambra cir 306 coral gables 33134</td>\n",
       "      <td>hevia</td>\n",
       "      <td>1</td>\n",
       "    </tr>\n",
       "    <tr>\n",
       "      <td>3</td>\n",
       "      <td>1   alhambra cir 405 coral gables 33134</td>\n",
       "      <td>paul</td>\n",
       "      <td>1</td>\n",
       "    </tr>\n",
       "    <tr>\n",
       "      <td>4</td>\n",
       "      <td>1   alhambra cir 406 coral gables 33134</td>\n",
       "      <td>salup mosquera</td>\n",
       "      <td>1</td>\n",
       "    </tr>\n",
       "  </tbody>\n",
       "</table>\n",
       "</div>"
      ],
      "text/plain": [
       "                                 uniq_addr           last_name  member_count\n",
       "0  1   alhambra cir 201 coral gables 33134  gonzalez del campo             1\n",
       "1  1   alhambra cir 303 coral gables 33134             morales             1\n",
       "2  1   alhambra cir 306 coral gables 33134               hevia             1\n",
       "3  1   alhambra cir 405 coral gables 33134                paul             1\n",
       "4  1   alhambra cir 406 coral gables 33134      salup mosquera             1"
      ]
     },
     "execution_count": 116,
     "metadata": {},
     "output_type": "execute_result"
    }
   ],
   "source": [
    "aggregated_df.head()"
   ]
  },
  {
   "cell_type": "code",
   "execution_count": null,
   "metadata": {},
   "outputs": [],
   "source": []
  },
  {
   "cell_type": "code",
   "execution_count": null,
   "metadata": {},
   "outputs": [],
   "source": []
  },
  {
   "cell_type": "code",
   "execution_count": 23,
   "metadata": {},
   "outputs": [],
   "source": [
    "# global_df['uniq_addr'] = global_df[[]]"
   ]
  },
  {
   "cell_type": "code",
   "execution_count": 133,
   "metadata": {},
   "outputs": [],
   "source": [
    "last_name_counts = global_df.last_name.value_counts().to_dict()\n",
    "last_names = set([name for name in last_name_counts if last_name_counts[name] > 1])"
   ]
  },
  {
   "cell_type": "code",
   "execution_count": 153,
   "metadata": {},
   "outputs": [],
   "source": [
    "aggregated_df = global_df.groupby(['uniq_addr', 'last_name']).agg(['count']).reset_index()\n",
    "aggregated_df.columns = [' '.join(col).strip() for col in aggregated_df.columns.values]"
   ]
  },
  {
   "cell_type": "code",
   "execution_count": 154,
   "metadata": {
    "collapsed": true,
    "jupyter": {
     "outputs_hidden": true
    }
   },
   "outputs": [
    {
     "data": {
      "text/html": [
       "<div>\n",
       "<style scoped>\n",
       "    .dataframe tbody tr th:only-of-type {\n",
       "        vertical-align: middle;\n",
       "    }\n",
       "\n",
       "    .dataframe tbody tr th {\n",
       "        vertical-align: top;\n",
       "    }\n",
       "\n",
       "    .dataframe thead th {\n",
       "        text-align: right;\n",
       "    }\n",
       "</style>\n",
       "<table border=\"1\" class=\"dataframe\">\n",
       "  <thead>\n",
       "    <tr style=\"text-align: right;\">\n",
       "      <th></th>\n",
       "      <th>uniq_addr</th>\n",
       "      <th>last_name</th>\n",
       "      <th>county_code count</th>\n",
       "      <th>voter_id count</th>\n",
       "      <th>first_name count</th>\n",
       "      <th>middle_name count</th>\n",
       "      <th>residence_addr_line_1 count</th>\n",
       "      <th>residence_addr_line_2 count</th>\n",
       "      <th>residence_city count</th>\n",
       "      <th>residence_state count</th>\n",
       "      <th>...</th>\n",
       "      <th>race count</th>\n",
       "      <th>birth_date count</th>\n",
       "      <th>registration_date count</th>\n",
       "      <th>party_affiliation count</th>\n",
       "      <th>precinct count</th>\n",
       "      <th>voter_status count</th>\n",
       "      <th>email_address count</th>\n",
       "      <th>age count</th>\n",
       "      <th>residence_zipcode_5 count</th>\n",
       "      <th>residence_zipcode_4 count</th>\n",
       "    </tr>\n",
       "  </thead>\n",
       "  <tbody>\n",
       "    <tr>\n",
       "      <td>0</td>\n",
       "      <td>1   alhambra cir 201 coral gables 33134</td>\n",
       "      <td>gonzalez del campo</td>\n",
       "      <td>1</td>\n",
       "      <td>1</td>\n",
       "      <td>1</td>\n",
       "      <td>1</td>\n",
       "      <td>1</td>\n",
       "      <td>1</td>\n",
       "      <td>1</td>\n",
       "      <td>1</td>\n",
       "      <td>...</td>\n",
       "      <td>1</td>\n",
       "      <td>1</td>\n",
       "      <td>1</td>\n",
       "      <td>1</td>\n",
       "      <td>1</td>\n",
       "      <td>1</td>\n",
       "      <td>1</td>\n",
       "      <td>1</td>\n",
       "      <td>1</td>\n",
       "      <td>1</td>\n",
       "    </tr>\n",
       "    <tr>\n",
       "      <td>1</td>\n",
       "      <td>1   alhambra cir 303 coral gables 33134</td>\n",
       "      <td>morales</td>\n",
       "      <td>1</td>\n",
       "      <td>1</td>\n",
       "      <td>1</td>\n",
       "      <td>1</td>\n",
       "      <td>1</td>\n",
       "      <td>1</td>\n",
       "      <td>1</td>\n",
       "      <td>1</td>\n",
       "      <td>...</td>\n",
       "      <td>1</td>\n",
       "      <td>1</td>\n",
       "      <td>1</td>\n",
       "      <td>1</td>\n",
       "      <td>1</td>\n",
       "      <td>1</td>\n",
       "      <td>1</td>\n",
       "      <td>1</td>\n",
       "      <td>1</td>\n",
       "      <td>1</td>\n",
       "    </tr>\n",
       "    <tr>\n",
       "      <td>2</td>\n",
       "      <td>1   alhambra cir 306 coral gables 33134</td>\n",
       "      <td>hevia</td>\n",
       "      <td>1</td>\n",
       "      <td>1</td>\n",
       "      <td>1</td>\n",
       "      <td>1</td>\n",
       "      <td>1</td>\n",
       "      <td>1</td>\n",
       "      <td>1</td>\n",
       "      <td>1</td>\n",
       "      <td>...</td>\n",
       "      <td>1</td>\n",
       "      <td>1</td>\n",
       "      <td>1</td>\n",
       "      <td>1</td>\n",
       "      <td>1</td>\n",
       "      <td>1</td>\n",
       "      <td>1</td>\n",
       "      <td>1</td>\n",
       "      <td>1</td>\n",
       "      <td>1</td>\n",
       "    </tr>\n",
       "    <tr>\n",
       "      <td>3</td>\n",
       "      <td>1   alhambra cir 405 coral gables 33134</td>\n",
       "      <td>paul</td>\n",
       "      <td>1</td>\n",
       "      <td>1</td>\n",
       "      <td>1</td>\n",
       "      <td>1</td>\n",
       "      <td>1</td>\n",
       "      <td>1</td>\n",
       "      <td>1</td>\n",
       "      <td>1</td>\n",
       "      <td>...</td>\n",
       "      <td>1</td>\n",
       "      <td>1</td>\n",
       "      <td>1</td>\n",
       "      <td>1</td>\n",
       "      <td>1</td>\n",
       "      <td>1</td>\n",
       "      <td>1</td>\n",
       "      <td>1</td>\n",
       "      <td>1</td>\n",
       "      <td>1</td>\n",
       "    </tr>\n",
       "    <tr>\n",
       "      <td>4</td>\n",
       "      <td>1   alhambra cir 406 coral gables 33134</td>\n",
       "      <td>salup mosquera</td>\n",
       "      <td>1</td>\n",
       "      <td>1</td>\n",
       "      <td>1</td>\n",
       "      <td>1</td>\n",
       "      <td>1</td>\n",
       "      <td>1</td>\n",
       "      <td>1</td>\n",
       "      <td>1</td>\n",
       "      <td>...</td>\n",
       "      <td>1</td>\n",
       "      <td>1</td>\n",
       "      <td>1</td>\n",
       "      <td>1</td>\n",
       "      <td>1</td>\n",
       "      <td>1</td>\n",
       "      <td>1</td>\n",
       "      <td>1</td>\n",
       "      <td>1</td>\n",
       "      <td>1</td>\n",
       "    </tr>\n",
       "  </tbody>\n",
       "</table>\n",
       "<p>5 rows × 22 columns</p>\n",
       "</div>"
      ],
      "text/plain": [
       "                                 uniq_addr           last_name  \\\n",
       "0  1   alhambra cir 201 coral gables 33134  gonzalez del campo   \n",
       "1  1   alhambra cir 303 coral gables 33134             morales   \n",
       "2  1   alhambra cir 306 coral gables 33134               hevia   \n",
       "3  1   alhambra cir 405 coral gables 33134                paul   \n",
       "4  1   alhambra cir 406 coral gables 33134      salup mosquera   \n",
       "\n",
       "   county_code count  voter_id count  first_name count  middle_name count  \\\n",
       "0                  1               1                 1                  1   \n",
       "1                  1               1                 1                  1   \n",
       "2                  1               1                 1                  1   \n",
       "3                  1               1                 1                  1   \n",
       "4                  1               1                 1                  1   \n",
       "\n",
       "   residence_addr_line_1 count  residence_addr_line_2 count  \\\n",
       "0                            1                            1   \n",
       "1                            1                            1   \n",
       "2                            1                            1   \n",
       "3                            1                            1   \n",
       "4                            1                            1   \n",
       "\n",
       "   residence_city count  residence_state count  ...  race count  \\\n",
       "0                     1                      1  ...           1   \n",
       "1                     1                      1  ...           1   \n",
       "2                     1                      1  ...           1   \n",
       "3                     1                      1  ...           1   \n",
       "4                     1                      1  ...           1   \n",
       "\n",
       "   birth_date count  registration_date count  party_affiliation count  \\\n",
       "0                 1                        1                        1   \n",
       "1                 1                        1                        1   \n",
       "2                 1                        1                        1   \n",
       "3                 1                        1                        1   \n",
       "4                 1                        1                        1   \n",
       "\n",
       "   precinct count  voter_status count  email_address count  age count  \\\n",
       "0               1                   1                    1          1   \n",
       "1               1                   1                    1          1   \n",
       "2               1                   1                    1          1   \n",
       "3               1                   1                    1          1   \n",
       "4               1                   1                    1          1   \n",
       "\n",
       "   residence_zipcode_5 count  residence_zipcode_4 count  \n",
       "0                          1                          1  \n",
       "1                          1                          1  \n",
       "2                          1                          1  \n",
       "3                          1                          1  \n",
       "4                          1                          1  \n",
       "\n",
       "[5 rows x 22 columns]"
      ]
     },
     "execution_count": 154,
     "metadata": {},
     "output_type": "execute_result"
    }
   ],
   "source": [
    "aggregated_df.head()"
   ]
  },
  {
   "cell_type": "code",
   "execution_count": 155,
   "metadata": {},
   "outputs": [
    {
     "data": {
      "text/plain": [
       "(633397, 22)"
      ]
     },
     "execution_count": 155,
     "metadata": {},
     "output_type": "execute_result"
    }
   ],
   "source": [
    "aggregated_df[aggregated_df['first_name count'] == 1].shape"
   ]
  },
  {
   "cell_type": "code",
   "execution_count": 156,
   "metadata": {},
   "outputs": [
    {
     "data": {
      "text/plain": [
       "(941446, 22)"
      ]
     },
     "execution_count": 156,
     "metadata": {},
     "output_type": "execute_result"
    }
   ],
   "source": [
    "global_df.shape"
   ]
  },
  {
   "cell_type": "code",
   "execution_count": 88,
   "metadata": {},
   "outputs": [],
   "source": [
    "lower_age_threshold = 30\n",
    "upper_age_threshold = 50\n",
    "global_df = global_df[(global_df['age'] >= lower_age_threshold) & (global_df['age'] <= upper_age_threshold)]"
   ]
  },
  {
   "cell_type": "code",
   "execution_count": 89,
   "metadata": {},
   "outputs": [],
   "source": [
    "sibling_age_threshold = 30"
   ]
  },
  {
   "cell_type": "code",
   "execution_count": 90,
   "metadata": {},
   "outputs": [
    {
     "data": {
      "text/plain": [
       "(503667, 17)"
      ]
     },
     "execution_count": 90,
     "metadata": {},
     "output_type": "execute_result"
    }
   ],
   "source": [
    "global_df.shape"
   ]
  },
  {
   "cell_type": "code",
   "execution_count": 91,
   "metadata": {},
   "outputs": [],
   "source": [
    "temp = global_df.groupby(['last_name', 'residence_addr_line_1', 'residence_city', 'residence_zipcode']).agg(['count']).reset_index()"
   ]
  },
  {
   "cell_type": "code",
   "execution_count": 92,
   "metadata": {},
   "outputs": [],
   "source": [
    "temp.columns = [' '.join(col).strip() for col in temp.columns.values]"
   ]
  },
  {
   "cell_type": "code",
   "execution_count": 93,
   "metadata": {},
   "outputs": [
    {
     "data": {
      "text/plain": [
       "Index(['last_name', 'residence_addr_line_1', 'residence_city',\n",
       "       'residence_zipcode', 'county_code count', 'voter_id count',\n",
       "       'first_name count', 'residence_addr_line_2 count',\n",
       "       'residence_state count', 'gender count', 'race count',\n",
       "       'birth_date count', 'registration_date count',\n",
       "       'party_affiliation count', 'precinct count', 'voter_status count',\n",
       "       'age count'],\n",
       "      dtype='object')"
      ]
     },
     "execution_count": 93,
     "metadata": {},
     "output_type": "execute_result"
    }
   ],
   "source": [
    "temp.columns"
   ]
  },
  {
   "cell_type": "code",
   "execution_count": 94,
   "metadata": {},
   "outputs": [
    {
     "data": {
      "text/plain": [
       "(438946, 17)"
      ]
     },
     "execution_count": 94,
     "metadata": {},
     "output_type": "execute_result"
    }
   ],
   "source": [
    "temp[temp['first_name count'] == 1].shape"
   ]
  },
  {
   "cell_type": "code",
   "execution_count": 95,
   "metadata": {},
   "outputs": [
    {
     "data": {
      "text/plain": [
       "(470610, 17)"
      ]
     },
     "execution_count": 95,
     "metadata": {},
     "output_type": "execute_result"
    }
   ],
   "source": [
    "temp.shape"
   ]
  },
  {
   "cell_type": "code",
   "execution_count": 98,
   "metadata": {},
   "outputs": [
    {
     "data": {
      "text/plain": [
       "(0, 17)"
      ]
     },
     "execution_count": 98,
     "metadata": {},
     "output_type": "execute_result"
    }
   ],
   "source": [
    "global_df[global_df['residence_addr_line_1'] == ''].shape"
   ]
  },
  {
   "cell_type": "code",
   "execution_count": null,
   "metadata": {},
   "outputs": [],
   "source": []
  },
  {
   "cell_type": "code",
   "execution_count": null,
   "metadata": {},
   "outputs": [],
   "source": []
  },
  {
   "cell_type": "code",
   "execution_count": 179,
   "metadata": {},
   "outputs": [],
   "source": [
    "# c = pd.DataFrame({\"c\": global_df['residence_addr_line_1'].apply(lambda x: re.sub(\"[^0-9a-zA-Z\\s]+\", '', x))})"
   ]
  },
  {
   "cell_type": "code",
   "execution_count": 180,
   "metadata": {},
   "outputs": [],
   "source": []
  },
  {
   "cell_type": "code",
   "execution_count": 182,
   "metadata": {},
   "outputs": [],
   "source": []
  },
  {
   "cell_type": "code",
   "execution_count": 183,
   "metadata": {},
   "outputs": [],
   "source": []
  },
  {
   "cell_type": "code",
   "execution_count": 186,
   "metadata": {},
   "outputs": [
    {
     "data": {
      "text/plain": [
       "(89508, 2)"
      ]
     },
     "execution_count": 186,
     "metadata": {},
     "output_type": "execute_result"
    }
   ],
   "source": []
  },
  {
   "cell_type": "code",
   "execution_count": 185,
   "metadata": {},
   "outputs": [
    {
     "data": {
      "text/plain": [
       "(142846, 2)"
      ]
     },
     "execution_count": 185,
     "metadata": {},
     "output_type": "execute_result"
    }
   ],
   "source": []
  },
  {
   "cell_type": "code",
   "execution_count": null,
   "metadata": {},
   "outputs": [],
   "source": []
  },
  {
   "cell_type": "code",
   "execution_count": 160,
   "metadata": {},
   "outputs": [],
   "source": [
    "t1 = global_df['last_name'].value_counts()"
   ]
  },
  {
   "cell_type": "code",
   "execution_count": 164,
   "metadata": {},
   "outputs": [],
   "source": [
    "a = global_df.groupby(['last_name'])['last_name'].agg(['count']).reset_index()"
   ]
  },
  {
   "cell_type": "code",
   "execution_count": 168,
   "metadata": {},
   "outputs": [
    {
     "data": {
      "text/plain": [
       "(142846, 2)"
      ]
     },
     "execution_count": 168,
     "metadata": {},
     "output_type": "execute_result"
    }
   ],
   "source": [
    "a.shape"
   ]
  },
  {
   "cell_type": "code",
   "execution_count": 176,
   "metadata": {},
   "outputs": [
    {
     "data": {
      "text/plain": [
       "(53338, 2)"
      ]
     },
     "execution_count": 176,
     "metadata": {},
     "output_type": "execute_result"
    }
   ],
   "source": [
    "a[a['count'] > 1].shape"
   ]
  },
  {
   "cell_type": "code",
   "execution_count": 170,
   "metadata": {},
   "outputs": [],
   "source": [
    "b = global_df.groupby(['residence_addr_line_1'])['residence_addr_line_1'].agg(['count']).reset_index()"
   ]
  },
  {
   "cell_type": "code",
   "execution_count": 171,
   "metadata": {},
   "outputs": [
    {
     "data": {
      "text/html": [
       "<div>\n",
       "<style scoped>\n",
       "    .dataframe tbody tr th:only-of-type {\n",
       "        vertical-align: middle;\n",
       "    }\n",
       "\n",
       "    .dataframe tbody tr th {\n",
       "        vertical-align: top;\n",
       "    }\n",
       "\n",
       "    .dataframe thead th {\n",
       "        text-align: right;\n",
       "    }\n",
       "</style>\n",
       "<table border=\"1\" class=\"dataframe\">\n",
       "  <thead>\n",
       "    <tr style=\"text-align: right;\">\n",
       "      <th></th>\n",
       "      <th>residence_addr_line_1</th>\n",
       "      <th>count</th>\n",
       "    </tr>\n",
       "  </thead>\n",
       "  <tbody>\n",
       "    <tr>\n",
       "      <td>0</td>\n",
       "      <td>1   alhambra cir</td>\n",
       "      <td>31</td>\n",
       "    </tr>\n",
       "    <tr>\n",
       "      <td>1</td>\n",
       "      <td>1   andalusia ave</td>\n",
       "      <td>139</td>\n",
       "    </tr>\n",
       "    <tr>\n",
       "      <td>2</td>\n",
       "      <td>1   arvida pkwy</td>\n",
       "      <td>2</td>\n",
       "    </tr>\n",
       "    <tr>\n",
       "      <td>3</td>\n",
       "      <td>1   casuarina concourse</td>\n",
       "      <td>1</td>\n",
       "    </tr>\n",
       "    <tr>\n",
       "      <td>4</td>\n",
       "      <td>1   century ln</td>\n",
       "      <td>32</td>\n",
       "    </tr>\n",
       "  </tbody>\n",
       "</table>\n",
       "</div>"
      ],
      "text/plain": [
       "     residence_addr_line_1  count\n",
       "0         1   alhambra cir     31\n",
       "1        1   andalusia ave    139\n",
       "2          1   arvida pkwy      2\n",
       "3  1   casuarina concourse      1\n",
       "4           1   century ln     32"
      ]
     },
     "execution_count": 171,
     "metadata": {},
     "output_type": "execute_result"
    }
   ],
   "source": [
    "b.head()"
   ]
  },
  {
   "cell_type": "code",
   "execution_count": 172,
   "metadata": {},
   "outputs": [
    {
     "data": {
      "text/html": [
       "<div>\n",
       "<style scoped>\n",
       "    .dataframe tbody tr th:only-of-type {\n",
       "        vertical-align: middle;\n",
       "    }\n",
       "\n",
       "    .dataframe tbody tr th {\n",
       "        vertical-align: top;\n",
       "    }\n",
       "\n",
       "    .dataframe thead th {\n",
       "        text-align: right;\n",
       "    }\n",
       "</style>\n",
       "<table border=\"1\" class=\"dataframe\">\n",
       "  <thead>\n",
       "    <tr style=\"text-align: right;\">\n",
       "      <th></th>\n",
       "      <th>residence_addr_line_1</th>\n",
       "      <th>count</th>\n",
       "    </tr>\n",
       "  </thead>\n",
       "  <tbody>\n",
       "    <tr>\n",
       "      <td>204996</td>\n",
       "      <td>2700  nw 87th ave</td>\n",
       "      <td>2920</td>\n",
       "    </tr>\n",
       "    <tr>\n",
       "      <td>205042</td>\n",
       "      <td>2700 d nw 87th ave</td>\n",
       "      <td>1310</td>\n",
       "    </tr>\n",
       "    <tr>\n",
       "      <td>52301</td>\n",
       "      <td>1231   dickinson dr</td>\n",
       "      <td>454</td>\n",
       "    </tr>\n",
       "    <tr>\n",
       "      <td>164258</td>\n",
       "      <td>19800  sw 180th ave</td>\n",
       "      <td>440</td>\n",
       "    </tr>\n",
       "    <tr>\n",
       "      <td>155095</td>\n",
       "      <td>1900  n bayshore dr</td>\n",
       "      <td>424</td>\n",
       "    </tr>\n",
       "    <tr>\n",
       "      <td>...</td>\n",
       "      <td>...</td>\n",
       "      <td>...</td>\n",
       "    </tr>\n",
       "    <tr>\n",
       "      <td>176865</td>\n",
       "      <td>2111  ne 210th st</td>\n",
       "      <td>1</td>\n",
       "    </tr>\n",
       "    <tr>\n",
       "      <td>176868</td>\n",
       "      <td>2111  ne 212th st</td>\n",
       "      <td>1</td>\n",
       "    </tr>\n",
       "    <tr>\n",
       "      <td>176869</td>\n",
       "      <td>2111  ne 37th rd</td>\n",
       "      <td>1</td>\n",
       "    </tr>\n",
       "    <tr>\n",
       "      <td>176871</td>\n",
       "      <td>2111  ne 40th ave</td>\n",
       "      <td>1</td>\n",
       "    </tr>\n",
       "    <tr>\n",
       "      <td>376642</td>\n",
       "      <td>9999  sw 89th ct</td>\n",
       "      <td>1</td>\n",
       "    </tr>\n",
       "  </tbody>\n",
       "</table>\n",
       "<p>376643 rows × 2 columns</p>\n",
       "</div>"
      ],
      "text/plain": [
       "       residence_addr_line_1  count\n",
       "204996     2700  nw 87th ave   2920\n",
       "205042    2700 d nw 87th ave   1310\n",
       "52301    1231   dickinson dr    454\n",
       "164258   19800  sw 180th ave    440\n",
       "155095   1900  n bayshore dr    424\n",
       "...                      ...    ...\n",
       "176865     2111  ne 210th st      1\n",
       "176868     2111  ne 212th st      1\n",
       "176869      2111  ne 37th rd      1\n",
       "176871     2111  ne 40th ave      1\n",
       "376642      9999  sw 89th ct      1\n",
       "\n",
       "[376643 rows x 2 columns]"
      ]
     },
     "execution_count": 172,
     "metadata": {},
     "output_type": "execute_result"
    }
   ],
   "source": [
    "b.sort_values(by='count', ascending=False)"
   ]
  },
  {
   "cell_type": "code",
   "execution_count": 173,
   "metadata": {},
   "outputs": [
    {
     "data": {
      "text/plain": [
       "(169775, 2)"
      ]
     },
     "execution_count": 173,
     "metadata": {},
     "output_type": "execute_result"
    }
   ],
   "source": [
    "b[b['count'] == 1].shape"
   ]
  },
  {
   "cell_type": "code",
   "execution_count": 159,
   "metadata": {},
   "outputs": [
    {
     "data": {
      "text/plain": [
       "2700  nw 87th ave  doral 33172                 2919\n",
       "2700 d nw 87th ave  doral 33172                1306\n",
       "2700 c nw 87th ave  doral 33172                 420\n",
       "2700 f nw 87th ave  doral 33172                 412\n",
       "15800  nw 42nd ave  miami gardens 33054         300\n",
       "                                               ... \n",
       "701   swan ave  miami springs 33166               1\n",
       "1017  nw 132nd ave w  miami 33182                 1\n",
       "7929   west dr apt 1002 n bay village 33141       1\n",
       "13218  nw 4th ter  miami 33182                    1\n",
       "7730   camino real f108 miami 33143               1\n",
       "Name: uniq_addr, Length: 584212, dtype: int64"
      ]
     },
     "execution_count": 159,
     "metadata": {},
     "output_type": "execute_result"
    }
   ],
   "source": [
    "global_df['residence_addr_line_1'].value_counts()"
   ]
  },
  {
   "cell_type": "code",
   "execution_count": 174,
   "metadata": {},
   "outputs": [
    {
     "data": {
      "text/plain": [
       "(376643, 2)"
      ]
     },
     "execution_count": 174,
     "metadata": {},
     "output_type": "execute_result"
    }
   ],
   "source": [
    "b.shape"
   ]
  },
  {
   "cell_type": "code",
   "execution_count": null,
   "metadata": {},
   "outputs": [],
   "source": []
  }
 ],
 "metadata": {
  "kernelspec": {
   "display_name": "Python 3",
   "language": "python",
   "name": "python3"
  },
  "language_info": {
   "codemirror_mode": {
    "name": "ipython",
    "version": 3
   },
   "file_extension": ".py",
   "mimetype": "text/x-python",
   "name": "python",
   "nbconvert_exporter": "python",
   "pygments_lexer": "ipython3",
   "version": "3.7.4"
  }
 },
 "nbformat": 4,
 "nbformat_minor": 4
}
