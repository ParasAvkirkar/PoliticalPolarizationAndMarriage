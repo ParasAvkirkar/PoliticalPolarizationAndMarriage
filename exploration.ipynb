{
 "cells": [
  {
   "cell_type": "code",
   "execution_count": 30,
   "metadata": {},
   "outputs": [],
   "source": [
    "import pandas as pd\n",
    "import random\n",
    "import numpy as np\n",
    "import math\n",
    "import sys\n",
    "import matplotlib.patches as mpatches\n",
    "import matplotlib.pyplot as plt\n",
    "import seaborn as sns\n",
    "import graphviz\n",
    "import xgboost as xgb\n",
    "import datatable as dt\n",
    "\n",
    "from xgboost import plot_tree\n",
    "from os import walk\n",
    "from os import listdir\n",
    "from os.path import isfile, join\n",
    "from scipy.spatial.distance import euclidean, pdist, squareform\n",
    "from scipy.stats import skew\n",
    "from scipy.special import expit as sigmoid\n",
    "from scipy.cluster.hierarchy import fclusterdata\n",
    "from pandas.plotting import autocorrelation_plot\n",
    "from sklearn.model_selection import train_test_split\n",
    "from sklearn.linear_model import LogisticRegression\n",
    "from sklearn.linear_model import LinearRegression\n",
    "from sklearn.ensemble import RandomForestClassifier\n",
    "from sklearn import tree\n",
    "from sklearn.metrics import precision_recall_fscore_support\n",
    "from sklearn import preprocessing\n",
    "from sklearn.metrics import confusion_matrix\n",
    "from sklearn.metrics import roc_auc_score\n",
    "from sklearn.utils import resample\n",
    "from imblearn.over_sampling import SMOTE, ADASYN\n",
    "from imblearn.under_sampling import ClusterCentroids\n",
    "from imblearn.under_sampling import RandomUnderSampler\n",
    "from sklearn.preprocessing import LabelEncoder\n",
    "from sklearn.metrics import pairwise_distances\n",
    "from sklearn.cluster import AgglomerativeClustering\n",
    "from sklearn.manifold import TSNE\n",
    "from sklearn.metrics import mean_absolute_error\n",
    "from sklearn.metrics import mean_squared_error"
   ]
  },
  {
   "cell_type": "code",
   "execution_count": 31,
   "metadata": {},
   "outputs": [],
   "source": [
    "DATA_PATH = \"data\""
   ]
  },
  {
   "cell_type": "code",
   "execution_count": 32,
   "metadata": {},
   "outputs": [],
   "source": [
    "HISTORY_PATH = \"Voter_History_{0}\"\n",
    "REGISTRATION_PATH = \"Voter_Registration_{0}/{1}_VoterDetail\""
   ]
  },
  {
   "cell_type": "code",
   "execution_count": 33,
   "metadata": {},
   "outputs": [],
   "source": [
    "date = '20190813'"
   ]
  },
  {
   "cell_type": "markdown",
   "metadata": {},
   "source": [
    "## Registration Analysis"
   ]
  },
  {
   "cell_type": "code",
   "execution_count": 34,
   "metadata": {},
   "outputs": [],
   "source": [
    "full_path = \"/\".join([DATA_PATH, REGISTRATION_PATH.format(str(date), str(date))])"
   ]
  },
  {
   "cell_type": "code",
   "execution_count": 35,
   "metadata": {},
   "outputs": [],
   "source": [
    "county_files = []\n",
    "for f in listdir(full_path):\n",
    "    if isfile(full_path + \"/\" + f):\n",
    "        county_files.append(full_path + \"/\" + f)"
   ]
  },
  {
   "cell_type": "code",
   "execution_count": 36,
   "metadata": {},
   "outputs": [],
   "source": [
    "county = \"DAD\"\n",
    "county_path = \"\"\n",
    "for c in county_files:\n",
    "    if (county + \"_\") in c:\n",
    "        county_path = c\n",
    "        break"
   ]
  },
  {
   "cell_type": "code",
   "execution_count": 37,
   "metadata": {},
   "outputs": [
    {
     "data": {
      "text/plain": [
       "'data/Voter_Registration_20190813/20190813_VoterDetail/DAD_20190813.txt'"
      ]
     },
     "execution_count": 37,
     "metadata": {},
     "output_type": "execute_result"
    }
   ],
   "source": [
    "county_path"
   ]
  },
  {
   "cell_type": "code",
   "execution_count": 38,
   "metadata": {},
   "outputs": [],
   "source": [
    "registration_file_headers = [\n",
    "    'county_code',\n",
    "    'voter_id',\n",
    "    'last_name',\n",
    "    'suffix',\n",
    "    'first_name',\n",
    "    'middle_name',\n",
    "    'requested_public_records_exemption',\n",
    "    'residence_addr_line_1',\n",
    "    'residence_addr_line_2',\n",
    "    'residence_city',\n",
    "    'residence_state',\n",
    "    'residence_zipcode',\n",
    "    'mail_addr_line_1',\n",
    "    'mail_addr_line_2',\n",
    "    'mail_addr_line_3',\n",
    "    'mail_city',\n",
    "    'mail_state',\n",
    "    'mail_zipcode',\n",
    "    'mail_country',\n",
    "    'gender',\n",
    "    'race',\n",
    "    'birth_date',\n",
    "    'registration_date',\n",
    "    'party_affiliation',\n",
    "    'precinct',\n",
    "    'precinct_group',\n",
    "    'precinct_split',\n",
    "    'precinct_suffix',\n",
    "    'voter_status',\n",
    "    'congressional_district',\n",
    "    'house_district',\n",
    "    'senate_district',\n",
    "    'county_commission_district',\n",
    "    'school_board_district',\n",
    "    'daytime_area_code',\n",
    "    'daytime_phone_no',\n",
    "    'daytime_phone_extension',\n",
    "    'email_address'\n",
    "]"
   ]
  },
  {
   "cell_type": "code",
   "execution_count": 39,
   "metadata": {},
   "outputs": [
    {
     "data": {
      "text/plain": [
       "38"
      ]
     },
     "execution_count": 39,
     "metadata": {},
     "output_type": "execute_result"
    }
   ],
   "source": [
    "len(registration_file_headers)"
   ]
  },
  {
   "cell_type": "code",
   "execution_count": 40,
   "metadata": {},
   "outputs": [],
   "source": [
    "county_voters_registration_df = dt.fread(county_path, sep='\\t', columns=registration_file_headers).to_pandas()"
   ]
  },
  {
   "cell_type": "code",
   "execution_count": 41,
   "metadata": {},
   "outputs": [
    {
     "data": {
      "text/html": [
       "<div>\n",
       "<style scoped>\n",
       "    .dataframe tbody tr th:only-of-type {\n",
       "        vertical-align: middle;\n",
       "    }\n",
       "\n",
       "    .dataframe tbody tr th {\n",
       "        vertical-align: top;\n",
       "    }\n",
       "\n",
       "    .dataframe thead th {\n",
       "        text-align: right;\n",
       "    }\n",
       "</style>\n",
       "<table border=\"1\" class=\"dataframe\">\n",
       "  <thead>\n",
       "    <tr style=\"text-align: right;\">\n",
       "      <th></th>\n",
       "      <th>county_code</th>\n",
       "      <th>voter_id</th>\n",
       "      <th>last_name</th>\n",
       "      <th>suffix</th>\n",
       "      <th>first_name</th>\n",
       "      <th>middle_name</th>\n",
       "      <th>requested_public_records_exemption</th>\n",
       "      <th>residence_addr_line_1</th>\n",
       "      <th>residence_addr_line_2</th>\n",
       "      <th>residence_city</th>\n",
       "      <th>...</th>\n",
       "      <th>voter_status</th>\n",
       "      <th>congressional_district</th>\n",
       "      <th>house_district</th>\n",
       "      <th>senate_district</th>\n",
       "      <th>county_commission_district</th>\n",
       "      <th>school_board_district</th>\n",
       "      <th>daytime_area_code</th>\n",
       "      <th>daytime_phone_no</th>\n",
       "      <th>daytime_phone_extension</th>\n",
       "      <th>email_address</th>\n",
       "    </tr>\n",
       "  </thead>\n",
       "  <tbody>\n",
       "    <tr>\n",
       "      <td>0</td>\n",
       "      <td>DAD</td>\n",
       "      <td>120685459</td>\n",
       "      <td>Cedeno</td>\n",
       "      <td></td>\n",
       "      <td>Kristia</td>\n",
       "      <td>Lex Andree Palma</td>\n",
       "      <td>N</td>\n",
       "      <td>3245   Virginia ST</td>\n",
       "      <td>APT 38</td>\n",
       "      <td>Miami</td>\n",
       "      <td>...</td>\n",
       "      <td>ACT</td>\n",
       "      <td>27</td>\n",
       "      <td>112</td>\n",
       "      <td>37</td>\n",
       "      <td>7</td>\n",
       "      <td>6</td>\n",
       "      <td></td>\n",
       "      <td></td>\n",
       "      <td></td>\n",
       "      <td></td>\n",
       "    </tr>\n",
       "    <tr>\n",
       "      <td>1</td>\n",
       "      <td>DAD</td>\n",
       "      <td>117588041</td>\n",
       "      <td>Cade</td>\n",
       "      <td></td>\n",
       "      <td>Anthony</td>\n",
       "      <td>Dywane</td>\n",
       "      <td>N</td>\n",
       "      <td>16931  SW 100Th PL</td>\n",
       "      <td></td>\n",
       "      <td>Miami</td>\n",
       "      <td>...</td>\n",
       "      <td>ACT</td>\n",
       "      <td>26</td>\n",
       "      <td>117</td>\n",
       "      <td>40</td>\n",
       "      <td>9</td>\n",
       "      <td>9</td>\n",
       "      <td></td>\n",
       "      <td></td>\n",
       "      <td></td>\n",
       "      <td></td>\n",
       "    </tr>\n",
       "    <tr>\n",
       "      <td>2</td>\n",
       "      <td>DAD</td>\n",
       "      <td>120684443</td>\n",
       "      <td>Felix  Estrada</td>\n",
       "      <td></td>\n",
       "      <td>Rafael</td>\n",
       "      <td>Enrique</td>\n",
       "      <td>N</td>\n",
       "      <td>257  E 4Th ST</td>\n",
       "      <td>APT 207</td>\n",
       "      <td>Hialeah</td>\n",
       "      <td>...</td>\n",
       "      <td>ACT</td>\n",
       "      <td>25</td>\n",
       "      <td>111</td>\n",
       "      <td>36</td>\n",
       "      <td>6</td>\n",
       "      <td>5</td>\n",
       "      <td></td>\n",
       "      <td></td>\n",
       "      <td></td>\n",
       "      <td></td>\n",
       "    </tr>\n",
       "    <tr>\n",
       "      <td>3</td>\n",
       "      <td>DAD</td>\n",
       "      <td>109101127</td>\n",
       "      <td>Tadeo</td>\n",
       "      <td></td>\n",
       "      <td>Martha</td>\n",
       "      <td>Sarah</td>\n",
       "      <td>N</td>\n",
       "      <td>1145  SW 12Th St</td>\n",
       "      <td></td>\n",
       "      <td>Miami</td>\n",
       "      <td>...</td>\n",
       "      <td>ACT</td>\n",
       "      <td>27</td>\n",
       "      <td>112</td>\n",
       "      <td>37</td>\n",
       "      <td>5</td>\n",
       "      <td>6</td>\n",
       "      <td>305</td>\n",
       "      <td>8569832</td>\n",
       "      <td></td>\n",
       "      <td></td>\n",
       "    </tr>\n",
       "    <tr>\n",
       "      <td>4</td>\n",
       "      <td>DAD</td>\n",
       "      <td>109341804</td>\n",
       "      <td>Gonzalez</td>\n",
       "      <td></td>\n",
       "      <td>Jose</td>\n",
       "      <td>Santiago</td>\n",
       "      <td>N</td>\n",
       "      <td>27881  SW 139Th Ct</td>\n",
       "      <td></td>\n",
       "      <td>Homestead</td>\n",
       "      <td>...</td>\n",
       "      <td>ACT</td>\n",
       "      <td>26</td>\n",
       "      <td>117</td>\n",
       "      <td>39</td>\n",
       "      <td>9</td>\n",
       "      <td>9</td>\n",
       "      <td>786</td>\n",
       "      <td>2994838</td>\n",
       "      <td></td>\n",
       "      <td></td>\n",
       "    </tr>\n",
       "  </tbody>\n",
       "</table>\n",
       "<p>5 rows × 38 columns</p>\n",
       "</div>"
      ],
      "text/plain": [
       "  county_code   voter_id       last_name suffix first_name       middle_name  \\\n",
       "0         DAD  120685459          Cedeno           Kristia  Lex Andree Palma   \n",
       "1         DAD  117588041            Cade           Anthony            Dywane   \n",
       "2         DAD  120684443  Felix  Estrada            Rafael           Enrique   \n",
       "3         DAD  109101127           Tadeo            Martha             Sarah   \n",
       "4         DAD  109341804        Gonzalez              Jose          Santiago   \n",
       "\n",
       "  requested_public_records_exemption residence_addr_line_1  \\\n",
       "0                                  N    3245   Virginia ST   \n",
       "1                                  N    16931  SW 100Th PL   \n",
       "2                                  N         257  E 4Th ST   \n",
       "3                                  N      1145  SW 12Th St   \n",
       "4                                  N    27881  SW 139Th Ct   \n",
       "\n",
       "  residence_addr_line_2 residence_city  ... voter_status  \\\n",
       "0                APT 38          Miami  ...          ACT   \n",
       "1                                Miami  ...          ACT   \n",
       "2               APT 207        Hialeah  ...          ACT   \n",
       "3                                Miami  ...          ACT   \n",
       "4                            Homestead  ...          ACT   \n",
       "\n",
       "  congressional_district house_district senate_district  \\\n",
       "0                     27            112              37   \n",
       "1                     26            117              40   \n",
       "2                     25            111              36   \n",
       "3                     27            112              37   \n",
       "4                     26            117              39   \n",
       "\n",
       "  county_commission_district school_board_district daytime_area_code  \\\n",
       "0                          7                     6                     \n",
       "1                          9                     9                     \n",
       "2                          6                     5                     \n",
       "3                          5                     6               305   \n",
       "4                          9                     9               786   \n",
       "\n",
       "  daytime_phone_no daytime_phone_extension email_address  \n",
       "0                                                         \n",
       "1                                                         \n",
       "2                                                         \n",
       "3          8569832                                        \n",
       "4          2994838                                        \n",
       "\n",
       "[5 rows x 38 columns]"
      ]
     },
     "execution_count": 41,
     "metadata": {},
     "output_type": "execute_result"
    }
   ],
   "source": [
    "county_voters_registration_df.head()"
   ]
  },
  {
   "cell_type": "code",
   "execution_count": 42,
   "metadata": {},
   "outputs": [
    {
     "data": {
      "text/plain": [
       "county_code                           0\n",
       "voter_id                              0\n",
       "last_name                             0\n",
       "suffix                                0\n",
       "first_name                            0\n",
       "middle_name                           0\n",
       "requested_public_records_exemption    0\n",
       "residence_addr_line_1                 0\n",
       "residence_addr_line_2                 0\n",
       "residence_city                        0\n",
       "residence_state                       0\n",
       "residence_zipcode                     0\n",
       "mail_addr_line_1                      0\n",
       "mail_addr_line_2                      0\n",
       "mail_addr_line_3                      0\n",
       "mail_city                             0\n",
       "mail_state                            0\n",
       "mail_zipcode                          0\n",
       "mail_country                          0\n",
       "gender                                0\n",
       "race                                  0\n",
       "birth_date                            0\n",
       "registration_date                     0\n",
       "party_affiliation                     0\n",
       "precinct                              0\n",
       "precinct_group                        0\n",
       "precinct_split                        0\n",
       "precinct_suffix                       0\n",
       "voter_status                          0\n",
       "congressional_district                0\n",
       "house_district                        0\n",
       "senate_district                       0\n",
       "county_commission_district            0\n",
       "school_board_district                 0\n",
       "daytime_area_code                     0\n",
       "daytime_phone_no                      0\n",
       "daytime_phone_extension               0\n",
       "email_address                         0\n",
       "dtype: int64"
      ]
     },
     "execution_count": 42,
     "metadata": {},
     "output_type": "execute_result"
    }
   ],
   "source": [
    "county_voters_registration_df.isnull().sum()"
   ]
  },
  {
   "cell_type": "code",
   "execution_count": 43,
   "metadata": {},
   "outputs": [],
   "source": [
    "null_columns = county_voters_registration_df.columns[county_voters_registration_df.isnull().any()].tolist()\n",
    "non_null_columns = list(set(county_voters_registration_df.columns) - set(null_columns))"
   ]
  },
  {
   "cell_type": "code",
   "execution_count": 44,
   "metadata": {},
   "outputs": [
    {
     "data": {
      "text/plain": [
       "<matplotlib.axes._subplots.AxesSubplot at 0x7f1f4e366c50>"
      ]
     },
     "execution_count": 44,
     "metadata": {},
     "output_type": "execute_result"
    },
    {
     "data": {
      "image/png": "[encoded data removed]",
      "text/plain": [
       "<Figure size 576x576 with 1 Axes>"
      ]
     },
     "metadata": {
      "needs_background": "light"
     },
     "output_type": "display_data"
    }
   ],
   "source": [
    "figures, axes = plt.subplots(nrows=1, ncols=1, figsize=(8,8))\n",
    "county_voters_registration_df.groupby(['gender'])['voter_id'].agg(['count']).plot(kind='bar', ax=axes)"
   ]
  },
  {
   "cell_type": "code",
   "execution_count": 45,
   "metadata": {},
   "outputs": [],
   "source": [
    "last_name_freq = county_voters_registration_df.groupby(['last_name'])['voter_id'].agg(['count']).reset_index()"
   ]
  },
  {
   "cell_type": "code",
   "execution_count": 46,
   "metadata": {},
   "outputs": [],
   "source": [
    "top_10_freq_last_name = last_name_freq.sort_values(by='count', ascending=False)[:10]"
   ]
  },
  {
   "cell_type": "code",
   "execution_count": 47,
   "metadata": {},
   "outputs": [],
   "source": [
    "county_voters_registration_df['unique_addr'] = county_voters_registration_df[['residence_addr_line_1', 'residence_addr_line_2', 'residence_city']].apply(lambda x: ' '.join(x), axis=1).str.lower()"
   ]
  },
  {
   "cell_type": "code",
   "execution_count": 48,
   "metadata": {},
   "outputs": [
    {
     "data": {
      "text/plain": [
       "0               3245   virginia st apt 38 miami\n",
       "1                     16931  sw 100th pl  miami\n",
       "2                 257  e 4th st apt 207 hialeah\n",
       "3                       1145  sw 12th st  miami\n",
       "4                 27881  sw 139th ct  homestead\n",
       "                           ...                 \n",
       "1480009            1046  ne 17th ter  homestead\n",
       "1480010    1100   brickell bay dr apt 37c miami\n",
       "1480011              3639  ne 2nd ct  homestead\n",
       "1480012               14930  sw 141st pl  miami\n",
       "1480013                15480  sw 31st ln  miami\n",
       "Name: unique_addr, Length: 1480014, dtype: object"
      ]
     },
     "execution_count": 48,
     "metadata": {},
     "output_type": "execute_result"
    }
   ],
   "source": [
    "county_voters_registration_df['unique_addr']"
   ]
  },
  {
   "cell_type": "code",
   "execution_count": 49,
   "metadata": {},
   "outputs": [
    {
     "data": {
      "text/plain": [
       "2700  nw 87th ave  doral             4020\n",
       "* * *                                3435\n",
       "2700 d nw 87th ave  doral            1737\n",
       "2700 c nw 87th ave  doral             553\n",
       "2700 f nw 87th ave  doral             547\n",
       "2700 g nw 87th ave  doral             420\n",
       "15800  nw 42nd ave  miami gardens     395\n",
       "2700 e nw 87th ave  doral             271\n",
       "1603  nw 7th ave  miami               240\n",
       "1550  n miami ave  miami              201\n",
       "Name: unique_addr, dtype: int64"
      ]
     },
     "execution_count": 49,
     "metadata": {},
     "output_type": "execute_result"
    }
   ],
   "source": [
    "county_voters_registration_df['unique_addr'].value_counts()[:10]"
   ]
  },
  {
   "cell_type": "code",
   "execution_count": 54,
   "metadata": {},
   "outputs": [],
   "source": [
    "top_ten_cities = county_voters_registration_df.residence_city.value_counts()[:5].index.to_list()"
   ]
  },
  {
   "cell_type": "code",
   "execution_count": 55,
   "metadata": {},
   "outputs": [],
   "source": [
    "top_ten_cities_df = county_voters_registration_df[county_voters_registration_df.residence_city.isin(top_ten_cities)]"
   ]
  },
  {
   "cell_type": "code",
   "execution_count": 56,
   "metadata": {},
   "outputs": [
    {
     "data": {
      "text/plain": [
       "<matplotlib.axes._subplots.AxesSubplot at 0x7f1fccb54748>"
      ]
     },
     "execution_count": 56,
     "metadata": {},
     "output_type": "execute_result"
    },
    {
     "data": {
      "image/png": "[encoded data removed]",
      "text/plain": [
       "<Figure size 432x288 with 1 Axes>"
      ]
     },
     "metadata": {
      "needs_background": "light"
     },
     "output_type": "display_data"
    }
   ],
   "source": [
    "county_voters_registration_df[county_voters_registration_df.residence_city.isin(top_ten_cities)].groupby(['residence_city'])['party_affiliation'].count().hist()"
   ]
  },
  {
   "cell_type": "code",
   "execution_count": 57,
   "metadata": {},
   "outputs": [
    {
     "data": {
      "image/png": "[encoded data removed]",
      "text/plain": [
       "<Figure size 1008x576 with 1 Axes>"
      ]
     },
     "metadata": {
      "needs_background": "light"
     },
     "output_type": "display_data"
    }
   ],
   "source": [
    "fig, ax = plt.subplots(figsize=(14,8))\n",
    "pd.crosstab(top_ten_cities_df['residence_city'], top_ten_cities_df['party_affiliation']).apply(lambda r: r/r.sum(), axis=1).plot(kind='bar', ax=ax)\n",
    "plt.savefig('citywise_affiliation.png')"
   ]
  },
  {
   "cell_type": "code",
   "execution_count": 58,
   "metadata": {},
   "outputs": [],
   "source": [
    "party_counts = county_voters_registration_df.party_affiliation.value_counts().reset_index()"
   ]
  },
  {
   "cell_type": "code",
   "execution_count": 59,
   "metadata": {},
   "outputs": [],
   "source": [
    "party_counts = party_counts.append({'index': 'Others', 'party_affiliation': party_counts[3:].sum()['party_affiliation']}, ignore_index=True).sort_values(by='party_affiliation',ascending=False)"
   ]
  },
  {
   "cell_type": "code",
   "execution_count": 60,
   "metadata": {},
   "outputs": [],
   "source": [
    "party_counts = party_counts[:4]"
   ]
  },
  {
   "cell_type": "code",
   "execution_count": 62,
   "metadata": {},
   "outputs": [
    {
     "data": {
      "image/png": "[encoded data removed]",
      "text/plain": [
       "<Figure size 432x288 with 1 Axes>"
      ]
     },
     "metadata": {},
     "output_type": "display_data"
    }
   ],
   "source": [
    "labels = party_counts['index']\n",
    "sizes = party_counts.party_affiliation\n",
    "\n",
    "#explsion\n",
    "explode = (0.05,0.05,0.05,0.05)\n",
    "\n",
    "#colors\n",
    "colors = ['#ff9999','#66b3ff','#99ff99','#ffcc99']\n",
    "\n",
    "plt.pie(sizes, colors=colors, labels=labels, autopct='%1.1f%%', startangle=90, pctdistance=0.85, explode=explode)\n",
    "#draw circle\n",
    "centre_circle = plt.Circle((0,0),0.70,fc='white')\n",
    "fig = plt.gcf()\n",
    "fig.gca().add_artist(centre_circle)\n",
    "# Equal aspect ratio ensures that pie is drawn as a circle\n",
    "plt.axis('equal')  \n",
    "plt.tight_layout()\n",
    "plt.savefig(\"political_affiliations.png\")"
   ]
  },
  {
   "cell_type": "code",
   "execution_count": 63,
   "metadata": {},
   "outputs": [
    {
     "data": {
      "text/html": [
       "<div>\n",
       "<style scoped>\n",
       "    .dataframe tbody tr th:only-of-type {\n",
       "        vertical-align: middle;\n",
       "    }\n",
       "\n",
       "    .dataframe tbody tr th {\n",
       "        vertical-align: top;\n",
       "    }\n",
       "\n",
       "    .dataframe thead th {\n",
       "        text-align: right;\n",
       "    }\n",
       "</style>\n",
       "<table border=\"1\" class=\"dataframe\">\n",
       "  <thead>\n",
       "    <tr style=\"text-align: right;\">\n",
       "      <th></th>\n",
       "      <th>index</th>\n",
       "      <th>party_affiliation</th>\n",
       "    </tr>\n",
       "  </thead>\n",
       "  <tbody>\n",
       "    <tr>\n",
       "      <td>0</td>\n",
       "      <td>DEM</td>\n",
       "      <td>618675</td>\n",
       "    </tr>\n",
       "    <tr>\n",
       "      <td>1</td>\n",
       "      <td>NPA</td>\n",
       "      <td>466649</td>\n",
       "    </tr>\n",
       "    <tr>\n",
       "      <td>2</td>\n",
       "      <td>REP</td>\n",
       "      <td>384136</td>\n",
       "    </tr>\n",
       "    <tr>\n",
       "      <td>10</td>\n",
       "      <td>Others</td>\n",
       "      <td>10554</td>\n",
       "    </tr>\n",
       "  </tbody>\n",
       "</table>\n",
       "</div>"
      ],
      "text/plain": [
       "     index  party_affiliation\n",
       "0      DEM             618675\n",
       "1      NPA             466649\n",
       "2      REP             384136\n",
       "10  Others              10554"
      ]
     },
     "execution_count": 63,
     "metadata": {},
     "output_type": "execute_result"
    }
   ],
   "source": [
    "party_counts"
   ]
  }
 ],
 "metadata": {
  "kernelspec": {
   "display_name": "Python 3",
   "language": "python",
   "name": "python3"
  },
  "language_info": {
   "codemirror_mode": {
    "name": "ipython",
    "version": 3
   },
   "file_extension": ".py",
   "mimetype": "text/x-python",
   "name": "python",
   "nbconvert_exporter": "python",
   "pygments_lexer": "ipython3",
   "version": "3.7.3"
  }
 },
 "nbformat": 4,
 "nbformat_minor": 4
}
