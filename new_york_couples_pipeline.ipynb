{
 "cells": [
  {
   "cell_type": "code",
   "execution_count": 1,
   "metadata": {},
   "outputs": [],
   "source": [
    "import pandas as pd\n",
    "import random\n",
    "import numpy as np\n",
    "import time\n",
    "import math\n",
    "import sys\n",
    "import matplotlib.patches as mpatches\n",
    "import matplotlib.pyplot as plt\n",
    "import seaborn as sns\n",
    "import xgboost as xgb\n",
    "import datatable as dt\n",
    "\n",
    "from xgboost import plot_tree\n",
    "from os import walk\n",
    "from os import listdir\n",
    "from os.path import isfile, join\n",
    "from scipy.spatial.distance import euclidean, pdist, squareform\n",
    "from scipy.stats import skew\n",
    "from scipy.special import expit as sigmoid\n",
    "from scipy.cluster.hierarchy import fclusterdata\n",
    "from pandas.plotting import autocorrelation_plot\n",
    "from sklearn.model_selection import train_test_split\n",
    "from sklearn.linear_model import LogisticRegression\n",
    "from sklearn.linear_model import LinearRegression\n",
    "from sklearn.ensemble import RandomForestClassifier\n",
    "from sklearn import tree\n",
    "from sklearn.metrics import precision_recall_fscore_support\n",
    "from sklearn import preprocessing\n",
    "from sklearn.metrics import confusion_matrix\n",
    "from sklearn.metrics import roc_auc_score\n",
    "from sklearn.utils import resample\n",
    "from imblearn.over_sampling import SMOTE, ADASYN\n",
    "from imblearn.under_sampling import ClusterCentroids\n",
    "from imblearn.under_sampling import RandomUnderSampler\n",
    "from sklearn.preprocessing import LabelEncoder\n",
    "from sklearn.metrics import pairwise_distances\n",
    "from sklearn.cluster import AgglomerativeClustering\n",
    "from sklearn.manifold import TSNE\n",
    "from sklearn.metrics import mean_absolute_error\n",
    "from sklearn.metrics import mean_squared_error"
   ]
  },
  {
   "cell_type": "code",
   "execution_count": 2,
   "metadata": {},
   "outputs": [],
   "source": [
    "ny_cols = [\"last_name\", \"first_name\", \"middle_name\", \"name_suffix\", \"house_number\", \"house_fractional_addr\", \"residence_apartment\", \"residence_pre_street_direction\", \"residence_street_name\", \"residence_post_street_direction\", \"residence_city\", \"residence_zip_code_5\", \"residence_zip_code_4\", \"mail_addr1\", \"mail_addr2\", \"mail_addr3\", \"mail_addr4\", \"dob\", \"gender\", \"political_party\", \"other_party\", \"county_code\", \"election_district\", \"legislative_district\", \"town_city\", \"ward\", \"congressional_district\", \"senate_district\", \"assembly_district\", \"last_date_voted\", \"last_year_voted\", \"last_county_voted\", \"last_registered_address\", \"last_registered_name\", \"county_voter_registration_no\", \"application_date\", \"application_source\", \"identification_required_flag\", \"identification_verification_requirement_met_flag\", \"voter_status_codes\", \"status_reason_codes\", \"inactive_voter_date\", \"purge_voter_date\", \"unique_nys_voter_id\", \"voter_history\"]\n"
   ]
  },
  {
   "cell_type": "code",
   "execution_count": 3,
   "metadata": {},
   "outputs": [],
   "source": [
    "selective_headers = [\n",
    "    'first_name',\n",
    "    'last_name',\n",
    "    'dob',\n",
    "    'county_code',\n",
    "    'house_number',\n",
    "    'residence_apartment',\n",
    "    'residence_street_name',\n",
    "    'residence_city',\n",
    "    'residence_zip_code_5',\n",
    "    'gender',\n",
    "    'unique_nys_voter_id',\n",
    "    'political_party',\n",
    "    'voter_status_codes'\n",
    "]\n",
    "\n",
    "# precinct and race was not found"
   ]
  },
  {
   "cell_type": "code",
   "execution_count": 4,
   "metadata": {},
   "outputs": [],
   "source": [
    "new_york_path = \"data/NewYork\""
   ]
  },
  {
   "cell_type": "code",
   "execution_count": 5,
   "metadata": {},
   "outputs": [],
   "source": [
    "COUNTY=sys.argv[1]"
   ]
  },
  {
   "cell_type": "code",
   "execution_count": 6,
   "metadata": {},
   "outputs": [],
   "source": [
    "date_str = sys.argv[2]"
   ]
  },
  {
   "cell_type": "markdown",
   "metadata": {},
   "source": [
    "## Uncomment below lines and add parameters manually when exploring through notebook instead of python-script"
   ]
  },
  {
   "cell_type": "code",
   "execution_count": 37,
   "metadata": {},
   "outputs": [],
   "source": [
    "# date_str = \"20121231\"\n",
    "# COUNTY = \"31\""
   ]
  },
  {
   "cell_type": "code",
   "execution_count": 9,
   "metadata": {},
   "outputs": [],
   "source": [
    "import os\n",
    "if not os.path.exists(new_york_path + \"/couples/\" + date_str):\n",
    "    os.makedirs(new_york_path + \"/couples/\" + date_str)"
   ]
  },
  {
   "cell_type": "code",
   "execution_count": 10,
   "metadata": {},
   "outputs": [],
   "source": [
    "source_county_file_name = \"county_\" + date_str + \"_\" + COUNTY + \".csv\""
   ]
  },
  {
   "cell_type": "code",
   "execution_count": 11,
   "metadata": {},
   "outputs": [
    {
     "data": {
      "text/plain": [
       "'county_20121231_31.csv'"
      ]
     },
     "execution_count": 11,
     "metadata": {},
     "output_type": "execute_result"
    }
   ],
   "source": [
    "source_county_file_name"
   ]
  },
  {
   "cell_type": "code",
   "execution_count": 12,
   "metadata": {},
   "outputs": [],
   "source": [
    "COUPLES_SAVED_PATH = new_york_path + \"/couples/\" + date_str + \"/\" + \"couples_\" + date_str + \"_\" + COUNTY + \".csv\""
   ]
  },
  {
   "cell_type": "code",
   "execution_count": 13,
   "metadata": {},
   "outputs": [
    {
     "data": {
      "text/plain": [
       "'data/NewYork/couples/20121231/couples_20121231_31.csv'"
      ]
     },
     "execution_count": 13,
     "metadata": {},
     "output_type": "execute_result"
    }
   ],
   "source": [
    "COUPLES_SAVED_PATH"
   ]
  },
  {
   "cell_type": "code",
   "execution_count": 14,
   "metadata": {},
   "outputs": [],
   "source": [
    "global_df = pd.read_csv(new_york_path + \"/\" + date_str + \"_county_files/\" + source_county_file_name, sep=\"\\t\",  encoding='iso-8859-1')"
   ]
  },
  {
   "cell_type": "code",
   "execution_count": 15,
   "metadata": {},
   "outputs": [
    {
     "data": {
      "text/html": [
       "<div>\n",
       "<style scoped>\n",
       "    .dataframe tbody tr th:only-of-type {\n",
       "        vertical-align: middle;\n",
       "    }\n",
       "\n",
       "    .dataframe tbody tr th {\n",
       "        vertical-align: top;\n",
       "    }\n",
       "\n",
       "    .dataframe thead th {\n",
       "        text-align: right;\n",
       "    }\n",
       "</style>\n",
       "<table border=\"1\" class=\"dataframe\">\n",
       "  <thead>\n",
       "    <tr style=\"text-align: right;\">\n",
       "      <th></th>\n",
       "      <th>last_name</th>\n",
       "      <th>first_name</th>\n",
       "      <th>house_number</th>\n",
       "      <th>residence_apartment</th>\n",
       "      <th>residence_street_name</th>\n",
       "      <th>residence_city</th>\n",
       "      <th>residence_zip_code_5</th>\n",
       "      <th>dob</th>\n",
       "      <th>gender</th>\n",
       "      <th>political_party</th>\n",
       "      <th>county_code</th>\n",
       "      <th>voter_status_codes</th>\n",
       "      <th>unique_nys_voter_id</th>\n",
       "      <th>age</th>\n",
       "      <th>uniq_addr</th>\n",
       "    </tr>\n",
       "  </thead>\n",
       "  <tbody>\n",
       "    <tr>\n",
       "      <td>0</td>\n",
       "      <td>krieger</td>\n",
       "      <td>nicole</td>\n",
       "      <td>405</td>\n",
       "      <td>14m</td>\n",
       "      <td>east   54 street</td>\n",
       "      <td>manhattan</td>\n",
       "      <td>10022.0</td>\n",
       "      <td>19710223</td>\n",
       "      <td>F</td>\n",
       "      <td>DEM</td>\n",
       "      <td>31</td>\n",
       "      <td>ACTIVE</td>\n",
       "      <td>NY000000000034125728</td>\n",
       "      <td>41</td>\n",
       "      <td>405 14m east   54 street manhattan 100220</td>\n",
       "    </tr>\n",
       "    <tr>\n",
       "      <td>1</td>\n",
       "      <td>law</td>\n",
       "      <td>yuet kwai</td>\n",
       "      <td>80</td>\n",
       "      <td>3a</td>\n",
       "      <td>beekman street</td>\n",
       "      <td>new york</td>\n",
       "      <td>10038.0</td>\n",
       "      <td>19650424</td>\n",
       "      <td>F</td>\n",
       "      <td>BLK</td>\n",
       "      <td>31</td>\n",
       "      <td>ACTIVE</td>\n",
       "      <td>NY000000000034125731</td>\n",
       "      <td>47</td>\n",
       "      <td>80 3a beekman street new york 100380</td>\n",
       "    </tr>\n",
       "    <tr>\n",
       "      <td>2</td>\n",
       "      <td>mody</td>\n",
       "      <td>sushama</td>\n",
       "      <td>500</td>\n",
       "      <td>apt 1410</td>\n",
       "      <td>west   56 street</td>\n",
       "      <td>new york</td>\n",
       "      <td>10019.0</td>\n",
       "      <td>19741001</td>\n",
       "      <td>M</td>\n",
       "      <td>DEM</td>\n",
       "      <td>31</td>\n",
       "      <td>ACTIVE</td>\n",
       "      <td>NY000000000034125809</td>\n",
       "      <td>38</td>\n",
       "      <td>500 apt 1410 west   56 street new york 100190</td>\n",
       "    </tr>\n",
       "    <tr>\n",
       "      <td>3</td>\n",
       "      <td>barrera</td>\n",
       "      <td>john</td>\n",
       "      <td>237</td>\n",
       "      <td>1</td>\n",
       "      <td>west   11 street</td>\n",
       "      <td>manhattan</td>\n",
       "      <td>10014.0</td>\n",
       "      <td>19720228</td>\n",
       "      <td>M</td>\n",
       "      <td>DEM</td>\n",
       "      <td>31</td>\n",
       "      <td>ACTIVE</td>\n",
       "      <td>NY000000000034125923</td>\n",
       "      <td>40</td>\n",
       "      <td>237 1 west   11 street manhattan 100140</td>\n",
       "    </tr>\n",
       "    <tr>\n",
       "      <td>4</td>\n",
       "      <td>giordano</td>\n",
       "      <td>mary</td>\n",
       "      <td>225</td>\n",
       "      <td>9c</td>\n",
       "      <td>rector place</td>\n",
       "      <td>manhattan</td>\n",
       "      <td>10280.0</td>\n",
       "      <td>19600407</td>\n",
       "      <td>F</td>\n",
       "      <td>REP</td>\n",
       "      <td>31</td>\n",
       "      <td>ACTIVE</td>\n",
       "      <td>NY000000000034126270</td>\n",
       "      <td>52</td>\n",
       "      <td>225 9c rector place manhattan 102800</td>\n",
       "    </tr>\n",
       "  </tbody>\n",
       "</table>\n",
       "</div>"
      ],
      "text/plain": [
       "  last_name first_name house_number residence_apartment residence_street_name  \\\n",
       "0   krieger     nicole          405                 14m      east   54 street   \n",
       "1       law  yuet kwai           80                  3a        beekman street   \n",
       "2      mody    sushama          500            apt 1410      west   56 street   \n",
       "3   barrera       john          237                   1      west   11 street   \n",
       "4  giordano       mary          225                  9c          rector place   \n",
       "\n",
       "  residence_city  residence_zip_code_5       dob gender political_party  \\\n",
       "0      manhattan               10022.0  19710223      F             DEM   \n",
       "1       new york               10038.0  19650424      F             BLK   \n",
       "2       new york               10019.0  19741001      M             DEM   \n",
       "3      manhattan               10014.0  19720228      M             DEM   \n",
       "4      manhattan               10280.0  19600407      F             REP   \n",
       "\n",
       "   county_code voter_status_codes   unique_nys_voter_id  age  \\\n",
       "0           31             ACTIVE  NY000000000034125728   41   \n",
       "1           31             ACTIVE  NY000000000034125731   47   \n",
       "2           31             ACTIVE  NY000000000034125809   38   \n",
       "3           31             ACTIVE  NY000000000034125923   40   \n",
       "4           31             ACTIVE  NY000000000034126270   52   \n",
       "\n",
       "                                       uniq_addr  \n",
       "0      405 14m east   54 street manhattan 100220  \n",
       "1           80 3a beekman street new york 100380  \n",
       "2  500 apt 1410 west   56 street new york 100190  \n",
       "3        237 1 west   11 street manhattan 100140  \n",
       "4           225 9c rector place manhattan 102800  "
      ]
     },
     "execution_count": 15,
     "metadata": {},
     "output_type": "execute_result"
    }
   ],
   "source": [
    "global_df.head()"
   ]
  },
  {
   "cell_type": "code",
   "execution_count": 16,
   "metadata": {},
   "outputs": [],
   "source": [
    "global_df_copy = global_df.copy(deep=True)"
   ]
  },
  {
   "cell_type": "code",
   "execution_count": 17,
   "metadata": {},
   "outputs": [],
   "source": [
    "merge = pd.merge(global_df, global_df_copy, on=[\"uniq_addr\"], suffixes=[\"_L\", \"_R\"])"
   ]
  },
  {
   "cell_type": "code",
   "execution_count": 18,
   "metadata": {},
   "outputs": [],
   "source": [
    "merge = merge[merge[\"unique_nys_voter_id_L\"] != merge[\"unique_nys_voter_id_R\"]]"
   ]
  },
  {
   "cell_type": "code",
   "execution_count": 19,
   "metadata": {},
   "outputs": [
    {
     "data": {
      "text/plain": [
       "(1481180, 29)"
      ]
     },
     "execution_count": 19,
     "metadata": {},
     "output_type": "execute_result"
    }
   ],
   "source": [
    "merge.shape"
   ]
  },
  {
   "cell_type": "code",
   "execution_count": 20,
   "metadata": {},
   "outputs": [],
   "source": [
    "filtered = merge[merge[\"unique_nys_voter_id_L\"] < merge[\"unique_nys_voter_id_R\"]]"
   ]
  },
  {
   "cell_type": "code",
   "execution_count": 21,
   "metadata": {},
   "outputs": [
    {
     "data": {
      "text/plain": [
       "(740590, 29)"
      ]
     },
     "execution_count": 21,
     "metadata": {},
     "output_type": "execute_result"
    }
   ],
   "source": [
    "filtered.shape"
   ]
  },
  {
   "cell_type": "code",
   "execution_count": 22,
   "metadata": {},
   "outputs": [],
   "source": [
    "def modified_couple_heuristic(row):\n",
    "    male_age_threshold = 27\n",
    "    female_age_threshold = 25\n",
    "    unknown_age_threshold = 26\n",
    "    age_diff_threshold = 15\n",
    "    \n",
    "    age_diff = abs(row['age_L'] - row['age_R'])\n",
    "    \n",
    "    is_age_threshold_L = False\n",
    "    if row[\"gender_L\"] == \"M\" and row[\"age_L\"] >= male_age_threshold: \n",
    "        is_age_threshold_L = True\n",
    "    elif row[\"gender_L\"] == \"F\" and row[\"age_L\"] >= female_age_threshold:\n",
    "        is_age_threshold_L = True\n",
    "    elif row[\"gender_L\"] == \"U\" and row[\"age_L\"] >= unknown_age_threshold:\n",
    "        is_age_threshold_L = True\n",
    "\n",
    "    \n",
    "        \n",
    "    is_age_threshold_R = False\n",
    "    if row[\"gender_R\"] == \"M\" and row[\"age_R\"] >= male_age_threshold: \n",
    "        is_age_threshold_R = True\n",
    "    elif row[\"gender_R\"] == \"F\" and row[\"age_R\"] >= female_age_threshold:\n",
    "        is_age_threshold_R = True\n",
    "    elif row[\"gender_R\"] == \"U\" and row[\"age_R\"] >= unknown_age_threshold:\n",
    "        is_age_threshold_R = True\n",
    "    \n",
    "    return is_age_threshold_L and is_age_threshold_R and age_diff <= age_diff_threshold\n",
    "        "
   ]
  },
  {
   "cell_type": "code",
   "execution_count": 23,
   "metadata": {},
   "outputs": [
    {
     "data": {
      "text/plain": [
       "Index(['last_name_L', 'first_name_L', 'house_number_L',\n",
       "       'residence_apartment_L', 'residence_street_name_L', 'residence_city_L',\n",
       "       'residence_zip_code_5_L', 'dob_L', 'gender_L', 'political_party_L',\n",
       "       'county_code_L', 'voter_status_codes_L', 'unique_nys_voter_id_L',\n",
       "       'age_L', 'uniq_addr', 'last_name_R', 'first_name_R', 'house_number_R',\n",
       "       'residence_apartment_R', 'residence_street_name_R', 'residence_city_R',\n",
       "       'residence_zip_code_5_R', 'dob_R', 'gender_R', 'political_party_R',\n",
       "       'county_code_R', 'voter_status_codes_R', 'unique_nys_voter_id_R',\n",
       "       'age_R'],\n",
       "      dtype='object')"
      ]
     },
     "execution_count": 23,
     "metadata": {},
     "output_type": "execute_result"
    }
   ],
   "source": [
    "filtered.columns"
   ]
  },
  {
   "cell_type": "code",
   "execution_count": 24,
   "metadata": {},
   "outputs": [
    {
     "data": {
      "text/plain": [
       "(740590, 29)"
      ]
     },
     "execution_count": 24,
     "metadata": {},
     "output_type": "execute_result"
    }
   ],
   "source": [
    "filtered.shape"
   ]
  },
  {
   "cell_type": "code",
   "execution_count": 25,
   "metadata": {},
   "outputs": [],
   "source": [
    "couples = filtered[filtered.apply(modified_couple_heuristic, axis=1)]"
   ]
  },
  {
   "cell_type": "code",
   "execution_count": 26,
   "metadata": {},
   "outputs": [
    {
     "data": {
      "text/plain": [
       "(375416, 29)"
      ]
     },
     "execution_count": 26,
     "metadata": {},
     "output_type": "execute_result"
    }
   ],
   "source": [
    "couples.shape"
   ]
  },
  {
   "cell_type": "code",
   "execution_count": 27,
   "metadata": {},
   "outputs": [
    {
     "data": {
      "text/html": [
       "<div>\n",
       "<style scoped>\n",
       "    .dataframe tbody tr th:only-of-type {\n",
       "        vertical-align: middle;\n",
       "    }\n",
       "\n",
       "    .dataframe tbody tr th {\n",
       "        vertical-align: top;\n",
       "    }\n",
       "\n",
       "    .dataframe thead th {\n",
       "        text-align: right;\n",
       "    }\n",
       "</style>\n",
       "<table border=\"1\" class=\"dataframe\">\n",
       "  <thead>\n",
       "    <tr style=\"text-align: right;\">\n",
       "      <th></th>\n",
       "      <th>last_name_L</th>\n",
       "      <th>first_name_L</th>\n",
       "      <th>house_number_L</th>\n",
       "      <th>residence_apartment_L</th>\n",
       "      <th>residence_street_name_L</th>\n",
       "      <th>residence_city_L</th>\n",
       "      <th>residence_zip_code_5_L</th>\n",
       "      <th>dob_L</th>\n",
       "      <th>gender_L</th>\n",
       "      <th>political_party_L</th>\n",
       "      <th>...</th>\n",
       "      <th>residence_street_name_R</th>\n",
       "      <th>residence_city_R</th>\n",
       "      <th>residence_zip_code_5_R</th>\n",
       "      <th>dob_R</th>\n",
       "      <th>gender_R</th>\n",
       "      <th>political_party_R</th>\n",
       "      <th>county_code_R</th>\n",
       "      <th>voter_status_codes_R</th>\n",
       "      <th>unique_nys_voter_id_R</th>\n",
       "      <th>age_R</th>\n",
       "    </tr>\n",
       "  </thead>\n",
       "  <tbody>\n",
       "    <tr>\n",
       "      <td>10</td>\n",
       "      <td>pastrano</td>\n",
       "      <td>jason</td>\n",
       "      <td>70</td>\n",
       "      <td>24f</td>\n",
       "      <td>little west street</td>\n",
       "      <td>manhattan</td>\n",
       "      <td>10280.0</td>\n",
       "      <td>19720329</td>\n",
       "      <td>M</td>\n",
       "      <td>BLK</td>\n",
       "      <td>...</td>\n",
       "      <td>little west street</td>\n",
       "      <td>manhattan</td>\n",
       "      <td>10280.0</td>\n",
       "      <td>19700106</td>\n",
       "      <td>F</td>\n",
       "      <td>DEM</td>\n",
       "      <td>31</td>\n",
       "      <td>ACTIVE</td>\n",
       "      <td>NY000000000038236817</td>\n",
       "      <td>42</td>\n",
       "    </tr>\n",
       "    <tr>\n",
       "      <td>16</td>\n",
       "      <td>molluso</td>\n",
       "      <td>may</td>\n",
       "      <td>211</td>\n",
       "      <td>5j</td>\n",
       "      <td>central park west</td>\n",
       "      <td>manhattan</td>\n",
       "      <td>10024.0</td>\n",
       "      <td>19731124</td>\n",
       "      <td>F</td>\n",
       "      <td>BLK</td>\n",
       "      <td>...</td>\n",
       "      <td>central park west</td>\n",
       "      <td>manhattan</td>\n",
       "      <td>10024.0</td>\n",
       "      <td>19690224</td>\n",
       "      <td>M</td>\n",
       "      <td>REP</td>\n",
       "      <td>31</td>\n",
       "      <td>ACTIVE</td>\n",
       "      <td>NY000000000037997015</td>\n",
       "      <td>43</td>\n",
       "    </tr>\n",
       "    <tr>\n",
       "      <td>26</td>\n",
       "      <td>lynch</td>\n",
       "      <td>carlinda</td>\n",
       "      <td>860</td>\n",
       "      <td>17b</td>\n",
       "      <td>columbus avenue</td>\n",
       "      <td>manhattan</td>\n",
       "      <td>10025.0</td>\n",
       "      <td>19511114</td>\n",
       "      <td>F</td>\n",
       "      <td>REP</td>\n",
       "      <td>...</td>\n",
       "      <td>columbus avenue</td>\n",
       "      <td>manhattan</td>\n",
       "      <td>10025.0</td>\n",
       "      <td>19480315</td>\n",
       "      <td>F</td>\n",
       "      <td>DEM</td>\n",
       "      <td>31</td>\n",
       "      <td>ACTIVE</td>\n",
       "      <td>NY000000000037608370</td>\n",
       "      <td>64</td>\n",
       "    </tr>\n",
       "    <tr>\n",
       "      <td>36</td>\n",
       "      <td>eng</td>\n",
       "      <td>han</td>\n",
       "      <td>1619</td>\n",
       "      <td>7-c</td>\n",
       "      <td>3 avenue</td>\n",
       "      <td>manhattan</td>\n",
       "      <td>10128.0</td>\n",
       "      <td>19380928</td>\n",
       "      <td>F</td>\n",
       "      <td>REP</td>\n",
       "      <td>...</td>\n",
       "      <td>3 avenue</td>\n",
       "      <td>manhattan</td>\n",
       "      <td>10128.0</td>\n",
       "      <td>19500828</td>\n",
       "      <td>F</td>\n",
       "      <td>DEM</td>\n",
       "      <td>31</td>\n",
       "      <td>PURGED</td>\n",
       "      <td>NY000000000037673647</td>\n",
       "      <td>62</td>\n",
       "    </tr>\n",
       "    <tr>\n",
       "      <td>44</td>\n",
       "      <td>deblois</td>\n",
       "      <td>brian</td>\n",
       "      <td>75</td>\n",
       "      <td>10d</td>\n",
       "      <td>west street</td>\n",
       "      <td>manhattan</td>\n",
       "      <td>10006.0</td>\n",
       "      <td>19710526</td>\n",
       "      <td>M</td>\n",
       "      <td>DEM</td>\n",
       "      <td>...</td>\n",
       "      <td>west street</td>\n",
       "      <td>manhattan</td>\n",
       "      <td>10006.0</td>\n",
       "      <td>19731204</td>\n",
       "      <td>M</td>\n",
       "      <td>BLK</td>\n",
       "      <td>31</td>\n",
       "      <td>ACTIVE</td>\n",
       "      <td>NY000000000035440396</td>\n",
       "      <td>39</td>\n",
       "    </tr>\n",
       "  </tbody>\n",
       "</table>\n",
       "<p>5 rows × 29 columns</p>\n",
       "</div>"
      ],
      "text/plain": [
       "   last_name_L first_name_L house_number_L residence_apartment_L  \\\n",
       "10    pastrano        jason             70                   24f   \n",
       "16     molluso          may            211                    5j   \n",
       "26       lynch     carlinda            860                   17b   \n",
       "36         eng          han           1619                   7-c   \n",
       "44     deblois        brian             75                   10d   \n",
       "\n",
       "   residence_street_name_L residence_city_L  residence_zip_code_5_L     dob_L  \\\n",
       "10      little west street        manhattan                 10280.0  19720329   \n",
       "16       central park west        manhattan                 10024.0  19731124   \n",
       "26         columbus avenue        manhattan                 10025.0  19511114   \n",
       "36                3 avenue        manhattan                 10128.0  19380928   \n",
       "44             west street        manhattan                 10006.0  19710526   \n",
       "\n",
       "   gender_L political_party_L  ...  residence_street_name_R residence_city_R  \\\n",
       "10        M               BLK  ...       little west street        manhattan   \n",
       "16        F               BLK  ...        central park west        manhattan   \n",
       "26        F               REP  ...          columbus avenue        manhattan   \n",
       "36        F               REP  ...                 3 avenue        manhattan   \n",
       "44        M               DEM  ...              west street        manhattan   \n",
       "\n",
       "   residence_zip_code_5_R     dob_R gender_R political_party_R county_code_R  \\\n",
       "10                10280.0  19700106        F               DEM            31   \n",
       "16                10024.0  19690224        M               REP            31   \n",
       "26                10025.0  19480315        F               DEM            31   \n",
       "36                10128.0  19500828        F               DEM            31   \n",
       "44                10006.0  19731204        M               BLK            31   \n",
       "\n",
       "   voter_status_codes_R unique_nys_voter_id_R age_R  \n",
       "10               ACTIVE  NY000000000038236817    42  \n",
       "16               ACTIVE  NY000000000037997015    43  \n",
       "26               ACTIVE  NY000000000037608370    64  \n",
       "36               PURGED  NY000000000037673647    62  \n",
       "44               ACTIVE  NY000000000035440396    39  \n",
       "\n",
       "[5 rows x 29 columns]"
      ]
     },
     "execution_count": 27,
     "metadata": {},
     "output_type": "execute_result"
    }
   ],
   "source": [
    "couples.head()"
   ]
  },
  {
   "cell_type": "code",
   "execution_count": 28,
   "metadata": {},
   "outputs": [
    {
     "data": {
      "text/plain": [
       "(1303036, 15)"
      ]
     },
     "execution_count": 28,
     "metadata": {},
     "output_type": "execute_result"
    }
   ],
   "source": [
    "global_df.shape"
   ]
  },
  {
   "cell_type": "code",
   "execution_count": 29,
   "metadata": {},
   "outputs": [
    {
     "name": "stderr",
     "output_type": "stream",
     "text": [
      "/home/rahullachh/anaconda3/lib/python3.7/site-packages/ipykernel_launcher.py:1: SettingWithCopyWarning: \n",
      "A value is trying to be set on a copy of a slice from a DataFrame.\n",
      "Try using .loc[row_indexer,col_indexer] = value instead\n",
      "\n",
      "See the caveats in the documentation: http://pandas.pydata.org/pandas-docs/stable/user_guide/indexing.html#returning-a-view-versus-a-copy\n",
      "  \"\"\"Entry point for launching an IPython kernel.\n"
     ]
    }
   ],
   "source": [
    "couples[\"age_diff\"] = couples.apply(lambda row: abs(row[\"age_L\"] - row[\"age_R\"]), axis=1)"
   ]
  },
  {
   "cell_type": "code",
   "execution_count": 30,
   "metadata": {},
   "outputs": [],
   "source": [
    "sorted_couples = couples.sort_values(by=\"age_diff\")"
   ]
  },
  {
   "cell_type": "code",
   "execution_count": 31,
   "metadata": {},
   "outputs": [],
   "source": [
    "single_house_couples = sorted_couples.drop_duplicates(subset=\"uniq_addr\", keep=\"first\")"
   ]
  },
  {
   "cell_type": "code",
   "execution_count": 32,
   "metadata": {},
   "outputs": [
    {
     "data": {
      "text/plain": [
       "(213464, 30)"
      ]
     },
     "execution_count": 32,
     "metadata": {},
     "output_type": "execute_result"
    }
   ],
   "source": [
    "single_house_couples.shape"
   ]
  },
  {
   "cell_type": "code",
   "execution_count": 33,
   "metadata": {},
   "outputs": [
    {
     "data": {
      "text/plain": [
       "(1303036, 15)"
      ]
     },
     "execution_count": 33,
     "metadata": {},
     "output_type": "execute_result"
    }
   ],
   "source": [
    "global_df.shape"
   ]
  },
  {
   "cell_type": "code",
   "execution_count": 34,
   "metadata": {},
   "outputs": [
    {
     "data": {
      "text/plain": [
       "'data/NewYork/couples/20121231/couples_20121231_31.csv'"
      ]
     },
     "execution_count": 34,
     "metadata": {},
     "output_type": "execute_result"
    }
   ],
   "source": [
    "COUPLES_SAVED_PATH"
   ]
  },
  {
   "cell_type": "code",
   "execution_count": 35,
   "metadata": {},
   "outputs": [],
   "source": [
    "single_house_couples.to_csv(COUPLES_SAVED_PATH, sep=\"\\t\", index=False)"
   ]
  },
  {
   "cell_type": "code",
   "execution_count": 39,
   "metadata": {},
   "outputs": [
    {
     "name": "stdout",
     "output_type": "stream",
     "text": [
      "Done processing data/NewYork/couples/20121231/couples_20121231_31.csv\n"
     ]
    }
   ],
   "source": [
    "print(\"Done processing \" + COUPLES_SAVED_PATH)"
   ]
  },
  {
   "cell_type": "code",
   "execution_count": null,
   "metadata": {},
   "outputs": [],
   "source": []
  }
 ],
 "metadata": {
  "kernelspec": {
   "display_name": "Python 3",
   "language": "python",
   "name": "python3"
  },
  "language_info": {
   "codemirror_mode": {
    "name": "ipython",
    "version": 3
   },
   "file_extension": ".py",
   "mimetype": "text/x-python",
   "name": "python",
   "nbconvert_exporter": "python",
   "pygments_lexer": "ipython3",
   "version": "3.7.4"
  }
 },
 "nbformat": 4,
 "nbformat_minor": 4
}
