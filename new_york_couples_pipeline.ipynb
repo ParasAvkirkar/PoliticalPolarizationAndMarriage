{
 "cells": [
  {
   "cell_type": "code",
   "execution_count": 40,
   "metadata": {},
   "outputs": [],
   "source": [
    "import pandas as pd\n",
    "import random\n",
    "import numpy as np\n",
    "import time\n",
    "import math\n",
    "import sys\n",
    "import matplotlib.patches as mpatches\n",
    "import matplotlib.pyplot as plt\n",
    "import seaborn as sns\n",
    "import xgboost as xgb\n",
    "import datatable as dt\n",
    "\n",
    "from xgboost import plot_tree\n",
    "from os import walk\n",
    "from os import listdir\n",
    "from os.path import isfile, join\n",
    "from scipy.spatial.distance import euclidean, pdist, squareform\n",
    "from scipy.stats import skew\n",
    "from scipy.special import expit as sigmoid\n",
    "from scipy.cluster.hierarchy import fclusterdata\n",
    "from pandas.plotting import autocorrelation_plot\n",
    "from sklearn.model_selection import train_test_split\n",
    "from sklearn.linear_model import LogisticRegression\n",
    "from sklearn.linear_model import LinearRegression\n",
    "from sklearn.ensemble import RandomForestClassifier\n",
    "from sklearn import tree\n",
    "from sklearn.metrics import precision_recall_fscore_support\n",
    "from sklearn import preprocessing\n",
    "from sklearn.metrics import confusion_matrix\n",
    "from sklearn.metrics import roc_auc_score\n",
    "from sklearn.utils import resample\n",
    "from imblearn.over_sampling import SMOTE, ADASYN\n",
    "from imblearn.under_sampling import ClusterCentroids\n",
    "from imblearn.under_sampling import RandomUnderSampler\n",
    "from sklearn.preprocessing import LabelEncoder\n",
    "from sklearn.metrics import pairwise_distances\n",
    "from sklearn.cluster import AgglomerativeClustering\n",
    "from sklearn.manifold import TSNE\n",
    "from sklearn.metrics import mean_absolute_error\n",
    "from sklearn.metrics import mean_squared_error"
   ]
  },
  {
   "cell_type": "code",
   "execution_count": 41,
   "metadata": {},
   "outputs": [],
   "source": [
    "ny_cols = [\"last_name\", \"first_name\", \"middle_name\", \"name_suffix\", \"house_number\", \"house_fractional_addr\", \"residence_apartment\", \"residence_pre_street_direction\", \"residence_street_name\", \"residence_post_street_direction\", \"residence_city\", \"residence_zip_code_5\", \"residence_zip_code_4\", \"mail_addr1\", \"mail_addr2\", \"mail_addr3\", \"mail_addr4\", \"dob\", \"gender\", \"political_party\", \"other_party\", \"county_code\", \"election_district\", \"legislative_district\", \"town_city\", \"ward\", \"congressional_district\", \"senate_district\", \"assembly_district\", \"last_date_voted\", \"last_year_voted\", \"last_county_voted\", \"last_registered_address\", \"last_registered_name\", \"county_voter_registration_no\", \"application_date\", \"application_source\", \"identification_required_flag\", \"identification_verification_requirement_met_flag\", \"voter_status_codes\", \"status_reason_codes\", \"inactive_voter_date\", \"purge_voter_date\", \"unique_nys_voter_id\", \"voter_history\"]\n"
   ]
  },
  {
   "cell_type": "code",
   "execution_count": 42,
   "metadata": {},
   "outputs": [],
   "source": [
    "selective_headers = [\n",
    "    'first_name',\n",
    "    'last_name',\n",
    "    'dob',\n",
    "    'county_code',\n",
    "    'house_number',\n",
    "    'residence_apartment',\n",
    "    'residence_street_name',\n",
    "    'residence_city',\n",
    "    'residence_zip_code_5',\n",
    "    'gender',\n",
    "    'unique_nys_voter_id',\n",
    "    'political_party',\n",
    "    'voter_status_codes'\n",
    "]\n",
    "\n",
    "# precinct and race was not found"
   ]
  },
  {
   "cell_type": "code",
   "execution_count": 43,
   "metadata": {},
   "outputs": [],
   "source": [
    "new_york_path = \"data/NewYork\""
   ]
  },
  {
   "cell_type": "code",
   "execution_count": 44,
   "metadata": {},
   "outputs": [],
   "source": [
    "COUNTY=sys.argv[1]"
   ]
  },
  {
   "cell_type": "code",
   "execution_count": 45,
   "metadata": {},
   "outputs": [],
   "source": [
    "date_str = sys.argv[2]"
   ]
  },
  {
   "cell_type": "markdown",
   "metadata": {},
   "source": [
    "## Uncomment below lines and add parameters manually when exploring through notebook instead of python-script"
   ]
  },
  {
   "cell_type": "code",
   "execution_count": 46,
   "metadata": {},
   "outputs": [],
   "source": [
    "date_str = \"20160511\"\n",
    "COUNTY = \"31\""
   ]
  },
  {
   "cell_type": "code",
   "execution_count": 47,
   "metadata": {},
   "outputs": [],
   "source": [
    "import os\n",
    "if not os.path.exists(new_york_path + \"/couples/\" + date_str):\n",
    "    os.makedirs(new_york_path + \"/couples/\" + date_str)"
   ]
  },
  {
   "cell_type": "code",
   "execution_count": 48,
   "metadata": {},
   "outputs": [],
   "source": [
    "source_county_file_name = \"county_\" + date_str + \"_\" + COUNTY + \".csv\""
   ]
  },
  {
   "cell_type": "code",
   "execution_count": 49,
   "metadata": {},
   "outputs": [
    {
     "data": {
      "text/plain": [
       "'county_20160511_31.csv'"
      ]
     },
     "execution_count": 49,
     "metadata": {},
     "output_type": "execute_result"
    }
   ],
   "source": [
    "source_county_file_name"
   ]
  },
  {
   "cell_type": "code",
   "execution_count": 50,
   "metadata": {},
   "outputs": [],
   "source": [
    "COUPLES_SAVED_PATH = new_york_path + \"/couples/\" + date_str + \"/\" + \"couples_\" + date_str + \"_\" + COUNTY + \".csv\""
   ]
  },
  {
   "cell_type": "code",
   "execution_count": 13,
   "metadata": {},
   "outputs": [
    {
     "data": {
      "text/plain": [
       "'data/NewYork/couples/20121231/couples_20121231_31.csv'"
      ]
     },
     "execution_count": 13,
     "metadata": {},
     "output_type": "execute_result"
    }
   ],
   "source": [
    "COUPLES_SAVED_PATH"
   ]
  },
  {
   "cell_type": "code",
   "execution_count": 51,
   "metadata": {},
   "outputs": [
    {
     "data": {
      "text/plain": [
       "'data/NewYork/20160511_county_files/county_20160511_31.csv'"
      ]
     },
     "execution_count": 51,
     "metadata": {},
     "output_type": "execute_result"
    }
   ],
   "source": [
    "new_york_path + \"/\" + date_str + \"_county_files/\" + source_county_file_name"
   ]
  },
  {
   "cell_type": "code",
   "execution_count": 52,
   "metadata": {},
   "outputs": [],
   "source": [
    "global_df = pd.read_csv(new_york_path + \"/\" + date_str + \"_county_files/\" + source_county_file_name, sep=\"\\t\",  encoding='iso-8859-1')"
   ]
  },
  {
   "cell_type": "code",
   "execution_count": 53,
   "metadata": {},
   "outputs": [
    {
     "data": {
      "text/html": [
       "<div>\n",
       "<style scoped>\n",
       "    .dataframe tbody tr th:only-of-type {\n",
       "        vertical-align: middle;\n",
       "    }\n",
       "\n",
       "    .dataframe tbody tr th {\n",
       "        vertical-align: top;\n",
       "    }\n",
       "\n",
       "    .dataframe thead th {\n",
       "        text-align: right;\n",
       "    }\n",
       "</style>\n",
       "<table border=\"1\" class=\"dataframe\">\n",
       "  <thead>\n",
       "    <tr style=\"text-align: right;\">\n",
       "      <th></th>\n",
       "      <th>last_name</th>\n",
       "      <th>first_name</th>\n",
       "      <th>house_number</th>\n",
       "      <th>residence_apartment</th>\n",
       "      <th>residence_street_name</th>\n",
       "      <th>residence_city</th>\n",
       "      <th>residence_zip_code_5</th>\n",
       "      <th>dob</th>\n",
       "      <th>gender</th>\n",
       "      <th>political_party</th>\n",
       "      <th>county_code</th>\n",
       "      <th>voter_status_codes</th>\n",
       "      <th>unique_nys_voter_id</th>\n",
       "      <th>age</th>\n",
       "      <th>uniq_addr</th>\n",
       "    </tr>\n",
       "  </thead>\n",
       "  <tbody>\n",
       "    <tr>\n",
       "      <td>0</td>\n",
       "      <td>barrera</td>\n",
       "      <td>john</td>\n",
       "      <td>237</td>\n",
       "      <td>1</td>\n",
       "      <td>west 11 street</td>\n",
       "      <td>manhattan</td>\n",
       "      <td>10014.0</td>\n",
       "      <td>19720228</td>\n",
       "      <td>M</td>\n",
       "      <td>DEM</td>\n",
       "      <td>31</td>\n",
       "      <td>ACTIVE</td>\n",
       "      <td>NY000000000034125923</td>\n",
       "      <td>44</td>\n",
       "      <td>237 1 west 11 street manhattan 100140</td>\n",
       "    </tr>\n",
       "    <tr>\n",
       "      <td>1</td>\n",
       "      <td>aranda</td>\n",
       "      <td>daisy</td>\n",
       "      <td>5</td>\n",
       "      <td>1814</td>\n",
       "      <td>tudor city place</td>\n",
       "      <td>new york</td>\n",
       "      <td>10017.0</td>\n",
       "      <td>19581027</td>\n",
       "      <td>F</td>\n",
       "      <td>DEM</td>\n",
       "      <td>31</td>\n",
       "      <td>PURGED</td>\n",
       "      <td>NY000000000034135787</td>\n",
       "      <td>57</td>\n",
       "      <td>5 1814 tudor city place new york 100170</td>\n",
       "    </tr>\n",
       "    <tr>\n",
       "      <td>2</td>\n",
       "      <td>reilly</td>\n",
       "      <td>betty</td>\n",
       "      <td>800</td>\n",
       "      <td>6c</td>\n",
       "      <td>riverside drive</td>\n",
       "      <td>new york</td>\n",
       "      <td>10032.0</td>\n",
       "      <td>19220513</td>\n",
       "      <td>F</td>\n",
       "      <td>DEM</td>\n",
       "      <td>31</td>\n",
       "      <td>PURGED</td>\n",
       "      <td>NY000000000034153789</td>\n",
       "      <td>93</td>\n",
       "      <td>800 6c riverside drive new york 100320</td>\n",
       "    </tr>\n",
       "    <tr>\n",
       "      <td>3</td>\n",
       "      <td>zilberman</td>\n",
       "      <td>pavel</td>\n",
       "      <td>354</td>\n",
       "      <td>apt 2104</td>\n",
       "      <td>east 91 street</td>\n",
       "      <td>new york</td>\n",
       "      <td>10128.0</td>\n",
       "      <td>19531117</td>\n",
       "      <td>M</td>\n",
       "      <td>REP</td>\n",
       "      <td>31</td>\n",
       "      <td>ACTIVE</td>\n",
       "      <td>NY000000000034164964</td>\n",
       "      <td>62</td>\n",
       "      <td>354 apt 2104 east 91 street new york 101280</td>\n",
       "    </tr>\n",
       "    <tr>\n",
       "      <td>4</td>\n",
       "      <td>thomas</td>\n",
       "      <td>adrian</td>\n",
       "      <td>165</td>\n",
       "      <td>5</td>\n",
       "      <td>east 87 street</td>\n",
       "      <td>new york</td>\n",
       "      <td>10128.0</td>\n",
       "      <td>19720413</td>\n",
       "      <td>M</td>\n",
       "      <td>IND</td>\n",
       "      <td>31</td>\n",
       "      <td>ACTIVE</td>\n",
       "      <td>NY000000000034166816</td>\n",
       "      <td>44</td>\n",
       "      <td>165 5 east 87 street new york 101280</td>\n",
       "    </tr>\n",
       "  </tbody>\n",
       "</table>\n",
       "</div>"
      ],
      "text/plain": [
       "   last_name first_name house_number residence_apartment  \\\n",
       "0    barrera       john          237                   1   \n",
       "1     aranda      daisy            5                1814   \n",
       "2     reilly      betty          800                  6c   \n",
       "3  zilberman      pavel          354            apt 2104   \n",
       "4     thomas     adrian          165                   5   \n",
       "\n",
       "  residence_street_name residence_city  residence_zip_code_5       dob gender  \\\n",
       "0        west 11 street      manhattan               10014.0  19720228      M   \n",
       "1      tudor city place       new york               10017.0  19581027      F   \n",
       "2       riverside drive       new york               10032.0  19220513      F   \n",
       "3        east 91 street       new york               10128.0  19531117      M   \n",
       "4        east 87 street       new york               10128.0  19720413      M   \n",
       "\n",
       "  political_party  county_code voter_status_codes   unique_nys_voter_id  age  \\\n",
       "0             DEM           31             ACTIVE  NY000000000034125923   44   \n",
       "1             DEM           31             PURGED  NY000000000034135787   57   \n",
       "2             DEM           31             PURGED  NY000000000034153789   93   \n",
       "3             REP           31             ACTIVE  NY000000000034164964   62   \n",
       "4             IND           31             ACTIVE  NY000000000034166816   44   \n",
       "\n",
       "                                     uniq_addr  \n",
       "0        237 1 west 11 street manhattan 100140  \n",
       "1      5 1814 tudor city place new york 100170  \n",
       "2       800 6c riverside drive new york 100320  \n",
       "3  354 apt 2104 east 91 street new york 101280  \n",
       "4         165 5 east 87 street new york 101280  "
      ]
     },
     "execution_count": 53,
     "metadata": {},
     "output_type": "execute_result"
    }
   ],
   "source": [
    "global_df.head()"
   ]
  },
  {
   "cell_type": "code",
   "execution_count": 54,
   "metadata": {},
   "outputs": [
    {
     "data": {
      "text/plain": [
       "(1428253, 15)"
      ]
     },
     "execution_count": 54,
     "metadata": {},
     "output_type": "execute_result"
    }
   ],
   "source": [
    "global_df.shape"
   ]
  },
  {
   "cell_type": "code",
   "execution_count": 55,
   "metadata": {},
   "outputs": [],
   "source": [
    "global_df_copy = global_df.copy(deep=True)"
   ]
  },
  {
   "cell_type": "code",
   "execution_count": 56,
   "metadata": {},
   "outputs": [],
   "source": [
    "merge = pd.merge(global_df, global_df_copy, on=[\"uniq_addr\"], suffixes=[\"_L\", \"_R\"])"
   ]
  },
  {
   "cell_type": "code",
   "execution_count": 57,
   "metadata": {},
   "outputs": [],
   "source": [
    "merge = merge[merge[\"unique_nys_voter_id_L\"] != merge[\"unique_nys_voter_id_R\"]]"
   ]
  },
  {
   "cell_type": "code",
   "execution_count": 58,
   "metadata": {},
   "outputs": [
    {
     "data": {
      "text/plain": [
       "(1118414, 29)"
      ]
     },
     "execution_count": 58,
     "metadata": {},
     "output_type": "execute_result"
    }
   ],
   "source": [
    "merge.shape"
   ]
  },
  {
   "cell_type": "code",
   "execution_count": 59,
   "metadata": {},
   "outputs": [],
   "source": [
    "filtered = merge[merge[\"unique_nys_voter_id_L\"] < merge[\"unique_nys_voter_id_R\"]]"
   ]
  },
  {
   "cell_type": "code",
   "execution_count": 60,
   "metadata": {},
   "outputs": [
    {
     "data": {
      "text/plain": [
       "(559207, 29)"
      ]
     },
     "execution_count": 60,
     "metadata": {},
     "output_type": "execute_result"
    }
   ],
   "source": [
    "filtered.shape"
   ]
  },
  {
   "cell_type": "code",
   "execution_count": 61,
   "metadata": {},
   "outputs": [],
   "source": [
    "def modified_couple_heuristic(row):\n",
    "    male_age_threshold = 27\n",
    "    female_age_threshold = 25\n",
    "    unknown_age_threshold = 26\n",
    "    age_diff_threshold = 15\n",
    "    \n",
    "    age_diff = abs(row['age_L'] - row['age_R'])\n",
    "    \n",
    "    is_age_threshold_L = False\n",
    "    if row[\"gender_L\"] == \"M\" and row[\"age_L\"] >= male_age_threshold: \n",
    "        is_age_threshold_L = True\n",
    "    elif row[\"gender_L\"] == \"F\" and row[\"age_L\"] >= female_age_threshold:\n",
    "        is_age_threshold_L = True\n",
    "    elif row[\"gender_L\"] == \"U\" and row[\"age_L\"] >= unknown_age_threshold:\n",
    "        is_age_threshold_L = True\n",
    "\n",
    "    \n",
    "        \n",
    "    is_age_threshold_R = False\n",
    "    if row[\"gender_R\"] == \"M\" and row[\"age_R\"] >= male_age_threshold: \n",
    "        is_age_threshold_R = True\n",
    "    elif row[\"gender_R\"] == \"F\" and row[\"age_R\"] >= female_age_threshold:\n",
    "        is_age_threshold_R = True\n",
    "    elif row[\"gender_R\"] == \"U\" and row[\"age_R\"] >= unknown_age_threshold:\n",
    "        is_age_threshold_R = True\n",
    "    \n",
    "    return is_age_threshold_L and is_age_threshold_R and age_diff <= age_diff_threshold\n",
    "        "
   ]
  },
  {
   "cell_type": "code",
   "execution_count": 62,
   "metadata": {},
   "outputs": [
    {
     "data": {
      "text/plain": [
       "Index(['last_name_L', 'first_name_L', 'house_number_L',\n",
       "       'residence_apartment_L', 'residence_street_name_L', 'residence_city_L',\n",
       "       'residence_zip_code_5_L', 'dob_L', 'gender_L', 'political_party_L',\n",
       "       'county_code_L', 'voter_status_codes_L', 'unique_nys_voter_id_L',\n",
       "       'age_L', 'uniq_addr', 'last_name_R', 'first_name_R', 'house_number_R',\n",
       "       'residence_apartment_R', 'residence_street_name_R', 'residence_city_R',\n",
       "       'residence_zip_code_5_R', 'dob_R', 'gender_R', 'political_party_R',\n",
       "       'county_code_R', 'voter_status_codes_R', 'unique_nys_voter_id_R',\n",
       "       'age_R'],\n",
       "      dtype='object')"
      ]
     },
     "execution_count": 62,
     "metadata": {},
     "output_type": "execute_result"
    }
   ],
   "source": [
    "filtered.columns"
   ]
  },
  {
   "cell_type": "code",
   "execution_count": 63,
   "metadata": {},
   "outputs": [
    {
     "data": {
      "text/plain": [
       "(559207, 29)"
      ]
     },
     "execution_count": 63,
     "metadata": {},
     "output_type": "execute_result"
    }
   ],
   "source": [
    "filtered.shape"
   ]
  },
  {
   "cell_type": "code",
   "execution_count": 64,
   "metadata": {},
   "outputs": [],
   "source": [
    "couples = filtered[filtered.apply(modified_couple_heuristic, axis=1)]"
   ]
  },
  {
   "cell_type": "code",
   "execution_count": 65,
   "metadata": {},
   "outputs": [
    {
     "data": {
      "text/plain": [
       "(302999, 29)"
      ]
     },
     "execution_count": 65,
     "metadata": {},
     "output_type": "execute_result"
    }
   ],
   "source": [
    "couples.shape"
   ]
  },
  {
   "cell_type": "code",
   "execution_count": 66,
   "metadata": {},
   "outputs": [
    {
     "data": {
      "text/html": [
       "<div>\n",
       "<style scoped>\n",
       "    .dataframe tbody tr th:only-of-type {\n",
       "        vertical-align: middle;\n",
       "    }\n",
       "\n",
       "    .dataframe tbody tr th {\n",
       "        vertical-align: top;\n",
       "    }\n",
       "\n",
       "    .dataframe thead th {\n",
       "        text-align: right;\n",
       "    }\n",
       "</style>\n",
       "<table border=\"1\" class=\"dataframe\">\n",
       "  <thead>\n",
       "    <tr style=\"text-align: right;\">\n",
       "      <th></th>\n",
       "      <th>last_name_L</th>\n",
       "      <th>first_name_L</th>\n",
       "      <th>house_number_L</th>\n",
       "      <th>residence_apartment_L</th>\n",
       "      <th>residence_street_name_L</th>\n",
       "      <th>residence_city_L</th>\n",
       "      <th>residence_zip_code_5_L</th>\n",
       "      <th>dob_L</th>\n",
       "      <th>gender_L</th>\n",
       "      <th>political_party_L</th>\n",
       "      <th>...</th>\n",
       "      <th>residence_street_name_R</th>\n",
       "      <th>residence_city_R</th>\n",
       "      <th>residence_zip_code_5_R</th>\n",
       "      <th>dob_R</th>\n",
       "      <th>gender_R</th>\n",
       "      <th>political_party_R</th>\n",
       "      <th>county_code_R</th>\n",
       "      <th>voter_status_codes_R</th>\n",
       "      <th>unique_nys_voter_id_R</th>\n",
       "      <th>age_R</th>\n",
       "    </tr>\n",
       "  </thead>\n",
       "  <tbody>\n",
       "    <tr>\n",
       "      <td>14</td>\n",
       "      <td>carr</td>\n",
       "      <td>adam</td>\n",
       "      <td>453</td>\n",
       "      <td>19</td>\n",
       "      <td>west 36 street</td>\n",
       "      <td>manhattan</td>\n",
       "      <td>10018.0</td>\n",
       "      <td>19710916</td>\n",
       "      <td>M</td>\n",
       "      <td>DEM</td>\n",
       "      <td>...</td>\n",
       "      <td>west 36 street</td>\n",
       "      <td>manhattan</td>\n",
       "      <td>10018.0</td>\n",
       "      <td>19581007</td>\n",
       "      <td>M</td>\n",
       "      <td>GRE</td>\n",
       "      <td>31</td>\n",
       "      <td>ACTIVE</td>\n",
       "      <td>NY000000000037934705</td>\n",
       "      <td>57</td>\n",
       "    </tr>\n",
       "    <tr>\n",
       "      <td>18</td>\n",
       "      <td>serpico</td>\n",
       "      <td>joseph</td>\n",
       "      <td>15</td>\n",
       "      <td>apt 2220</td>\n",
       "      <td>broad street</td>\n",
       "      <td>new york</td>\n",
       "      <td>10005.0</td>\n",
       "      <td>19590423</td>\n",
       "      <td>M</td>\n",
       "      <td>REP</td>\n",
       "      <td>...</td>\n",
       "      <td>broad street</td>\n",
       "      <td>new york</td>\n",
       "      <td>10005.0</td>\n",
       "      <td>19670310</td>\n",
       "      <td>F</td>\n",
       "      <td>REP</td>\n",
       "      <td>31</td>\n",
       "      <td>ACTIVE</td>\n",
       "      <td>NY000000000034319286</td>\n",
       "      <td>49</td>\n",
       "    </tr>\n",
       "    <tr>\n",
       "      <td>22</td>\n",
       "      <td>richman</td>\n",
       "      <td>eric</td>\n",
       "      <td>240</td>\n",
       "      <td>b</td>\n",
       "      <td>east 90 street</td>\n",
       "      <td>manhattan</td>\n",
       "      <td>10128.0</td>\n",
       "      <td>19711231</td>\n",
       "      <td>M</td>\n",
       "      <td>IND</td>\n",
       "      <td>...</td>\n",
       "      <td>east 90 street</td>\n",
       "      <td>manhattan</td>\n",
       "      <td>10128.0</td>\n",
       "      <td>19731215</td>\n",
       "      <td>F</td>\n",
       "      <td>DEM</td>\n",
       "      <td>31</td>\n",
       "      <td>INACTIVE</td>\n",
       "      <td>NY000000000037320071</td>\n",
       "      <td>42</td>\n",
       "    </tr>\n",
       "    <tr>\n",
       "      <td>36</td>\n",
       "      <td>andrescavage</td>\n",
       "      <td>michael</td>\n",
       "      <td>15</td>\n",
       "      <td>7</td>\n",
       "      <td>abingdon square</td>\n",
       "      <td>manhattan</td>\n",
       "      <td>10014.0</td>\n",
       "      <td>19800403</td>\n",
       "      <td>M</td>\n",
       "      <td>REP</td>\n",
       "      <td>...</td>\n",
       "      <td>abingdon square</td>\n",
       "      <td>manhattan</td>\n",
       "      <td>10014.0</td>\n",
       "      <td>19810331</td>\n",
       "      <td>F</td>\n",
       "      <td>IND</td>\n",
       "      <td>31</td>\n",
       "      <td>ACTIVE</td>\n",
       "      <td>NY000000000051288300</td>\n",
       "      <td>35</td>\n",
       "    </tr>\n",
       "    <tr>\n",
       "      <td>45</td>\n",
       "      <td>zakai</td>\n",
       "      <td>howard</td>\n",
       "      <td>171</td>\n",
       "      <td>10d</td>\n",
       "      <td>east 84 street</td>\n",
       "      <td>manhattan</td>\n",
       "      <td>10028.0</td>\n",
       "      <td>19800318</td>\n",
       "      <td>M</td>\n",
       "      <td>DEM</td>\n",
       "      <td>...</td>\n",
       "      <td>east 84 street</td>\n",
       "      <td>manhattan</td>\n",
       "      <td>10028.0</td>\n",
       "      <td>19800721</td>\n",
       "      <td>F</td>\n",
       "      <td>DEM</td>\n",
       "      <td>31</td>\n",
       "      <td>PURGED</td>\n",
       "      <td>NY000000000051588364</td>\n",
       "      <td>35</td>\n",
       "    </tr>\n",
       "  </tbody>\n",
       "</table>\n",
       "<p>5 rows × 29 columns</p>\n",
       "</div>"
      ],
      "text/plain": [
       "     last_name_L first_name_L house_number_L residence_apartment_L  \\\n",
       "14          carr         adam            453                    19   \n",
       "18       serpico       joseph             15              apt 2220   \n",
       "22       richman         eric            240                     b   \n",
       "36  andrescavage      michael             15                     7   \n",
       "45         zakai       howard            171                   10d   \n",
       "\n",
       "   residence_street_name_L residence_city_L  residence_zip_code_5_L     dob_L  \\\n",
       "14          west 36 street        manhattan                 10018.0  19710916   \n",
       "18            broad street         new york                 10005.0  19590423   \n",
       "22          east 90 street        manhattan                 10128.0  19711231   \n",
       "36         abingdon square        manhattan                 10014.0  19800403   \n",
       "45          east 84 street        manhattan                 10028.0  19800318   \n",
       "\n",
       "   gender_L political_party_L  ...  residence_street_name_R residence_city_R  \\\n",
       "14        M               DEM  ...           west 36 street        manhattan   \n",
       "18        M               REP  ...             broad street         new york   \n",
       "22        M               IND  ...           east 90 street        manhattan   \n",
       "36        M               REP  ...          abingdon square        manhattan   \n",
       "45        M               DEM  ...           east 84 street        manhattan   \n",
       "\n",
       "   residence_zip_code_5_R     dob_R gender_R political_party_R county_code_R  \\\n",
       "14                10018.0  19581007        M               GRE            31   \n",
       "18                10005.0  19670310        F               REP            31   \n",
       "22                10128.0  19731215        F               DEM            31   \n",
       "36                10014.0  19810331        F               IND            31   \n",
       "45                10028.0  19800721        F               DEM            31   \n",
       "\n",
       "   voter_status_codes_R unique_nys_voter_id_R age_R  \n",
       "14               ACTIVE  NY000000000037934705    57  \n",
       "18               ACTIVE  NY000000000034319286    49  \n",
       "22             INACTIVE  NY000000000037320071    42  \n",
       "36               ACTIVE  NY000000000051288300    35  \n",
       "45               PURGED  NY000000000051588364    35  \n",
       "\n",
       "[5 rows x 29 columns]"
      ]
     },
     "execution_count": 66,
     "metadata": {},
     "output_type": "execute_result"
    }
   ],
   "source": [
    "couples.head()"
   ]
  },
  {
   "cell_type": "code",
   "execution_count": 67,
   "metadata": {},
   "outputs": [
    {
     "data": {
      "text/plain": [
       "(1428253, 15)"
      ]
     },
     "execution_count": 67,
     "metadata": {},
     "output_type": "execute_result"
    }
   ],
   "source": [
    "global_df.shape"
   ]
  },
  {
   "cell_type": "code",
   "execution_count": 68,
   "metadata": {},
   "outputs": [
    {
     "name": "stderr",
     "output_type": "stream",
     "text": [
      "/home/rahullachh/anaconda3/lib/python3.7/site-packages/ipykernel_launcher.py:1: SettingWithCopyWarning: \n",
      "A value is trying to be set on a copy of a slice from a DataFrame.\n",
      "Try using .loc[row_indexer,col_indexer] = value instead\n",
      "\n",
      "See the caveats in the documentation: http://pandas.pydata.org/pandas-docs/stable/user_guide/indexing.html#returning-a-view-versus-a-copy\n",
      "  \"\"\"Entry point for launching an IPython kernel.\n"
     ]
    }
   ],
   "source": [
    "couples[\"age_diff\"] = couples.apply(lambda row: abs(row[\"age_L\"] - row[\"age_R\"]), axis=1)"
   ]
  },
  {
   "cell_type": "code",
   "execution_count": 69,
   "metadata": {},
   "outputs": [],
   "source": [
    "sorted_couples = couples.sort_values(by=\"age_diff\")"
   ]
  },
  {
   "cell_type": "code",
   "execution_count": 70,
   "metadata": {},
   "outputs": [],
   "source": [
    "single_house_couples = sorted_couples.drop_duplicates(subset=\"uniq_addr\", keep=\"first\")"
   ]
  },
  {
   "cell_type": "code",
   "execution_count": 71,
   "metadata": {},
   "outputs": [
    {
     "data": {
      "text/plain": [
       "(197976, 30)"
      ]
     },
     "execution_count": 71,
     "metadata": {},
     "output_type": "execute_result"
    }
   ],
   "source": [
    "single_house_couples.shape"
   ]
  },
  {
   "cell_type": "code",
   "execution_count": 72,
   "metadata": {},
   "outputs": [
    {
     "data": {
      "text/plain": [
       "(1428253, 15)"
      ]
     },
     "execution_count": 72,
     "metadata": {},
     "output_type": "execute_result"
    }
   ],
   "source": [
    "global_df.shape"
   ]
  },
  {
   "cell_type": "code",
   "execution_count": 73,
   "metadata": {},
   "outputs": [
    {
     "data": {
      "text/plain": [
       "'data/NewYork/couples/20160511/couples_20160511_31.csv'"
      ]
     },
     "execution_count": 73,
     "metadata": {},
     "output_type": "execute_result"
    }
   ],
   "source": [
    "COUPLES_SAVED_PATH"
   ]
  },
  {
   "cell_type": "code",
   "execution_count": 74,
   "metadata": {},
   "outputs": [],
   "source": [
    "single_house_couples.to_csv(COUPLES_SAVED_PATH, sep=\"\\t\", index=False)"
   ]
  },
  {
   "cell_type": "code",
   "execution_count": 75,
   "metadata": {},
   "outputs": [
    {
     "name": "stdout",
     "output_type": "stream",
     "text": [
      "Done processing data/NewYork/couples/20160511/couples_20160511_31.csv\n"
     ]
    }
   ],
   "source": [
    "print(\"Done processing \" + COUPLES_SAVED_PATH)"
   ]
  },
  {
   "cell_type": "code",
   "execution_count": null,
   "metadata": {},
   "outputs": [],
   "source": []
  }
 ],
 "metadata": {
  "kernelspec": {
   "display_name": "Python 3",
   "language": "python",
   "name": "python3"
  },
  "language_info": {
   "codemirror_mode": {
    "name": "ipython",
    "version": 3
   },
   "file_extension": ".py",
   "mimetype": "text/x-python",
   "name": "python",
   "nbconvert_exporter": "python",
   "pygments_lexer": "ipython3",
   "version": "3.7.4"
  }
 },
 "nbformat": 4,
 "nbformat_minor": 4
}
