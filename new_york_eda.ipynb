{
 "cells": [
  {
   "cell_type": "code",
   "execution_count": 1,
   "metadata": {},
   "outputs": [],
   "source": [
    "import pandas as pd\n",
    "import random\n",
    "import numpy as np\n",
    "import time\n",
    "import math\n",
    "import sys\n",
    "import matplotlib.patches as mpatches\n",
    "import matplotlib.pyplot as plt\n",
    "import seaborn as sns\n",
    "import xgboost as xgb\n",
    "import datatable as dt\n",
    "\n",
    "from xgboost import plot_tree\n",
    "from os import walk\n",
    "from os import listdir\n",
    "from os.path import isfile, join\n",
    "from scipy.spatial.distance import euclidean, pdist, squareform\n",
    "from scipy.stats import skew\n",
    "from scipy.special import expit as sigmoid\n",
    "from scipy.cluster.hierarchy import fclusterdata\n",
    "from pandas.plotting import autocorrelation_plot\n",
    "from sklearn.model_selection import train_test_split\n",
    "from sklearn.linear_model import LogisticRegression\n",
    "from sklearn.linear_model import LinearRegression\n",
    "from sklearn.ensemble import RandomForestClassifier\n",
    "from sklearn import tree\n",
    "from sklearn.metrics import precision_recall_fscore_support\n",
    "from sklearn import preprocessing\n",
    "from sklearn.metrics import confusion_matrix\n",
    "from sklearn.metrics import roc_auc_score\n",
    "from sklearn.utils import resample\n",
    "from imblearn.over_sampling import SMOTE, ADASYN\n",
    "from imblearn.under_sampling import ClusterCentroids\n",
    "from imblearn.under_sampling import RandomUnderSampler\n",
    "from sklearn.preprocessing import LabelEncoder\n",
    "from sklearn.metrics import pairwise_distances\n",
    "from sklearn.cluster import AgglomerativeClustering\n",
    "from sklearn.manifold import TSNE\n",
    "from sklearn.metrics import mean_absolute_error\n",
    "from sklearn.metrics import mean_squared_error"
   ]
  },
  {
   "cell_type": "code",
   "execution_count": 2,
   "metadata": {},
   "outputs": [],
   "source": [
    "ny_cols = [\"last_name\", \"first_name\", \"middle_name\", \"name_suffix\", \"house_number\", \"house_fractional_addr\", \"residence_apartment\", \"residence_pre_street_direction\", \"residence_street_name\", \"residence_post_street_direction\", \"residence_city\", \"residence_zip_code_5\", \"residence_zip_code_4\", \"mail_addr1\", \"mail_addr2\", \"mail_addr3\", \"mail_addr4\", \"dob\", \"gender\", \"political_party\", \"other_party\", \"county_code\", \"election_district\", \"legislative_district\", \"town_city\", \"ward\", \"congressional_district\", \"senate_district\", \"assembly_district\", \"last_date_voted\", \"last_year_voted\", \"last_county_voted\", \"last_registered_address\", \"last_registered_name\", \"county_voter_registration_no\", \"application_date\", \"application_source\", \"identification_required_flag\", \"identification_verification_requirement_met_flag\", \"voter_status_codes\", \"status_reason_codes\", \"inactive_voter_date\", \"purge_voter_date\", \"unique_nys_voter_id\", \"voter_history\"]\n"
   ]
  },
  {
   "cell_type": "code",
   "execution_count": 3,
   "metadata": {},
   "outputs": [],
   "source": [
    "selective_headers = [\n",
    "    'first_name',\n",
    "    'last_name',\n",
    "    'dob',\n",
    "    'county_code',\n",
    "    'house_number',\n",
    "    'residence_apartment',\n",
    "    'residence_street_name',\n",
    "    'residence_city',\n",
    "    'residence_zip_code_5',\n",
    "    'gender',\n",
    "    'unique_nys_voter_id',\n",
    "    'political_party',\n",
    "    'voter_status_codes'\n",
    "]\n",
    "\n",
    "# precinct and race was not found"
   ]
  },
  {
   "cell_type": "code",
   "execution_count": null,
   "metadata": {},
   "outputs": [],
   "source": []
  }
 ],
 "metadata": {
  "kernelspec": {
   "display_name": "Python 3",
   "language": "python",
   "name": "python3"
  },
  "language_info": {
   "codemirror_mode": {
    "name": "ipython",
    "version": 3
   },
   "file_extension": ".py",
   "mimetype": "text/x-python",
   "name": "python",
   "nbconvert_exporter": "python",
   "pygments_lexer": "ipython3",
   "version": "3.7.4"
  }
 },
 "nbformat": 4,
 "nbformat_minor": 4
}
