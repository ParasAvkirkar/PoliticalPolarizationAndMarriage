{
 "cells": [
  {
   "cell_type": "code",
   "execution_count": 9,
   "metadata": {},
   "outputs": [],
   "source": [
    "import pandas as pd\n",
    "import random\n",
    "import numpy as np\n",
    "import time\n",
    "import math\n",
    "import sys\n",
    "import matplotlib.patches as mpatches\n",
    "import matplotlib.pyplot as plt\n",
    "import seaborn as sns\n",
    "import xgboost as xgb\n",
    "import datatable as dt\n",
    "\n",
    "from xgboost import plot_tree\n",
    "from os import walk\n",
    "from os import listdir\n",
    "from os.path import isfile, join\n",
    "from scipy.spatial.distance import euclidean, pdist, squareform\n",
    "from scipy.stats import skew\n",
    "from scipy.special import expit as sigmoid\n",
    "from scipy.cluster.hierarchy import fclusterdata\n",
    "from pandas.plotting import autocorrelation_plot\n",
    "from sklearn.model_selection import train_test_split\n",
    "from sklearn.linear_model import LogisticRegression\n",
    "from sklearn.linear_model import LinearRegression\n",
    "from sklearn.ensemble import RandomForestClassifier\n",
    "from sklearn import tree\n",
    "from sklearn.metrics import precision_recall_fscore_support\n",
    "from sklearn import preprocessing\n",
    "from sklearn.metrics import confusion_matrix\n",
    "from sklearn.metrics import roc_auc_score\n",
    "from sklearn.utils import resample\n",
    "from imblearn.over_sampling import SMOTE, ADASYN\n",
    "from imblearn.under_sampling import ClusterCentroids\n",
    "from imblearn.under_sampling import RandomUnderSampler\n",
    "from sklearn.preprocessing import LabelEncoder\n",
    "from sklearn.metrics import pairwise_distances\n",
    "from sklearn.cluster import AgglomerativeClustering\n",
    "from sklearn.manifold import TSNE\n",
    "from sklearn.metrics import mean_absolute_error\n",
    "from sklearn.metrics import mean_squared_error"
   ]
  },
  {
   "cell_type": "code",
   "execution_count": 3,
   "metadata": {},
   "outputs": [],
   "source": [
    "DATA_PATH = ''\n",
    "#HISTORY_PATH = \"Voter_History_{0}\"\n",
    "PREPROCESSED_PATH = \"preprocessed/{0}/florida_processed_{0}.csv\"\n",
    "COUPLES_PATH=\"couples/{0}/couples_{1}_{0}.csv\"\n",
    "#COUPLES_PATH=\"couples/{0}/couples_FLA_{0}.csv\""
   ]
  },
  {
   "cell_type": "code",
   "execution_count": 4,
   "metadata": {},
   "outputs": [
    {
     "name": "stderr",
     "output_type": "stream",
     "text": [
      "usage: ipykernel_launcher.py [-h] [--old OLD_DATE] [--new NEW_DATE]\n",
      "                             [--county COUNTY]\n",
      "ipykernel_launcher.py: error: unrecognized arguments: -f /home/rahullachh/.local/share/jupyter/runtime/kernel-e2bbfc31-01e4-4e8b-8741-da1c0b1c1a56.json\n"
     ]
    },
    {
     "ename": "SystemExit",
     "evalue": "2",
     "output_type": "error",
     "traceback": [
      "An exception has occurred, use %tb to see the full traceback.\n",
      "\u001b[0;31mSystemExit\u001b[0m\u001b[0;31m:\u001b[0m 2\n"
     ]
    },
    {
     "name": "stderr",
     "output_type": "stream",
     "text": [
      "/home/rahullachh/anaconda3/lib/python3.7/site-packages/IPython/core/interactiveshell.py:3334: UserWarning: To exit: use 'exit', 'quit', or Ctrl-D.\n",
      "  warn(\"To exit: use 'exit', 'quit', or Ctrl-D.\", stacklevel=1)\n"
     ]
    }
   ],
   "source": [
    "import argparse\n",
    "\n",
    "parser = argparse.ArgumentParser()\n",
    "\n",
    "parser.add_argument('--old', dest='old_date', action='store', type=str, help='old date value')\n",
    "parser.add_argument('--new', dest='new_date', action='store', type=str, help='new date value')\n",
    "parser.add_argument('--county', dest='county', action='store', type=str, help='county')\n",
    "\n",
    "args = parser.parse_args()"
   ]
  },
  {
   "cell_type": "code",
   "execution_count": 5,
   "metadata": {},
   "outputs": [],
   "source": [
    "#preprocessed_date = args.new_date\n",
    "preprocessed_date = str(20190910)"
   ]
  },
  {
   "cell_type": "code",
   "execution_count": 6,
   "metadata": {},
   "outputs": [],
   "source": [
    "# couples_date = args.old_date\n",
    "# county = args.county\n",
    "county = \"DAD\"\n",
    "couples_date = str(20180313)"
   ]
  },
  {
   "cell_type": "code",
   "execution_count": 7,
   "metadata": {},
   "outputs": [],
   "source": [
    "image_file_prefix = couples_date + \"_\" + preprocessed_date + \"_\" + county\n",
    "stat_file_prefix =  couples_date + \"_\" + preprocessed_date + \"_\" + county\n",
    "\n",
    "import os\n",
    "if not os.path.exists(\"plots/\" + image_file_prefix):\n",
    "    os.makedirs(\"plots/\" + image_file_prefix)\n",
    "\n",
    "if not os.path.exists(\"stats/\" + stat_file_prefix):\n",
    "    os.makedirs(\"stats/\" + stat_file_prefix)\n",
    "    \n",
    "stat_file_path = \"stats/\" + stat_file_prefix + \"/\""
   ]
  },
  {
   "cell_type": "code",
   "execution_count": 10,
   "metadata": {},
   "outputs": [
    {
     "name": "stderr",
     "output_type": "stream",
     "text": [
      "/home/rahullachh/anaconda3/lib/python3.7/site-packages/IPython/core/interactiveshell.py:3058: DtypeWarning: Columns (13) have mixed types. Specify dtype option on import or set low_memory=False.\n",
      "  interactivity=interactivity, compiler=compiler, result=result)\n"
     ]
    }
   ],
   "source": [
    "global_df = pd.read_csv(PREPROCESSED_PATH.format(preprocessed_date) , sep='\\t')"
   ]
  },
  {
   "cell_type": "code",
   "execution_count": 11,
   "metadata": {},
   "outputs": [],
   "source": [
    "# global_df.isnull().sum()"
   ]
  },
  {
   "cell_type": "code",
   "execution_count": 12,
   "metadata": {},
   "outputs": [
    {
     "data": {
      "text/html": [
       "<div>\n",
       "<style scoped>\n",
       "    .dataframe tbody tr th:only-of-type {\n",
       "        vertical-align: middle;\n",
       "    }\n",
       "\n",
       "    .dataframe tbody tr th {\n",
       "        vertical-align: top;\n",
       "    }\n",
       "\n",
       "    .dataframe thead th {\n",
       "        text-align: right;\n",
       "    }\n",
       "</style>\n",
       "<table border=\"1\" class=\"dataframe\">\n",
       "  <thead>\n",
       "    <tr style=\"text-align: right;\">\n",
       "      <th></th>\n",
       "      <th>county_code</th>\n",
       "      <th>voter_id</th>\n",
       "      <th>last_name</th>\n",
       "      <th>first_name</th>\n",
       "      <th>residence_addr_line_1</th>\n",
       "      <th>residence_addr_line_2</th>\n",
       "      <th>residence_city</th>\n",
       "      <th>residence_zipcode</th>\n",
       "      <th>gender</th>\n",
       "      <th>race</th>\n",
       "      <th>birth_date</th>\n",
       "      <th>registration_date</th>\n",
       "      <th>party_affiliation</th>\n",
       "      <th>precinct</th>\n",
       "      <th>voter_status</th>\n",
       "      <th>age</th>\n",
       "      <th>residence_zipcode_5</th>\n",
       "      <th>residence_zipcode_4</th>\n",
       "      <th>uniq_addr</th>\n",
       "    </tr>\n",
       "  </thead>\n",
       "  <tbody>\n",
       "    <tr>\n",
       "      <td>0</td>\n",
       "      <td>ALA</td>\n",
       "      <td>100419592</td>\n",
       "      <td>martin</td>\n",
       "      <td>william</td>\n",
       "      <td>3814  nw 266th st</td>\n",
       "      <td>NaN</td>\n",
       "      <td>newberry</td>\n",
       "      <td>32669</td>\n",
       "      <td>M</td>\n",
       "      <td>5</td>\n",
       "      <td>03/03/1972</td>\n",
       "      <td>03/19/1990</td>\n",
       "      <td>REP</td>\n",
       "      <td>6</td>\n",
       "      <td>ACT</td>\n",
       "      <td>47</td>\n",
       "      <td>32669</td>\n",
       "      <td>NaN</td>\n",
       "      <td>3814  nw 266th st  newberry 32669</td>\n",
       "    </tr>\n",
       "    <tr>\n",
       "      <td>1</td>\n",
       "      <td>ALA</td>\n",
       "      <td>102146497</td>\n",
       "      <td>whitney</td>\n",
       "      <td>clinton</td>\n",
       "      <td>14116  se 202nd ter</td>\n",
       "      <td>NaN</td>\n",
       "      <td>hawthorne</td>\n",
       "      <td>32640</td>\n",
       "      <td>M</td>\n",
       "      <td>5</td>\n",
       "      <td>06/25/1981</td>\n",
       "      <td>03/08/2001</td>\n",
       "      <td>NPA</td>\n",
       "      <td>8</td>\n",
       "      <td>ACT</td>\n",
       "      <td>38</td>\n",
       "      <td>32640</td>\n",
       "      <td>NaN</td>\n",
       "      <td>14116  se 202nd ter  hawthorne 32640</td>\n",
       "    </tr>\n",
       "    <tr>\n",
       "      <td>2</td>\n",
       "      <td>ALA</td>\n",
       "      <td>102183223</td>\n",
       "      <td>mulaiya</td>\n",
       "      <td>doodnauth</td>\n",
       "      <td>2296  nw 147th st</td>\n",
       "      <td>NaN</td>\n",
       "      <td>newberry</td>\n",
       "      <td>32669</td>\n",
       "      <td>M</td>\n",
       "      <td>2</td>\n",
       "      <td>06/01/1941</td>\n",
       "      <td>11/01/2001</td>\n",
       "      <td>DEM</td>\n",
       "      <td>49</td>\n",
       "      <td>ACT</td>\n",
       "      <td>78</td>\n",
       "      <td>32669</td>\n",
       "      <td>NaN</td>\n",
       "      <td>2296  nw 147th st  newberry 32669</td>\n",
       "    </tr>\n",
       "    <tr>\n",
       "      <td>3</td>\n",
       "      <td>ALA</td>\n",
       "      <td>102097818</td>\n",
       "      <td>thalmann</td>\n",
       "      <td>michael</td>\n",
       "      <td>28524  n county road 1491</td>\n",
       "      <td>NaN</td>\n",
       "      <td>alachua</td>\n",
       "      <td>32615</td>\n",
       "      <td>M</td>\n",
       "      <td>5</td>\n",
       "      <td>11/26/1971</td>\n",
       "      <td>09/18/2000</td>\n",
       "      <td>REP</td>\n",
       "      <td>53</td>\n",
       "      <td>ACT</td>\n",
       "      <td>47</td>\n",
       "      <td>32615</td>\n",
       "      <td>NaN</td>\n",
       "      <td>28524  n county road 1491  alachua 32615</td>\n",
       "    </tr>\n",
       "    <tr>\n",
       "      <td>4</td>\n",
       "      <td>ALA</td>\n",
       "      <td>102078033</td>\n",
       "      <td>wack</td>\n",
       "      <td>angela</td>\n",
       "      <td>1214  nw 89th ter</td>\n",
       "      <td>NaN</td>\n",
       "      <td>gainesville</td>\n",
       "      <td>32606</td>\n",
       "      <td>F</td>\n",
       "      <td>5</td>\n",
       "      <td>05/04/1978</td>\n",
       "      <td>07/03/2000</td>\n",
       "      <td>DEM</td>\n",
       "      <td>56</td>\n",
       "      <td>ACT</td>\n",
       "      <td>41</td>\n",
       "      <td>32606</td>\n",
       "      <td>NaN</td>\n",
       "      <td>1214  nw 89th ter  gainesville 32606</td>\n",
       "    </tr>\n",
       "  </tbody>\n",
       "</table>\n",
       "</div>"
      ],
      "text/plain": [
       "  county_code   voter_id last_name first_name      residence_addr_line_1  \\\n",
       "0         ALA  100419592    martin    william          3814  nw 266th st   \n",
       "1         ALA  102146497   whitney    clinton        14116  se 202nd ter   \n",
       "2         ALA  102183223   mulaiya  doodnauth          2296  nw 147th st   \n",
       "3         ALA  102097818  thalmann    michael  28524  n county road 1491   \n",
       "4         ALA  102078033      wack     angela          1214  nw 89th ter   \n",
       "\n",
       "  residence_addr_line_2 residence_city  residence_zipcode gender  race  \\\n",
       "0                   NaN       newberry              32669      M     5   \n",
       "1                   NaN      hawthorne              32640      M     5   \n",
       "2                   NaN       newberry              32669      M     2   \n",
       "3                   NaN        alachua              32615      M     5   \n",
       "4                   NaN    gainesville              32606      F     5   \n",
       "\n",
       "   birth_date registration_date party_affiliation precinct voter_status  age  \\\n",
       "0  03/03/1972        03/19/1990               REP        6          ACT   47   \n",
       "1  06/25/1981        03/08/2001               NPA        8          ACT   38   \n",
       "2  06/01/1941        11/01/2001               DEM       49          ACT   78   \n",
       "3  11/26/1971        09/18/2000               REP       53          ACT   47   \n",
       "4  05/04/1978        07/03/2000               DEM       56          ACT   41   \n",
       "\n",
       "   residence_zipcode_5  residence_zipcode_4  \\\n",
       "0                32669                  NaN   \n",
       "1                32640                  NaN   \n",
       "2                32669                  NaN   \n",
       "3                32615                  NaN   \n",
       "4                32606                  NaN   \n",
       "\n",
       "                                  uniq_addr  \n",
       "0         3814  nw 266th st  newberry 32669  \n",
       "1      14116  se 202nd ter  hawthorne 32640  \n",
       "2         2296  nw 147th st  newberry 32669  \n",
       "3  28524  n county road 1491  alachua 32615  \n",
       "4      1214  nw 89th ter  gainesville 32606  "
      ]
     },
     "execution_count": 12,
     "metadata": {},
     "output_type": "execute_result"
    }
   ],
   "source": [
    "global_df.head()"
   ]
  },
  {
   "cell_type": "code",
   "execution_count": 13,
   "metadata": {},
   "outputs": [],
   "source": [
    "req_cols = ['last_name', 'race', 'first_name']\n",
    "global_df = global_df.dropna(subset=req_cols)"
   ]
  },
  {
   "cell_type": "code",
   "execution_count": 14,
   "metadata": {},
   "outputs": [
    {
     "data": {
      "text/plain": [
       "county_code                     0\n",
       "voter_id                        0\n",
       "last_name                       0\n",
       "first_name                      0\n",
       "residence_addr_line_1           0\n",
       "residence_addr_line_2    11496956\n",
       "residence_city                  0\n",
       "residence_zipcode               0\n",
       "gender                          0\n",
       "race                            0\n",
       "birth_date                      0\n",
       "registration_date               0\n",
       "party_affiliation               0\n",
       "precinct                        0\n",
       "voter_status                    0\n",
       "age                             0\n",
       "residence_zipcode_5             0\n",
       "residence_zipcode_4      12037566\n",
       "uniq_addr                       0\n",
       "dtype: int64"
      ]
     },
     "execution_count": 14,
     "metadata": {},
     "output_type": "execute_result"
    }
   ],
   "source": [
    "global_df.isnull().sum()"
   ]
  },
  {
   "cell_type": "code",
   "execution_count": 15,
   "metadata": {},
   "outputs": [
    {
     "data": {
      "text/plain": [
       "(14125318, 19)"
      ]
     },
     "execution_count": 15,
     "metadata": {},
     "output_type": "execute_result"
    }
   ],
   "source": [
    "global_df.shape"
   ]
  },
  {
   "cell_type": "code",
   "execution_count": 16,
   "metadata": {},
   "outputs": [],
   "source": [
    "couples_df = pd.read_csv(COUPLES_PATH.format(couples_date, county) , sep='\\t')"
   ]
  },
  {
   "cell_type": "code",
   "execution_count": 17,
   "metadata": {},
   "outputs": [
    {
     "data": {
      "text/html": [
       "<div>\n",
       "<style scoped>\n",
       "    .dataframe tbody tr th:only-of-type {\n",
       "        vertical-align: middle;\n",
       "    }\n",
       "\n",
       "    .dataframe tbody tr th {\n",
       "        vertical-align: top;\n",
       "    }\n",
       "\n",
       "    .dataframe thead th {\n",
       "        text-align: right;\n",
       "    }\n",
       "</style>\n",
       "<table border=\"1\" class=\"dataframe\">\n",
       "  <thead>\n",
       "    <tr style=\"text-align: right;\">\n",
       "      <th></th>\n",
       "      <th>uniq_addr</th>\n",
       "    </tr>\n",
       "  </thead>\n",
       "  <tbody>\n",
       "    <tr>\n",
       "      <td>0</td>\n",
       "      <td>2700  nw 87th ave  doral 33172</td>\n",
       "    </tr>\n",
       "    <tr>\n",
       "      <td>1</td>\n",
       "      <td>2700 d nw 87th ave  doral 33172</td>\n",
       "    </tr>\n",
       "    <tr>\n",
       "      <td>2</td>\n",
       "      <td>19138  nw 77th pl  hialeah 33015</td>\n",
       "    </tr>\n",
       "    <tr>\n",
       "      <td>3</td>\n",
       "      <td>2216  ne 41st ave  homestead 33033</td>\n",
       "    </tr>\n",
       "    <tr>\n",
       "      <td>4</td>\n",
       "      <td>14305  sw 106th ct  miami 33176</td>\n",
       "    </tr>\n",
       "  </tbody>\n",
       "</table>\n",
       "</div>"
      ],
      "text/plain": [
       "                            uniq_addr\n",
       "0      2700  nw 87th ave  doral 33172\n",
       "1     2700 d nw 87th ave  doral 33172\n",
       "2    19138  nw 77th pl  hialeah 33015\n",
       "3  2216  ne 41st ave  homestead 33033\n",
       "4     14305  sw 106th ct  miami 33176"
      ]
     },
     "execution_count": 17,
     "metadata": {},
     "output_type": "execute_result"
    }
   ],
   "source": [
    "couples_df[[\"uniq_addr\"]].head()"
   ]
  },
  {
   "cell_type": "markdown",
   "metadata": {},
   "source": [
    "## Collecting Addresses of voters"
   ]
  },
  {
   "cell_type": "code",
   "execution_count": 18,
   "metadata": {},
   "outputs": [],
   "source": [
    "addr_df=global_df[['uniq_addr','voter_id']] "
   ]
  },
  {
   "cell_type": "code",
   "execution_count": 19,
   "metadata": {},
   "outputs": [],
   "source": [
    "couples_df_found = pd.merge(couples_df, addr_df, left_on=[\"voter_id_L\"], right_on=[\"voter_id\"], suffixes=[\"\",\"_L\"])"
   ]
  },
  {
   "cell_type": "markdown",
   "metadata": {},
   "source": [
    "### Removing extra column generated of voter id"
   ]
  },
  {
   "cell_type": "code",
   "execution_count": 20,
   "metadata": {},
   "outputs": [],
   "source": [
    "del couples_df_found['voter_id']"
   ]
  },
  {
   "cell_type": "code",
   "execution_count": 21,
   "metadata": {},
   "outputs": [],
   "source": [
    "couples_df_found = pd.merge(couples_df_found, addr_df, left_on=[\"voter_id_R\"], right_on=[\"voter_id\"], suffixes=[\"\",\"_R\"])"
   ]
  },
  {
   "cell_type": "markdown",
   "metadata": {},
   "source": [
    "### Removing extra column generated of voter id"
   ]
  },
  {
   "cell_type": "code",
   "execution_count": 22,
   "metadata": {},
   "outputs": [],
   "source": [
    "del couples_df_found['voter_id']"
   ]
  },
  {
   "cell_type": "code",
   "execution_count": 23,
   "metadata": {},
   "outputs": [
    {
     "data": {
      "text/html": [
       "<div>\n",
       "<style scoped>\n",
       "    .dataframe tbody tr th:only-of-type {\n",
       "        vertical-align: middle;\n",
       "    }\n",
       "\n",
       "    .dataframe tbody tr th {\n",
       "        vertical-align: top;\n",
       "    }\n",
       "\n",
       "    .dataframe thead th {\n",
       "        text-align: right;\n",
       "    }\n",
       "</style>\n",
       "<table border=\"1\" class=\"dataframe\">\n",
       "  <thead>\n",
       "    <tr style=\"text-align: right;\">\n",
       "      <th></th>\n",
       "      <th>voter_id_L</th>\n",
       "      <th>voter_id_R</th>\n",
       "      <th>uniq_addr_L</th>\n",
       "      <th>uniq_addr_R</th>\n",
       "    </tr>\n",
       "  </thead>\n",
       "  <tbody>\n",
       "    <tr>\n",
       "      <td>0</td>\n",
       "      <td>116102121</td>\n",
       "      <td>123618787</td>\n",
       "      <td>2700  nw 87th ave  doral 33172</td>\n",
       "      <td>2700  nw 87th ave  doral 33172</td>\n",
       "    </tr>\n",
       "    <tr>\n",
       "      <td>1</td>\n",
       "      <td>110160350</td>\n",
       "      <td>123667774</td>\n",
       "      <td>2700 d nw 87th ave  doral 33172</td>\n",
       "      <td>2700 d nw 87th ave  doral 33172</td>\n",
       "    </tr>\n",
       "    <tr>\n",
       "      <td>2</td>\n",
       "      <td>116453274</td>\n",
       "      <td>116460172</td>\n",
       "      <td>19138  nw 77th pl  hialeah 33015</td>\n",
       "      <td>19138  nw 77th pl  hialeah 33015</td>\n",
       "    </tr>\n",
       "    <tr>\n",
       "      <td>3</td>\n",
       "      <td>110198247</td>\n",
       "      <td>110294952</td>\n",
       "      <td>2216  ne 41st ave  homestead 33033</td>\n",
       "      <td>2216  ne 41st ave  homestead 33033</td>\n",
       "    </tr>\n",
       "    <tr>\n",
       "      <td>4</td>\n",
       "      <td>109252280</td>\n",
       "      <td>109283319</td>\n",
       "      <td>14305  sw 106th ct  miami 33176</td>\n",
       "      <td>14305  sw 106th ct  miami 33176</td>\n",
       "    </tr>\n",
       "  </tbody>\n",
       "</table>\n",
       "</div>"
      ],
      "text/plain": [
       "   voter_id_L  voter_id_R                         uniq_addr_L  \\\n",
       "0   116102121   123618787      2700  nw 87th ave  doral 33172   \n",
       "1   110160350   123667774     2700 d nw 87th ave  doral 33172   \n",
       "2   116453274   116460172    19138  nw 77th pl  hialeah 33015   \n",
       "3   110198247   110294952  2216  ne 41st ave  homestead 33033   \n",
       "4   109252280   109283319     14305  sw 106th ct  miami 33176   \n",
       "\n",
       "                          uniq_addr_R  \n",
       "0      2700  nw 87th ave  doral 33172  \n",
       "1     2700 d nw 87th ave  doral 33172  \n",
       "2    19138  nw 77th pl  hialeah 33015  \n",
       "3  2216  ne 41st ave  homestead 33033  \n",
       "4     14305  sw 106th ct  miami 33176  "
      ]
     },
     "execution_count": 23,
     "metadata": {},
     "output_type": "execute_result"
    }
   ],
   "source": [
    "couples_df_found[[\"voter_id_L\",\"voter_id_R\", \"uniq_addr_L\",\"uniq_addr_R\"]].head()"
   ]
  },
  {
   "cell_type": "code",
   "execution_count": 24,
   "metadata": {},
   "outputs": [],
   "source": [
    "couples_df_found['separated'] = couples_df_found.apply(lambda x : x.uniq_addr_L != x.uniq_addr_R, axis=1)"
   ]
  },
  {
   "cell_type": "markdown",
   "metadata": {},
   "source": [
    "## Separation percentage"
   ]
  },
  {
   "cell_type": "code",
   "execution_count": 25,
   "metadata": {},
   "outputs": [
    {
     "data": {
      "text/plain": [
       "False    221874\n",
       "True      30250\n",
       "Name: separated, dtype: int64"
      ]
     },
     "execution_count": 25,
     "metadata": {},
     "output_type": "execute_result"
    }
   ],
   "source": [
    "couples_df_found['separated'].value_counts()"
   ]
  },
  {
   "cell_type": "code",
   "execution_count": 26,
   "metadata": {},
   "outputs": [
    {
     "data": {
      "text/plain": [
       "False    0.880019\n",
       "True     0.119981\n",
       "Name: separated, dtype: float64"
      ]
     },
     "execution_count": 26,
     "metadata": {},
     "output_type": "execute_result"
    }
   ],
   "source": [
    "couples_df_found['separated'].value_counts()/couples_df_found['separated'].shape"
   ]
  },
  {
   "cell_type": "code",
   "execution_count": 27,
   "metadata": {},
   "outputs": [],
   "source": [
    "# couples_df_found.isnull().sum()"
   ]
  },
  {
   "cell_type": "code",
   "execution_count": 28,
   "metadata": {},
   "outputs": [
    {
     "data": {
      "text/html": [
       "<div>\n",
       "<style scoped>\n",
       "    .dataframe tbody tr th:only-of-type {\n",
       "        vertical-align: middle;\n",
       "    }\n",
       "\n",
       "    .dataframe tbody tr th {\n",
       "        vertical-align: top;\n",
       "    }\n",
       "\n",
       "    .dataframe thead th {\n",
       "        text-align: right;\n",
       "    }\n",
       "</style>\n",
       "<table border=\"1\" class=\"dataframe\">\n",
       "  <thead>\n",
       "    <tr style=\"text-align: right;\">\n",
       "      <th></th>\n",
       "      <th>county_code_L</th>\n",
       "      <th>voter_id_L</th>\n",
       "      <th>last_name_L</th>\n",
       "      <th>first_name_L</th>\n",
       "      <th>residence_addr_line_1_L</th>\n",
       "      <th>residence_addr_line_2_L</th>\n",
       "      <th>residence_city_L</th>\n",
       "      <th>residence_zipcode_L</th>\n",
       "      <th>gender_L</th>\n",
       "      <th>race_L</th>\n",
       "      <th>...</th>\n",
       "      <th>party_affiliation_R</th>\n",
       "      <th>precinct_R</th>\n",
       "      <th>voter_status_R</th>\n",
       "      <th>age_R</th>\n",
       "      <th>residence_zipcode_5_R</th>\n",
       "      <th>residence_zipcode_4_R</th>\n",
       "      <th>age_diff</th>\n",
       "      <th>uniq_addr_L</th>\n",
       "      <th>uniq_addr_R</th>\n",
       "      <th>separated</th>\n",
       "    </tr>\n",
       "  </thead>\n",
       "  <tbody>\n",
       "    <tr>\n",
       "      <td>0</td>\n",
       "      <td>DAD</td>\n",
       "      <td>116102121</td>\n",
       "      <td>sherry</td>\n",
       "      <td>ethan</td>\n",
       "      <td>2700  nw 87th ave</td>\n",
       "      <td>NaN</td>\n",
       "      <td>doral</td>\n",
       "      <td>33172</td>\n",
       "      <td>M</td>\n",
       "      <td>5</td>\n",
       "      <td>...</td>\n",
       "      <td>NPA</td>\n",
       "      <td>100</td>\n",
       "      <td>ACT</td>\n",
       "      <td>28</td>\n",
       "      <td>33172</td>\n",
       "      <td>NaN</td>\n",
       "      <td>0</td>\n",
       "      <td>2700  nw 87th ave  doral 33172</td>\n",
       "      <td>2700  nw 87th ave  doral 33172</td>\n",
       "      <td>False</td>\n",
       "    </tr>\n",
       "    <tr>\n",
       "      <td>1</td>\n",
       "      <td>DAD</td>\n",
       "      <td>110160350</td>\n",
       "      <td>makonnen</td>\n",
       "      <td>betelhem</td>\n",
       "      <td>2700 d nw 87th ave</td>\n",
       "      <td>NaN</td>\n",
       "      <td>doral</td>\n",
       "      <td>33172</td>\n",
       "      <td>F</td>\n",
       "      <td>3</td>\n",
       "      <td>...</td>\n",
       "      <td>NPA</td>\n",
       "      <td>100</td>\n",
       "      <td>ACT</td>\n",
       "      <td>45</td>\n",
       "      <td>33172</td>\n",
       "      <td>NaN</td>\n",
       "      <td>0</td>\n",
       "      <td>2700 d nw 87th ave  doral 33172</td>\n",
       "      <td>2700 d nw 87th ave  doral 33172</td>\n",
       "      <td>False</td>\n",
       "    </tr>\n",
       "    <tr>\n",
       "      <td>2</td>\n",
       "      <td>DAD</td>\n",
       "      <td>116453274</td>\n",
       "      <td>martinez</td>\n",
       "      <td>elda</td>\n",
       "      <td>19138  nw 77th pl</td>\n",
       "      <td>NaN</td>\n",
       "      <td>hialeah</td>\n",
       "      <td>33015</td>\n",
       "      <td>U</td>\n",
       "      <td>9</td>\n",
       "      <td>...</td>\n",
       "      <td>DEM</td>\n",
       "      <td>364</td>\n",
       "      <td>ACT</td>\n",
       "      <td>55</td>\n",
       "      <td>33015</td>\n",
       "      <td>NaN</td>\n",
       "      <td>0</td>\n",
       "      <td>19138  nw 77th pl  hialeah 33015</td>\n",
       "      <td>19138  nw 77th pl  hialeah 33015</td>\n",
       "      <td>False</td>\n",
       "    </tr>\n",
       "    <tr>\n",
       "      <td>3</td>\n",
       "      <td>DAD</td>\n",
       "      <td>110198247</td>\n",
       "      <td>lopez</td>\n",
       "      <td>stephanie</td>\n",
       "      <td>2216  ne 41st ave</td>\n",
       "      <td>NaN</td>\n",
       "      <td>homestead</td>\n",
       "      <td>330335131</td>\n",
       "      <td>F</td>\n",
       "      <td>4</td>\n",
       "      <td>...</td>\n",
       "      <td>NPA</td>\n",
       "      <td>934</td>\n",
       "      <td>ACT</td>\n",
       "      <td>31</td>\n",
       "      <td>33033</td>\n",
       "      <td>NaN</td>\n",
       "      <td>0</td>\n",
       "      <td>2216  ne 41st ave  homestead 33033</td>\n",
       "      <td>2216  ne 41st ave  homestead 33033</td>\n",
       "      <td>False</td>\n",
       "    </tr>\n",
       "    <tr>\n",
       "      <td>4</td>\n",
       "      <td>DAD</td>\n",
       "      <td>109252280</td>\n",
       "      <td>cox</td>\n",
       "      <td>martha</td>\n",
       "      <td>14305  sw 106th ct</td>\n",
       "      <td>NaN</td>\n",
       "      <td>miami</td>\n",
       "      <td>33176</td>\n",
       "      <td>F</td>\n",
       "      <td>3</td>\n",
       "      <td>...</td>\n",
       "      <td>DEM</td>\n",
       "      <td>803</td>\n",
       "      <td>ACT</td>\n",
       "      <td>59</td>\n",
       "      <td>33176</td>\n",
       "      <td>NaN</td>\n",
       "      <td>0</td>\n",
       "      <td>14305  sw 106th ct  miami 33176</td>\n",
       "      <td>14305  sw 106th ct  miami 33176</td>\n",
       "      <td>False</td>\n",
       "    </tr>\n",
       "  </tbody>\n",
       "</table>\n",
       "<p>5 rows × 41 columns</p>\n",
       "</div>"
      ],
      "text/plain": [
       "  county_code_L  voter_id_L last_name_L first_name_L residence_addr_line_1_L  \\\n",
       "0           DAD   116102121      sherry        ethan       2700  nw 87th ave   \n",
       "1           DAD   110160350    makonnen     betelhem      2700 d nw 87th ave   \n",
       "2           DAD   116453274    martinez         elda       19138  nw 77th pl   \n",
       "3           DAD   110198247       lopez    stephanie       2216  ne 41st ave   \n",
       "4           DAD   109252280         cox       martha      14305  sw 106th ct   \n",
       "\n",
       "  residence_addr_line_2_L residence_city_L  residence_zipcode_L gender_L  \\\n",
       "0                     NaN            doral                33172        M   \n",
       "1                     NaN            doral                33172        F   \n",
       "2                     NaN          hialeah                33015        U   \n",
       "3                     NaN        homestead            330335131        F   \n",
       "4                     NaN            miami                33176        F   \n",
       "\n",
       "   race_L  ... party_affiliation_R precinct_R voter_status_R  age_R  \\\n",
       "0       5  ...                 NPA        100            ACT     28   \n",
       "1       3  ...                 NPA        100            ACT     45   \n",
       "2       9  ...                 DEM        364            ACT     55   \n",
       "3       4  ...                 NPA        934            ACT     31   \n",
       "4       3  ...                 DEM        803            ACT     59   \n",
       "\n",
       "  residence_zipcode_5_R  residence_zipcode_4_R  age_diff  \\\n",
       "0                 33172                    NaN         0   \n",
       "1                 33172                    NaN         0   \n",
       "2                 33015                    NaN         0   \n",
       "3                 33033                    NaN         0   \n",
       "4                 33176                    NaN         0   \n",
       "\n",
       "                          uniq_addr_L                         uniq_addr_R  \\\n",
       "0      2700  nw 87th ave  doral 33172      2700  nw 87th ave  doral 33172   \n",
       "1     2700 d nw 87th ave  doral 33172     2700 d nw 87th ave  doral 33172   \n",
       "2    19138  nw 77th pl  hialeah 33015    19138  nw 77th pl  hialeah 33015   \n",
       "3  2216  ne 41st ave  homestead 33033  2216  ne 41st ave  homestead 33033   \n",
       "4     14305  sw 106th ct  miami 33176     14305  sw 106th ct  miami 33176   \n",
       "\n",
       "  separated  \n",
       "0     False  \n",
       "1     False  \n",
       "2     False  \n",
       "3     False  \n",
       "4     False  \n",
       "\n",
       "[5 rows x 41 columns]"
      ]
     },
     "execution_count": 28,
     "metadata": {},
     "output_type": "execute_result"
    }
   ],
   "source": [
    "couples_df_found.head()"
   ]
  },
  {
   "cell_type": "markdown",
   "metadata": {},
   "source": [
    "## Logging total separation percentage in file"
   ]
  },
  {
   "cell_type": "code",
   "execution_count": 29,
   "metadata": {},
   "outputs": [
    {
     "data": {
      "text/plain": [
       "'stats/20180313_20190910_DAD/'"
      ]
     },
     "execution_count": 29,
     "metadata": {},
     "output_type": "execute_result"
    }
   ],
   "source": [
    "stat_file_path"
   ]
  },
  {
   "cell_type": "code",
   "execution_count": 30,
   "metadata": {},
   "outputs": [],
   "source": [
    "total_separated_couples = couples_df_found[couples_df_found[\"separated\"] == True].shape[0]\n",
    "with open(stat_file_path + \"total_separation_percentage.csv\", \"w\") as f:\n",
    "    f.write(\"\\t\".join([\"separated_count\", \"total_count\", \"percentage\"]) + \"\\n\")\n",
    "    f.write(\"\\t\".join([str(total_separated_couples), str(couples_df_found.shape[0]), str(100.0 * total_separated_couples/couples_df_found.shape[0])]))"
   ]
  },
  {
   "cell_type": "markdown",
   "metadata": {},
   "source": [
    "## Convert race categorical "
   ]
  },
  {
   "cell_type": "code",
   "execution_count": 31,
   "metadata": {},
   "outputs": [],
   "source": [
    "race_codes = {\n",
    "    1: \"American Indian/Alaskan Native\",\n",
    "    2: \"Asian/Pacific Islander\",\n",
    "    3: \"Black/Not Hispanic\",\n",
    "    4: \"Hispanic\",\n",
    "    5: \"White\",\n",
    "    6: \"Other\",\n",
    "    7: \"Mutli-racial\",\n",
    "    9: \"Unknown\"\n",
    "}"
   ]
  },
  {
   "cell_type": "markdown",
   "metadata": {},
   "source": [
    "## Converting race codes to corresponding race-descriptions"
   ]
  },
  {
   "cell_type": "code",
   "execution_count": 32,
   "metadata": {},
   "outputs": [],
   "source": [
    "def race_code_lambda(row, subscript):\n",
    "    if pd.isnull(row[\"race_\" + subscript]):\n",
    "        return None\n",
    "    code = int(row[\"race_\" + subscript])\n",
    "    return race_codes[code]"
   ]
  },
  {
   "cell_type": "markdown",
   "metadata": {},
   "source": [
    "## Creating descriptive race columns is a time consuming process"
   ]
  },
  {
   "cell_type": "code",
   "execution_count": 33,
   "metadata": {},
   "outputs": [],
   "source": [
    "couples_df_found[\"race_desc_L\"] = couples_df_found.apply(lambda x: race_code_lambda(x, \"L\"), axis=1)\n",
    "couples_df_found[\"race_desc_R\"] = couples_df_found.apply(lambda x: race_code_lambda(x, \"R\"), axis=1)"
   ]
  },
  {
   "cell_type": "code",
   "execution_count": 34,
   "metadata": {},
   "outputs": [],
   "source": [
    "global_df[\"race_desc\"] = global_df[\"race\"].apply(lambda x: race_codes[x])"
   ]
  },
  {
   "cell_type": "markdown",
   "metadata": {},
   "source": [
    "## Feature wise separation percentage"
   ]
  },
  {
   "cell_type": "code",
   "execution_count": 35,
   "metadata": {},
   "outputs": [],
   "source": [
    "cols = [\"party_affiliation\", \"gender\", \"race_desc\"]\n",
    "unique_dic = {}\n",
    "for c in cols:\n",
    "    unique_dic[c] = set(global_df[c].unique())"
   ]
  },
  {
   "cell_type": "markdown",
   "metadata": {},
   "source": [
    "## Demographic Percentages"
   ]
  },
  {
   "cell_type": "code",
   "execution_count": 38,
   "metadata": {},
   "outputs": [],
   "source": [
    "party_affiliation_counts = {}\n",
    "race_counts = {}\n",
    "\n",
    "party_affiliation_percentages = {}\n",
    "race_percentages = {}\n",
    "\n",
    "total = global_df.shape[0]\n",
    "for cat_value in unique_dic[\"party_affiliation\"]:\n",
    "    party_affiliation_counts[cat_value] = global_df[global_df[\"party_affiliation\"] == cat_value].shape[0]\n",
    "    party_affiliation_percentages[cat_value] = 100.0 * global_df[global_df[\"party_affiliation\"] == cat_value].shape[0]/total\n",
    "\n",
    "for cat_value in unique_dic[\"race_desc\"]:\n",
    "    race_counts[str(cat_value)] = global_df[global_df[\"race_desc\"] == cat_value].shape[0]\n",
    "    race_percentages[str(cat_value)] =  100.0 * global_df[global_df[\"race_desc\"] == cat_value].shape[0]/total"
   ]
  },
  {
   "cell_type": "markdown",
   "metadata": {},
   "source": [
    "## Thresholding Demographics\n",
    "For Race we stick to 5% </br>\n",
    "For Party affiliation we stick to 5%"
   ]
  },
  {
   "cell_type": "code",
   "execution_count": 39,
   "metadata": {},
   "outputs": [],
   "source": [
    "race_percent_threshold = 5.0\n",
    "race_other_groups = []\n",
    "for cat_value in race_percentages:\n",
    "    if race_percentages[cat_value] <= race_percent_threshold:\n",
    "        race_other_groups.append(cat_value)"
   ]
  },
  {
   "cell_type": "code",
   "execution_count": 40,
   "metadata": {},
   "outputs": [],
   "source": [
    "party_percent_threshold = 5.0\n",
    "party_other_groups = []\n",
    "for cat_value in party_affiliation_percentages:\n",
    "    if party_affiliation_percentages[cat_value] <= party_percent_threshold:\n",
    "        party_other_groups.append(cat_value)"
   ]
  },
  {
   "cell_type": "markdown",
   "metadata": {},
   "source": [
    "# TODO"
   ]
  },
  {
   "cell_type": "code",
   "execution_count": 41,
   "metadata": {},
   "outputs": [],
   "source": [
    "# TODO: Implement others mapping into global and couples dataframe\n",
    "# def create_others_df()"
   ]
  },
  {
   "cell_type": "code",
   "execution_count": 42,
   "metadata": {},
   "outputs": [
    {
     "data": {
      "text/plain": [
       "(14125318, 20)"
      ]
     },
     "execution_count": 42,
     "metadata": {},
     "output_type": "execute_result"
    }
   ],
   "source": [
    "global_df.shape"
   ]
  },
  {
   "cell_type": "code",
   "execution_count": 43,
   "metadata": {},
   "outputs": [
    {
     "name": "stdout",
     "output_type": "stream",
     "text": [
      "{'party_affiliation': {'NPA', 'REP', 'DEM', 'IND', 'ECO', 'CPF', 'GRE', 'LPF', 'PSL', 'REF'}, 'gender': {'F', 'M', 'U'}, 'race_desc': {'White', 'American Indian/Alaskan Native', 'Black/Not Hispanic', 'Hispanic', 'Mutli-racial', 'Other', 'Unknown', 'Asian/Pacific Islander'}}\n"
     ]
    }
   ],
   "source": [
    "print(str(unique_dic))"
   ]
  },
  {
   "cell_type": "markdown",
   "metadata": {},
   "source": [
    "## Generate Pair-wise stats by feature\n",
    "Current focus is only on gender/race/political-affiliation"
   ]
  },
  {
   "cell_type": "code",
   "execution_count": 44,
   "metadata": {},
   "outputs": [],
   "source": [
    "import time\n",
    "from itertools import combinations \n",
    "\n",
    "def generate_category_based_on_pair_values(first_val, second_val):\n",
    "    return \"({0}, {1})\".format(str(first_val), str(second_val))\n",
    "\n",
    "def generate_pair_stats_by_feature(global_df, couples_df_found, feature, stats={}, others=[]):\n",
    "    print(\"Collecting uniques by feature: \" + feature)\n",
    "    unique_vals = list(global_df[feature].unique())\n",
    "    cat_combinations = list(combinations(list(unique_vals), 2))\n",
    "    \n",
    "    stats[feature] = {}\n",
    "    print(\"Processing : \" + feature + \" : Total comb: \" + str(len(cat_combinations)))\n",
    "    i = 0\n",
    "    start_time = time.time()\n",
    "    stats[feature][\"Other Categories\"] = {'count': 0, 'total': 0}\n",
    "    for comb in cat_combinations:\n",
    "        first_val = comb[0]\n",
    "        second_val = comb[1]\n",
    "        \n",
    "        left_right = couples_df_found[(couples_df_found[feature + \"_L\"] == first_val) & (couples_df_found[feature + \"_R\"] == second_val)]\n",
    "        right_left = couples_df_found[(couples_df_found[feature + \"_L\"] == second_val) & (couples_df_found[feature + \"_R\"] == first_val)]\n",
    "        \n",
    "        count = left_right[left_right[\"separated\"] == True].shape[0]\n",
    "        count += right_left[right_left[\"separated\"] == True].shape[0]\n",
    "        \n",
    "        stat = {}\n",
    "        stat[\"count\"] = count\n",
    "        \n",
    "        if count == 0:\n",
    "            continue\n",
    "        \n",
    "        if first_val in others or second_val in others:\n",
    "            stats[feature][\"Other Categories\"][\"count\"] += count\n",
    "            stats[feature][\"Other Categories\"][\"total\"] += left_right.shape[0] + right_left.shape[0]\n",
    "            continue\n",
    "        \n",
    "        stat[\"total\"] = left_right.shape[0] + right_left.shape[0]\n",
    "        stat[\"percent\"] = count * 100.0/(left_right.shape[0] + right_left.shape[0])\n",
    "        \n",
    "        category = generate_category_based_on_pair_values(first_val, second_val)\n",
    "        stats[feature][category] = stat\n",
    "        \n",
    "        i += 1\n",
    "        \n",
    "    print(\"Total value combinations process: \" + str(i) + \" Total time (secs): \" + str(time.time() - start_time))\n",
    "    \n",
    "    print(\"Processing symmetric combinations: \" + feature + \" : Total comb: \" + str(len(unique_vals)))\n",
    "    for val in unique_vals:\n",
    "        subset = couples_df_found[(couples_df_found[feature + \"_L\"] == val) & (couples_df_found[feature + \"_R\"] == val)]\n",
    "        \n",
    "        count = subset[subset[\"separated\"] == True].shape[0]\n",
    "        \n",
    "        if val in others:\n",
    "            stats[feature][\"Other Categories\"][\"count\"] += count\n",
    "            stats[feature][\"Other Categories\"][\"total\"] += subset.shape[0]\n",
    "            continue\n",
    "        \n",
    "        stat = {}\n",
    "        stat[\"count\"] = count\n",
    "        \n",
    "        if count == 0:\n",
    "            continue\n",
    "        \n",
    "        stat[\"total\"] = subset.shape[0]\n",
    "        stat[\"percent\"] = count * 100.0/(subset.shape[0])\n",
    "        \n",
    "        category = generate_category_based_on_pair_values(val, val)\n",
    "        stats[feature][category] = stat\n",
    "        \n",
    "    if len(others) > 0 and stats[feature][\"Other Categories\"][\"count\"] > 0:\n",
    "        stats[feature][\"Other Categories\"][\"percent\"] = 100.0 * stats[feature][\"Other Categories\"][\"count\"]/stats[feature][\"Other Categories\"][\"total\"]\n",
    "    else:\n",
    "        del stats[feature][\"Other Categories\"]\n",
    "    \n",
    "    print(\"Done with processing feature: \" + feature)\n",
    "    \n",
    "    return stats"
   ]
  },
  {
   "cell_type": "code",
   "execution_count": 45,
   "metadata": {},
   "outputs": [
    {
     "data": {
      "text/plain": [
       "'stats/20180313_20190910_DAD/'"
      ]
     },
     "execution_count": 45,
     "metadata": {},
     "output_type": "execute_result"
    }
   ],
   "source": [
    "stat_file_path"
   ]
  },
  {
   "cell_type": "code",
   "execution_count": 46,
   "metadata": {},
   "outputs": [],
   "source": [
    "def plot_pairwise_stat_by_feature(feature, stats, total_couples=1):\n",
    "    feature_stats = stats[feature]\n",
    "    \n",
    "    figures, axes = plt.subplots(nrows=1, ncols=2, figsize=(20,10))\n",
    "    \n",
    "    percent_stats = []\n",
    "    pair_combinations = []\n",
    "    totals = []\n",
    "    \n",
    "    for pair_comb in feature_stats:\n",
    "        percent_stats.append(feature_stats[pair_comb][\"percent\"])\n",
    "        totals.append(feature_stats[pair_comb][\"total\"])\n",
    "        pair_combinations.append(pair_comb)\n",
    "\n",
    "    plot_df = pd.DataFrame({\"percent\": percent_stats, \"category_combination\": pair_combinations, \"totals\": totals})\n",
    "    plot_df[\"category_combination_percentage\"] = 100.0*plot_df[\"totals\"]/total_couples\n",
    "    \n",
    "    sns.barplot(x=\"percent\", y=\"category_combination\", data=plot_df, ax=axes[0], palette=sns.color_palette(\"Set2\"))\n",
    "    \n",
    "    axes[0].set(xlabel=\"Separation percentage\")\n",
    "    \n",
    "    #     sns.barplot(x=\"category_combination_percentage\", y=\"category_combination\", palette=sns.color_palette(\"Set2\"), data=plot_df, ax=axes[1])\n",
    "\n",
    "    #   Pie chart\n",
    "    labels = pair_combinations\n",
    "    sizes = plot_df[\"category_combination_percentage\"].tolist()\n",
    "    axes[1].pie(sizes, labels=labels, autopct='%1.1f%%', colors=['teal', 'salmon', 'silver', 'lightblue', 'orchid', 'pink', 'lightgreen', 'wheat'])\n",
    "    axes[1].axis('equal')\n",
    "    axes[1].set(xlabel=\"Category percentage out of total couples\")\n",
    "    \n",
    "    \n",
    "    axes[0].spines['right'].set_visible(False)\n",
    "    axes[0].spines['top'].set_visible(False)\n",
    "    axes[1].spines['right'].set_visible(False)\n",
    "    axes[1].spines['top'].set_visible(False)\n",
    "    \n",
    "    #     axes[0].set_title(feature)\n",
    "    #     axes[1].set_title(feature + \" wise couple proportion\")\n",
    "\n",
    "    #     Writing stats into file\n",
    "    stat_file_name = feature + \"_totalCouples-\" + str(total_couples) + \".csv\"\n",
    "    plot_df.to_csv(stat_file_path + stat_file_name+'_'+county, sep=\"\\t\")\n",
    "        \n",
    "    plt.savefig(\"plots/\" + image_file_prefix + \"/\" + image_file_prefix + \"_\"+ county +  \"_pairwise_stat_\" + feature)\n",
    "    plt.tight_layout()"
   ]
  },
  {
   "cell_type": "code",
   "execution_count": 47,
   "metadata": {},
   "outputs": [
    {
     "name": "stdout",
     "output_type": "stream",
     "text": [
      "Collecting uniques by feature: race_desc\n",
      "Processing : race_desc : Total comb: 28\n",
      "Total value combinations process: 3 Total time (secs): 2.7593870162963867\n",
      "Processing symmetric combinations: race_desc : Total comb: 8\n",
      "Done with processing feature: race_desc\n"
     ]
    }
   ],
   "source": [
    "stats = generate_pair_stats_by_feature(global_df, couples_df_found, \"race_desc\", others=race_other_groups)"
   ]
  },
  {
   "cell_type": "code",
   "execution_count": 48,
   "metadata": {},
   "outputs": [
    {
     "data": {
      "image/png": "[encoded data removed]",
      "text/plain": [
       "<Figure size 1440x720 with 2 Axes>"
      ]
     },
     "metadata": {
      "needs_background": "light"
     },
     "output_type": "display_data"
    }
   ],
   "source": [
    "plot_pairwise_stat_by_feature(\"race_desc\", stats, total_couples=couples_df_found.shape[0])"
   ]
  },
  {
   "cell_type": "code",
   "execution_count": 49,
   "metadata": {},
   "outputs": [
    {
     "name": "stdout",
     "output_type": "stream",
     "text": [
      "Collecting uniques by feature: party_affiliation\n",
      "Processing : party_affiliation : Total comb: 45\n",
      "Total value combinations process: 3 Total time (secs): 3.5663859844207764\n",
      "Processing symmetric combinations: party_affiliation : Total comb: 10\n",
      "Done with processing feature: party_affiliation\n"
     ]
    }
   ],
   "source": [
    "stats = generate_pair_stats_by_feature(global_df, couples_df_found, \"party_affiliation\", others=party_other_groups)"
   ]
  },
  {
   "cell_type": "code",
   "execution_count": 50,
   "metadata": {},
   "outputs": [
    {
     "data": {
      "image/png": "[encoded data removed]",
      "text/plain": [
       "<Figure size 1440x720 with 2 Axes>"
      ]
     },
     "metadata": {
      "needs_background": "light"
     },
     "output_type": "display_data"
    }
   ],
   "source": [
    "plot_pairwise_stat_by_feature(\"party_affiliation\", stats, total_couples=couples_df_found.shape[0])"
   ]
  },
  {
   "cell_type": "code",
   "execution_count": 51,
   "metadata": {},
   "outputs": [
    {
     "name": "stdout",
     "output_type": "stream",
     "text": [
      "Collecting uniques by feature: gender\n",
      "Processing : gender : Total comb: 3\n",
      "Total value combinations process: 3 Total time (secs): 0.4704933166503906\n",
      "Processing symmetric combinations: gender : Total comb: 3\n",
      "Done with processing feature: gender\n"
     ]
    }
   ],
   "source": [
    "stats = generate_pair_stats_by_feature(global_df, couples_df_found, \"gender\", others=party_other_groups)"
   ]
  },
  {
   "cell_type": "code",
   "execution_count": 52,
   "metadata": {},
   "outputs": [
    {
     "data": {
      "image/png": "[encoded data removed]",
      "text/plain": [
       "<Figure size 1440x720 with 2 Axes>"
      ]
     },
     "metadata": {
      "needs_background": "light"
     },
     "output_type": "display_data"
    }
   ],
   "source": [
    "plot_pairwise_stat_by_feature(\"gender\", stats, total_couples=couples_df_found.shape[0])"
   ]
  },
  {
   "cell_type": "code",
   "execution_count": 53,
   "metadata": {},
   "outputs": [
    {
     "data": {
      "text/plain": [
       "{'race_desc': {'Other Categories': {'count': 3906,\n",
       "   'total': 27880,\n",
       "   'percent': 14.010043041606886},\n",
       "  '(White, Black/Not Hispanic)': {'count': 476,\n",
       "   'total': 2104,\n",
       "   'percent': 22.623574144486692},\n",
       "  '(White, Hispanic)': {'count': 3691,\n",
       "   'total': 31587,\n",
       "   'percent': 11.685186943995948},\n",
       "  '(Black/Not Hispanic, Hispanic)': {'count': 1261,\n",
       "   'total': 4684,\n",
       "   'percent': 26.921434671221178},\n",
       "  '(White, White)': {'count': 2472,\n",
       "   'total': 32187,\n",
       "   'percent': 7.680119302824122},\n",
       "  '(Black/Not Hispanic, Black/Not Hispanic)': {'count': 4751,\n",
       "   'total': 32113,\n",
       "   'percent': 14.79463145766512},\n",
       "  '(Hispanic, Hispanic)': {'count': 13693,\n",
       "   'total': 121567,\n",
       "   'percent': 11.263747563072215}},\n",
       " 'party_affiliation': {'Other Categories': {'count': 245,\n",
       "   'total': 1291,\n",
       "   'percent': 18.977536793183578},\n",
       "  '(REP, NPA)': {'count': 3666, 'total': 27118, 'percent': 13.51869606903164},\n",
       "  '(REP, DEM)': {'count': 3195, 'total': 22096, 'percent': 14.459630702389573},\n",
       "  '(NPA, DEM)': {'count': 7072, 'total': 40119, 'percent': 17.627558014905656},\n",
       "  '(REP, REP)': {'count': 3215, 'total': 54298, 'percent': 5.921028398836053},\n",
       "  '(NPA, NPA)': {'count': 4459, 'total': 39741, 'percent': 11.22015047432123},\n",
       "  '(DEM, DEM)': {'count': 8395,\n",
       "   'total': 67436,\n",
       "   'percent': 12.448840381991815}},\n",
       " 'gender': {'(M, F)': {'count': 17566,\n",
       "   'total': 193771,\n",
       "   'percent': 9.065340014759691},\n",
       "  '(M, U)': {'count': 866, 'total': 6172, 'percent': 14.031108230719378},\n",
       "  '(F, U)': {'count': 1145, 'total': 6851, 'percent': 16.712888629397167},\n",
       "  '(M, M)': {'count': 4077, 'total': 18481, 'percent': 22.060494561982576},\n",
       "  '(F, F)': {'count': 6475, 'total': 25734, 'percent': 25.161265252195538},\n",
       "  '(U, U)': {'count': 121, 'total': 1115, 'percent': 10.852017937219731}}}"
      ]
     },
     "execution_count": 53,
     "metadata": {},
     "output_type": "execute_result"
    }
   ],
   "source": [
    "stats"
   ]
  },
  {
   "cell_type": "markdown",
   "metadata": {},
   "source": [
    "## Raw code of combination stats (Obsolete)"
   ]
  },
  {
   "cell_type": "code",
   "execution_count": null,
   "metadata": {},
   "outputs": [],
   "source": [
    "# from itertools import combinations\n",
    "# total_separated = couples_df_found[couples_df_found[\"separated\"] == True].shape[0]\n",
    "# stats = {}\n",
    "# for c in cols:\n",
    "#     cat_combinations = list(combinations(list(unique_dic[c]), 2))\n",
    "#     stats[c] = {}\n",
    "#     print(\"Processing : \" + c + \" : Total comb: \" + str(len(cat_combinations)))\n",
    "#     i = 0\n",
    "#     for comb in cat_combinations:\n",
    "#         first_val = comb[0]\n",
    "#         second_val = comb[1]\n",
    "        \n",
    "#         left_right = couples_df_found[(couples_df_found[c + \"_L\"] == first_val) & (couples_df_found[c + \"_R\"] == second_val)]\n",
    "#         right_left = couples_df_found[(couples_df_found[c + \"_L\"] == second_val) & (couples_df_found[c + \"_R\"] == first_val)]\n",
    "#         count = left_right[left_right[\"separated\"] == True].shape[0]\n",
    "#         count += right_left[right_left[\"separated\"] == True].shape[0]\n",
    "#         stats[c][str(first_val) + \"_\" + str(second_val)] = count\n",
    "#         stats[c][str(first_val) + \"_\" + str(second_val) + \"_\" + \"total\"] = left_right.shape[0] + right_left.shape[0]\n",
    "#         i += 1\n",
    "        \n",
    "#     print(\"Done with comb: \" + str(i))\n",
    "    \n",
    "#     print(\"Processing symmetric combinations: \" + c + \" : Total comb: \" + str(len(unique_dic[c])))\n",
    "#     unique_vals = unique_dic[c]\n",
    "#     for val in unique_vals:\n",
    "#         subset = couples_df_found[(couples_df_found[c + \"_L\"] == val) & (couples_df_found[c + \"_R\"] == val)]\n",
    "#         count = subset[subset[\"separated\"] == True].shape[0]\n",
    "#         stats[c][str(val) + \"_\" + str(val)] = count\n",
    "#         stats[c][str(val) + \"_\" + str(val) + \"_\" + \"total\"] = subset.shape[0]\n",
    "    \n",
    "#     print(\"Done with processing column: \" + c)"
   ]
  },
  {
   "cell_type": "markdown",
   "metadata": {},
   "source": [
    "## Raw code of plot (Obsolete)"
   ]
  },
  {
   "cell_type": "code",
   "execution_count": null,
   "metadata": {},
   "outputs": [],
   "source": [
    "# figures, axes = plt.subplots(nrows=2, ncols=1, figsize=(20,30))\n",
    "# race_df = None\n",
    "# index = 0\n",
    "# for col in stats:\n",
    "#     col_stats = stats[col]\n",
    "#     percent_stats = {}\n",
    "#     for c in col_stats:\n",
    "#         if \"total\" in c:\n",
    "#             continue\n",
    "        \n",
    "#         total = col_stats[c + \"_\" + \"total\"]\n",
    "#         if total == 0:\n",
    "#             continue\n",
    "            \n",
    "#         p = col_stats[c] * 100.0/total\n",
    "#         if p < 5.0:\n",
    "#             continue\n",
    "#         percent_stats[c] = p\n",
    "    \n",
    "#     plot_df = pd.DataFrame({\"percent\": list(percent_stats.values()), \"category\": list(percent_stats.keys()) })\n",
    "\n",
    "#     plot_df[\"percent_str\"] = plot_df[\"percent\"].apply(str)\n",
    "    \n",
    "# #     sns.barplot(x=\"category\", y=\"percent\", data=plot_df, ax=axes[index])\n",
    "    \n",
    "# #     sns.barplot(x=\"percent_str\", y=\"category\", data=plot_df, ax=axes[index])\n",
    "#     if col == \"race\":\n",
    "#         race_df = plot_df\n",
    "# #         sns.barplot(x=\"category\", y=\"percent\", data=plot_df, ax=axes[index])\n",
    "#     else:\n",
    "#         sns.barplot(x=\"percent\", y=\"category\", data=plot_df, ax=axes[index])\n",
    "#         axes[index].set_title(col)\n",
    "        \n",
    "\n",
    "#     index += 1\n",
    "\n",
    "# plt.tight_layout()"
   ]
  },
  {
   "cell_type": "code",
   "execution_count": null,
   "metadata": {},
   "outputs": [],
   "source": [
    "# sns.barplot(x=\"percent_round\", y=\"category\", data=race_df)"
   ]
  },
  {
   "cell_type": "code",
   "execution_count": 54,
   "metadata": {},
   "outputs": [
    {
     "data": {
      "text/plain": [
       "array([ 0,  1,  2,  3,  4,  5,  6,  7,  8,  9, 10, 11, 12, 13, 14, 15])"
      ]
     },
     "execution_count": 54,
     "metadata": {},
     "output_type": "execute_result"
    }
   ],
   "source": [
    "couples_df_found.age_diff.unique()"
   ]
  },
  {
   "cell_type": "code",
   "execution_count": 55,
   "metadata": {},
   "outputs": [],
   "source": [
    "age_diff_total_counts = couples_df_found.groupby([\"age_diff\"])[\"age_diff\"].agg([\"count\"]).reset_index()"
   ]
  },
  {
   "cell_type": "code",
   "execution_count": 56,
   "metadata": {},
   "outputs": [
    {
     "data": {
      "text/html": [
       "<div>\n",
       "<style scoped>\n",
       "    .dataframe tbody tr th:only-of-type {\n",
       "        vertical-align: middle;\n",
       "    }\n",
       "\n",
       "    .dataframe tbody tr th {\n",
       "        vertical-align: top;\n",
       "    }\n",
       "\n",
       "    .dataframe thead th {\n",
       "        text-align: right;\n",
       "    }\n",
       "</style>\n",
       "<table border=\"1\" class=\"dataframe\">\n",
       "  <thead>\n",
       "    <tr style=\"text-align: right;\">\n",
       "      <th></th>\n",
       "      <th>age_diff</th>\n",
       "      <th>count</th>\n",
       "    </tr>\n",
       "  </thead>\n",
       "  <tbody>\n",
       "    <tr>\n",
       "      <td>0</td>\n",
       "      <td>0</td>\n",
       "      <td>27816</td>\n",
       "    </tr>\n",
       "    <tr>\n",
       "      <td>1</td>\n",
       "      <td>1</td>\n",
       "      <td>46603</td>\n",
       "    </tr>\n",
       "    <tr>\n",
       "      <td>2</td>\n",
       "      <td>2</td>\n",
       "      <td>38670</td>\n",
       "    </tr>\n",
       "    <tr>\n",
       "      <td>3</td>\n",
       "      <td>3</td>\n",
       "      <td>29438</td>\n",
       "    </tr>\n",
       "    <tr>\n",
       "      <td>4</td>\n",
       "      <td>4</td>\n",
       "      <td>23021</td>\n",
       "    </tr>\n",
       "  </tbody>\n",
       "</table>\n",
       "</div>"
      ],
      "text/plain": [
       "   age_diff  count\n",
       "0         0  27816\n",
       "1         1  46603\n",
       "2         2  38670\n",
       "3         3  29438\n",
       "4         4  23021"
      ]
     },
     "execution_count": 56,
     "metadata": {},
     "output_type": "execute_result"
    }
   ],
   "source": [
    "age_diff_total_counts.head()"
   ]
  },
  {
   "cell_type": "code",
   "execution_count": 57,
   "metadata": {},
   "outputs": [
    {
     "data": {
      "image/png": "[encoded data removed]",
      "text/plain": [
       "<Figure size 432x288 with 1 Axes>"
      ]
     },
     "metadata": {
      "needs_background": "light"
     },
     "output_type": "display_data"
    }
   ],
   "source": [
    "#plt.clear()\n",
    "plt.close()\n",
    "ax = sns.barplot(x=\"age_diff\", y=\"count\", data=age_diff_total_counts)\n",
    "ax.set(xlabel='age difference between couples', ylabel='couples count')\n",
    "plt.savefig(\"plots/\" + image_file_prefix + \"/\" + image_file_prefix +\"_\"+ county+ \"_age_diff_aggregation\")"
   ]
  },
  {
   "cell_type": "code",
   "execution_count": 58,
   "metadata": {},
   "outputs": [],
   "source": [
    "age_diff_separation_stats = couples_df_found[couples_df_found[\"separated\"]==True].groupby([\"age_diff\"])[\"age_diff\"].agg([\"count\"]).reset_index()"
   ]
  },
  {
   "cell_type": "code",
   "execution_count": 59,
   "metadata": {},
   "outputs": [],
   "source": [
    "age_diff_separation_stats = pd.merge(age_diff_total_counts, age_diff_separation_stats, on=[\"age_diff\"], suffixes=(\"_total\", \"_separated\"))"
   ]
  },
  {
   "cell_type": "code",
   "execution_count": 60,
   "metadata": {},
   "outputs": [],
   "source": [
    "age_diff_separation_stats[\"percent\"] = 100.0 * age_diff_separation_stats[\"count_separated\"]/age_diff_separation_stats[\"count_total\"]"
   ]
  },
  {
   "cell_type": "code",
   "execution_count": 61,
   "metadata": {},
   "outputs": [
    {
     "data": {
      "text/html": [
       "<div>\n",
       "<style scoped>\n",
       "    .dataframe tbody tr th:only-of-type {\n",
       "        vertical-align: middle;\n",
       "    }\n",
       "\n",
       "    .dataframe tbody tr th {\n",
       "        vertical-align: top;\n",
       "    }\n",
       "\n",
       "    .dataframe thead th {\n",
       "        text-align: right;\n",
       "    }\n",
       "</style>\n",
       "<table border=\"1\" class=\"dataframe\">\n",
       "  <thead>\n",
       "    <tr style=\"text-align: right;\">\n",
       "      <th></th>\n",
       "      <th>age_diff</th>\n",
       "      <th>count_total</th>\n",
       "      <th>count_separated</th>\n",
       "      <th>percent</th>\n",
       "    </tr>\n",
       "  </thead>\n",
       "  <tbody>\n",
       "    <tr>\n",
       "      <td>0</td>\n",
       "      <td>0</td>\n",
       "      <td>27816</td>\n",
       "      <td>2981</td>\n",
       "      <td>10.716854</td>\n",
       "    </tr>\n",
       "    <tr>\n",
       "      <td>1</td>\n",
       "      <td>1</td>\n",
       "      <td>46603</td>\n",
       "      <td>5211</td>\n",
       "      <td>11.181684</td>\n",
       "    </tr>\n",
       "    <tr>\n",
       "      <td>2</td>\n",
       "      <td>2</td>\n",
       "      <td>38670</td>\n",
       "      <td>4488</td>\n",
       "      <td>11.605896</td>\n",
       "    </tr>\n",
       "    <tr>\n",
       "      <td>3</td>\n",
       "      <td>3</td>\n",
       "      <td>29438</td>\n",
       "      <td>3250</td>\n",
       "      <td>11.040152</td>\n",
       "    </tr>\n",
       "    <tr>\n",
       "      <td>4</td>\n",
       "      <td>4</td>\n",
       "      <td>23021</td>\n",
       "      <td>2598</td>\n",
       "      <td>11.285348</td>\n",
       "    </tr>\n",
       "    <tr>\n",
       "      <td>5</td>\n",
       "      <td>5</td>\n",
       "      <td>17999</td>\n",
       "      <td>2097</td>\n",
       "      <td>11.650647</td>\n",
       "    </tr>\n",
       "    <tr>\n",
       "      <td>6</td>\n",
       "      <td>6</td>\n",
       "      <td>14552</td>\n",
       "      <td>1752</td>\n",
       "      <td>12.039582</td>\n",
       "    </tr>\n",
       "    <tr>\n",
       "      <td>7</td>\n",
       "      <td>7</td>\n",
       "      <td>11600</td>\n",
       "      <td>1408</td>\n",
       "      <td>12.137931</td>\n",
       "    </tr>\n",
       "    <tr>\n",
       "      <td>8</td>\n",
       "      <td>8</td>\n",
       "      <td>9254</td>\n",
       "      <td>1203</td>\n",
       "      <td>12.999784</td>\n",
       "    </tr>\n",
       "    <tr>\n",
       "      <td>9</td>\n",
       "      <td>9</td>\n",
       "      <td>7531</td>\n",
       "      <td>1054</td>\n",
       "      <td>13.995485</td>\n",
       "    </tr>\n",
       "    <tr>\n",
       "      <td>10</td>\n",
       "      <td>10</td>\n",
       "      <td>6350</td>\n",
       "      <td>909</td>\n",
       "      <td>14.314961</td>\n",
       "    </tr>\n",
       "    <tr>\n",
       "      <td>11</td>\n",
       "      <td>11</td>\n",
       "      <td>5384</td>\n",
       "      <td>812</td>\n",
       "      <td>15.081724</td>\n",
       "    </tr>\n",
       "    <tr>\n",
       "      <td>12</td>\n",
       "      <td>12</td>\n",
       "      <td>4279</td>\n",
       "      <td>715</td>\n",
       "      <td>16.709512</td>\n",
       "    </tr>\n",
       "    <tr>\n",
       "      <td>13</td>\n",
       "      <td>13</td>\n",
       "      <td>3701</td>\n",
       "      <td>638</td>\n",
       "      <td>17.238584</td>\n",
       "    </tr>\n",
       "    <tr>\n",
       "      <td>14</td>\n",
       "      <td>14</td>\n",
       "      <td>3145</td>\n",
       "      <td>565</td>\n",
       "      <td>17.965024</td>\n",
       "    </tr>\n",
       "    <tr>\n",
       "      <td>15</td>\n",
       "      <td>15</td>\n",
       "      <td>2781</td>\n",
       "      <td>569</td>\n",
       "      <td>20.460266</td>\n",
       "    </tr>\n",
       "  </tbody>\n",
       "</table>\n",
       "</div>"
      ],
      "text/plain": [
       "    age_diff  count_total  count_separated    percent\n",
       "0          0        27816             2981  10.716854\n",
       "1          1        46603             5211  11.181684\n",
       "2          2        38670             4488  11.605896\n",
       "3          3        29438             3250  11.040152\n",
       "4          4        23021             2598  11.285348\n",
       "5          5        17999             2097  11.650647\n",
       "6          6        14552             1752  12.039582\n",
       "7          7        11600             1408  12.137931\n",
       "8          8         9254             1203  12.999784\n",
       "9          9         7531             1054  13.995485\n",
       "10        10         6350              909  14.314961\n",
       "11        11         5384              812  15.081724\n",
       "12        12         4279              715  16.709512\n",
       "13        13         3701              638  17.238584\n",
       "14        14         3145              565  17.965024\n",
       "15        15         2781              569  20.460266"
      ]
     },
     "execution_count": 61,
     "metadata": {},
     "output_type": "execute_result"
    }
   ],
   "source": [
    "age_diff_separation_stats"
   ]
  },
  {
   "cell_type": "code",
   "execution_count": 62,
   "metadata": {},
   "outputs": [],
   "source": [
    "age_diff_separation_stats.to_csv(stat_file_path + county+\"_age_diff_separation_stats.csv\", sep='\\t', header=[\"age_diff\", \"counts_of_that_age_diff\", \"separated_count\", \"separated_percentage\"])"
   ]
  },
  {
   "cell_type": "code",
   "execution_count": 63,
   "metadata": {},
   "outputs": [
    {
     "data": {
      "image/png": "[encoded data removed]",
      "text/plain": [
       "<Figure size 432x288 with 1 Axes>"
      ]
     },
     "metadata": {
      "needs_background": "light"
     },
     "output_type": "display_data"
    }
   ],
   "source": [
    "ax = sns.barplot(x=\"age_diff\", y=\"percent\", data=age_diff_separation_stats, )\n",
    "ax.set(xlabel='age difference between couples', ylabel='couples separation percent')\n",
    "plt.savefig(\"plots/\" + image_file_prefix + \"/\" + image_file_prefix + \"_\"+ county+\"_age_diff_separation_percentages\")"
   ]
  },
  {
   "cell_type": "code",
   "execution_count": null,
   "metadata": {},
   "outputs": [],
   "source": [
    "# import scipy.stats as stats\n",
    "# pearson_corr, corr_pvalue = stats.pearsonr(age_diff_separation_stats['age_diff'], age_diff_separation_stats['percent'])\n",
    "# print('Correlation of Age Diff Vs separation rate: {} \\nP_value: {}'.format(pearson_corr, corr_pvalue))"
   ]
  },
  {
   "cell_type": "code",
   "execution_count": null,
   "metadata": {},
   "outputs": [],
   "source": [
    "# cf_polarized = np.where(((couples_df_found[\"party_affiliation_L\"] == \"DEM\") & (couples_df_found[\"party_affiliation_R\"] == \"REP\")) |\n",
    "#                         ((couples_df_found[\"party_affiliation_L\"] == \"REP\") & (couples_df_found[\"party_affiliation_R\"] == \"DEM\"))\n",
    "#                         , 1, 0) "
   ]
  },
  {
   "cell_type": "code",
   "execution_count": null,
   "metadata": {},
   "outputs": [],
   "source": [
    "# cf_separated = np.where(couples_df_found[\"separated\"] == True, 1, 0)"
   ]
  },
  {
   "cell_type": "code",
   "execution_count": null,
   "metadata": {},
   "outputs": [],
   "source": [
    "#pearson_corr, corr_pvalue = stats.pearsonr(couples_df_stat[\"no\"], couples_df_stat[\"separation_percent\"])\n",
    "#print('Correlation of Polarized couples (DEM/REP) Vs their separation rate: {} \\nP_value: {}'.format(pearson_corr, corr_pvalue))"
   ]
  },
  {
   "cell_type": "code",
   "execution_count": null,
   "metadata": {},
   "outputs": [],
   "source": [
    "# cf_polarized_all = np.where(((couples_df_found[\"party_affiliation_L\"] == \"DEM\") & (couples_df_found[\"party_affiliation_R\"] == \"DEM\"))\n",
    "#                             | ((couples_df_found[\"party_affiliation_L\"] == \"REP\") & (couples_df_found[\"party_affiliation_R\"] == \"REP\"))\n",
    "#                             | ((couples_df_found[\"party_affiliation_L\"] == \"NPA\") & (couples_df_found[\"party_affiliation_R\"] == \"NPA\"))\n",
    "#                         , 0, 1) "
   ]
  },
  {
   "cell_type": "code",
   "execution_count": null,
   "metadata": {},
   "outputs": [],
   "source": [
    "#pearson_corr, corr_pvalue = stats.pearsonr(cf_polarized_all, cf_separated)\n",
    "#print('Correlation of Polarized couples Vs their separation rate: {} \\nP_value: {}'.format(pearson_corr, corr_pvalue))"
   ]
  },
  {
   "cell_type": "code",
   "execution_count": null,
   "metadata": {},
   "outputs": [],
   "source": [
    "#couples_df_stat = pd.read_csv(\"stats/20160307_20180313/party_affiliation_totalCouples-2709111.csv\" , sep='\\t')"
   ]
  },
  {
   "cell_type": "code",
   "execution_count": null,
   "metadata": {},
   "outputs": [],
   "source": [
    "#couples_df_stat.columns = [\"no\", \"separation_percent\",\"cat_comb\",\"total\",\"cat_comb_percent\"]"
   ]
  },
  {
   "cell_type": "code",
   "execution_count": null,
   "metadata": {},
   "outputs": [],
   "source": [
    "#couples_df_stat[\"no\"]"
   ]
  },
  {
   "cell_type": "code",
   "execution_count": null,
   "metadata": {},
   "outputs": [],
   "source": [
    "from sklearn.metrics import jaccard_score"
   ]
  },
  {
   "cell_type": "code",
   "execution_count": null,
   "metadata": {},
   "outputs": [],
   "source": [
    "#jaccard_score(cf_polarized_all, cf_separated)  "
   ]
  },
  {
   "cell_type": "code",
   "execution_count": 207,
   "metadata": {},
   "outputs": [],
   "source": [
    "#pd.crosstab(cf_polarized_all, cf_separated)"
   ]
  },
  {
   "cell_type": "code",
   "execution_count": null,
   "metadata": {},
   "outputs": [],
   "source": [
    "#from sklearn.metrics import matthews_corrcoef\n",
    "#matthews_corrcoef(cf_separated, cf_polarized_all)"
   ]
  },
  {
   "cell_type": "code",
   "execution_count": null,
   "metadata": {},
   "outputs": [],
   "source": [
    "from scipy.stats import chi2_contingency\n",
    "#print(chi2_contingency(pd.crosstab(cf_polarized_all, cf_separated)))\n",
    "\n",
    "def cramers_corrected_stat(confusion_matrix):\n",
    "    \"\"\" calculate Cramers V statistic for categorial-categorial association.\n",
    "        uses correction from Bergsma and Wicher, \n",
    "        Journal of the Korean Statistical Society 42 (2013): 323-328\n",
    "    \"\"\"\n",
    "    chi2 = chi2_contingency(confusion_matrix)[0]\n",
    "    n = confusion_matrix.sum()\n",
    "    phi2 = chi2/n\n",
    "    r,k = confusion_matrix.shape\n",
    "    phi2corr = max(0, phi2 - ((k-1)*(r-1))/(n-1))\n",
    "    rcorr = r - ((r-1)**2)/(n-1)\n",
    "    kcorr = k - ((k-1)**2)/(n-1)\n",
    "    return np.sqrt(phi2corr / min( (kcorr-1), (rcorr-1)))\n",
    "\n",
    "#cramers_corrected_stat(pd.crosstab(cf_polarized_all, cf_separated))"
   ]
  }
 ],
 "metadata": {
  "kernelspec": {
   "display_name": "Python 3",
   "language": "python",
   "name": "python3"
  },
  "language_info": {
   "codemirror_mode": {
    "name": "ipython",
    "version": 3
   },
   "file_extension": ".py",
   "mimetype": "text/x-python",
   "name": "python",
   "nbconvert_exporter": "python",
   "pygments_lexer": "ipython3",
   "version": "3.7.4"
  }
 },
 "nbformat": 4,
 "nbformat_minor": 4
}
