{
 "cells": [
  {
   "cell_type": "code",
   "execution_count": 5,
   "metadata": {},
   "outputs": [],
   "source": [
    "import pandas as pd\n",
    "import random\n",
    "import numpy as np\n",
    "import time\n",
    "import math\n",
    "import sys\n",
    "import matplotlib.patches as mpatches\n",
    "import matplotlib.pyplot as plt\n",
    "import seaborn as sns\n",
    "import xgboost as xgb\n",
    "import datatable as dt\n",
    "\n",
    "from xgboost import plot_tree\n",
    "from os import walk\n",
    "from os import listdir\n",
    "from os.path import isfile, join\n",
    "from scipy.spatial.distance import euclidean, pdist, squareform\n",
    "from scipy.stats import skew\n",
    "from scipy.special import expit as sigmoid\n",
    "from scipy.cluster.hierarchy import fclusterdata\n",
    "from pandas.plotting import autocorrelation_plot\n",
    "from sklearn.model_selection import train_test_split\n",
    "from sklearn.linear_model import LogisticRegression\n",
    "from sklearn.linear_model import LinearRegression\n",
    "from sklearn.ensemble import RandomForestClassifier\n",
    "from sklearn import tree\n",
    "from sklearn.metrics import precision_recall_fscore_support\n",
    "from sklearn import preprocessing\n",
    "from sklearn.metrics import confusion_matrix\n",
    "from sklearn.metrics import roc_auc_score\n",
    "from sklearn.utils import resample\n",
    "from imblearn.over_sampling import SMOTE, ADASYN\n",
    "from imblearn.under_sampling import ClusterCentroids\n",
    "from imblearn.under_sampling import RandomUnderSampler\n",
    "from sklearn.preprocessing import LabelEncoder\n",
    "from sklearn.metrics import pairwise_distances\n",
    "from sklearn.cluster import AgglomerativeClustering\n",
    "from sklearn.manifold import TSNE\n",
    "from sklearn.metrics import mean_absolute_error\n",
    "from sklearn.metrics import mean_squared_error"
   ]
  },
  {
   "cell_type": "code",
   "execution_count": 17,
   "metadata": {},
   "outputs": [],
   "source": [
    "DATA_PATH = ''\n",
    "HISTORY_PATH = \"Voter_History_{0}\"\n",
    "REGISTRATION_PATH = \"data/{0}_VoterDetail\"\n",
    "COUNTY=\"DAD\""
   ]
  },
  {
   "cell_type": "code",
   "execution_count": 49,
   "metadata": {},
   "outputs": [],
   "source": [
    "date_str = '20140319'"
   ]
  },
  {
   "cell_type": "code",
   "execution_count": 14,
   "metadata": {},
   "outputs": [],
   "source": [
    "def get_county_files():\n",
    "    registration_path = REGISTRATION_PATH.format(str(date))\n",
    "    county_files = []\n",
    "    for f in listdir(registration_path):\n",
    "        if isfile(registration_path + \"/\" + f):\n",
    "            county_files.append(registration_path + \"/\" + f)\n",
    "    return county_files"
   ]
  },
  {
   "cell_type": "code",
   "execution_count": 15,
   "metadata": {},
   "outputs": [],
   "source": [
    "county_files = get_county_files()"
   ]
  },
  {
   "cell_type": "code",
   "execution_count": 18,
   "metadata": {},
   "outputs": [],
   "source": [
    "largest_county = './'+COUNTY+'_'+date+'.txt'"
   ]
  },
  {
   "cell_type": "code",
   "execution_count": 64,
   "metadata": {},
   "outputs": [],
   "source": [
    "registration_file_headers = [\n",
    "    'county_code',\n",
    "    'voter_id',\n",
    "    'last_name',\n",
    "    'suffix',\n",
    "    'first_name',\n",
    "    'middle_name',\n",
    "    'requested_public_records_exemption',\n",
    "    'residence_addr_line_1',\n",
    "    'residence_addr_line_2',\n",
    "    'residence_city',\n",
    "    'residence_state',\n",
    "    'residence_zipcode',\n",
    "    'mail_addr_line_1',\n",
    "    'mail_addr_line_2',\n",
    "    'mail_addr_line_3',\n",
    "    'mail_city',\n",
    "    'mail_state',\n",
    "    'mail_zipcode',\n",
    "    'mail_country',\n",
    "    'gender',\n",
    "    'race',\n",
    "    'birth_date',\n",
    "    'registration_date',\n",
    "    'party_affiliation',\n",
    "    'precinct',\n",
    "    'precinct_group',\n",
    "    'precinct_split',\n",
    "    'precinct_suffix',\n",
    "    'voter_status',\n",
    "    'congressional_district',\n",
    "    'house_district',\n",
    "    'senate_district',\n",
    "    'county_commission_district',\n",
    "    'school_board_district',\n",
    "    'daytime_area_code',\n",
    "    'daytime_phone_no',\n",
    "    'daytime_phone_extension',\n",
    "    'email_address'\n",
    "]\n",
    "selective_headers = [\n",
    "    'first_name',\n",
    "    'last_name',\n",
    "    'birth_date',\n",
    "    'county_code',\n",
    "    'residence_addr_line_1',\n",
    "    'residence_addr_line_2',\n",
    "    'residence_city',\n",
    "    'residence_zipcode',\n",
    "    'gender',\n",
    "    'race',\n",
    "    'registration_date',\n",
    "    'precinct',\n",
    "    'voter_id',\n",
    "    'party_affiliation',\n",
    "    'voter_status'\n",
    "]"
   ]
  },
  {
   "cell_type": "code",
   "execution_count": 94,
   "metadata": {},
   "outputs": [
    {
     "name": "stderr",
     "output_type": "stream",
     "text": [
      "/home/rahullachh/anaconda3/lib/python3.7/site-packages/IPython/core/interactiveshell.py:3058: DtypeWarning: Columns (11) have mixed types. Specify dtype option on import or set low_memory=False.\n",
      "  interactivity=interactivity, compiler=compiler, result=result)\n"
     ]
    }
   ],
   "source": [
    "global_df = pd.read_csv( REGISTRATION_PATH.format(date_str) + \"/\" + largest_county, sep='\\t', names=registration_file_headers, usecols=selective_headers)"
   ]
  },
  {
   "cell_type": "code",
   "execution_count": 95,
   "metadata": {},
   "outputs": [
    {
     "data": {
      "text/plain": [
       "county_code                 0\n",
       "voter_id                    0\n",
       "last_name                   0\n",
       "first_name                  1\n",
       "residence_addr_line_1       0\n",
       "residence_addr_line_2       0\n",
       "residence_city              0\n",
       "residence_zipcode           0\n",
       "gender                      2\n",
       "race                        0\n",
       "birth_date               1738\n",
       "registration_date           0\n",
       "party_affiliation           0\n",
       "precinct                    1\n",
       "voter_status                0\n",
       "dtype: int64"
      ]
     },
     "execution_count": 95,
     "metadata": {},
     "output_type": "execute_result"
    }
   ],
   "source": [
    "global_df.isnull().sum()"
   ]
  },
  {
   "cell_type": "code",
   "execution_count": 97,
   "metadata": {},
   "outputs": [],
   "source": [
    "req_cols = ['residence_city', 'gender', 'birth_date', 'precinct', 'first_name']\n",
    "global_df = global_df.dropna(subset=req_cols)"
   ]
  },
  {
   "cell_type": "code",
   "execution_count": 98,
   "metadata": {},
   "outputs": [
    {
     "data": {
      "text/plain": [
       "county_code              0\n",
       "voter_id                 0\n",
       "last_name                0\n",
       "first_name               0\n",
       "residence_addr_line_1    0\n",
       "residence_addr_line_2    0\n",
       "residence_city           0\n",
       "residence_zipcode        0\n",
       "gender                   0\n",
       "race                     0\n",
       "birth_date               0\n",
       "registration_date        0\n",
       "party_affiliation        0\n",
       "precinct                 0\n",
       "voter_status             0\n",
       "dtype: int64"
      ]
     },
     "execution_count": 98,
     "metadata": {},
     "output_type": "execute_result"
    }
   ],
   "source": [
    "global_df.isnull().sum()"
   ]
  },
  {
   "cell_type": "code",
   "execution_count": 99,
   "metadata": {},
   "outputs": [
    {
     "data": {
      "text/plain": [
       "(1367975, 15)"
      ]
     },
     "execution_count": 99,
     "metadata": {},
     "output_type": "execute_result"
    }
   ],
   "source": [
    "global_df.shape"
   ]
  },
  {
   "cell_type": "code",
   "execution_count": 100,
   "metadata": {},
   "outputs": [],
   "source": [
    "from datetime import datetime\n",
    "from datetime import date\n",
    "\n",
    "def calculate_age(born):\n",
    "    born = datetime.strptime(str(born), \"%m/%d/%Y\").date()\n",
    "    today = datetime.strptime(\"08/13/2019\", \"%m/%d/%Y\").date()\n",
    "    return today.year - born.year - ((today.month, today.day) < (born.month, born.day))\n",
    "\n",
    "global_df['age'] = global_df['birth_date'].apply(calculate_age)"
   ]
  },
  {
   "cell_type": "code",
   "execution_count": 101,
   "metadata": {},
   "outputs": [
    {
     "data": {
      "text/html": [
       "<div>\n",
       "<style scoped>\n",
       "    .dataframe tbody tr th:only-of-type {\n",
       "        vertical-align: middle;\n",
       "    }\n",
       "\n",
       "    .dataframe tbody tr th {\n",
       "        vertical-align: top;\n",
       "    }\n",
       "\n",
       "    .dataframe thead th {\n",
       "        text-align: right;\n",
       "    }\n",
       "</style>\n",
       "<table border=\"1\" class=\"dataframe\">\n",
       "  <thead>\n",
       "    <tr style=\"text-align: right;\">\n",
       "      <th></th>\n",
       "      <th>county_code</th>\n",
       "      <th>voter_id</th>\n",
       "      <th>last_name</th>\n",
       "      <th>first_name</th>\n",
       "      <th>residence_addr_line_1</th>\n",
       "      <th>residence_addr_line_2</th>\n",
       "      <th>residence_city</th>\n",
       "      <th>residence_zipcode</th>\n",
       "      <th>gender</th>\n",
       "      <th>race</th>\n",
       "      <th>birth_date</th>\n",
       "      <th>registration_date</th>\n",
       "      <th>party_affiliation</th>\n",
       "      <th>precinct</th>\n",
       "      <th>voter_status</th>\n",
       "      <th>age</th>\n",
       "    </tr>\n",
       "  </thead>\n",
       "  <tbody>\n",
       "    <tr>\n",
       "      <td>0</td>\n",
       "      <td>DAD</td>\n",
       "      <td>100012467</td>\n",
       "      <td>Brummitt</td>\n",
       "      <td>Marilyn</td>\n",
       "      <td>421  NW 150Th ST</td>\n",
       "      <td></td>\n",
       "      <td>Miami</td>\n",
       "      <td>33168</td>\n",
       "      <td>F</td>\n",
       "      <td>5</td>\n",
       "      <td>04/12/1950</td>\n",
       "      <td>11/05/1975</td>\n",
       "      <td>REP</td>\n",
       "      <td>131.0</td>\n",
       "      <td>ACT</td>\n",
       "      <td>69</td>\n",
       "    </tr>\n",
       "    <tr>\n",
       "      <td>1</td>\n",
       "      <td>DAD</td>\n",
       "      <td>100014823</td>\n",
       "      <td>Westervelt</td>\n",
       "      <td>Erna</td>\n",
       "      <td>11041  SW 124Th ST</td>\n",
       "      <td></td>\n",
       "      <td>Miami</td>\n",
       "      <td>33176</td>\n",
       "      <td>F</td>\n",
       "      <td>5</td>\n",
       "      <td>01/16/1923</td>\n",
       "      <td>02/10/1972</td>\n",
       "      <td>REP</td>\n",
       "      <td>756.0</td>\n",
       "      <td>ACT</td>\n",
       "      <td>96</td>\n",
       "    </tr>\n",
       "    <tr>\n",
       "      <td>2</td>\n",
       "      <td>DAD</td>\n",
       "      <td>100021401</td>\n",
       "      <td>Chang</td>\n",
       "      <td>Zoila</td>\n",
       "      <td>11047  NW 3Rd TER</td>\n",
       "      <td></td>\n",
       "      <td>Sweetwater</td>\n",
       "      <td>33172</td>\n",
       "      <td>F</td>\n",
       "      <td>5</td>\n",
       "      <td>06/27/1946</td>\n",
       "      <td>01/21/1976</td>\n",
       "      <td>REP</td>\n",
       "      <td>410.0</td>\n",
       "      <td>ACT</td>\n",
       "      <td>73</td>\n",
       "    </tr>\n",
       "    <tr>\n",
       "      <td>3</td>\n",
       "      <td>DAD</td>\n",
       "      <td>100021484</td>\n",
       "      <td>Harris</td>\n",
       "      <td>Roberta</td>\n",
       "      <td>15605  SW 57Th LN</td>\n",
       "      <td></td>\n",
       "      <td>Miami</td>\n",
       "      <td>33193</td>\n",
       "      <td>F</td>\n",
       "      <td>5</td>\n",
       "      <td>05/22/1938</td>\n",
       "      <td>01/23/1976</td>\n",
       "      <td>REP</td>\n",
       "      <td>764.0</td>\n",
       "      <td>ACT</td>\n",
       "      <td>81</td>\n",
       "    </tr>\n",
       "    <tr>\n",
       "      <td>4</td>\n",
       "      <td>DAD</td>\n",
       "      <td>100024033</td>\n",
       "      <td>Guillermety</td>\n",
       "      <td>Carmen</td>\n",
       "      <td>10951  SW 161St PL</td>\n",
       "      <td></td>\n",
       "      <td>Miami</td>\n",
       "      <td>33196</td>\n",
       "      <td>F</td>\n",
       "      <td>5</td>\n",
       "      <td>12/28/1916</td>\n",
       "      <td>08/02/1976</td>\n",
       "      <td>REP</td>\n",
       "      <td>766.0</td>\n",
       "      <td>ACT</td>\n",
       "      <td>102</td>\n",
       "    </tr>\n",
       "  </tbody>\n",
       "</table>\n",
       "</div>"
      ],
      "text/plain": [
       "  county_code   voter_id    last_name first_name residence_addr_line_1  \\\n",
       "0         DAD  100012467     Brummitt    Marilyn     421  NW 150Th ST    \n",
       "1         DAD  100014823   Westervelt       Erna   11041  SW 124Th ST    \n",
       "2         DAD  100021401        Chang      Zoila    11047  NW 3Rd TER    \n",
       "3         DAD  100021484       Harris    Roberta    15605  SW 57Th LN    \n",
       "4         DAD  100024033  Guillermety     Carmen   10951  SW 161St PL    \n",
       "\n",
       "  residence_addr_line_2 residence_city residence_zipcode gender  race  \\\n",
       "0                                Miami             33168      F     5   \n",
       "1                                Miami             33176      F     5   \n",
       "2                           Sweetwater             33172      F     5   \n",
       "3                                Miami             33193      F     5   \n",
       "4                                Miami             33196      F     5   \n",
       "\n",
       "   birth_date registration_date party_affiliation  precinct voter_status  age  \n",
       "0  04/12/1950        11/05/1975               REP     131.0          ACT   69  \n",
       "1  01/16/1923        02/10/1972               REP     756.0          ACT   96  \n",
       "2  06/27/1946        01/21/1976               REP     410.0          ACT   73  \n",
       "3  05/22/1938        01/23/1976               REP     764.0          ACT   81  \n",
       "4  12/28/1916        08/02/1976               REP     766.0          ACT  102  "
      ]
     },
     "execution_count": 101,
     "metadata": {},
     "output_type": "execute_result"
    }
   ],
   "source": [
    "global_df.head()"
   ]
  },
  {
   "cell_type": "code",
   "execution_count": 102,
   "metadata": {},
   "outputs": [],
   "source": [
    "str_cols_lower = [\n",
    "    'last_name',\n",
    "    'first_name',\n",
    "    'residence_addr_line_1',\n",
    "    'residence_addr_line_2',\n",
    "    'residence_city'\n",
    "]\n",
    "str_cols_upper = [\n",
    "    'county_code',\n",
    "    'gender',\n",
    "    'party_affiliation',\n",
    "    'voter_status'\n",
    "]"
   ]
  },
  {
   "cell_type": "code",
   "execution_count": 103,
   "metadata": {},
   "outputs": [],
   "source": [
    "for col in str_cols_lower:\n",
    "    global_df[col] = global_df[col].apply(lambda x: str(x).strip().lower())\n",
    "for col in str_cols_upper:\n",
    "    global_df[col] = global_df[col].apply(lambda x: str(x).strip().upper())"
   ]
  },
  {
   "cell_type": "code",
   "execution_count": 104,
   "metadata": {},
   "outputs": [],
   "source": [
    "global_df['residence_zipcode_5'] = global_df['residence_zipcode'].apply(lambda x: int(str(x)[:5]))"
   ]
  },
  {
   "cell_type": "code",
   "execution_count": 105,
   "metadata": {},
   "outputs": [],
   "source": [
    "def generate_zipcode_4(zip):\n",
    "    zip = str(zip)\n",
    "    if len(zip) > 5:\n",
    "        return int(zip[-4:])\n",
    "    else:\n",
    "        return ''\n",
    "\n",
    "global_df['residence_zipcode_4'] = global_df['residence_zipcode'].apply(generate_zipcode_4)"
   ]
  },
  {
   "cell_type": "code",
   "execution_count": 106,
   "metadata": {},
   "outputs": [],
   "source": [
    "global_df['uniq_addr'] = global_df[['residence_addr_line_1', 'residence_addr_line_2', 'residence_city', 'residence_zipcode_5']].apply(lambda x: ' '.join([str(y) for y in x]), axis=1)"
   ]
  },
  {
   "cell_type": "code",
   "execution_count": 107,
   "metadata": {},
   "outputs": [],
   "source": [
    "import re\n",
    "global_df['uniq_addr'] = global_df['uniq_addr'].apply(lambda x: re.sub(\"[^0-9a-zA-Z\\s]+\", '', x))"
   ]
  },
  {
   "cell_type": "code",
   "execution_count": 108,
   "metadata": {},
   "outputs": [],
   "source": [
    "global_df['uniq_addr'] = global_df['uniq_addr'].apply(lambda x: x.strip())"
   ]
  },
  {
   "cell_type": "code",
   "execution_count": 109,
   "metadata": {},
   "outputs": [
    {
     "data": {
      "text/plain": [
       "0          421  nw 150th st  miami 33168\n",
       "1        11041  sw 124th st  miami 33176\n",
       "2    11047  nw 3rd ter  sweetwater 33172\n",
       "3         15605  sw 57th ln  miami 33193\n",
       "4        10951  sw 161st pl  miami 33196\n",
       "Name: uniq_addr, dtype: object"
      ]
     },
     "execution_count": 109,
     "metadata": {},
     "output_type": "execute_result"
    }
   ],
   "source": [
    "global_df['uniq_addr'].head()"
   ]
  },
  {
   "cell_type": "code",
   "execution_count": 110,
   "metadata": {},
   "outputs": [],
   "source": [
    "aggregated_df = global_df.groupby(['uniq_addr', 'last_name'])['last_name'].agg(['count']).reset_index()\n",
    "# aggregated_df.columns = [' '.join(col).strip() for col in aggregated_df.columns.values]"
   ]
  },
  {
   "cell_type": "code",
   "execution_count": null,
   "metadata": {},
   "outputs": [],
   "source": []
  },
  {
   "cell_type": "code",
   "execution_count": 111,
   "metadata": {},
   "outputs": [],
   "source": [
    "aggregated_df = aggregated_df.rename(columns={\"count\": \"member_count\"})"
   ]
  },
  {
   "cell_type": "code",
   "execution_count": null,
   "metadata": {},
   "outputs": [],
   "source": []
  },
  {
   "cell_type": "code",
   "execution_count": null,
   "metadata": {},
   "outputs": [],
   "source": []
  },
  {
   "cell_type": "code",
   "execution_count": 112,
   "metadata": {},
   "outputs": [],
   "source": [
    "global_df = pd.merge(global_df, aggregated_df, on=['uniq_addr', 'last_name'], how='inner')"
   ]
  },
  {
   "cell_type": "code",
   "execution_count": 113,
   "metadata": {},
   "outputs": [
    {
     "data": {
      "text/html": [
       "<div>\n",
       "<style scoped>\n",
       "    .dataframe tbody tr th:only-of-type {\n",
       "        vertical-align: middle;\n",
       "    }\n",
       "\n",
       "    .dataframe tbody tr th {\n",
       "        vertical-align: top;\n",
       "    }\n",
       "\n",
       "    .dataframe thead th {\n",
       "        text-align: right;\n",
       "    }\n",
       "</style>\n",
       "<table border=\"1\" class=\"dataframe\">\n",
       "  <thead>\n",
       "    <tr style=\"text-align: right;\">\n",
       "      <th></th>\n",
       "      <th>county_code</th>\n",
       "      <th>voter_id</th>\n",
       "      <th>last_name</th>\n",
       "      <th>first_name</th>\n",
       "      <th>residence_addr_line_1</th>\n",
       "      <th>residence_addr_line_2</th>\n",
       "      <th>residence_city</th>\n",
       "      <th>residence_zipcode</th>\n",
       "      <th>gender</th>\n",
       "      <th>race</th>\n",
       "      <th>birth_date</th>\n",
       "      <th>registration_date</th>\n",
       "      <th>party_affiliation</th>\n",
       "      <th>precinct</th>\n",
       "      <th>voter_status</th>\n",
       "      <th>age</th>\n",
       "      <th>residence_zipcode_5</th>\n",
       "      <th>residence_zipcode_4</th>\n",
       "      <th>uniq_addr</th>\n",
       "      <th>member_count</th>\n",
       "    </tr>\n",
       "  </thead>\n",
       "  <tbody>\n",
       "    <tr>\n",
       "      <td>0</td>\n",
       "      <td>DAD</td>\n",
       "      <td>100012467</td>\n",
       "      <td>brummitt</td>\n",
       "      <td>marilyn</td>\n",
       "      <td>421  nw 150th st</td>\n",
       "      <td></td>\n",
       "      <td>miami</td>\n",
       "      <td>33168</td>\n",
       "      <td>F</td>\n",
       "      <td>5</td>\n",
       "      <td>04/12/1950</td>\n",
       "      <td>11/05/1975</td>\n",
       "      <td>REP</td>\n",
       "      <td>131.0</td>\n",
       "      <td>ACT</td>\n",
       "      <td>69</td>\n",
       "      <td>33168</td>\n",
       "      <td></td>\n",
       "      <td>421  nw 150th st  miami 33168</td>\n",
       "      <td>1</td>\n",
       "    </tr>\n",
       "    <tr>\n",
       "      <td>1</td>\n",
       "      <td>DAD</td>\n",
       "      <td>100014823</td>\n",
       "      <td>westervelt</td>\n",
       "      <td>erna</td>\n",
       "      <td>11041  sw 124th st</td>\n",
       "      <td></td>\n",
       "      <td>miami</td>\n",
       "      <td>33176</td>\n",
       "      <td>F</td>\n",
       "      <td>5</td>\n",
       "      <td>01/16/1923</td>\n",
       "      <td>02/10/1972</td>\n",
       "      <td>REP</td>\n",
       "      <td>756.0</td>\n",
       "      <td>ACT</td>\n",
       "      <td>96</td>\n",
       "      <td>33176</td>\n",
       "      <td></td>\n",
       "      <td>11041  sw 124th st  miami 33176</td>\n",
       "      <td>1</td>\n",
       "    </tr>\n",
       "    <tr>\n",
       "      <td>2</td>\n",
       "      <td>DAD</td>\n",
       "      <td>100021401</td>\n",
       "      <td>chang</td>\n",
       "      <td>zoila</td>\n",
       "      <td>11047  nw 3rd ter</td>\n",
       "      <td></td>\n",
       "      <td>sweetwater</td>\n",
       "      <td>33172</td>\n",
       "      <td>F</td>\n",
       "      <td>5</td>\n",
       "      <td>06/27/1946</td>\n",
       "      <td>01/21/1976</td>\n",
       "      <td>REP</td>\n",
       "      <td>410.0</td>\n",
       "      <td>ACT</td>\n",
       "      <td>73</td>\n",
       "      <td>33172</td>\n",
       "      <td></td>\n",
       "      <td>11047  nw 3rd ter  sweetwater 33172</td>\n",
       "      <td>1</td>\n",
       "    </tr>\n",
       "    <tr>\n",
       "      <td>3</td>\n",
       "      <td>DAD</td>\n",
       "      <td>100021484</td>\n",
       "      <td>harris</td>\n",
       "      <td>roberta</td>\n",
       "      <td>15605  sw 57th ln</td>\n",
       "      <td></td>\n",
       "      <td>miami</td>\n",
       "      <td>33193</td>\n",
       "      <td>F</td>\n",
       "      <td>5</td>\n",
       "      <td>05/22/1938</td>\n",
       "      <td>01/23/1976</td>\n",
       "      <td>REP</td>\n",
       "      <td>764.0</td>\n",
       "      <td>ACT</td>\n",
       "      <td>81</td>\n",
       "      <td>33193</td>\n",
       "      <td></td>\n",
       "      <td>15605  sw 57th ln  miami 33193</td>\n",
       "      <td>1</td>\n",
       "    </tr>\n",
       "    <tr>\n",
       "      <td>4</td>\n",
       "      <td>DAD</td>\n",
       "      <td>100024033</td>\n",
       "      <td>guillermety</td>\n",
       "      <td>carmen</td>\n",
       "      <td>10951  sw 161st pl</td>\n",
       "      <td></td>\n",
       "      <td>miami</td>\n",
       "      <td>33196</td>\n",
       "      <td>F</td>\n",
       "      <td>5</td>\n",
       "      <td>12/28/1916</td>\n",
       "      <td>08/02/1976</td>\n",
       "      <td>REP</td>\n",
       "      <td>766.0</td>\n",
       "      <td>ACT</td>\n",
       "      <td>102</td>\n",
       "      <td>33196</td>\n",
       "      <td></td>\n",
       "      <td>10951  sw 161st pl  miami 33196</td>\n",
       "      <td>2</td>\n",
       "    </tr>\n",
       "  </tbody>\n",
       "</table>\n",
       "</div>"
      ],
      "text/plain": [
       "  county_code   voter_id    last_name first_name residence_addr_line_1  \\\n",
       "0         DAD  100012467     brummitt    marilyn      421  nw 150th st   \n",
       "1         DAD  100014823   westervelt       erna    11041  sw 124th st   \n",
       "2         DAD  100021401        chang      zoila     11047  nw 3rd ter   \n",
       "3         DAD  100021484       harris    roberta     15605  sw 57th ln   \n",
       "4         DAD  100024033  guillermety     carmen    10951  sw 161st pl   \n",
       "\n",
       "  residence_addr_line_2 residence_city residence_zipcode gender  race  \\\n",
       "0                                miami             33168      F     5   \n",
       "1                                miami             33176      F     5   \n",
       "2                           sweetwater             33172      F     5   \n",
       "3                                miami             33193      F     5   \n",
       "4                                miami             33196      F     5   \n",
       "\n",
       "   birth_date registration_date party_affiliation  precinct voter_status  age  \\\n",
       "0  04/12/1950        11/05/1975               REP     131.0          ACT   69   \n",
       "1  01/16/1923        02/10/1972               REP     756.0          ACT   96   \n",
       "2  06/27/1946        01/21/1976               REP     410.0          ACT   73   \n",
       "3  05/22/1938        01/23/1976               REP     764.0          ACT   81   \n",
       "4  12/28/1916        08/02/1976               REP     766.0          ACT  102   \n",
       "\n",
       "   residence_zipcode_5 residence_zipcode_4  \\\n",
       "0                33168                       \n",
       "1                33176                       \n",
       "2                33172                       \n",
       "3                33193                       \n",
       "4                33196                       \n",
       "\n",
       "                             uniq_addr  member_count  \n",
       "0        421  nw 150th st  miami 33168             1  \n",
       "1      11041  sw 124th st  miami 33176             1  \n",
       "2  11047  nw 3rd ter  sweetwater 33172             1  \n",
       "3       15605  sw 57th ln  miami 33193             1  \n",
       "4      10951  sw 161st pl  miami 33196             2  "
      ]
     },
     "execution_count": 113,
     "metadata": {},
     "output_type": "execute_result"
    }
   ],
   "source": [
    "global_df.head()"
   ]
  },
  {
   "cell_type": "code",
   "execution_count": 114,
   "metadata": {},
   "outputs": [],
   "source": [
    "house_size_2 = global_df[global_df['member_count'] == 2]"
   ]
  },
  {
   "cell_type": "code",
   "execution_count": 115,
   "metadata": {},
   "outputs": [],
   "source": [
    "male_df = house_size_2[house_size_2['gender'] == 'M']"
   ]
  },
  {
   "cell_type": "code",
   "execution_count": 116,
   "metadata": {},
   "outputs": [],
   "source": [
    "female_df = house_size_2[house_size_2['gender'] == 'F']"
   ]
  },
  {
   "cell_type": "code",
   "execution_count": 117,
   "metadata": {},
   "outputs": [],
   "source": [
    "temp = pd.merge(male_df, female_df, on=['uniq_addr', 'last_name'], how='inner', suffixes=('_male', '_female'))"
   ]
  },
  {
   "cell_type": "code",
   "execution_count": 118,
   "metadata": {},
   "outputs": [],
   "source": [
    "lower_age_threshold = 30\n",
    "age_diff_threshold = 20"
   ]
  },
  {
   "cell_type": "code",
   "execution_count": 119,
   "metadata": {},
   "outputs": [],
   "source": [
    "def couple_heuristic(row):\n",
    "    age_diff = abs(row['age_male'] - row['age_female'])\n",
    "    if row['age_male'] >= lower_age_threshold and row['age_female'] >= lower_age_threshold and age_diff <= age_diff_threshold:\n",
    "        return True\n",
    "    return False\n",
    "        "
   ]
  },
  {
   "cell_type": "code",
   "execution_count": 120,
   "metadata": {},
   "outputs": [],
   "source": [
    "couples = temp[temp.apply(couple_heuristic, axis=1)]"
   ]
  },
  {
   "cell_type": "code",
   "execution_count": 121,
   "metadata": {},
   "outputs": [],
   "source": [
    "polarized_couples = couples[couples['party_affiliation_male'] != couples['party_affiliation_female']]"
   ]
  },
  {
   "cell_type": "code",
   "execution_count": 122,
   "metadata": {},
   "outputs": [],
   "source": [
    "couples.to_csv('all_couples_20190813.csv', sep='\\t')"
   ]
  },
  {
   "cell_type": "code",
   "execution_count": 123,
   "metadata": {},
   "outputs": [],
   "source": [
    "polarized_couples.to_csv('polarized_couples_20190813.csv', sep='\\t')"
   ]
  },
  {
   "cell_type": "code",
   "execution_count": 124,
   "metadata": {},
   "outputs": [
    {
     "data": {
      "text/plain": [
       "<matplotlib.axes._subplots.AxesSubplot at 0x7f805be6e290>"
      ]
     },
     "execution_count": 124,
     "metadata": {},
     "output_type": "execute_result"
    },
    {
     "data": {
      "image/png": "[encoded data removed]",
      "text/plain": [
       "<Figure size 432x288 with 1 Axes>"
      ]
     },
     "metadata": {
      "needs_background": "light"
     },
     "output_type": "display_data"
    }
   ],
   "source": [
    "polarized_couples['party_affiliation_male'].hist()"
   ]
  },
  {
   "cell_type": "code",
   "execution_count": 125,
   "metadata": {},
   "outputs": [
    {
     "data": {
      "text/plain": [
       "pandas.core.frame.DataFrame"
      ]
     },
     "execution_count": 125,
     "metadata": {},
     "output_type": "execute_result"
    }
   ],
   "source": [
    "type(polarized_couples)"
   ]
  },
  {
   "cell_type": "code",
   "execution_count": 126,
   "metadata": {},
   "outputs": [
    {
     "data": {
      "text/plain": [
       "<matplotlib.axes._subplots.AxesSubplot at 0x7f804f7fef90>"
      ]
     },
     "execution_count": 126,
     "metadata": {},
     "output_type": "execute_result"
    },
    {
     "data": {
      "image/png": "[encoded data removed]",
      "text/plain": [
       "<Figure size 432x288 with 1 Axes>"
      ]
     },
     "metadata": {
      "needs_background": "light"
     },
     "output_type": "display_data"
    }
   ],
   "source": [
    "figs, axes = plt.subplots(nrows=1, ncols=1)\n",
    "sns.barplot(x='party_affiliation_male', y='count', data=polarized_couples.groupby(['party_affiliation_male'])['first_name_male'].agg(['count']).reset_index())"
   ]
  },
  {
   "cell_type": "code",
   "execution_count": null,
   "metadata": {},
   "outputs": [],
   "source": []
  },
  {
   "cell_type": "code",
   "execution_count": 133,
   "metadata": {},
   "outputs": [
    {
     "data": {
      "text/plain": [
       "(1367975, 20)"
      ]
     },
     "execution_count": 133,
     "metadata": {},
     "output_type": "execute_result"
    }
   ],
   "source": [
    "global_df.shape"
   ]
  },
  {
   "cell_type": "code",
   "execution_count": 128,
   "metadata": {},
   "outputs": [
    {
     "data": {
      "text/html": [
       "<div>\n",
       "<style scoped>\n",
       "    .dataframe tbody tr th:only-of-type {\n",
       "        vertical-align: middle;\n",
       "    }\n",
       "\n",
       "    .dataframe tbody tr th {\n",
       "        vertical-align: top;\n",
       "    }\n",
       "\n",
       "    .dataframe thead th {\n",
       "        text-align: right;\n",
       "    }\n",
       "</style>\n",
       "<table border=\"1\" class=\"dataframe\">\n",
       "  <thead>\n",
       "    <tr style=\"text-align: right;\">\n",
       "      <th></th>\n",
       "      <th>county_code</th>\n",
       "      <th>voter_id</th>\n",
       "      <th>last_name</th>\n",
       "      <th>first_name</th>\n",
       "      <th>residence_addr_line_1</th>\n",
       "      <th>residence_addr_line_2</th>\n",
       "      <th>residence_city</th>\n",
       "      <th>residence_zipcode</th>\n",
       "      <th>gender</th>\n",
       "      <th>race</th>\n",
       "      <th>birth_date</th>\n",
       "      <th>registration_date</th>\n",
       "      <th>party_affiliation</th>\n",
       "      <th>precinct</th>\n",
       "      <th>voter_status</th>\n",
       "      <th>age</th>\n",
       "      <th>residence_zipcode_5</th>\n",
       "      <th>residence_zipcode_4</th>\n",
       "      <th>uniq_addr</th>\n",
       "      <th>member_count</th>\n",
       "    </tr>\n",
       "  </thead>\n",
       "  <tbody>\n",
       "    <tr>\n",
       "      <td>0</td>\n",
       "      <td>DAD</td>\n",
       "      <td>100012467</td>\n",
       "      <td>brummitt</td>\n",
       "      <td>marilyn</td>\n",
       "      <td>421  nw 150th st</td>\n",
       "      <td></td>\n",
       "      <td>miami</td>\n",
       "      <td>33168</td>\n",
       "      <td>F</td>\n",
       "      <td>5</td>\n",
       "      <td>04/12/1950</td>\n",
       "      <td>11/05/1975</td>\n",
       "      <td>REP</td>\n",
       "      <td>131.0</td>\n",
       "      <td>ACT</td>\n",
       "      <td>69</td>\n",
       "      <td>33168</td>\n",
       "      <td></td>\n",
       "      <td>421  nw 150th st  miami 33168</td>\n",
       "      <td>1</td>\n",
       "    </tr>\n",
       "    <tr>\n",
       "      <td>1</td>\n",
       "      <td>DAD</td>\n",
       "      <td>100014823</td>\n",
       "      <td>westervelt</td>\n",
       "      <td>erna</td>\n",
       "      <td>11041  sw 124th st</td>\n",
       "      <td></td>\n",
       "      <td>miami</td>\n",
       "      <td>33176</td>\n",
       "      <td>F</td>\n",
       "      <td>5</td>\n",
       "      <td>01/16/1923</td>\n",
       "      <td>02/10/1972</td>\n",
       "      <td>REP</td>\n",
       "      <td>756.0</td>\n",
       "      <td>ACT</td>\n",
       "      <td>96</td>\n",
       "      <td>33176</td>\n",
       "      <td></td>\n",
       "      <td>11041  sw 124th st  miami 33176</td>\n",
       "      <td>1</td>\n",
       "    </tr>\n",
       "    <tr>\n",
       "      <td>2</td>\n",
       "      <td>DAD</td>\n",
       "      <td>100021401</td>\n",
       "      <td>chang</td>\n",
       "      <td>zoila</td>\n",
       "      <td>11047  nw 3rd ter</td>\n",
       "      <td></td>\n",
       "      <td>sweetwater</td>\n",
       "      <td>33172</td>\n",
       "      <td>F</td>\n",
       "      <td>5</td>\n",
       "      <td>06/27/1946</td>\n",
       "      <td>01/21/1976</td>\n",
       "      <td>REP</td>\n",
       "      <td>410.0</td>\n",
       "      <td>ACT</td>\n",
       "      <td>73</td>\n",
       "      <td>33172</td>\n",
       "      <td></td>\n",
       "      <td>11047  nw 3rd ter  sweetwater 33172</td>\n",
       "      <td>1</td>\n",
       "    </tr>\n",
       "    <tr>\n",
       "      <td>3</td>\n",
       "      <td>DAD</td>\n",
       "      <td>100021484</td>\n",
       "      <td>harris</td>\n",
       "      <td>roberta</td>\n",
       "      <td>15605  sw 57th ln</td>\n",
       "      <td></td>\n",
       "      <td>miami</td>\n",
       "      <td>33193</td>\n",
       "      <td>F</td>\n",
       "      <td>5</td>\n",
       "      <td>05/22/1938</td>\n",
       "      <td>01/23/1976</td>\n",
       "      <td>REP</td>\n",
       "      <td>764.0</td>\n",
       "      <td>ACT</td>\n",
       "      <td>81</td>\n",
       "      <td>33193</td>\n",
       "      <td></td>\n",
       "      <td>15605  sw 57th ln  miami 33193</td>\n",
       "      <td>1</td>\n",
       "    </tr>\n",
       "    <tr>\n",
       "      <td>4</td>\n",
       "      <td>DAD</td>\n",
       "      <td>100024033</td>\n",
       "      <td>guillermety</td>\n",
       "      <td>carmen</td>\n",
       "      <td>10951  sw 161st pl</td>\n",
       "      <td></td>\n",
       "      <td>miami</td>\n",
       "      <td>33196</td>\n",
       "      <td>F</td>\n",
       "      <td>5</td>\n",
       "      <td>12/28/1916</td>\n",
       "      <td>08/02/1976</td>\n",
       "      <td>REP</td>\n",
       "      <td>766.0</td>\n",
       "      <td>ACT</td>\n",
       "      <td>102</td>\n",
       "      <td>33196</td>\n",
       "      <td></td>\n",
       "      <td>10951  sw 161st pl  miami 33196</td>\n",
       "      <td>2</td>\n",
       "    </tr>\n",
       "  </tbody>\n",
       "</table>\n",
       "</div>"
      ],
      "text/plain": [
       "  county_code   voter_id    last_name first_name residence_addr_line_1  \\\n",
       "0         DAD  100012467     brummitt    marilyn      421  nw 150th st   \n",
       "1         DAD  100014823   westervelt       erna    11041  sw 124th st   \n",
       "2         DAD  100021401        chang      zoila     11047  nw 3rd ter   \n",
       "3         DAD  100021484       harris    roberta     15605  sw 57th ln   \n",
       "4         DAD  100024033  guillermety     carmen    10951  sw 161st pl   \n",
       "\n",
       "  residence_addr_line_2 residence_city residence_zipcode gender  race  \\\n",
       "0                                miami             33168      F     5   \n",
       "1                                miami             33176      F     5   \n",
       "2                           sweetwater             33172      F     5   \n",
       "3                                miami             33193      F     5   \n",
       "4                                miami             33196      F     5   \n",
       "\n",
       "   birth_date registration_date party_affiliation  precinct voter_status  age  \\\n",
       "0  04/12/1950        11/05/1975               REP     131.0          ACT   69   \n",
       "1  01/16/1923        02/10/1972               REP     756.0          ACT   96   \n",
       "2  06/27/1946        01/21/1976               REP     410.0          ACT   73   \n",
       "3  05/22/1938        01/23/1976               REP     764.0          ACT   81   \n",
       "4  12/28/1916        08/02/1976               REP     766.0          ACT  102   \n",
       "\n",
       "   residence_zipcode_5 residence_zipcode_4  \\\n",
       "0                33168                       \n",
       "1                33176                       \n",
       "2                33172                       \n",
       "3                33193                       \n",
       "4                33196                       \n",
       "\n",
       "                             uniq_addr  member_count  \n",
       "0        421  nw 150th st  miami 33168             1  \n",
       "1      11041  sw 124th st  miami 33176             1  \n",
       "2  11047  nw 3rd ter  sweetwater 33172             1  \n",
       "3       15605  sw 57th ln  miami 33193             1  \n",
       "4      10951  sw 161st pl  miami 33196             2  "
      ]
     },
     "execution_count": 128,
     "metadata": {},
     "output_type": "execute_result"
    }
   ],
   "source": [
    "global_df.head()"
   ]
  },
  {
   "cell_type": "code",
   "execution_count": 129,
   "metadata": {},
   "outputs": [
    {
     "data": {
      "text/html": [
       "<div>\n",
       "<style scoped>\n",
       "    .dataframe tbody tr th:only-of-type {\n",
       "        vertical-align: middle;\n",
       "    }\n",
       "\n",
       "    .dataframe tbody tr th {\n",
       "        vertical-align: top;\n",
       "    }\n",
       "\n",
       "    .dataframe thead th {\n",
       "        text-align: right;\n",
       "    }\n",
       "</style>\n",
       "<table border=\"1\" class=\"dataframe\">\n",
       "  <thead>\n",
       "    <tr style=\"text-align: right;\">\n",
       "      <th></th>\n",
       "      <th>uniq_addr</th>\n",
       "      <th>last_name</th>\n",
       "      <th>member_count</th>\n",
       "    </tr>\n",
       "  </thead>\n",
       "  <tbody>\n",
       "    <tr>\n",
       "      <td>0</td>\n",
       "      <td>1   adams ky  islandia 33035</td>\n",
       "      <td>stephens</td>\n",
       "      <td>1</td>\n",
       "    </tr>\n",
       "    <tr>\n",
       "      <td>1</td>\n",
       "      <td>1   alhambra cir  coral gables 33134</td>\n",
       "      <td>calvillo</td>\n",
       "      <td>1</td>\n",
       "    </tr>\n",
       "    <tr>\n",
       "      <td>2</td>\n",
       "      <td>1   alhambra cir 205 coral gables 33134</td>\n",
       "      <td>yngerto</td>\n",
       "      <td>1</td>\n",
       "    </tr>\n",
       "    <tr>\n",
       "      <td>3</td>\n",
       "      <td>1   alhambra cir 302 coral gables 33134</td>\n",
       "      <td>menendez palacios</td>\n",
       "      <td>1</td>\n",
       "    </tr>\n",
       "    <tr>\n",
       "      <td>4</td>\n",
       "      <td>1   alhambra cir 303 coral gables 33134</td>\n",
       "      <td>morales</td>\n",
       "      <td>1</td>\n",
       "    </tr>\n",
       "  </tbody>\n",
       "</table>\n",
       "</div>"
      ],
      "text/plain": [
       "                                 uniq_addr          last_name  member_count\n",
       "0             1   adams ky  islandia 33035           stephens             1\n",
       "1     1   alhambra cir  coral gables 33134           calvillo             1\n",
       "2  1   alhambra cir 205 coral gables 33134            yngerto             1\n",
       "3  1   alhambra cir 302 coral gables 33134  menendez palacios             1\n",
       "4  1   alhambra cir 303 coral gables 33134            morales             1"
      ]
     },
     "execution_count": 129,
     "metadata": {},
     "output_type": "execute_result"
    }
   ],
   "source": [
    "aggregated_df.head()"
   ]
  },
  {
   "cell_type": "code",
   "execution_count": null,
   "metadata": {},
   "outputs": [],
   "source": []
  },
  {
   "cell_type": "code",
   "execution_count": null,
   "metadata": {},
   "outputs": [],
   "source": []
  },
  {
   "cell_type": "code",
   "execution_count": 130,
   "metadata": {},
   "outputs": [],
   "source": [
    "# global_df['uniq_addr'] = global_df[[]]"
   ]
  },
  {
   "cell_type": "code",
   "execution_count": 131,
   "metadata": {},
   "outputs": [],
   "source": [
    "last_name_counts = global_df.last_name.value_counts().to_dict()\n",
    "last_names = set([name for name in last_name_counts if last_name_counts[name] > 1])"
   ]
  },
  {
   "cell_type": "code",
   "execution_count": 132,
   "metadata": {},
   "outputs": [],
   "source": [
    "aggregated_df = global_df.groupby(['uniq_addr', 'last_name']).agg(['count']).reset_index()\n",
    "aggregated_df.columns = [' '.join(col).strip() for col in aggregated_df.columns.values]"
   ]
  },
  {
   "cell_type": "code",
   "execution_count": 154,
   "metadata": {
    "collapsed": true,
    "jupyter": {
     "outputs_hidden": true
    }
   },
   "outputs": [
    {
     "data": {
      "text/html": [
       "<div>\n",
       "<style scoped>\n",
       "    .dataframe tbody tr th:only-of-type {\n",
       "        vertical-align: middle;\n",
       "    }\n",
       "\n",
       "    .dataframe tbody tr th {\n",
       "        vertical-align: top;\n",
       "    }\n",
       "\n",
       "    .dataframe thead th {\n",
       "        text-align: right;\n",
       "    }\n",
       "</style>\n",
       "<table border=\"1\" class=\"dataframe\">\n",
       "  <thead>\n",
       "    <tr style=\"text-align: right;\">\n",
       "      <th></th>\n",
       "      <th>uniq_addr</th>\n",
       "      <th>last_name</th>\n",
       "      <th>county_code count</th>\n",
       "      <th>voter_id count</th>\n",
       "      <th>first_name count</th>\n",
       "      <th>middle_name count</th>\n",
       "      <th>residence_addr_line_1 count</th>\n",
       "      <th>residence_addr_line_2 count</th>\n",
       "      <th>residence_city count</th>\n",
       "      <th>residence_state count</th>\n",
       "      <th>...</th>\n",
       "      <th>race count</th>\n",
       "      <th>birth_date count</th>\n",
       "      <th>registration_date count</th>\n",
       "      <th>party_affiliation count</th>\n",
       "      <th>precinct count</th>\n",
       "      <th>voter_status count</th>\n",
       "      <th>email_address count</th>\n",
       "      <th>age count</th>\n",
       "      <th>residence_zipcode_5 count</th>\n",
       "      <th>residence_zipcode_4 count</th>\n",
       "    </tr>\n",
       "  </thead>\n",
       "  <tbody>\n",
       "    <tr>\n",
       "      <td>0</td>\n",
       "      <td>1   alhambra cir 201 coral gables 33134</td>\n",
       "      <td>gonzalez del campo</td>\n",
       "      <td>1</td>\n",
       "      <td>1</td>\n",
       "      <td>1</td>\n",
       "      <td>1</td>\n",
       "      <td>1</td>\n",
       "      <td>1</td>\n",
       "      <td>1</td>\n",
       "      <td>1</td>\n",
       "      <td>...</td>\n",
       "      <td>1</td>\n",
       "      <td>1</td>\n",
       "      <td>1</td>\n",
       "      <td>1</td>\n",
       "      <td>1</td>\n",
       "      <td>1</td>\n",
       "      <td>1</td>\n",
       "      <td>1</td>\n",
       "      <td>1</td>\n",
       "      <td>1</td>\n",
       "    </tr>\n",
       "    <tr>\n",
       "      <td>1</td>\n",
       "      <td>1   alhambra cir 303 coral gables 33134</td>\n",
       "      <td>morales</td>\n",
       "      <td>1</td>\n",
       "      <td>1</td>\n",
       "      <td>1</td>\n",
       "      <td>1</td>\n",
       "      <td>1</td>\n",
       "      <td>1</td>\n",
       "      <td>1</td>\n",
       "      <td>1</td>\n",
       "      <td>...</td>\n",
       "      <td>1</td>\n",
       "      <td>1</td>\n",
       "      <td>1</td>\n",
       "      <td>1</td>\n",
       "      <td>1</td>\n",
       "      <td>1</td>\n",
       "      <td>1</td>\n",
       "      <td>1</td>\n",
       "      <td>1</td>\n",
       "      <td>1</td>\n",
       "    </tr>\n",
       "    <tr>\n",
       "      <td>2</td>\n",
       "      <td>1   alhambra cir 306 coral gables 33134</td>\n",
       "      <td>hevia</td>\n",
       "      <td>1</td>\n",
       "      <td>1</td>\n",
       "      <td>1</td>\n",
       "      <td>1</td>\n",
       "      <td>1</td>\n",
       "      <td>1</td>\n",
       "      <td>1</td>\n",
       "      <td>1</td>\n",
       "      <td>...</td>\n",
       "      <td>1</td>\n",
       "      <td>1</td>\n",
       "      <td>1</td>\n",
       "      <td>1</td>\n",
       "      <td>1</td>\n",
       "      <td>1</td>\n",
       "      <td>1</td>\n",
       "      <td>1</td>\n",
       "      <td>1</td>\n",
       "      <td>1</td>\n",
       "    </tr>\n",
       "    <tr>\n",
       "      <td>3</td>\n",
       "      <td>1   alhambra cir 405 coral gables 33134</td>\n",
       "      <td>paul</td>\n",
       "      <td>1</td>\n",
       "      <td>1</td>\n",
       "      <td>1</td>\n",
       "      <td>1</td>\n",
       "      <td>1</td>\n",
       "      <td>1</td>\n",
       "      <td>1</td>\n",
       "      <td>1</td>\n",
       "      <td>...</td>\n",
       "      <td>1</td>\n",
       "      <td>1</td>\n",
       "      <td>1</td>\n",
       "      <td>1</td>\n",
       "      <td>1</td>\n",
       "      <td>1</td>\n",
       "      <td>1</td>\n",
       "      <td>1</td>\n",
       "      <td>1</td>\n",
       "      <td>1</td>\n",
       "    </tr>\n",
       "    <tr>\n",
       "      <td>4</td>\n",
       "      <td>1   alhambra cir 406 coral gables 33134</td>\n",
       "      <td>salup mosquera</td>\n",
       "      <td>1</td>\n",
       "      <td>1</td>\n",
       "      <td>1</td>\n",
       "      <td>1</td>\n",
       "      <td>1</td>\n",
       "      <td>1</td>\n",
       "      <td>1</td>\n",
       "      <td>1</td>\n",
       "      <td>...</td>\n",
       "      <td>1</td>\n",
       "      <td>1</td>\n",
       "      <td>1</td>\n",
       "      <td>1</td>\n",
       "      <td>1</td>\n",
       "      <td>1</td>\n",
       "      <td>1</td>\n",
       "      <td>1</td>\n",
       "      <td>1</td>\n",
       "      <td>1</td>\n",
       "    </tr>\n",
       "  </tbody>\n",
       "</table>\n",
       "<p>5 rows × 22 columns</p>\n",
       "</div>"
      ],
      "text/plain": [
       "                                 uniq_addr           last_name  \\\n",
       "0  1   alhambra cir 201 coral gables 33134  gonzalez del campo   \n",
       "1  1   alhambra cir 303 coral gables 33134             morales   \n",
       "2  1   alhambra cir 306 coral gables 33134               hevia   \n",
       "3  1   alhambra cir 405 coral gables 33134                paul   \n",
       "4  1   alhambra cir 406 coral gables 33134      salup mosquera   \n",
       "\n",
       "   county_code count  voter_id count  first_name count  middle_name count  \\\n",
       "0                  1               1                 1                  1   \n",
       "1                  1               1                 1                  1   \n",
       "2                  1               1                 1                  1   \n",
       "3                  1               1                 1                  1   \n",
       "4                  1               1                 1                  1   \n",
       "\n",
       "   residence_addr_line_1 count  residence_addr_line_2 count  \\\n",
       "0                            1                            1   \n",
       "1                            1                            1   \n",
       "2                            1                            1   \n",
       "3                            1                            1   \n",
       "4                            1                            1   \n",
       "\n",
       "   residence_city count  residence_state count  ...  race count  \\\n",
       "0                     1                      1  ...           1   \n",
       "1                     1                      1  ...           1   \n",
       "2                     1                      1  ...           1   \n",
       "3                     1                      1  ...           1   \n",
       "4                     1                      1  ...           1   \n",
       "\n",
       "   birth_date count  registration_date count  party_affiliation count  \\\n",
       "0                 1                        1                        1   \n",
       "1                 1                        1                        1   \n",
       "2                 1                        1                        1   \n",
       "3                 1                        1                        1   \n",
       "4                 1                        1                        1   \n",
       "\n",
       "   precinct count  voter_status count  email_address count  age count  \\\n",
       "0               1                   1                    1          1   \n",
       "1               1                   1                    1          1   \n",
       "2               1                   1                    1          1   \n",
       "3               1                   1                    1          1   \n",
       "4               1                   1                    1          1   \n",
       "\n",
       "   residence_zipcode_5 count  residence_zipcode_4 count  \n",
       "0                          1                          1  \n",
       "1                          1                          1  \n",
       "2                          1                          1  \n",
       "3                          1                          1  \n",
       "4                          1                          1  \n",
       "\n",
       "[5 rows x 22 columns]"
      ]
     },
     "execution_count": 154,
     "metadata": {},
     "output_type": "execute_result"
    }
   ],
   "source": [
    "aggregated_df.head()"
   ]
  },
  {
   "cell_type": "code",
   "execution_count": 155,
   "metadata": {},
   "outputs": [
    {
     "data": {
      "text/plain": [
       "(633397, 22)"
      ]
     },
     "execution_count": 155,
     "metadata": {},
     "output_type": "execute_result"
    }
   ],
   "source": [
    "aggregated_df[aggregated_df['first_name count'] == 1].shape"
   ]
  },
  {
   "cell_type": "code",
   "execution_count": 156,
   "metadata": {},
   "outputs": [
    {
     "data": {
      "text/plain": [
       "(941446, 22)"
      ]
     },
     "execution_count": 156,
     "metadata": {},
     "output_type": "execute_result"
    }
   ],
   "source": [
    "global_df.shape"
   ]
  },
  {
   "cell_type": "code",
   "execution_count": 88,
   "metadata": {},
   "outputs": [],
   "source": [
    "lower_age_threshold = 30\n",
    "upper_age_threshold = 50\n",
    "global_df = global_df[(global_df['age'] >= lower_age_threshold) & (global_df['age'] <= upper_age_threshold)]"
   ]
  },
  {
   "cell_type": "code",
   "execution_count": 89,
   "metadata": {},
   "outputs": [],
   "source": [
    "sibling_age_threshold = 30"
   ]
  },
  {
   "cell_type": "code",
   "execution_count": 90,
   "metadata": {},
   "outputs": [
    {
     "data": {
      "text/plain": [
       "(503667, 17)"
      ]
     },
     "execution_count": 90,
     "metadata": {},
     "output_type": "execute_result"
    }
   ],
   "source": [
    "global_df.shape"
   ]
  },
  {
   "cell_type": "code",
   "execution_count": 91,
   "metadata": {},
   "outputs": [],
   "source": [
    "temp = global_df.groupby(['last_name', 'residence_addr_line_1', 'residence_city', 'residence_zipcode']).agg(['count']).reset_index()"
   ]
  },
  {
   "cell_type": "code",
   "execution_count": 92,
   "metadata": {},
   "outputs": [],
   "source": [
    "temp.columns = [' '.join(col).strip() for col in temp.columns.values]"
   ]
  },
  {
   "cell_type": "code",
   "execution_count": 93,
   "metadata": {},
   "outputs": [
    {
     "data": {
      "text/plain": [
       "Index(['last_name', 'residence_addr_line_1', 'residence_city',\n",
       "       'residence_zipcode', 'county_code count', 'voter_id count',\n",
       "       'first_name count', 'residence_addr_line_2 count',\n",
       "       'residence_state count', 'gender count', 'race count',\n",
       "       'birth_date count', 'registration_date count',\n",
       "       'party_affiliation count', 'precinct count', 'voter_status count',\n",
       "       'age count'],\n",
       "      dtype='object')"
      ]
     },
     "execution_count": 93,
     "metadata": {},
     "output_type": "execute_result"
    }
   ],
   "source": [
    "temp.columns"
   ]
  },
  {
   "cell_type": "code",
   "execution_count": 94,
   "metadata": {},
   "outputs": [
    {
     "data": {
      "text/plain": [
       "(438946, 17)"
      ]
     },
     "execution_count": 94,
     "metadata": {},
     "output_type": "execute_result"
    }
   ],
   "source": [
    "temp[temp['first_name count'] == 1].shape"
   ]
  },
  {
   "cell_type": "code",
   "execution_count": 95,
   "metadata": {},
   "outputs": [
    {
     "data": {
      "text/plain": [
       "(470610, 17)"
      ]
     },
     "execution_count": 95,
     "metadata": {},
     "output_type": "execute_result"
    }
   ],
   "source": [
    "temp.shape"
   ]
  },
  {
   "cell_type": "code",
   "execution_count": 98,
   "metadata": {},
   "outputs": [
    {
     "data": {
      "text/plain": [
       "(0, 17)"
      ]
     },
     "execution_count": 98,
     "metadata": {},
     "output_type": "execute_result"
    }
   ],
   "source": [
    "global_df[global_df['residence_addr_line_1'] == ''].shape"
   ]
  },
  {
   "cell_type": "code",
   "execution_count": null,
   "metadata": {},
   "outputs": [],
   "source": []
  },
  {
   "cell_type": "code",
   "execution_count": null,
   "metadata": {},
   "outputs": [],
   "source": []
  },
  {
   "cell_type": "code",
   "execution_count": 179,
   "metadata": {},
   "outputs": [],
   "source": [
    "# c = pd.DataFrame({\"c\": global_df['residence_addr_line_1'].apply(lambda x: re.sub(\"[^0-9a-zA-Z\\s]+\", '', x))})"
   ]
  },
  {
   "cell_type": "code",
   "execution_count": 180,
   "metadata": {},
   "outputs": [],
   "source": []
  },
  {
   "cell_type": "code",
   "execution_count": 182,
   "metadata": {},
   "outputs": [],
   "source": []
  },
  {
   "cell_type": "code",
   "execution_count": 183,
   "metadata": {},
   "outputs": [],
   "source": []
  },
  {
   "cell_type": "code",
   "execution_count": 186,
   "metadata": {},
   "outputs": [
    {
     "data": {
      "text/plain": [
       "(89508, 2)"
      ]
     },
     "execution_count": 186,
     "metadata": {},
     "output_type": "execute_result"
    }
   ],
   "source": []
  },
  {
   "cell_type": "code",
   "execution_count": 185,
   "metadata": {},
   "outputs": [
    {
     "data": {
      "text/plain": [
       "(142846, 2)"
      ]
     },
     "execution_count": 185,
     "metadata": {},
     "output_type": "execute_result"
    }
   ],
   "source": []
  },
  {
   "cell_type": "code",
   "execution_count": null,
   "metadata": {},
   "outputs": [],
   "source": []
  },
  {
   "cell_type": "code",
   "execution_count": 160,
   "metadata": {},
   "outputs": [],
   "source": [
    "t1 = global_df['last_name'].value_counts()"
   ]
  },
  {
   "cell_type": "code",
   "execution_count": 164,
   "metadata": {},
   "outputs": [],
   "source": [
    "a = global_df.groupby(['last_name'])['last_name'].agg(['count']).reset_index()"
   ]
  },
  {
   "cell_type": "code",
   "execution_count": 168,
   "metadata": {},
   "outputs": [
    {
     "data": {
      "text/plain": [
       "(142846, 2)"
      ]
     },
     "execution_count": 168,
     "metadata": {},
     "output_type": "execute_result"
    }
   ],
   "source": [
    "a.shape"
   ]
  },
  {
   "cell_type": "code",
   "execution_count": 176,
   "metadata": {},
   "outputs": [
    {
     "data": {
      "text/plain": [
       "(53338, 2)"
      ]
     },
     "execution_count": 176,
     "metadata": {},
     "output_type": "execute_result"
    }
   ],
   "source": [
    "a[a['count'] > 1].shape"
   ]
  },
  {
   "cell_type": "code",
   "execution_count": 170,
   "metadata": {},
   "outputs": [],
   "source": [
    "b = global_df.groupby(['residence_addr_line_1'])['residence_addr_line_1'].agg(['count']).reset_index()"
   ]
  },
  {
   "cell_type": "code",
   "execution_count": 171,
   "metadata": {},
   "outputs": [
    {
     "data": {
      "text/html": [
       "<div>\n",
       "<style scoped>\n",
       "    .dataframe tbody tr th:only-of-type {\n",
       "        vertical-align: middle;\n",
       "    }\n",
       "\n",
       "    .dataframe tbody tr th {\n",
       "        vertical-align: top;\n",
       "    }\n",
       "\n",
       "    .dataframe thead th {\n",
       "        text-align: right;\n",
       "    }\n",
       "</style>\n",
       "<table border=\"1\" class=\"dataframe\">\n",
       "  <thead>\n",
       "    <tr style=\"text-align: right;\">\n",
       "      <th></th>\n",
       "      <th>residence_addr_line_1</th>\n",
       "      <th>count</th>\n",
       "    </tr>\n",
       "  </thead>\n",
       "  <tbody>\n",
       "    <tr>\n",
       "      <td>0</td>\n",
       "      <td>1   alhambra cir</td>\n",
       "      <td>31</td>\n",
       "    </tr>\n",
       "    <tr>\n",
       "      <td>1</td>\n",
       "      <td>1   andalusia ave</td>\n",
       "      <td>139</td>\n",
       "    </tr>\n",
       "    <tr>\n",
       "      <td>2</td>\n",
       "      <td>1   arvida pkwy</td>\n",
       "      <td>2</td>\n",
       "    </tr>\n",
       "    <tr>\n",
       "      <td>3</td>\n",
       "      <td>1   casuarina concourse</td>\n",
       "      <td>1</td>\n",
       "    </tr>\n",
       "    <tr>\n",
       "      <td>4</td>\n",
       "      <td>1   century ln</td>\n",
       "      <td>32</td>\n",
       "    </tr>\n",
       "  </tbody>\n",
       "</table>\n",
       "</div>"
      ],
      "text/plain": [
       "     residence_addr_line_1  count\n",
       "0         1   alhambra cir     31\n",
       "1        1   andalusia ave    139\n",
       "2          1   arvida pkwy      2\n",
       "3  1   casuarina concourse      1\n",
       "4           1   century ln     32"
      ]
     },
     "execution_count": 171,
     "metadata": {},
     "output_type": "execute_result"
    }
   ],
   "source": [
    "b.head()"
   ]
  },
  {
   "cell_type": "code",
   "execution_count": 172,
   "metadata": {},
   "outputs": [
    {
     "data": {
      "text/html": [
       "<div>\n",
       "<style scoped>\n",
       "    .dataframe tbody tr th:only-of-type {\n",
       "        vertical-align: middle;\n",
       "    }\n",
       "\n",
       "    .dataframe tbody tr th {\n",
       "        vertical-align: top;\n",
       "    }\n",
       "\n",
       "    .dataframe thead th {\n",
       "        text-align: right;\n",
       "    }\n",
       "</style>\n",
       "<table border=\"1\" class=\"dataframe\">\n",
       "  <thead>\n",
       "    <tr style=\"text-align: right;\">\n",
       "      <th></th>\n",
       "      <th>residence_addr_line_1</th>\n",
       "      <th>count</th>\n",
       "    </tr>\n",
       "  </thead>\n",
       "  <tbody>\n",
       "    <tr>\n",
       "      <td>204996</td>\n",
       "      <td>2700  nw 87th ave</td>\n",
       "      <td>2920</td>\n",
       "    </tr>\n",
       "    <tr>\n",
       "      <td>205042</td>\n",
       "      <td>2700 d nw 87th ave</td>\n",
       "      <td>1310</td>\n",
       "    </tr>\n",
       "    <tr>\n",
       "      <td>52301</td>\n",
       "      <td>1231   dickinson dr</td>\n",
       "      <td>454</td>\n",
       "    </tr>\n",
       "    <tr>\n",
       "      <td>164258</td>\n",
       "      <td>19800  sw 180th ave</td>\n",
       "      <td>440</td>\n",
       "    </tr>\n",
       "    <tr>\n",
       "      <td>155095</td>\n",
       "      <td>1900  n bayshore dr</td>\n",
       "      <td>424</td>\n",
       "    </tr>\n",
       "    <tr>\n",
       "      <td>...</td>\n",
       "      <td>...</td>\n",
       "      <td>...</td>\n",
       "    </tr>\n",
       "    <tr>\n",
       "      <td>176865</td>\n",
       "      <td>2111  ne 210th st</td>\n",
       "      <td>1</td>\n",
       "    </tr>\n",
       "    <tr>\n",
       "      <td>176868</td>\n",
       "      <td>2111  ne 212th st</td>\n",
       "      <td>1</td>\n",
       "    </tr>\n",
       "    <tr>\n",
       "      <td>176869</td>\n",
       "      <td>2111  ne 37th rd</td>\n",
       "      <td>1</td>\n",
       "    </tr>\n",
       "    <tr>\n",
       "      <td>176871</td>\n",
       "      <td>2111  ne 40th ave</td>\n",
       "      <td>1</td>\n",
       "    </tr>\n",
       "    <tr>\n",
       "      <td>376642</td>\n",
       "      <td>9999  sw 89th ct</td>\n",
       "      <td>1</td>\n",
       "    </tr>\n",
       "  </tbody>\n",
       "</table>\n",
       "<p>376643 rows × 2 columns</p>\n",
       "</div>"
      ],
      "text/plain": [
       "       residence_addr_line_1  count\n",
       "204996     2700  nw 87th ave   2920\n",
       "205042    2700 d nw 87th ave   1310\n",
       "52301    1231   dickinson dr    454\n",
       "164258   19800  sw 180th ave    440\n",
       "155095   1900  n bayshore dr    424\n",
       "...                      ...    ...\n",
       "176865     2111  ne 210th st      1\n",
       "176868     2111  ne 212th st      1\n",
       "176869      2111  ne 37th rd      1\n",
       "176871     2111  ne 40th ave      1\n",
       "376642      9999  sw 89th ct      1\n",
       "\n",
       "[376643 rows x 2 columns]"
      ]
     },
     "execution_count": 172,
     "metadata": {},
     "output_type": "execute_result"
    }
   ],
   "source": [
    "b.sort_values(by='count', ascending=False)"
   ]
  },
  {
   "cell_type": "code",
   "execution_count": 173,
   "metadata": {},
   "outputs": [
    {
     "data": {
      "text/plain": [
       "(169775, 2)"
      ]
     },
     "execution_count": 173,
     "metadata": {},
     "output_type": "execute_result"
    }
   ],
   "source": [
    "b[b['count'] == 1].shape"
   ]
  },
  {
   "cell_type": "code",
   "execution_count": 159,
   "metadata": {},
   "outputs": [
    {
     "data": {
      "text/plain": [
       "2700  nw 87th ave  doral 33172                 2919\n",
       "2700 d nw 87th ave  doral 33172                1306\n",
       "2700 c nw 87th ave  doral 33172                 420\n",
       "2700 f nw 87th ave  doral 33172                 412\n",
       "15800  nw 42nd ave  miami gardens 33054         300\n",
       "                                               ... \n",
       "701   swan ave  miami springs 33166               1\n",
       "1017  nw 132nd ave w  miami 33182                 1\n",
       "7929   west dr apt 1002 n bay village 33141       1\n",
       "13218  nw 4th ter  miami 33182                    1\n",
       "7730   camino real f108 miami 33143               1\n",
       "Name: uniq_addr, Length: 584212, dtype: int64"
      ]
     },
     "execution_count": 159,
     "metadata": {},
     "output_type": "execute_result"
    }
   ],
   "source": [
    "global_df['residence_addr_line_1'].value_counts()"
   ]
  },
  {
   "cell_type": "code",
   "execution_count": 174,
   "metadata": {},
   "outputs": [
    {
     "data": {
      "text/plain": [
       "(376643, 2)"
      ]
     },
     "execution_count": 174,
     "metadata": {},
     "output_type": "execute_result"
    }
   ],
   "source": [
    "b.shape"
   ]
  },
  {
   "cell_type": "code",
   "execution_count": null,
   "metadata": {},
   "outputs": [],
   "source": []
  }
 ],
 "metadata": {
  "kernelspec": {
   "display_name": "Python 3",
   "language": "python",
   "name": "python3"
  },
  "language_info": {
   "codemirror_mode": {
    "name": "ipython",
    "version": 3
   },
   "file_extension": ".py",
   "mimetype": "text/x-python",
   "name": "python",
   "nbconvert_exporter": "python",
   "pygments_lexer": "ipython3",
   "version": "3.7.4"
  }
 },
 "nbformat": 4,
 "nbformat_minor": 4
}
