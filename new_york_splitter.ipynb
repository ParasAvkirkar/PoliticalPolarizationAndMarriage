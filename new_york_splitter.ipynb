{
 "cells": [
  {
   "cell_type": "code",
   "execution_count": 1,
   "metadata": {},
   "outputs": [],
   "source": [
    "import pandas as pd\n",
    "import random\n",
    "import numpy as np\n",
    "import time\n",
    "import math\n",
    "import sys\n",
    "import matplotlib.patches as mpatches\n",
    "import matplotlib.pyplot as plt\n",
    "import seaborn as sns\n",
    "import xgboost as xgb\n",
    "import datatable as dt\n",
    "\n",
    "from tqdm import tqdm\n",
    "from xgboost import plot_tree\n",
    "from os import walk\n",
    "from os import listdir\n",
    "from os.path import isfile, join\n",
    "from scipy.spatial.distance import euclidean, pdist, squareform\n",
    "from scipy.stats import skew\n",
    "from scipy.special import expit as sigmoid\n",
    "from scipy.cluster.hierarchy import fclusterdata\n",
    "from pandas.plotting import autocorrelation_plot\n",
    "from sklearn.model_selection import train_test_split\n",
    "from sklearn.linear_model import LogisticRegression\n",
    "from sklearn.linear_model import LinearRegression\n",
    "from sklearn.ensemble import RandomForestClassifier\n",
    "from sklearn import tree\n",
    "from sklearn.metrics import precision_recall_fscore_support\n",
    "from sklearn import preprocessing\n",
    "from sklearn.metrics import confusion_matrix\n",
    "from sklearn.metrics import roc_auc_score\n",
    "from sklearn.utils import resample\n",
    "from imblearn.over_sampling import SMOTE, ADASYN\n",
    "from imblearn.under_sampling import ClusterCentroids\n",
    "from imblearn.under_sampling import RandomUnderSampler\n",
    "from sklearn.preprocessing import LabelEncoder\n",
    "from sklearn.metrics import pairwise_distances\n",
    "from sklearn.cluster import AgglomerativeClustering\n",
    "from sklearn.manifold import TSNE\n",
    "from sklearn.metrics import mean_absolute_error\n",
    "from sklearn.metrics import mean_squared_error"
   ]
  },
  {
   "cell_type": "code",
   "execution_count": 2,
   "metadata": {},
   "outputs": [],
   "source": [
    "ny_cols = [\"last_name\", \"first_name\", \"middle_name\", \"name_suffix\", \"house_number\", \"house_fractional_addr\", \"residence_apartment\", \"residence_pre_street_direction\", \"residence_street_name\", \"residence_post_street_direction\", \"residence_city\", \"residence_zip_code_5\", \"residence_zip_code_4\", \"mail_addr1\", \"mail_addr2\", \"mail_addr3\", \"mail_addr4\", \"dob\", \"gender\", \"political_party\", \"other_party\", \"county_code\", \"election_district\", \"legislative_district\", \"town_city\", \"ward\", \"congressional_district\", \"senate_district\", \"assembly_district\", \"last_date_voted\", \"last_year_voted\", \"last_county_voted\", \"last_registered_address\", \"last_registered_name\", \"county_voter_registration_no\", \"application_date\", \"application_source\", \"identification_required_flag\", \"identification_verification_requirement_met_flag\", \"voter_status_codes\", \"status_reason_codes\", \"inactive_voter_date\", \"purge_voter_date\", \"unique_nys_voter_id\", \"voter_history\"]\n"
   ]
  },
  {
   "cell_type": "code",
   "execution_count": 3,
   "metadata": {},
   "outputs": [],
   "source": [
    "selective_headers = [\n",
    "    'first_name',\n",
    "    'last_name',\n",
    "    'dob',\n",
    "    'county_code',\n",
    "    'house_number',\n",
    "    'residence_apartment',\n",
    "    'residence_street_name',\n",
    "    'residence_city',\n",
    "    'residence_zip_code_5',\n",
    "    'gender',\n",
    "    'unique_nys_voter_id',\n",
    "    'political_party',\n",
    "    'voter_status_codes'\n",
    "]\n",
    "\n",
    "# precinct and race was not found"
   ]
  },
  {
   "cell_type": "code",
   "execution_count": 4,
   "metadata": {},
   "outputs": [],
   "source": [
    "new_york_path = \"data/NewYork\""
   ]
  },
  {
   "cell_type": "code",
   "execution_count": null,
   "metadata": {},
   "outputs": [],
   "source": []
  },
  {
   "cell_type": "code",
   "execution_count": 5,
   "metadata": {},
   "outputs": [
    {
     "name": "stderr",
     "output_type": "stream",
     "text": [
      "/home/rahullachh/anaconda3/lib/python3.7/site-packages/IPython/core/interactiveshell.py:3058: DtypeWarning: Columns (4) have mixed types. Specify dtype option on import or set low_memory=False.\n",
      "  interactivity=interactivity, compiler=compiler, result=result)\n"
     ]
    }
   ],
   "source": [
    "global_df = pd.read_csv(new_york_path + \"/AllNYSVoters.txt\", encoding='iso-8859-1', names=ny_cols, usecols=selective_headers)"
   ]
  },
  {
   "cell_type": "code",
   "execution_count": 6,
   "metadata": {},
   "outputs": [
    {
     "data": {
      "text/plain": [
       "last_name                    203\n",
       "first_name                    80\n",
       "house_number               30704\n",
       "residence_apartment      9512120\n",
       "residence_street_name       1346\n",
       "residence_city                 0\n",
       "residence_zip_code_5          16\n",
       "dob                            0\n",
       "gender                         0\n",
       "political_party                0\n",
       "county_code                    0\n",
       "voter_status_codes             0\n",
       "unique_nys_voter_id            0\n",
       "dtype: int64"
      ]
     },
     "execution_count": 6,
     "metadata": {},
     "output_type": "execute_result"
    }
   ],
   "source": [
    "global_df.isnull().sum()"
   ]
  },
  {
   "cell_type": "code",
   "execution_count": null,
   "metadata": {},
   "outputs": [],
   "source": []
  },
  {
   "cell_type": "code",
   "execution_count": 7,
   "metadata": {},
   "outputs": [],
   "source": [
    "global_df = global_df.dropna()"
   ]
  },
  {
   "cell_type": "code",
   "execution_count": 8,
   "metadata": {},
   "outputs": [
    {
     "data": {
      "text/plain": [
       "last_name                 object\n",
       "first_name                object\n",
       "house_number              object\n",
       "residence_apartment       object\n",
       "residence_street_name     object\n",
       "residence_city            object\n",
       "residence_zip_code_5     float64\n",
       "dob                        int64\n",
       "gender                    object\n",
       "political_party           object\n",
       "county_code                int64\n",
       "voter_status_codes        object\n",
       "unique_nys_voter_id       object\n",
       "dtype: object"
      ]
     },
     "execution_count": 8,
     "metadata": {},
     "output_type": "execute_result"
    }
   ],
   "source": [
    "global_df.dtypes"
   ]
  },
  {
   "cell_type": "code",
   "execution_count": 9,
   "metadata": {},
   "outputs": [],
   "source": [
    "str_cols_lower = [\n",
    "    'last_name',\n",
    "    'first_name',\n",
    "    'house_number',\n",
    "    'residence_apartment',\n",
    "    'residence_street_name',\n",
    "    'residence_city'\n",
    "]\n",
    "\n",
    "str_cols_upper = [\n",
    "    'gender',\n",
    "    'political_party',\n",
    "    'voter_status_codes'\n",
    "]"
   ]
  },
  {
   "cell_type": "code",
   "execution_count": 10,
   "metadata": {},
   "outputs": [],
   "source": [
    "for col in str_cols_lower:\n",
    "    global_df[col] = global_df[col].apply(lambda x: str(x).strip().lower())\n",
    "for col in str_cols_upper:\n",
    "    global_df[col] = global_df[col].apply(lambda x: str(x).strip().upper())"
   ]
  },
  {
   "cell_type": "code",
   "execution_count": 11,
   "metadata": {},
   "outputs": [],
   "source": [
    "from datetime import datetime\n",
    "from datetime import date\n",
    "\n",
    "# This is different from Florida Heuristic\n",
    "def calculate_age(born):\n",
    "    born = datetime.strptime(str(born), \"%Y%m%d\").date()\n",
    "    today = datetime.strptime(\"20121231\", \"%Y%m%d\").date()\n",
    "    return today.year - born.year - ((today.month, today.day) < (born.month, born.day))"
   ]
  },
  {
   "cell_type": "code",
   "execution_count": 12,
   "metadata": {},
   "outputs": [],
   "source": [
    "global_df['age'] = global_df['dob'].apply(calculate_age)"
   ]
  },
  {
   "cell_type": "code",
   "execution_count": 13,
   "metadata": {},
   "outputs": [],
   "source": [
    "global_df['uniq_addr'] = global_df[['house_number', 'residence_apartment', 'residence_street_name', 'residence_city', 'residence_zip_code_5']].apply(lambda x: ' '.join([str(y) for y in x]), axis=1)"
   ]
  },
  {
   "cell_type": "code",
   "execution_count": 14,
   "metadata": {},
   "outputs": [],
   "source": [
    "import re\n",
    "global_df['uniq_addr'] = global_df['uniq_addr'].apply(lambda x: re.sub(\"[^0-9a-zA-Z\\s]+\", '', x))"
   ]
  },
  {
   "cell_type": "code",
   "execution_count": 15,
   "metadata": {},
   "outputs": [],
   "source": [
    "global_df['uniq_addr'] = global_df['uniq_addr'].apply(lambda x: x.strip())"
   ]
  },
  {
   "cell_type": "code",
   "execution_count": 17,
   "metadata": {},
   "outputs": [
    {
     "data": {
      "text/plain": [
       "(5458530, 15)"
      ]
     },
     "execution_count": 17,
     "metadata": {},
     "output_type": "execute_result"
    }
   ],
   "source": [
    "global_df.shape"
   ]
  },
  {
   "cell_type": "code",
   "execution_count": 18,
   "metadata": {},
   "outputs": [],
   "source": [
    "county_codes = list(global_df[\"county_code\"].unique())"
   ]
  },
  {
   "cell_type": "markdown",
   "metadata": {},
   "source": [
    "## Splitting data into mulitple partitions based on county codes"
   ]
  },
  {
   "cell_type": "code",
   "execution_count": 20,
   "metadata": {},
   "outputs": [],
   "source": [
    "import os\n",
    "\n",
    "if not os.path.exists(new_york_path + \"/20121231_county_files\"):\n",
    "    os.makedirs(new_york_path + \"/20121231_county_files\")"
   ]
  },
  {
   "cell_type": "code",
   "execution_count": 21,
   "metadata": {},
   "outputs": [
    {
     "name": "stderr",
     "output_type": "stream",
     "text": [
      "100%|██████████| 62/62 [01:01<00:00,  1.01it/s]\n"
     ]
    }
   ],
   "source": [
    "# print(\"Total counties to process: \" + str(len(county_codes)))\n",
    "for code in tqdm(county_codes):\n",
    "    county_df = global_df[global_df['county_code'] == code]\n",
    "    file_path = new_york_path + \"/20121231_county_files/county_\" + \"20121231\"  + \"_\" + str(code) + \".csv\"\n",
    "    county_df.to_csv(file_path, sep=\"\\t\", index=False)"
   ]
  },
  {
   "cell_type": "code",
   "execution_count": 22,
   "metadata": {},
   "outputs": [
    {
     "data": {
      "text/html": [
       "<div>\n",
       "<style scoped>\n",
       "    .dataframe tbody tr th:only-of-type {\n",
       "        vertical-align: middle;\n",
       "    }\n",
       "\n",
       "    .dataframe tbody tr th {\n",
       "        vertical-align: top;\n",
       "    }\n",
       "\n",
       "    .dataframe thead th {\n",
       "        text-align: right;\n",
       "    }\n",
       "</style>\n",
       "<table border=\"1\" class=\"dataframe\">\n",
       "  <thead>\n",
       "    <tr style=\"text-align: right;\">\n",
       "      <th></th>\n",
       "      <th>dob</th>\n",
       "      <th>age</th>\n",
       "    </tr>\n",
       "  </thead>\n",
       "  <tbody>\n",
       "    <tr>\n",
       "      <td>8</td>\n",
       "      <td>19591230</td>\n",
       "      <td>53</td>\n",
       "    </tr>\n",
       "    <tr>\n",
       "      <td>17</td>\n",
       "      <td>19440226</td>\n",
       "      <td>68</td>\n",
       "    </tr>\n",
       "    <tr>\n",
       "      <td>19</td>\n",
       "      <td>19440206</td>\n",
       "      <td>68</td>\n",
       "    </tr>\n",
       "    <tr>\n",
       "      <td>21</td>\n",
       "      <td>19870214</td>\n",
       "      <td>25</td>\n",
       "    </tr>\n",
       "    <tr>\n",
       "      <td>25</td>\n",
       "      <td>19800521</td>\n",
       "      <td>32</td>\n",
       "    </tr>\n",
       "  </tbody>\n",
       "</table>\n",
       "</div>"
      ],
      "text/plain": [
       "         dob  age\n",
       "8   19591230   53\n",
       "17  19440226   68\n",
       "19  19440206   68\n",
       "21  19870214   25\n",
       "25  19800521   32"
      ]
     },
     "execution_count": 22,
     "metadata": {},
     "output_type": "execute_result"
    }
   ],
   "source": [
    "global_df[[\"dob\", \"age\"]].head()"
   ]
  },
  {
   "cell_type": "code",
   "execution_count": null,
   "metadata": {},
   "outputs": [],
   "source": []
  }
 ],
 "metadata": {
  "kernelspec": {
   "display_name": "Python 3",
   "language": "python",
   "name": "python3"
  },
  "language_info": {
   "codemirror_mode": {
    "name": "ipython",
    "version": 3
   },
   "file_extension": ".py",
   "mimetype": "text/x-python",
   "name": "python",
   "nbconvert_exporter": "python",
   "pygments_lexer": "ipython3",
   "version": "3.7.4"
  }
 },
 "nbformat": 4,
 "nbformat_minor": 4
}
