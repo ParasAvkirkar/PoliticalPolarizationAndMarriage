{
 "cells": [
  {
   "cell_type": "code",
   "execution_count": 1,
   "metadata": {},
   "outputs": [],
   "source": [
    "import pandas as pd\n",
    "import random\n",
    "import numpy as np\n",
    "import math\n",
    "import sys\n",
    "import matplotlib.patches as mpatches\n",
    "import matplotlib.pyplot as plt\n",
    "import seaborn as sns\n",
    "import graphviz\n",
    "import xgboost as xgb\n",
    "\n",
    "from xgboost import plot_tree\n",
    "from os import walk\n",
    "from os import listdir\n",
    "from os.path import isfile, join\n",
    "from scipy.spatial.distance import euclidean, pdist, squareform\n",
    "from scipy.stats import skew\n",
    "from scipy.special import expit as sigmoid\n",
    "from scipy.cluster.hierarchy import fclusterdata\n",
    "from pandas.plotting import autocorrelation_plot\n",
    "from sklearn.model_selection import train_test_split\n",
    "from sklearn.linear_model import LogisticRegression\n",
    "from sklearn.linear_model import LinearRegression\n",
    "from sklearn.ensemble import RandomForestClassifier\n",
    "from sklearn import tree\n",
    "from sklearn.metrics import precision_recall_fscore_support\n",
    "from sklearn import preprocessing\n",
    "from sklearn.metrics import confusion_matrix\n",
    "from sklearn.metrics import roc_auc_score\n",
    "from sklearn.utils import resample\n",
    "from imblearn.over_sampling import SMOTE, ADASYN\n",
    "from imblearn.under_sampling import ClusterCentroids\n",
    "from imblearn.under_sampling import RandomUnderSampler\n",
    "from sklearn.preprocessing import LabelEncoder\n",
    "from sklearn.metrics import pairwise_distances\n",
    "from sklearn.cluster import AgglomerativeClustering\n",
    "from sklearn.manifold import TSNE\n",
    "from sklearn.metrics import mean_absolute_error\n",
    "from sklearn.metrics import mean_squared_error"
   ]
  },
  {
   "cell_type": "code",
   "execution_count": 2,
   "metadata": {},
   "outputs": [],
   "source": [
    "DATA_PATH = \"data\""
   ]
  },
  {
   "cell_type": "code",
   "execution_count": 3,
   "metadata": {},
   "outputs": [],
   "source": [
    "REGISTRATION_PATH = \"Voter_Registration_{0}/{1}_VoterDetail\"\n",
    "HISTORY_PATH = \"Voter_History_{0}/{1}_VoterHistory\""
   ]
  },
  {
   "cell_type": "code",
   "execution_count": 4,
   "metadata": {},
   "outputs": [],
   "source": [
    "date = '20190813'"
   ]
  },
  {
   "cell_type": "markdown",
   "metadata": {},
   "source": [
    "## Registration Analysis"
   ]
  },
  {
   "cell_type": "code",
   "execution_count": 8,
   "metadata": {},
   "outputs": [],
   "source": [
    "registration_path = \"/\".join([DATA_PATH, REGISTRATION_PATH.format(str(date), str(date))])"
   ]
  },
  {
   "cell_type": "code",
   "execution_count": 9,
   "metadata": {},
   "outputs": [],
   "source": [
    "county_files = []\n",
    "for f in listdir(registration_path):\n",
    "    if isfile(registration_path + \"/\" + f):\n",
    "        county_files.append(registration_path + \"/\" + f)"
   ]
  },
  {
   "cell_type": "code",
   "execution_count": 10,
   "metadata": {},
   "outputs": [],
   "source": [
    "county = \"DAD\"\n",
    "county_path = \"\"\n",
    "for c in county_files:\n",
    "    if (county + \"_\") in c:\n",
    "        county_path = c\n",
    "        break"
   ]
  },
  {
   "cell_type": "code",
   "execution_count": 11,
   "metadata": {},
   "outputs": [
    {
     "data": {
      "text/plain": [
       "'data/Voter_Registration_20190813/20190813_VoterDetail/DAD_20190813.txt'"
      ]
     },
     "execution_count": 11,
     "metadata": {},
     "output_type": "execute_result"
    }
   ],
   "source": [
    "county_path"
   ]
  },
  {
   "cell_type": "code",
   "execution_count": 12,
   "metadata": {},
   "outputs": [],
   "source": [
    "registration_file_headers = [\n",
    "    'county_code',\n",
    "    'voter_id',\n",
    "    'last_name',\n",
    "    'suffix',\n",
    "    'first_name',\n",
    "    'middle_name',\n",
    "    'requested_public_records_exemption',\n",
    "    'residence_addr_line_1',\n",
    "    'residence_addr_line_2',\n",
    "    'residence_city',\n",
    "    'residence_state',\n",
    "    'residence_zipcode',\n",
    "    'mail_addr_line_1',\n",
    "    'mail_addr_line_2',\n",
    "    'mail_addr_line_3',\n",
    "    'mail_city',\n",
    "    'mail_state',\n",
    "    'mail_zipcode',\n",
    "    'mail_country',\n",
    "    'gender',\n",
    "    'race',\n",
    "    'birth_date',\n",
    "    'registration_date',\n",
    "    'party_affiliation',\n",
    "    'precinct',\n",
    "    'precinct_group',\n",
    "    'precinct_split',\n",
    "    'precinct_suffix',\n",
    "    'voter_status',\n",
    "    'congressional_district',\n",
    "    'house_district',\n",
    "    'senate_district',\n",
    "    'county_commission_district',\n",
    "    'school_board_district',\n",
    "    'daytime_area_code',\n",
    "    'daytime_phone_no',\n",
    "    'daytime_phone_extension',\n",
    "    'email_address'\n",
    "]"
   ]
  },
  {
   "cell_type": "code",
   "execution_count": 13,
   "metadata": {},
   "outputs": [
    {
     "data": {
      "text/plain": [
       "38"
      ]
     },
     "execution_count": 13,
     "metadata": {},
     "output_type": "execute_result"
    }
   ],
   "source": [
    "len(registration_file_headers)"
   ]
  },
  {
   "cell_type": "code",
   "execution_count": 14,
   "metadata": {},
   "outputs": [],
   "source": [
    "county_voters_registration_df = pd.read_csv(county_path, sep='\\t', names=registration_file_headers)"
   ]
  },
  {
   "cell_type": "code",
   "execution_count": 15,
   "metadata": {},
   "outputs": [
    {
     "data": {
      "text/html": [
       "<div>\n",
       "<style scoped>\n",
       "    .dataframe tbody tr th:only-of-type {\n",
       "        vertical-align: middle;\n",
       "    }\n",
       "\n",
       "    .dataframe tbody tr th {\n",
       "        vertical-align: top;\n",
       "    }\n",
       "\n",
       "    .dataframe thead th {\n",
       "        text-align: right;\n",
       "    }\n",
       "</style>\n",
       "<table border=\"1\" class=\"dataframe\">\n",
       "  <thead>\n",
       "    <tr style=\"text-align: right;\">\n",
       "      <th></th>\n",
       "      <th>county_code</th>\n",
       "      <th>voter_id</th>\n",
       "      <th>last_name</th>\n",
       "      <th>suffix</th>\n",
       "      <th>first_name</th>\n",
       "      <th>middle_name</th>\n",
       "      <th>requested_public_records_exemption</th>\n",
       "      <th>residence_addr_line_1</th>\n",
       "      <th>residence_addr_line_2</th>\n",
       "      <th>residence_city</th>\n",
       "      <th>...</th>\n",
       "      <th>voter_status</th>\n",
       "      <th>congressional_district</th>\n",
       "      <th>house_district</th>\n",
       "      <th>senate_district</th>\n",
       "      <th>county_commission_district</th>\n",
       "      <th>school_board_district</th>\n",
       "      <th>daytime_area_code</th>\n",
       "      <th>daytime_phone_no</th>\n",
       "      <th>daytime_phone_extension</th>\n",
       "      <th>email_address</th>\n",
       "    </tr>\n",
       "  </thead>\n",
       "  <tbody>\n",
       "    <tr>\n",
       "      <th>0</th>\n",
       "      <td>DAD</td>\n",
       "      <td>120685459</td>\n",
       "      <td>Cedeno</td>\n",
       "      <td>NaN</td>\n",
       "      <td>Kristia</td>\n",
       "      <td>Lex Andree Palma</td>\n",
       "      <td>N</td>\n",
       "      <td>3245   Virginia ST</td>\n",
       "      <td>APT 38</td>\n",
       "      <td>Miami</td>\n",
       "      <td>...</td>\n",
       "      <td>ACT</td>\n",
       "      <td>27</td>\n",
       "      <td>112</td>\n",
       "      <td>37</td>\n",
       "      <td>7</td>\n",
       "      <td>6</td>\n",
       "      <td>NaN</td>\n",
       "      <td>NaN</td>\n",
       "      <td>NaN</td>\n",
       "      <td></td>\n",
       "    </tr>\n",
       "    <tr>\n",
       "      <th>1</th>\n",
       "      <td>DAD</td>\n",
       "      <td>117588041</td>\n",
       "      <td>Cade</td>\n",
       "      <td>NaN</td>\n",
       "      <td>Anthony</td>\n",
       "      <td>Dywane</td>\n",
       "      <td>N</td>\n",
       "      <td>16931  SW 100Th PL</td>\n",
       "      <td></td>\n",
       "      <td>Miami</td>\n",
       "      <td>...</td>\n",
       "      <td>ACT</td>\n",
       "      <td>26</td>\n",
       "      <td>117</td>\n",
       "      <td>40</td>\n",
       "      <td>9</td>\n",
       "      <td>9</td>\n",
       "      <td>NaN</td>\n",
       "      <td>NaN</td>\n",
       "      <td>NaN</td>\n",
       "      <td></td>\n",
       "    </tr>\n",
       "    <tr>\n",
       "      <th>2</th>\n",
       "      <td>DAD</td>\n",
       "      <td>120684443</td>\n",
       "      <td>Felix  Estrada</td>\n",
       "      <td>NaN</td>\n",
       "      <td>Rafael</td>\n",
       "      <td>Enrique</td>\n",
       "      <td>N</td>\n",
       "      <td>257  E 4Th ST</td>\n",
       "      <td>APT 207</td>\n",
       "      <td>Hialeah</td>\n",
       "      <td>...</td>\n",
       "      <td>ACT</td>\n",
       "      <td>25</td>\n",
       "      <td>111</td>\n",
       "      <td>36</td>\n",
       "      <td>6</td>\n",
       "      <td>5</td>\n",
       "      <td>NaN</td>\n",
       "      <td>NaN</td>\n",
       "      <td>NaN</td>\n",
       "      <td></td>\n",
       "    </tr>\n",
       "    <tr>\n",
       "      <th>3</th>\n",
       "      <td>DAD</td>\n",
       "      <td>109101127</td>\n",
       "      <td>Tadeo</td>\n",
       "      <td>NaN</td>\n",
       "      <td>Martha</td>\n",
       "      <td>Sarah</td>\n",
       "      <td>N</td>\n",
       "      <td>1145  SW 12Th St</td>\n",
       "      <td></td>\n",
       "      <td>Miami</td>\n",
       "      <td>...</td>\n",
       "      <td>ACT</td>\n",
       "      <td>27</td>\n",
       "      <td>112</td>\n",
       "      <td>37</td>\n",
       "      <td>5</td>\n",
       "      <td>6</td>\n",
       "      <td>305</td>\n",
       "      <td>8569832</td>\n",
       "      <td>NaN</td>\n",
       "      <td></td>\n",
       "    </tr>\n",
       "    <tr>\n",
       "      <th>4</th>\n",
       "      <td>DAD</td>\n",
       "      <td>109341804</td>\n",
       "      <td>Gonzalez</td>\n",
       "      <td>NaN</td>\n",
       "      <td>Jose</td>\n",
       "      <td>Santiago</td>\n",
       "      <td>N</td>\n",
       "      <td>27881  SW 139Th Ct</td>\n",
       "      <td></td>\n",
       "      <td>Homestead</td>\n",
       "      <td>...</td>\n",
       "      <td>ACT</td>\n",
       "      <td>26</td>\n",
       "      <td>117</td>\n",
       "      <td>39</td>\n",
       "      <td>9</td>\n",
       "      <td>9</td>\n",
       "      <td>786</td>\n",
       "      <td>2994838</td>\n",
       "      <td>NaN</td>\n",
       "      <td></td>\n",
       "    </tr>\n",
       "  </tbody>\n",
       "</table>\n",
       "<p>5 rows × 38 columns</p>\n",
       "</div>"
      ],
      "text/plain": [
       "  county_code   voter_id       last_name suffix first_name       middle_name  \\\n",
       "0         DAD  120685459          Cedeno    NaN    Kristia  Lex Andree Palma   \n",
       "1         DAD  117588041            Cade    NaN    Anthony            Dywane   \n",
       "2         DAD  120684443  Felix  Estrada    NaN     Rafael           Enrique   \n",
       "3         DAD  109101127           Tadeo    NaN     Martha             Sarah   \n",
       "4         DAD  109341804        Gonzalez    NaN       Jose          Santiago   \n",
       "\n",
       "  requested_public_records_exemption residence_addr_line_1  \\\n",
       "0                                  N   3245   Virginia ST    \n",
       "1                                  N   16931  SW 100Th PL    \n",
       "2                                  N        257  E 4Th ST    \n",
       "3                                  N     1145  SW 12Th St    \n",
       "4                                  N   27881  SW 139Th Ct    \n",
       "\n",
       "  residence_addr_line_2 residence_city  ... voter_status  \\\n",
       "0                APT 38          Miami  ...          ACT   \n",
       "1                                Miami  ...          ACT   \n",
       "2               APT 207        Hialeah  ...          ACT   \n",
       "3                                Miami  ...          ACT   \n",
       "4                            Homestead  ...          ACT   \n",
       "\n",
       "  congressional_district house_district senate_district  \\\n",
       "0                     27            112              37   \n",
       "1                     26            117              40   \n",
       "2                     25            111              36   \n",
       "3                     27            112              37   \n",
       "4                     26            117              39   \n",
       "\n",
       "  county_commission_district school_board_district daytime_area_code  \\\n",
       "0                          7                     6               NaN   \n",
       "1                          9                     9               NaN   \n",
       "2                          6                     5               NaN   \n",
       "3                          5                     6               305   \n",
       "4                          9                     9               786   \n",
       "\n",
       "  daytime_phone_no daytime_phone_extension email_address  \n",
       "0              NaN                     NaN                \n",
       "1              NaN                     NaN                \n",
       "2              NaN                     NaN                \n",
       "3          8569832                     NaN                \n",
       "4          2994838                     NaN                \n",
       "\n",
       "[5 rows x 38 columns]"
      ]
     },
     "execution_count": 15,
     "metadata": {},
     "output_type": "execute_result"
    }
   ],
   "source": [
    "county_voters_registration_df.head()"
   ]
  },
  {
   "cell_type": "code",
   "execution_count": 16,
   "metadata": {},
   "outputs": [
    {
     "data": {
      "text/plain": [
       "county_code                                 0\n",
       "voter_id                                    0\n",
       "last_name                                   0\n",
       "suffix                                1424337\n",
       "first_name                                  0\n",
       "middle_name                            535060\n",
       "requested_public_records_exemption          0\n",
       "residence_addr_line_1                       0\n",
       "residence_addr_line_2                       0\n",
       "residence_city                              0\n",
       "residence_state                             0\n",
       "residence_zipcode                           0\n",
       "mail_addr_line_1                      1401164\n",
       "mail_addr_line_2                      1456338\n",
       "mail_addr_line_3                      1475122\n",
       "mail_city                             1401207\n",
       "mail_state                            1409250\n",
       "mail_zipcode                          1407649\n",
       "mail_country                          1468406\n",
       "gender                                    139\n",
       "race                                        0\n",
       "birth_date                               3435\n",
       "registration_date                           0\n",
       "party_affiliation                           0\n",
       "precinct                                    1\n",
       "precinct_group                              1\n",
       "precinct_split                              1\n",
       "precinct_suffix                       1476240\n",
       "voter_status                                0\n",
       "congressional_district                      1\n",
       "house_district                              1\n",
       "senate_district                             1\n",
       "county_commission_district                  1\n",
       "school_board_district                       1\n",
       "daytime_area_code                     1361543\n",
       "daytime_phone_no                      1351855\n",
       "daytime_phone_extension               1476484\n",
       "email_address                               0\n",
       "dtype: int64"
      ]
     },
     "execution_count": 16,
     "metadata": {},
     "output_type": "execute_result"
    }
   ],
   "source": [
    "county_voters_registration_df.isnull().sum()"
   ]
  },
  {
   "cell_type": "code",
   "execution_count": 17,
   "metadata": {},
   "outputs": [],
   "source": [
    "null_columns = county_voters_registration_df.columns[county_voters_registration_df.isnull().any()].tolist()\n",
    "non_null_columns = list(set(county_voters_registration_df.columns) - set(null_columns))"
   ]
  },
  {
   "cell_type": "code",
   "execution_count": 25,
   "metadata": {},
   "outputs": [
    {
     "data": {
      "image/png": "[encoded data removed]",
      "text/plain": [
       "<Figure size 576x576 with 1 Axes>"
      ]
     },
     "metadata": {
      "needs_background": "light"
     },
     "output_type": "display_data"
    }
   ],
   "source": [
    "figures, axes = plt.subplots(nrows=1, ncols=1, figsize=(8,8))\n",
    "genderwise_stats = county_voters_registration_df.groupby(['gender'])['voter_id'].agg(['count']).reset_index()\n",
    "genderwise_stats['percent'] = genderwise_stats['count'] * 100.0/(genderwise_stats['count'].sum())\n",
    "genderwise_stats[['gender', 'percent']].plot(kind='bar', x='gender', ax=axes)\n",
    "plt.savefig('gender_wise_percent.png')"
   ]
  },
  {
   "cell_type": "code",
   "execution_count": 26,
   "metadata": {},
   "outputs": [],
   "source": [
    "last_name_freq = county_voters_registration_df.groupby(['last_name'])['voter_id'].agg(['count']).reset_index()"
   ]
  },
  {
   "cell_type": "code",
   "execution_count": 27,
   "metadata": {},
   "outputs": [],
   "source": [
    "top_10_freq_last_name = last_name_freq.sort_values(by='count', ascending=False)[:10]"
   ]
  },
  {
   "cell_type": "code",
   "execution_count": 29,
   "metadata": {},
   "outputs": [
    {
     "data": {
      "image/png": "[encoded data removed]",
      "text/plain": [
       "<Figure size 576x360 with 1 Axes>"
      ]
     },
     "metadata": {
      "needs_background": "light"
     },
     "output_type": "display_data"
    }
   ],
   "source": [
    "sns.catplot(x='last_name', y='count', data=top_10_freq_last_name, kind='bar', height=5, aspect=1.6)\n",
    "plt.tight_layout()\n",
    "plt.savefig('surname_freq.png')"
   ]
  },
  {
   "cell_type": "code",
   "execution_count": 18,
   "metadata": {},
   "outputs": [],
   "source": [
    "partywise_gender_affiliations = county_voters_registration_df.groupby(['party_affiliation', 'gender'])['voter_id'].agg(['count']).reset_index()"
   ]
  },
  {
   "cell_type": "code",
   "execution_count": 19,
   "metadata": {},
   "outputs": [],
   "source": [
    "partywise_vote_counts = partywise_gender_affiliations.groupby(['party_affiliation'])['count'].agg(['sum']).reset_index()"
   ]
  },
  {
   "cell_type": "code",
   "execution_count": 20,
   "metadata": {},
   "outputs": [],
   "source": [
    "partywise_gender_affiliations = pd.merge(partywise_gender_affiliations, partywise_vote_counts, on=['party_affiliation'], how='inner')"
   ]
  },
  {
   "cell_type": "code",
   "execution_count": 33,
   "metadata": {},
   "outputs": [],
   "source": [
    "partywise_gender_affiliations['percent'] = partywise_gender_affiliations['count'] * 100.0 / partywise_gender_affiliations['sum']"
   ]
  },
  {
   "cell_type": "code",
   "execution_count": 35,
   "metadata": {},
   "outputs": [
    {
     "data": {
      "image/png": "[encoded data removed]",
      "text/plain": [
       "<Figure size 584.625x360 with 1 Axes>"
      ]
     },
     "metadata": {
      "needs_background": "light"
     },
     "output_type": "display_data"
    }
   ],
   "source": [
    "sns.catplot(x='party_affiliation', y='percent', hue='gender', kind='bar', data=partywise_gender_affiliations, height=5, aspect=1.5)\n",
    "plt.savefig('party_gender_distribution.png')"
   ]
  },
  {
   "cell_type": "code",
   "execution_count": null,
   "metadata": {},
   "outputs": [],
   "source": []
  },
  {
   "cell_type": "code",
   "execution_count": 21,
   "metadata": {},
   "outputs": [],
   "source": [
    "racewise_party_affiliation = county_voters_registration_df.groupby(['race', 'party_affiliation'])['voter_id'].agg(['count']).reset_index()\n",
    "racewise_party_affiliation = racewise_party_affiliation.rename(columns={'count': 'voter_count'})\n",
    "racewise_voter_count = racewise_party_affiliation.groupby(['race']).agg({'voter_count': 'sum'}).reset_index()"
   ]
  },
  {
   "cell_type": "code",
   "execution_count": 23,
   "metadata": {},
   "outputs": [],
   "source": [
    "racewise_voter_count = racewise_voter_count.rename(columns={\"voter_count\": 'race_vote_sum'})"
   ]
  },
  {
   "cell_type": "code",
   "execution_count": 24,
   "metadata": {},
   "outputs": [],
   "source": [
    "racewise_party_affiliation = pd.merge(racewise_party_affiliation, racewise_voter_count, on='race', how='inner')"
   ]
  },
  {
   "cell_type": "code",
   "execution_count": 26,
   "metadata": {},
   "outputs": [],
   "source": [
    "racewise_party_affiliation['race_party_percent'] = racewise_party_affiliation['voter_count'] * 100.0 / racewise_party_affiliation['race_vote_sum']"
   ]
  },
  {
   "cell_type": "code",
   "execution_count": 28,
   "metadata": {},
   "outputs": [],
   "source": [
    "race_dic = {\n",
    "    1: 'American Indian or Alaskan Native',\n",
    "    2: 'Asian Or Pacific Islander',\n",
    "    3: 'Black, Not Hispanic',\n",
    "    4: 'Hispanic',\n",
    "    5: 'White, Not Hispanic',\n",
    "    6: 'Other',\n",
    "    7: 'Multi-racial',\n",
    "    9: 'Unknown'\n",
    "}"
   ]
  },
  {
   "cell_type": "code",
   "execution_count": 32,
   "metadata": {},
   "outputs": [],
   "source": [
    "racewise_party_affiliation['race_desc'] = racewise_party_affiliation['race'].map(race_dic)"
   ]
  },
  {
   "cell_type": "code",
   "execution_count": 50,
   "metadata": {},
   "outputs": [],
   "source": [
    "racewise_party_affiliation['percent_skew'] = np.sqrt(racewise_party_affiliation['race_party_percent'])"
   ]
  },
  {
   "cell_type": "code",
   "execution_count": 54,
   "metadata": {},
   "outputs": [
    {
     "data": {
      "image/png": "[encoded data removed]",
      "text/plain": [
       "<Figure size 842.5x504 with 1 Axes>"
      ]
     },
     "metadata": {
      "needs_background": "light"
     },
     "output_type": "display_data"
    }
   ],
   "source": [
    "sns.catplot(x='race_desc', y='race_party_percent', hue='party_affiliation', data=racewise_party_affiliation[racewise_party_affiliation.race < 5],\n",
    "            kind='bar', height=7, aspect=1.5)\n",
    "plt.tight_layout()\n",
    "plt.savefig('racewise_affiliation_1.png')"
   ]
  },
  {
   "cell_type": "code",
   "execution_count": 55,
   "metadata": {},
   "outputs": [
    {
     "data": {
      "image/png": "[encoded data removed]",
      "text/plain": [
       "<Figure size 842.5x504 with 1 Axes>"
      ]
     },
     "metadata": {
      "needs_background": "light"
     },
     "output_type": "display_data"
    }
   ],
   "source": [
    "sns.catplot(x='race_desc', y='race_party_percent', hue='party_affiliation', data=racewise_party_affiliation[racewise_party_affiliation.race >= 5],\n",
    "            kind='bar', height=7, aspect=1.5)\n",
    "plt.tight_layout()\n",
    "plt.savefig('racewise_affiliation_2.png')"
   ]
  },
  {
   "cell_type": "raw",
   "metadata": {},
   "source": []
  },
  {
   "cell_type": "markdown",
   "metadata": {},
   "source": [
    "## Voter History Analysis"
   ]
  },
  {
   "cell_type": "code",
   "execution_count": 56,
   "metadata": {},
   "outputs": [],
   "source": [
    "full_voter_history_path = \"/\".join([DATA_PATH, HISTORY_PATH.format(str(date), str(date))])"
   ]
  },
  {
   "cell_type": "code",
   "execution_count": 57,
   "metadata": {},
   "outputs": [
    {
     "data": {
      "text/plain": [
       "'data/Voter_History_20190813/20190813_VoterHistory'"
      ]
     },
     "execution_count": 57,
     "metadata": {},
     "output_type": "execute_result"
    }
   ],
   "source": [
    "full_voter_history_path"
   ]
  },
  {
   "cell_type": "code",
   "execution_count": 58,
   "metadata": {},
   "outputs": [],
   "source": [
    "county_history_files = []\n",
    "for f in listdir(full_voter_history_path):\n",
    "    if isfile(full_voter_history_path + \"/\" + f):\n",
    "        county_history_files.append(full_voter_history_path + \"/\" + f)"
   ]
  },
  {
   "cell_type": "code",
   "execution_count": 59,
   "metadata": {},
   "outputs": [],
   "source": [
    "county_history_file = ''\n",
    "for c in county_history_files:\n",
    "    if 'DAD_' in c:\n",
    "        county_history_file = c\n",
    "        break"
   ]
  },
  {
   "cell_type": "code",
   "execution_count": 60,
   "metadata": {},
   "outputs": [
    {
     "data": {
      "text/plain": [
       "'data/Voter_History_20190813/20190813_VoterHistory/DAD_H_20190813.txt'"
      ]
     },
     "execution_count": 60,
     "metadata": {},
     "output_type": "execute_result"
    }
   ],
   "source": [
    "county_history_file"
   ]
  },
  {
   "cell_type": "code",
   "execution_count": 65,
   "metadata": {},
   "outputs": [],
   "source": [
    "voter_history_file_headers = [\n",
    "    'county_code',\n",
    "    'voter_id',\n",
    "    'election_date',\n",
    "    'election_type',\n",
    "    'history_code'\n",
    "]"
   ]
  },
  {
   "cell_type": "code",
   "execution_count": 66,
   "metadata": {},
   "outputs": [],
   "source": [
    "voter_history_df = pd.read_csv(county_history_file, sep='\\t', names=voter_history_file_headers)"
   ]
  },
  {
   "cell_type": "code",
   "execution_count": 67,
   "metadata": {},
   "outputs": [
    {
     "data": {
      "text/html": [
       "<div>\n",
       "<style scoped>\n",
       "    .dataframe tbody tr th:only-of-type {\n",
       "        vertical-align: middle;\n",
       "    }\n",
       "\n",
       "    .dataframe tbody tr th {\n",
       "        vertical-align: top;\n",
       "    }\n",
       "\n",
       "    .dataframe thead th {\n",
       "        text-align: right;\n",
       "    }\n",
       "</style>\n",
       "<table border=\"1\" class=\"dataframe\">\n",
       "  <thead>\n",
       "    <tr style=\"text-align: right;\">\n",
       "      <th></th>\n",
       "      <th>county_code</th>\n",
       "      <th>voter_id</th>\n",
       "      <th>election_date</th>\n",
       "      <th>election_type</th>\n",
       "      <th>history_code</th>\n",
       "    </tr>\n",
       "  </thead>\n",
       "  <tbody>\n",
       "    <tr>\n",
       "      <th>0</th>\n",
       "      <td>DAD</td>\n",
       "      <td>100071646</td>\n",
       "      <td>03/15/2016</td>\n",
       "      <td>PPP</td>\n",
       "      <td>Y</td>\n",
       "    </tr>\n",
       "    <tr>\n",
       "      <th>1</th>\n",
       "      <td>DAD</td>\n",
       "      <td>100140517</td>\n",
       "      <td>04/05/2016</td>\n",
       "      <td>OTH</td>\n",
       "      <td>Y</td>\n",
       "    </tr>\n",
       "    <tr>\n",
       "      <th>2</th>\n",
       "      <td>DAD</td>\n",
       "      <td>100177228</td>\n",
       "      <td>08/28/2018</td>\n",
       "      <td>PRI</td>\n",
       "      <td>A</td>\n",
       "    </tr>\n",
       "    <tr>\n",
       "      <th>3</th>\n",
       "      <td>DAD</td>\n",
       "      <td>100171481</td>\n",
       "      <td>11/08/2016</td>\n",
       "      <td>GEN</td>\n",
       "      <td>Y</td>\n",
       "    </tr>\n",
       "    <tr>\n",
       "      <th>4</th>\n",
       "      <td>DAD</td>\n",
       "      <td>100193359</td>\n",
       "      <td>11/02/2010</td>\n",
       "      <td>GEN</td>\n",
       "      <td>A</td>\n",
       "    </tr>\n",
       "  </tbody>\n",
       "</table>\n",
       "</div>"
      ],
      "text/plain": [
       "  county_code   voter_id election_date election_type history_code\n",
       "0         DAD  100071646    03/15/2016           PPP            Y\n",
       "1         DAD  100140517    04/05/2016           OTH            Y\n",
       "2         DAD  100177228    08/28/2018           PRI            A\n",
       "3         DAD  100171481    11/08/2016           GEN            Y\n",
       "4         DAD  100193359    11/02/2010           GEN            A"
      ]
     },
     "execution_count": 67,
     "metadata": {},
     "output_type": "execute_result"
    }
   ],
   "source": [
    "voter_history_df.head()"
   ]
  },
  {
   "cell_type": "markdown",
   "metadata": {},
   "source": [
    "### Election Types\n",
    "1. PPP Presidential Preference Primary Election\n",
    "2. PRI Partido Revolucionario Institucional (Institutional Revolutionary Party)\n",
    "3. RUN \n",
    "4. GEN General Elections\n",
    "5. OTH"
   ]
  },
  {
   "cell_type": "code",
   "execution_count": 84,
   "metadata": {},
   "outputs": [],
   "source": [
    "voter_history_counts = voter_history_df.groupby(['voter_id', 'election_type'])['election_date'].agg(['count']).reset_index()"
   ]
  },
  {
   "cell_type": "code",
   "execution_count": 101,
   "metadata": {},
   "outputs": [],
   "source": [
    "join_df = pd.merge(county_voters_registration_df, voter_history_df, on='voter_id', how='inner')"
   ]
  },
  {
   "cell_type": "code",
   "execution_count": null,
   "metadata": {},
   "outputs": [],
   "source": []
  },
  {
   "cell_type": "code",
   "execution_count": null,
   "metadata": {},
   "outputs": [],
   "source": []
  },
  {
   "cell_type": "code",
   "execution_count": 91,
   "metadata": {},
   "outputs": [
    {
     "data": {
      "text/plain": [
       "<matplotlib.axes._subplots.AxesSubplot at 0x217d7e5fac8>"
      ]
     },
     "execution_count": 91,
     "metadata": {},
     "output_type": "execute_result"
    },
    {
     "data": {
      "image/png": "[encoded data removed]",
      "text/plain": [
       "<Figure size 432x288 with 1 Axes>"
      ]
     },
     "metadata": {
      "needs_background": "light"
     },
     "output_type": "display_data"
    }
   ],
   "source": [
    "voter_history_counts.groupby(['election_type'])['voter_id'].agg(['count']).reset_index().plot(kind='bar', x='election_type')"
   ]
  },
  {
   "cell_type": "code",
   "execution_count": null,
   "metadata": {},
   "outputs": [],
   "source": []
  }
 ],
 "metadata": {
  "kernelspec": {
   "display_name": "Python 3",
   "language": "python",
   "name": "python3"
  },
  "language_info": {
   "codemirror_mode": {
    "name": "ipython",
    "version": 3
   },
   "file_extension": ".py",
   "mimetype": "text/x-python",
   "name": "python",
   "nbconvert_exporter": "python",
   "pygments_lexer": "ipython3",
   "version": "3.7.3"
  }
 },
 "nbformat": 4,
 "nbformat_minor": 4
}
