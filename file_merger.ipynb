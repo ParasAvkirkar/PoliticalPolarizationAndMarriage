{
 "cells": [
  {
   "cell_type": "code",
   "execution_count": 1,
   "metadata": {},
   "outputs": [],
   "source": [
    "import os\n",
    "from os import listdir\n",
    "from os.path import isfile\n",
    "\n",
    "def get_county_files(county_files_path):\n",
    "    county_files = []\n",
    "    for f in listdir(county_files_path):\n",
    "        if \"couples_20\" in f:\n",
    "            continue\n",
    "            \n",
    "        if isfile(county_files_path + f):\n",
    "            county_files.append(county_files_path + f)\n",
    "    return county_files"
   ]
  },
  {
   "cell_type": "code",
   "execution_count": 2,
   "metadata": {},
   "outputs": [],
   "source": [
    "filenames = get_county_files(\"couples/20140319/\")"
   ]
  },
  {
   "cell_type": "code",
   "execution_count": 3,
   "metadata": {},
   "outputs": [
    {
     "data": {
      "text/plain": [
       "67"
      ]
     },
     "execution_count": 3,
     "metadata": {},
     "output_type": "execute_result"
    }
   ],
   "source": [
    "len(filenames)"
   ]
  },
  {
   "cell_type": "code",
   "execution_count": 4,
   "metadata": {},
   "outputs": [],
   "source": [
    "write_file = open('couples/20140319/couples_20140319.csv', 'w')\n",
    "header = False\n",
    "for filename in filenames:\n",
    "    with open(filename, 'r') as file:\n",
    "        i = 0\n",
    "        for line in file:\n",
    "            if i == 0:\n",
    "                if not header:\n",
    "                    header = True\n",
    "                    write_file.write(line)\n",
    "            else:\n",
    "                write_file.write(line)\n",
    "            i += 1\n",
    "        write_file.flush()\n",
    "write_file.close()"
   ]
  },
  {
   "cell_type": "code",
   "execution_count": null,
   "metadata": {},
   "outputs": [],
   "source": []
  }
 ],
 "metadata": {
  "kernelspec": {
   "display_name": "Python 3",
   "language": "python",
   "name": "python3"
  },
  "language_info": {
   "codemirror_mode": {
    "name": "ipython",
    "version": 3
   },
   "file_extension": ".py",
   "mimetype": "text/x-python",
   "name": "python",
   "nbconvert_exporter": "python",
   "pygments_lexer": "ipython3",
   "version": "3.7.4"
  }
 },
 "nbformat": 4,
 "nbformat_minor": 4
}
