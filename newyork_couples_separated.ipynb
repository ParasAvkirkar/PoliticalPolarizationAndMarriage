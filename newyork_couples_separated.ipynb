{
 "cells": [
  {
   "cell_type": "code",
   "execution_count": 1,
   "metadata": {},
   "outputs": [],
   "source": [
    "import pandas as pd\n",
    "import random\n",
    "import numpy as np\n",
    "import time\n",
    "import math\n",
    "import sys\n",
    "import matplotlib.patches as mpatches\n",
    "import matplotlib.pyplot as plt\n",
    "import seaborn as sns\n",
    "import xgboost as xgb\n",
    "import datatable as dt\n",
    "\n",
    "from xgboost import plot_tree\n",
    "from os import walk\n",
    "from os import listdir\n",
    "from os.path import isfile, join\n",
    "from scipy.spatial.distance import euclidean, pdist, squareform\n",
    "from scipy.stats import skew\n",
    "from scipy.special import expit as sigmoid\n",
    "from scipy.cluster.hierarchy import fclusterdata\n",
    "from pandas.plotting import autocorrelation_plot\n",
    "from sklearn.model_selection import train_test_split\n",
    "from sklearn.linear_model import LogisticRegression\n",
    "from sklearn.linear_model import LinearRegression\n",
    "from sklearn.ensemble import RandomForestClassifier\n",
    "from sklearn import tree\n",
    "from sklearn.metrics import precision_recall_fscore_support\n",
    "from sklearn import preprocessing\n",
    "from sklearn.metrics import confusion_matrix\n",
    "from sklearn.metrics import roc_auc_score\n",
    "from sklearn.utils import resample\n",
    "from imblearn.over_sampling import SMOTE, ADASYN\n",
    "from imblearn.under_sampling import ClusterCentroids\n",
    "from imblearn.under_sampling import RandomUnderSampler\n",
    "from sklearn.preprocessing import LabelEncoder\n",
    "from sklearn.metrics import pairwise_distances\n",
    "from sklearn.cluster import AgglomerativeClustering\n",
    "from sklearn.manifold import TSNE\n",
    "from sklearn.metrics import mean_absolute_error\n",
    "from sklearn.metrics import mean_squared_error"
   ]
  },
  {
   "cell_type": "code",
   "execution_count": 2,
   "metadata": {},
   "outputs": [],
   "source": [
    "DATA_PATH = ''\n",
    "#HISTORY_PATH = \"Voter_History_{0}\"\n",
    "PREPROCESSED_PATH = \"data/NewYork/newyork_preprocessed_20160511.csv\"\n",
    "COUPLES_PATH=\"data/NewYork/couples/all_couples_20121231.csv\"\n",
    "#COUPLES_PATH=\"couples/{0}/couples_FLA_{0}.csv\""
   ]
  },
  {
   "cell_type": "code",
   "execution_count": 3,
   "metadata": {},
   "outputs": [
    {
     "name": "stderr",
     "output_type": "stream",
     "text": [
      "usage: ipykernel_launcher.py [-h] [--old OLD_DATE] [--new NEW_DATE]\n",
      "ipykernel_launcher.py: error: unrecognized arguments: -f /home/rahullachh/.local/share/jupyter/runtime/kernel-f8cdca1a-3b16-4ef0-af82-deb06150a3e0.json\n"
     ]
    },
    {
     "ename": "SystemExit",
     "evalue": "2",
     "output_type": "error",
     "traceback": [
      "An exception has occurred, use %tb to see the full traceback.\n",
      "\u001b[0;31mSystemExit\u001b[0m\u001b[0;31m:\u001b[0m 2\n"
     ]
    },
    {
     "name": "stderr",
     "output_type": "stream",
     "text": [
      "/home/rahullachh/anaconda3/lib/python3.7/site-packages/IPython/core/interactiveshell.py:3334: UserWarning: To exit: use 'exit', 'quit', or Ctrl-D.\n",
      "  warn(\"To exit: use 'exit', 'quit', or Ctrl-D.\", stacklevel=1)\n"
     ]
    }
   ],
   "source": [
    "import argparse\n",
    "\n",
    "parser = argparse.ArgumentParser()\n",
    "\n",
    "parser.add_argument('--old', dest='old_date', action='store', type=str, help='old date value')\n",
    "parser.add_argument('--new', dest='new_date', action='store', type=str, help='new date value')\n",
    "\n",
    "args = parser.parse_args()"
   ]
  },
  {
   "cell_type": "code",
   "execution_count": 4,
   "metadata": {},
   "outputs": [],
   "source": [
    "#preprocessed_date = args.new_date\n",
    "preprocessed_date = str(20160511)"
   ]
  },
  {
   "cell_type": "code",
   "execution_count": 5,
   "metadata": {},
   "outputs": [],
   "source": [
    "#couples_date = args.old_date\n",
    "couples_date = str(20121231)"
   ]
  },
  {
   "cell_type": "code",
   "execution_count": 6,
   "metadata": {},
   "outputs": [],
   "source": [
    "image_file_prefix = \"newyork_\" +  couples_date + \"_\" + preprocessed_date\n",
    "stat_file_prefix = \"newyork_\" +  couples_date + \"_\" + preprocessed_date\n",
    "\n",
    "import os\n",
    "if not os.path.exists(\"plots/\" + image_file_prefix):\n",
    "    os.makedirs(\"plots/\" + image_file_prefix)\n",
    "\n",
    "if not os.path.exists(\"stats/\" + stat_file_prefix):\n",
    "    os.makedirs(\"stats/\" + stat_file_prefix)\n",
    "    \n",
    "stat_file_path = \"stats/\" + stat_file_prefix + \"/\""
   ]
  },
  {
   "cell_type": "code",
   "execution_count": 7,
   "metadata": {},
   "outputs": [],
   "source": [
    "global_df = pd.read_csv(PREPROCESSED_PATH.format(preprocessed_date) , sep='\\t')"
   ]
  },
  {
   "cell_type": "code",
   "execution_count": 8,
   "metadata": {},
   "outputs": [
    {
     "data": {
      "text/html": [
       "<div>\n",
       "<style scoped>\n",
       "    .dataframe tbody tr th:only-of-type {\n",
       "        vertical-align: middle;\n",
       "    }\n",
       "\n",
       "    .dataframe tbody tr th {\n",
       "        vertical-align: top;\n",
       "    }\n",
       "\n",
       "    .dataframe thead th {\n",
       "        text-align: right;\n",
       "    }\n",
       "</style>\n",
       "<table border=\"1\" class=\"dataframe\">\n",
       "  <thead>\n",
       "    <tr style=\"text-align: right;\">\n",
       "      <th></th>\n",
       "      <th>last_name</th>\n",
       "      <th>first_name</th>\n",
       "      <th>house_number</th>\n",
       "      <th>residence_apartment</th>\n",
       "      <th>residence_street_name</th>\n",
       "      <th>residence_city</th>\n",
       "      <th>residence_zip_code_5</th>\n",
       "      <th>dob</th>\n",
       "      <th>gender</th>\n",
       "      <th>political_party</th>\n",
       "      <th>county_code</th>\n",
       "      <th>voter_status_codes</th>\n",
       "      <th>unique_nys_voter_id</th>\n",
       "      <th>age</th>\n",
       "      <th>uniq_addr</th>\n",
       "    </tr>\n",
       "  </thead>\n",
       "  <tbody>\n",
       "    <tr>\n",
       "      <td>0</td>\n",
       "      <td>duffy</td>\n",
       "      <td>christopher</td>\n",
       "      <td>6506</td>\n",
       "      <td>101a</td>\n",
       "      <td>vosburgh rd</td>\n",
       "      <td>altamont</td>\n",
       "      <td>12009.0</td>\n",
       "      <td>19890227</td>\n",
       "      <td>M</td>\n",
       "      <td>BLK</td>\n",
       "      <td>1</td>\n",
       "      <td>ACTIVE</td>\n",
       "      <td>NY000000000020585350</td>\n",
       "      <td>27</td>\n",
       "      <td>6506 101a vosburgh rd altamont 120090</td>\n",
       "    </tr>\n",
       "    <tr>\n",
       "      <td>1</td>\n",
       "      <td>johnson</td>\n",
       "      <td>d andre</td>\n",
       "      <td>5</td>\n",
       "      <td>19</td>\n",
       "      <td>okara dr</td>\n",
       "      <td>schenectady</td>\n",
       "      <td>12303.0</td>\n",
       "      <td>19890926</td>\n",
       "      <td>M</td>\n",
       "      <td>DEM</td>\n",
       "      <td>1</td>\n",
       "      <td>PURGED</td>\n",
       "      <td>NY000000000020585433</td>\n",
       "      <td>26</td>\n",
       "      <td>5 19 okara dr schenectady 123030</td>\n",
       "    </tr>\n",
       "    <tr>\n",
       "      <td>2</td>\n",
       "      <td>tolive</td>\n",
       "      <td>michael</td>\n",
       "      <td>345</td>\n",
       "      <td>338</td>\n",
       "      <td>northern blvd</td>\n",
       "      <td>albany</td>\n",
       "      <td>12204.0</td>\n",
       "      <td>19230822</td>\n",
       "      <td>M</td>\n",
       "      <td>REP</td>\n",
       "      <td>1</td>\n",
       "      <td>PURGED</td>\n",
       "      <td>NY000000000020585599</td>\n",
       "      <td>92</td>\n",
       "      <td>345 338 northern blvd albany 122040</td>\n",
       "    </tr>\n",
       "    <tr>\n",
       "      <td>3</td>\n",
       "      <td>duffek</td>\n",
       "      <td>margaret</td>\n",
       "      <td>6720</td>\n",
       "      <td>32</td>\n",
       "      <td>state rte</td>\n",
       "      <td>greenville</td>\n",
       "      <td>12083.0</td>\n",
       "      <td>19240329</td>\n",
       "      <td>F</td>\n",
       "      <td>DEM</td>\n",
       "      <td>1</td>\n",
       "      <td>PURGED</td>\n",
       "      <td>NY000000000020585828</td>\n",
       "      <td>92</td>\n",
       "      <td>6720 32 state rte greenville 120830</td>\n",
       "    </tr>\n",
       "    <tr>\n",
       "      <td>4</td>\n",
       "      <td>foskey</td>\n",
       "      <td>shirley</td>\n",
       "      <td>51</td>\n",
       "      <td>1</td>\n",
       "      <td>judson st</td>\n",
       "      <td>albany</td>\n",
       "      <td>12206.0</td>\n",
       "      <td>19470302</td>\n",
       "      <td>F</td>\n",
       "      <td>DEM</td>\n",
       "      <td>1</td>\n",
       "      <td>ACTIVE</td>\n",
       "      <td>NY000000000020586140</td>\n",
       "      <td>69</td>\n",
       "      <td>51 1 judson st albany 122060</td>\n",
       "    </tr>\n",
       "  </tbody>\n",
       "</table>\n",
       "</div>"
      ],
      "text/plain": [
       "  last_name   first_name house_number residence_apartment  \\\n",
       "0     duffy  christopher         6506                101a   \n",
       "1   johnson      d andre            5                  19   \n",
       "2    tolive      michael          345                 338   \n",
       "3    duffek     margaret         6720                  32   \n",
       "4    foskey      shirley           51                   1   \n",
       "\n",
       "  residence_street_name residence_city  residence_zip_code_5       dob gender  \\\n",
       "0           vosburgh rd       altamont               12009.0  19890227      M   \n",
       "1              okara dr    schenectady               12303.0  19890926      M   \n",
       "2         northern blvd         albany               12204.0  19230822      M   \n",
       "3             state rte     greenville               12083.0  19240329      F   \n",
       "4             judson st         albany               12206.0  19470302      F   \n",
       "\n",
       "  political_party  county_code voter_status_codes   unique_nys_voter_id  age  \\\n",
       "0             BLK            1             ACTIVE  NY000000000020585350   27   \n",
       "1             DEM            1             PURGED  NY000000000020585433   26   \n",
       "2             REP            1             PURGED  NY000000000020585599   92   \n",
       "3             DEM            1             PURGED  NY000000000020585828   92   \n",
       "4             DEM            1             ACTIVE  NY000000000020586140   69   \n",
       "\n",
       "                               uniq_addr  \n",
       "0  6506 101a vosburgh rd altamont 120090  \n",
       "1       5 19 okara dr schenectady 123030  \n",
       "2    345 338 northern blvd albany 122040  \n",
       "3    6720 32 state rte greenville 120830  \n",
       "4           51 1 judson st albany 122060  "
      ]
     },
     "execution_count": 8,
     "metadata": {},
     "output_type": "execute_result"
    }
   ],
   "source": [
    "global_df.head()"
   ]
  },
  {
   "cell_type": "code",
   "execution_count": 9,
   "metadata": {},
   "outputs": [],
   "source": [
    "req_cols = ['last_name', 'first_name']\n",
    "global_df = global_df.dropna(subset=req_cols)"
   ]
  },
  {
   "cell_type": "code",
   "execution_count": 10,
   "metadata": {},
   "outputs": [
    {
     "data": {
      "text/plain": [
       "last_name                0\n",
       "first_name               0\n",
       "house_number             0\n",
       "residence_apartment      0\n",
       "residence_street_name    0\n",
       "residence_city           0\n",
       "residence_zip_code_5     0\n",
       "dob                      0\n",
       "gender                   0\n",
       "political_party          0\n",
       "county_code              0\n",
       "voter_status_codes       0\n",
       "unique_nys_voter_id      0\n",
       "age                      0\n",
       "uniq_addr                0\n",
       "dtype: int64"
      ]
     },
     "execution_count": 10,
     "metadata": {},
     "output_type": "execute_result"
    }
   ],
   "source": [
    "global_df.isnull().sum()"
   ]
  },
  {
   "cell_type": "code",
   "execution_count": 11,
   "metadata": {},
   "outputs": [
    {
     "data": {
      "text/plain": [
       "(5908472, 15)"
      ]
     },
     "execution_count": 11,
     "metadata": {},
     "output_type": "execute_result"
    }
   ],
   "source": [
    "global_df.shape"
   ]
  },
  {
   "cell_type": "code",
   "execution_count": 12,
   "metadata": {},
   "outputs": [],
   "source": [
    "couples_df = pd.read_csv(COUPLES_PATH.format(couples_date) , sep='\\t')"
   ]
  },
  {
   "cell_type": "code",
   "execution_count": 13,
   "metadata": {},
   "outputs": [
    {
     "data": {
      "text/html": [
       "<div>\n",
       "<style scoped>\n",
       "    .dataframe tbody tr th:only-of-type {\n",
       "        vertical-align: middle;\n",
       "    }\n",
       "\n",
       "    .dataframe tbody tr th {\n",
       "        vertical-align: top;\n",
       "    }\n",
       "\n",
       "    .dataframe thead th {\n",
       "        text-align: right;\n",
       "    }\n",
       "</style>\n",
       "<table border=\"1\" class=\"dataframe\">\n",
       "  <thead>\n",
       "    <tr style=\"text-align: right;\">\n",
       "      <th></th>\n",
       "      <th>uniq_addr</th>\n",
       "    </tr>\n",
       "  </thead>\n",
       "  <tbody>\n",
       "    <tr>\n",
       "      <td>0</td>\n",
       "      <td>7 7c elm ave delmar 120540</td>\n",
       "    </tr>\n",
       "    <tr>\n",
       "      <td>1</td>\n",
       "      <td>3 1a winding brook dr guilderland 120840</td>\n",
       "    </tr>\n",
       "    <tr>\n",
       "      <td>2</td>\n",
       "      <td>790 9w us rte glenmont 120770</td>\n",
       "    </tr>\n",
       "    <tr>\n",
       "      <td>3</td>\n",
       "      <td>50 3 main st cohoes 120470</td>\n",
       "    </tr>\n",
       "    <tr>\n",
       "      <td>4</td>\n",
       "      <td>285 2h colonie st albany 122100</td>\n",
       "    </tr>\n",
       "  </tbody>\n",
       "</table>\n",
       "</div>"
      ],
      "text/plain": [
       "                                  uniq_addr\n",
       "0                7 7c elm ave delmar 120540\n",
       "1  3 1a winding brook dr guilderland 120840\n",
       "2             790 9w us rte glenmont 120770\n",
       "3                50 3 main st cohoes 120470\n",
       "4           285 2h colonie st albany 122100"
      ]
     },
     "execution_count": 13,
     "metadata": {},
     "output_type": "execute_result"
    }
   ],
   "source": [
    "couples_df[[\"uniq_addr\"]].head()"
   ]
  },
  {
   "cell_type": "code",
   "execution_count": 14,
   "metadata": {},
   "outputs": [
    {
     "data": {
      "text/plain": [
       "Index(['last_name', 'first_name', 'house_number', 'residence_apartment',\n",
       "       'residence_street_name', 'residence_city', 'residence_zip_code_5',\n",
       "       'dob', 'gender', 'political_party', 'county_code', 'voter_status_codes',\n",
       "       'unique_nys_voter_id', 'age', 'uniq_addr'],\n",
       "      dtype='object')"
      ]
     },
     "execution_count": 14,
     "metadata": {},
     "output_type": "execute_result"
    }
   ],
   "source": [
    "global_df.columns"
   ]
  },
  {
   "cell_type": "code",
   "execution_count": 15,
   "metadata": {},
   "outputs": [
    {
     "data": {
      "text/plain": [
       "Index(['last_name_L', 'first_name_L', 'house_number_L',\n",
       "       'residence_apartment_L', 'residence_street_name_L', 'residence_city_L',\n",
       "       'residence_zip_code_5_L', 'dob_L', 'gender_L', 'political_party_L',\n",
       "       'county_code_L', 'voter_status_codes_L', 'unique_nys_voter_id_L',\n",
       "       'age_L', 'uniq_addr', 'last_name_R', 'first_name_R', 'house_number_R',\n",
       "       'residence_apartment_R', 'residence_street_name_R', 'residence_city_R',\n",
       "       'residence_zip_code_5_R', 'dob_R', 'gender_R', 'political_party_R',\n",
       "       'county_code_R', 'voter_status_codes_R', 'unique_nys_voter_id_R',\n",
       "       'age_R', 'age_diff'],\n",
       "      dtype='object')"
      ]
     },
     "execution_count": 15,
     "metadata": {},
     "output_type": "execute_result"
    }
   ],
   "source": [
    "couples_df.columns"
   ]
  },
  {
   "cell_type": "code",
   "execution_count": 17,
   "metadata": {},
   "outputs": [],
   "source": [
    "addr_df = global_df[[\"unique_nys_voter_id\",\"uniq_addr\"]]"
   ]
  },
  {
   "cell_type": "markdown",
   "metadata": {},
   "source": [
    "## Collecting Addresses of voters"
   ]
  },
  {
   "cell_type": "code",
   "execution_count": 18,
   "metadata": {},
   "outputs": [],
   "source": [
    "couples_df_found = pd.merge(couples_df, addr_df, left_on=[\"unique_nys_voter_id_L\"], right_on=[\"unique_nys_voter_id\"], suffixes=[\"\",\"_L\"])"
   ]
  },
  {
   "cell_type": "code",
   "execution_count": 19,
   "metadata": {},
   "outputs": [],
   "source": [
    "del couples_df_found['unique_nys_voter_id']"
   ]
  },
  {
   "cell_type": "code",
   "execution_count": 20,
   "metadata": {},
   "outputs": [],
   "source": [
    "couples_df_found = pd.merge(couples_df_found, addr_df, left_on=[\"unique_nys_voter_id_R\"], right_on=[\"unique_nys_voter_id\"], suffixes=[\"\",\"_R\"])"
   ]
  },
  {
   "cell_type": "markdown",
   "metadata": {},
   "source": [
    "### Removing extra column generated of voter id"
   ]
  },
  {
   "cell_type": "code",
   "execution_count": 21,
   "metadata": {},
   "outputs": [],
   "source": [
    "del couples_df_found['unique_nys_voter_id']"
   ]
  },
  {
   "cell_type": "code",
   "execution_count": 22,
   "metadata": {},
   "outputs": [
    {
     "data": {
      "text/html": [
       "<div>\n",
       "<style scoped>\n",
       "    .dataframe tbody tr th:only-of-type {\n",
       "        vertical-align: middle;\n",
       "    }\n",
       "\n",
       "    .dataframe tbody tr th {\n",
       "        vertical-align: top;\n",
       "    }\n",
       "\n",
       "    .dataframe thead th {\n",
       "        text-align: right;\n",
       "    }\n",
       "</style>\n",
       "<table border=\"1\" class=\"dataframe\">\n",
       "  <thead>\n",
       "    <tr style=\"text-align: right;\">\n",
       "      <th></th>\n",
       "      <th>unique_nys_voter_id_L</th>\n",
       "      <th>unique_nys_voter_id_R</th>\n",
       "      <th>uniq_addr_L</th>\n",
       "      <th>uniq_addr_R</th>\n",
       "    </tr>\n",
       "  </thead>\n",
       "  <tbody>\n",
       "    <tr>\n",
       "      <td>0</td>\n",
       "      <td>NY000000000020715661</td>\n",
       "      <td>NY000000000020715745</td>\n",
       "      <td>3 1a winding brook dr guilderland 120840</td>\n",
       "      <td>3 1a winding brook dr guilderland 120840</td>\n",
       "    </tr>\n",
       "    <tr>\n",
       "      <td>1</td>\n",
       "      <td>NY000000000020712493</td>\n",
       "      <td>NY000000000022544710</td>\n",
       "      <td>790 9w us rte glenmont 120770</td>\n",
       "      <td>790 129 us route 9w glenmont 120770</td>\n",
       "    </tr>\n",
       "    <tr>\n",
       "      <td>2</td>\n",
       "      <td>NY000000000020715862</td>\n",
       "      <td>NY000000000020752725</td>\n",
       "      <td>50 3 main st cohoes 120470</td>\n",
       "      <td>50 3 main st cohoes 120470</td>\n",
       "    </tr>\n",
       "    <tr>\n",
       "      <td>3</td>\n",
       "      <td>NY000000000020715878</td>\n",
       "      <td>NY000000000053064860</td>\n",
       "      <td>285 2h colonie st albany 122100</td>\n",
       "      <td>285 2h colonie st albany 122100</td>\n",
       "    </tr>\n",
       "    <tr>\n",
       "      <td>4</td>\n",
       "      <td>NY000000000020880332</td>\n",
       "      <td>NY000000000039945666</td>\n",
       "      <td>2568 28 western ave altamont 120090</td>\n",
       "      <td>2568 28 western ave altamont 120090</td>\n",
       "    </tr>\n",
       "  </tbody>\n",
       "</table>\n",
       "</div>"
      ],
      "text/plain": [
       "  unique_nys_voter_id_L unique_nys_voter_id_R  \\\n",
       "0  NY000000000020715661  NY000000000020715745   \n",
       "1  NY000000000020712493  NY000000000022544710   \n",
       "2  NY000000000020715862  NY000000000020752725   \n",
       "3  NY000000000020715878  NY000000000053064860   \n",
       "4  NY000000000020880332  NY000000000039945666   \n",
       "\n",
       "                                uniq_addr_L  \\\n",
       "0  3 1a winding brook dr guilderland 120840   \n",
       "1             790 9w us rte glenmont 120770   \n",
       "2                50 3 main st cohoes 120470   \n",
       "3           285 2h colonie st albany 122100   \n",
       "4       2568 28 western ave altamont 120090   \n",
       "\n",
       "                                uniq_addr_R  \n",
       "0  3 1a winding brook dr guilderland 120840  \n",
       "1       790 129 us route 9w glenmont 120770  \n",
       "2                50 3 main st cohoes 120470  \n",
       "3           285 2h colonie st albany 122100  \n",
       "4       2568 28 western ave altamont 120090  "
      ]
     },
     "execution_count": 22,
     "metadata": {},
     "output_type": "execute_result"
    }
   ],
   "source": [
    "couples_df_found[[\"unique_nys_voter_id_L\",\"unique_nys_voter_id_R\", \"uniq_addr_L\",\"uniq_addr_R\"]].head()"
   ]
  },
  {
   "cell_type": "code",
   "execution_count": 23,
   "metadata": {},
   "outputs": [],
   "source": [
    "couples_df_found['separated'] = couples_df_found.apply(lambda x : x.uniq_addr_L != x.uniq_addr_R, axis=1)"
   ]
  },
  {
   "cell_type": "markdown",
   "metadata": {},
   "source": [
    "## Separation percentage"
   ]
  },
  {
   "cell_type": "code",
   "execution_count": 24,
   "metadata": {},
   "outputs": [
    {
     "data": {
      "text/plain": [
       "False    622018\n",
       "True     157640\n",
       "Name: separated, dtype: int64"
      ]
     },
     "execution_count": 24,
     "metadata": {},
     "output_type": "execute_result"
    }
   ],
   "source": [
    "couples_df_found['separated'].value_counts()"
   ]
  },
  {
   "cell_type": "code",
   "execution_count": 25,
   "metadata": {},
   "outputs": [
    {
     "data": {
      "text/plain": [
       "False    0.797809\n",
       "True     0.202191\n",
       "Name: separated, dtype: float64"
      ]
     },
     "execution_count": 25,
     "metadata": {},
     "output_type": "execute_result"
    }
   ],
   "source": [
    "couples_df_found['separated'].value_counts()/couples_df_found['separated'].shape"
   ]
  },
  {
   "cell_type": "code",
   "execution_count": 26,
   "metadata": {},
   "outputs": [
    {
     "data": {
      "text/plain": [
       "(3982640,)"
      ]
     },
     "execution_count": 26,
     "metadata": {},
     "output_type": "execute_result"
    }
   ],
   "source": [
    "global_df['uniq_addr'].unique().shape"
   ]
  },
  {
   "cell_type": "code",
   "execution_count": 27,
   "metadata": {},
   "outputs": [
    {
     "data": {
      "text/html": [
       "<div>\n",
       "<style scoped>\n",
       "    .dataframe tbody tr th:only-of-type {\n",
       "        vertical-align: middle;\n",
       "    }\n",
       "\n",
       "    .dataframe tbody tr th {\n",
       "        vertical-align: top;\n",
       "    }\n",
       "\n",
       "    .dataframe thead th {\n",
       "        text-align: right;\n",
       "    }\n",
       "</style>\n",
       "<table border=\"1\" class=\"dataframe\">\n",
       "  <thead>\n",
       "    <tr style=\"text-align: right;\">\n",
       "      <th></th>\n",
       "      <th>last_name_L</th>\n",
       "      <th>first_name_L</th>\n",
       "      <th>house_number_L</th>\n",
       "      <th>residence_apartment_L</th>\n",
       "      <th>residence_street_name_L</th>\n",
       "      <th>residence_city_L</th>\n",
       "      <th>residence_zip_code_5_L</th>\n",
       "      <th>dob_L</th>\n",
       "      <th>gender_L</th>\n",
       "      <th>political_party_L</th>\n",
       "      <th>...</th>\n",
       "      <th>gender_R</th>\n",
       "      <th>political_party_R</th>\n",
       "      <th>county_code_R</th>\n",
       "      <th>voter_status_codes_R</th>\n",
       "      <th>unique_nys_voter_id_R</th>\n",
       "      <th>age_R</th>\n",
       "      <th>age_diff</th>\n",
       "      <th>uniq_addr_L</th>\n",
       "      <th>uniq_addr_R</th>\n",
       "      <th>separated</th>\n",
       "    </tr>\n",
       "  </thead>\n",
       "  <tbody>\n",
       "    <tr>\n",
       "      <td>0</td>\n",
       "      <td>marotta</td>\n",
       "      <td>joseph</td>\n",
       "      <td>3</td>\n",
       "      <td>1-a</td>\n",
       "      <td>winding brook dr</td>\n",
       "      <td>guilderland</td>\n",
       "      <td>12084.0</td>\n",
       "      <td>19621002</td>\n",
       "      <td>M</td>\n",
       "      <td>REP</td>\n",
       "      <td>...</td>\n",
       "      <td>F</td>\n",
       "      <td>DEM</td>\n",
       "      <td>1</td>\n",
       "      <td>ACTIVE</td>\n",
       "      <td>NY000000000020715745</td>\n",
       "      <td>50</td>\n",
       "      <td>0</td>\n",
       "      <td>3 1a winding brook dr guilderland 120840</td>\n",
       "      <td>3 1a winding brook dr guilderland 120840</td>\n",
       "      <td>False</td>\n",
       "    </tr>\n",
       "    <tr>\n",
       "      <td>1</td>\n",
       "      <td>hayes</td>\n",
       "      <td>nancy</td>\n",
       "      <td>790</td>\n",
       "      <td>9w</td>\n",
       "      <td>us rte</td>\n",
       "      <td>glenmont</td>\n",
       "      <td>12077.0</td>\n",
       "      <td>19371028</td>\n",
       "      <td>F</td>\n",
       "      <td>REP</td>\n",
       "      <td>...</td>\n",
       "      <td>F</td>\n",
       "      <td>DEM</td>\n",
       "      <td>1</td>\n",
       "      <td>ACTIVE</td>\n",
       "      <td>NY000000000022544710</td>\n",
       "      <td>75</td>\n",
       "      <td>0</td>\n",
       "      <td>790 9w us rte glenmont 120770</td>\n",
       "      <td>790 129 us route 9w glenmont 120770</td>\n",
       "      <td>True</td>\n",
       "    </tr>\n",
       "    <tr>\n",
       "      <td>2</td>\n",
       "      <td>conklin</td>\n",
       "      <td>melody</td>\n",
       "      <td>50</td>\n",
       "      <td>3</td>\n",
       "      <td>main st</td>\n",
       "      <td>cohoes</td>\n",
       "      <td>12047.0</td>\n",
       "      <td>19830128</td>\n",
       "      <td>F</td>\n",
       "      <td>GRE</td>\n",
       "      <td>...</td>\n",
       "      <td>M</td>\n",
       "      <td>BLK</td>\n",
       "      <td>1</td>\n",
       "      <td>ACTIVE</td>\n",
       "      <td>NY000000000020752725</td>\n",
       "      <td>29</td>\n",
       "      <td>0</td>\n",
       "      <td>50 3 main st cohoes 120470</td>\n",
       "      <td>50 3 main st cohoes 120470</td>\n",
       "      <td>False</td>\n",
       "    </tr>\n",
       "    <tr>\n",
       "      <td>3</td>\n",
       "      <td>ramos</td>\n",
       "      <td>mila</td>\n",
       "      <td>285</td>\n",
       "      <td>2h</td>\n",
       "      <td>colonie st</td>\n",
       "      <td>albany</td>\n",
       "      <td>12210.0</td>\n",
       "      <td>19830212</td>\n",
       "      <td>F</td>\n",
       "      <td>DEM</td>\n",
       "      <td>...</td>\n",
       "      <td>M</td>\n",
       "      <td>DEM</td>\n",
       "      <td>1</td>\n",
       "      <td>ACTIVE</td>\n",
       "      <td>NY000000000053064860</td>\n",
       "      <td>29</td>\n",
       "      <td>0</td>\n",
       "      <td>285 2h colonie st albany 122100</td>\n",
       "      <td>285 2h colonie st albany 122100</td>\n",
       "      <td>False</td>\n",
       "    </tr>\n",
       "    <tr>\n",
       "      <td>4</td>\n",
       "      <td>sisenstein</td>\n",
       "      <td>justin</td>\n",
       "      <td>2568</td>\n",
       "      <td>2-8</td>\n",
       "      <td>western ave</td>\n",
       "      <td>altamont</td>\n",
       "      <td>12009.0</td>\n",
       "      <td>19850320</td>\n",
       "      <td>M</td>\n",
       "      <td>DEM</td>\n",
       "      <td>...</td>\n",
       "      <td>F</td>\n",
       "      <td>DEM</td>\n",
       "      <td>1</td>\n",
       "      <td>PURGED</td>\n",
       "      <td>NY000000000039945666</td>\n",
       "      <td>27</td>\n",
       "      <td>0</td>\n",
       "      <td>2568 28 western ave altamont 120090</td>\n",
       "      <td>2568 28 western ave altamont 120090</td>\n",
       "      <td>False</td>\n",
       "    </tr>\n",
       "  </tbody>\n",
       "</table>\n",
       "<p>5 rows × 33 columns</p>\n",
       "</div>"
      ],
      "text/plain": [
       "  last_name_L first_name_L house_number_L residence_apartment_L  \\\n",
       "0     marotta       joseph              3                   1-a   \n",
       "1       hayes        nancy            790                    9w   \n",
       "2     conklin       melody             50                     3   \n",
       "3       ramos         mila            285                    2h   \n",
       "4  sisenstein       justin           2568                   2-8   \n",
       "\n",
       "  residence_street_name_L residence_city_L  residence_zip_code_5_L     dob_L  \\\n",
       "0        winding brook dr      guilderland                 12084.0  19621002   \n",
       "1                  us rte         glenmont                 12077.0  19371028   \n",
       "2                 main st           cohoes                 12047.0  19830128   \n",
       "3              colonie st           albany                 12210.0  19830212   \n",
       "4             western ave         altamont                 12009.0  19850320   \n",
       "\n",
       "  gender_L political_party_L  ...  gender_R political_party_R county_code_R  \\\n",
       "0        M               REP  ...         F               DEM             1   \n",
       "1        F               REP  ...         F               DEM             1   \n",
       "2        F               GRE  ...         M               BLK             1   \n",
       "3        F               DEM  ...         M               DEM             1   \n",
       "4        M               DEM  ...         F               DEM             1   \n",
       "\n",
       "   voter_status_codes_R unique_nys_voter_id_R age_R age_diff  \\\n",
       "0                ACTIVE  NY000000000020715745    50        0   \n",
       "1                ACTIVE  NY000000000022544710    75        0   \n",
       "2                ACTIVE  NY000000000020752725    29        0   \n",
       "3                ACTIVE  NY000000000053064860    29        0   \n",
       "4                PURGED  NY000000000039945666    27        0   \n",
       "\n",
       "                                uniq_addr_L  \\\n",
       "0  3 1a winding brook dr guilderland 120840   \n",
       "1             790 9w us rte glenmont 120770   \n",
       "2                50 3 main st cohoes 120470   \n",
       "3           285 2h colonie st albany 122100   \n",
       "4       2568 28 western ave altamont 120090   \n",
       "\n",
       "                                uniq_addr_R separated  \n",
       "0  3 1a winding brook dr guilderland 120840     False  \n",
       "1       790 129 us route 9w glenmont 120770      True  \n",
       "2                50 3 main st cohoes 120470     False  \n",
       "3           285 2h colonie st albany 122100     False  \n",
       "4       2568 28 western ave altamont 120090     False  \n",
       "\n",
       "[5 rows x 33 columns]"
      ]
     },
     "execution_count": 27,
     "metadata": {},
     "output_type": "execute_result"
    }
   ],
   "source": [
    "couples_df_found.head()"
   ]
  },
  {
   "cell_type": "markdown",
   "metadata": {},
   "source": [
    "## Logging total separation percentage in file"
   ]
  },
  {
   "cell_type": "code",
   "execution_count": 28,
   "metadata": {},
   "outputs": [
    {
     "data": {
      "text/plain": [
       "'stats/newyork_20121231_20160511/'"
      ]
     },
     "execution_count": 28,
     "metadata": {},
     "output_type": "execute_result"
    }
   ],
   "source": [
    "stat_file_path"
   ]
  },
  {
   "cell_type": "code",
   "execution_count": 29,
   "metadata": {},
   "outputs": [],
   "source": [
    "total_separated_couples = couples_df_found[couples_df_found[\"separated\"] == True].shape[0]\n",
    "with open(stat_file_path + \"total_separation_percentage.csv\", \"w\") as f:\n",
    "    f.write(\"\\t\".join([\"separated_count\", \"total_count\", \"percentage\"]) + \"\\n\")\n",
    "    f.write(\"\\t\".join([str(total_separated_couples), str(couples_df_found.shape[0]), str(100.0 * total_separated_couples/couples_df_found.shape[0])]))"
   ]
  },
  {
   "cell_type": "markdown",
   "metadata": {},
   "source": [
    "## Feature wise separation percentage"
   ]
  },
  {
   "cell_type": "code",
   "execution_count": 30,
   "metadata": {},
   "outputs": [],
   "source": [
    "cols = [\"political_party\", \"gender\"]\n",
    "unique_dic = {}\n",
    "for c in cols:\n",
    "    unique_dic[c] = set(global_df[c].unique())"
   ]
  },
  {
   "cell_type": "markdown",
   "metadata": {},
   "source": [
    "## Demographic Percentages"
   ]
  },
  {
   "cell_type": "code",
   "execution_count": 31,
   "metadata": {},
   "outputs": [],
   "source": [
    "party_affiliation_counts = {}\n",
    "race_counts = {}\n",
    "\n",
    "party_affiliation_percentages = {}\n",
    "race_percentages = {}\n",
    "\n",
    "total = global_df.shape[0]\n",
    "for cat_value in unique_dic[\"political_party\"]:\n",
    "    party_affiliation_counts[cat_value] = global_df[global_df[\"political_party\"] == cat_value].shape[0]\n",
    "    party_affiliation_percentages[cat_value] = 100.0 * global_df[global_df[\"political_party\"] == cat_value].shape[0]/total\n"
   ]
  },
  {
   "cell_type": "markdown",
   "metadata": {},
   "source": [
    "## Thresholding Demographics\n",
    "For Party affiliation we stick to 5%"
   ]
  },
  {
   "cell_type": "code",
   "execution_count": 32,
   "metadata": {},
   "outputs": [],
   "source": [
    "party_percent_threshold = 5.0\n",
    "party_other_groups = []\n",
    "for cat_value in party_affiliation_percentages:\n",
    "    if party_affiliation_percentages[cat_value] <= party_percent_threshold:\n",
    "        party_other_groups.append(cat_value)"
   ]
  },
  {
   "cell_type": "markdown",
   "metadata": {},
   "source": [
    "# TODO"
   ]
  },
  {
   "cell_type": "code",
   "execution_count": 33,
   "metadata": {},
   "outputs": [],
   "source": [
    "# TODO: Implement others mapping into global and couples dataframe\n",
    "# def create_others_df()"
   ]
  },
  {
   "cell_type": "code",
   "execution_count": 34,
   "metadata": {},
   "outputs": [
    {
     "data": {
      "text/plain": [
       "(5908472, 15)"
      ]
     },
     "execution_count": 34,
     "metadata": {},
     "output_type": "execute_result"
    }
   ],
   "source": [
    "global_df.shape"
   ]
  },
  {
   "cell_type": "code",
   "execution_count": 35,
   "metadata": {},
   "outputs": [
    {
     "name": "stdout",
     "output_type": "stream",
     "text": [
      "{'political_party': {'CON', 'DEM', 'REP', 'BLK', 'OTH', 'WEP', 'REF', 'WOR', 'GRE', 'IND'}, 'gender': {'U', 'M', 'F'}}\n"
     ]
    }
   ],
   "source": [
    "print(str(unique_dic))"
   ]
  },
  {
   "cell_type": "markdown",
   "metadata": {},
   "source": [
    "## Generate Pair-wise stats by feature\n",
    "Current focus is only on gender/race/political-affiliation"
   ]
  },
  {
   "cell_type": "code",
   "execution_count": 36,
   "metadata": {},
   "outputs": [],
   "source": [
    "import time\n",
    "from itertools import combinations \n",
    "\n",
    "def generate_category_based_on_pair_values(first_val, second_val):\n",
    "    return \"({0}, {1})\".format(str(first_val), str(second_val))\n",
    "\n",
    "def generate_pair_stats_by_feature(global_df, couples_df_found, feature, stats={}, others=[]):\n",
    "    print(\"Collecting uniques by feature: \" + feature)\n",
    "    unique_vals = list(global_df[feature].unique())\n",
    "    cat_combinations = list(combinations(list(unique_vals), 2))\n",
    "    \n",
    "    stats[feature] = {}\n",
    "    print(\"Processing : \" + feature + \" : Total comb: \" + str(len(cat_combinations)))\n",
    "    i = 0\n",
    "    start_time = time.time()\n",
    "    stats[feature][\"Other Categories\"] = {'count': 0, 'total': 0}\n",
    "    for comb in cat_combinations:\n",
    "        first_val = comb[0]\n",
    "        second_val = comb[1]\n",
    "        \n",
    "        left_right = couples_df_found[(couples_df_found[feature + \"_L\"] == first_val) & (couples_df_found[feature + \"_R\"] == second_val)]\n",
    "        right_left = couples_df_found[(couples_df_found[feature + \"_L\"] == second_val) & (couples_df_found[feature + \"_R\"] == first_val)]\n",
    "        \n",
    "        count = left_right[left_right[\"separated\"] == True].shape[0]\n",
    "        count += right_left[right_left[\"separated\"] == True].shape[0]\n",
    "        \n",
    "        stat = {}\n",
    "        stat[\"count\"] = count\n",
    "        \n",
    "        if count == 0:\n",
    "            continue\n",
    "        \n",
    "        if first_val in others or second_val in others:\n",
    "            stats[feature][\"Other Categories\"][\"count\"] += count\n",
    "            stats[feature][\"Other Categories\"][\"total\"] += left_right.shape[0] + right_left.shape[0]\n",
    "            continue\n",
    "        \n",
    "        stat[\"total\"] = left_right.shape[0] + right_left.shape[0]\n",
    "        stat[\"percent\"] = count * 100.0/(left_right.shape[0] + right_left.shape[0])\n",
    "        \n",
    "        category = generate_category_based_on_pair_values(first_val, second_val)\n",
    "        stats[feature][category] = stat\n",
    "        \n",
    "        i += 1\n",
    "        \n",
    "    print(\"Total value combinations process: \" + str(i) + \" Total time (secs): \" + str(time.time() - start_time))\n",
    "    \n",
    "    print(\"Processing symmetric combinations: \" + feature + \" : Total comb: \" + str(len(unique_vals)))\n",
    "    for val in unique_vals:\n",
    "        subset = couples_df_found[(couples_df_found[feature + \"_L\"] == val) & (couples_df_found[feature + \"_R\"] == val)]\n",
    "        \n",
    "        count = subset[subset[\"separated\"] == True].shape[0]\n",
    "        \n",
    "        if val in others:\n",
    "            stats[feature][\"Other Categories\"][\"count\"] += count\n",
    "            stats[feature][\"Other Categories\"][\"total\"] += subset.shape[0]\n",
    "            continue\n",
    "        \n",
    "        stat = {}\n",
    "        stat[\"count\"] = count\n",
    "        \n",
    "        if count == 0:\n",
    "            continue\n",
    "        \n",
    "        stat[\"total\"] = subset.shape[0]\n",
    "        stat[\"percent\"] = count * 100.0/(subset.shape[0])\n",
    "        \n",
    "        category = generate_category_based_on_pair_values(val, val)\n",
    "        stats[feature][category] = stat\n",
    "        \n",
    "    if len(others) > 0 and stats[feature][\"Other Categories\"][\"count\"] > 0:\n",
    "        stats[feature][\"Other Categories\"][\"percent\"] = 100.0 * stats[feature][\"Other Categories\"][\"count\"]/stats[feature][\"Other Categories\"][\"total\"]\n",
    "    else:\n",
    "        del stats[feature][\"Other Categories\"]\n",
    "    \n",
    "    print(\"Done with processing feature: \" + feature)\n",
    "    \n",
    "    return stats"
   ]
  },
  {
   "cell_type": "code",
   "execution_count": 37,
   "metadata": {},
   "outputs": [
    {
     "data": {
      "text/plain": [
       "'stats/newyork_20121231_20160511/'"
      ]
     },
     "execution_count": 37,
     "metadata": {},
     "output_type": "execute_result"
    }
   ],
   "source": [
    "stat_file_path"
   ]
  },
  {
   "cell_type": "code",
   "execution_count": 38,
   "metadata": {},
   "outputs": [],
   "source": [
    "def plot_pairwise_stat_by_feature(feature, stats, total_couples=1):\n",
    "    feature_stats = stats[feature]\n",
    "    \n",
    "    figures, axes = plt.subplots(nrows=1, ncols=2, figsize=(20,10))\n",
    "    \n",
    "    percent_stats = []\n",
    "    pair_combinations = []\n",
    "    totals = []\n",
    "    \n",
    "    for pair_comb in feature_stats:\n",
    "        percent_stats.append(feature_stats[pair_comb][\"percent\"])\n",
    "        totals.append(feature_stats[pair_comb][\"total\"])\n",
    "        pair_combinations.append(pair_comb)\n",
    "\n",
    "    plot_df = pd.DataFrame({\"percent\": percent_stats, \"category_combination\": pair_combinations, \"totals\": totals})\n",
    "    plot_df[\"category_combination_percentage\"] = 100.0*plot_df[\"totals\"]/total_couples\n",
    "    \n",
    "    sns.barplot(x=\"percent\", y=\"category_combination\", data=plot_df, ax=axes[0], palette=sns.color_palette(\"Set2\"))\n",
    "    \n",
    "    axes[0].set(xlabel=\"Separation percentage\")\n",
    "    \n",
    "    #     sns.barplot(x=\"category_combination_percentage\", y=\"category_combination\", palette=sns.color_palette(\"Set2\"), data=plot_df, ax=axes[1])\n",
    "\n",
    "    #   Pie chart\n",
    "    labels = pair_combinations\n",
    "    sizes = plot_df[\"category_combination_percentage\"].tolist()\n",
    "    axes[1].pie(sizes, labels=labels, autopct='%1.1f%%', colors=['teal', 'salmon', 'silver', 'lightblue', 'orchid', 'pink', 'lightgreen', 'wheat'])\n",
    "    axes[1].axis('equal')\n",
    "    axes[1].set(xlabel=\"Category percentage out of total couples\")\n",
    "    \n",
    "    \n",
    "    axes[0].spines['right'].set_visible(False)\n",
    "    axes[0].spines['top'].set_visible(False)\n",
    "    axes[1].spines['right'].set_visible(False)\n",
    "    axes[1].spines['top'].set_visible(False)\n",
    "    \n",
    "    #     axes[0].set_title(feature)\n",
    "    #     axes[1].set_title(feature + \" wise couple proportion\")\n",
    "\n",
    "    #     Writing stats into file\n",
    "    stat_file_name = feature + \"_totalCouples-\" + str(total_couples) + \".csv\"\n",
    "    plot_df.to_csv(stat_file_path + stat_file_name, sep=\"\\t\")\n",
    "        \n",
    "    plt.savefig(\"plots/\" + image_file_prefix + \"/\" + image_file_prefix +  \"_pairwise_stat_\" + feature)\n",
    "    plt.tight_layout()"
   ]
  },
  {
   "cell_type": "code",
   "execution_count": 39,
   "metadata": {},
   "outputs": [
    {
     "name": "stdout",
     "output_type": "stream",
     "text": [
      "Collecting uniques by feature: political_party\n",
      "Processing : political_party : Total comb: 45\n",
      "Total value combinations process: 3 Total time (secs): 10.584253311157227\n",
      "Processing symmetric combinations: political_party : Total comb: 10\n",
      "Done with processing feature: political_party\n"
     ]
    }
   ],
   "source": [
    "stats = generate_pair_stats_by_feature(global_df, couples_df_found, \"political_party\", others=party_other_groups)"
   ]
  },
  {
   "cell_type": "code",
   "execution_count": 40,
   "metadata": {},
   "outputs": [
    {
     "data": {
      "image/png": "[encoded data removed]",
      "text/plain": [
       "<Figure size 1440x720 with 2 Axes>"
      ]
     },
     "metadata": {
      "needs_background": "light"
     },
     "output_type": "display_data"
    }
   ],
   "source": [
    "plot_pairwise_stat_by_feature(\"political_party\", stats, total_couples=couples_df_found.shape[0])"
   ]
  },
  {
   "cell_type": "code",
   "execution_count": 41,
   "metadata": {},
   "outputs": [
    {
     "name": "stdout",
     "output_type": "stream",
     "text": [
      "Collecting uniques by feature: gender\n",
      "Processing : gender : Total comb: 3\n",
      "Total value combinations process: 3 Total time (secs): 1.1694614887237549\n",
      "Processing symmetric combinations: gender : Total comb: 3\n",
      "Done with processing feature: gender\n"
     ]
    }
   ],
   "source": [
    "stats = generate_pair_stats_by_feature(global_df, couples_df_found, \"gender\", others=party_other_groups)"
   ]
  },
  {
   "cell_type": "code",
   "execution_count": 42,
   "metadata": {},
   "outputs": [
    {
     "data": {
      "image/png": "[encoded data removed]",
      "text/plain": [
       "<Figure size 1440x720 with 2 Axes>"
      ]
     },
     "metadata": {
      "needs_background": "light"
     },
     "output_type": "display_data"
    }
   ],
   "source": [
    "plot_pairwise_stat_by_feature(\"gender\", stats, total_couples=couples_df_found.shape[0])"
   ]
  },
  {
   "cell_type": "code",
   "execution_count": 43,
   "metadata": {},
   "outputs": [
    {
     "data": {
      "text/plain": [
       "{'political_party': {'Other Categories': {'count': 14764,\n",
       "   'total': 61966,\n",
       "   'percent': 23.825969079817966},\n",
       "  '(BLK, DEM)': {'count': 30663,\n",
       "   'total': 131721,\n",
       "   'percent': 23.27874826337486},\n",
       "  '(BLK, REP)': {'count': 6622, 'total': 30095, 'percent': 22.003655092208007},\n",
       "  '(DEM, REP)': {'count': 14752,\n",
       "   'total': 67432,\n",
       "   'percent': 21.876853719302407},\n",
       "  '(BLK, BLK)': {'count': 9397, 'total': 50225, 'percent': 18.70980587356894},\n",
       "  '(DEM, DEM)': {'count': 74292,\n",
       "   'total': 391860,\n",
       "   'percent': 18.958811820548156},\n",
       "  '(REP, REP)': {'count': 7150,\n",
       "   'total': 46359,\n",
       "   'percent': 15.423110938544834}},\n",
       " 'gender': {'(M, F)': {'count': 86773,\n",
       "   'total': 502389,\n",
       "   'percent': 17.272074030283306},\n",
       "  '(M, U)': {'count': 8, 'total': 42, 'percent': 19.047619047619047},\n",
       "  '(F, U)': {'count': 16, 'total': 61, 'percent': 26.229508196721312},\n",
       "  '(M, M)': {'count': 24845, 'total': 100582, 'percent': 24.701238790240797},\n",
       "  '(F, F)': {'count': 45995, 'total': 176579, 'percent': 26.047831282315563},\n",
       "  '(U, U)': {'count': 3, 'total': 5, 'percent': 60.0}}}"
      ]
     },
     "execution_count": 43,
     "metadata": {},
     "output_type": "execute_result"
    }
   ],
   "source": [
    "stats"
   ]
  },
  {
   "cell_type": "code",
   "execution_count": 44,
   "metadata": {},
   "outputs": [
    {
     "data": {
      "text/plain": [
       "array([ 0, 15,  6,  1,  8,  2,  4,  3,  5,  7,  9, 11, 12, 10, 14, 13])"
      ]
     },
     "execution_count": 44,
     "metadata": {},
     "output_type": "execute_result"
    }
   ],
   "source": [
    "couples_df_found.age_diff.unique()"
   ]
  },
  {
   "cell_type": "code",
   "execution_count": 45,
   "metadata": {},
   "outputs": [],
   "source": [
    "age_diff_total_counts = couples_df_found.groupby([\"age_diff\"])[\"age_diff\"].agg([\"count\"]).reset_index()"
   ]
  },
  {
   "cell_type": "code",
   "execution_count": 46,
   "metadata": {},
   "outputs": [
    {
     "data": {
      "text/html": [
       "<div>\n",
       "<style scoped>\n",
       "    .dataframe tbody tr th:only-of-type {\n",
       "        vertical-align: middle;\n",
       "    }\n",
       "\n",
       "    .dataframe tbody tr th {\n",
       "        vertical-align: top;\n",
       "    }\n",
       "\n",
       "    .dataframe thead th {\n",
       "        text-align: right;\n",
       "    }\n",
       "</style>\n",
       "<table border=\"1\" class=\"dataframe\">\n",
       "  <thead>\n",
       "    <tr style=\"text-align: right;\">\n",
       "      <th></th>\n",
       "      <th>age_diff</th>\n",
       "      <th>count</th>\n",
       "    </tr>\n",
       "  </thead>\n",
       "  <tbody>\n",
       "    <tr>\n",
       "      <td>0</td>\n",
       "      <td>0</td>\n",
       "      <td>135848</td>\n",
       "    </tr>\n",
       "    <tr>\n",
       "      <td>1</td>\n",
       "      <td>1</td>\n",
       "      <td>124880</td>\n",
       "    </tr>\n",
       "    <tr>\n",
       "      <td>2</td>\n",
       "      <td>2</td>\n",
       "      <td>100839</td>\n",
       "    </tr>\n",
       "    <tr>\n",
       "      <td>3</td>\n",
       "      <td>3</td>\n",
       "      <td>78462</td>\n",
       "    </tr>\n",
       "    <tr>\n",
       "      <td>4</td>\n",
       "      <td>4</td>\n",
       "      <td>62360</td>\n",
       "    </tr>\n",
       "  </tbody>\n",
       "</table>\n",
       "</div>"
      ],
      "text/plain": [
       "   age_diff   count\n",
       "0         0  135848\n",
       "1         1  124880\n",
       "2         2  100839\n",
       "3         3   78462\n",
       "4         4   62360"
      ]
     },
     "execution_count": 46,
     "metadata": {},
     "output_type": "execute_result"
    }
   ],
   "source": [
    "age_diff_total_counts.head()"
   ]
  },
  {
   "cell_type": "code",
   "execution_count": 47,
   "metadata": {},
   "outputs": [
    {
     "data": {
      "image/png": "[encoded data removed]",
      "text/plain": [
       "<Figure size 432x288 with 1 Axes>"
      ]
     },
     "metadata": {
      "needs_background": "light"
     },
     "output_type": "display_data"
    }
   ],
   "source": [
    "#plt.clear()\n",
    "plt.close()\n",
    "ax = sns.barplot(x=\"age_diff\", y=\"count\", data=age_diff_total_counts)\n",
    "ax.set(xlabel='age difference between couples', ylabel='couples count')\n",
    "plt.savefig(\"plots/\" + image_file_prefix + \"/\" + image_file_prefix + \"_age_diff_aggregation\")"
   ]
  },
  {
   "cell_type": "code",
   "execution_count": 48,
   "metadata": {},
   "outputs": [],
   "source": [
    "age_diff_separation_stats = couples_df_found[couples_df_found[\"separated\"]==True].groupby([\"age_diff\"])[\"age_diff\"].agg([\"count\"]).reset_index()"
   ]
  },
  {
   "cell_type": "code",
   "execution_count": 49,
   "metadata": {},
   "outputs": [],
   "source": [
    "age_diff_separation_stats = pd.merge(age_diff_total_counts, age_diff_separation_stats, on=[\"age_diff\"], suffixes=(\"_total\", \"_separated\"))"
   ]
  },
  {
   "cell_type": "code",
   "execution_count": 50,
   "metadata": {},
   "outputs": [],
   "source": [
    "age_diff_separation_stats[\"percent\"] = 100.0 * age_diff_separation_stats[\"count_separated\"]/age_diff_separation_stats[\"count_total\"]"
   ]
  },
  {
   "cell_type": "code",
   "execution_count": 51,
   "metadata": {},
   "outputs": [
    {
     "data": {
      "text/html": [
       "<div>\n",
       "<style scoped>\n",
       "    .dataframe tbody tr th:only-of-type {\n",
       "        vertical-align: middle;\n",
       "    }\n",
       "\n",
       "    .dataframe tbody tr th {\n",
       "        vertical-align: top;\n",
       "    }\n",
       "\n",
       "    .dataframe thead th {\n",
       "        text-align: right;\n",
       "    }\n",
       "</style>\n",
       "<table border=\"1\" class=\"dataframe\">\n",
       "  <thead>\n",
       "    <tr style=\"text-align: right;\">\n",
       "      <th></th>\n",
       "      <th>age_diff</th>\n",
       "      <th>count_total</th>\n",
       "      <th>count_separated</th>\n",
       "      <th>percent</th>\n",
       "    </tr>\n",
       "  </thead>\n",
       "  <tbody>\n",
       "    <tr>\n",
       "      <td>0</td>\n",
       "      <td>0</td>\n",
       "      <td>135848</td>\n",
       "      <td>29135</td>\n",
       "      <td>21.446764</td>\n",
       "    </tr>\n",
       "    <tr>\n",
       "      <td>1</td>\n",
       "      <td>1</td>\n",
       "      <td>124880</td>\n",
       "      <td>23766</td>\n",
       "      <td>19.031070</td>\n",
       "    </tr>\n",
       "    <tr>\n",
       "      <td>2</td>\n",
       "      <td>2</td>\n",
       "      <td>100839</td>\n",
       "      <td>19141</td>\n",
       "      <td>18.981743</td>\n",
       "    </tr>\n",
       "    <tr>\n",
       "      <td>3</td>\n",
       "      <td>3</td>\n",
       "      <td>78462</td>\n",
       "      <td>14873</td>\n",
       "      <td>18.955673</td>\n",
       "    </tr>\n",
       "    <tr>\n",
       "      <td>4</td>\n",
       "      <td>4</td>\n",
       "      <td>62360</td>\n",
       "      <td>11827</td>\n",
       "      <td>18.965683</td>\n",
       "    </tr>\n",
       "    <tr>\n",
       "      <td>5</td>\n",
       "      <td>5</td>\n",
       "      <td>51140</td>\n",
       "      <td>9895</td>\n",
       "      <td>19.348846</td>\n",
       "    </tr>\n",
       "    <tr>\n",
       "      <td>6</td>\n",
       "      <td>6</td>\n",
       "      <td>41679</td>\n",
       "      <td>8272</td>\n",
       "      <td>19.846925</td>\n",
       "    </tr>\n",
       "    <tr>\n",
       "      <td>7</td>\n",
       "      <td>7</td>\n",
       "      <td>35307</td>\n",
       "      <td>7215</td>\n",
       "      <td>20.435041</td>\n",
       "    </tr>\n",
       "    <tr>\n",
       "      <td>8</td>\n",
       "      <td>8</td>\n",
       "      <td>29197</td>\n",
       "      <td>6097</td>\n",
       "      <td>20.882282</td>\n",
       "    </tr>\n",
       "    <tr>\n",
       "      <td>9</td>\n",
       "      <td>9</td>\n",
       "      <td>25141</td>\n",
       "      <td>5445</td>\n",
       "      <td>21.657850</td>\n",
       "    </tr>\n",
       "    <tr>\n",
       "      <td>10</td>\n",
       "      <td>10</td>\n",
       "      <td>22064</td>\n",
       "      <td>4901</td>\n",
       "      <td>22.212654</td>\n",
       "    </tr>\n",
       "    <tr>\n",
       "      <td>11</td>\n",
       "      <td>11</td>\n",
       "      <td>18242</td>\n",
       "      <td>4060</td>\n",
       "      <td>22.256332</td>\n",
       "    </tr>\n",
       "    <tr>\n",
       "      <td>12</td>\n",
       "      <td>12</td>\n",
       "      <td>16039</td>\n",
       "      <td>3805</td>\n",
       "      <td>23.723424</td>\n",
       "    </tr>\n",
       "    <tr>\n",
       "      <td>13</td>\n",
       "      <td>13</td>\n",
       "      <td>14015</td>\n",
       "      <td>3203</td>\n",
       "      <td>22.854085</td>\n",
       "    </tr>\n",
       "    <tr>\n",
       "      <td>14</td>\n",
       "      <td>14</td>\n",
       "      <td>12779</td>\n",
       "      <td>3151</td>\n",
       "      <td>24.657641</td>\n",
       "    </tr>\n",
       "    <tr>\n",
       "      <td>15</td>\n",
       "      <td>15</td>\n",
       "      <td>11666</td>\n",
       "      <td>2854</td>\n",
       "      <td>24.464255</td>\n",
       "    </tr>\n",
       "  </tbody>\n",
       "</table>\n",
       "</div>"
      ],
      "text/plain": [
       "    age_diff  count_total  count_separated    percent\n",
       "0          0       135848            29135  21.446764\n",
       "1          1       124880            23766  19.031070\n",
       "2          2       100839            19141  18.981743\n",
       "3          3        78462            14873  18.955673\n",
       "4          4        62360            11827  18.965683\n",
       "5          5        51140             9895  19.348846\n",
       "6          6        41679             8272  19.846925\n",
       "7          7        35307             7215  20.435041\n",
       "8          8        29197             6097  20.882282\n",
       "9          9        25141             5445  21.657850\n",
       "10        10        22064             4901  22.212654\n",
       "11        11        18242             4060  22.256332\n",
       "12        12        16039             3805  23.723424\n",
       "13        13        14015             3203  22.854085\n",
       "14        14        12779             3151  24.657641\n",
       "15        15        11666             2854  24.464255"
      ]
     },
     "execution_count": 51,
     "metadata": {},
     "output_type": "execute_result"
    }
   ],
   "source": [
    "age_diff_separation_stats"
   ]
  },
  {
   "cell_type": "code",
   "execution_count": 52,
   "metadata": {},
   "outputs": [],
   "source": [
    "age_diff_separation_stats.to_csv(stat_file_path + \"age_diff_separation_stats.csv\", sep='\\t', header=[\"age_diff\", \"counts_of_that_age_diff\", \"separated_count\", \"separated_percentage\"])"
   ]
  },
  {
   "cell_type": "code",
   "execution_count": 53,
   "metadata": {},
   "outputs": [
    {
     "data": {
      "text/plain": [
       "'stats/newyork_20121231_20160511/'"
      ]
     },
     "execution_count": 53,
     "metadata": {},
     "output_type": "execute_result"
    }
   ],
   "source": [
    "stat_file_path"
   ]
  },
  {
   "cell_type": "code",
   "execution_count": 54,
   "metadata": {},
   "outputs": [
    {
     "data": {
      "image/png": "[encoded data removed]",
      "text/plain": [
       "<Figure size 432x288 with 1 Axes>"
      ]
     },
     "metadata": {
      "needs_background": "light"
     },
     "output_type": "display_data"
    }
   ],
   "source": [
    "ax = sns.barplot(x=\"age_diff\", y=\"percent\", data=age_diff_separation_stats, )\n",
    "ax.set(xlabel='age difference between couples', ylabel='couples separation percent')\n",
    "plt.savefig(\"plots/\" + image_file_prefix + \"/\" + image_file_prefix + \"_age_diff_separation_percentages\")"
   ]
  },
  {
   "cell_type": "code",
   "execution_count": 55,
   "metadata": {},
   "outputs": [
    {
     "data": {
      "text/plain": [
       "last_name_L                 object\n",
       "first_name_L                object\n",
       "house_number_L              object\n",
       "residence_apartment_L       object\n",
       "residence_street_name_L     object\n",
       "residence_city_L            object\n",
       "residence_zip_code_5_L     float64\n",
       "dob_L                        int64\n",
       "gender_L                    object\n",
       "political_party_L           object\n",
       "county_code_L                int64\n",
       "voter_status_codes_L        object\n",
       "unique_nys_voter_id_L       object\n",
       "age_L                        int64\n",
       "uniq_addr                   object\n",
       "last_name_R                 object\n",
       "first_name_R                object\n",
       "house_number_R              object\n",
       "residence_apartment_R       object\n",
       "residence_street_name_R     object\n",
       "residence_city_R            object\n",
       "residence_zip_code_5_R     float64\n",
       "dob_R                        int64\n",
       "gender_R                    object\n",
       "political_party_R           object\n",
       "county_code_R                int64\n",
       "voter_status_codes_R        object\n",
       "unique_nys_voter_id_R       object\n",
       "age_R                        int64\n",
       "age_diff                     int64\n",
       "uniq_addr_L                 object\n",
       "uniq_addr_R                 object\n",
       "separated                     bool\n",
       "dtype: object"
      ]
     },
     "execution_count": 55,
     "metadata": {},
     "output_type": "execute_result"
    }
   ],
   "source": [
    "couples_df_found.dtypes"
   ]
  }
 ],
 "metadata": {
  "kernelspec": {
   "display_name": "Python 3",
   "language": "python",
   "name": "python3"
  },
  "language_info": {
   "codemirror_mode": {
    "name": "ipython",
    "version": 3
   },
   "file_extension": ".py",
   "mimetype": "text/x-python",
   "name": "python",
   "nbconvert_exporter": "python",
   "pygments_lexer": "ipython3",
   "version": "3.7.4"
  }
 },
 "nbformat": 4,
 "nbformat_minor": 4
}
